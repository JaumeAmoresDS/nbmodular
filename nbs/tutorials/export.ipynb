{
 "cells": [
  {
   "cell_type": "code",
   "execution_count": 1,
   "metadata": {},
   "outputs": [
    {
     "name": "stdout",
     "output_type": "stream",
     "text": [
      "/home/jaumeamllo/workspace/mine/nbmodular\n"
     ]
    }
   ],
   "source": [
    "cd ../.."
   ]
  },
  {
   "cell_type": "code",
   "execution_count": 2,
   "metadata": {},
   "outputs": [
    {
     "name": "stderr",
     "output_type": "stream",
     "text": [
      "/home/jaumeamllo/workspace/mine/nbmodular/nbmodular/core/cell2func.py:855: UserWarning: Name of notebook could not be automatically detected. We will be using `temporary.py` as the name of the python module where the code from the current notebook will be exported to. In order to change this name, run the magic command %set file_name \"<name_of_python_module>.py\".\n",
      "  warnings.warn (warning_message)\n"
     ]
    }
   ],
   "source": [
    "%load_ext nbmodular.core.cell2func"
   ]
  },
  {
   "cell_type": "code",
   "execution_count": 3,
   "metadata": {},
   "outputs": [
    {
     "data": {
      "text/plain": [
       "<module 'nbmodular.sync.export' from '/home/jaumeamllo/workspace/mine/nbmodular/nbmodular/sync/export.py'>"
      ]
     },
     "execution_count": 3,
     "metadata": {},
     "output_type": "execute_result"
    }
   ],
   "source": [
    "from nbmodular.sync import export as ex\n",
    "from importlib import reload\n",
    "reload(ex)"
   ]
  },
  {
   "cell_type": "code",
   "execution_count": 4,
   "metadata": {},
   "outputs": [
    {
     "name": "stdout",
     "output_type": "stream",
     "text": [
      "add1, 0, is test: False\n",
      "code:\n",
      "def add1(x, summand=1):\n",
      "    y = x + summand\n",
      "    print (f'when adding {summand}, the result is {y}')\n",
      "    return y, summand\n",
      " valid:  True\n",
      "add2, 0, is test: False\n",
      "code:\n",
      "def add2(y, new_summand):\n",
      "    z3 = y + new_summand\n",
      "    print (f'when adding {new_summand}, the result is {z3}')\n",
      "    return z3\n",
      " valid:  True\n",
      "add1, 1, is test: False\n",
      "%%function \n",
      "def add1 (x, summand=1):\n",
      "    y = x + summand\n",
      "    print (f'when adding {summand}, the result is {y}')\n",
      "    return y, summand\n",
      "def add1(x, summand=1):\n",
      "    y = x + summand\n",
      "    print (f'when adding {summand}, the result is {y}')\n",
      "    return y, summand\n",
      "\n"
     ]
    },
    {
     "ename": "RuntimeError",
     "evalue": "Function add1 has 1 cells, which is lower than index 1.",
     "output_type": "error",
     "traceback": [
      "\u001b[0;31m---------------------------------------------------------------------------\u001b[0m",
      "\u001b[0;31mRuntimeError\u001b[0m                              Traceback (most recent call last)",
      "\u001b[1;32m/home/jaumeamllo/workspace/mine/nbmodular/nbs/tutorials/export.ipynb Cell 4\u001b[0m line \u001b[0;36m1\n\u001b[0;32m----> <a href='vscode-notebook-cell://wsl%2Bubuntu/home/jaumeamllo/workspace/mine/nbmodular/nbs/tutorials/export.ipynb#W2sdnNjb2RlLXJlbW90ZQ%3D%3D?line=0'>1</a>\u001b[0m ex\u001b[39m.\u001b[39;49mprocess_notebook (\n\u001b[1;32m      <a href='vscode-notebook-cell://wsl%2Bubuntu/home/jaumeamllo/workspace/mine/nbmodular/nbs/tutorials/export.ipynb#W2sdnNjb2RlLXJlbW90ZQ%3D%3D?line=1'>2</a>\u001b[0m     \u001b[39m'\u001b[39;49m\u001b[39mnbs/test_nbs/test_export.ipynb\u001b[39;49m\u001b[39m'\u001b[39;49m,\n\u001b[1;32m      <a href='vscode-notebook-cell://wsl%2Bubuntu/home/jaumeamllo/workspace/mine/nbmodular/nbs/tutorials/export.ipynb#W2sdnNjb2RlLXJlbW90ZQ%3D%3D?line=2'>3</a>\u001b[0m     code_cells_file_name\u001b[39m=\u001b[39;49m\u001b[39m'\u001b[39;49m\u001b[39mtemporary\u001b[39;49m\u001b[39m'\u001b[39;49m, \u001b[39m# without extension\u001b[39;49;00m\n\u001b[1;32m      <a href='vscode-notebook-cell://wsl%2Bubuntu/home/jaumeamllo/workspace/mine/nbmodular/nbs/tutorials/export.ipynb#W2sdnNjb2RlLXJlbW90ZQ%3D%3D?line=3'>4</a>\u001b[0m )\n",
      "File \u001b[0;32m~/workspace/mine/nbmodular/nbmodular/sync/export.py:131\u001b[0m, in \u001b[0;36mprocess_notebook\u001b[0;34m(nb_path, **kwargs)\u001b[0m\n\u001b[1;32m    123\u001b[0m \u001b[39mdef\u001b[39;00m \u001b[39mprocess_notebook\u001b[39m (\n\u001b[1;32m    124\u001b[0m     nb_path,\n\u001b[1;32m    125\u001b[0m     \u001b[39m*\u001b[39m\u001b[39m*\u001b[39mkwargs\n\u001b[1;32m    126\u001b[0m ):\n\u001b[1;32m    127\u001b[0m     function_processor \u001b[39m=\u001b[39m FunctionNBProcessor (\n\u001b[1;32m    128\u001b[0m         nb_path,\n\u001b[1;32m    129\u001b[0m         \u001b[39m*\u001b[39m\u001b[39m*\u001b[39mkwargs,\n\u001b[1;32m    130\u001b[0m     )\n\u001b[0;32m--> 131\u001b[0m     NBProcessor (nb_path, function_processor, rm_directives\u001b[39m=\u001b[39;49m\u001b[39mFalse\u001b[39;49;00m)\u001b[39m.\u001b[39;49mprocess()\n",
      "File \u001b[0;32m~/workspace/others/nbdev/nbdev/process.py:127\u001b[0m, in \u001b[0;36mNBProcessor.process\u001b[0;34m(self)\u001b[0m\n\u001b[1;32m    125\u001b[0m \u001b[39mdef\u001b[39;00m \u001b[39mprocess\u001b[39m(\u001b[39mself\u001b[39m):\n\u001b[1;32m    126\u001b[0m     \u001b[39m\"\u001b[39m\u001b[39mProcess all cells with all processors\u001b[39m\u001b[39m\"\u001b[39m\n\u001b[0;32m--> 127\u001b[0m     \u001b[39mfor\u001b[39;00m proc \u001b[39min\u001b[39;00m \u001b[39mself\u001b[39m\u001b[39m.\u001b[39mprocs: \u001b[39mself\u001b[39;49m\u001b[39m.\u001b[39;49m_proc(proc)\n",
      "File \u001b[0;32m~/workspace/others/nbdev/nbdev/process.py:120\u001b[0m, in \u001b[0;36mNBProcessor._proc\u001b[0;34m(self, proc)\u001b[0m\n\u001b[1;32m    118\u001b[0m \u001b[39mdef\u001b[39;00m \u001b[39m_proc\u001b[39m(\u001b[39mself\u001b[39m, proc):\n\u001b[1;32m    119\u001b[0m     \u001b[39mif\u001b[39;00m \u001b[39mhasattr\u001b[39m(proc,\u001b[39m'\u001b[39m\u001b[39mbegin\u001b[39m\u001b[39m'\u001b[39m): proc\u001b[39m.\u001b[39mbegin()\n\u001b[0;32m--> 120\u001b[0m     \u001b[39mfor\u001b[39;00m cell \u001b[39min\u001b[39;00m \u001b[39mself\u001b[39m\u001b[39m.\u001b[39mnb\u001b[39m.\u001b[39mcells: \u001b[39mself\u001b[39;49m\u001b[39m.\u001b[39;49m_process_cell(proc, cell)\n\u001b[1;32m    121\u001b[0m     \u001b[39mif\u001b[39;00m \u001b[39mhasattr\u001b[39m(proc,\u001b[39m'\u001b[39m\u001b[39mend\u001b[39m\u001b[39m'\u001b[39m): proc\u001b[39m.\u001b[39mend()\n\u001b[1;32m    122\u001b[0m     \u001b[39mself\u001b[39m\u001b[39m.\u001b[39mnb\u001b[39m.\u001b[39mcells \u001b[39m=\u001b[39m [c \u001b[39mfor\u001b[39;00m c \u001b[39min\u001b[39;00m \u001b[39mself\u001b[39m\u001b[39m.\u001b[39mnb\u001b[39m.\u001b[39mcells \u001b[39mif\u001b[39;00m c \u001b[39mand\u001b[39;00m \u001b[39mgetattr\u001b[39m(c,\u001b[39m'\u001b[39m\u001b[39msource\u001b[39m\u001b[39m'\u001b[39m,\u001b[39mNone\u001b[39;00m) \u001b[39mis\u001b[39;00m \u001b[39mnot\u001b[39;00m \u001b[39mNone\u001b[39;00m]\n",
      "File \u001b[0;32m~/workspace/others/nbdev/nbdev/process.py:111\u001b[0m, in \u001b[0;36mNBProcessor._process_cell\u001b[0;34m(self, proc, cell)\u001b[0m\n\u001b[1;32m    109\u001b[0m         f \u001b[39m=\u001b[39m \u001b[39mgetattr\u001b[39m(proc, \u001b[39mf\u001b[39m\u001b[39m'\u001b[39m\u001b[39m_\u001b[39m\u001b[39m{\u001b[39;00mcmd\u001b[39m}\u001b[39;00m\u001b[39m_\u001b[39m\u001b[39m'\u001b[39m, \u001b[39mNone\u001b[39;00m)\n\u001b[1;32m    110\u001b[0m         \u001b[39mif\u001b[39;00m f: \u001b[39mself\u001b[39m\u001b[39m.\u001b[39m_process_comment(f, cell, cmd)\n\u001b[0;32m--> 111\u001b[0m \u001b[39mif\u001b[39;00m callable(proc) \u001b[39mand\u001b[39;00m \u001b[39mnot\u001b[39;00m _is_direc(proc): cell \u001b[39m=\u001b[39m opt_set(cell, proc(cell))\n",
      "File \u001b[0;32m~/workspace/others/nbdev/nbdev/process.py:134\u001b[0m, in \u001b[0;36mProcessor.__call__\u001b[0;34m(self, cell)\u001b[0m\n\u001b[0;32m--> 134\u001b[0m \u001b[39mdef\u001b[39;00m \u001b[39m__call__\u001b[39m(\u001b[39mself\u001b[39m, cell): \u001b[39mreturn\u001b[39;00m \u001b[39mself\u001b[39;49m\u001b[39m.\u001b[39;49mcell(cell)\n",
      "File \u001b[0;32m~/workspace/mine/nbmodular/nbmodular/sync/export.py:96\u001b[0m, in \u001b[0;36mFunctionNBProcessor.cell\u001b[0;34m(self, cell)\u001b[0m\n\u001b[1;32m     94\u001b[0m code_cells \u001b[39m=\u001b[39m code_cells[function_name]\n\u001b[1;32m     95\u001b[0m \u001b[39mif\u001b[39;00m \u001b[39mlen\u001b[39m (code_cells) \u001b[39m<\u001b[39m\u001b[39m=\u001b[39m idx:\n\u001b[0;32m---> 96\u001b[0m     \u001b[39mraise\u001b[39;00m \u001b[39mRuntimeError\u001b[39;00m (\u001b[39mf\u001b[39m\u001b[39m'\u001b[39m\u001b[39mFunction \u001b[39m\u001b[39m{\u001b[39;00mfunction_name\u001b[39m}\u001b[39;00m\u001b[39m has \u001b[39m\u001b[39m{\u001b[39;00m\u001b[39mlen\u001b[39m(code_cells)\u001b[39m}\u001b[39;00m\u001b[39m cells, which is lower than index \u001b[39m\u001b[39m{\u001b[39;00midx\u001b[39m}\u001b[39;00m\u001b[39m.\u001b[39m\u001b[39m'\u001b[39m)\n\u001b[1;32m     97\u001b[0m code_cell \u001b[39m=\u001b[39m code_cells[idx]\n\u001b[1;32m     98\u001b[0m \u001b[39mprint\u001b[39m (\u001b[39m'\u001b[39m\u001b[39mcode:\u001b[39m\u001b[39m'\u001b[39m)\n",
      "\u001b[0;31mRuntimeError\u001b[0m: Function add1 has 1 cells, which is lower than index 1."
     ]
    }
   ],
   "source": [
    "ex.process_notebook (\n",
    "    'nbs/test_nbs/test_export.ipynb',\n",
    "    code_cells_file_name='temporary', # without extension\n",
    ")"
   ]
  },
  {
   "cell_type": "code",
   "execution_count": null,
   "metadata": {},
   "outputs": [],
   "source": []
  }
 ],
 "metadata": {
  "kernelspec": {
   "display_name": "tsforecast",
   "language": "python",
   "name": "python3"
  },
  "language_info": {
   "codemirror_mode": {
    "name": "ipython",
    "version": 3
   },
   "file_extension": ".py",
   "mimetype": "text/x-python",
   "name": "python",
   "nbconvert_exporter": "python",
   "pygments_lexer": "ipython3",
   "version": "3.10.9"
  }
 },
 "nbformat": 4,
 "nbformat_minor": 2
}
