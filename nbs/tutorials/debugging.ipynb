{
 "cells": [
  {
   "cell_type": "markdown",
   "id": "07a314ba-fe1f-4946-aa0d-c002e2c25e29",
   "metadata": {},
   "source": [
    "# Debugging"
   ]
  },
  {
   "cell_type": "code",
   "execution_count": null,
   "id": "665c7501-fe55-4a50-8585-3ca0e4b7eff8",
   "metadata": {},
   "outputs": [],
   "source": [
    "%load_ext nbmodular.core.cell2func"
   ]
  },
  {
   "cell_type": "markdown",
   "id": "2bde8ddf-a1ad-48fb-bff0-6779b6b6d55b",
   "metadata": {},
   "source": [
    "## Example of history call"
   ]
  },
  {
   "cell_type": "code",
   "execution_count": null,
   "id": "4f61967a-a6fe-49e0-be3f-91d8846171d7",
   "metadata": {},
   "outputs": [],
   "source": [
    "%%function first_data --test --data\n",
    "a = 1"
   ]
  },
  {
   "cell_type": "code",
   "execution_count": null,
   "id": "256529e5-fd9f-4ec6-84bb-f0e0cdf0f508",
   "metadata": {},
   "outputs": [],
   "source": [
    "%%function second_data --test --data\n",
    "b = 2"
   ]
  },
  {
   "cell_type": "code",
   "execution_count": null,
   "id": "cfce40c8-7b6e-4214-b53d-7c56d152a007",
   "metadata": {},
   "outputs": [],
   "source": [
    "%%function first_test --test\n",
    "assert a+b == 3"
   ]
  },
  {
   "cell_type": "markdown",
   "id": "d4643361-42d4-4a8f-bebb-ad4bb3eb21d7",
   "metadata": {},
   "source": [
    "## How to debug last call"
   ]
  },
  {
   "cell_type": "markdown",
   "id": "7af2c5ed-63ba-40f0-b3d6-49c3fb8df2d4",
   "metadata": {},
   "source": [
    "Get underlying CellProcessor object"
   ]
  },
  {
   "cell_type": "code",
   "execution_count": null,
   "id": "0f02b31a-eff3-436e-b087-82b86d19fcc6",
   "metadata": {},
   "outputs": [],
   "source": [
    "c = %cell_processor"
   ]
  },
  {
   "cell_type": "markdown",
   "id": "6a0899de-ebbf-441a-a3e5-d45af0d3f8e8",
   "metadata": {},
   "source": [
    "If we already called the magic `function`, we can get access to the call history as follows:"
   ]
  },
  {
   "cell_type": "code",
   "execution_count": null,
   "id": "8ade23fc-40cf-4cfa-aa4d-c4cc0def9727",
   "metadata": {},
   "outputs": [
    {
     "data": {
      "text/plain": [
       "[('first_data --test --data', 'a = 1\\n'),\n",
       " ('second_data --test --data', 'b = 2\\n'),\n",
       " ('first_test --test', 'assert a+b == 3\\n')]"
      ]
     },
     "execution_count": null,
     "metadata": {},
     "output_type": "execute_result"
    }
   ],
   "source": [
    "c.call_history"
   ]
  },
  {
   "cell_type": "markdown",
   "id": "70c12c0d-b2d9-42a1-80cc-757ab90c6838",
   "metadata": {},
   "source": [
    "We need to reset the cell_processor to erase local variables:"
   ]
  },
  {
   "cell_type": "code",
   "execution_count": null,
   "id": "759b38c6-0c1b-41e5-bfd2-2966183a1b32",
   "metadata": {},
   "outputs": [],
   "source": [
    "c.reset()"
   ]
  },
  {
   "cell_type": "markdown",
   "id": "5ad9f8cd-8680-4160-87fb-5b0eed7c4867",
   "metadata": {},
   "source": [
    "If we don't have called the magic `function` before, we won't have a call history, but we just can  indicate it."
   ]
  },
  {
   "cell_type": "code",
   "execution_count": null,
   "id": "43d305a5-cf28-49e0-bde8-bae3dc0df641",
   "metadata": {},
   "outputs": [],
   "source": [
    "c.call_history = [('first_data --test --data', 'a = 1\\n'),\n",
    " ('second_data --test --data', 'b = 2\\n'),\n",
    " ('first_test --test', 'assert a+b == 3\\n')]"
   ]
  },
  {
   "cell_type": "markdown",
   "id": "bf8832b3-8d0d-495d-ab3b-efbdaf098faf",
   "metadata": {},
   "source": [
    "Now we simulate the calls until the point that we want to debug:"
   ]
  },
  {
   "cell_type": "code",
   "execution_count": null,
   "id": "8279588c-9acb-4371-bc44-052d5a865547",
   "metadata": {},
   "outputs": [],
   "source": [
    "for call in c.call_history[:2]:\n",
    "    c.process_function_call (*call, add_call=False)"
   ]
  },
  {
   "cell_type": "markdown",
   "id": "1f871fb4-779b-4a45-83ac-805903a2afc6",
   "metadata": {},
   "source": [
    "We import the ipdb debugger and make the call that we want to debug. In this example, this call is  the one in position 2 in the `call_history`"
   ]
  },
  {
   "cell_type": "code",
   "execution_count": null,
   "id": "f3ee7f97-c2ed-4450-969e-3ac6e7c86250",
   "metadata": {},
   "outputs": [],
   "source": [
    "import ipdb"
   ]
  },
  {
   "cell_type": "code",
   "execution_count": null,
   "id": "fc57ab47-a4cf-47bb-a4d9-faab3dc14307",
   "metadata": {},
   "outputs": [
    {
     "name": "stdout",
     "output_type": "stream",
     "text": [
      "> \u001b[0;32m/home/jaumeamllo/workspace/mine/nbmodular/nbmodular/core/cell2func.py\u001b[0m(316)\u001b[0;36mprocess_function_call\u001b[0;34m()\u001b[0m\n",
      "\u001b[0;32m    315 \u001b[0;31m    \u001b[0;32mdef\u001b[0m \u001b[0mprocess_function_call\u001b[0m \u001b[0;34m(\u001b[0m\u001b[0mself\u001b[0m\u001b[0;34m,\u001b[0m \u001b[0mline\u001b[0m\u001b[0;34m,\u001b[0m \u001b[0mcell\u001b[0m\u001b[0;34m,\u001b[0m \u001b[0madd_call\u001b[0m\u001b[0;34m=\u001b[0m\u001b[0;32mTrue\u001b[0m\u001b[0;34m)\u001b[0m\u001b[0;34m:\u001b[0m\u001b[0;34m\u001b[0m\u001b[0;34m\u001b[0m\u001b[0m\n",
      "\u001b[0m\u001b[0;32m--> 316 \u001b[0;31m        \u001b[0mcall\u001b[0m \u001b[0;34m=\u001b[0m \u001b[0;34m(\u001b[0m\u001b[0mline\u001b[0m\u001b[0;34m,\u001b[0m \u001b[0mcell\u001b[0m\u001b[0;34m)\u001b[0m\u001b[0;34m\u001b[0m\u001b[0;34m\u001b[0m\u001b[0m\n",
      "\u001b[0m\u001b[0;32m    317 \u001b[0;31m        \u001b[0;32mif\u001b[0m \u001b[0madd_call\u001b[0m\u001b[0;34m:\u001b[0m\u001b[0;34m\u001b[0m\u001b[0;34m\u001b[0m\u001b[0m\n",
      "\u001b[0m\n"
     ]
    },
    {
     "name": "stdin",
     "output_type": "stream",
     "text": [
      "ipdb>  q\n"
     ]
    }
   ],
   "source": [
    "ipdb.runcall (c.process_function_call, *c.call_history[2], add_call=False)"
   ]
  }
 ],
 "metadata": {
  "kernelspec": {
   "display_name": "tsforecast",
   "language": "python",
   "name": "tsforecast"
  }
 },
 "nbformat": 4,
 "nbformat_minor": 5
}
