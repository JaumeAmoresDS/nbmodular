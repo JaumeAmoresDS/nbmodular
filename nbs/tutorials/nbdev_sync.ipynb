{
 "cells": [
  {
   "cell_type": "code",
   "execution_count": null,
   "id": "d872124d-0059-49a4-88ed-730ad627b85b",
   "metadata": {},
   "outputs": [],
   "source": [
    "#| hide\n",
    "import os\n",
    "import joblib\n",
    "import warnings\n",
    "from execnb.nbio import read_nb, write_nb, new_nb, mk_cell\n",
    "from nbdev.process import NBProcessor, Processor"
   ]
  },
  {
   "cell_type": "markdown",
   "id": "2d540894-e097-420a-a9a9-828c14fda549",
   "metadata": {},
   "source": [
    "# Syncing through nbdev\n",
    "\n",
    "> Showcasing the syncing capability"
   ]
  },
  {
   "cell_type": "code",
   "execution_count": null,
   "id": "f4d22799-0ce0-407a-b43a-dd3e8f2e0ee3",
   "metadata": {},
   "outputs": [],
   "source": [
    "%load_ext nbmodular.core.cell2func"
   ]
  },
  {
   "cell_type": "markdown",
   "id": "94b4a38d-2a25-49b6-a29f-46e52eb6575f",
   "metadata": {},
   "source": [
    "## simple case: each function is written in a single cell"
   ]
  },
  {
   "cell_type": "markdown",
   "id": "8d77cd8f-9d78-46fa-a58e-638e6926569c",
   "metadata": {},
   "source": [
    "This is markdown"
   ]
  },
  {
   "cell_type": "code",
   "execution_count": null,
   "id": "e7e12b4a-e9ab-48fe-ab23-2a6f921fc9d9",
   "metadata": {},
   "outputs": [
    {
     "name": "stdout",
     "output_type": "stream",
     "text": [
      "a 3\n",
      "Stored the following local variables in the first_function current_values dictionary: ['a']\n"
     ]
    }
   ],
   "source": [
    "%%function first_function\n",
    "a = 3 \n",
    "print ('a', a)"
   ]
  },
  {
   "cell_type": "code",
   "execution_count": null,
   "id": "14187705-6335-43af-9b05-f81d65784afc",
   "metadata": {},
   "outputs": [
    {
     "name": "stdout",
     "output_type": "stream",
     "text": [
      "outside 3\n"
     ]
    }
   ],
   "source": [
    "# normal code cell\n",
    "print ('outside', a)"
   ]
  },
  {
   "cell_type": "code",
   "execution_count": null,
   "id": "7a04b700-0ea1-4ad2-b7ab-3fc132aeaa8b",
   "metadata": {},
   "outputs": [
    {
     "name": "stdout",
     "output_type": "stream",
     "text": [
      "3 4 7\n",
      "Stored the following local variables in the second_function current_values dictionary: ['b', 'c']\n"
     ]
    }
   ],
   "source": [
    "%%function second_function\n",
    "b = 4\n",
    "c = a+b\n",
    "print (a, b, c)"
   ]
  },
  {
   "cell_type": "code",
   "execution_count": null,
   "id": "aa7c141d-186e-498b-ae9b-1d48d569539d",
   "metadata": {},
   "outputs": [],
   "source": [
    "cell_processor = %cell_processor"
   ]
  },
  {
   "cell_type": "code",
   "execution_count": null,
   "id": "d05a11eb-ae30-4768-a32e-4ad765cfabd7",
   "metadata": {},
   "outputs": [
    {
     "data": {
      "text/plain": [
       "['first_function', 'second_function']"
      ]
     },
     "execution_count": null,
     "metadata": {},
     "output_type": "execute_result"
    }
   ],
   "source": [
    "[function['name'] for function in cell_processor.cell_nodes]"
   ]
  },
  {
   "cell_type": "code",
   "execution_count": null,
   "id": "7464c040-df26-465b-bb56-e98dcca5cd54",
   "metadata": {},
   "outputs": [
    {
     "name": "stdout",
     "output_type": "stream",
     "text": [
      "last cell: 3 4 7\n"
     ]
    }
   ],
   "source": [
    "print ('last cell:', a, b, c)"
   ]
  },
  {
   "cell_type": "code",
   "execution_count": null,
   "id": "e1d44e3e-ef79-47dc-98ea-80dd7debb8a2",
   "metadata": {},
   "outputs": [
    {
     "name": "stdout",
     "output_type": "stream",
     "text": [
      "import os\n",
      "import joblib\n",
      "import warnings\n",
      "from execnb.nbio import read_nb, write_nb, new_nb, mk_cell\n",
      "from nbdev.process import NBProcessor, Processor\n",
      "# Syncing through nbdev\n",
      "\n",
      "> Showcasing the syncing capability\n",
      "%load_ext nbmodular.core.cell2func\n",
      "## simple case: each function is written in a single cell\n",
      "This is markdown\n",
      "\n",
      "**********************************************************************\n",
      "#| export\n",
      "def first_function():\n",
      "    a = 3 \n",
      "    print ('a', a)\n",
      "    return a\n",
      "\n",
      "**********************************************************************\n",
      "\n",
      "# normal code cell\n",
      "print ('outside', a)\n",
      "\n",
      "**********************************************************************\n",
      "#| export\n",
      "def second_function():\n",
      "    b = 4\n",
      "    c = a+b\n",
      "    print (a, b, c)\n",
      "    return b,c\n",
      "\n",
      "**********************************************************************\n",
      "\n",
      "cell_processor = %cell_processor\n",
      "[function['name'] for function in cell_processor.cell_nodes]\n",
      "print ('last cell:', a, b, c)\n",
      "class FunctionNBProcessor(Processor):\n",
      "    def __init__ (self, function_cells):\n",
      "        self.function_cells = function_cells\n",
      "        self.function_idx = 0\n",
      "    \n",
      "    def cell(self, cell):\n",
      "        cell_lines = cell.source.splitlines()\n",
      "        if len(cell_lines) > 0 and '%%function' in cell_lines[0]:\n",
      "            if self.function_idx < len(self.function_cells):\n",
      "                print ('\\n**********************************************************************')\n",
      "                print ('#| export')\n",
      "                print (self.function_cells[self.function_idx]['code'])\n",
      "                self.function_idx += 1\n",
      "                print ('**********************************************************************\\n')\n",
      "        else:\n",
      "            print (cell.source)\n",
      "\n",
      "            \n",
      "function_processor = FunctionNBProcessor (cell_processor.cell_nodes)\n",
      "NBProcessor ('./nbdev_sync.ipynb', function_processor).process()\n",
      "## second case: functions are split into different cells\n",
      "%print myf\n",
      "myf_info.original_cell\n",
      "%print myf\n",
      "%print myf\n",
      "myf_info.original_cell\n",
      "function_processor = FunctionProcessor (cell_processor.cell_nodes)\n",
      "NBProcessor ('./nbdev_sync.ipynb', function_processor).process()\n",
      "#%debug\n",
      "## end\n"
     ]
    }
   ],
   "source": [
    "class FunctionNBProcessor(Processor):\n",
    "    def __init__ (self, function_cells):\n",
    "        self.function_cells = function_cells\n",
    "        self.function_idx = 0\n",
    "    \n",
    "    def cell(self, cell):\n",
    "        cell_lines = cell.source.splitlines()\n",
    "        if len(cell_lines) > 0 and '%%function' in cell_lines[0]:\n",
    "            if self.function_idx < len(self.function_cells):\n",
    "                print ('\\n**********************************************************************')\n",
    "                print ('#| export')\n",
    "                print (self.function_cells[self.function_idx]['code'])\n",
    "                self.function_idx += 1\n",
    "                print ('**********************************************************************\\n')\n",
    "        else:\n",
    "            print (cell.source)\n",
    "\n",
    "            \n",
    "function_processor = FunctionNBProcessor (cell_processor.cell_nodes)\n",
    "NBProcessor ('./nbdev_sync.ipynb', function_processor).process()"
   ]
  },
  {
   "cell_type": "markdown",
   "id": "0bae2d40-f0d4-47f9-9c1c-5b577e389b12",
   "metadata": {},
   "source": [
    "## second case: functions are split into different cells"
   ]
  },
  {
   "cell_type": "code",
   "execution_count": null,
   "id": "55bdb080-b042-4852-853e-0ca02e973084",
   "metadata": {},
   "outputs": [
    {
     "name": "stdout",
     "output_type": "stream",
     "text": [
      "hello\n",
      "Stored the following local variables in the myf current_values dictionary: ['a']\n"
     ]
    }
   ],
   "source": [
    "%%function myf\n",
    "print ('hello')\n",
    "a = 3"
   ]
  },
  {
   "cell_type": "code",
   "execution_count": null,
   "id": "9d318f81-272e-40ce-b29c-5bc4fff353b7",
   "metadata": {},
   "outputs": [
    {
     "name": "stdout",
     "output_type": "stream",
     "text": [
      "def myf():\n",
      "    print ('hello')\n",
      "    a = 3\n",
      "    return a\n",
      "\n"
     ]
    }
   ],
   "source": [
    "%print myf"
   ]
  },
  {
   "cell_type": "code",
   "execution_count": null,
   "id": "21bdc6ec-c111-4b6f-a120-8940b756d585",
   "metadata": {},
   "outputs": [
    {
     "data": {
      "text/plain": [
       "\"print ('hello')\\na = 3\\n\""
      ]
     },
     "execution_count": null,
     "metadata": {},
     "output_type": "execute_result"
    }
   ],
   "source": [
    "myf_info.original_cell"
   ]
  },
  {
   "cell_type": "code",
   "execution_count": null,
   "id": "cd315947-d874-4833-8eba-93f571a961f4",
   "metadata": {},
   "outputs": [
    {
     "name": "stdout",
     "output_type": "stream",
     "text": [
      "Stored the following local variables in the myf current_values dictionary: ['b']\n",
      "hello\n",
      "Stored the following local variables in the myf current_values dictionary: ['a', 'b']\n"
     ]
    }
   ],
   "source": [
    "%%function myf --merge\n",
    "b = 4"
   ]
  },
  {
   "cell_type": "code",
   "execution_count": null,
   "id": "1393d9dc-b0b4-4872-b5c8-1623f8a5b97c",
   "metadata": {},
   "outputs": [
    {
     "name": "stdout",
     "output_type": "stream",
     "text": [
      "def myf():\n",
      "    print ('hello')\n",
      "    a = 3\n",
      "    b = 4\n",
      "    return b,a\n",
      "\n"
     ]
    }
   ],
   "source": [
    "%print myf"
   ]
  },
  {
   "cell_type": "code",
   "execution_count": null,
   "id": "96388ea5-1d4e-4464-a656-a0fd6b873f6b",
   "metadata": {},
   "outputs": [
    {
     "name": "stdout",
     "output_type": "stream",
     "text": [
      "Stored the following local variables in the myf current_values dictionary: ['c', 'd']\n",
      "hello\n",
      "Stored the following local variables in the myf current_values dictionary: ['a', 'b', 'c', 'd']\n"
     ]
    }
   ],
   "source": [
    "%%function myf --merge\n",
    "c = 5\n",
    "d = a+b+c"
   ]
  },
  {
   "cell_type": "code",
   "execution_count": null,
   "id": "429cdcb8-1ab1-4072-b154-c1d28924007d",
   "metadata": {},
   "outputs": [
    {
     "name": "stdout",
     "output_type": "stream",
     "text": [
      "def myf():\n",
      "    print ('hello')\n",
      "    a = 3\n",
      "    b = 4\n",
      "    c = 5\n",
      "    d = a+b+c\n",
      "    return b,d,c,a\n",
      "\n"
     ]
    }
   ],
   "source": [
    "%print myf"
   ]
  },
  {
   "cell_type": "code",
   "execution_count": null,
   "id": "dfccc0f7-4bfa-4fe9-87d5-769a8dec18c9",
   "metadata": {},
   "outputs": [
    {
     "data": {
      "text/plain": [
       "\"print ('hello')\\na = 3\\nb = 4\\nc = 5\\nd = a+b+c\\n\""
      ]
     },
     "execution_count": null,
     "metadata": {},
     "output_type": "execute_result"
    }
   ],
   "source": [
    "myf_info.original_cell"
   ]
  },
  {
   "cell_type": "code",
   "execution_count": null,
   "id": "177497a8-268e-42f8-b259-7fadc930c8b2",
   "metadata": {},
   "outputs": [
    {
     "name": "stdout",
     "output_type": "stream",
     "text": [
      "import os\n",
      "import joblib\n",
      "import warnings\n",
      "from execnb.nbio import read_nb, write_nb, new_nb, mk_cell\n",
      "from nbdev.process import NBProcessor, Processor\n",
      "# Syncing through nbdev\n",
      "\n",
      "> Showcasing the syncing capability\n",
      "%load_ext nbmodular.core.cell2func\n",
      "## simple case: each function is written in a single cell\n",
      "This is markdown\n",
      "\n",
      "**********************************************************************\n",
      "#| export\n",
      "def first_function():\n",
      "    a = 3 \n",
      "    print ('a', a)\n",
      "    return a\n",
      "\n",
      "**********************************************************************\n",
      "\n",
      "# normal code cell\n",
      "print ('outside', a)\n",
      "\n",
      "**********************************************************************\n",
      "#| export\n",
      "def second_function():\n",
      "    b = 4\n",
      "    c = a+b\n",
      "    print (a, b, c)\n",
      "    return b,c\n",
      "\n",
      "**********************************************************************\n",
      "\n",
      "cell_processor = %cell_processor\n",
      "[function['name'] for function in cell_processor.cell_nodes]\n",
      "print ('last cell:', a, b, c)\n",
      "class FunctionNBProcessor(Processor):\n",
      "    def __init__ (self, function_cells):\n",
      "        self.function_cells = function_cells\n",
      "        self.function_idx = 0\n",
      "    \n",
      "    def cell(self, cell):\n",
      "        cell_lines = cell.source.splitlines()\n",
      "        if len(cell_lines) > 0 and '%%function' in cell_lines[0]:\n",
      "            if self.function_idx < len(self.function_cells):\n",
      "                print ('\\n**********************************************************************')\n",
      "                print ('#| export')\n",
      "                print (self.function_cells[self.function_idx]['code'])\n",
      "                self.function_idx += 1\n",
      "                print ('**********************************************************************\\n')\n",
      "        else:\n",
      "            print (cell.source)\n",
      "\n",
      "            \n",
      "function_processor = FunctionNBProcessor (cell_processor.cell_nodes)\n",
      "NBProcessor ('./nbdev_sync.ipynb', function_processor).process()\n",
      "## second case: functions are split into different cells\n",
      "\n",
      "**********************************************************************\n",
      "#| export\n",
      "def myf():\n",
      "    print ('hello')\n",
      "    a = 3\n",
      "    return a\n",
      "\n",
      "**********************************************************************\n",
      "\n",
      "%print myf\n",
      "myf_info.original_cell\n",
      "\n",
      "**********************************************************************\n",
      "#| export\n",
      "def myf():\n",
      "    print ('hello')\n",
      "    a = 3\n",
      "    b = 4\n",
      "    return b,a\n",
      "\n",
      "**********************************************************************\n",
      "\n",
      "%print myf\n",
      "\n",
      "**********************************************************************\n",
      "#| export\n",
      "def myf():\n",
      "    print ('hello')\n",
      "    a = 3\n",
      "    b = 4\n",
      "    c = 5\n",
      "    d = a+b+c\n",
      "    return b,d,c,a\n",
      "\n",
      "**********************************************************************\n",
      "\n",
      "%print myf\n",
      "myf_info.original_cell\n",
      "function_processor = FunctionProcessor (cell_processor.cell_nodes)\n",
      "NBProcessor ('./nbdev_sync.ipynb', function_processor).process()\n",
      "#%debug\n",
      "## end\n"
     ]
    }
   ],
   "source": [
    "function_processor = FunctionNBProcessor (cell_processor.cell_nodes)\n",
    "NBProcessor ('./nbdev_sync.ipynb', function_processor).process()"
   ]
  },
  {
   "cell_type": "markdown",
   "id": "a57b06fe-c864-4290-ad22-b70e38f068ff",
   "metadata": {},
   "source": [
    "### (TODO) Use only the last cell associated with this function, e.g., by replacing previous cells."
   ]
  },
  {
   "cell_type": "markdown",
   "id": "46f6a819-cd06-492a-813c-0ed55550ccfb",
   "metadata": {},
   "source": [
    "## third case: have defined functions in cells"
   ]
  },
  {
   "cell_type": "code",
   "execution_count": null,
   "id": "44d2d1ef-c7d0-4679-aa20-3ab179496857",
   "metadata": {},
   "outputs": [],
   "source": [
    "x=4"
   ]
  },
  {
   "cell_type": "code",
   "execution_count": null,
   "id": "85babacb-948c-4ef1-9de0-82006967122b",
   "metadata": {},
   "outputs": [
    {
     "name": "stdout",
     "output_type": "stream",
     "text": [
      "4\n",
      "3\n",
      "Stored the following local variables in the my_defined_function current_values dictionary: []\n"
     ]
    }
   ],
   "source": [
    "%%function \n",
    "def my_defined_function (x, a=3):\n",
    "    print (x)\n",
    "    print (a)"
   ]
  },
  {
   "cell_type": "code",
   "execution_count": null,
   "id": "1556572c-b565-4fa8-b662-40d73bba85c6",
   "metadata": {},
   "outputs": [
    {
     "name": "stdout",
     "output_type": "stream",
     "text": [
      "import os\n",
      "import joblib\n",
      "import warnings\n",
      "from execnb.nbio import read_nb, write_nb, new_nb, mk_cell\n",
      "from nbdev.process import NBProcessor, Processor\n",
      "# Syncing through nbdev\n",
      "\n",
      "> Showcasing the syncing capability\n",
      "%load_ext nbmodular.core.cell2func\n",
      "## simple case: each function is written in a single cell\n",
      "This is markdown\n",
      "\n",
      "**********************************************************************\n",
      "#| export\n",
      "def first_function():\n",
      "    a = 3 \n",
      "    print ('a', a)\n",
      "    return a\n",
      "\n",
      "**********************************************************************\n",
      "\n",
      "# normal code cell\n",
      "print ('outside', a)\n",
      "\n",
      "**********************************************************************\n",
      "#| export\n",
      "def second_function():\n",
      "    b = 4\n",
      "    c = a+b\n",
      "    print (a, b, c)\n",
      "    return b,c\n",
      "\n",
      "**********************************************************************\n",
      "\n",
      "cell_processor = %cell_processor\n",
      "[function['name'] for function in cell_processor.cell_nodes]\n",
      "print ('last cell:', a, b, c)\n",
      "class FunctionNBProcessor(Processor):\n",
      "    def __init__ (self, function_cells):\n",
      "        self.function_cells = function_cells\n",
      "        self.function_idx = 0\n",
      "    \n",
      "    def cell(self, cell):\n",
      "        cell_lines = cell.source.splitlines()\n",
      "        if len(cell_lines) > 0 and '%%function' in cell_lines[0]:\n",
      "            if self.function_idx < len(self.function_cells):\n",
      "                print ('\\n**********************************************************************')\n",
      "                print ('#| export')\n",
      "                print (self.function_cells[self.function_idx]['code'])\n",
      "                self.function_idx += 1\n",
      "                print ('**********************************************************************\\n')\n",
      "        else:\n",
      "            print (cell.source)\n",
      "\n",
      "            \n",
      "function_processor = FunctionNBProcessor (cell_processor.cell_nodes)\n",
      "NBProcessor ('./nbdev_sync.ipynb', function_processor).process()\n",
      "## second case: functions are split into different cells\n",
      "\n",
      "**********************************************************************\n",
      "#| export\n",
      "def myf():\n",
      "    print ('hello')\n",
      "    a = 3\n",
      "    return a\n",
      "\n",
      "**********************************************************************\n",
      "\n",
      "%print myf\n",
      "myf_info.original_cell\n",
      "\n",
      "**********************************************************************\n",
      "#| export\n",
      "def myf():\n",
      "    print ('hello')\n",
      "    a = 3\n",
      "    b = 4\n",
      "    return b,a\n",
      "\n",
      "**********************************************************************\n",
      "\n",
      "%print myf\n",
      "\n",
      "**********************************************************************\n",
      "#| export\n",
      "def myf():\n",
      "    print ('hello')\n",
      "    a = 3\n",
      "    b = 4\n",
      "    c = 5\n",
      "    d = a+b+c\n",
      "    return b,d,c,a\n",
      "\n",
      "**********************************************************************\n",
      "\n",
      "%print myf\n",
      "myf_info.original_cell\n",
      "function_processor = FunctionNBProcessor (cell_processor.cell_nodes)\n",
      "NBProcessor ('./nbdev_sync.ipynb', function_processor).process()\n",
      "### (TODO) Use only the last cell associated with this function, e.g., by replacing previous cells.\n",
      "## third case: have defined functions in cells\n",
      "## end\n"
     ]
    }
   ],
   "source": [
    "function_processor = FunctionNBProcessor (cell_processor.cell_nodes)\n",
    "NBProcessor ('./nbdev_sync.ipynb', function_processor).process()"
   ]
  },
  {
   "cell_type": "markdown",
   "id": "902da9b7-db3d-4f54-96fb-549f7ddf2901",
   "metadata": {},
   "source": [
    "### (TODO) Debug why the code of last function doesn't appear at all"
   ]
  },
  {
   "cell_type": "markdown",
   "id": "31142e2f-572c-4abf-9c26-e90d8315b445",
   "metadata": {},
   "source": [
    "## end"
   ]
  }
 ],
 "metadata": {
  "kernelspec": {
   "display_name": "tsforecast",
   "language": "python",
   "name": "tsforecast"
  }
 },
 "nbformat": 4,
 "nbformat_minor": 5
}
