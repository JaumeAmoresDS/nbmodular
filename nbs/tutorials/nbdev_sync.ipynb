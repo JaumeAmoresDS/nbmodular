{
 "cells": [
  {
   "cell_type": "code",
   "execution_count": null,
   "id": "d872124d-0059-49a4-88ed-730ad627b85b",
   "metadata": {},
   "outputs": [],
   "source": [
    "#| hide\n",
    "import os\n",
    "import joblib\n",
    "from execnb.nbio import read_nb, write_nb, new_nb, mk_cell\n",
    "from nbdev.process import NBProcessor, Processor"
   ]
  },
  {
   "cell_type": "markdown",
   "id": "2d540894-e097-420a-a9a9-828c14fda549",
   "metadata": {},
   "source": [
    "# Syncing through nbdev\n",
    "\n",
    "> Showcasing the syncing capability"
   ]
  },
  {
   "cell_type": "code",
   "execution_count": null,
   "id": "f4d22799-0ce0-407a-b43a-dd3e8f2e0ee3",
   "metadata": {},
   "outputs": [],
   "source": [
    "%load_ext nbmodular.core.cell2func"
   ]
  },
  {
   "cell_type": "markdown",
   "id": "94b4a38d-2a25-49b6-a29f-46e52eb6575f",
   "metadata": {},
   "source": [
    "## simple case: each function is written in a single cell"
   ]
  },
  {
   "cell_type": "markdown",
   "id": "8d77cd8f-9d78-46fa-a58e-638e6926569c",
   "metadata": {},
   "source": [
    "This is markdown"
   ]
  },
  {
   "cell_type": "code",
   "execution_count": null,
   "id": "e7e12b4a-e9ab-48fe-ab23-2a6f921fc9d9",
   "metadata": {},
   "outputs": [
    {
     "name": "stdout",
     "output_type": "stream",
     "text": [
      "a 3\n",
      "Stored the following local variables in the first_function current_values dictionary: ['a']\n"
     ]
    }
   ],
   "source": [
    "%%function first_function\n",
    "a = 3 \n",
    "print ('a', a)"
   ]
  },
  {
   "cell_type": "code",
   "execution_count": null,
   "id": "14187705-6335-43af-9b05-f81d65784afc",
   "metadata": {},
   "outputs": [
    {
     "name": "stdout",
     "output_type": "stream",
     "text": [
      "outside 3\n"
     ]
    }
   ],
   "source": [
    "# normal code cell\n",
    "print ('outside', a)"
   ]
  },
  {
   "cell_type": "code",
   "execution_count": null,
   "id": "7a04b700-0ea1-4ad2-b7ab-3fc132aeaa8b",
   "metadata": {},
   "outputs": [
    {
     "name": "stdout",
     "output_type": "stream",
     "text": [
      "3 4 7\n",
      "Stored the following local variables in the second_function current_values dictionary: ['b', 'c']\n"
     ]
    }
   ],
   "source": [
    "%%function second_function\n",
    "b = 4\n",
    "c = a+b\n",
    "print (a, b, c)"
   ]
  },
  {
   "cell_type": "code",
   "execution_count": null,
   "id": "aa7c141d-186e-498b-ae9b-1d48d569539d",
   "metadata": {},
   "outputs": [],
   "source": [
    "cell_processor = %cell_processor"
   ]
  },
  {
   "cell_type": "code",
   "execution_count": null,
   "id": "d05a11eb-ae30-4768-a32e-4ad765cfabd7",
   "metadata": {},
   "outputs": [
    {
     "data": {
      "text/plain": [
       "['first_function', 'second_function']"
      ]
     },
     "execution_count": null,
     "metadata": {},
     "output_type": "execute_result"
    }
   ],
   "source": [
    "[function['name'] for function in cell_processor.cell_nodes]"
   ]
  },
  {
   "cell_type": "code",
   "execution_count": null,
   "id": "7464c040-df26-465b-bb56-e98dcca5cd54",
   "metadata": {},
   "outputs": [
    {
     "name": "stdout",
     "output_type": "stream",
     "text": [
      "last cell: 3 4 7\n"
     ]
    }
   ],
   "source": [
    "print ('last cell:', a, b, c)"
   ]
  },
  {
   "cell_type": "code",
   "execution_count": null,
   "id": "e1d44e3e-ef79-47dc-98ea-80dd7debb8a2",
   "metadata": {},
   "outputs": [
    {
     "name": "stdout",
     "output_type": "stream",
     "text": [
      "import os\n",
      "import joblib\n",
      "from execnb.nbio import read_nb, write_nb, new_nb, mk_cell\n",
      "from nbdev.process import NBProcessor, Processor\n",
      "# Syncing through nbdev\n",
      "\n",
      "> Showcasing the syncing capability\n",
      "%load_ext nbmodular.core.cell2func\n",
      "## simple case: each function is written in a single cell\n",
      "This is markdown\n",
      "\n",
      "**********************************************************************\n",
      "def first_function():\n",
      "    a = 3 \n",
      "    print ('a', a)\n",
      "    return a\n",
      "\n",
      "**********************************************************************\n",
      "\n",
      "# normal code cell\n",
      "print ('outside', a)\n",
      "\n",
      "**********************************************************************\n",
      "def second_function():\n",
      "    b = 4\n",
      "    c = a+b\n",
      "    print (a, b, c)\n",
      "    return c,b\n",
      "\n",
      "**********************************************************************\n",
      "\n",
      "cell_processor = %cell_processor\n",
      "[function['name'] for function in cell_processor.cell_nodes]\n",
      "print ('last cell:', a, b, c)\n",
      "\n",
      "**********************************************************************\n"
     ]
    },
    {
     "ename": "IndexError",
     "evalue": "list index out of range",
     "output_type": "error",
     "traceback": [
      "\u001b[0;31m---------------------------------------------------------------------------\u001b[0m",
      "\u001b[0;31mIndexError\u001b[0m                                Traceback (most recent call last)",
      "Cell \u001b[0;32mIn[16], line 17\u001b[0m\n\u001b[1;32m     13\u001b[0m             \u001b[38;5;28mprint\u001b[39m (cell\u001b[38;5;241m.\u001b[39msource)\n\u001b[1;32m     16\u001b[0m function_processor \u001b[38;5;241m=\u001b[39m FunctionProcessor (cell_processor\u001b[38;5;241m.\u001b[39mcell_nodes)\n\u001b[0;32m---> 17\u001b[0m \u001b[43mNBProcessor\u001b[49m\u001b[43m \u001b[49m\u001b[43m(\u001b[49m\u001b[38;5;124;43m'\u001b[39;49m\u001b[38;5;124;43m./nbdev_sync.ipynb\u001b[39;49m\u001b[38;5;124;43m'\u001b[39;49m\u001b[43m,\u001b[49m\u001b[43m \u001b[49m\u001b[43mfunction_processor\u001b[49m\u001b[43m)\u001b[49m\u001b[38;5;241;43m.\u001b[39;49m\u001b[43mprocess\u001b[49m\u001b[43m(\u001b[49m\u001b[43m)\u001b[49m\n",
      "File \u001b[0;32m~/workspace/others/nbdev/nbdev/process.py:127\u001b[0m, in \u001b[0;36mNBProcessor.process\u001b[0;34m(self)\u001b[0m\n\u001b[1;32m    125\u001b[0m \u001b[38;5;28;01mdef\u001b[39;00m \u001b[38;5;21mprocess\u001b[39m(\u001b[38;5;28mself\u001b[39m):\n\u001b[1;32m    126\u001b[0m     \u001b[38;5;124m\"\u001b[39m\u001b[38;5;124mProcess all cells with all processors\u001b[39m\u001b[38;5;124m\"\u001b[39m\n\u001b[0;32m--> 127\u001b[0m     \u001b[38;5;28;01mfor\u001b[39;00m proc \u001b[38;5;129;01min\u001b[39;00m \u001b[38;5;28mself\u001b[39m\u001b[38;5;241m.\u001b[39mprocs: \u001b[38;5;28;43mself\u001b[39;49m\u001b[38;5;241;43m.\u001b[39;49m\u001b[43m_proc\u001b[49m\u001b[43m(\u001b[49m\u001b[43mproc\u001b[49m\u001b[43m)\u001b[49m\n",
      "File \u001b[0;32m~/workspace/others/nbdev/nbdev/process.py:120\u001b[0m, in \u001b[0;36mNBProcessor._proc\u001b[0;34m(self, proc)\u001b[0m\n\u001b[1;32m    118\u001b[0m \u001b[38;5;28;01mdef\u001b[39;00m \u001b[38;5;21m_proc\u001b[39m(\u001b[38;5;28mself\u001b[39m, proc):\n\u001b[1;32m    119\u001b[0m     \u001b[38;5;28;01mif\u001b[39;00m \u001b[38;5;28mhasattr\u001b[39m(proc,\u001b[38;5;124m'\u001b[39m\u001b[38;5;124mbegin\u001b[39m\u001b[38;5;124m'\u001b[39m): proc\u001b[38;5;241m.\u001b[39mbegin()\n\u001b[0;32m--> 120\u001b[0m     \u001b[38;5;28;01mfor\u001b[39;00m cell \u001b[38;5;129;01min\u001b[39;00m \u001b[38;5;28mself\u001b[39m\u001b[38;5;241m.\u001b[39mnb\u001b[38;5;241m.\u001b[39mcells: \u001b[38;5;28;43mself\u001b[39;49m\u001b[38;5;241;43m.\u001b[39;49m\u001b[43m_process_cell\u001b[49m\u001b[43m(\u001b[49m\u001b[43mproc\u001b[49m\u001b[43m,\u001b[49m\u001b[43m \u001b[49m\u001b[43mcell\u001b[49m\u001b[43m)\u001b[49m\n\u001b[1;32m    121\u001b[0m     \u001b[38;5;28;01mif\u001b[39;00m \u001b[38;5;28mhasattr\u001b[39m(proc,\u001b[38;5;124m'\u001b[39m\u001b[38;5;124mend\u001b[39m\u001b[38;5;124m'\u001b[39m): proc\u001b[38;5;241m.\u001b[39mend()\n\u001b[1;32m    122\u001b[0m     \u001b[38;5;28mself\u001b[39m\u001b[38;5;241m.\u001b[39mnb\u001b[38;5;241m.\u001b[39mcells \u001b[38;5;241m=\u001b[39m [c \u001b[38;5;28;01mfor\u001b[39;00m c \u001b[38;5;129;01min\u001b[39;00m \u001b[38;5;28mself\u001b[39m\u001b[38;5;241m.\u001b[39mnb\u001b[38;5;241m.\u001b[39mcells \u001b[38;5;28;01mif\u001b[39;00m c \u001b[38;5;129;01mand\u001b[39;00m \u001b[38;5;28mgetattr\u001b[39m(c,\u001b[38;5;124m'\u001b[39m\u001b[38;5;124msource\u001b[39m\u001b[38;5;124m'\u001b[39m,\u001b[38;5;28;01mNone\u001b[39;00m) \u001b[38;5;129;01mis\u001b[39;00m \u001b[38;5;129;01mnot\u001b[39;00m \u001b[38;5;28;01mNone\u001b[39;00m]\n",
      "File \u001b[0;32m~/workspace/others/nbdev/nbdev/process.py:111\u001b[0m, in \u001b[0;36mNBProcessor._process_cell\u001b[0;34m(self, proc, cell)\u001b[0m\n\u001b[1;32m    109\u001b[0m         f \u001b[38;5;241m=\u001b[39m \u001b[38;5;28mgetattr\u001b[39m(proc, \u001b[38;5;124mf\u001b[39m\u001b[38;5;124m'\u001b[39m\u001b[38;5;124m_\u001b[39m\u001b[38;5;132;01m{\u001b[39;00mcmd\u001b[38;5;132;01m}\u001b[39;00m\u001b[38;5;124m_\u001b[39m\u001b[38;5;124m'\u001b[39m, \u001b[38;5;28;01mNone\u001b[39;00m)\n\u001b[1;32m    110\u001b[0m         \u001b[38;5;28;01mif\u001b[39;00m f: \u001b[38;5;28mself\u001b[39m\u001b[38;5;241m.\u001b[39m_process_comment(f, cell, cmd)\n\u001b[0;32m--> 111\u001b[0m \u001b[38;5;28;01mif\u001b[39;00m callable(proc) \u001b[38;5;129;01mand\u001b[39;00m \u001b[38;5;129;01mnot\u001b[39;00m _is_direc(proc): cell \u001b[38;5;241m=\u001b[39m opt_set(cell, \u001b[43mproc\u001b[49m\u001b[43m(\u001b[49m\u001b[43mcell\u001b[49m\u001b[43m)\u001b[49m)\n",
      "File \u001b[0;32m~/workspace/others/nbdev/nbdev/process.py:134\u001b[0m, in \u001b[0;36mProcessor.__call__\u001b[0;34m(self, cell)\u001b[0m\n\u001b[0;32m--> 134\u001b[0m \u001b[38;5;28;01mdef\u001b[39;00m \u001b[38;5;21m__call__\u001b[39m(\u001b[38;5;28mself\u001b[39m, cell): \u001b[38;5;28;01mreturn\u001b[39;00m \u001b[38;5;28;43mself\u001b[39;49m\u001b[38;5;241;43m.\u001b[39;49m\u001b[43mcell\u001b[49m\u001b[43m(\u001b[49m\u001b[43mcell\u001b[49m\u001b[43m)\u001b[49m\n",
      "Cell \u001b[0;32mIn[16], line 9\u001b[0m, in \u001b[0;36mFunctionProcessor.cell\u001b[0;34m(self, cell)\u001b[0m\n\u001b[1;32m      7\u001b[0m \u001b[38;5;28;01mif\u001b[39;00m \u001b[38;5;124m'\u001b[39m\u001b[38;5;132;01m%%\u001b[39;00m\u001b[38;5;124mfunction\u001b[39m\u001b[38;5;124m'\u001b[39m \u001b[38;5;129;01min\u001b[39;00m cell\u001b[38;5;241m.\u001b[39msource:\n\u001b[1;32m      8\u001b[0m     \u001b[38;5;28mprint\u001b[39m (\u001b[38;5;124m'\u001b[39m\u001b[38;5;130;01m\\n\u001b[39;00m\u001b[38;5;124m**********************************************************************\u001b[39m\u001b[38;5;124m'\u001b[39m)\n\u001b[0;32m----> 9\u001b[0m     \u001b[38;5;28mprint\u001b[39m (\u001b[38;5;28;43mself\u001b[39;49m\u001b[38;5;241;43m.\u001b[39;49m\u001b[43mfunction_cells\u001b[49m\u001b[43m[\u001b[49m\u001b[38;5;28;43mself\u001b[39;49m\u001b[38;5;241;43m.\u001b[39;49m\u001b[43mfunction_idx\u001b[49m\u001b[43m]\u001b[49m[\u001b[38;5;124m'\u001b[39m\u001b[38;5;124mcode\u001b[39m\u001b[38;5;124m'\u001b[39m])\n\u001b[1;32m     10\u001b[0m     \u001b[38;5;28mself\u001b[39m\u001b[38;5;241m.\u001b[39mfunction_idx \u001b[38;5;241m+\u001b[39m\u001b[38;5;241m=\u001b[39m \u001b[38;5;241m1\u001b[39m\n\u001b[1;32m     11\u001b[0m     \u001b[38;5;28mprint\u001b[39m (\u001b[38;5;124m'\u001b[39m\u001b[38;5;124m**********************************************************************\u001b[39m\u001b[38;5;130;01m\\n\u001b[39;00m\u001b[38;5;124m'\u001b[39m)\n",
      "\u001b[0;31mIndexError\u001b[0m: list index out of range"
     ]
    }
   ],
   "source": [
    "class FunctionProcessor(Processor):\n",
    "    def __init__ (self, function_cells):\n",
    "        self.function_cells = function_cells\n",
    "        self.function_idx = 0\n",
    "    \n",
    "    def cell(self, cell):\n",
    "        if '%%function' in cell.source:\n",
    "            print ('\\n**********************************************************************')\n",
    "            print (self.function_cells[self.function_idx]['code'])\n",
    "            self.function_idx += 1\n",
    "            print ('**********************************************************************\\n')\n",
    "        else:\n",
    "            print (cell.source)\n",
    "\n",
    "            \n",
    "function_processor = FunctionProcessor (cell_processor.cell_nodes)\n",
    "NBProcessor ('./nbdev_sync.ipynb', function_processor).process()"
   ]
  },
  {
   "cell_type": "code",
   "execution_count": null,
   "id": "dbef3051-bbc4-4c57-b8f0-11db566f9027",
   "metadata": {},
   "outputs": [
    {
     "ename": "AttributeError",
     "evalue": "'FunctionProcessor' object has no attribute 'cell_nodes'",
     "output_type": "error",
     "traceback": [
      "\u001b[0;31m---------------------------------------------------------------------------\u001b[0m",
      "\u001b[0;31mAttributeError\u001b[0m                            Traceback (most recent call last)",
      "Cell \u001b[0;32mIn[14], line 1\u001b[0m\n\u001b[0;32m----> 1\u001b[0m \u001b[43mfunction_processor\u001b[49m\u001b[38;5;241;43m.\u001b[39;49m\u001b[43mcell_nodes\u001b[49m\n",
      "\u001b[0;31mAttributeError\u001b[0m: 'FunctionProcessor' object has no attribute 'cell_nodes'"
     ]
    }
   ],
   "source": [
    "function_processor.cell_nodes"
   ]
  },
  {
   "cell_type": "markdown",
   "id": "0bae2d40-f0d4-47f9-9c1c-5b577e389b12",
   "metadata": {},
   "source": [
    "## second case: functions are split into different cells"
   ]
  },
  {
   "cell_type": "code",
   "execution_count": null,
   "id": "55bdb080-b042-4852-853e-0ca02e973084",
   "metadata": {},
   "outputs": [
    {
     "name": "stdout",
     "output_type": "stream",
     "text": [
      "hello\n",
      "Stored the following local variables in the myf current_values dictionary: ['a']\n"
     ]
    }
   ],
   "source": [
    "%%function myf\n",
    "print ('hello')\n",
    "a = 3"
   ]
  },
  {
   "cell_type": "code",
   "execution_count": null,
   "id": "9d318f81-272e-40ce-b29c-5bc4fff353b7",
   "metadata": {},
   "outputs": [
    {
     "name": "stdout",
     "output_type": "stream",
     "text": [
      "def myf():\n",
      "    print ('hello')\n",
      "    a = 3\n",
      "    return a\n",
      "\n"
     ]
    }
   ],
   "source": [
    "%print myf"
   ]
  },
  {
   "cell_type": "code",
   "execution_count": null,
   "id": "21bdc6ec-c111-4b6f-a120-8940b756d585",
   "metadata": {},
   "outputs": [
    {
     "data": {
      "text/plain": [
       "\"print ('hello')\\na = 3\\n\""
      ]
     },
     "execution_count": null,
     "metadata": {},
     "output_type": "execute_result"
    }
   ],
   "source": [
    "myf_info.original_cell"
   ]
  },
  {
   "cell_type": "code",
   "execution_count": null,
   "id": "cd315947-d874-4833-8eba-93f571a961f4",
   "metadata": {},
   "outputs": [
    {
     "name": "stdout",
     "output_type": "stream",
     "text": [
      "Stored the following local variables in the myf current_values dictionary: ['b']\n",
      "hello\n",
      "Stored the following local variables in the myf current_values dictionary: ['a', 'b']\n"
     ]
    }
   ],
   "source": [
    "%%function myf --merge\n",
    "b = 4"
   ]
  },
  {
   "cell_type": "code",
   "execution_count": null,
   "id": "1393d9dc-b0b4-4872-b5c8-1623f8a5b97c",
   "metadata": {},
   "outputs": [
    {
     "name": "stdout",
     "output_type": "stream",
     "text": [
      "def myf():\n",
      "    print ('hello')\n",
      "    a = 3\n",
      "    b = 4\n",
      "    return b,a\n",
      "\n"
     ]
    }
   ],
   "source": [
    "%print myf"
   ]
  },
  {
   "cell_type": "code",
   "execution_count": null,
   "id": "96388ea5-1d4e-4464-a656-a0fd6b873f6b",
   "metadata": {},
   "outputs": [
    {
     "name": "stdout",
     "output_type": "stream",
     "text": [
      "Stored the following local variables in the myf current_values dictionary: ['c', 'd']\n",
      "hello\n",
      "Stored the following local variables in the myf current_values dictionary: ['a', 'b', 'c', 'd']\n"
     ]
    }
   ],
   "source": [
    "%%function myf --merge\n",
    "c = 5\n",
    "d = a+b+c"
   ]
  },
  {
   "cell_type": "code",
   "execution_count": null,
   "id": "429cdcb8-1ab1-4072-b154-c1d28924007d",
   "metadata": {},
   "outputs": [
    {
     "name": "stdout",
     "output_type": "stream",
     "text": [
      "def myf():\n",
      "    print ('hello')\n",
      "    a = 3\n",
      "    b = 4\n",
      "    c = 5\n",
      "    d = a+b+c\n",
      "    return c,b,d,a\n",
      "\n"
     ]
    }
   ],
   "source": [
    "%print myf"
   ]
  },
  {
   "cell_type": "code",
   "execution_count": null,
   "id": "dfccc0f7-4bfa-4fe9-87d5-769a8dec18c9",
   "metadata": {},
   "outputs": [
    {
     "data": {
      "text/plain": [
       "\"print ('hello')\\na = 3\\nb = 4\\nc = 5\\nd = a+b+c\\n\""
      ]
     },
     "execution_count": null,
     "metadata": {},
     "output_type": "execute_result"
    }
   ],
   "source": [
    "myf_info.original_cell"
   ]
  },
  {
   "cell_type": "code",
   "execution_count": null,
   "id": "8c0f6d77-1905-4dfa-b131-24e5eeaab26f",
   "metadata": {},
   "outputs": [],
   "source": [
    "from sklearn.utils import Bunch"
   ]
  },
  {
   "cell_type": "code",
   "execution_count": null,
   "id": "93aa8496-02ba-4bf3-8ed8-ce47cb003233",
   "metadata": {},
   "outputs": [],
   "source": [
    "self = myf_info\n",
    "self.cell_nodes = []"
   ]
  },
  {
   "cell_type": "code",
   "execution_count": null,
   "id": "6867cc88-65ca-4609-9d18-0906a7e34ffc",
   "metadata": {},
   "outputs": [],
   "source": [
    "\n",
    "\n",
    "# TODO in cell_processor:\n",
    "\n",
    "self.cell_nodes_per_function[this_function.name] += this_function.copy() # alternative: only code_parts are stored\n",
    "# merge code: determine first, unique, last"
   ]
  },
  {
   "cell_type": "code",
   "execution_count": null,
   "id": "fd827765-b6f0-4dd7-b331-71d3c8570cc1",
   "metadata": {},
   "outputs": [],
   "source": []
  }
 ],
 "metadata": {
  "kernelspec": {
   "display_name": "tsforecast",
   "language": "python",
   "name": "tsforecast"
  }
 },
 "nbformat": 4,
 "nbformat_minor": 5
}
