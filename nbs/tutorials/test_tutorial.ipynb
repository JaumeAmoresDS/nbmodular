{
 "cells": [
  {
   "cell_type": "code",
   "execution_count": null,
   "id": "a8a11950-5a0b-43c3-ae8d-3ca561ce856e",
   "metadata": {},
   "outputs": [],
   "source": [
    "#| hide\n",
    "import os\n",
    "import joblib"
   ]
  },
  {
   "cell_type": "markdown",
   "id": "2d540894-e097-420a-a9a9-828c14fda549",
   "metadata": {},
   "source": [
    "# Writing tests\n",
    "\n",
    "> How to write tests with `nbmodular`"
   ]
  },
  {
   "cell_type": "code",
   "execution_count": null,
   "id": "f4d22799-0ce0-407a-b43a-dd3e8f2e0ee3",
   "metadata": {},
   "outputs": [],
   "source": [
    "%load_ext nbmodular.core.cell2func"
   ]
  },
  {
   "cell_type": "markdown",
   "id": "83e54c71-2dcf-4c20-8efd-2950d1536258",
   "metadata": {},
   "source": [
    "## Implement functions"
   ]
  },
  {
   "cell_type": "code",
   "execution_count": null,
   "id": "62ba70c5-396b-4b8d-9069-921b3d58a162",
   "metadata": {},
   "outputs": [
    {
     "name": "stdout",
     "output_type": "stream",
     "text": [
      "{'input': None, 'unknown_input': True, 'output': None, 'unknown_output': True}\n"
     ]
    }
   ],
   "source": [
    "%%function data\n",
    "a=1\n",
    "b=2"
   ]
  },
  {
   "cell_type": "code",
   "execution_count": null,
   "id": "405e87ad-70ab-4e56-bffe-b498c1deb6ad",
   "metadata": {},
   "outputs": [],
   "source": [
    "%%function add_function\n",
    "c = a+b"
   ]
  },
  {
   "cell_type": "code",
   "execution_count": null,
   "id": "e3ca7ffa-0908-4c1a-8bd5-b3fd08cbd479",
   "metadata": {},
   "outputs": [
    {
     "name": "stdout",
     "output_type": "stream",
     "text": [
      "3\n"
     ]
    }
   ],
   "source": [
    "%%function print_result\n",
    "print (c)"
   ]
  },
  {
   "cell_type": "markdown",
   "id": "88de8845-01db-4d9b-a005-3f0792915515",
   "metadata": {},
   "source": [
    "## Writing tests with dependencies"
   ]
  },
  {
   "cell_type": "markdown",
   "id": "6dcb652f-e36e-44a0-bd5e-dbb360497366",
   "metadata": {},
   "source": [
    "It is best to define data variables in separate data functions, so that they can be retrieved and reused from different test functions:"
   ]
  },
  {
   "cell_type": "code",
   "execution_count": null,
   "id": "4f61967a-a6fe-49e0-be3f-91d8846171d7",
   "metadata": {},
   "outputs": [],
   "source": [
    "%%function first_data --test --data\n",
    "a = 1"
   ]
  },
  {
   "cell_type": "code",
   "execution_count": null,
   "id": "256529e5-fd9f-4ec6-84bb-f0e0cdf0f508",
   "metadata": {},
   "outputs": [],
   "source": [
    "%%function second_data --test --data\n",
    "b = 2"
   ]
  },
  {
   "cell_type": "markdown",
   "id": "3b7467c6-32d0-4052-a8d9-961f8eaa8ca0",
   "metadata": {},
   "source": [
    "Then we can define our test function. This function uses the variables defined in our previous data functions:"
   ]
  },
  {
   "cell_type": "markdown",
   "id": "57c39aab-59ba-4a69-8eb9-54561f5ac18c",
   "metadata": {},
   "source": [
    "And we can call it in our test function:"
   ]
  },
  {
   "cell_type": "code",
   "execution_count": null,
   "id": "1a1a140d-a2da-4bcf-bbb7-679095234081",
   "metadata": {},
   "outputs": [],
   "source": [
    "%%function add_function --test\n",
    "c = add_function (a, b)\n",
    "assert c==3"
   ]
  },
  {
   "cell_type": "markdown",
   "id": "c9354e03-842c-468c-b748-30f44f169e75",
   "metadata": {},
   "source": [
    "Let's look at the resulting implementation of our test function:"
   ]
  },
  {
   "cell_type": "code",
   "execution_count": null,
   "id": "da492033-fe26-4228-ab20-30a7a98f8000",
   "metadata": {},
   "outputs": [
    {
     "name": "stdout",
     "output_type": "stream",
     "text": [
      "def test_add_function():\n",
      "    a = test_first_data()\n",
      "    b = test_second_data()\n",
      "    c = add_function (a, b)\n",
      "    assert c==3\n",
      "\n"
     ]
    }
   ],
   "source": [
    "%print test_add_function --test"
   ]
  },
  {
   "cell_type": "markdown",
   "id": "6e69fb14-dfca-49df-be6a-b6ca50f44368",
   "metadata": {},
   "source": [
    "If we try to define the same variable in another data function, we will get an error:"
   ]
  },
  {
   "cell_type": "code",
   "execution_count": null,
   "id": "206416dc-6f3b-4f8d-aae9-514f3e8db004",
   "metadata": {},
   "outputs": [
    {
     "ename": "ValueError",
     "evalue": "detected common variables with other test data functions {'b'}:",
     "output_type": "error",
     "traceback": [
      "\u001b[0;31m---------------------------------------------------------------------------\u001b[0m",
      "\u001b[0;31mValueError\u001b[0m                                Traceback (most recent call last)",
      "Cell \u001b[0;32mIn[10], line 1\u001b[0m\n\u001b[0;32m----> 1\u001b[0m \u001b[43mget_ipython\u001b[49m\u001b[43m(\u001b[49m\u001b[43m)\u001b[49m\u001b[38;5;241;43m.\u001b[39;49m\u001b[43mrun_cell_magic\u001b[49m\u001b[43m(\u001b[49m\u001b[38;5;124;43m'\u001b[39;49m\u001b[38;5;124;43mfunction\u001b[39;49m\u001b[38;5;124;43m'\u001b[39;49m\u001b[43m,\u001b[49m\u001b[43m \u001b[49m\u001b[38;5;124;43m'\u001b[39;49m\u001b[38;5;124;43mthird_data --test --data\u001b[39;49m\u001b[38;5;124;43m'\u001b[39;49m\u001b[43m,\u001b[49m\u001b[43m \u001b[49m\u001b[38;5;124;43m'\u001b[39;49m\u001b[38;5;124;43mb = 3\u001b[39;49m\u001b[38;5;130;43;01m\\n\u001b[39;49;00m\u001b[38;5;124;43m'\u001b[39;49m\u001b[43m)\u001b[49m\n",
      "File \u001b[0;32m~/miniconda3/envs/tsforecast/lib/python3.10/site-packages/IPython/core/interactiveshell.py:2430\u001b[0m, in \u001b[0;36mInteractiveShell.run_cell_magic\u001b[0;34m(self, magic_name, line, cell)\u001b[0m\n\u001b[1;32m   2428\u001b[0m \u001b[38;5;28;01mwith\u001b[39;00m \u001b[38;5;28mself\u001b[39m\u001b[38;5;241m.\u001b[39mbuiltin_trap:\n\u001b[1;32m   2429\u001b[0m     args \u001b[38;5;241m=\u001b[39m (magic_arg_s, cell)\n\u001b[0;32m-> 2430\u001b[0m     result \u001b[38;5;241m=\u001b[39m \u001b[43mfn\u001b[49m\u001b[43m(\u001b[49m\u001b[38;5;241;43m*\u001b[39;49m\u001b[43margs\u001b[49m\u001b[43m,\u001b[49m\u001b[43m \u001b[49m\u001b[38;5;241;43m*\u001b[39;49m\u001b[38;5;241;43m*\u001b[39;49m\u001b[43mkwargs\u001b[49m\u001b[43m)\u001b[49m\n\u001b[1;32m   2432\u001b[0m \u001b[38;5;66;03m# The code below prevents the output from being displayed\u001b[39;00m\n\u001b[1;32m   2433\u001b[0m \u001b[38;5;66;03m# when using magics with decodator @output_can_be_silenced\u001b[39;00m\n\u001b[1;32m   2434\u001b[0m \u001b[38;5;66;03m# when the last Python token in the expression is a ';'.\u001b[39;00m\n\u001b[1;32m   2435\u001b[0m \u001b[38;5;28;01mif\u001b[39;00m \u001b[38;5;28mgetattr\u001b[39m(fn, magic\u001b[38;5;241m.\u001b[39mMAGIC_OUTPUT_CAN_BE_SILENCED, \u001b[38;5;28;01mFalse\u001b[39;00m):\n",
      "File \u001b[0;32m~/workspace/mine/nbmodular/nbmodular/core/cell2func.py:890\u001b[0m, in \u001b[0;36mCellProcessorMagic.function\u001b[0;34m(self, line, cell)\u001b[0m\n\u001b[1;32m    887\u001b[0m \u001b[38;5;129m@cell_magic\u001b[39m\n\u001b[1;32m    888\u001b[0m \u001b[38;5;28;01mdef\u001b[39;00m \u001b[38;5;21mfunction\u001b[39m (\u001b[38;5;28mself\u001b[39m, line, cell):\n\u001b[1;32m    889\u001b[0m     \u001b[38;5;124m\"\u001b[39m\u001b[38;5;124mConverts cell to function\u001b[39m\u001b[38;5;124m\"\u001b[39m\n\u001b[0;32m--> 890\u001b[0m     \u001b[38;5;28;43mself\u001b[39;49m\u001b[38;5;241;43m.\u001b[39;49m\u001b[43mprocessor\u001b[49m\u001b[38;5;241;43m.\u001b[39;49m\u001b[43mprocess_function_call\u001b[49m\u001b[43m \u001b[49m\u001b[43m(\u001b[49m\u001b[43mline\u001b[49m\u001b[43m,\u001b[49m\u001b[43m \u001b[49m\u001b[43mcell\u001b[49m\u001b[43m)\u001b[49m\n",
      "File \u001b[0;32m~/workspace/mine/nbmodular/nbmodular/core/cell2func.py:414\u001b[0m, in \u001b[0;36mCellProcessor.process_function_call\u001b[0;34m(self, line, cell, add_call)\u001b[0m\n\u001b[1;32m    412\u001b[0m     \u001b[38;5;28mself\u001b[39m\u001b[38;5;241m.\u001b[39madd_call (call)\n\u001b[1;32m    413\u001b[0m function_name, kwargs \u001b[38;5;241m=\u001b[39m \u001b[38;5;28mself\u001b[39m\u001b[38;5;241m.\u001b[39mparse_signature (line)\n\u001b[0;32m--> 414\u001b[0m \u001b[38;5;28;43mself\u001b[39;49m\u001b[38;5;241;43m.\u001b[39;49m\u001b[43mfunction\u001b[49m\u001b[43m \u001b[49m\u001b[43m(\u001b[49m\u001b[43mfunction_name\u001b[49m\u001b[43m,\u001b[49m\u001b[43m \u001b[49m\u001b[43mcell\u001b[49m\u001b[43m,\u001b[49m\u001b[43m \u001b[49m\u001b[43mcall\u001b[49m\u001b[38;5;241;43m=\u001b[39;49m\u001b[43mcall\u001b[49m\u001b[43m,\u001b[49m\u001b[43m \u001b[49m\u001b[38;5;241;43m*\u001b[39;49m\u001b[38;5;241;43m*\u001b[39;49m\u001b[43mkwargs\u001b[49m\u001b[43m)\u001b[49m\n",
      "File \u001b[0;32m~/workspace/mine/nbmodular/nbmodular/core/cell2func.py:667\u001b[0m, in \u001b[0;36mCellProcessor.function\u001b[0;34m(self, func, cell, merge, show, register_pipeline, pipeline_name, write, test, data, **kwargs)\u001b[0m\n\u001b[1;32m    664\u001b[0m         function_list\u001b[38;5;241m.\u001b[39mremove (f)\n\u001b[1;32m    665\u001b[0m         \u001b[38;5;28;01mbreak\u001b[39;00m\n\u001b[0;32m--> 667\u001b[0m this_function \u001b[38;5;241m=\u001b[39m \u001b[38;5;28;43mself\u001b[39;49m\u001b[38;5;241;43m.\u001b[39;49m\u001b[43mcreate_function_register_and_run_code\u001b[49m\u001b[43m \u001b[49m\u001b[43m(\u001b[49m\u001b[43mfunc\u001b[49m\u001b[43m,\u001b[49m\u001b[43m \u001b[49m\u001b[43mcell\u001b[49m\u001b[43m,\u001b[49m\u001b[43m \u001b[49m\u001b[43mshow\u001b[49m\u001b[38;5;241;43m=\u001b[39;49m\u001b[43mshow\u001b[49m\u001b[43m,\u001b[49m\u001b[43m \u001b[49m\u001b[43mtest\u001b[49m\u001b[38;5;241;43m=\u001b[39;49m\u001b[43mtest\u001b[49m\u001b[43m,\u001b[49m\u001b[43m \u001b[49m\u001b[43mdata\u001b[49m\u001b[38;5;241;43m=\u001b[39;49m\u001b[43mdata\u001b[49m\u001b[43m,\u001b[49m\u001b[43m \u001b[49m\u001b[38;5;241;43m*\u001b[39;49m\u001b[38;5;241;43m*\u001b[39;49m\u001b[43mkwargs\u001b[49m\u001b[43m)\u001b[49m\n\u001b[1;32m    668\u001b[0m \u001b[38;5;28;01mif\u001b[39;00m func \u001b[38;5;129;01min\u001b[39;00m \u001b[38;5;28mself\u001b[39m\u001b[38;5;241m.\u001b[39mfunction_info \u001b[38;5;129;01mand\u001b[39;00m merge:\n\u001b[1;32m    669\u001b[0m     this_function \u001b[38;5;241m=\u001b[39m \u001b[38;5;28mself\u001b[39m\u001b[38;5;241m.\u001b[39mmerge_functions (\u001b[38;5;28mself\u001b[39m\u001b[38;5;241m.\u001b[39mfunction_info[func], this_function, show\u001b[38;5;241m=\u001b[39mshow)\n",
      "File \u001b[0;32m~/workspace/mine/nbmodular/nbmodular/core/cell2func.py:633\u001b[0m, in \u001b[0;36mCellProcessor.create_function_register_and_run_code\u001b[0;34m(self, func, cell, call, input, unknown_input, output, unknown_output, collect_variables_values, make_function, update_previous_functions, show, load, save, norun, override, test, data, permanent, **kwargs)\u001b[0m\n\u001b[1;32m    631\u001b[0m     common \u001b[38;5;241m=\u001b[39m \u001b[38;5;28mset\u001b[39m(\u001b[38;5;28mself\u001b[39m\u001b[38;5;241m.\u001b[39mcurrent_function\u001b[38;5;241m.\u001b[39mall_variables)\u001b[38;5;241m.\u001b[39mintersection (\u001b[38;5;28mself\u001b[39m\u001b[38;5;241m.\u001b[39mtest_data_all_variables)\n\u001b[1;32m    632\u001b[0m     \u001b[38;5;28;01mif\u001b[39;00m \u001b[38;5;28mlen\u001b[39m(common)\u001b[38;5;241m>\u001b[39m\u001b[38;5;241m0\u001b[39m:\n\u001b[0;32m--> 633\u001b[0m         \u001b[38;5;28;01mraise\u001b[39;00m \u001b[38;5;167;01mValueError\u001b[39;00m (\u001b[38;5;124mf\u001b[39m\u001b[38;5;124m'\u001b[39m\u001b[38;5;124mdetected common variables with other test data functions \u001b[39m\u001b[38;5;132;01m{\u001b[39;00mcommon\u001b[38;5;132;01m}\u001b[39;00m\u001b[38;5;124m:\u001b[39m\u001b[38;5;124m'\u001b[39m)\n\u001b[1;32m    635\u001b[0m \u001b[38;5;28;01mif\u001b[39;00m \u001b[38;5;129;01mnot\u001b[39;00m \u001b[38;5;28mself\u001b[39m\u001b[38;5;241m.\u001b[39mcurrent_function\u001b[38;5;241m.\u001b[39mtest \u001b[38;5;129;01mand\u001b[39;00m \u001b[38;5;129;01mnot\u001b[39;00m \u001b[38;5;28mself\u001b[39m\u001b[38;5;241m.\u001b[39mcurrent_function\u001b[38;5;241m.\u001b[39mdata:\n\u001b[1;32m    636\u001b[0m     \u001b[38;5;28mself\u001b[39m\u001b[38;5;241m.\u001b[39mall_variables \u001b[38;5;241m|\u001b[39m\u001b[38;5;241m=\u001b[39m \u001b[38;5;28mset\u001b[39m(\u001b[38;5;28mself\u001b[39m\u001b[38;5;241m.\u001b[39mcurrent_function\u001b[38;5;241m.\u001b[39mall_variables)\n",
      "\u001b[0;31mValueError\u001b[0m: detected common variables with other test data functions {'b'}:"
     ]
    }
   ],
   "source": [
    "%%function third_data --test --data\n",
    "b = 3"
   ]
  },
  {
   "cell_type": "markdown",
   "id": "a7ad6424-c766-4cc7-a500-e2fd65eb113c",
   "metadata": {},
   "source": [
    "## Using test_pipeline"
   ]
  },
  {
   "cell_type": "code",
   "execution_count": null,
   "id": "f843db6c-fc4b-4971-a55e-68fabba49623",
   "metadata": {},
   "outputs": [
    {
     "name": "stdout",
     "output_type": "stream",
     "text": [
      "\n",
      "def test_tutorial_pipeline (test=False, load=True, save=True, result_file_name=\"test_tutorial_pipeline\"):\n",
      "\n",
      "    # load result\n",
      "    result_file_name += '.pk'\n",
      "    path_variables = Path (\"test_tutorial\") / result_file_name\n",
      "    if load and path_variables.exists():\n",
      "        result = joblib.load (path_variables)\n",
      "        return result\n",
      "\n",
      "    b, a = data ()\n",
      "    c = add_function (b, a)\n",
      "    print_result (c)\n",
      "\n",
      "    # save result\n",
      "    result = Bunch (c=c,b=b,a=a)\n",
      "    if save:    \n",
      "        path_variables.parent.mkdir (parents=True, exist_ok=True)\n",
      "        joblib.dump (result, path_variables)\n",
      "    return result\n",
      "\n"
     ]
    }
   ],
   "source": [
    "%print_pipeline"
   ]
  },
  {
   "cell_type": "code",
   "execution_count": null,
   "id": "9a28bd33-3449-4e2f-be71-65990dc80da9",
   "metadata": {},
   "outputs": [
    {
     "data": {
      "text/plain": [
       "{'b': 2, 'a': 1, 'c': 3}"
      ]
     },
     "execution_count": null,
     "metadata": {},
     "output_type": "execute_result"
    }
   ],
   "source": [
    "test_tutorial_pipeline ()"
   ]
  },
  {
   "cell_type": "code",
   "execution_count": null,
   "id": "8d1d2ae0-a3be-4c01-b2d8-8ad5f18af9c7",
   "metadata": {},
   "outputs": [
    {
     "name": "stdout",
     "output_type": "stream",
     "text": [
      "\n",
      "from sklearn.utils import Bunch\n",
      "from pathlib import Path\n",
      "import joblib\n",
      "import pandas as pd\n",
      "import numpy as np\n",
      "\n",
      "def test_test_tutorial_pipeline (test=True, prev_result=None, result_file_name=\"test_tutorial_pipeline\"):\n",
      "    result = test_tutorial_pipeline (test=test, load=True, save=True, result_file_name=result_file_name)\n",
      "    if prev_result is None:\n",
      "        prev_result = test_tutorial_pipeline (test=test, load=True, save=True, result_file_name=f\"test_{result_file_name}\")\n",
      "    for k in prev_result:\n",
      "        assert k in result\n",
      "        if type(prev_result[k]) is pd.DataFrame:    \n",
      "            pd.testing.assert_frame_equal (result[k], prev_result[k])\n",
      "        elif type(prev_result[k]) is np.array:\n",
      "            np.testing.assert_array_equal (result[k], prev_result[k])\n",
      "        else:\n",
      "            assert result[k]==prev_result[k]\n",
      "\n"
     ]
    }
   ],
   "source": [
    "%print_pipeline --test"
   ]
  },
  {
   "cell_type": "code",
   "execution_count": null,
   "id": "cf16d48e-8b76-42fd-b275-092cc45a9f47",
   "metadata": {},
   "outputs": [],
   "source": [
    "test_test_tutorial_pipeline ()"
   ]
  },
  {
   "cell_type": "markdown",
   "id": "e4bc8551-e983-48a5-a2ee-ea868c41007b",
   "metadata": {},
   "source": [
    "## Persisting test results"
   ]
  },
  {
   "cell_type": "code",
   "execution_count": null,
   "id": "696e1c88-0429-4ba0-8df2-9175b07eb1b4",
   "metadata": {},
   "outputs": [
    {
     "data": {
      "text/plain": [
       "['Untitled.ipynb',\n",
       " '.ipynb_checkpoints',\n",
       " 'test_tutorial',\n",
       " 'debugging.ipynb',\n",
       " 'test_tutorial.ipynb']"
      ]
     },
     "execution_count": null,
     "metadata": {},
     "output_type": "execute_result"
    }
   ],
   "source": [
    "os.listdir ()"
   ]
  },
  {
   "cell_type": "code",
   "execution_count": null,
   "id": "52fbcb31-b098-4777-b4b5-6dc1932b8cbc",
   "metadata": {},
   "outputs": [],
   "source": [
    "test_test_tutorial_pipeline ()"
   ]
  },
  {
   "cell_type": "code",
   "execution_count": null,
   "id": "d425f128-8c47-46c1-9f37-348014e143bc",
   "metadata": {},
   "outputs": [
    {
     "data": {
      "text/plain": [
       "['Untitled.ipynb',\n",
       " '.ipynb_checkpoints',\n",
       " 'test_tutorial',\n",
       " 'debugging.ipynb',\n",
       " 'test_tutorial.ipynb']"
      ]
     },
     "execution_count": null,
     "metadata": {},
     "output_type": "execute_result"
    }
   ],
   "source": [
    "os.listdir ()"
   ]
  },
  {
   "cell_type": "markdown",
   "id": "9be5c7b8-cf0a-4a3a-a3e1-4a4973d2b249",
   "metadata": {},
   "source": [
    "We see that there is a new folder called `test_tutorial`. Let's look at its contents"
   ]
  },
  {
   "cell_type": "code",
   "execution_count": null,
   "id": "a338ad39-7743-4ff6-a1d0-8e35ebd480de",
   "metadata": {},
   "outputs": [
    {
     "data": {
      "text/plain": [
       "['test_tutorial_pipeline.pk',\n",
       " 'test_test_tutorial_pipeline.pk',\n",
       " 'test_add_function.pk',\n",
       " 'test_add.pk']"
      ]
     },
     "execution_count": null,
     "metadata": {},
     "output_type": "execute_result"
    }
   ],
   "source": [
    "os.listdir ('test_tutorial')"
   ]
  },
  {
   "cell_type": "markdown",
   "id": "1d16a58d-4381-40fb-99a9-54e2091dd4d6",
   "metadata": {},
   "source": [
    "There are two pickle files: \n",
    "\n",
    "- `test_tutorial_pipeline.pk` stores the result of running the `test_tutorial_pipeline`\n",
    "\n",
    "- `test_test_tutorial_pipeline.pk` stores the result of testing that pipeline."
   ]
  },
  {
   "cell_type": "code",
   "execution_count": null,
   "id": "9f4560be-21c9-407c-be18-0cbc78a52b54",
   "metadata": {},
   "outputs": [
    {
     "data": {
      "text/plain": [
       "{'b': 2, 'a': 1, 'c': 3}"
      ]
     },
     "execution_count": null,
     "metadata": {},
     "output_type": "execute_result"
    }
   ],
   "source": [
    "joblib.load ('test_tutorial/test_tutorial_pipeline.pk')"
   ]
  },
  {
   "cell_type": "code",
   "execution_count": null,
   "id": "651a21c5-fb3f-42ff-bd30-2987f521abbb",
   "metadata": {},
   "outputs": [
    {
     "data": {
      "text/plain": [
       "{'b': 2, 'a': 1, 'c': 3}"
      ]
     },
     "execution_count": null,
     "metadata": {},
     "output_type": "execute_result"
    }
   ],
   "source": [
    "joblib.load ('test_tutorial/test_test_tutorial_pipeline.pk')"
   ]
  },
  {
   "cell_type": "markdown",
   "id": "26973f44-a76a-4198-9245-3dd89e715293",
   "metadata": {},
   "source": [
    "If the results of the test are not the same as results from the previously run pipeline, the test fails. We can check that by storing different results for the pipeline:"
   ]
  },
  {
   "cell_type": "code",
   "execution_count": null,
   "id": "a3554751-a4bd-482d-beb5-7e2dbf91360e",
   "metadata": {},
   "outputs": [
    {
     "data": {
      "text/plain": [
       "True"
      ]
     },
     "execution_count": null,
     "metadata": {},
     "output_type": "execute_result"
    }
   ],
   "source": [
    "from sklearn.utils import Bunch\n",
    "\n",
    "{'b': 2, 'a': 1, 'c': 3} =={'b': 2, 'a': 1, 'c': 3}"
   ]
  },
  {
   "cell_type": "code",
   "execution_count": null,
   "id": "705c300a-bda9-4964-ae89-3fc55d6adf6b",
   "metadata": {},
   "outputs": [
    {
     "data": {
      "text/plain": [
       "['test_tutorial/test_tutorial_pipeline.pk']"
      ]
     },
     "execution_count": null,
     "metadata": {},
     "output_type": "execute_result"
    }
   ],
   "source": [
    "joblib.dump ({'b': 200, 'a': 1, 'c': 3}, 'test_tutorial/test_tutorial_pipeline.pk')"
   ]
  },
  {
   "cell_type": "code",
   "execution_count": null,
   "id": "d494fe4f-51fe-4980-88aa-815a6c3524ed",
   "metadata": {},
   "outputs": [
    {
     "ename": "AssertionError",
     "evalue": "",
     "output_type": "error",
     "traceback": [
      "\u001b[0;31m---------------------------------------------------------------------------\u001b[0m",
      "\u001b[0;31mAssertionError\u001b[0m                            Traceback (most recent call last)",
      "Cell \u001b[0;32mIn[23], line 1\u001b[0m\n\u001b[0;32m----> 1\u001b[0m \u001b[43mtest_test_tutorial_pipeline\u001b[49m\u001b[43m \u001b[49m\u001b[43m(\u001b[49m\u001b[43m)\u001b[49m\n",
      "Cell \u001b[0;32mIn[8], line 18\u001b[0m, in \u001b[0;36mtest_test_tutorial_pipeline\u001b[0;34m(test, prev_result, result_file_name)\u001b[0m\n\u001b[1;32m     16\u001b[0m     np\u001b[38;5;241m.\u001b[39mtesting\u001b[38;5;241m.\u001b[39massert_array_equal (result[k], prev_result[k])\n\u001b[1;32m     17\u001b[0m \u001b[38;5;28;01melse\u001b[39;00m:\n\u001b[0;32m---> 18\u001b[0m     \u001b[38;5;28;01massert\u001b[39;00m result[k]\u001b[38;5;241m==\u001b[39mprev_result[k]\n",
      "\u001b[0;31mAssertionError\u001b[0m: "
     ]
    }
   ],
   "source": [
    "test_test_tutorial_pipeline ()"
   ]
  },
  {
   "cell_type": "markdown",
   "id": "64a1869e-a32e-44c0-a7d5-f7d6d011b8dc",
   "metadata": {},
   "source": [
    "Now we change it back, to see that the test passes:"
   ]
  },
  {
   "cell_type": "code",
   "execution_count": null,
   "id": "1eb82754-3c55-49b3-bdae-6d456d0c8157",
   "metadata": {},
   "outputs": [
    {
     "data": {
      "text/plain": [
       "['test_tutorial/test_tutorial_pipeline.pk']"
      ]
     },
     "execution_count": null,
     "metadata": {},
     "output_type": "execute_result"
    }
   ],
   "source": [
    "joblib.dump ({'b': 2, 'a': 1, 'c': 3}, 'test_tutorial/test_tutorial_pipeline.pk')"
   ]
  },
  {
   "cell_type": "code",
   "execution_count": null,
   "id": "5680558a-d5bb-4c79-af09-be87606e2556",
   "metadata": {},
   "outputs": [],
   "source": [
    "test_test_tutorial_pipeline ()"
   ]
  },
  {
   "cell_type": "markdown",
   "id": "10138441-898e-4c3d-9e7c-4d4bbb046247",
   "metadata": {},
   "source": [
    "## Refining signature"
   ]
  },
  {
   "cell_type": "markdown",
   "id": "f66b80ba-93bd-4c20-8a1f-675c55476c6b",
   "metadata": {},
   "source": [
    "Let's revisit the first example, but this time we don't add the function `print_result`. By doing so, `add_function` won't have any output, since there is no other function in the notebook using its result."
   ]
  },
  {
   "cell_type": "code",
   "execution_count": null,
   "id": "c1181938-43ff-4298-bded-fe10d8fbc96a",
   "metadata": {},
   "outputs": [
    {
     "name": "stdout",
     "output_type": "stream",
     "text": [
      "could not remove c\n",
      "could not remove a\n",
      "could not remove b\n"
     ]
    }
   ],
   "source": [
    "%reset --history"
   ]
  },
  {
   "cell_type": "code",
   "execution_count": null,
   "id": "db774daf-8a20-4fa3-ac02-604869a7bacb",
   "metadata": {},
   "outputs": [],
   "source": [
    "%%function data\n",
    "a=1\n",
    "b=2"
   ]
  },
  {
   "cell_type": "code",
   "execution_count": null,
   "id": "6091028c-215e-4bf7-9435-d765f0c4e63c",
   "metadata": {},
   "outputs": [],
   "source": [
    "%%function add_function\n",
    "c = a+b"
   ]
  },
  {
   "cell_type": "code",
   "execution_count": null,
   "id": "ee217884-3712-42bc-9322-fa2957c71a35",
   "metadata": {},
   "outputs": [],
   "source": [
    "%%function first_data --test --data\n",
    "a = 1"
   ]
  },
  {
   "cell_type": "code",
   "execution_count": null,
   "id": "f2dd7e4d-7ee4-4dbc-b3e6-5f931e6925b7",
   "metadata": {},
   "outputs": [],
   "source": [
    "%%function second_data --test --data\n",
    "b = 2"
   ]
  },
  {
   "cell_type": "markdown",
   "id": "ec24bd14-3b5d-4dd8-bebd-766e2da1bf1b",
   "metadata": {},
   "source": [
    "Before trying to test a previous function we need to ensure that its output is the required one:"
   ]
  },
  {
   "cell_type": "code",
   "execution_count": null,
   "id": "a44e4dab-7e3a-4a4f-ac97-080f804753fb",
   "metadata": {},
   "outputs": [
    {
     "name": "stdout",
     "output_type": "stream",
     "text": [
      "def add_function(b, a):\n",
      "    c = a+b\n",
      "\n"
     ]
    }
   ],
   "source": [
    "%print add_function"
   ]
  },
  {
   "cell_type": "markdown",
   "id": "6eaf3ad6-9f9a-49e1-b54a-b6ec716c6b9b",
   "metadata": {},
   "source": [
    "As we can see `add_function` still doesn't return anything because there were no other functions depending on it. The way to create a function depending on it is to use any of its created variables in another cell function, like so:\n",
    "\n",
    "```python\n",
    "%%function uses_c\n",
    "print (c)\n",
    "```\n",
    "Since we won't be needing such function for the time being, we can just manually add this dependency with the magic `add_to_signature`:"
   ]
  },
  {
   "cell_type": "code",
   "execution_count": null,
   "id": "777086f0-098c-4379-8f19-e91b6b507efe",
   "metadata": {},
   "outputs": [],
   "source": [
    "%add_to_signature add_function --output c"
   ]
  },
  {
   "cell_type": "markdown",
   "id": "7cadbe3a-2230-44e3-ae10-05cb3db2820b",
   "metadata": {},
   "source": [
    "Now `add_function` has the required output:"
   ]
  },
  {
   "cell_type": "code",
   "execution_count": null,
   "id": "d877822e-6068-40b4-8e4a-651c48c4d6ac",
   "metadata": {},
   "outputs": [
    {
     "name": "stdout",
     "output_type": "stream",
     "text": [
      "def add_function(b, a):\n",
      "    c = a+b\n",
      "    return c\n",
      "\n"
     ]
    }
   ],
   "source": [
    "%print add_function"
   ]
  },
  {
   "cell_type": "markdown",
   "id": "915be277-9df6-48a5-a941-6f308c436138",
   "metadata": {},
   "source": [
    "Now we can finally add our test function:"
   ]
  },
  {
   "cell_type": "code",
   "execution_count": null,
   "id": "38c357d8-6c9e-4a82-a370-8982609c9204",
   "metadata": {},
   "outputs": [],
   "source": [
    "%%function add_function --test\n",
    "c = add_function (a, b)\n",
    "assert c==3"
   ]
  },
  {
   "cell_type": "markdown",
   "id": "28d757e8-c4a0-49d6-a62c-ad27afb86b95",
   "metadata": {},
   "source": [
    "## Turning on and off running test results"
   ]
  },
  {
   "cell_type": "code",
   "execution_count": null,
   "id": "4d6da305-ffe7-4cde-9cdf-9acbe56f06bb",
   "metadata": {},
   "outputs": [],
   "source": [
    "from time import sleep"
   ]
  },
  {
   "cell_type": "code",
   "execution_count": null,
   "id": "2493ca2c-d71a-4877-b316-a7a17ad6c82f",
   "metadata": {},
   "outputs": [],
   "source": [
    "%%function test_add --test\n",
    "print ('Sleeping...')\n",
    "sleep (2)\n",
    "print ('Ready!')\n",
    "a = 1\n",
    "b = 2\n",
    "assert a+b==3"
   ]
  },
  {
   "cell_type": "code",
   "execution_count": null,
   "id": "b9620f40-024b-475e-86d8-2c98119b1a6e",
   "metadata": {},
   "outputs": [
    {
     "name": "stdout",
     "output_type": "stream",
     "text": [
      "previous values: 1, 2\n"
     ]
    }
   ],
   "source": [
    "print (f'previous values: {a}, {b}')"
   ]
  },
  {
   "cell_type": "markdown",
   "id": "7318330e-d0ed-4d80-bda1-c95d4dc393cd",
   "metadata": {},
   "source": [
    "To avoid load pre-existing results, we can set the flag `override` to True. By doing so, the global load flag is overriden with False, unless we explicitly pass --load in the command line."
   ]
  },
  {
   "cell_type": "code",
   "execution_count": null,
   "id": "25234075-3921-427a-81f2-c0d21bc6b3f3",
   "metadata": {},
   "outputs": [
    {
     "name": "stdout",
     "output_type": "stream",
     "text": [
      "Sleeping...\n",
      "Ready!\n"
     ]
    }
   ],
   "source": [
    "%%function test_add --test --override\n",
    "print ('Sleeping...')\n",
    "sleep (2)\n",
    "print ('Ready!')\n",
    "a = 10\n",
    "b = 20\n",
    "assert a+b==30"
   ]
  },
  {
   "cell_type": "code",
   "execution_count": null,
   "id": "c64302c4-657a-438a-a2c2-ec6f706db292",
   "metadata": {},
   "outputs": [
    {
     "name": "stdout",
     "output_type": "stream",
     "text": [
      "new values: 10, 20\n"
     ]
    }
   ],
   "source": [
    "print (f'new values: {a}, {b}')"
   ]
  },
  {
   "cell_type": "markdown",
   "id": "3e0e3759-71bb-440b-ac4c-5eab0a8a08b4",
   "metadata": {},
   "source": [
    "We can also set the global load flag to false:"
   ]
  },
  {
   "cell_type": "code",
   "execution_count": null,
   "id": "e1b59ae5-929a-4613-b6e9-2053a2e7ec50",
   "metadata": {},
   "outputs": [
    {
     "name": "stdout",
     "output_type": "stream",
     "text": [
      "changing global load flag to False\n"
     ]
    }
   ],
   "source": [
    "%not_load_tests"
   ]
  },
  {
   "cell_type": "code",
   "execution_count": null,
   "id": "ceb9dab2-439c-4d89-8c0c-e970e19af9c3",
   "metadata": {},
   "outputs": [
    {
     "name": "stdout",
     "output_type": "stream",
     "text": [
      "Sleeping...\n",
      "Ready!\n"
     ]
    }
   ],
   "source": [
    "%%function test_add --test\n",
    "print ('Sleeping...')\n",
    "sleep (2)\n",
    "print ('Ready!')\n",
    "a = 100\n",
    "b = 200\n",
    "assert a+b==300"
   ]
  },
  {
   "cell_type": "code",
   "execution_count": null,
   "id": "577cb5fe-de85-43b9-b933-36e02a231bf3",
   "metadata": {},
   "outputs": [
    {
     "name": "stdout",
     "output_type": "stream",
     "text": [
      "new values: 100, 200\n"
     ]
    }
   ],
   "source": [
    "print (f'new values: {a}, {b}')"
   ]
  }
 ],
 "metadata": {
  "kernelspec": {
   "display_name": "tsforecast",
   "language": "python",
   "name": "tsforecast"
  }
 },
 "nbformat": 4,
 "nbformat_minor": 5
}
