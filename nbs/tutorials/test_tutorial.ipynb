{
 "cells": [
  {
   "cell_type": "markdown",
   "id": "2d540894-e097-420a-a9a9-828c14fda549",
   "metadata": {},
   "source": [
    "# Writing tests\n",
    "\n",
    "> How to write tests with `nbmodular`"
   ]
  },
  {
   "cell_type": "code",
   "execution_count": null,
   "id": "f4d22799-0ce0-407a-b43a-dd3e8f2e0ee3",
   "metadata": {},
   "outputs": [],
   "source": [
    "%load_ext nbmodular.core.cell2func"
   ]
  },
  {
   "cell_type": "markdown",
   "id": "88de8845-01db-4d9b-a005-3f0792915515",
   "metadata": {},
   "source": [
    "## Writing tests with dependencies"
   ]
  },
  {
   "cell_type": "markdown",
   "id": "6dcb652f-e36e-44a0-bd5e-dbb360497366",
   "metadata": {},
   "source": [
    "It is best to define data variables in separate data functions, so that they can be retrieved and reused from different test functions:"
   ]
  },
  {
   "cell_type": "code",
   "execution_count": null,
   "id": "4f61967a-a6fe-49e0-be3f-91d8846171d7",
   "metadata": {},
   "outputs": [],
   "source": [
    "%%function first_data --test --data\n",
    "a = 1"
   ]
  },
  {
   "cell_type": "code",
   "execution_count": null,
   "id": "256529e5-fd9f-4ec6-84bb-f0e0cdf0f508",
   "metadata": {},
   "outputs": [],
   "source": [
    "%%function second_data --test --data\n",
    "b = 2"
   ]
  },
  {
   "cell_type": "markdown",
   "id": "3b7467c6-32d0-4052-a8d9-961f8eaa8ca0",
   "metadata": {},
   "source": [
    "Then we can define our test function. This function uses the variables defined in our previous data functions:"
   ]
  },
  {
   "cell_type": "code",
   "execution_count": null,
   "id": "cfce40c8-7b6e-4214-b53d-7c56d152a007",
   "metadata": {},
   "outputs": [],
   "source": [
    "%%function first_test --test\n",
    "assert a+b == 3"
   ]
  },
  {
   "cell_type": "markdown",
   "id": "01110b73-b1e4-41bd-86ef-9e495728332e",
   "metadata": {},
   "source": [
    "The way this function is implemented is by retrieving first the input variables from the previous data functions, before then using them:"
   ]
  },
  {
   "cell_type": "code",
   "execution_count": null,
   "id": "e3631be6-bc0d-47a8-b21e-0087f6d3a5cb",
   "metadata": {},
   "outputs": [
    {
     "name": "stdout",
     "output_type": "stream",
     "text": [
      "def test_first_test():\n",
      "    a = test_first_data()\n",
      "    b = test_second_data()\n",
      "    assert a+b == 3\n",
      "\n"
     ]
    }
   ],
   "source": [
    "%print test_first_test --test"
   ]
  },
  {
   "cell_type": "markdown",
   "id": "6e69fb14-dfca-49df-be6a-b6ca50f44368",
   "metadata": {},
   "source": [
    "If we try to define the same variable in another data function, we will get an error:"
   ]
  },
  {
   "cell_type": "code",
   "execution_count": null,
   "id": "206416dc-6f3b-4f8d-aae9-514f3e8db004",
   "metadata": {},
   "outputs": [
    {
     "ename": "ValueError",
     "evalue": "detected common variables with other test data functions {'b'}:",
     "output_type": "error",
     "traceback": [
      "\u001b[0;31m---------------------------------------------------------------------------\u001b[0m",
      "\u001b[0;31mValueError\u001b[0m                                Traceback (most recent call last)",
      "Cell \u001b[0;32mIn[6], line 1\u001b[0m\n\u001b[0;32m----> 1\u001b[0m \u001b[43mget_ipython\u001b[49m\u001b[43m(\u001b[49m\u001b[43m)\u001b[49m\u001b[38;5;241;43m.\u001b[39;49m\u001b[43mrun_cell_magic\u001b[49m\u001b[43m(\u001b[49m\u001b[38;5;124;43m'\u001b[39;49m\u001b[38;5;124;43mfunction\u001b[39;49m\u001b[38;5;124;43m'\u001b[39;49m\u001b[43m,\u001b[49m\u001b[43m \u001b[49m\u001b[38;5;124;43m'\u001b[39;49m\u001b[38;5;124;43mthird_data --test --data\u001b[39;49m\u001b[38;5;124;43m'\u001b[39;49m\u001b[43m,\u001b[49m\u001b[43m \u001b[49m\u001b[38;5;124;43m'\u001b[39;49m\u001b[38;5;124;43mb = 3\u001b[39;49m\u001b[38;5;130;43;01m\\n\u001b[39;49;00m\u001b[38;5;124;43m'\u001b[39;49m\u001b[43m)\u001b[49m\n",
      "File \u001b[0;32m~/miniconda3/envs/tsforecast/lib/python3.10/site-packages/IPython/core/interactiveshell.py:2430\u001b[0m, in \u001b[0;36mInteractiveShell.run_cell_magic\u001b[0;34m(self, magic_name, line, cell)\u001b[0m\n\u001b[1;32m   2428\u001b[0m \u001b[38;5;28;01mwith\u001b[39;00m \u001b[38;5;28mself\u001b[39m\u001b[38;5;241m.\u001b[39mbuiltin_trap:\n\u001b[1;32m   2429\u001b[0m     args \u001b[38;5;241m=\u001b[39m (magic_arg_s, cell)\n\u001b[0;32m-> 2430\u001b[0m     result \u001b[38;5;241m=\u001b[39m \u001b[43mfn\u001b[49m\u001b[43m(\u001b[49m\u001b[38;5;241;43m*\u001b[39;49m\u001b[43margs\u001b[49m\u001b[43m,\u001b[49m\u001b[43m \u001b[49m\u001b[38;5;241;43m*\u001b[39;49m\u001b[38;5;241;43m*\u001b[39;49m\u001b[43mkwargs\u001b[49m\u001b[43m)\u001b[49m\n\u001b[1;32m   2432\u001b[0m \u001b[38;5;66;03m# The code below prevents the output from being displayed\u001b[39;00m\n\u001b[1;32m   2433\u001b[0m \u001b[38;5;66;03m# when using magics with decodator @output_can_be_silenced\u001b[39;00m\n\u001b[1;32m   2434\u001b[0m \u001b[38;5;66;03m# when the last Python token in the expression is a ';'.\u001b[39;00m\n\u001b[1;32m   2435\u001b[0m \u001b[38;5;28;01mif\u001b[39;00m \u001b[38;5;28mgetattr\u001b[39m(fn, magic\u001b[38;5;241m.\u001b[39mMAGIC_OUTPUT_CAN_BE_SILENCED, \u001b[38;5;28;01mFalse\u001b[39;00m):\n",
      "File \u001b[0;32m~/workspace/mine/nbmodular/nbmodular/core/cell2func.py:786\u001b[0m, in \u001b[0;36mCellProcessorMagic.function\u001b[0;34m(self, line, cell)\u001b[0m\n\u001b[1;32m    783\u001b[0m \u001b[38;5;129m@cell_magic\u001b[39m\n\u001b[1;32m    784\u001b[0m \u001b[38;5;28;01mdef\u001b[39;00m \u001b[38;5;21mfunction\u001b[39m (\u001b[38;5;28mself\u001b[39m, line, cell):\n\u001b[1;32m    785\u001b[0m     \u001b[38;5;124m\"\u001b[39m\u001b[38;5;124mConverts cell to function\u001b[39m\u001b[38;5;124m\"\u001b[39m\n\u001b[0;32m--> 786\u001b[0m     \u001b[38;5;28;43mself\u001b[39;49m\u001b[38;5;241;43m.\u001b[39;49m\u001b[43mprocessor\u001b[49m\u001b[38;5;241;43m.\u001b[39;49m\u001b[43mprocess_function_call\u001b[49m\u001b[43m \u001b[49m\u001b[43m(\u001b[49m\u001b[43mline\u001b[49m\u001b[43m,\u001b[49m\u001b[43m \u001b[49m\u001b[43mcell\u001b[49m\u001b[43m)\u001b[49m\n",
      "File \u001b[0;32m~/workspace/mine/nbmodular/nbmodular/core/cell2func.py:320\u001b[0m, in \u001b[0;36mCellProcessor.process_function_call\u001b[0;34m(self, line, cell, add_call)\u001b[0m\n\u001b[1;32m    318\u001b[0m     \u001b[38;5;28mself\u001b[39m\u001b[38;5;241m.\u001b[39madd_call (call)\n\u001b[1;32m    319\u001b[0m function_name, kwargs \u001b[38;5;241m=\u001b[39m \u001b[38;5;28mself\u001b[39m\u001b[38;5;241m.\u001b[39mparse_signature (line)\n\u001b[0;32m--> 320\u001b[0m \u001b[38;5;28;43mself\u001b[39;49m\u001b[38;5;241;43m.\u001b[39;49m\u001b[43mfunction\u001b[49m\u001b[43m \u001b[49m\u001b[43m(\u001b[49m\u001b[43mfunction_name\u001b[49m\u001b[43m,\u001b[49m\u001b[43m \u001b[49m\u001b[43mcell\u001b[49m\u001b[43m,\u001b[49m\u001b[43m \u001b[49m\u001b[43mcall\u001b[49m\u001b[38;5;241;43m=\u001b[39;49m\u001b[43mcall\u001b[49m\u001b[43m,\u001b[49m\u001b[43m \u001b[49m\u001b[38;5;241;43m*\u001b[39;49m\u001b[38;5;241;43m*\u001b[39;49m\u001b[43mkwargs\u001b[49m\u001b[43m)\u001b[49m\n",
      "File \u001b[0;32m~/workspace/mine/nbmodular/nbmodular/core/cell2func.py:563\u001b[0m, in \u001b[0;36mCellProcessor.function\u001b[0;34m(self, func, cell, merge, show, register_pipeline, pipeline_name, write, **kwargs)\u001b[0m\n\u001b[1;32m    560\u001b[0m         \u001b[38;5;28mself\u001b[39m\u001b[38;5;241m.\u001b[39mfunction_list\u001b[38;5;241m.\u001b[39mremove (f)\n\u001b[1;32m    561\u001b[0m         \u001b[38;5;28;01mbreak\u001b[39;00m\n\u001b[0;32m--> 563\u001b[0m this_function \u001b[38;5;241m=\u001b[39m \u001b[38;5;28;43mself\u001b[39;49m\u001b[38;5;241;43m.\u001b[39;49m\u001b[43mcreate_function_register_and_run_code\u001b[49m\u001b[43m \u001b[49m\u001b[43m(\u001b[49m\u001b[43mfunc\u001b[49m\u001b[43m,\u001b[49m\u001b[43m \u001b[49m\u001b[43mcell\u001b[49m\u001b[43m,\u001b[49m\u001b[43m \u001b[49m\u001b[43mshow\u001b[49m\u001b[38;5;241;43m=\u001b[39;49m\u001b[43mshow\u001b[49m\u001b[43m,\u001b[49m\u001b[43m \u001b[49m\u001b[38;5;241;43m*\u001b[39;49m\u001b[38;5;241;43m*\u001b[39;49m\u001b[43mkwargs\u001b[49m\u001b[43m)\u001b[49m\n\u001b[1;32m    564\u001b[0m \u001b[38;5;28;01mif\u001b[39;00m func \u001b[38;5;129;01min\u001b[39;00m \u001b[38;5;28mself\u001b[39m\u001b[38;5;241m.\u001b[39mfunction_info \u001b[38;5;129;01mand\u001b[39;00m merge:\n\u001b[1;32m    565\u001b[0m     this_function \u001b[38;5;241m=\u001b[39m \u001b[38;5;28mself\u001b[39m\u001b[38;5;241m.\u001b[39mmerge_functions (\u001b[38;5;28mself\u001b[39m\u001b[38;5;241m.\u001b[39mfunction_info[func], this_function, show\u001b[38;5;241m=\u001b[39mshow)\n",
      "File \u001b[0;32m~/workspace/mine/nbmodular/nbmodular/core/cell2func.py:535\u001b[0m, in \u001b[0;36mCellProcessor.create_function_register_and_run_code\u001b[0;34m(self, func, cell, call, input, unknown_input, output, unknown_output, collect_variables_values, make_function, update_previous_functions, show, load, save, test, norun, data, permanent)\u001b[0m\n\u001b[1;32m    533\u001b[0m     common \u001b[38;5;241m=\u001b[39m \u001b[38;5;28mset\u001b[39m(\u001b[38;5;28mself\u001b[39m\u001b[38;5;241m.\u001b[39mcurrent_function\u001b[38;5;241m.\u001b[39mall_variables)\u001b[38;5;241m.\u001b[39mintersection (\u001b[38;5;28mself\u001b[39m\u001b[38;5;241m.\u001b[39mtest_data_all_variables)\n\u001b[1;32m    534\u001b[0m     \u001b[38;5;28;01mif\u001b[39;00m \u001b[38;5;28mlen\u001b[39m(common)\u001b[38;5;241m>\u001b[39m\u001b[38;5;241m0\u001b[39m:\n\u001b[0;32m--> 535\u001b[0m         \u001b[38;5;28;01mraise\u001b[39;00m \u001b[38;5;167;01mValueError\u001b[39;00m (\u001b[38;5;124mf\u001b[39m\u001b[38;5;124m'\u001b[39m\u001b[38;5;124mdetected common variables with other test data functions \u001b[39m\u001b[38;5;132;01m{\u001b[39;00mcommon\u001b[38;5;132;01m}\u001b[39;00m\u001b[38;5;124m:\u001b[39m\u001b[38;5;124m'\u001b[39m)\n\u001b[1;32m    537\u001b[0m \u001b[38;5;28;01mif\u001b[39;00m \u001b[38;5;129;01mnot\u001b[39;00m \u001b[38;5;28mself\u001b[39m\u001b[38;5;241m.\u001b[39mcurrent_function\u001b[38;5;241m.\u001b[39mtest \u001b[38;5;129;01mand\u001b[39;00m \u001b[38;5;129;01mnot\u001b[39;00m \u001b[38;5;28mself\u001b[39m\u001b[38;5;241m.\u001b[39mcurrent_function\u001b[38;5;241m.\u001b[39mdata:\n\u001b[1;32m    538\u001b[0m     \u001b[38;5;28mself\u001b[39m\u001b[38;5;241m.\u001b[39mall_variables \u001b[38;5;241m|\u001b[39m\u001b[38;5;241m=\u001b[39m \u001b[38;5;28mset\u001b[39m(\u001b[38;5;28mself\u001b[39m\u001b[38;5;241m.\u001b[39mcurrent_function\u001b[38;5;241m.\u001b[39mall_variables)\n",
      "\u001b[0;31mValueError\u001b[0m: detected common variables with other test data functions {'b'}:"
     ]
    }
   ],
   "source": [
    "%%function third_data --test --data\n",
    "b = 3"
   ]
  },
  {
   "cell_type": "markdown",
   "id": "6a5aa106-9bef-4762-99ab-560b2c287e88",
   "metadata": {},
   "source": [
    "## Running tests and loading / saving"
   ]
  },
  {
   "cell_type": "code",
   "execution_count": null,
   "id": "8d1d2ae0-a3be-4c01-b2d8-8ad5f18af9c7",
   "metadata": {},
   "outputs": [],
   "source": []
  }
 ],
 "metadata": {
  "kernelspec": {
   "display_name": "tsforecast",
   "language": "python",
   "name": "tsforecast"
  }
 },
 "nbformat": 4,
 "nbformat_minor": 5
}
