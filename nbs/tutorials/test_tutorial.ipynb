{
 "cells": [
  {
   "cell_type": "markdown",
   "id": "2d540894-e097-420a-a9a9-828c14fda549",
   "metadata": {},
   "source": [
    "# Writing tests\n",
    "\n",
    "> How to write tests with `nbmodular`"
   ]
  },
  {
   "cell_type": "code",
   "execution_count": null,
   "id": "f4d22799-0ce0-407a-b43a-dd3e8f2e0ee3",
   "metadata": {},
   "outputs": [],
   "source": [
    "%load_ext nbmodular.core.cell2func"
   ]
  },
  {
   "cell_type": "markdown",
   "id": "83e54c71-2dcf-4c20-8efd-2950d1536258",
   "metadata": {},
   "source": [
    "## Implement functions"
   ]
  },
  {
   "cell_type": "code",
   "execution_count": null,
   "id": "62ba70c5-396b-4b8d-9069-921b3d58a162",
   "metadata": {},
   "outputs": [],
   "source": [
    "%%function data\n",
    "a=1\n",
    "b=2"
   ]
  },
  {
   "cell_type": "code",
   "execution_count": null,
   "id": "405e87ad-70ab-4e56-bffe-b498c1deb6ad",
   "metadata": {},
   "outputs": [],
   "source": [
    "%%function add_function\n",
    "c = a+b"
   ]
  },
  {
   "cell_type": "markdown",
   "id": "88de8845-01db-4d9b-a005-3f0792915515",
   "metadata": {},
   "source": [
    "## Writing tests with dependencies"
   ]
  },
  {
   "cell_type": "markdown",
   "id": "6dcb652f-e36e-44a0-bd5e-dbb360497366",
   "metadata": {},
   "source": [
    "It is best to define data variables in separate data functions, so that they can be retrieved and reused from different test functions:"
   ]
  },
  {
   "cell_type": "code",
   "execution_count": null,
   "id": "4f61967a-a6fe-49e0-be3f-91d8846171d7",
   "metadata": {},
   "outputs": [],
   "source": [
    "%%function first_data --test --data\n",
    "a = 1"
   ]
  },
  {
   "cell_type": "code",
   "execution_count": null,
   "id": "256529e5-fd9f-4ec6-84bb-f0e0cdf0f508",
   "metadata": {},
   "outputs": [],
   "source": [
    "%%function second_data --test --data\n",
    "b = 2"
   ]
  },
  {
   "cell_type": "markdown",
   "id": "3b7467c6-32d0-4052-a8d9-961f8eaa8ca0",
   "metadata": {},
   "source": [
    "Then we can define our test function. This function uses the variables defined in our previous data functions:"
   ]
  },
  {
   "cell_type": "markdown",
   "id": "27642150-23af-4e9a-bc98-a972d01891fc",
   "metadata": {},
   "source": [
    "Before trying to test a previous function we need to ensure that its output is the required one:"
   ]
  },
  {
   "cell_type": "code",
   "execution_count": null,
   "id": "a44e4dab-7e3a-4a4f-ac97-080f804753fb",
   "metadata": {},
   "outputs": [
    {
     "name": "stdout",
     "output_type": "stream",
     "text": [
      "def add_function(a, b):\n",
      "    c = a+b\n",
      "\n"
     ]
    }
   ],
   "source": [
    "%print add_function"
   ]
  },
  {
   "cell_type": "markdown",
   "id": "bc6fff9b-ddac-41bc-8b87-18ebd53b0c80",
   "metadata": {},
   "source": [
    "As we can see `add_function` still doesn't return anything because there were no other functions depending on it. The way to create a function depending on it is to use any of its created variables in another cell function, like so:\n",
    "\n",
    "```python\n",
    "%%function uses_c\n",
    "print (c)\n",
    "```\n",
    "Since we won't be needing such function for the time being, we can just manually add this dependency with the magic `add_to_signature`:"
   ]
  },
  {
   "cell_type": "code",
   "execution_count": null,
   "id": "777086f0-098c-4379-8f19-e91b6b507efe",
   "metadata": {},
   "outputs": [],
   "source": [
    "%add_to_signature add_function --output c"
   ]
  },
  {
   "cell_type": "markdown",
   "id": "11e02747-5d3b-4295-a2de-c71515b8f1b9",
   "metadata": {},
   "source": [
    "Now `add_function` has the required output:"
   ]
  },
  {
   "cell_type": "code",
   "execution_count": null,
   "id": "d877822e-6068-40b4-8e4a-651c48c4d6ac",
   "metadata": {},
   "outputs": [
    {
     "name": "stdout",
     "output_type": "stream",
     "text": [
      "def add_function(a, b):\n",
      "    c = a+b\n",
      "    return c\n",
      "\n"
     ]
    }
   ],
   "source": [
    "%print add_function"
   ]
  },
  {
   "cell_type": "markdown",
   "id": "57c39aab-59ba-4a69-8eb9-54561f5ac18c",
   "metadata": {},
   "source": [
    "And we can call it in our test function:"
   ]
  },
  {
   "cell_type": "code",
   "execution_count": null,
   "id": "1a1a140d-a2da-4bcf-bbb7-679095234081",
   "metadata": {},
   "outputs": [],
   "source": [
    "%%function add_function --test\n",
    "c = add_function (a, b)\n",
    "assert c==3"
   ]
  },
  {
   "cell_type": "markdown",
   "id": "c9354e03-842c-468c-b748-30f44f169e75",
   "metadata": {},
   "source": [
    "Let's look at the resulting implementation of our test function:"
   ]
  },
  {
   "cell_type": "code",
   "execution_count": null,
   "id": "da492033-fe26-4228-ab20-30a7a98f8000",
   "metadata": {},
   "outputs": [
    {
     "name": "stdout",
     "output_type": "stream",
     "text": [
      "def test_add_function():\n",
      "    a = test_first_data()\n",
      "    b = test_second_data()\n",
      "    c = add_function (a, b)\n",
      "    assert c==3\n",
      "\n"
     ]
    }
   ],
   "source": [
    "%print test_add_function --test"
   ]
  },
  {
   "cell_type": "markdown",
   "id": "6e69fb14-dfca-49df-be6a-b6ca50f44368",
   "metadata": {},
   "source": [
    "If we try to define the same variable in another data function, we will get an error:"
   ]
  },
  {
   "cell_type": "code",
   "execution_count": null,
   "id": "206416dc-6f3b-4f8d-aae9-514f3e8db004",
   "metadata": {},
   "outputs": [
    {
     "ename": "ValueError",
     "evalue": "detected common variables with other test data functions {'b'}:",
     "output_type": "error",
     "traceback": [
      "\u001b[0;31m---------------------------------------------------------------------------\u001b[0m",
      "\u001b[0;31mValueError\u001b[0m                                Traceback (most recent call last)",
      "Cell \u001b[0;32mIn[11], line 1\u001b[0m\n\u001b[0;32m----> 1\u001b[0m \u001b[43mget_ipython\u001b[49m\u001b[43m(\u001b[49m\u001b[43m)\u001b[49m\u001b[38;5;241;43m.\u001b[39;49m\u001b[43mrun_cell_magic\u001b[49m\u001b[43m(\u001b[49m\u001b[38;5;124;43m'\u001b[39;49m\u001b[38;5;124;43mfunction\u001b[39;49m\u001b[38;5;124;43m'\u001b[39;49m\u001b[43m,\u001b[49m\u001b[43m \u001b[49m\u001b[38;5;124;43m'\u001b[39;49m\u001b[38;5;124;43mthird_data --test --data\u001b[39;49m\u001b[38;5;124;43m'\u001b[39;49m\u001b[43m,\u001b[49m\u001b[43m \u001b[49m\u001b[38;5;124;43m'\u001b[39;49m\u001b[38;5;124;43mb = 3\u001b[39;49m\u001b[38;5;130;43;01m\\n\u001b[39;49;00m\u001b[38;5;124;43m'\u001b[39;49m\u001b[43m)\u001b[49m\n",
      "File \u001b[0;32m~/miniconda3/envs/tsforecast/lib/python3.10/site-packages/IPython/core/interactiveshell.py:2430\u001b[0m, in \u001b[0;36mInteractiveShell.run_cell_magic\u001b[0;34m(self, magic_name, line, cell)\u001b[0m\n\u001b[1;32m   2428\u001b[0m \u001b[38;5;28;01mwith\u001b[39;00m \u001b[38;5;28mself\u001b[39m\u001b[38;5;241m.\u001b[39mbuiltin_trap:\n\u001b[1;32m   2429\u001b[0m     args \u001b[38;5;241m=\u001b[39m (magic_arg_s, cell)\n\u001b[0;32m-> 2430\u001b[0m     result \u001b[38;5;241m=\u001b[39m \u001b[43mfn\u001b[49m\u001b[43m(\u001b[49m\u001b[38;5;241;43m*\u001b[39;49m\u001b[43margs\u001b[49m\u001b[43m,\u001b[49m\u001b[43m \u001b[49m\u001b[38;5;241;43m*\u001b[39;49m\u001b[38;5;241;43m*\u001b[39;49m\u001b[43mkwargs\u001b[49m\u001b[43m)\u001b[49m\n\u001b[1;32m   2432\u001b[0m \u001b[38;5;66;03m# The code below prevents the output from being displayed\u001b[39;00m\n\u001b[1;32m   2433\u001b[0m \u001b[38;5;66;03m# when using magics with decodator @output_can_be_silenced\u001b[39;00m\n\u001b[1;32m   2434\u001b[0m \u001b[38;5;66;03m# when the last Python token in the expression is a ';'.\u001b[39;00m\n\u001b[1;32m   2435\u001b[0m \u001b[38;5;28;01mif\u001b[39;00m \u001b[38;5;28mgetattr\u001b[39m(fn, magic\u001b[38;5;241m.\u001b[39mMAGIC_OUTPUT_CAN_BE_SILENCED, \u001b[38;5;28;01mFalse\u001b[39;00m):\n",
      "File \u001b[0;32m~/workspace/mine/nbmodular/nbmodular/core/cell2func.py:881\u001b[0m, in \u001b[0;36mCellProcessorMagic.function\u001b[0;34m(self, line, cell)\u001b[0m\n\u001b[1;32m    878\u001b[0m \u001b[38;5;129m@cell_magic\u001b[39m\n\u001b[1;32m    879\u001b[0m \u001b[38;5;28;01mdef\u001b[39;00m \u001b[38;5;21mfunction\u001b[39m (\u001b[38;5;28mself\u001b[39m, line, cell):\n\u001b[1;32m    880\u001b[0m     \u001b[38;5;124m\"\u001b[39m\u001b[38;5;124mConverts cell to function\u001b[39m\u001b[38;5;124m\"\u001b[39m\n\u001b[0;32m--> 881\u001b[0m     \u001b[38;5;28;43mself\u001b[39;49m\u001b[38;5;241;43m.\u001b[39;49m\u001b[43mprocessor\u001b[49m\u001b[38;5;241;43m.\u001b[39;49m\u001b[43mprocess_function_call\u001b[49m\u001b[43m \u001b[49m\u001b[43m(\u001b[49m\u001b[43mline\u001b[49m\u001b[43m,\u001b[49m\u001b[43m \u001b[49m\u001b[43mcell\u001b[49m\u001b[43m)\u001b[49m\n",
      "File \u001b[0;32m~/workspace/mine/nbmodular/nbmodular/core/cell2func.py:397\u001b[0m, in \u001b[0;36mCellProcessor.process_function_call\u001b[0;34m(self, line, cell, add_call)\u001b[0m\n\u001b[1;32m    395\u001b[0m     \u001b[38;5;28mself\u001b[39m\u001b[38;5;241m.\u001b[39madd_call (call)\n\u001b[1;32m    396\u001b[0m function_name, kwargs \u001b[38;5;241m=\u001b[39m \u001b[38;5;28mself\u001b[39m\u001b[38;5;241m.\u001b[39mparse_signature (line)\n\u001b[0;32m--> 397\u001b[0m \u001b[38;5;28;43mself\u001b[39;49m\u001b[38;5;241;43m.\u001b[39;49m\u001b[43mfunction\u001b[49m\u001b[43m \u001b[49m\u001b[43m(\u001b[49m\u001b[43mfunction_name\u001b[49m\u001b[43m,\u001b[49m\u001b[43m \u001b[49m\u001b[43mcell\u001b[49m\u001b[43m,\u001b[49m\u001b[43m \u001b[49m\u001b[43mcall\u001b[49m\u001b[38;5;241;43m=\u001b[39;49m\u001b[43mcall\u001b[49m\u001b[43m,\u001b[49m\u001b[43m \u001b[49m\u001b[38;5;241;43m*\u001b[39;49m\u001b[38;5;241;43m*\u001b[39;49m\u001b[43mkwargs\u001b[49m\u001b[43m)\u001b[49m\n",
      "File \u001b[0;32m~/workspace/mine/nbmodular/nbmodular/core/cell2func.py:658\u001b[0m, in \u001b[0;36mCellProcessor.function\u001b[0;34m(self, func, cell, merge, show, register_pipeline, pipeline_name, write, test, data, **kwargs)\u001b[0m\n\u001b[1;32m    655\u001b[0m         function_list\u001b[38;5;241m.\u001b[39mremove (f)\n\u001b[1;32m    656\u001b[0m         \u001b[38;5;28;01mbreak\u001b[39;00m\n\u001b[0;32m--> 658\u001b[0m this_function \u001b[38;5;241m=\u001b[39m \u001b[38;5;28;43mself\u001b[39;49m\u001b[38;5;241;43m.\u001b[39;49m\u001b[43mcreate_function_register_and_run_code\u001b[49m\u001b[43m \u001b[49m\u001b[43m(\u001b[49m\u001b[43mfunc\u001b[49m\u001b[43m,\u001b[49m\u001b[43m \u001b[49m\u001b[43mcell\u001b[49m\u001b[43m,\u001b[49m\u001b[43m \u001b[49m\u001b[43mshow\u001b[49m\u001b[38;5;241;43m=\u001b[39;49m\u001b[43mshow\u001b[49m\u001b[43m,\u001b[49m\u001b[43m \u001b[49m\u001b[43mtest\u001b[49m\u001b[38;5;241;43m=\u001b[39;49m\u001b[43mtest\u001b[49m\u001b[43m,\u001b[49m\u001b[43m \u001b[49m\u001b[43mdata\u001b[49m\u001b[38;5;241;43m=\u001b[39;49m\u001b[43mdata\u001b[49m\u001b[43m,\u001b[49m\u001b[43m \u001b[49m\u001b[38;5;241;43m*\u001b[39;49m\u001b[38;5;241;43m*\u001b[39;49m\u001b[43mkwargs\u001b[49m\u001b[43m)\u001b[49m\n\u001b[1;32m    659\u001b[0m \u001b[38;5;28;01mif\u001b[39;00m func \u001b[38;5;129;01min\u001b[39;00m \u001b[38;5;28mself\u001b[39m\u001b[38;5;241m.\u001b[39mfunction_info \u001b[38;5;129;01mand\u001b[39;00m merge:\n\u001b[1;32m    660\u001b[0m     this_function \u001b[38;5;241m=\u001b[39m \u001b[38;5;28mself\u001b[39m\u001b[38;5;241m.\u001b[39mmerge_functions (\u001b[38;5;28mself\u001b[39m\u001b[38;5;241m.\u001b[39mfunction_info[func], this_function, show\u001b[38;5;241m=\u001b[39mshow)\n",
      "File \u001b[0;32m~/workspace/mine/nbmodular/nbmodular/core/cell2func.py:624\u001b[0m, in \u001b[0;36mCellProcessor.create_function_register_and_run_code\u001b[0;34m(self, func, cell, call, input, unknown_input, output, unknown_output, collect_variables_values, make_function, update_previous_functions, show, load, save, test, norun, data, permanent, **kwargs)\u001b[0m\n\u001b[1;32m    622\u001b[0m     common \u001b[38;5;241m=\u001b[39m \u001b[38;5;28mset\u001b[39m(\u001b[38;5;28mself\u001b[39m\u001b[38;5;241m.\u001b[39mcurrent_function\u001b[38;5;241m.\u001b[39mall_variables)\u001b[38;5;241m.\u001b[39mintersection (\u001b[38;5;28mself\u001b[39m\u001b[38;5;241m.\u001b[39mtest_data_all_variables)\n\u001b[1;32m    623\u001b[0m     \u001b[38;5;28;01mif\u001b[39;00m \u001b[38;5;28mlen\u001b[39m(common)\u001b[38;5;241m>\u001b[39m\u001b[38;5;241m0\u001b[39m:\n\u001b[0;32m--> 624\u001b[0m         \u001b[38;5;28;01mraise\u001b[39;00m \u001b[38;5;167;01mValueError\u001b[39;00m (\u001b[38;5;124mf\u001b[39m\u001b[38;5;124m'\u001b[39m\u001b[38;5;124mdetected common variables with other test data functions \u001b[39m\u001b[38;5;132;01m{\u001b[39;00mcommon\u001b[38;5;132;01m}\u001b[39;00m\u001b[38;5;124m:\u001b[39m\u001b[38;5;124m'\u001b[39m)\n\u001b[1;32m    626\u001b[0m \u001b[38;5;28;01mif\u001b[39;00m \u001b[38;5;129;01mnot\u001b[39;00m \u001b[38;5;28mself\u001b[39m\u001b[38;5;241m.\u001b[39mcurrent_function\u001b[38;5;241m.\u001b[39mtest \u001b[38;5;129;01mand\u001b[39;00m \u001b[38;5;129;01mnot\u001b[39;00m \u001b[38;5;28mself\u001b[39m\u001b[38;5;241m.\u001b[39mcurrent_function\u001b[38;5;241m.\u001b[39mdata:\n\u001b[1;32m    627\u001b[0m     \u001b[38;5;28mself\u001b[39m\u001b[38;5;241m.\u001b[39mall_variables \u001b[38;5;241m|\u001b[39m\u001b[38;5;241m=\u001b[39m \u001b[38;5;28mset\u001b[39m(\u001b[38;5;28mself\u001b[39m\u001b[38;5;241m.\u001b[39mcurrent_function\u001b[38;5;241m.\u001b[39mall_variables)\n",
      "\u001b[0;31mValueError\u001b[0m: detected common variables with other test data functions {'b'}:"
     ]
    }
   ],
   "source": [
    "%%function third_data --test --data\n",
    "b = 3"
   ]
  },
  {
   "cell_type": "code",
   "execution_count": null,
   "id": "8d1d2ae0-a3be-4c01-b2d8-8ad5f18af9c7",
   "metadata": {},
   "outputs": [],
   "source": [
    "%print_pipeline --test"
   ]
  },
  {
   "cell_type": "code",
   "execution_count": null,
   "id": "1f38f4a2-7103-4f7a-a738-c04341b4dbcc",
   "metadata": {},
   "outputs": [],
   "source": [
    "test_test_tutorial_pipeline "
   ]
  },
  {
   "cell_type": "code",
   "execution_count": null,
   "id": "cf16d48e-8b76-42fd-b275-092cc45a9f47",
   "metadata": {},
   "outputs": [],
   "source": [
    "test_test_tutorial_pipeline ()"
   ]
  },
  {
   "cell_type": "code",
   "execution_count": null,
   "id": "9a28bd33-3449-4e2f-be71-65990dc80da9",
   "metadata": {},
   "outputs": [],
   "source": [
    "test_tutorial_pipeline ()"
   ]
  },
  {
   "cell_type": "code",
   "execution_count": null,
   "id": "f479783d-65c7-4357-9035-80350af8e367",
   "metadata": {},
   "outputs": [],
   "source": [
    "tutorial_pipeline "
   ]
  },
  {
   "cell_type": "code",
   "execution_count": null,
   "id": "68b71376-5717-456f-b641-241cd139740f",
   "metadata": {},
   "outputs": [],
   "source": [
    "c = %cell_processor"
   ]
  },
  {
   "cell_type": "code",
   "execution_count": null,
   "id": "454f0174-50d7-4295-99cb-e7098ba1eecf",
   "metadata": {},
   "outputs": [],
   "source": [
    "c.pipeline"
   ]
  },
  {
   "cell_type": "code",
   "execution_count": null,
   "id": "31c238b9-ea52-4c9e-9048-8a432ecb7260",
   "metadata": {},
   "outputs": [],
   "source": []
  }
 ],
 "metadata": {
  "kernelspec": {
   "display_name": "tsforecast",
   "language": "python",
   "name": "tsforecast"
  }
 },
 "nbformat": 4,
 "nbformat_minor": 5
}
