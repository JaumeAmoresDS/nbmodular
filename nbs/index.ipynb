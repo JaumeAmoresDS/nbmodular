{
 "cells": [
  {
   "cell_type": "markdown",
   "metadata": {},
   "source": [
    "# nbmodular\n",
    "\n",
    "> Convert notebooks to modular code."
   ]
  },
  {
   "cell_type": "markdown",
   "metadata": {},
   "source": [
    "Convert data science notebooks with poor modularity to fully modular notebooks that are automatically exported as python modules."
   ]
  },
  {
   "cell_type": "markdown",
   "metadata": {},
   "source": [
    "## Motivation"
   ]
  },
  {
   "cell_type": "markdown",
   "metadata": {},
   "source": [
    "In data science, it is usual to develop experimentally and quickly based on notebooks, with little regard to software engineering practices and modularity. It can become challenging to start working on someone else's notebooks with no modularity in terms of separate functions, and a great degree of duplicated code between the different notebooks. This makes it difficult to understand the logic in terms of semantically separate units, see what are the commonalities and differences between the notebooks, and be able to extend, generalize, and configure the current solution."
   ]
  },
  {
   "cell_type": "markdown",
   "metadata": {},
   "source": [
    "## Objectives\n",
    "\n",
    "`nbmodular` is a library conceived with the objective of helping converting the cells of a notebook into separate functions with clear dependencies in terms of inputs and outputs. This is done though a combination of tools which semi-automatically understand the data-flow in the code, based on mild assumptions about its structure. It also helps test the current logic and compare it against a modularized solution, to make sure that the refactored code is equivalent to the original one. "
   ]
  },
  {
   "cell_type": "markdown",
   "metadata": {},
   "source": [
    "## Features\n",
    "\n",
    "- Convert cells to functions.\n",
    "- The logic of a single function can be written across multiple cells.\n",
    "- Optional: processed cells can continue to operate as cells or be only used as functions from the moment they are converted.\n",
    "- Create an additional pipeline function that provides the data-flow from the first to the last function call in the notebook.\n",
    "- Write all the notebook functions to a separate python module.\n",
    "- Compare the result of the pipeline with the result of running the original notebook.\n",
    "- Converted functions act as nodes in a dependency graph. These nodes can optionally hold the values of local variables for inspection outside of the function. This is similar to having a single global scope, which is the original situation. Since this is memory-consuming, it is optional and may not be the default.\n",
    "- Optional: Once we are able to construct a graph, we may be able to draw it or show it in text, and pass it to ADG processors that can run functions sequentially or in parallel.\n",
    "- Persist the inputs and outputs of functions, so that we may decide to reuse previous results without running the whole notebook. \n",
    "- Optional: if we have the dependency graph and persisted inputs / outputs, we may decide to only run those cells that are predecessors of the current one, i.e., the ones that provide the inputs needed by the current cell. \n",
    "- Optional: if we associate a hash code to input data, we may only run the cells when the input data changes. Similarly, if we associate a hash code with AST-converted function code, we may only run those cells whose code has been updated. \n",
    "- Optional: have a mechanism for indicating test examples that go into different test python files. \n",
    "= Optional: the output of a test cell can be used for assertions, where we require that the current output is the same as the original one."
   ]
  },
  {
   "cell_type": "markdown",
   "metadata": {},
   "source": [
    "## Roadmap"
   ]
  },
  {
   "cell_type": "markdown",
   "metadata": {},
   "source": [
    "- [ ] Convert cell code into functions:\n",
    "    - [x] Inputs are those variables detected in current cell and also detected in previous cells. This solution requires that created variables have unique names across the notebook. However, even if a new variable with the same name is defined inside the cell, the resulting function is still correct.\n",
    "    - Outputs are, at this moment, all the variables detected in current cell that are also detected in posterior cells. \n",
    "    \n",
    "- Filter out outputs:\n",
    "    - Variables detected in current cell, and also detected in previous cells, might not be needed as outputs of the current cell, if the current cell doesn't modify those variables. To detect potential modifications:\n",
    "        - AST: \n",
    "            - If variable appears only on the right of assign statements or in if statements.\n",
    "            - If it appears only as argument of functions which we know don't modify the variable, such as `print`.\n",
    "        - Comparing variable values before and after cell:\n",
    "            - Good for small variables where doing a deep copy is not computationally expensive.\n",
    "        - Using type checker:\n",
    "            - Making the variable `Final` and using mypy or other type checker to see if it is modified in the code.\n",
    "    - Provide hints:\n",
    "        - Variables that come from other cells might not be needed as output. The remaining are most probably needed.\n",
    "        - Variables that are modified are clearly needed."
   ]
  },
  {
   "cell_type": "markdown",
   "metadata": {},
   "source": [
    "## Install"
   ]
  },
  {
   "cell_type": "markdown",
   "metadata": {},
   "source": [
    "```sh\n",
    "pip install nbmodular\n",
    "```"
   ]
  },
  {
   "cell_type": "markdown",
   "metadata": {},
   "source": [
    "## Usage"
   ]
  },
  {
   "cell_type": "markdown",
   "metadata": {},
   "source": [
    "Load ipython extension"
   ]
  },
  {
   "cell_type": "code",
   "execution_count": null,
   "metadata": {},
   "outputs": [],
   "source": [
    "%load_ext nbmodular.core.cell2func"
   ]
  },
  {
   "cell_type": "markdown",
   "metadata": {},
   "source": [
    "Use ipython magic `function` by passing it the name of the function you want:"
   ]
  },
  {
   "cell_type": "code",
   "execution_count": null,
   "metadata": {},
   "outputs": [
    {
     "name": "stdout",
     "output_type": "stream",
     "text": [
      "5\n"
     ]
    },
    {
     "ename": "SyntaxError",
     "evalue": "incomplete input (3508521599.py, line 1)",
     "output_type": "error",
     "traceback": [
      "\u001b[0;36m  Cell \u001b[0;32mIn[2], line 1\u001b[0;36m\u001b[0m\n\u001b[0;31m    def index_pipeline ():\u001b[0m\n\u001b[0m                          ^\u001b[0m\n\u001b[0;31mSyntaxError\u001b[0m\u001b[0;31m:\u001b[0m incomplete input\n"
     ]
    }
   ],
   "source": [
    "%%function get_initial_values\n",
    "a = 2\n",
    "b = 3\n",
    "c = a+b\n",
    "print (a+b)"
   ]
  },
  {
   "cell_type": "markdown",
   "metadata": {},
   "source": [
    "This runs the code in the cell, placing the variables in the global scope so we can access them in other cells:"
   ]
  },
  {
   "cell_type": "code",
   "execution_count": null,
   "metadata": {},
   "outputs": [
    {
     "data": {
      "text/plain": [
       "(2, 3, 5)"
      ]
     },
     "execution_count": null,
     "metadata": {},
     "output_type": "execute_result"
    }
   ],
   "source": [
    "a, b, c"
   ]
  },
  {
   "cell_type": "markdown",
   "metadata": {},
   "source": [
    "At the same time it defines the function `get_initial_values`, as follows:"
   ]
  },
  {
   "cell_type": "code",
   "execution_count": null,
   "metadata": {},
   "outputs": [
    {
     "name": "stdout",
     "output_type": "stream",
     "text": [
      "def get_initial_values():\n",
      "    a = 2\n",
      "    b = 3\n",
      "    c = a+b\n",
      "    print (a+b)\n",
      "\n"
     ]
    }
   ],
   "source": [
    "%print get_initial_values"
   ]
  },
  {
   "cell_type": "markdown",
   "metadata": {},
   "source": [
    "which we can invoke again by calling it:"
   ]
  },
  {
   "cell_type": "code",
   "execution_count": null,
   "metadata": {},
   "outputs": [
    {
     "name": "stdout",
     "output_type": "stream",
     "text": [
      "5\n"
     ]
    }
   ],
   "source": [
    "get_initial_values ()"
   ]
  },
  {
   "cell_type": "markdown",
   "metadata": {},
   "source": [
    "The detected inputs and outputs dynamically change according to the other functions that depend on it. For example, let us define two more functions: `get_d`, which defines a fourth variable, and `add_all`, which depend on the two previous functions, and a last function that prints all `print_all` the previous vaiables, which obviously depends on the the functions defining them:"
   ]
  },
  {
   "cell_type": "code",
   "execution_count": null,
   "metadata": {},
   "outputs": [],
   "source": [
    "%%function get_d\n",
    "d = 10"
   ]
  },
  {
   "cell_type": "code",
   "execution_count": null,
   "metadata": {},
   "outputs": [
    {
     "name": "stdout",
     "output_type": "stream",
     "text": [
      "def get_d():\n",
      "    d = 10\n",
      "\n"
     ]
    }
   ],
   "source": [
    "%print get_d"
   ]
  },
  {
   "cell_type": "code",
   "execution_count": null,
   "metadata": {},
   "outputs": [
    {
     "data": {
      "text/plain": [
       "10"
      ]
     },
     "execution_count": null,
     "metadata": {},
     "output_type": "execute_result"
    }
   ],
   "source": [
    "d"
   ]
  },
  {
   "cell_type": "code",
   "execution_count": null,
   "metadata": {},
   "outputs": [],
   "source": [
    "%%function add_all\n",
    "a = a + d\n",
    "b = b + d\n",
    "c = c + d"
   ]
  },
  {
   "cell_type": "code",
   "execution_count": null,
   "metadata": {},
   "outputs": [
    {
     "name": "stdout",
     "output_type": "stream",
     "text": [
      "12 13 15 10\n"
     ]
    }
   ],
   "source": [
    "%%function print_all\n",
    "print (a, b, c, d)"
   ]
  },
  {
   "cell_type": "code",
   "execution_count": null,
   "metadata": {},
   "outputs": [
    {
     "name": "stdout",
     "output_type": "stream",
     "text": [
      "def get_initial_values():\n",
      "    a = 2\n",
      "    b = 3\n",
      "    c = a+b\n",
      "    print (a+b)\n",
      "    return a,b,c\n",
      "\n",
      "def get_d():\n",
      "    d = 10\n",
      "    return d\n",
      "\n",
      "def add_all(a, b, c, d):\n",
      "    a = a + d\n",
      "    b = b + d\n",
      "    c = c + d\n",
      "    return a,b,c,d\n",
      "\n",
      "def print_all(a, b, c, d):\n",
      "    print (a, b, c, d)\n",
      "\n"
     ]
    }
   ],
   "source": [
    "%print all"
   ]
  },
  {
   "cell_type": "code",
   "execution_count": null,
   "metadata": {},
   "outputs": [
    {
     "name": "stdout",
     "output_type": "stream",
     "text": [
      "def index_pipeline ():\n",
      "    a, b, c = get_initial_values ()\n",
      "    d = get_d ()\n",
      "    a, b, c, d = add_all (a, b, c, d)\n",
      "    print_all (a, b, c, d)\n",
      "\n"
     ]
    }
   ],
   "source": [
    "%print_pipeline"
   ]
  },
  {
   "cell_type": "code",
   "execution_count": null,
   "metadata": {},
   "outputs": [
    {
     "name": "stdout",
     "output_type": "stream",
     "text": [
      "5\n",
      "12 13 15 10\n"
     ]
    }
   ],
   "source": [
    "index_pipeline()"
   ]
  },
  {
   "cell_type": "markdown",
   "metadata": {},
   "source": [
    "We can examine the local variables, arguments and results from a given function:"
   ]
  },
  {
   "cell_type": "code",
   "execution_count": null,
   "metadata": {},
   "outputs": [],
   "source": [
    "get_d_info = %function_info get_d"
   ]
  },
  {
   "cell_type": "markdown",
   "metadata": {},
   "source": [
    "Being a Bunch data type, we can inspect the fields in `get_d_info` using either a dict-like syntax or an attribute-like syntax. The keys are:"
   ]
  },
  {
   "cell_type": "code",
   "execution_count": null,
   "metadata": {},
   "outputs": [
    {
     "data": {
      "text/plain": [
       "dict_keys(['idx', 'original_code', 'name', 'values_before', 'tab_size', 'call', 'values_here', 'variables_here', 'new_variables', 'previous_variables', 'posterior_variables', 'arguments', 'return_values', 'code'])"
      ]
     },
     "execution_count": null,
     "metadata": {},
     "output_type": "execute_result"
    }
   ],
   "source": [
    "get_d_info.keys()"
   ]
  },
  {
   "cell_type": "code",
   "execution_count": null,
   "metadata": {},
   "outputs": [
    {
     "data": {
      "text/plain": [
       "[]"
      ]
     },
     "execution_count": null,
     "metadata": {},
     "output_type": "execute_result"
    }
   ],
   "source": [
    "get_d_info.arguments"
   ]
  },
  {
   "cell_type": "code",
   "execution_count": null,
   "metadata": {},
   "outputs": [
    {
     "data": {
      "text/plain": [
       "['d']"
      ]
     },
     "execution_count": null,
     "metadata": {},
     "output_type": "execute_result"
    }
   ],
   "source": [
    "get_d_info.return_values"
   ]
  },
  {
   "cell_type": "code",
   "execution_count": null,
   "metadata": {},
   "outputs": [
    {
     "data": {
      "text/plain": [
       "{'d': 10}"
      ]
     },
     "execution_count": null,
     "metadata": {},
     "output_type": "execute_result"
    }
   ],
   "source": [
    "get_d_info.values_here"
   ]
  },
  {
   "cell_type": "code",
   "execution_count": null,
   "metadata": {},
   "outputs": [
    {
     "data": {
      "text/plain": [
       "dict_keys(['In', 'Out', 'a', 'b', 'c'])"
      ]
     },
     "execution_count": null,
     "metadata": {},
     "output_type": "execute_result"
    }
   ],
   "source": [
    "get_d_info.values_before.keys()"
   ]
  },
  {
   "cell_type": "code",
   "execution_count": null,
   "metadata": {},
   "outputs": [
    {
     "name": "stdout",
     "output_type": "stream",
     "text": [
      "a 2 \n",
      "\n",
      "b 3 \n",
      "\n",
      "c 5 \n",
      "\n"
     ]
    }
   ],
   "source": [
    "for k, v in get_d_info.values_before.items():\n",
    "    if k not in {'In', 'Out'}:\n",
    "        print (k, v, '\\n')"
   ]
  },
  {
   "cell_type": "code",
   "execution_count": null,
   "metadata": {},
   "outputs": [
    {
     "name": "stdout",
     "output_type": "stream",
     "text": [
      "def get_d():\n",
      "    d = 10\n",
      "    return d\n",
      "\n"
     ]
    }
   ],
   "source": [
    "print (get_d_info.code)"
   ]
  },
  {
   "cell_type": "code",
   "execution_count": null,
   "metadata": {},
   "outputs": [
    {
     "name": "stdout",
     "output_type": "stream",
     "text": [
      "d = 10\n",
      "\n"
     ]
    }
   ],
   "source": [
    "print (get_d_info.original_code)"
   ]
  },
  {
   "cell_type": "code",
   "execution_count": null,
   "metadata": {},
   "outputs": [
    {
     "name": "stdout",
     "output_type": "stream",
     "text": [
      "Module(\n",
      "  body=[\n",
      "    Assign(\n",
      "      targets=[\n",
      "        Name(id='d', ctx=Store())],\n",
      "      value=Constant(value=10))],\n",
      "  type_ignores=[])\n",
      "None\n"
     ]
    }
   ],
   "source": [
    "print (get_d_info.get_ast (code=get_d_info.original_code))"
   ]
  },
  {
   "cell_type": "code",
   "execution_count": null,
   "metadata": {},
   "outputs": [
    {
     "name": "stdout",
     "output_type": "stream",
     "text": [
      "Module(\n",
      "  body=[\n",
      "    FunctionDef(\n",
      "      name='get_d',\n",
      "      args=arguments(\n",
      "        posonlyargs=[],\n",
      "        args=[],\n",
      "        kwonlyargs=[],\n",
      "        kw_defaults=[],\n",
      "        defaults=[]),\n",
      "      body=[\n",
      "        Assign(\n",
      "          targets=[\n",
      "            Name(id='d', ctx=Store())],\n",
      "          value=Constant(value=10)),\n",
      "        Return(\n",
      "          value=Name(id='d', ctx=Load()))],\n",
      "      decorator_list=[])],\n",
      "  type_ignores=[])\n",
      "None\n"
     ]
    }
   ],
   "source": [
    "print (get_d_info.get_ast (code=get_d_info.code))"
   ]
  },
  {
   "cell_type": "markdown",
   "metadata": {},
   "source": [
    "Now, we can define another function in a cell that uses variables from the previous function."
   ]
  },
  {
   "cell_type": "code",
   "execution_count": null,
   "metadata": {},
   "outputs": [
    {
     "name": "stdout",
     "output_type": "stream",
     "text": [
      "def get_initial_values():\n",
      "    a = 2\n",
      "    b = 3\n",
      "    c = a+b\n",
      "    print (a+b)\n",
      "    return a,b,c\n",
      "\n",
      "def get_d():\n",
      "    d = 10\n",
      "    return d\n",
      "\n",
      "def add_all(a, b, c, d):\n",
      "    a = a + d\n",
      "    b = b + d\n",
      "    c = c + d\n",
      "    return a,b,c,d\n",
      "\n",
      "def print_all(a, b, c, d):\n",
      "    print (a, b, c, d)\n",
      "\n"
     ]
    }
   ],
   "source": [
    "%print all"
   ]
  },
  {
   "cell_type": "code",
   "execution_count": null,
   "metadata": {},
   "outputs": [],
   "source": [
    "get_d = %function_info get_d"
   ]
  },
  {
   "cell_type": "code",
   "execution_count": null,
   "metadata": {},
   "outputs": [
    {
     "data": {
      "text/plain": [
       "([], ['d'])"
      ]
     },
     "execution_count": null,
     "metadata": {},
     "output_type": "execute_result"
    }
   ],
   "source": [
    "get_d.arguments, get_d.return_values"
   ]
  },
  {
   "cell_type": "code",
   "execution_count": null,
   "metadata": {},
   "outputs": [
    {
     "data": {
      "text/plain": [
       "{'d': 10}"
      ]
     },
     "execution_count": null,
     "metadata": {},
     "output_type": "execute_result"
    }
   ],
   "source": [
    "get_d.values_here"
   ]
  },
  {
   "cell_type": "code",
   "execution_count": null,
   "metadata": {},
   "outputs": [
    {
     "name": "stdout",
     "output_type": "stream",
     "text": [
      "def get_d():\n",
      "    d = 10\n",
      "    return d\n",
      "\n"
     ]
    }
   ],
   "source": [
    "this_function = get_d\n",
    "this_function.arguments = [x for x in this_function.arguments if x in this_function.values_here]\n",
    "this_function.return_values = [x for x in this_function.return_values if x in this_function.values_here]\n",
    "this_function.update_code (arguments=this_function.arguments, return_values=this_function.return_values, display=True)"
   ]
  },
  {
   "cell_type": "code",
   "execution_count": null,
   "metadata": {},
   "outputs": [
    {
     "name": "stdout",
     "output_type": "stream",
     "text": [
      "def get_initial_values():\n",
      "    a = 2\n",
      "    b = 3\n",
      "    c = a+b\n",
      "    print (a+b)\n",
      "    return a,b,c\n",
      "\n",
      "def get_d():\n",
      "    d = 10\n",
      "    return d\n",
      "\n",
      "def add_all(a, b, c, d):\n",
      "    a = a + d\n",
      "    b = b + d\n",
      "    c = c + d\n",
      "    return a,b,c,d\n",
      "\n",
      "def print_all(a, b, c, d):\n",
      "    print (a, b, c, d)\n",
      "\n"
     ]
    }
   ],
   "source": [
    "%print all"
   ]
  },
  {
   "cell_type": "code",
   "execution_count": null,
   "metadata": {},
   "outputs": [
    {
     "name": "stdout",
     "output_type": "stream",
     "text": [
      "def index_pipeline ():\n",
      "    a, b, c = get_initial_values ()\n",
      "    d = get_d ()\n",
      "    a, b, c, d = add_all (a, b, c, d)\n",
      "    print_all (a, b, c, d)\n",
      "\n"
     ]
    }
   ],
   "source": [
    "%print_pipeline"
   ]
  },
  {
   "cell_type": "markdown",
   "metadata": {},
   "source": [
    "## print"
   ]
  },
  {
   "cell_type": "code",
   "execution_count": null,
   "metadata": {},
   "outputs": [],
   "source": [
    "cell_processor = %cell_processor"
   ]
  },
  {
   "cell_type": "code",
   "execution_count": null,
   "metadata": {},
   "outputs": [],
   "source": [
    "f=get_d_info"
   ]
  },
  {
   "cell_type": "code",
   "execution_count": null,
   "metadata": {},
   "outputs": [
    {
     "data": {
      "text/plain": [
       "dict_keys(['idx', 'original_code', 'name', 'values_before', 'tab_size', 'call', 'values_here', 'variables_here', 'new_variables', 'previous_variables', 'posterior_variables', 'arguments', 'return_values', 'code'])"
      ]
     },
     "execution_count": null,
     "metadata": {},
     "output_type": "execute_result"
    }
   ],
   "source": [
    "f.keys()"
   ]
  },
  {
   "cell_type": "code",
   "execution_count": null,
   "metadata": {},
   "outputs": [
    {
     "name": "stdout",
     "output_type": "stream",
     "text": [
      "def index_pipeline ():\n",
      "    a, b, c = get_initial_values ()\n",
      "    d = get_d ()\n",
      "    a, b, c, d = add_all (a, b, c, d)\n",
      "    print_all (a, b, c, d)\n",
      "\n"
     ]
    }
   ],
   "source": [
    "%print_pipeline"
   ]
  },
  {
   "cell_type": "code",
   "execution_count": null,
   "metadata": {},
   "outputs": [
    {
     "data": {
      "text/plain": [
       "'index'"
      ]
     },
     "execution_count": null,
     "metadata": {},
     "output_type": "execute_result"
    }
   ],
   "source": [
    "cell_processor.file_name"
   ]
  },
  {
   "cell_type": "code",
   "execution_count": null,
   "metadata": {},
   "outputs": [],
   "source": [
    "def function_pipeline (self):\n",
    "    code = \"\"\n",
    "    for func in cell_processor.function_list:\n",
    "        argument_list_str = \", \".join(func.arguments)\n",
    "        return_list_str = f'{\", \".join(func.return_values)} = ' if len(func.return_values)>0 else ''\n",
    "        code += f'{return_list_str}{func.name} ({argument_list_str})\\n'\n",
    "    return code"
   ]
  },
  {
   "cell_type": "code",
   "execution_count": null,
   "metadata": {},
   "outputs": [],
   "source": [
    "d = 10"
   ]
  },
  {
   "cell_type": "code",
   "execution_count": null,
   "metadata": {},
   "outputs": [
    {
     "name": "stdout",
     "output_type": "stream",
     "text": [
      "22 23 25 10\n"
     ]
    }
   ],
   "source": [
    "%%function add_new_values\n",
    "a = a + d\n",
    "b = b + d\n",
    "c = c + d\n",
    "print (a, b, c, d)"
   ]
  },
  {
   "cell_type": "code",
   "execution_count": null,
   "metadata": {},
   "outputs": [
    {
     "name": "stdout",
     "output_type": "stream",
     "text": [
      "def add_new_values(a, b, c, d):\n",
      "    a = a + d\n",
      "    b = b + d\n",
      "    c = c + d\n",
      "    print (a, b, c, d)\n",
      "\n"
     ]
    }
   ],
   "source": [
    "%print add_new_values"
   ]
  },
  {
   "cell_type": "markdown",
   "metadata": {},
   "source": [
    "By default, we can use variables from the previous cell as we normally do, i.e., values are still global. However, we can also opt to run the code encapsulated in "
   ]
  },
  {
   "cell_type": "code",
   "execution_count": null,
   "metadata": {},
   "outputs": [],
   "source": []
  }
 ],
 "metadata": {
  "kernelspec": {
   "display_name": "python3",
   "language": "python",
   "name": "python3"
  }
 },
 "nbformat": 4,
 "nbformat_minor": 4
}
