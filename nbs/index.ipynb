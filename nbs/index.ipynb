{
 "cells": [
  {
   "cell_type": "markdown",
   "metadata": {},
   "source": [
    "# nbmodular\n",
    "\n",
    "> Convert notebooks to modular code."
   ]
  },
  {
   "cell_type": "markdown",
   "metadata": {},
   "source": [
    "Convert data science notebooks with poor modularity to fully modular notebooks that are automatically exported as python modules."
   ]
  },
  {
   "cell_type": "markdown",
   "metadata": {},
   "source": [
    "## Motivation"
   ]
  },
  {
   "cell_type": "markdown",
   "metadata": {},
   "source": [
    "In data science, it is usual to develop experimentally and quickly based on notebooks, with little regard to software engineering practices and modularity. It can become challenging to start working on someone else's notebooks with no modularity in terms of separate functions, and a great degree of duplicated code between the different notebooks. This makes it difficult to understand the logic in terms of semantically separate units, see what are the commonalities and differences between the notebooks, and be able to extend, generalize, and configure the current solution."
   ]
  },
  {
   "cell_type": "markdown",
   "metadata": {},
   "source": [
    "## Objectives\n",
    "\n",
    "`nbmodular` is a library conceived with the objective of helping converting the cells of a notebook into separate functions with clear dependencies in terms of inputs and outputs. This is done though a combination of tools which semi-automatically understand the data-flow in the code, based on mild assumptions about its structure. It also helps test the current logic and compare it against a modularized solution, to make sure that the refactored code is equivalent to the original one. "
   ]
  },
  {
   "cell_type": "markdown",
   "metadata": {},
   "source": [
    "## Features\n",
    "\n",
    "- Convert cells to functions.\n",
    "- The logic of a single function can be written across multiple cells.\n",
    "- Optional: processed cells can continue to operate as cells or be only used as functions from the moment they are converted.\n",
    "- Create an additional pipeline function that provides the data-flow from the first to the last function call in the notebook.\n",
    "- Write all the notebook functions to a separate python module.\n",
    "- Compare the result of the pipeline with the result of running the original notebook.\n",
    "- Converted functions act as nodes in a dependency graph. These nodes can optionally hold the values of local variables for inspection outside of the function. This is similar to having a single global scope, which is the original situation. Since this is memory-consuming, it is optional and may not be the default.\n",
    "- Optional: Once we are able to construct a graph, we may be able to draw it or show it in text, and pass it to ADG processors that can run functions sequentially or in parallel.\n",
    "- Persist the inputs and outputs of functions, so that we may decide to reuse previous results without running the whole notebook. \n",
    "- Optional: if we have the dependency graph and persisted inputs / outputs, we may decide to only run those cells that are predecessors of the current one, i.e., the ones that provide the inputs needed by the current cell. \n",
    "- Optional: if we associate a hash code to input data, we may only run the cells when the input data changes. Similarly, if we associate a hash code with AST-converted function code, we may only run those cells whose code has been updated. \n",
    "- Optional: have a mechanism for indicating test examples that go into different test python files. \n",
    "= Optional: the output of a test cell can be used for assertions, where we require that the current output is the same as the original one."
   ]
  },
  {
   "cell_type": "markdown",
   "metadata": {},
   "source": [
    "## Roadmap"
   ]
  },
  {
   "cell_type": "markdown",
   "metadata": {},
   "source": [
    "- [ ] Convert cell code into functions:\n",
    "    - [x] Inputs are those variables detected in current cell and also detected in previous cells. This solution requires that created variables have unique names across the notebook. However, even if a new variable with the same name is defined inside the cell, the resulting function is still correct.\n",
    "    - Outputs are, at this moment, all the variables detected in current cell that are also detected in posterior cells. \n",
    "    \n",
    "- Filter out outputs:\n",
    "    - Variables detected in current cell, and also detected in previous cells, might not be needed as outputs of the current cell, if the current cell doesn't modify those variables. To detect potential modifications:\n",
    "        - AST: \n",
    "            - If variable appears only on the right of assign statements or in if statements.\n",
    "            - If it appears only as argument of functions which we know don't modify the variable, such as `print`.\n",
    "        - Comparing variable values before and after cell:\n",
    "            - Good for small variables where doing a deep copy is not computationally expensive.\n",
    "        - Using type checker:\n",
    "            - Making the variable `Final` and using mypy or other type checker to see if it is modified in the code.\n",
    "    - Provide hints:\n",
    "        - Variables that come from other cells might not be needed as output. The remaining are most probably needed.\n",
    "        - Variables that are modified are clearly needed."
   ]
  },
  {
   "cell_type": "markdown",
   "metadata": {},
   "source": [
    "## Install"
   ]
  },
  {
   "cell_type": "markdown",
   "metadata": {},
   "source": [
    "```sh\n",
    "pip install nbmodular\n",
    "```"
   ]
  },
  {
   "cell_type": "markdown",
   "metadata": {},
   "source": [
    "## Usage"
   ]
  },
  {
   "cell_type": "markdown",
   "metadata": {},
   "source": [
    "Load ipython extension"
   ]
  },
  {
   "cell_type": "code",
   "execution_count": null,
   "metadata": {},
   "outputs": [
    {
     "name": "stdout",
     "output_type": "stream",
     "text": [
      "The nbmodular.core.cell2func extension is already loaded. To reload it, use:\n",
      "  %reload_ext nbmodular.core.cell2func\n"
     ]
    }
   ],
   "source": [
    "%load_ext nbmodular.core.cell2func"
   ]
  },
  {
   "cell_type": "markdown",
   "metadata": {},
   "source": [
    "This allows us to use the following of magic commands, among others\n",
    "\n",
    "\n",
    "- function <name_of_function_to_define>\n",
    "- print <name_of_previous_function>\n",
    "- function_info <name_of_previous_function>\n",
    "- print_pipeline"
   ]
  },
  {
   "cell_type": "markdown",
   "metadata": {},
   "source": [
    "Let's go one by one"
   ]
  },
  {
   "cell_type": "markdown",
   "metadata": {},
   "source": [
    "### function"
   ]
  },
  {
   "cell_type": "markdown",
   "metadata": {},
   "source": [
    "Use magic command `function` allows to:\n",
    "\n",
    "- Run the code in the cell normally, and at the same time detect its input and output dependencies and define a function with this input and output:"
   ]
  },
  {
   "cell_type": "code",
   "execution_count": null,
   "metadata": {},
   "outputs": [
    {
     "name": "stdout",
     "output_type": "stream",
     "text": [
      "5\n"
     ]
    }
   ],
   "source": [
    "%%function get_initial_values\n",
    "a = 2\n",
    "b = 3\n",
    "c = a+b\n",
    "print (a+b)"
   ]
  },
  {
   "cell_type": "markdown",
   "metadata": {},
   "source": [
    "The code in the previous cell runs as it normally would, but and at the same time defines a function named `get_initial_values` which we can show with the magic command `print`:"
   ]
  },
  {
   "cell_type": "code",
   "execution_count": null,
   "metadata": {},
   "outputs": [],
   "source": [
    "#%debug"
   ]
  },
  {
   "cell_type": "code",
   "execution_count": null,
   "metadata": {},
   "outputs": [
    {
     "name": "stdout",
     "output_type": "stream",
     "text": [
      "def get_initial_values(b, a):\n",
      "    a = 2\n",
      "    b = 3\n",
      "    c = a+b\n",
      "    print (a+b)\n",
      "\n"
     ]
    }
   ],
   "source": [
    "%print get_initial_values"
   ]
  },
  {
   "cell_type": "markdown",
   "metadata": {},
   "source": [
    "This function is defined in the notebook space, so we can invoke it:"
   ]
  },
  {
   "cell_type": "code",
   "execution_count": null,
   "metadata": {},
   "outputs": [
    {
     "name": "stdout",
     "output_type": "stream",
     "text": [
      "def get_d():\n",
      "    d = 10\n",
      "    return d\n",
      "\n",
      "def add_all(d, b, c, a):\n",
      "    a = a + d\n",
      "    b = b + d\n",
      "    c = c + d\n",
      "    return b,c,a\n",
      "\n",
      "def print_all(c, a, d, b):\n",
      "    print (a, b, c, d)\n",
      "    return a,b\n",
      "\n",
      "def analyze():\n",
      "    x = [1, 2, 3]\n",
      "    y = [100, 200, 300]\n",
      "    z = [u+v for u,v in zip(x,y)]\n",
      "    product = [u*v for u, v in zip(x,y)]\n",
      "\n",
      "def get_initial_values(b, a):\n",
      "    a = 2\n",
      "    b = 3\n",
      "    c = a+b\n",
      "    print (a+b)\n",
      "\n"
     ]
    }
   ],
   "source": [
    "%print all"
   ]
  },
  {
   "cell_type": "markdown",
   "metadata": {},
   "source": [
    "The inputs and outputs of the function change dynamically every time we add a new function cell. For example, if we add a new function `get_d`:"
   ]
  },
  {
   "cell_type": "code",
   "execution_count": null,
   "metadata": {},
   "outputs": [],
   "source": [
    "%%function get_d\n",
    "d = 10"
   ]
  },
  {
   "cell_type": "code",
   "execution_count": null,
   "metadata": {},
   "outputs": [
    {
     "name": "stdout",
     "output_type": "stream",
     "text": [
      "def get_d():\n",
      "    d = 10\n",
      "\n"
     ]
    }
   ],
   "source": [
    "%print get_d"
   ]
  },
  {
   "cell_type": "markdown",
   "metadata": {},
   "source": [
    "And then a function `add_all` that depend on the previous two functions:"
   ]
  },
  {
   "cell_type": "code",
   "execution_count": null,
   "metadata": {},
   "outputs": [],
   "source": [
    "%%function add_all\n",
    "a = a + d\n",
    "b = b + d\n",
    "c = c + d"
   ]
  },
  {
   "cell_type": "code",
   "execution_count": null,
   "metadata": {},
   "outputs": [
    {
     "name": "stdout",
     "output_type": "stream",
     "text": [
      "def add_all(d, b, c, a):\n",
      "    a = a + d\n",
      "    b = b + d\n",
      "    c = c + d\n",
      "\n"
     ]
    }
   ],
   "source": [
    "%print add_all"
   ]
  },
  {
   "cell_type": "markdown",
   "metadata": {},
   "source": [
    "We can see that the uputs from `get_initial_values` and `get_d` change as needed. We can look at all the functions defined so far by using `print all`:"
   ]
  },
  {
   "cell_type": "code",
   "execution_count": null,
   "metadata": {},
   "outputs": [
    {
     "name": "stdout",
     "output_type": "stream",
     "text": [
      "def print_all(c, a, d, b):\n",
      "    print (a, b, c, d)\n",
      "    return a,b,c,d\n",
      "\n",
      "def analyze():\n",
      "    x = [1, 2, 3]\n",
      "    y = [100, 200, 300]\n",
      "    z = [u+v for u,v in zip(x,y)]\n",
      "    product = [u*v for u, v in zip(x,y)]\n",
      "\n",
      "def get_initial_values(b, a):\n",
      "    a = 2\n",
      "    b = 3\n",
      "    c = a+b\n",
      "    print (a+b)\n",
      "    return b,c,a\n",
      "\n",
      "def get_d():\n",
      "    d = 10\n",
      "    return d\n",
      "\n",
      "def add_all(d, b, c, a):\n",
      "    a = a + d\n",
      "    b = b + d\n",
      "    c = c + d\n",
      "\n"
     ]
    }
   ],
   "source": [
    "%print all"
   ]
  },
  {
   "cell_type": "markdown",
   "metadata": {},
   "source": [
    "Similarly the outputs from the last function `add_all` change after we add a other functions that depend on it:"
   ]
  },
  {
   "cell_type": "code",
   "execution_count": null,
   "metadata": {},
   "outputs": [
    {
     "name": "stdout",
     "output_type": "stream",
     "text": [
      "12 13 15 10\n"
     ]
    }
   ],
   "source": [
    "%%function print_all\n",
    "print (a, b, c, d)"
   ]
  },
  {
   "cell_type": "markdown",
   "metadata": {},
   "source": [
    "### print"
   ]
  },
  {
   "cell_type": "markdown",
   "metadata": {},
   "source": [
    "We can see each of the defined functions with `print my_function`, and list all of them with `print all`"
   ]
  },
  {
   "cell_type": "code",
   "execution_count": null,
   "metadata": {},
   "outputs": [
    {
     "name": "stdout",
     "output_type": "stream",
     "text": [
      "def analyze():\n",
      "    x = [1, 2, 3]\n",
      "    y = [100, 200, 300]\n",
      "    z = [u+v for u,v in zip(x,y)]\n",
      "    product = [u*v for u, v in zip(x,y)]\n",
      "\n",
      "def get_initial_values(b, a):\n",
      "    a = 2\n",
      "    b = 3\n",
      "    c = a+b\n",
      "    print (a+b)\n",
      "    return b,c,a\n",
      "\n",
      "def get_d():\n",
      "    d = 10\n",
      "    return d\n",
      "\n",
      "def add_all(d, b, c, a):\n",
      "    a = a + d\n",
      "    b = b + d\n",
      "    c = c + d\n",
      "    return b,c,a\n",
      "\n",
      "def print_all(c, a, d, b):\n",
      "    print (a, b, c, d)\n",
      "\n"
     ]
    }
   ],
   "source": [
    "%print all"
   ]
  },
  {
   "cell_type": "markdown",
   "metadata": {},
   "source": [
    "### print_pipeline"
   ]
  },
  {
   "cell_type": "markdown",
   "metadata": {},
   "source": [
    "As we add functions to the notebook, a pipeline function is defined. We can print this pipeline with the magic `print_pipeline`"
   ]
  },
  {
   "cell_type": "code",
   "execution_count": null,
   "metadata": {},
   "outputs": [
    {
     "name": "stdout",
     "output_type": "stream",
     "text": [
      "def index_pipeline ():\n",
      "    analyze ()\n",
      "    b, c, a = get_initial_values (b, a)\n",
      "    d = get_d ()\n",
      "    b, c, a = add_all (d, b, c, a)\n",
      "    print_all (c, a, d, b)\n",
      "\n"
     ]
    }
   ],
   "source": [
    "%print_pipeline"
   ]
  },
  {
   "cell_type": "markdown",
   "metadata": {},
   "source": [
    "This shows the data flow in terms of inputs and outputs"
   ]
  },
  {
   "cell_type": "markdown",
   "metadata": {},
   "source": [
    "And run it:"
   ]
  },
  {
   "cell_type": "code",
   "execution_count": null,
   "metadata": {},
   "outputs": [],
   "source": [
    "self = %cell_processor"
   ]
  },
  {
   "cell_type": "code",
   "execution_count": null,
   "metadata": {},
   "outputs": [
    {
     "data": {
      "text/plain": [
       "[FunctionProcessor with name analyze, and fields: dict_keys(['original_code', 'name', 'call', 'tab_size', 'arguments', 'return_values', 'unknown_input', 'unknown_output', 'created_variables', 'loaded_names', 'previous_variables', 'argument_variables', 'read_only_variables', 'posterior_variables', 'idx', 'previous_values', 'current_values', 'all_values', 'all_variables', 'code'])\n",
       "     Arguments: []\n",
       "     Output: []\n",
       "     Locals: dict_keys(['x', 'y', 'z', 'product']),\n",
       " FunctionProcessor with name get_initial_values, and fields: dict_keys(['original_code', 'name', 'call', 'tab_size', 'arguments', 'return_values', 'unknown_input', 'unknown_output', 'created_variables', 'loaded_names', 'previous_variables', 'argument_variables', 'read_only_variables', 'posterior_variables', 'idx', 'previous_values', 'current_values', 'all_values', 'all_variables', 'code'])\n",
       "     Arguments: ['b', 'a']\n",
       "     Output: ['b', 'c', 'a']\n",
       "     Locals: dict_keys(['a', 'b', 'c']),\n",
       " FunctionProcessor with name get_d, and fields: dict_keys(['original_code', 'name', 'call', 'tab_size', 'arguments', 'return_values', 'unknown_input', 'unknown_output', 'created_variables', 'loaded_names', 'previous_variables', 'argument_variables', 'read_only_variables', 'posterior_variables', 'idx', 'previous_values', 'current_values', 'all_values', 'all_variables', 'code'])\n",
       "     Arguments: []\n",
       "     Output: ['d']\n",
       "     Locals: dict_keys(['d']),\n",
       " FunctionProcessor with name add_all, and fields: dict_keys(['original_code', 'name', 'call', 'tab_size', 'arguments', 'return_values', 'unknown_input', 'unknown_output', 'created_variables', 'loaded_names', 'previous_variables', 'argument_variables', 'read_only_variables', 'posterior_variables', 'idx', 'previous_values', 'current_values', 'all_values', 'all_variables', 'code'])\n",
       "     Arguments: ['d', 'b', 'c', 'a']\n",
       "     Output: ['b', 'c', 'a']\n",
       "     Locals: dict_keys(['a', 'b', 'c']),\n",
       " FunctionProcessor with name print_all, and fields: dict_keys(['original_code', 'name', 'call', 'tab_size', 'arguments', 'return_values', 'unknown_input', 'unknown_output', 'created_variables', 'loaded_names', 'previous_variables', 'argument_variables', 'read_only_variables', 'posterior_variables', 'idx', 'previous_values', 'current_values', 'all_values', 'all_variables', 'code'])\n",
       "     Arguments: ['c', 'a', 'd', 'b']\n",
       "     Output: []\n",
       "     Locals: dict_keys([])]"
      ]
     },
     "execution_count": null,
     "metadata": {},
     "output_type": "execute_result"
    }
   ],
   "source": [
    "self.function_list"
   ]
  },
  {
   "cell_type": "code",
   "execution_count": null,
   "metadata": {},
   "outputs": [
    {
     "name": "stdout",
     "output_type": "stream",
     "text": [
      "def analyze():\n",
      "    x = [1, 2, 3]\n",
      "    y = [100, 200, 300]\n",
      "    z = [u+v for u,v in zip(x,y)]\n",
      "    product = [u*v for u, v in zip(x,y)]\n",
      "\n",
      "def get_initial_values(b, a):\n",
      "    a = 2\n",
      "    b = 3\n",
      "    c = a+b\n",
      "    print (a+b)\n",
      "    return b,c,a\n",
      "\n",
      "def get_d():\n",
      "    d = 10\n",
      "    return d\n",
      "\n",
      "def add_all(d, b, c, a):\n",
      "    a = a + d\n",
      "    b = b + d\n",
      "    c = c + d\n",
      "    return b,c,a\n",
      "\n",
      "def print_all(c, a, d, b):\n",
      "    print (a, b, c, d)\n",
      "\n"
     ]
    }
   ],
   "source": [
    "%print all"
   ]
  },
  {
   "cell_type": "code",
   "execution_count": null,
   "metadata": {},
   "outputs": [
    {
     "ename": "UnboundLocalError",
     "evalue": "local variable 'b' referenced before assignment",
     "output_type": "error",
     "traceback": [
      "\u001b[0;31m---------------------------------------------------------------------------\u001b[0m",
      "\u001b[0;31mUnboundLocalError\u001b[0m                         Traceback (most recent call last)",
      "Cell \u001b[0;32mIn[48], line 1\u001b[0m\n\u001b[0;32m----> 1\u001b[0m \u001b[43mindex_pipeline\u001b[49m\u001b[43m(\u001b[49m\u001b[43m)\u001b[49m\n",
      "Cell \u001b[0;32mIn[42], line 3\u001b[0m, in \u001b[0;36mindex_pipeline\u001b[0;34m()\u001b[0m\n\u001b[1;32m      1\u001b[0m \u001b[38;5;28;01mdef\u001b[39;00m \u001b[38;5;21mindex_pipeline\u001b[39m ():\n\u001b[1;32m      2\u001b[0m     analyze ()\n\u001b[0;32m----> 3\u001b[0m     b, c, a \u001b[38;5;241m=\u001b[39m get_initial_values (\u001b[43mb\u001b[49m, a)\n\u001b[1;32m      4\u001b[0m     d \u001b[38;5;241m=\u001b[39m get_d ()\n\u001b[1;32m      5\u001b[0m     b, c, a \u001b[38;5;241m=\u001b[39m add_all (d, b, c, a)\n",
      "\u001b[0;31mUnboundLocalError\u001b[0m: local variable 'b' referenced before assignment"
     ]
    }
   ],
   "source": [
    "index_pipeline()"
   ]
  },
  {
   "cell_type": "markdown",
   "metadata": {},
   "source": [
    "### function_info"
   ]
  },
  {
   "cell_type": "markdown",
   "metadata": {},
   "source": [
    "We can get access to many of the details of each of the defined functions by calling `function_info` on a given function name:"
   ]
  },
  {
   "cell_type": "code",
   "execution_count": null,
   "metadata": {},
   "outputs": [],
   "source": [
    "get_initial_values_info = %function_info get_initial_values"
   ]
  },
  {
   "cell_type": "markdown",
   "metadata": {},
   "source": [
    "This allows us to see:\n",
    "\n",
    "- The name and value (at the time of running) of the local variables, arguments and results from the function:"
   ]
  },
  {
   "cell_type": "code",
   "execution_count": null,
   "metadata": {},
   "outputs": [],
   "source": [
    "get_initial_values_info.arguments"
   ]
  },
  {
   "cell_type": "code",
   "execution_count": null,
   "metadata": {},
   "outputs": [],
   "source": [
    "get_initial_values_info.current_values"
   ]
  },
  {
   "cell_type": "code",
   "execution_count": null,
   "metadata": {},
   "outputs": [],
   "source": [
    "get_initial_values_info.return_values"
   ]
  },
  {
   "cell_type": "markdown",
   "metadata": {},
   "source": [
    "We can also inspect the original code written in the cell..."
   ]
  },
  {
   "cell_type": "code",
   "execution_count": null,
   "metadata": {},
   "outputs": [],
   "source": [
    "print (get_initial_values_info.original_code)"
   ]
  },
  {
   "cell_type": "markdown",
   "metadata": {},
   "source": [
    "the code of the defined function:"
   ]
  },
  {
   "cell_type": "code",
   "execution_count": null,
   "metadata": {},
   "outputs": [],
   "source": [
    "print (get_initial_values_info.code)"
   ]
  },
  {
   "cell_type": "markdown",
   "metadata": {},
   "source": [
    ".. and the AST trees:"
   ]
  },
  {
   "cell_type": "code",
   "execution_count": null,
   "metadata": {},
   "outputs": [],
   "source": [
    "print (get_initial_values_info.get_ast (code=get_initial_values_info.original_code))"
   ]
  },
  {
   "cell_type": "code",
   "execution_count": null,
   "metadata": {},
   "outputs": [],
   "source": [
    "print (get_initial_values_info.get_ast (code=get_initial_values_info.code))"
   ]
  },
  {
   "cell_type": "markdown",
   "metadata": {},
   "source": [
    "Now, we can define another function in a cell that uses variables from the previous function."
   ]
  },
  {
   "cell_type": "markdown",
   "metadata": {},
   "source": [
    "### cell_processor\n",
    "\n",
    "This magic allows us to get access to the CellProcessor class managing the logic for running the above magic commands, which can become handy:"
   ]
  },
  {
   "cell_type": "code",
   "execution_count": null,
   "metadata": {},
   "outputs": [],
   "source": [
    "cell_processor = %cell_processor"
   ]
  },
  {
   "cell_type": "markdown",
   "metadata": {},
   "source": [
    "## Merging function cells"
   ]
  },
  {
   "cell_type": "markdown",
   "metadata": {},
   "source": [
    "In order to explore intermediate results, it is convenient to split the code in a function among different cells. This can be done by passing the flag `--merge True`"
   ]
  },
  {
   "cell_type": "code",
   "execution_count": null,
   "metadata": {},
   "outputs": [],
   "source": [
    "%%function analyze\n",
    "x = [1, 2, 3]\n",
    "y = [100, 200, 300]\n",
    "z = [u+v for u,v in zip(x,y)]"
   ]
  },
  {
   "cell_type": "code",
   "execution_count": null,
   "metadata": {},
   "outputs": [],
   "source": [
    "z"
   ]
  },
  {
   "cell_type": "code",
   "execution_count": null,
   "metadata": {},
   "outputs": [],
   "source": [
    "%print analyze"
   ]
  },
  {
   "cell_type": "code",
   "execution_count": null,
   "metadata": {},
   "outputs": [],
   "source": [
    "%%function analyze --merge\n",
    "product = [u*v for u, v in zip(x,y)]"
   ]
  },
  {
   "cell_type": "code",
   "execution_count": null,
   "metadata": {},
   "outputs": [],
   "source": [
    "%print analyze"
   ]
  }
 ],
 "metadata": {
  "kernelspec": {
   "display_name": "python3",
   "language": "python",
   "name": "python3"
  }
 },
 "nbformat": 4,
 "nbformat_minor": 4
}
