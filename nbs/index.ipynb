{
 "cells": [
  {
   "cell_type": "markdown",
   "metadata": {},
   "source": [
    "# nbmodular\n",
    "\n",
    "> Convert notebooks to modular code."
   ]
  },
  {
   "cell_type": "markdown",
   "metadata": {},
   "source": [
    "Convert data science notebooks with poor modularity to fully modular notebooks that are automatically exported as python modules."
   ]
  },
  {
   "cell_type": "markdown",
   "metadata": {},
   "source": [
    "## Motivation"
   ]
  },
  {
   "cell_type": "markdown",
   "metadata": {},
   "source": [
    "In data science, it is usual to develop experimentally and quickly based on notebooks, with little regard to software engineering practices and modularity. It can become challenging to start working on someone else's notebooks with no modularity in terms of separate functions, and a great degree of duplicated code between the different notebooks. This makes it difficult to understand the logic in terms of semantically separate units, see what are the commonalities and differences between the notebooks, and be able to extend, generalize, and configure the current solution."
   ]
  },
  {
   "cell_type": "markdown",
   "metadata": {},
   "source": [
    "## Objectives\n",
    "\n",
    "`nbmodular` is a library conceived with the objective of helping converting the cells of a notebook into separate functions with clear dependencies in terms of inputs and outputs. This is done though a combination of tools which semi-automatically understand the data-flow in the code, based on mild assumptions about its structure. It also helps test the current logic and compare it against a modularized solution, to make sure that the refactored code is equivalent to the original one. "
   ]
  },
  {
   "cell_type": "markdown",
   "metadata": {},
   "source": [
    "## Features\n",
    "\n",
    "- [x] Convert cells to functions.\n",
    "- [x] The logic of a single function can be written across multiple cells.\n",
    "- [x] Functions can be either regular functions or unit test functions.\n",
    "- [x] Functions and tests are exported to separate python modules. \n",
    "- [ ] TODO: use nbdev to sync the exported python module with the notebook code, so that changes to the module are reflected back in the notebook.\n",
    "- [x] Processed cells can continue to operate as cells or be only used as functions.\n",
    "- [x] A pipeline function is automatically created and updated. This pipeline provides the data-flow from the first to the last function call in the notebook.\n",
    "- [x] Functions act as nodes in a dependency graph. These nodes can optionally hold the values of local variables for inspection outside of the function. This is similar to having a single global scope, which is the original situation. Since this is memory-consuming, storing local variables is optional.\n",
    "- [x] Local variables are persisted in disk, so that we may decide to reuse previous results without running the whole notebook. \n",
    "- [ ] TODO: Once we are able to construct a graph, we may be able to draw it or show it in text, and pass it to ADG processors that can run functions sequentially or in parallel.\n",
    "- [ ] TODO: if we have the dependency graph and persisted inputs / outputs, we may decide to only run those cells that are predecessors of the current one, i.e., the ones that provide the inputs needed by the current cell. \n",
    "- [ ] TODO: if we associate a hash code to input data, we may only run the cells when the input data changes. Similarly, if we associate a hash code with AST-converted function code, we may only run those cells whose code has been updated. \n",
    "- [ ] TODO:  the output of a test cell can be used for assertions, where we require that the current output is the same as the original one.\n",
    "- [ ] TODO: Compare the result of the pipeline with the result of running the original notebook.\n",
    "- [ ] TODO: Currently, AST processing is used for assessing whether variables are modified in the cell or are just read. This just gives an estimate. We may want to compare the values of existing variables before and after running the code in the cell. We may also use a type checker such as mypy to assess whether a variable is immutable in the cell (e.g., mark the variable as Final and see if mypy complaints)\n",
    "- [ ] TODO: have indicated test be used as examples in docstrings. Have optional flag indicate that the next cell's output should be converted to text and included as example output in the docstring.\n",
    "- [ ] TODO: have the possibility of writing the tests in the same module as the functions, where each test goes after the function that is testing. This can help as a form of documentation for the function, especially if the test code is not included in the function's docstring."
   ]
  },
  {
   "cell_type": "markdown",
   "metadata": {},
   "source": [
    "## Install"
   ]
  },
  {
   "cell_type": "markdown",
   "metadata": {},
   "source": [
    "```sh\n",
    "pip install nbmodular\n",
    "```"
   ]
  },
  {
   "cell_type": "markdown",
   "metadata": {},
   "source": [
    "## Usage"
   ]
  },
  {
   "cell_type": "markdown",
   "metadata": {},
   "source": [
    "Load ipython extension"
   ]
  },
  {
   "cell_type": "code",
   "execution_count": null,
   "metadata": {},
   "outputs": [],
   "source": [
    "%load_ext nbmodular.core.cell2func"
   ]
  },
  {
   "cell_type": "markdown",
   "metadata": {},
   "source": [
    "```ipython\n",
    "%load_ext nbmodular.core.cell2func\n",
    "```"
   ]
  },
  {
   "cell_type": "markdown",
   "metadata": {},
   "source": [
    "This allows us to use the following magic commands, among others\n",
    "\n",
    "\n",
    "- function <name_of_function_to_define>\n",
    "- print <name_of_previous_function>\n",
    "- function_info <name_of_previous_function>\n",
    "- print_pipeline"
   ]
  },
  {
   "cell_type": "markdown",
   "metadata": {},
   "source": [
    "Let's go one by one"
   ]
  },
  {
   "cell_type": "markdown",
   "metadata": {},
   "source": [
    "### function"
   ]
  },
  {
   "cell_type": "markdown",
   "metadata": {},
   "source": [
    "The magic command `function` allows to:\n",
    "\n",
    "- Run the code in the cell, as it would be normally done.\n",
    "- While running the code, it also automatically identifies the input and output dependencies.\n",
    "- Once the inputs and outputs have been identified, it internally creates a function with the identified inputs and outputs. This function can be called later as any other function, and it is written to a python module for later use. The name of this function is the one indicated in the function magic command."
   ]
  },
  {
   "cell_type": "markdown",
   "metadata": {},
   "source": [
    "<div style=\"background-color: rgb(250, 250, 250);\">\n",
    "```python\n",
    "%%function get_initial_values\n",
    "a = 2\n",
    "b = 3\n",
    "c = a+b\n",
    "print (a+b)\n",
    "```\n",
    "</div>"
   ]
  },
  {
   "cell_type": "code",
   "execution_count": null,
   "metadata": {},
   "outputs": [
    {
     "name": "stdout",
     "output_type": "stream",
     "text": [
      "5\n",
      "Stored the following local variables in the get_initial_values current_values dictionary: ['a', 'b', 'c']\n"
     ]
    }
   ],
   "source": [
    "%%function get_initial_values\n",
    "#|echo: false\n",
    "a = 2\n",
    "b = 3\n",
    "c = a+b\n",
    "print (a+b)"
   ]
  },
  {
   "cell_type": "markdown",
   "metadata": {},
   "source": [
    "The code in the previous cell runs as it normally would, but and at the same time defines a function named `get_initial_values` which we can show with the magic command `print`:"
   ]
  },
  {
   "cell_type": "markdown",
   "metadata": {},
   "source": [
    "```ipython\n",
    "%print get_initial_values \n",
    "```"
   ]
  },
  {
   "cell_type": "code",
   "execution_count": null,
   "metadata": {},
   "outputs": [
    {
     "name": "stdout",
     "output_type": "stream",
     "text": [
      "def get_initial_values(a, b):\n",
      "    #|echo: false\n",
      "    a = 2\n",
      "    b = 3\n",
      "    c = a+b\n",
      "    print (a+b)\n",
      "    return a,c,b\n",
      "\n"
     ]
    }
   ],
   "source": [
    "%print get_initial_values \n",
    "#| echo: false"
   ]
  },
  {
   "cell_type": "markdown",
   "metadata": {},
   "source": [
    "This function is defined in the notebook space, so we can invoke it:"
   ]
  },
  {
   "cell_type": "code",
   "execution_count": null,
   "metadata": {},
   "outputs": [
    {
     "name": "stdout",
     "output_type": "stream",
     "text": [
      "def get_initial_values(test=False):\n",
      "    a = 2\n",
      "    b = 3\n",
      "    c = a+b\n",
      "    print (a+b)\n",
      "\n"
     ]
    }
   ],
   "source": [
    "%print all"
   ]
  },
  {
   "cell_type": "markdown",
   "metadata": {},
   "source": [
    "The inputs and outputs of the function change dynamically every time we add a new function cell. For example, if we add a new function `get_d`:"
   ]
  },
  {
   "cell_type": "code",
   "execution_count": null,
   "metadata": {},
   "outputs": [],
   "source": [
    "%%function get_d\n",
    "d = 10"
   ]
  },
  {
   "cell_type": "code",
   "execution_count": null,
   "metadata": {},
   "outputs": [
    {
     "name": "stdout",
     "output_type": "stream",
     "text": [
      "def get_d():\n",
      "    d = 10\n",
      "\n"
     ]
    }
   ],
   "source": [
    "%print get_d"
   ]
  },
  {
   "cell_type": "markdown",
   "metadata": {},
   "source": [
    "And then a function `add_all` that depend on the previous two functions:"
   ]
  },
  {
   "cell_type": "code",
   "execution_count": null,
   "metadata": {},
   "outputs": [],
   "source": [
    "%%function add_all\n",
    "a = a + d\n",
    "b = b + d\n",
    "c = c + d"
   ]
  },
  {
   "cell_type": "code",
   "execution_count": null,
   "metadata": {},
   "outputs": [],
   "source": [
    "f = %function_info add_all"
   ]
  },
  {
   "cell_type": "code",
   "execution_count": null,
   "metadata": {},
   "outputs": [
    {
     "name": "stdout",
     "output_type": "stream",
     "text": [
      "def add_all(d, b, c, a):\n",
      "    a = a + d\n",
      "    b = b + d\n",
      "    c = c + d\n",
      "\n"
     ]
    }
   ],
   "source": [
    "print(f.code)"
   ]
  },
  {
   "cell_type": "code",
   "execution_count": null,
   "metadata": {},
   "outputs": [
    {
     "name": "stdout",
     "output_type": "stream",
     "text": [
      "def add_all(d, b, c, a):\n",
      "    a = a + d\n",
      "    b = b + d\n",
      "    c = c + d\n",
      "\n"
     ]
    }
   ],
   "source": [
    "%print add_all"
   ]
  },
  {
   "cell_type": "code",
   "execution_count": null,
   "metadata": {},
   "outputs": [
    {
     "name": "stdout",
     "output_type": "stream",
     "text": [
      "\n",
      "from sklearn.utils import Bunch\n",
      "from pathlib import Path\n",
      "import joblib\n",
      "import pandas as pd\n",
      "import numpy as np\n",
      "\n",
      "def test_index_pipeline (test=True, prev_result=None, result_file_name=\"index_pipeline\"):\n",
      "    result = index_pipeline (test=test, load=True, save=True, result_file_name=result_file_name)\n",
      "    if prev_result is None:\n",
      "        prev_result = index_pipeline (test=test, load=True, save=True, result_file_name=f\"test_{result_file_name}\")\n",
      "    for k in prev_result:\n",
      "        assert k in result\n",
      "        if type(prev_result[k]) is pd.DataFrame:    \n",
      "            pd.testing.assert_frame_equal (result[k], prev_result[k])\n",
      "        elif type(prev_result[k]) is np.array:\n",
      "            np.testing.assert_array_equal (result[k], prev_result[k])\n",
      "        else:\n",
      "            assert result[k]==prev_result[k]\n",
      "\n"
     ]
    }
   ],
   "source": [
    "%print_pipeline --test"
   ]
  },
  {
   "cell_type": "code",
   "execution_count": null,
   "metadata": {},
   "outputs": [
    {
     "name": "stdout",
     "output_type": "stream",
     "text": [
      "\n",
      "def index_pipeline (test=False, load=True, save=True, result_file_name=\"index_pipeline\"):\n",
      "\n",
      "    # load result\n",
      "    result_file_name += '.pk'\n",
      "    path_variables = Path (\"index\") / result_file_name\n",
      "    if load and path_variables.exists():\n",
      "        result = joblib.load (path_variables)\n",
      "        return result\n",
      "\n",
      "    b, c, a = get_initial_values (test=test)\n",
      "    d = get_d ()\n",
      "    add_all (d, b, c, a)\n",
      "\n",
      "    # save result\n",
      "    result = Bunch (b=b,c=c,a=a,d=d)\n",
      "    if save:    \n",
      "        path_variables.parent.mkdir (parents=True, exist_ok=True)\n",
      "        joblib.dump (result, path_variables)\n",
      "    return result\n",
      "\n"
     ]
    }
   ],
   "source": [
    "%print_pipeline"
   ]
  },
  {
   "cell_type": "code",
   "execution_count": null,
   "metadata": {},
   "outputs": [
    {
     "name": "stdout",
     "output_type": "stream",
     "text": [
      "def add_all(d, b, c, a):\n",
      "    a = a + d\n",
      "    b = b + d\n",
      "    c = c + d\n",
      "\n"
     ]
    }
   ],
   "source": [
    "%print add_all"
   ]
  },
  {
   "cell_type": "markdown",
   "metadata": {},
   "source": [
    "We can see that the uputs from `get_initial_values` and `get_d` change as needed. We can look at all the functions defined so far by using `print all`:"
   ]
  },
  {
   "cell_type": "code",
   "execution_count": null,
   "metadata": {},
   "outputs": [
    {
     "name": "stdout",
     "output_type": "stream",
     "text": [
      "def get_initial_values(test=False):\n",
      "    a = 2\n",
      "    b = 3\n",
      "    c = a+b\n",
      "    print (a+b)\n",
      "    return b,c,a\n",
      "\n",
      "def get_d():\n",
      "    d = 10\n",
      "    return d\n",
      "\n",
      "def add_all(d, b, c, a):\n",
      "    a = a + d\n",
      "    b = b + d\n",
      "    c = c + d\n",
      "\n"
     ]
    }
   ],
   "source": [
    "%print all"
   ]
  },
  {
   "cell_type": "markdown",
   "metadata": {},
   "source": [
    "Similarly the outputs from the last function `add_all` change after we add a other functions that depend on it:"
   ]
  },
  {
   "cell_type": "code",
   "execution_count": null,
   "metadata": {},
   "outputs": [
    {
     "name": "stdout",
     "output_type": "stream",
     "text": [
      "12 13 15 10\n"
     ]
    }
   ],
   "source": [
    "%%function print_all\n",
    "print (a, b, c, d)"
   ]
  },
  {
   "cell_type": "markdown",
   "metadata": {},
   "source": [
    "### print"
   ]
  },
  {
   "cell_type": "markdown",
   "metadata": {},
   "source": [
    "We can see each of the defined functions with `print my_function`, and list all of them with `print all`"
   ]
  },
  {
   "cell_type": "code",
   "execution_count": null,
   "metadata": {},
   "outputs": [
    {
     "name": "stdout",
     "output_type": "stream",
     "text": [
      "def get_initial_values(test=False):\n",
      "    a = 2\n",
      "    b = 3\n",
      "    c = a+b\n",
      "    print (a+b)\n",
      "    return b,c,a\n",
      "\n",
      "def get_d():\n",
      "    d = 10\n",
      "    return d\n",
      "\n",
      "def add_all(d, b, c, a):\n",
      "    a = a + d\n",
      "    b = b + d\n",
      "    c = c + d\n",
      "    return b,c,a\n",
      "\n",
      "def print_all(b, d, a, c):\n",
      "    print (a, b, c, d)\n",
      "\n"
     ]
    }
   ],
   "source": [
    "%print all"
   ]
  },
  {
   "cell_type": "markdown",
   "metadata": {},
   "source": [
    "### print_pipeline"
   ]
  },
  {
   "cell_type": "markdown",
   "metadata": {},
   "source": [
    "As we add functions to the notebook, a pipeline function is defined. We can print this pipeline with the magic `print_pipeline`"
   ]
  },
  {
   "cell_type": "code",
   "execution_count": null,
   "metadata": {},
   "outputs": [
    {
     "name": "stdout",
     "output_type": "stream",
     "text": [
      "\n",
      "def index_pipeline (test=False, load=True, save=True, result_file_name=\"index_pipeline\"):\n",
      "\n",
      "    # load result\n",
      "    result_file_name += '.pk'\n",
      "    path_variables = Path (\"index\") / result_file_name\n",
      "    if load and path_variables.exists():\n",
      "        result = joblib.load (path_variables)\n",
      "        return result\n",
      "\n",
      "    b, c, a = get_initial_values (test=test)\n",
      "    d = get_d ()\n",
      "    b, c, a = add_all (d, b, c, a)\n",
      "    print_all (b, d, a, c)\n",
      "\n",
      "    # save result\n",
      "    result = Bunch (b=b,d=d,c=c,a=a)\n",
      "    if save:    \n",
      "        path_variables.parent.mkdir (parents=True, exist_ok=True)\n",
      "        joblib.dump (result, path_variables)\n",
      "    return result\n",
      "\n"
     ]
    }
   ],
   "source": [
    "%print_pipeline"
   ]
  },
  {
   "cell_type": "markdown",
   "metadata": {},
   "source": [
    "This shows the data flow in terms of inputs and outputs"
   ]
  },
  {
   "cell_type": "markdown",
   "metadata": {},
   "source": [
    "And run it:"
   ]
  },
  {
   "cell_type": "code",
   "execution_count": null,
   "metadata": {},
   "outputs": [],
   "source": [
    "self = %cell_processor"
   ]
  },
  {
   "cell_type": "code",
   "execution_count": null,
   "metadata": {},
   "outputs": [
    {
     "data": {
      "text/plain": [
       "[FunctionProcessor with name get_initial_values, and fields: dict_keys(['original_code', 'name', 'call', 'tab_size', 'arguments', 'return_values', 'unknown_input', 'unknown_output', 'test', 'data', 'defined', 'permanent', 'signature', 'norun', 'created_variables', 'loaded_names', 'previous_variables', 'argument_variables', 'read_only_variables', 'posterior_variables', 'all_variables', 'idx', 'previous_values', 'current_values', 'all_values', 'code'])\n",
       "     Arguments: []\n",
       "     Output: ['b', 'c', 'a']\n",
       "     Locals: dict_keys(['a', 'b', 'c']),\n",
       " FunctionProcessor with name get_d, and fields: dict_keys(['original_code', 'name', 'call', 'tab_size', 'arguments', 'return_values', 'unknown_input', 'unknown_output', 'test', 'data', 'defined', 'permanent', 'signature', 'norun', 'created_variables', 'loaded_names', 'previous_variables', 'argument_variables', 'read_only_variables', 'posterior_variables', 'all_variables', 'idx', 'previous_values', 'current_values', 'all_values', 'code'])\n",
       "     Arguments: []\n",
       "     Output: ['d']\n",
       "     Locals: dict_keys(['d']),\n",
       " FunctionProcessor with name add_all, and fields: dict_keys(['original_code', 'name', 'call', 'tab_size', 'arguments', 'return_values', 'unknown_input', 'unknown_output', 'test', 'data', 'defined', 'permanent', 'signature', 'norun', 'created_variables', 'loaded_names', 'previous_variables', 'argument_variables', 'read_only_variables', 'posterior_variables', 'all_variables', 'idx', 'previous_values', 'current_values', 'all_values', 'code'])\n",
       "     Arguments: ['d', 'b', 'c', 'a']\n",
       "     Output: ['b', 'c', 'a']\n",
       "     Locals: dict_keys(['a', 'b', 'c']),\n",
       " FunctionProcessor with name print_all, and fields: dict_keys(['original_code', 'name', 'call', 'tab_size', 'arguments', 'return_values', 'unknown_input', 'unknown_output', 'test', 'data', 'defined', 'permanent', 'signature', 'norun', 'created_variables', 'loaded_names', 'previous_variables', 'argument_variables', 'read_only_variables', 'posterior_variables', 'all_variables', 'idx', 'previous_values', 'current_values', 'all_values', 'code'])\n",
       "     Arguments: ['b', 'd', 'a', 'c']\n",
       "     Output: []\n",
       "     Locals: dict_keys([])]"
      ]
     },
     "execution_count": null,
     "metadata": {},
     "output_type": "execute_result"
    }
   ],
   "source": [
    "self.function_list"
   ]
  },
  {
   "cell_type": "code",
   "execution_count": null,
   "metadata": {},
   "outputs": [
    {
     "name": "stdout",
     "output_type": "stream",
     "text": [
      "def get_initial_values(test=False):\n",
      "    a = 2\n",
      "    b = 3\n",
      "    c = a+b\n",
      "    print (a+b)\n",
      "    return b,c,a\n",
      "\n",
      "def get_d():\n",
      "    d = 10\n",
      "    return d\n",
      "\n",
      "def add_all(d, b, c, a):\n",
      "    a = a + d\n",
      "    b = b + d\n",
      "    c = c + d\n",
      "    return b,c,a\n",
      "\n",
      "def print_all(b, d, a, c):\n",
      "    print (a, b, c, d)\n",
      "\n"
     ]
    }
   ],
   "source": [
    "%print all"
   ]
  },
  {
   "cell_type": "code",
   "execution_count": null,
   "metadata": {},
   "outputs": [
    {
     "data": {
      "text/plain": [
       "{'d': 10, 'b': 13, 'a': 12, 'c': 15}"
      ]
     },
     "execution_count": null,
     "metadata": {},
     "output_type": "execute_result"
    }
   ],
   "source": [
    "index_pipeline()"
   ]
  },
  {
   "cell_type": "markdown",
   "metadata": {},
   "source": [
    "### function_info"
   ]
  },
  {
   "cell_type": "markdown",
   "metadata": {},
   "source": [
    "We can get access to many of the details of each of the defined functions by calling `function_info` on a given function name:"
   ]
  },
  {
   "cell_type": "code",
   "execution_count": null,
   "metadata": {},
   "outputs": [],
   "source": [
    "get_initial_values_info = %function_info get_initial_values"
   ]
  },
  {
   "cell_type": "markdown",
   "metadata": {},
   "source": [
    "This allows us to see:\n",
    "\n",
    "- The name and value (at the time of running) of the local variables, arguments and results from the function:"
   ]
  },
  {
   "cell_type": "code",
   "execution_count": null,
   "metadata": {},
   "outputs": [
    {
     "data": {
      "text/plain": [
       "[]"
      ]
     },
     "execution_count": null,
     "metadata": {},
     "output_type": "execute_result"
    }
   ],
   "source": [
    "get_initial_values_info.arguments"
   ]
  },
  {
   "cell_type": "code",
   "execution_count": null,
   "metadata": {},
   "outputs": [
    {
     "data": {
      "text/plain": [
       "{'a': 2, 'b': 3, 'c': 5}"
      ]
     },
     "execution_count": null,
     "metadata": {},
     "output_type": "execute_result"
    }
   ],
   "source": [
    "get_initial_values_info.current_values"
   ]
  },
  {
   "cell_type": "code",
   "execution_count": null,
   "metadata": {},
   "outputs": [
    {
     "data": {
      "text/plain": [
       "['b', 'c', 'a']"
      ]
     },
     "execution_count": null,
     "metadata": {},
     "output_type": "execute_result"
    }
   ],
   "source": [
    "get_initial_values_info.return_values"
   ]
  },
  {
   "cell_type": "markdown",
   "metadata": {},
   "source": [
    "We can also inspect the original code written in the cell..."
   ]
  },
  {
   "cell_type": "code",
   "execution_count": null,
   "metadata": {},
   "outputs": [
    {
     "name": "stdout",
     "output_type": "stream",
     "text": [
      "a = 2\n",
      "b = 3\n",
      "c = a+b\n",
      "print (a+b)\n",
      "\n"
     ]
    }
   ],
   "source": [
    "print (get_initial_values_info.original_code)"
   ]
  },
  {
   "cell_type": "markdown",
   "metadata": {},
   "source": [
    "the code of the defined function:"
   ]
  },
  {
   "cell_type": "code",
   "execution_count": null,
   "metadata": {},
   "outputs": [
    {
     "name": "stdout",
     "output_type": "stream",
     "text": [
      "def get_initial_values(test=False):\n",
      "    a = 2\n",
      "    b = 3\n",
      "    c = a+b\n",
      "    print (a+b)\n",
      "    return b,c,a\n",
      "\n"
     ]
    }
   ],
   "source": [
    "print (get_initial_values_info.code)"
   ]
  },
  {
   "cell_type": "markdown",
   "metadata": {},
   "source": [
    ".. and the AST trees:"
   ]
  },
  {
   "cell_type": "code",
   "execution_count": null,
   "metadata": {},
   "outputs": [
    {
     "name": "stdout",
     "output_type": "stream",
     "text": [
      "Module(\n",
      "  body=[\n",
      "    Assign(\n",
      "      targets=[\n",
      "        Name(id='a', ctx=Store())],\n",
      "      value=Constant(value=2)),\n",
      "    Assign(\n",
      "      targets=[\n",
      "        Name(id='b', ctx=Store())],\n",
      "      value=Constant(value=3)),\n",
      "    Assign(\n",
      "      targets=[\n",
      "        Name(id='c', ctx=Store())],\n",
      "      value=BinOp(\n",
      "        left=Name(id='a', ctx=Load()),\n",
      "        op=Add(),\n",
      "        right=Name(id='b', ctx=Load()))),\n",
      "    Expr(\n",
      "      value=Call(\n",
      "        func=Name(id='print', ctx=Load()),\n",
      "        args=[\n",
      "          BinOp(\n",
      "            left=Name(id='a', ctx=Load()),\n",
      "            op=Add(),\n",
      "            right=Name(id='b', ctx=Load()))],\n",
      "        keywords=[]))],\n",
      "  type_ignores=[])\n",
      "None\n"
     ]
    }
   ],
   "source": [
    "print (get_initial_values_info.get_ast (code=get_initial_values_info.original_code))"
   ]
  },
  {
   "cell_type": "code",
   "execution_count": null,
   "metadata": {},
   "outputs": [
    {
     "name": "stdout",
     "output_type": "stream",
     "text": [
      "Module(\n",
      "  body=[\n",
      "    FunctionDef(\n",
      "      name='get_initial_values',\n",
      "      args=arguments(\n",
      "        posonlyargs=[],\n",
      "        args=[\n",
      "          arg(arg='test')],\n",
      "        kwonlyargs=[],\n",
      "        kw_defaults=[],\n",
      "        defaults=[\n",
      "          Constant(value=False)]),\n",
      "      body=[\n",
      "        Assign(\n",
      "          targets=[\n",
      "            Name(id='a', ctx=Store())],\n",
      "          value=Constant(value=2)),\n",
      "        Assign(\n",
      "          targets=[\n",
      "            Name(id='b', ctx=Store())],\n",
      "          value=Constant(value=3)),\n",
      "        Assign(\n",
      "          targets=[\n",
      "            Name(id='c', ctx=Store())],\n",
      "          value=BinOp(\n",
      "            left=Name(id='a', ctx=Load()),\n",
      "            op=Add(),\n",
      "            right=Name(id='b', ctx=Load()))),\n",
      "        Expr(\n",
      "          value=Call(\n",
      "            func=Name(id='print', ctx=Load()),\n",
      "            args=[\n",
      "              BinOp(\n",
      "                left=Name(id='a', ctx=Load()),\n",
      "                op=Add(),\n",
      "                right=Name(id='b', ctx=Load()))],\n",
      "            keywords=[])),\n",
      "        Return(\n",
      "          value=Tuple(\n",
      "            elts=[\n",
      "              Name(id='b', ctx=Load()),\n",
      "              Name(id='c', ctx=Load()),\n",
      "              Name(id='a', ctx=Load())],\n",
      "            ctx=Load()))],\n",
      "      decorator_list=[])],\n",
      "  type_ignores=[])\n",
      "None\n"
     ]
    }
   ],
   "source": [
    "print (get_initial_values_info.get_ast (code=get_initial_values_info.code))"
   ]
  },
  {
   "cell_type": "markdown",
   "metadata": {},
   "source": [
    "Now, we can define another function in a cell that uses variables from the previous function."
   ]
  },
  {
   "cell_type": "markdown",
   "metadata": {},
   "source": [
    "### cell_processor\n",
    "\n",
    "This magic allows us to get access to the CellProcessor class managing the logic for running the above magic commands, which can become handy:"
   ]
  },
  {
   "cell_type": "code",
   "execution_count": null,
   "metadata": {},
   "outputs": [],
   "source": [
    "cell_processor = %cell_processor"
   ]
  },
  {
   "cell_type": "markdown",
   "metadata": {},
   "source": [
    "## Merging function cells"
   ]
  },
  {
   "cell_type": "markdown",
   "metadata": {},
   "source": [
    "In order to explore intermediate results, it is convenient to split the code in a function among different cells. This can be done by passing the flag `--merge True`"
   ]
  },
  {
   "cell_type": "code",
   "execution_count": null,
   "metadata": {},
   "outputs": [],
   "source": [
    "%%function analyze\n",
    "x = [1, 2, 3]\n",
    "y = [100, 200, 300]\n",
    "z = [u+v for u,v in zip(x,y)]"
   ]
  },
  {
   "cell_type": "code",
   "execution_count": null,
   "metadata": {},
   "outputs": [
    {
     "data": {
      "text/plain": [
       "[101, 202, 303]"
      ]
     },
     "execution_count": null,
     "metadata": {},
     "output_type": "execute_result"
    }
   ],
   "source": [
    "z"
   ]
  },
  {
   "cell_type": "code",
   "execution_count": null,
   "metadata": {},
   "outputs": [
    {
     "name": "stdout",
     "output_type": "stream",
     "text": [
      "def analyze():\n",
      "    x = [1, 2, 3]\n",
      "    y = [100, 200, 300]\n",
      "    z = [u+v for u,v in zip(x,y)]\n",
      "\n"
     ]
    }
   ],
   "source": [
    "%print analyze"
   ]
  },
  {
   "cell_type": "code",
   "execution_count": null,
   "metadata": {},
   "outputs": [],
   "source": [
    "%%function analyze --merge\n",
    "product = [u*v for u, v in zip(x,y)]"
   ]
  },
  {
   "cell_type": "code",
   "execution_count": null,
   "metadata": {},
   "outputs": [
    {
     "name": "stdout",
     "output_type": "stream",
     "text": [
      "def analyze():\n",
      "    x = [1, 2, 3]\n",
      "    y = [100, 200, 300]\n",
      "    z = [u+v for u,v in zip(x,y)]\n",
      "    product = [u*v for u, v in zip(x,y)]\n",
      "\n"
     ]
    }
   ],
   "source": [
    "%print analyze"
   ]
  },
  {
   "cell_type": "markdown",
   "metadata": {},
   "source": [
    "# Test functions"
   ]
  },
  {
   "cell_type": "markdown",
   "metadata": {},
   "source": [
    "By passing the flag `--test` we can indicate that the logic in the cell is dedicated to test other functions in the notebook. The test function is defined taking the well-known `pytest` library as a test engine in mind. \n",
    "\n",
    "This has the following consequences:   \n",
    "    - The analysis of dependencies is not associated with variables found in other cells.\n",
    "    - Test functions do not appear in the overall pipeline.\n",
    "    - The data variables used by the test function can be defined in separate test data cells which in turn are converted to functions. These functions are called at the beginning of the test cell. \n",
    "    \n",
    "Let's see an example"
   ]
  },
  {
   "cell_type": "code",
   "execution_count": null,
   "metadata": {},
   "outputs": [],
   "source": [
    "%%function input_add_all --data --test\n",
    "a = 5\n",
    "b = 3\n",
    "c = 6\n",
    "d = 7"
   ]
  },
  {
   "cell_type": "code",
   "execution_count": null,
   "metadata": {},
   "outputs": [
    {
     "data": {
      "text/plain": [
       "(12, 10, 13)"
      ]
     },
     "execution_count": null,
     "metadata": {},
     "output_type": "execute_result"
    }
   ],
   "source": [
    "add_all(d, a, b, c)"
   ]
  },
  {
   "cell_type": "code",
   "execution_count": null,
   "metadata": {},
   "outputs": [],
   "source": [
    "%%function add_all --test\n",
    "# test function add_all\n",
    "assert add_all(d, a, b, c)==(12, 10, 13)"
   ]
  },
  {
   "cell_type": "code",
   "execution_count": null,
   "metadata": {},
   "outputs": [
    {
     "name": "stdout",
     "output_type": "stream",
     "text": [
      "def test_add_all():\n",
      "    b,c,a,d = test_input_add_all()\n",
      "    # test function add_all\n",
      "    assert add_all(d, a, b, c)==(12, 10, 13)\n",
      "\n"
     ]
    }
   ],
   "source": [
    "%print test_add_all --test"
   ]
  },
  {
   "cell_type": "code",
   "execution_count": null,
   "metadata": {},
   "outputs": [
    {
     "name": "stdout",
     "output_type": "stream",
     "text": [
      "def test_input_add_all(test=False):\n",
      "    a = 5\n",
      "    b = 3\n",
      "    c = 6\n",
      "    d = 7\n",
      "    return b,c,a,d\n",
      "\n"
     ]
    }
   ],
   "source": [
    "%print test_input_add_all --test --data"
   ]
  },
  {
   "cell_type": "markdown",
   "metadata": {},
   "source": [
    "Test functions are written in a separate test module, withprefix `test_`"
   ]
  },
  {
   "cell_type": "code",
   "execution_count": null,
   "metadata": {},
   "outputs": [
    {
     "name": "stdout",
     "output_type": "stream",
     "text": [
      "index.ipynb  test_example.py\n"
     ]
    }
   ],
   "source": [
    "!ls ../tests"
   ]
  },
  {
   "cell_type": "markdown",
   "metadata": {},
   "source": [
    "# Imports"
   ]
  },
  {
   "cell_type": "markdown",
   "metadata": {},
   "source": [
    "In order to include libraries in our python module, we can use the magic imports. Those will be written at the beginning of the module:"
   ]
  },
  {
   "cell_type": "code",
   "execution_count": null,
   "metadata": {},
   "outputs": [],
   "source": [
    "%%imports\n",
    "import pandas as pd"
   ]
  },
  {
   "cell_type": "markdown",
   "metadata": {},
   "source": [
    "Imports can be indicated separately for the test module by passing the flag `--test`:"
   ]
  },
  {
   "cell_type": "code",
   "execution_count": null,
   "metadata": {},
   "outputs": [],
   "source": [
    "%%imports --test\n",
    "import matplotlib.pyplot as plt"
   ]
  },
  {
   "cell_type": "markdown",
   "metadata": {},
   "source": [
    "# Defined functions"
   ]
  },
  {
   "cell_type": "markdown",
   "metadata": {},
   "source": [
    "Functions can be included already being defined with signature and return values. The only caveat is that, if we want the function to be executed, the variables in the argument list need to be created outside of the function. Otherwise we need to pass the flag --norun to avoid errors:"
   ]
  },
  {
   "cell_type": "code",
   "execution_count": null,
   "metadata": {},
   "outputs": [],
   "source": [
    "%%function --norun\n",
    "def myfunc (x, y, a=1, b=3):\n",
    "    print ('hello', a, b)\n",
    "    c = a+b\n",
    "    return c"
   ]
  },
  {
   "cell_type": "markdown",
   "metadata": {},
   "source": [
    "Although the internal code of the function is not executed, it is still parsed using an AST. This allows to provide very tentative *warnings* regarding names not found in the argument list"
   ]
  },
  {
   "cell_type": "code",
   "execution_count": null,
   "metadata": {},
   "outputs": [
    {
     "name": "stdout",
     "output_type": "stream",
     "text": [
      "Detected the following previous variables that are not in the argument list: ['b', 'a']\n"
     ]
    }
   ],
   "source": [
    "%%function --norun\n",
    "def other_func (x, y):\n",
    "    print ('hello', a, b)\n",
    "    c = a+b\n",
    "    return c"
   ]
  },
  {
   "cell_type": "markdown",
   "metadata": {},
   "source": [
    "Let's do the same but running the function:"
   ]
  },
  {
   "cell_type": "code",
   "execution_count": null,
   "metadata": {},
   "outputs": [],
   "source": [
    "a=1\n",
    "b=3"
   ]
  },
  {
   "cell_type": "code",
   "execution_count": null,
   "metadata": {},
   "outputs": [
    {
     "name": "stdout",
     "output_type": "stream",
     "text": [
      "hello 1 3\n"
     ]
    }
   ],
   "source": [
    "%%function\n",
    "def myfunc (x, y, a=1, b=3):\n",
    "    print ('hello', a, b)\n",
    "    c = a+b\n",
    "    return c"
   ]
  },
  {
   "cell_type": "code",
   "execution_count": null,
   "metadata": {},
   "outputs": [
    {
     "name": "stdout",
     "output_type": "stream",
     "text": [
      "hello 1 3\n"
     ]
    },
    {
     "data": {
      "text/plain": [
       "4"
      ]
     },
     "execution_count": null,
     "metadata": {},
     "output_type": "execute_result"
    }
   ],
   "source": [
    "myfunc (10, 20)"
   ]
  },
  {
   "cell_type": "code",
   "execution_count": null,
   "metadata": {},
   "outputs": [],
   "source": [
    "myfunc_info = %function_info myfunc"
   ]
  },
  {
   "cell_type": "code",
   "execution_count": null,
   "metadata": {},
   "outputs": [
    {
     "data": {
      "text/plain": [
       "FunctionProcessor with name myfunc, and fields: dict_keys(['original_code', 'name', 'call', 'tab_size', 'arguments', 'return_values', 'unknown_input', 'unknown_output', 'test', 'data', 'defined', 'permanent', 'signature', 'norun', 'created_variables', 'loaded_names', 'previous_variables', 'argument_variables', 'read_only_variables', 'posterior_variables', 'all_variables', 'idx', 'previous_values', 'current_values', 'all_values', 'code'])\n",
       "    Arguments: ['x', 'y', 'a', 'b']\n",
       "    Output: ['c']\n",
       "    Locals: dict_keys(['c'])"
      ]
     },
     "execution_count": null,
     "metadata": {},
     "output_type": "execute_result"
    }
   ],
   "source": [
    "myfunc_info"
   ]
  },
  {
   "cell_type": "code",
   "execution_count": null,
   "metadata": {},
   "outputs": [
    {
     "data": {
      "text/plain": [
       "4"
      ]
     },
     "execution_count": null,
     "metadata": {},
     "output_type": "execute_result"
    }
   ],
   "source": [
    "myfunc_info.c"
   ]
  },
  {
   "cell_type": "markdown",
   "metadata": {},
   "source": [
    "# Storing local variables in memory"
   ]
  },
  {
   "cell_type": "markdown",
   "metadata": {},
   "source": [
    "By default, when we run a cell function its local variables are stored in a dictionary called `current_values`:"
   ]
  },
  {
   "cell_type": "code",
   "execution_count": null,
   "metadata": {},
   "outputs": [],
   "source": [
    "%%function my_new_function\n",
    "my_new_local = 3\n",
    "my_other_new_local = 4"
   ]
  },
  {
   "cell_type": "markdown",
   "metadata": {},
   "source": [
    "The stored variables can be accessed by calling the magic `function_info`:"
   ]
  },
  {
   "cell_type": "code",
   "execution_count": null,
   "metadata": {},
   "outputs": [],
   "source": [
    "my_new_function_info = %function_info my_new_function"
   ]
  },
  {
   "cell_type": "code",
   "execution_count": null,
   "metadata": {},
   "outputs": [
    {
     "data": {
      "text/plain": [
       "{'my_new_local': 3, 'my_other_new_local': 4}"
      ]
     },
     "execution_count": null,
     "metadata": {},
     "output_type": "execute_result"
    }
   ],
   "source": [
    "my_new_function_info.current_values"
   ]
  },
  {
   "cell_type": "markdown",
   "metadata": {},
   "source": [
    "This default behaviour can be overriden by passing the flag `--not-store`"
   ]
  },
  {
   "cell_type": "code",
   "execution_count": null,
   "metadata": {},
   "outputs": [],
   "source": [
    "%%function my_second_new_function --not-store\n",
    "my_second_variable = 100\n",
    "my_second_other_variable = 200"
   ]
  },
  {
   "cell_type": "code",
   "execution_count": null,
   "metadata": {},
   "outputs": [],
   "source": [
    "my_second_new_function_info = %function_info my_second_new_function"
   ]
  },
  {
   "cell_type": "code",
   "execution_count": null,
   "metadata": {},
   "outputs": [
    {
     "data": {
      "text/plain": [
       "{}"
      ]
     },
     "execution_count": null,
     "metadata": {},
     "output_type": "execute_result"
    }
   ],
   "source": [
    "my_second_new_function_info.current_values"
   ]
  },
  {
   "cell_type": "markdown",
   "metadata": {},
   "source": [
    "# (Un)packing Bunch I/O"
   ]
  },
  {
   "cell_type": "code",
   "execution_count": null,
   "metadata": {},
   "outputs": [],
   "source": [
    "%load_ext nbmodular.core.cell2func"
   ]
  },
  {
   "cell_type": "code",
   "execution_count": null,
   "metadata": {},
   "outputs": [],
   "source": [
    "from sklearn.utils import Bunch"
   ]
  },
  {
   "cell_type": "code",
   "execution_count": null,
   "metadata": {},
   "outputs": [],
   "source": [
    "%%function bunch_data\n",
    "x = Bunch (a=1, b=2)"
   ]
  },
  {
   "cell_type": "code",
   "execution_count": null,
   "metadata": {},
   "outputs": [],
   "source": [
    "%%function bunch_processor --unpack-bunch x --include-input \"day=1\"\n",
    "c = 3\n",
    "a = 4"
   ]
  },
  {
   "cell_type": "code",
   "execution_count": null,
   "metadata": {},
   "outputs": [
    {
     "name": "stdout",
     "output_type": "stream",
     "text": [
      "def bunch_processor(x, day):\n",
      "    a = x[\"a\"]\n",
      "    b = x[\"b\"]\n",
      "    c = 3\n",
      "    a = 4\n",
      "    x[\"a\"] = a\n",
      "    x[\"c\"] = c\n",
      "    x[\"day\"] = day\n",
      "    return x\n",
      "\n"
     ]
    }
   ],
   "source": [
    "%print bunch_processor"
   ]
  },
  {
   "cell_type": "markdown",
   "metadata": {},
   "source": [
    "# Function's info object holding local variables"
   ]
  },
  {
   "cell_type": "code",
   "execution_count": null,
   "metadata": {},
   "outputs": [],
   "source": [
    "#| hide\n",
    "import pandas as pd"
   ]
  },
  {
   "cell_type": "code",
   "execution_count": null,
   "metadata": {},
   "outputs": [],
   "source": [
    "df = pd.DataFrame (dict(Year=[1,2,3], Month=[1,2,3], Day=[1,2,3]))\n",
    "fy = '2023'"
   ]
  },
  {
   "cell_type": "code",
   "execution_count": null,
   "metadata": {},
   "outputs": [
    {
     "name": "stdout",
     "output_type": "stream",
     "text": [
      "other args: fy 2023 x 1 y 3\n",
      "Stored the following local variables in the days current_values dictionary: ['df_group']\n",
      "Detected the following previous variables that are not in the argument list: ['x', 'df', 'fy']\n"
     ]
    }
   ],
   "source": [
    "%%function\n",
    "def days (df, fy, x=1, /, y=3, *, n=4):\n",
    "    df_group = df.groupby(['Year','Month']).agg({'Day': lambda x: len (x)})\n",
    "    df_group = df.reset_index()\n",
    "    print ('other args: fy', fy, 'x', x, 'y', y)\n",
    "    return df_group"
   ]
  },
  {
   "cell_type": "markdown",
   "metadata": {},
   "source": [
    "An info object with name <function_name>_info is created in memory, and can be used to get access to local variables"
   ]
  },
  {
   "cell_type": "code",
   "execution_count": null,
   "metadata": {},
   "outputs": [
    {
     "data": {
      "text/html": [
       "<div>\n",
       "<style scoped>\n",
       "    .dataframe tbody tr th:only-of-type {\n",
       "        vertical-align: middle;\n",
       "    }\n",
       "\n",
       "    .dataframe tbody tr th {\n",
       "        vertical-align: top;\n",
       "    }\n",
       "\n",
       "    .dataframe thead th {\n",
       "        text-align: right;\n",
       "    }\n",
       "</style>\n",
       "<table border=\"1\" class=\"dataframe\">\n",
       "  <thead>\n",
       "    <tr style=\"text-align: right;\">\n",
       "      <th></th>\n",
       "      <th>index</th>\n",
       "      <th>Year</th>\n",
       "      <th>Month</th>\n",
       "      <th>Day</th>\n",
       "    </tr>\n",
       "  </thead>\n",
       "  <tbody>\n",
       "    <tr>\n",
       "      <th>0</th>\n",
       "      <td>0</td>\n",
       "      <td>1</td>\n",
       "      <td>1</td>\n",
       "      <td>1</td>\n",
       "    </tr>\n",
       "    <tr>\n",
       "      <th>1</th>\n",
       "      <td>1</td>\n",
       "      <td>2</td>\n",
       "      <td>2</td>\n",
       "      <td>2</td>\n",
       "    </tr>\n",
       "    <tr>\n",
       "      <th>2</th>\n",
       "      <td>2</td>\n",
       "      <td>3</td>\n",
       "      <td>3</td>\n",
       "      <td>3</td>\n",
       "    </tr>\n",
       "  </tbody>\n",
       "</table>\n",
       "</div>"
      ],
      "text/plain": [
       "   index  Year  Month  Day\n",
       "0      0     1      1    1\n",
       "1      1     2      2    2\n",
       "2      2     3      3    3"
      ]
     },
     "execution_count": null,
     "metadata": {},
     "output_type": "execute_result"
    }
   ],
   "source": [
    "days_info.df_group"
   ]
  },
  {
   "cell_type": "markdown",
   "metadata": {},
   "source": [
    "There is more information in this object: previous variables, code, etc."
   ]
  },
  {
   "cell_type": "code",
   "execution_count": null,
   "metadata": {},
   "outputs": [
    {
     "data": {
      "text/plain": [
       "{'df_group':    index  Year  Month  Day\n",
       " 0      0     1      1    1\n",
       " 1      1     2      2    2\n",
       " 2      2     3      3    3}"
      ]
     },
     "execution_count": null,
     "metadata": {},
     "output_type": "execute_result"
    }
   ],
   "source": [
    "days_info.current_values"
   ]
  },
  {
   "cell_type": "code",
   "execution_count": null,
   "metadata": {},
   "outputs": [
    {
     "data": {
      "text/plain": [
       "FunctionProcessor with name days, and fields: dict_keys(['original_code', 'name', 'call', 'tab_size', 'arguments', 'return_values', 'unknown_input', 'unknown_output', 'test', 'data', 'defined', 'permanent', 'signature', 'not_run', 'previous_values', 'current_values', 'returns_dict', 'returns_bunch', 'unpack_bunch', 'include_input', 'exclude_input', 'include_output', 'exclude_output', 'store_locals_in_disk', 'created_variables', 'loaded_names', 'previous_variables', 'argument_variables', 'read_only_variables', 'posterior_variables', 'all_variables', 'idx'])\n",
       "    Arguments: ['df', 'fy', 'x', 'y']\n",
       "    Output: ['df_group']\n",
       "    Locals: dict_keys(['df_group'])"
      ]
     },
     "execution_count": null,
     "metadata": {},
     "output_type": "execute_result"
    }
   ],
   "source": [
    "days_info"
   ]
  },
  {
   "cell_type": "markdown",
   "metadata": {},
   "source": [
    "The function can also be called directly:"
   ]
  },
  {
   "cell_type": "code",
   "execution_count": null,
   "metadata": {},
   "outputs": [
    {
     "name": "stdout",
     "output_type": "stream",
     "text": [
      "other args: fy 100 x 4 y 3\n"
     ]
    },
    {
     "data": {
      "text/html": [
       "<div>\n",
       "<style scoped>\n",
       "    .dataframe tbody tr th:only-of-type {\n",
       "        vertical-align: middle;\n",
       "    }\n",
       "\n",
       "    .dataframe tbody tr th {\n",
       "        vertical-align: top;\n",
       "    }\n",
       "\n",
       "    .dataframe thead th {\n",
       "        text-align: right;\n",
       "    }\n",
       "</style>\n",
       "<table border=\"1\" class=\"dataframe\">\n",
       "  <thead>\n",
       "    <tr style=\"text-align: right;\">\n",
       "      <th></th>\n",
       "      <th>index</th>\n",
       "      <th>Year</th>\n",
       "      <th>Month</th>\n",
       "      <th>Day</th>\n",
       "    </tr>\n",
       "  </thead>\n",
       "  <tbody>\n",
       "    <tr>\n",
       "      <th>0</th>\n",
       "      <td>0</td>\n",
       "      <td>100</td>\n",
       "      <td>100</td>\n",
       "      <td>100</td>\n",
       "    </tr>\n",
       "    <tr>\n",
       "      <th>1</th>\n",
       "      <td>1</td>\n",
       "      <td>200</td>\n",
       "      <td>200</td>\n",
       "      <td>200</td>\n",
       "    </tr>\n",
       "    <tr>\n",
       "      <th>2</th>\n",
       "      <td>2</td>\n",
       "      <td>300</td>\n",
       "      <td>300</td>\n",
       "      <td>300</td>\n",
       "    </tr>\n",
       "  </tbody>\n",
       "</table>\n",
       "</div>"
      ],
      "text/plain": [
       "   index  Year  Month  Day\n",
       "0      0   100    100  100\n",
       "1      1   200    200  200\n",
       "2      2   300    300  300"
      ]
     },
     "execution_count": null,
     "metadata": {},
     "output_type": "execute_result"
    }
   ],
   "source": [
    "days (df*100, 100, x=4)"
   ]
  }
 ],
 "metadata": {
  "kernelspec": {
   "display_name": "python3",
   "language": "python",
   "name": "python3"
  }
 },
 "nbformat": 4,
 "nbformat_minor": 4
}
