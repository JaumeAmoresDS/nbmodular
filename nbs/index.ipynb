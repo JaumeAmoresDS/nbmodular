{
 "cells": [
  {
   "cell_type": "markdown",
   "metadata": {},
   "source": [
    "# nbmodular\n",
    "\n",
    "> Convert notebooks to modular code."
   ]
  },
  {
   "cell_type": "markdown",
   "metadata": {},
   "source": [
    "Convert data scientist notebooks with poor modularity to fully modular notebooks and / or python modules."
   ]
  },
  {
   "cell_type": "markdown",
   "metadata": {},
   "source": [
    "## Roadmap"
   ]
  },
  {
   "cell_type": "markdown",
   "metadata": {},
   "source": [
    "- [ ] Convert cell code into functions:\n",
    "    - [x] Inputs are those variables detected in current cell and also detected in previous cells. This solution requires that created variables have unique names across the notebook. However, even if a new variable with the same name is defined inside the cell, the resulting function is still correct.\n",
    "    - Outputs are, at this moment, all the variables detected in current cell that are also detected in posterior cells. \n",
    "    \n",
    "- Filter out outputs:\n",
    "    - Variables detected in current cell, and also detected in previous cells, might not be needed as outputs of the current cell, if the current cell doesn't modify those variables. To detect potential modifications:\n",
    "        - AST: \n",
    "            - If variable appears only on the right of assign statements or in if statements.\n",
    "            - If it appears only as argument of functions which we know don't modify the variable, such as `print`.\n",
    "        - Comparing variable values before and after cell:\n",
    "            - Good for small variables where doing a deep copy is not computationally expensive.\n",
    "        - Using type checker:\n",
    "            - Making the variable `Final` and using mypy or other type checker to see if it is modified in the code.\n",
    "    - Provide hints:\n",
    "        - Variables that come from other cells might not be needed as output. The remaining are most probably needed.\n",
    "        - Variables that are modified are clearly needed."
   ]
  },
  {
   "cell_type": "markdown",
   "metadata": {},
   "source": [
    "## Install"
   ]
  },
  {
   "cell_type": "markdown",
   "metadata": {},
   "source": [
    "```sh\n",
    "pip install nbmodular\n",
    "```"
   ]
  }
 ],
 "metadata": {
  "kernelspec": {
   "display_name": "python3",
   "language": "python",
   "name": "python3"
  }
 },
 "nbformat": 4,
 "nbformat_minor": 4
}
