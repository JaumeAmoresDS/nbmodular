{
 "cells": [
  {
   "cell_type": "markdown",
   "metadata": {},
   "source": [
    "# nbmodular\n",
    "\n",
    "> Convert notebooks to modular code."
   ]
  },
  {
   "cell_type": "markdown",
   "metadata": {},
   "source": [
    "Convert data science notebooks with poor modularity to fully modular notebooks that are automatically exported as python modules."
   ]
  },
  {
   "cell_type": "markdown",
   "metadata": {},
   "source": [
    "## Motivation"
   ]
  },
  {
   "cell_type": "markdown",
   "metadata": {},
   "source": [
    "In data science, it is usual to develop experimentally and quickly based on notebooks, with little regard to software engineering practices and modularity. It can become challenging to start working on someone else's notebooks with no modularity in terms of separate functions, and a great degree of duplicated code between the different notebooks. This makes it difficult to understand the logic in terms of semantically separate units, see what are the commonalities and differences between the notebooks, and be able to extend, generalize, and configure the current solution."
   ]
  },
  {
   "cell_type": "markdown",
   "metadata": {},
   "source": [
    "## Objectives\n",
    "\n",
    "`nbmodular` is a library conceived with the objective of helping converting the cells of a notebook into separate functions with clear dependencies in terms of inputs and outputs. This is done though a combination of tools which semi-automatically understand the data-flow in the code, based on mild assumptions about its structure. It also helps test the current logic and compare it against a modularized solution, to make sure that the refactored code is equivalent to the original one. "
   ]
  },
  {
   "cell_type": "markdown",
   "metadata": {},
   "source": [
    "## Features\n",
    "\n",
    "- [x] Convert cells to functions.\n",
    "- [x] The logic of a single function can be written across multiple cells.\n",
    "- [x] Functions can be either regular functions or unit test functions.\n",
    "- [x] Functions and tests are exported to separate python modules. \n",
    "- [ ] TODO: use nbdev to sync the exported python module with the notebook code, so that changes to the module are reflected back in the notebook.\n",
    "- [x] Processed cells can continue to operate as cells or be only used as functions.\n",
    "- [x] A pipeline function is automatically created and updated. This pipeline provides the data-flow from the first to the last function call in the notebook.\n",
    "- [x] Functions act as nodes in a dependency graph. These nodes can optionally hold the values of local variables for inspection outside of the function. This is similar to having a single global scope, which is the original situation. Since this is memory-consuming, storing local variables is optional.\n",
    "- [x] Local variables are persisted in disk, so that we may decide to reuse previous results without running the whole notebook. \n",
    "- [ ] TODO: Once we are able to construct a graph, we may be able to draw it or show it in text, and pass it to ADG processors that can run functions sequentially or in parallel.\n",
    "- [ ] TODO: if we have the dependency graph and persisted inputs / outputs, we may decide to only run those cells that are predecessors of the current one, i.e., the ones that provide the inputs needed by the current cell. \n",
    "- [ ] TODO: if we associate a hash code to input data, we may only run the cells when the input data changes. Similarly, if we associate a hash code with AST-converted function code, we may only run those cells whose code has been updated. \n",
    "- [ ] TODO:  the output of a test cell can be used for assertions, where we require that the current output is the same as the original one.\n",
    "- [ ] TODO: Compare the result of the pipeline with the result of running the original notebook.\n",
    "- [ ] TODO: Currently, AST processing is used for assessing whether variables are modified in the cell or are just read. This just gives an estimate. We may want to compare the values of existing variables before and after running the code in the cell. We may also use a type checker such as mypy to assess whether a variable is immutable in the cell (e.g., mark the variable as Final and see if mypy complaints)\n",
    "- [ ] TODO: have indicated test be used as examples in docstrings. Have optional flag indicate that the next cell's output should be converted to text and included as example output in the docstring.\n",
    "- [ ] TODO: have the possibility of writing the tests in the same module as the functions, where each test goes after the function that is testing. This can help as a form of documentation for the function, especially if the test code is not included in the function's docstring."
   ]
  },
  {
   "cell_type": "markdown",
   "metadata": {},
   "source": [
    "## Install"
   ]
  },
  {
   "cell_type": "markdown",
   "metadata": {},
   "source": [
    "```sh\n",
    "pip install nbmodular\n",
    "```"
   ]
  },
  {
   "cell_type": "markdown",
   "metadata": {},
   "source": [
    "## Usage"
   ]
  },
  {
   "cell_type": "markdown",
   "metadata": {},
   "source": [
    "Load ipython extension"
   ]
  },
  {
   "cell_type": "code",
   "execution_count": 1,
   "metadata": {},
   "outputs": [
    {
     "name": "stderr",
     "output_type": "stream",
     "text": [
      "/home/jaumeamllo/workspace/mine/nbmodular/nbmodular/core/cell2func.py:838: UserWarning: Name of notebook could not be automatically detected. We will be using `temporary.py` as the name of the python module where the code from the current notebook will be exported to. In order to change this name, run the magic command %set file_name \"<name_of_python_module>.py\".\n",
      "  warnings.warn (warning_message)\n"
     ]
    }
   ],
   "source": [
    "%load_ext nbmodular.core.cell2func"
   ]
  },
  {
   "cell_type": "code",
   "execution_count": 2,
   "metadata": {},
   "outputs": [],
   "source": [
    "#| hide\n",
    "import os\n",
    "import shutil"
   ]
  },
  {
   "cell_type": "code",
   "execution_count": 3,
   "metadata": {},
   "outputs": [],
   "source": [
    "#| hide\n",
    "%set file_name \"index.py\""
   ]
  },
  {
   "cell_type": "markdown",
   "metadata": {},
   "source": [
    "<div style=\"background-color: rgb(250, 250, 250);\">\n",
    "```python\n",
    "%load_ext nbmodular.core.cell2func\n",
    "```\n",
    "</div>"
   ]
  },
  {
   "cell_type": "markdown",
   "metadata": {},
   "source": [
    "This allows us to use the following magic commands, among others\n",
    "\n",
    "\n",
    "- function <name_of_function_to_define>\n",
    "- print <name_of_previous_function>\n",
    "- function_info <name_of_previous_function>\n",
    "- print_pipeline"
   ]
  },
  {
   "cell_type": "markdown",
   "metadata": {},
   "source": [
    "Let's go one by one"
   ]
  },
  {
   "cell_type": "markdown",
   "metadata": {},
   "source": [
    "### function"
   ]
  },
  {
   "cell_type": "markdown",
   "metadata": {},
   "source": [
    "#### Basic usage"
   ]
  },
  {
   "cell_type": "markdown",
   "metadata": {},
   "source": [
    "The magic command `function` allows to run the code in the cell, as it would be normally done, and at the same time it performs a number of additional steps. Let's go over each one in turn through the following example:"
   ]
  },
  {
   "cell_type": "markdown",
   "metadata": {},
   "source": [
    "<div style=\"background-color: rgb(250, 250, 250);\">\n",
    "```python\n",
    "%%function two_plus_three\n",
    "a = 2\n",
    "b = 3\n",
    "c = a+b\n",
    "print (f'The result of adding {a}+{b} is {c}')\n",
    "```"
   ]
  },
  {
   "cell_type": "code",
   "execution_count": 4,
   "metadata": {},
   "outputs": [
    {
     "name": "stdout",
     "output_type": "stream",
     "text": [
      "The result of adding 2+3 is 5\n"
     ]
    }
   ],
   "source": [
    "%%function two_plus_three\n",
    "#|echo: false\n",
    "a = 2\n",
    "b = 3\n",
    "c = a+b\n",
    "print (f'The result of adding {a}+{b} is {c}')"
   ]
  },
  {
   "cell_type": "code",
   "execution_count": 5,
   "metadata": {},
   "outputs": [
    {
     "data": {
      "text/plain": [
       "(2, 3, 5)"
      ]
     },
     "execution_count": 5,
     "metadata": {},
     "output_type": "execute_result"
    }
   ],
   "source": [
    "(a, b, c)"
   ]
  },
  {
   "cell_type": "markdown",
   "metadata": {},
   "source": [
    "As we can see, the previous cell just runs as it would normally do. In addition to this, the code syntax is analyzed using an `ast`, and the result of this analysis is stored in a new object called `two_plus_three_info`. Let's look at some of the information provided by this object.\n",
    "\n",
    "First, the object stores the list of variables that were created inside this function:"
   ]
  },
  {
   "cell_type": "code",
   "execution_count": 6,
   "metadata": {},
   "outputs": [
    {
     "data": {
      "text/plain": [
       "['a', 'b', 'c']"
      ]
     },
     "execution_count": 6,
     "metadata": {},
     "output_type": "execute_result"
    }
   ],
   "source": [
    "two_plus_three_info.created_variables"
   ]
  },
  {
   "cell_type": "markdown",
   "metadata": {},
   "source": [
    "By default, this object also stores the values of those variables:"
   ]
  },
  {
   "cell_type": "code",
   "execution_count": 7,
   "metadata": {},
   "outputs": [
    {
     "data": {
      "text/plain": [
       "{'a': 2, 'b': 3, 'c': 5}"
      ]
     },
     "execution_count": 7,
     "metadata": {},
     "output_type": "execute_result"
    }
   ],
   "source": [
    "two_plus_three_info.current_values"
   ]
  },
  {
   "cell_type": "markdown",
   "metadata": {},
   "source": [
    "It stores the names of the variables used by this function and created before calling it:"
   ]
  },
  {
   "cell_type": "code",
   "execution_count": 8,
   "metadata": {},
   "outputs": [
    {
     "data": {
      "text/plain": [
       "[]"
      ]
     },
     "execution_count": 8,
     "metadata": {},
     "output_type": "execute_result"
    }
   ],
   "source": [
    "two_plus_three_info.previous_variables"
   ]
  },
  {
   "cell_type": "markdown",
   "metadata": {},
   "source": [
    "In the previous example, there are no previous variables. We will see later an example which makes use of previous variables."
   ]
  },
  {
   "cell_type": "code",
   "execution_count": 9,
   "metadata": {},
   "outputs": [],
   "source": [
    "#| hide\n",
    "assert (a, b, c) == (2, 3, 5)\n",
    "assert two_plus_three_info.created_variables==['a', 'b', 'c']\n",
    "assert two_plus_three_info.current_values=={'a': 2, 'b': 3, 'c': 5}\n",
    "assert two_plus_three_info.previous_variables==[]\n",
    "assert two_plus_three_info.arguments==[]\n",
    "assert two_plus_three_info.return_values==[]"
   ]
  },
  {
   "cell_type": "markdown",
   "metadata": {},
   "source": [
    "In addition to this, the cell magic %%function <my_function> creates a new function <my_function> which can be called normally later on. In our previous example, a function called  `two_plus_three` has been created, let's call it:"
   ]
  },
  {
   "cell_type": "code",
   "execution_count": 10,
   "metadata": {},
   "outputs": [
    {
     "name": "stdout",
     "output_type": "stream",
     "text": [
      "The result of adding 2+3 is 5\n"
     ]
    }
   ],
   "source": [
    "two_plus_three ()"
   ]
  },
  {
   "cell_type": "markdown",
   "metadata": {},
   "source": [
    "We can also print the code of that function, using the line magic %print <my_function>"
   ]
  },
  {
   "cell_type": "markdown",
   "metadata": {},
   "source": [
    "<div style=\"background-color: rgb(250, 250, 250);\">\n",
    "```python\n",
    "%print two_plus_three\n",
    "```\n",
    "</div>"
   ]
  },
  {
   "cell_type": "code",
   "execution_count": 11,
   "metadata": {},
   "outputs": [
    {
     "name": "stdout",
     "output_type": "stream",
     "text": [
      "def two_plus_three():\n",
      "    a = 2\n",
      "    b = 3\n",
      "    c = a+b\n",
      "    print (f'The result of adding {a}+{b} is {c}')\n",
      "\n"
     ]
    }
   ],
   "source": [
    "%print two_plus_three \n",
    "#| echo: false"
   ]
  },
  {
   "cell_type": "markdown",
   "metadata": {},
   "source": [
    "Using the cell magic `%%function` is handy when we want to be able to inspect the variables created in the cell. In the short future, we will allow to prevent some of the variables to persist out of the cell, to avoid memory issues. We plan to do this in two ways:\n",
    "\n",
    "- Delete the variable (`del`), with the disadvantage that we won't be able to inspect it later on.\n",
    "- Delete the variable only when a new cell magic is executed, so that we can still inspect the variables created in the last cell, and then move on to execute the next cell, at which point we remove previous variables that were memory-consuming.\n",
    "- We might as well, more in the long-term future, delete variables based on how much memory they consume, using some threshold parameter."
   ]
  },
  {
   "cell_type": "markdown",
   "metadata": {},
   "source": [
    "Let's see now an example which uses variables created elsewhere:"
   ]
  },
  {
   "cell_type": "code",
   "execution_count": 12,
   "metadata": {},
   "outputs": [],
   "source": [
    "my_previous_variable=10"
   ]
  },
  {
   "cell_type": "markdown",
   "metadata": {},
   "source": [
    "<div style=\"background-color: rgb(250, 250, 250);\">\n",
    "```python\n",
    "%%function add_100\n",
    "my_previous_variable = my_previous_variable + 100\n",
    "print (f'The result of adding 100 to my_previous_variable is {my_previous_variable}')\n",
    "```\n",
    "</div>"
   ]
  },
  {
   "cell_type": "code",
   "execution_count": 13,
   "metadata": {},
   "outputs": [
    {
     "name": "stdout",
     "output_type": "stream",
     "text": [
      "The result of adding 100 to my_previous_variable is 110\n"
     ]
    }
   ],
   "source": [
    "%%function add_100\n",
    "#|echo: false\n",
    "my_previous_variable = my_previous_variable + 100\n",
    "print (f'The result of adding 100 to my_previous_variable is {my_previous_variable}')"
   ]
  },
  {
   "cell_type": "code",
   "execution_count": 14,
   "metadata": {},
   "outputs": [
    {
     "data": {
      "text/plain": [
       "['my_previous_variable']"
      ]
     },
     "execution_count": 14,
     "metadata": {},
     "output_type": "execute_result"
    }
   ],
   "source": [
    "add_100_info.previous_variables"
   ]
  },
  {
   "cell_type": "markdown",
   "metadata": {},
   "source": [
    "`my_previous_variable` is also included in the list of `created_variables`, since a new value for this variable has been generated:"
   ]
  },
  {
   "cell_type": "code",
   "execution_count": 15,
   "metadata": {},
   "outputs": [
    {
     "data": {
      "text/plain": [
       "['my_previous_variable']"
      ]
     },
     "execution_count": 15,
     "metadata": {},
     "output_type": "execute_result"
    }
   ],
   "source": [
    "add_100_info.created_variables"
   ]
  },
  {
   "cell_type": "code",
   "execution_count": 16,
   "metadata": {},
   "outputs": [],
   "source": [
    "#| hide\n",
    "assert my_previous_variable==110\n",
    "assert add_100_info.created_variables==['my_previous_variable']\n",
    "assert add_100_info.previous_variables==['my_previous_variable']\n",
    "assert add_100_info.current_values=={'my_previous_variable': 110}\n",
    "assert add_100_info.arguments==[]\n",
    "assert add_100_info.return_values==[]"
   ]
  },
  {
   "cell_type": "code",
   "execution_count": 17,
   "metadata": {},
   "outputs": [
    {
     "name": "stdout",
     "output_type": "stream",
     "text": [
      "The result of adding 100 to my_previous_variable is 210\n"
     ]
    }
   ],
   "source": [
    "#| hide\n",
    "cell_processor = %cell_processor\n",
    "function_call = ('add_100', \"#|echo: false\\nmy_previous_variable = my_previous_variable + 100\\nprint (f'The result of adding 100 to my_previous_variable is {my_previous_variable}')\\n\")\n",
    "cell_processor.process_function_call (*function_call)\n",
    "assert add_100_info.previous_variables==['my_previous_variable']"
   ]
  },
  {
   "cell_type": "markdown",
   "metadata": {},
   "source": [
    "All the functions created so far can be printed at once using `print all`: "
   ]
  },
  {
   "cell_type": "markdown",
   "metadata": {},
   "source": [
    "<div style=\"background-color: rgb(250, 250, 250);\">\n",
    "```python\n",
    "%print all\n",
    "```\n",
    "</div>"
   ]
  },
  {
   "cell_type": "code",
   "execution_count": 18,
   "metadata": {},
   "outputs": [
    {
     "name": "stdout",
     "output_type": "stream",
     "text": [
      "def two_plus_three():\n",
      "    a = 2\n",
      "    b = 3\n",
      "    c = a+b\n",
      "    print (f'The result of adding {a}+{b} is {c}')\n",
      "\n",
      "def add_100(my_previous_variable):\n",
      "    my_previous_variable = my_previous_variable + 100\n",
      "    print (f'The result of adding 100 to my_previous_variable is {my_previous_variable}')\n",
      "\n"
     ]
    }
   ],
   "source": [
    "%print all\n",
    "#| echo: false"
   ]
  },
  {
   "cell_type": "markdown",
   "metadata": {},
   "source": [
    "And they are also written to a python module with the same name of the notebook (the current notebook being called \"index.ipynb\"):"
   ]
  },
  {
   "cell_type": "code",
   "execution_count": 19,
   "metadata": {},
   "outputs": [
    {
     "name": "stdout",
     "output_type": "stream",
     "text": [
      "#|echo: false\n",
      "import pandas as pd\n",
      "def get_my_previous_variable():\n",
      "    my_previous_variable = 100\n",
      "    return my_previous_variable\n",
      "\n",
      "def two_plus_three():\n",
      "    a = 2\n",
      "    b = 3\n",
      "    c = a+b\n",
      "    print (f'The result of adding {a}+{b} is {c}')\n",
      "    return a, b, c\n",
      "\n",
      "def add_100(my_previous_variable):\n",
      "    my_previous_variable = my_previous_variable + 100\n",
      "    print (f'The result of adding 100 to my_previous_variable is {my_previous_variable}')\n",
      "    return my_previous_variable\n",
      "\n",
      "def multiply_by_two(c):\n",
      "    d = c*2\n",
      "    print (f'Two times {c} is {d}')\n",
      "    return d\n",
      "\n",
      "def analyze(x):\n",
      "    x = [1, 2, 3]\n",
      "    y = [100, 200, 300]\n",
      "    z = [u+v for u,v in zip(x,y)]\n",
      "    product = [u*v for u, v in zip(x,y)]\n",
      "    return x, y, x, y\n",
      "\n",
      "def determine_approximate_age(name, birthday_year=2000):\n",
      "    current_year = datetime.datetime.today().year\n",
      "    approximate_age = current_year-birthday_year\n",
      "    print (f'hello {name}, your approximate age is {approximate_age}')\n",
      "    return approximate_age, current_year\n",
      "\n",
      "def use_current_year(current_year):\n",
      "    print (current_year)\n",
      "\n",
      "def myfunc(x, y, a=1, b=3):\n",
      "    print ('hello', a, b)\n",
      "    c = a+b\n",
      "    return c\n",
      "\n",
      "def other_func(a, b):\n",
      "    print ('hello', a, b)\n",
      "    c = a+b\n",
      "    return c\n",
      "\n",
      "def my_new_function():\n",
      "    my_new_local = 3\n",
      "    my_other_new_local = 4\n",
      "\n",
      "def my_second_new_function():\n",
      "    my_second_variable = 100\n",
      "    my_second_other_variable = 200\n",
      "\n",
      "def bunch_data():\n",
      "    x = Bunch (a=1, b=2)\n",
      "    return x\n",
      "\n",
      "def bunch_processor(x, day=1):\n",
      "    a = x[\"a\"]\n",
      "    b = x[\"b\"]\n",
      "    c = 3\n",
      "    a = 4\n",
      "    x[\"a\"] = a\n",
      "    x[\"c\"] = c\n",
      "    x[\"day\"] = day\n",
      "    return x\n",
      "\n",
      "def days(df, fy, x=1, y=3, n=4):\n",
      "    df_group = df.groupby(['Year','Month']).agg({'Day': lambda x: len (x)})\n",
      "    df_group = df.reset_index()\n",
      "    print ('other args: fy', fy, 'x', x, 'y', y)\n",
      "    return df_group, x\n",
      "\n",
      "def multiples(x, n):\n",
      "    result = [x*i for i in range(n)]\n",
      "    return result\n",
      "\n",
      "def say_hi():\n",
      "    print ('hi')\n",
      "\n",
      "# -----------------------------------------------------\n",
      "# pipeline\n",
      "# -----------------------------------------------------\n",
      "def index_pipeline (test=False, load=True, save=True, result_file_name=\"index_pipeline\"):\n",
      "    \"\"\"Pipeline calling each one of the functions defined in this module.\"\"\"\n",
      "    \n",
      "    # load result\n",
      "    result_file_name += '.pk'\n",
      "    path_variables = Path (\"index\") / result_file_name\n",
      "    if load and path_variables.exists():\n",
      "        result = joblib.load (path_variables)\n",
      "        return result\n",
      "\n",
      "    my_previous_variable = get_my_previous_variable ()\n",
      "    a, b, c = two_plus_three ()\n",
      "    my_previous_variable = add_100 (my_previous_variable)\n",
      "    d = multiply_by_two (c)\n",
      "    x, y, x, y = analyze (x)\n",
      "    approximate_age, current_year = determine_approximate_age (name)\n",
      "    use_current_year (current_year)\n",
      "    c = myfunc (x, y)\n",
      "    c = other_func (a, b)\n",
      "    my_new_function ()\n",
      "    my_second_new_function ()\n",
      "    x = bunch_data ()\n",
      "    x = bunch_processor (x)\n",
      "    df_group, x = days (df, fy)\n",
      "    result = multiples (x, n)\n",
      "    say_hi ()\n",
      "\n",
      "    # save result\n",
      "    result = Bunch (x=x,my_previous_variable=my_previous_variable,a=a,b=b,approximate_age=approximate_age,d=d,y=y,df_group=df_group,result=result,c=c,current_year=current_year)\n",
      "    if save:    \n",
      "        path_variables.parent.mkdir (parents=True, exist_ok=True)\n",
      "        joblib.dump (result, path_variables)\n",
      "    return result\n",
      "\n"
     ]
    }
   ],
   "source": [
    "!cat ../nbmodular/index.py"
   ]
  },
  {
   "cell_type": "code",
   "execution_count": 20,
   "metadata": {},
   "outputs": [
    {
     "name": "stdout",
     "output_type": "stream",
     "text": [
      "7\n",
      "7\n"
     ]
    }
   ],
   "source": [
    "#| hide\n",
    "cell_processor = %cell_processor\n",
    "function_call = ('hybrid', 'x = 3\\nx = x + 4\\nprint (x)\\n')\n",
    "cell_processor.process_function_call (*function_call)\n",
    "cell_processor.process_function_call (*function_call)\n",
    "assert hybrid_info.arguments==[]\n",
    "assert hybrid_info.previous_variables==[]"
   ]
  },
  {
   "cell_type": "code",
   "execution_count": 21,
   "metadata": {},
   "outputs": [],
   "source": [
    "#|hide\n",
    "%delete_function hybrid"
   ]
  },
  {
   "cell_type": "markdown",
   "metadata": {},
   "source": [
    "#### Dynamic outputs"
   ]
  },
  {
   "cell_type": "markdown",
   "metadata": {},
   "source": [
    "So far, none of the created functions return any result. This is because there is no other function that needs any of the variables created inside neither `two_plus_three` nor `add_100`. Let's see what happens when we add a new function that requires the variable `c`, which was created in `two_plus_three`:"
   ]
  },
  {
   "cell_type": "markdown",
   "metadata": {},
   "source": [
    "<div style=\"background-color: rgb(250, 250, 250);\">\n",
    "```python\n",
    "%%function multiply_by_two\n",
    "#|echo: false\n",
    "d = c*2\n",
    "print (f'Two times {c} is {d}')\n",
    "```"
   ]
  },
  {
   "cell_type": "code",
   "execution_count": 22,
   "metadata": {},
   "outputs": [
    {
     "name": "stdout",
     "output_type": "stream",
     "text": [
      "Two times 5 is 10\n"
     ]
    }
   ],
   "source": [
    "%%function multiply_by_two\n",
    "#|echo: false\n",
    "d = c*2\n",
    "print (f'Two times {c} is {d}')"
   ]
  },
  {
   "cell_type": "code",
   "execution_count": 23,
   "metadata": {},
   "outputs": [
    {
     "name": "stdout",
     "output_type": "stream",
     "text": [
      "The result of adding 2+3 is 5\n",
      "Two times 5 is 10\n"
     ]
    }
   ],
   "source": [
    "#| hide\n",
    "c = two_plus_three()\n",
    "multiply_by_two (c)\n",
    "multiply_by_two_info = %function_info multiply_by_two\n",
    "assert multiply_by_two_info.d == 10"
   ]
  },
  {
   "cell_type": "markdown",
   "metadata": {},
   "source": [
    "Our new function makes use of the result computed in `two_plus_three`, so we need that function to return this result. This is done automatically, and the function `two_plus_three` updated:"
   ]
  },
  {
   "cell_type": "markdown",
   "metadata": {},
   "source": [
    "<div style=\"background-color: rgb(250, 250, 250);\">\n",
    "```python\n",
    "%print two_plus_three\n",
    "```"
   ]
  },
  {
   "cell_type": "code",
   "execution_count": 24,
   "metadata": {},
   "outputs": [
    {
     "name": "stdout",
     "output_type": "stream",
     "text": [
      "def two_plus_three():\n",
      "    a = 2\n",
      "    b = 3\n",
      "    c = a+b\n",
      "    print (f'The result of adding {a}+{b} is {c}')\n",
      "    return c\n",
      "\n"
     ]
    }
   ],
   "source": [
    "%print two_plus_three\n",
    "#|echo: false"
   ]
  },
  {
   "cell_type": "markdown",
   "metadata": {},
   "source": [
    "We can see that `two_plus_three` now returns `c`. We can call it with the updated signature:"
   ]
  },
  {
   "cell_type": "code",
   "execution_count": 25,
   "metadata": {},
   "outputs": [
    {
     "name": "stdout",
     "output_type": "stream",
     "text": [
      "The result of adding 2+3 is 5\n"
     ]
    },
    {
     "data": {
      "text/plain": [
       "5"
      ]
     },
     "execution_count": 25,
     "metadata": {},
     "output_type": "execute_result"
    }
   ],
   "source": [
    "my_new_c = two_plus_three ()\n",
    "my_new_c"
   ]
  },
  {
   "cell_type": "markdown",
   "metadata": {},
   "source": [
    "#### Indicating function position"
   ]
  },
  {
   "cell_type": "markdown",
   "metadata": {},
   "source": [
    "When adding a new function, we can indicate in which position of the pipeline we want it to be added. By default, it is added at the end. To indicate the position, simply pass --position to the magic cell"
   ]
  },
  {
   "cell_type": "markdown",
   "metadata": {},
   "source": [
    "```ipython\n",
    "%%function my_function_in_pos_2 --position 2\n",
    "<my code...>\n",
    "```"
   ]
  },
  {
   "cell_type": "markdown",
   "metadata": {},
   "source": [
    "Section `print_pipeline` below includes an example of this."
   ]
  },
  {
   "cell_type": "markdown",
   "metadata": {},
   "source": [
    "### print"
   ]
  },
  {
   "cell_type": "markdown",
   "metadata": {},
   "source": [
    "We can see each of the defined functions with `print my_function`:"
   ]
  },
  {
   "cell_type": "markdown",
   "metadata": {},
   "source": [
    "<div style=\"background-color: rgb(250, 250, 250);\">\n",
    "```python\n",
    "%print multiply_by_two\n",
    "```"
   ]
  },
  {
   "cell_type": "code",
   "execution_count": 26,
   "metadata": {},
   "outputs": [
    {
     "name": "stdout",
     "output_type": "stream",
     "text": [
      "def multiply_by_two(c):\n",
      "    d = c*2\n",
      "    print (f'Two times {c} is {d}')\n",
      "\n"
     ]
    }
   ],
   "source": [
    "%print multiply_by_two\n",
    "#|echo: false"
   ]
  },
  {
   "cell_type": "markdown",
   "metadata": {},
   "source": [
    "We can print all the functions defined so far with `%%function` using `print all`"
   ]
  },
  {
   "cell_type": "markdown",
   "metadata": {},
   "source": [
    "<div style=\"background-color: rgb(250, 250, 250);\">\n",
    "```python\n",
    "%print all\n",
    "```"
   ]
  },
  {
   "cell_type": "code",
   "execution_count": 27,
   "metadata": {},
   "outputs": [
    {
     "name": "stdout",
     "output_type": "stream",
     "text": [
      "def two_plus_three():\n",
      "    a = 2\n",
      "    b = 3\n",
      "    c = a+b\n",
      "    print (f'The result of adding {a}+{b} is {c}')\n",
      "    return c\n",
      "\n",
      "def add_100(my_previous_variable):\n",
      "    my_previous_variable = my_previous_variable + 100\n",
      "    print (f'The result of adding 100 to my_previous_variable is {my_previous_variable}')\n",
      "\n",
      "def multiply_by_two(c):\n",
      "    d = c*2\n",
      "    print (f'Two times {c} is {d}')\n",
      "\n"
     ]
    }
   ],
   "source": [
    "%print all\n",
    "#|echo: false"
   ]
  },
  {
   "cell_type": "markdown",
   "metadata": {},
   "source": [
    "### print_pipeline"
   ]
  },
  {
   "cell_type": "markdown",
   "metadata": {},
   "source": [
    "As we add functions to the notebook, a pipeline function is defined. We can print this pipeline with the magic `print_pipeline`"
   ]
  },
  {
   "cell_type": "markdown",
   "metadata": {},
   "source": [
    "<div style=\"background-color: rgb(250, 250, 250);\">\n",
    "```python\n",
    "%print_pipeline\n",
    "```"
   ]
  },
  {
   "cell_type": "code",
   "execution_count": 28,
   "metadata": {},
   "outputs": [
    {
     "name": "stdout",
     "output_type": "stream",
     "text": [
      "# -----------------------------------------------------\n",
      "# pipeline\n",
      "# -----------------------------------------------------\n",
      "def index_pipeline (test=False, load=True, save=True, result_file_name=\"index_pipeline\"):\n",
      "    \"\"\"Pipeline calling each one of the functions defined in this module.\"\"\"\n",
      "    \n",
      "    # load result\n",
      "    result_file_name += '.pk'\n",
      "    path_variables = Path (\"index\") / result_file_name\n",
      "    if load and path_variables.exists():\n",
      "        result = joblib.load (path_variables)\n",
      "        return result\n",
      "\n",
      "    c = two_plus_three ()\n",
      "    add_100 (my_previous_variable)\n",
      "    multiply_by_two (c)\n",
      "\n",
      "    # save result\n",
      "    result = Bunch (c=c)\n",
      "    if save:    \n",
      "        path_variables.parent.mkdir (parents=True, exist_ok=True)\n",
      "        joblib.dump (result, path_variables)\n",
      "    return result\n",
      "\n"
     ]
    }
   ],
   "source": [
    "%print_pipeline\n",
    "#|echo: false"
   ]
  },
  {
   "cell_type": "markdown",
   "metadata": {},
   "source": [
    "As we can see, the first and last parts of the pipeline function are dedicated to loading previously stored results, if the pipeline was run before, and saving the results of this execution. The central part calls the functions defined so far, using proper inputs and outputs. Having a pipeline function implemented for us is handy to see the data-flow (in terms of inputs and outputs) from the first function call to the last one."
   ]
  },
  {
   "cell_type": "markdown",
   "metadata": {},
   "source": [
    "One detail that we can see in the previous pipeline is that the variable `my_previous_variable` has not been defined before being used. However, if we try to call the pipeline function, it will not fail. This is because `my_previous_variable` exists in the global scope, and it is therefore treated as a global variable. If we want to make sure that all variables are local, we can do:"
   ]
  },
  {
   "cell_type": "code",
   "execution_count": 29,
   "metadata": {},
   "outputs": [
    {
     "name": "stdout",
     "output_type": "stream",
     "text": [
      "The result of adding 2+3 is 5\n",
      "The result of adding 100 to my_previous_variable is 310\n",
      "Two times 5 is 10\n"
     ]
    }
   ],
   "source": [
    "#| hide\n",
    "raised_exception=False\n",
    "try:\n",
    "    index_pipeline()\n",
    "except Exception as e:\n",
    "    print (f'could not run pipeline: {e}')\n",
    "    raised_exception=True\n",
    "assert not raised_exception\n",
    "os.remove ('index/index_pipeline.pk')"
   ]
  },
  {
   "cell_type": "markdown",
   "metadata": {},
   "source": [
    "<div style=\"background-color: rgb(250, 250, 250);\">\n",
    "```python\n",
    "%delete_globals\n",
    "```"
   ]
  },
  {
   "cell_type": "code",
   "execution_count": 30,
   "metadata": {},
   "outputs": [],
   "source": [
    "%delete_globals\n",
    "#| echo: false"
   ]
  },
  {
   "cell_type": "code",
   "execution_count": 31,
   "metadata": {},
   "outputs": [
    {
     "name": "stdout",
     "output_type": "stream",
     "text": [
      "The result of adding 2+3 is 5\n",
      "could not run pipeline: name 'my_previous_variable' is not defined\n"
     ]
    }
   ],
   "source": [
    "raised_exception=False\n",
    "try:\n",
    "    index_pipeline()\n",
    "except Exception as e:\n",
    "    print (f'could not run pipeline: {e}')\n",
    "    raised_exception=True\n",
    "assert raised_exception"
   ]
  },
  {
   "cell_type": "markdown",
   "metadata": {},
   "source": [
    "We can then add a new function that will provide a value for `my_previous_variable`:"
   ]
  },
  {
   "cell_type": "markdown",
   "metadata": {},
   "source": [
    "<div style=\"background-color: rgb(250, 250, 250);\">\n",
    "```python\n",
    "%%function get_my_previous_variable --position 0\n",
    "my_previous_variable = 100\n",
    "```"
   ]
  },
  {
   "cell_type": "code",
   "execution_count": 32,
   "metadata": {},
   "outputs": [],
   "source": [
    "%%function get_my_previous_variable --position 0\n",
    "#| echo: false\n",
    "my_previous_variable = 100"
   ]
  },
  {
   "cell_type": "markdown",
   "metadata": {},
   "source": [
    "<div style=\"background-color: rgb(250, 250, 250);\">\n",
    "```python\n",
    "%print_pipeline\n",
    "```"
   ]
  },
  {
   "cell_type": "code",
   "execution_count": 33,
   "metadata": {},
   "outputs": [
    {
     "name": "stdout",
     "output_type": "stream",
     "text": [
      "# -----------------------------------------------------\n",
      "# pipeline\n",
      "# -----------------------------------------------------\n",
      "def index_pipeline (test=False, load=True, save=True, result_file_name=\"index_pipeline\"):\n",
      "    \"\"\"Pipeline calling each one of the functions defined in this module.\"\"\"\n",
      "    \n",
      "    # load result\n",
      "    result_file_name += '.pk'\n",
      "    path_variables = Path (\"index\") / result_file_name\n",
      "    if load and path_variables.exists():\n",
      "        result = joblib.load (path_variables)\n",
      "        return result\n",
      "\n",
      "    my_previous_variable = get_my_previous_variable ()\n",
      "    c = two_plus_three ()\n",
      "    add_100 (my_previous_variable)\n",
      "    multiply_by_two (c)\n",
      "\n",
      "    # save result\n",
      "    result = Bunch (c=c,my_previous_variable=my_previous_variable)\n",
      "    if save:    \n",
      "        path_variables.parent.mkdir (parents=True, exist_ok=True)\n",
      "        joblib.dump (result, path_variables)\n",
      "    return result\n",
      "\n"
     ]
    }
   ],
   "source": [
    "%print_pipeline\n",
    "#| echo: false"
   ]
  },
  {
   "cell_type": "markdown",
   "metadata": {},
   "source": [
    "Now we can call the pipeline without issues"
   ]
  },
  {
   "cell_type": "code",
   "execution_count": 34,
   "metadata": {},
   "outputs": [
    {
     "name": "stdout",
     "output_type": "stream",
     "text": [
      "The result of adding 2+3 is 5\n",
      "The result of adding 100 to my_previous_variable is 200\n",
      "Two times 5 is 10\n"
     ]
    },
    {
     "data": {
      "text/plain": [
       "{'c': 5, 'my_previous_variable': 100}"
      ]
     },
     "execution_count": 34,
     "metadata": {},
     "output_type": "execute_result"
    }
   ],
   "source": [
    "index_pipeline()"
   ]
  },
  {
   "cell_type": "code",
   "execution_count": 35,
   "metadata": {},
   "outputs": [
    {
     "name": "stdout",
     "output_type": "stream",
     "text": [
      "The result of adding 2+3 is 5\n",
      "The result of adding 100 to my_previous_variable is 200\n",
      "Two times 5 is 10\n"
     ]
    }
   ],
   "source": [
    "#| hide\n",
    "os.remove ('index/index_pipeline.pk')\n",
    "raised_exception=False\n",
    "try:\n",
    "    index_pipeline()\n",
    "except Exception as e:\n",
    "    print (f'could not run pipeline: {e}')\n",
    "    raised_exception=True\n",
    "assert not raised_exception\n",
    "os.remove ('index/index_pipeline.pk')"
   ]
  },
  {
   "cell_type": "markdown",
   "metadata": {},
   "source": [
    "We can see that the returned value for `my_previous_variable` is the original value, since this value was not returned by `add_100`. If we want this function to return that variable, we need to either create another function that makes use of that value, or explictly indicate that we want `add_100` to return that variable, as follows:"
   ]
  },
  {
   "cell_type": "markdown",
   "metadata": {},
   "source": [
    "<div style=\"background-color: rgb(250, 250, 250);\">\n",
    "```python\n",
    "%%function add_100 --include-output my_previous_variable\n",
    "my_previous_variable = my_previous_variable + 100\n",
    "print (f'The result of adding 100 to my_previous_variable is {my_previous_variable}')\n",
    "```"
   ]
  },
  {
   "cell_type": "code",
   "execution_count": 36,
   "metadata": {},
   "outputs": [
    {
     "name": "stdout",
     "output_type": "stream",
     "text": [
      "The result of adding 100 to my_previous_variable is 200\n"
     ]
    }
   ],
   "source": [
    "%%function add_100 --include-output my_previous_variable\n",
    "#| echo: false\n",
    "my_previous_variable = my_previous_variable + 100\n",
    "print (f'The result of adding 100 to my_previous_variable is {my_previous_variable}')"
   ]
  },
  {
   "cell_type": "markdown",
   "metadata": {},
   "source": [
    "We can see that `my_previous_variable` was added in the output:"
   ]
  },
  {
   "cell_type": "markdown",
   "metadata": {},
   "source": [
    "<div style=\"background-color: rgb(250, 250, 250);\">\n",
    "```python\n",
    "%print add_100\n",
    "```"
   ]
  },
  {
   "cell_type": "code",
   "execution_count": 37,
   "metadata": {},
   "outputs": [
    {
     "name": "stdout",
     "output_type": "stream",
     "text": [
      "def add_100(my_previous_variable):\n",
      "    my_previous_variable = my_previous_variable + 100\n",
      "    print (f'The result of adding 100 to my_previous_variable is {my_previous_variable}')\n",
      "    return my_previous_variable\n",
      "\n"
     ]
    }
   ],
   "source": [
    "%print add_100"
   ]
  },
  {
   "cell_type": "markdown",
   "metadata": {},
   "source": [
    "now we can call the function and obtain the output we indicated:"
   ]
  },
  {
   "cell_type": "code",
   "execution_count": 38,
   "metadata": {},
   "outputs": [
    {
     "name": "stdout",
     "output_type": "stream",
     "text": [
      "The result of adding 100 to my_previous_variable is 150\n"
     ]
    },
    {
     "data": {
      "text/plain": [
       "True"
      ]
     },
     "execution_count": 38,
     "metadata": {},
     "output_type": "execute_result"
    }
   ],
   "source": [
    "add_100(50)==150"
   ]
  },
  {
   "cell_type": "code",
   "execution_count": 39,
   "metadata": {},
   "outputs": [
    {
     "name": "stdout",
     "output_type": "stream",
     "text": [
      "The result of adding 100 to my_previous_variable is 150\n"
     ]
    }
   ],
   "source": [
    "#|hide\n",
    "assert add_100(50)==150"
   ]
  },
  {
   "cell_type": "markdown",
   "metadata": {},
   "source": [
    "Another possibility is to modify the signature of a previously defined function using the magic line `add_to_signature`. Let's do that with `multiply_by_two`. As we can see in the code above, this function doesn't output anything at the moment."
   ]
  },
  {
   "cell_type": "markdown",
   "metadata": {},
   "source": [
    "<div style=\"background-color: rgb(250, 250, 250);\">\n",
    "```python\n",
    "%print multiply_by_two\n",
    "```"
   ]
  },
  {
   "cell_type": "code",
   "execution_count": 40,
   "metadata": {},
   "outputs": [
    {
     "name": "stdout",
     "output_type": "stream",
     "text": [
      "def multiply_by_two(c):\n",
      "    d = c*2\n",
      "    print (f'Two times {c} is {d}')\n",
      "\n"
     ]
    }
   ],
   "source": [
    "%print multiply_by_two\n",
    "#| echo: false"
   ]
  },
  {
   "cell_type": "markdown",
   "metadata": {},
   "source": [
    "Let's call `add_to_signature` on it:"
   ]
  },
  {
   "cell_type": "markdown",
   "metadata": {},
   "source": [
    "<div style=\"background-color: rgb(250, 250, 250);\">\n",
    "```python\n",
    "%add_to_signature multiply_by_two --output d\n",
    "```"
   ]
  },
  {
   "cell_type": "code",
   "execution_count": 41,
   "metadata": {},
   "outputs": [],
   "source": [
    "%add_to_signature multiply_by_two --output d\n",
    "#| echo: false"
   ]
  },
  {
   "cell_type": "markdown",
   "metadata": {},
   "source": [
    "and check the result:"
   ]
  },
  {
   "cell_type": "markdown",
   "metadata": {},
   "source": [
    "<div style=\"background-color: rgb(250, 250, 250);\">\n",
    "```python\n",
    "%print multiply_by_two\n",
    "```"
   ]
  },
  {
   "cell_type": "code",
   "execution_count": 42,
   "metadata": {},
   "outputs": [
    {
     "name": "stdout",
     "output_type": "stream",
     "text": [
      "def multiply_by_two(c):\n",
      "    d = c*2\n",
      "    print (f'Two times {c} is {d}')\n",
      "    return d\n",
      "\n"
     ]
    }
   ],
   "source": [
    "%print multiply_by_two\n",
    "#| echo: false"
   ]
  },
  {
   "cell_type": "code",
   "execution_count": 43,
   "metadata": {},
   "outputs": [
    {
     "name": "stdout",
     "output_type": "stream",
     "text": [
      "Two times 150 is 300\n"
     ]
    },
    {
     "data": {
      "text/plain": [
       "300"
      ]
     },
     "execution_count": 43,
     "metadata": {},
     "output_type": "execute_result"
    }
   ],
   "source": [
    "multiply_by_two (150)"
   ]
  },
  {
   "cell_type": "code",
   "execution_count": 44,
   "metadata": {},
   "outputs": [
    {
     "name": "stdout",
     "output_type": "stream",
     "text": [
      "Two times 150 is 300\n"
     ]
    }
   ],
   "source": [
    "#|hide\n",
    "assert multiply_by_two(150)==300"
   ]
  },
  {
   "cell_type": "markdown",
   "metadata": {},
   "source": [
    "The pipeline is updated with these changes:"
   ]
  },
  {
   "cell_type": "markdown",
   "metadata": {},
   "source": [
    "<div style=\"background-color: rgb(250, 250, 250);\">\n",
    "```python\n",
    "%print_pipeline\n",
    "```"
   ]
  },
  {
   "cell_type": "code",
   "execution_count": 45,
   "metadata": {},
   "outputs": [
    {
     "name": "stdout",
     "output_type": "stream",
     "text": [
      "# -----------------------------------------------------\n",
      "# pipeline\n",
      "# -----------------------------------------------------\n",
      "def index_pipeline (test=False, load=True, save=True, result_file_name=\"index_pipeline\"):\n",
      "    \"\"\"Pipeline calling each one of the functions defined in this module.\"\"\"\n",
      "    \n",
      "    # load result\n",
      "    result_file_name += '.pk'\n",
      "    path_variables = Path (\"index\") / result_file_name\n",
      "    if load and path_variables.exists():\n",
      "        result = joblib.load (path_variables)\n",
      "        return result\n",
      "\n",
      "    my_previous_variable = get_my_previous_variable ()\n",
      "    c = two_plus_three ()\n",
      "    my_previous_variable = add_100 (my_previous_variable)\n",
      "    d = multiply_by_two (c)\n",
      "\n",
      "    # save result\n",
      "    result = Bunch (c=c,my_previous_variable=my_previous_variable,d=d)\n",
      "    if save:    \n",
      "        path_variables.parent.mkdir (parents=True, exist_ok=True)\n",
      "        joblib.dump (result, path_variables)\n",
      "    return result\n",
      "\n"
     ]
    }
   ],
   "source": [
    "%print_pipeline\n",
    "#| echo: false"
   ]
  },
  {
   "cell_type": "markdown",
   "metadata": {},
   "source": [
    "Let's check the result of calling the new pipeline:"
   ]
  },
  {
   "cell_type": "code",
   "execution_count": 46,
   "metadata": {},
   "outputs": [
    {
     "name": "stdout",
     "output_type": "stream",
     "text": [
      "The result of adding 2+3 is 5\n",
      "The result of adding 100 to my_previous_variable is 200\n",
      "Two times 5 is 10\n"
     ]
    }
   ],
   "source": [
    "#| hide\n",
    "raised_exception=False\n",
    "try:\n",
    "    index_pipeline()\n",
    "except Exception as e:\n",
    "    print (f'could not run pipeline: {e}')\n",
    "    raised_exception=True\n",
    "assert not raised_exception\n",
    "os.remove ('index/index_pipeline.pk')"
   ]
  },
  {
   "cell_type": "code",
   "execution_count": 47,
   "metadata": {},
   "outputs": [
    {
     "data": {
      "text/plain": [
       "[('two_plus_three',\n",
       "  \"#|echo: false\\na = 2\\nb = 3\\nc = a+b\\nprint (f'The result of adding {a}+{b} is {c}')\\n\"),\n",
       " ('add_100',\n",
       "  \"#|echo: false\\nmy_previous_variable = my_previous_variable + 100\\nprint (f'The result of adding 100 to my_previous_variable is {my_previous_variable}')\\n\"),\n",
       " ('add_100',\n",
       "  \"#|echo: false\\nmy_previous_variable = my_previous_variable + 100\\nprint (f'The result of adding 100 to my_previous_variable is {my_previous_variable}')\\n\"),\n",
       " ('hybrid', 'x = 3\\nx = x + 4\\nprint (x)\\n'),\n",
       " ('hybrid', 'x = 3\\nx = x + 4\\nprint (x)\\n'),\n",
       " ('multiply_by_two',\n",
       "  \"#|echo: false\\nd = c*2\\nprint (f'Two times {c} is {d}')\\n\"),\n",
       " ('get_my_previous_variable --position 0',\n",
       "  '#| echo: false\\nmy_previous_variable = 100\\n'),\n",
       " ('add_100 --include-output my_previous_variable',\n",
       "  \"#| echo: false\\nmy_previous_variable = my_previous_variable + 100\\nprint (f'The result of adding 100 to my_previous_variable is {my_previous_variable}')\\n\")]"
      ]
     },
     "execution_count": 47,
     "metadata": {},
     "output_type": "execute_result"
    }
   ],
   "source": [
    "cell_processor.call_history"
   ]
  },
  {
   "cell_type": "markdown",
   "metadata": {},
   "source": [
    "### function_info"
   ]
  },
  {
   "cell_type": "markdown",
   "metadata": {},
   "source": [
    "We can get access to many of the details of each of the defined functions by calling `function_info` on a given function name:"
   ]
  },
  {
   "cell_type": "markdown",
   "metadata": {},
   "source": [
    "<div style=\"background-color: rgb(250, 250, 250);\">\n",
    "```python\n",
    "two_plus_three_info = %function_info two_plus_three\n",
    "```"
   ]
  },
  {
   "cell_type": "code",
   "execution_count": 48,
   "metadata": {},
   "outputs": [],
   "source": [
    "two_plus_three_info = %function_info two_plus_three\n",
    "#| echo: false"
   ]
  },
  {
   "cell_type": "markdown",
   "metadata": {},
   "source": [
    "This allows us to see:\n",
    "\n",
    "- The name and value (at the time of running) of the local variables, arguments and results from the function:"
   ]
  },
  {
   "cell_type": "code",
   "execution_count": 49,
   "metadata": {},
   "outputs": [
    {
     "data": {
      "text/plain": [
       "[]"
      ]
     },
     "execution_count": 49,
     "metadata": {},
     "output_type": "execute_result"
    }
   ],
   "source": [
    "two_plus_three_info.arguments"
   ]
  },
  {
   "cell_type": "code",
   "execution_count": 50,
   "metadata": {},
   "outputs": [
    {
     "data": {
      "text/plain": [
       "{'a': 2, 'b': 3, 'c': 5}"
      ]
     },
     "execution_count": 50,
     "metadata": {},
     "output_type": "execute_result"
    }
   ],
   "source": [
    "two_plus_three_info.current_values"
   ]
  },
  {
   "cell_type": "markdown",
   "metadata": {},
   "source": [
    "The variables in current_values can be accessed directly as attributes of `two_plus_three_info`:"
   ]
  },
  {
   "cell_type": "code",
   "execution_count": 51,
   "metadata": {},
   "outputs": [
    {
     "data": {
      "text/plain": [
       "(2, 3, 5)"
      ]
     },
     "execution_count": 51,
     "metadata": {},
     "output_type": "execute_result"
    }
   ],
   "source": [
    "two_plus_three_info.a, two_plus_three_info.b, two_plus_three_info.c"
   ]
  },
  {
   "cell_type": "markdown",
   "metadata": {},
   "source": [
    "We can also see the return values of the function:"
   ]
  },
  {
   "cell_type": "code",
   "execution_count": 52,
   "metadata": {},
   "outputs": [
    {
     "data": {
      "text/plain": [
       "['c']"
      ]
     },
     "execution_count": 52,
     "metadata": {},
     "output_type": "execute_result"
    }
   ],
   "source": [
    "two_plus_three_info.return_values"
   ]
  },
  {
   "cell_type": "code",
   "execution_count": 53,
   "metadata": {},
   "outputs": [],
   "source": [
    "#|hide\n",
    "assert two_plus_three_info.arguments==[]\n",
    "assert two_plus_three_info.current_values=={'a': 2, 'b': 3, 'c': 5}\n",
    "assert two_plus_three_info.return_values==['c']\n",
    "assert (two_plus_three_info.a, two_plus_three_info.b, two_plus_three_info.c) == (2, 3, 5)"
   ]
  },
  {
   "cell_type": "markdown",
   "metadata": {},
   "source": [
    "We can inspect the original code written in the cell..."
   ]
  },
  {
   "cell_type": "code",
   "execution_count": 54,
   "metadata": {},
   "outputs": [
    {
     "name": "stdout",
     "output_type": "stream",
     "text": [
      "a = 2\n",
      "b = 3\n",
      "c = a+b\n",
      "print (f'The result of adding {a}+{b} is {c}')\n",
      "\n"
     ]
    }
   ],
   "source": [
    "print (two_plus_three_info.original_code)"
   ]
  },
  {
   "cell_type": "markdown",
   "metadata": {},
   "source": [
    "the code of the function we just created:"
   ]
  },
  {
   "cell_type": "code",
   "execution_count": 55,
   "metadata": {},
   "outputs": [
    {
     "name": "stdout",
     "output_type": "stream",
     "text": [
      "def two_plus_three():\n",
      "    a = 2\n",
      "    b = 3\n",
      "    c = a+b\n",
      "    print (f'The result of adding {a}+{b} is {c}')\n",
      "    return c\n",
      "\n"
     ]
    }
   ],
   "source": [
    "print (two_plus_three_info.code)"
   ]
  },
  {
   "cell_type": "markdown",
   "metadata": {},
   "source": [
    ".. and the AST trees:"
   ]
  },
  {
   "cell_type": "code",
   "execution_count": 56,
   "metadata": {},
   "outputs": [
    {
     "name": "stdout",
     "output_type": "stream",
     "text": [
      "Module(\n",
      "  body=[\n",
      "    Assign(\n",
      "      targets=[\n",
      "        Name(id='a', ctx=Store())],\n",
      "      value=Constant(value=2)),\n",
      "    Assign(\n",
      "      targets=[\n",
      "        Name(id='b', ctx=Store())],\n",
      "      value=Constant(value=3)),\n",
      "    Assign(\n",
      "      targets=[\n",
      "        Name(id='c', ctx=Store())],\n",
      "      value=BinOp(\n",
      "        left=Name(id='a', ctx=Load()),\n",
      "        op=Add(),\n",
      "        right=Name(id='b', ctx=Load()))),\n",
      "    Expr(\n",
      "      value=Call(\n",
      "        func=Name(id='print', ctx=Load()),\n",
      "        args=[\n",
      "          JoinedStr(\n",
      "            values=[\n",
      "              Constant(value='The result of adding '),\n",
      "              FormattedValue(\n",
      "                value=Name(id='a', ctx=Load()),\n",
      "                conversion=-1),\n",
      "              Constant(value='+'),\n",
      "              FormattedValue(\n",
      "                value=Name(id='b', ctx=Load()),\n",
      "                conversion=-1),\n",
      "              Constant(value=' is '),\n",
      "              FormattedValue(\n",
      "                value=Name(id='c', ctx=Load()),\n",
      "                conversion=-1)])],\n",
      "        keywords=[]))],\n",
      "  type_ignores=[])\n",
      "None\n"
     ]
    }
   ],
   "source": [
    "print (two_plus_three_info.get_ast (code=two_plus_three_info.original_code))"
   ]
  },
  {
   "cell_type": "code",
   "execution_count": 57,
   "metadata": {},
   "outputs": [
    {
     "name": "stdout",
     "output_type": "stream",
     "text": [
      "Module(\n",
      "  body=[\n",
      "    FunctionDef(\n",
      "      name='two_plus_three',\n",
      "      args=arguments(\n",
      "        posonlyargs=[],\n",
      "        args=[],\n",
      "        kwonlyargs=[],\n",
      "        kw_defaults=[],\n",
      "        defaults=[]),\n",
      "      body=[\n",
      "        Assign(\n",
      "          targets=[\n",
      "            Name(id='a', ctx=Store())],\n",
      "          value=Constant(value=2)),\n",
      "        Assign(\n",
      "          targets=[\n",
      "            Name(id='b', ctx=Store())],\n",
      "          value=Constant(value=3)),\n",
      "        Assign(\n",
      "          targets=[\n",
      "            Name(id='c', ctx=Store())],\n",
      "          value=BinOp(\n",
      "            left=Name(id='a', ctx=Load()),\n",
      "            op=Add(),\n",
      "            right=Name(id='b', ctx=Load()))),\n",
      "        Expr(\n",
      "          value=Call(\n",
      "            func=Name(id='print', ctx=Load()),\n",
      "            args=[\n",
      "              JoinedStr(\n",
      "                values=[\n",
      "                  Constant(value='The result of adding '),\n",
      "                  FormattedValue(\n",
      "                    value=Name(id='a', ctx=Load()),\n",
      "                    conversion=-1),\n",
      "                  Constant(value='+'),\n",
      "                  FormattedValue(\n",
      "                    value=Name(id='b', ctx=Load()),\n",
      "                    conversion=-1),\n",
      "                  Constant(value=' is '),\n",
      "                  FormattedValue(\n",
      "                    value=Name(id='c', ctx=Load()),\n",
      "                    conversion=-1)])],\n",
      "            keywords=[])),\n",
      "        Return(\n",
      "          value=Name(id='c', ctx=Load()))],\n",
      "      decorator_list=[])],\n",
      "  type_ignores=[])\n",
      "None\n"
     ]
    }
   ],
   "source": [
    "print (two_plus_three_info.get_ast (code=two_plus_three_info.code))"
   ]
  },
  {
   "cell_type": "markdown",
   "metadata": {},
   "source": [
    "### cell_processor\n",
    "\n",
    "This magic line allows us to get access to the CellProcessor object managing the logic for running the above magic commands, which can become handy:"
   ]
  },
  {
   "cell_type": "markdown",
   "metadata": {},
   "source": [
    "<div style=\"background-color: rgb(250, 250, 250);\">\n",
    "```python\n",
    "cell_processor = %cell_processor\n",
    "```"
   ]
  },
  {
   "cell_type": "code",
   "execution_count": 58,
   "metadata": {},
   "outputs": [],
   "source": [
    "cell_processor = %cell_processor\n",
    "#| echo: false"
   ]
  },
  {
   "cell_type": "markdown",
   "metadata": {},
   "source": [
    "## Merging function cells"
   ]
  },
  {
   "cell_type": "markdown",
   "metadata": {},
   "source": [
    "In order to explore intermediate results, it is convenient to split the code in a function among different cells. This can be done by passing the flag `--merge True`"
   ]
  },
  {
   "cell_type": "markdown",
   "metadata": {},
   "source": [
    "<div style=\"background-color: rgb(250, 250, 250);\">\n",
    "```python\n",
    "%%function analyze\n",
    "x = [1, 2, 3]\n",
    "y = [100, 200, 300]\n",
    "z = [u+v for u,v in zip(x,y)]\n",
    "```"
   ]
  },
  {
   "cell_type": "code",
   "execution_count": 59,
   "metadata": {},
   "outputs": [],
   "source": [
    "del x"
   ]
  },
  {
   "cell_type": "code",
   "execution_count": 60,
   "metadata": {},
   "outputs": [],
   "source": [
    "%%function analyze\n",
    "#| echo: false\n",
    "x = [1, 2, 3]\n",
    "y = [100, 200, 300]\n",
    "z = [u+v for u,v in zip(x,y)]"
   ]
  },
  {
   "cell_type": "code",
   "execution_count": 61,
   "metadata": {},
   "outputs": [
    {
     "data": {
      "text/plain": [
       "[101, 202, 303]"
      ]
     },
     "execution_count": 61,
     "metadata": {},
     "output_type": "execute_result"
    }
   ],
   "source": [
    "z"
   ]
  },
  {
   "cell_type": "code",
   "execution_count": 62,
   "metadata": {},
   "outputs": [],
   "source": [
    "#| hide\n",
    "analyze_info=%function_info analyze\n",
    "assert analyze_info.current_values=={'x': [1, 2, 3], 'y': [100, 200, 300], 'z': [101, 202, 303]}"
   ]
  },
  {
   "cell_type": "markdown",
   "metadata": {},
   "source": [
    "<div style=\"background-color: rgb(250, 250, 250);\">\n",
    "```python\n",
    "%print analyze\n",
    "```"
   ]
  },
  {
   "cell_type": "code",
   "execution_count": 63,
   "metadata": {},
   "outputs": [
    {
     "name": "stdout",
     "output_type": "stream",
     "text": [
      "def analyze():\n",
      "    x = [1, 2, 3]\n",
      "    y = [100, 200, 300]\n",
      "    z = [u+v for u,v in zip(x,y)]\n",
      "\n"
     ]
    }
   ],
   "source": [
    "%print analyze\n",
    "#| echo: false"
   ]
  },
  {
   "cell_type": "markdown",
   "metadata": {},
   "source": [
    "<div style=\"background-color: rgb(250, 250, 250);\">\n",
    "```python\n",
    "%%function analyze --merge\n",
    "product = [u*v for u, v in zip(x,y)]\n",
    "```"
   ]
  },
  {
   "cell_type": "code",
   "execution_count": 64,
   "metadata": {},
   "outputs": [],
   "source": [
    "%%function analyze --merge\n",
    "#| echo: false\n",
    "product = [u*v for u, v in zip(x,y)]"
   ]
  },
  {
   "cell_type": "code",
   "execution_count": 65,
   "metadata": {},
   "outputs": [],
   "source": [
    "#| hide\n",
    "analyze_info=%function_info analyze\n",
    "assert analyze_info.current_values=={'x': [1, 2, 3],\n",
    " 'y': [100, 200, 300],\n",
    " 'z': [101, 202, 303],\n",
    " 'product': [100, 400, 900]}"
   ]
  },
  {
   "cell_type": "markdown",
   "metadata": {},
   "source": [
    "<div style=\"background-color: rgb(250, 250, 250);\">\n",
    "```python\n",
    "%print analyze\n",
    "```"
   ]
  },
  {
   "cell_type": "code",
   "execution_count": 66,
   "metadata": {},
   "outputs": [
    {
     "name": "stdout",
     "output_type": "stream",
     "text": [
      "def analyze():\n",
      "    x = [1, 2, 3]\n",
      "    y = [100, 200, 300]\n",
      "    z = [u+v for u,v in zip(x,y)]\n",
      "    product = [u*v for u, v in zip(x,y)]\n",
      "\n"
     ]
    }
   ],
   "source": [
    "%print analyze\n",
    "#| echo: false"
   ]
  },
  {
   "cell_type": "markdown",
   "metadata": {},
   "source": [
    "# Test functions"
   ]
  },
  {
   "cell_type": "markdown",
   "metadata": {},
   "source": [
    "Test functions are implemented taking `pytest` as target test engine. \n",
    "\n",
    "By passing the flag `--test` we indicate that the logic in the cell is dedicated to test other functions in the notebook. \n",
    "\n",
    "This has the following consequences:   \n",
    "\n",
    "    - The test function is not included in the overall pipeline.\n",
    "    - It has no inputs and outputs. \n",
    "    - Required variables are obtained by calling a *data* function (see below) in the body, rather than taking those as input of the function.\n",
    "    \n",
    "Let's see an example"
   ]
  },
  {
   "cell_type": "markdown",
   "metadata": {},
   "source": [
    "<div style=\"background-color: rgb(250, 250, 250);\">\n",
    "```python\n",
    "%%function multiply_by_two --test\n",
    "assert multiply_by_two(150)==300\n",
    "```"
   ]
  },
  {
   "cell_type": "code",
   "execution_count": 67,
   "metadata": {},
   "outputs": [
    {
     "name": "stdout",
     "output_type": "stream",
     "text": [
      "Two times 150 is 300\n"
     ]
    }
   ],
   "source": [
    "%%function multiply_by_two --test\n",
    "#|echo: false\n",
    "assert multiply_by_two(150)==300"
   ]
  },
  {
   "cell_type": "markdown",
   "metadata": {},
   "source": [
    "Let's look at the code generated for this test function:"
   ]
  },
  {
   "cell_type": "markdown",
   "metadata": {},
   "source": [
    "<div style=\"background-color: rgb(250, 250, 250);\">\n",
    "```python\n",
    "%print test_multiply_by_two --test\n",
    "```"
   ]
  },
  {
   "cell_type": "code",
   "execution_count": 68,
   "metadata": {},
   "outputs": [
    {
     "name": "stdout",
     "output_type": "stream",
     "text": [
      "def test_multiply_by_two():\n",
      "    assert multiply_by_two(150)==300\n",
      "\n"
     ]
    }
   ],
   "source": [
    "%print test_multiply_by_two --test\n",
    "#|echo: false"
   ]
  },
  {
   "cell_type": "markdown",
   "metadata": {},
   "source": [
    "Now, imagine that in order to obtain the input to `multiply_by_two` we need some code that obtains that input. We can define a data function that encapulates this code and returns it to our test function:`"
   ]
  },
  {
   "cell_type": "markdown",
   "metadata": {},
   "source": [
    "<div style=\"background-color: rgb(250, 250, 250);\">\n",
    "```python\n",
    "%%function input_multiply_by_two --test --data\n",
    "factors=[2, 2, 3, 5, 5]\n",
    "value_to_multiply = 1\n",
    "for factor in factors:\n",
    "    value_to_multiply *= factor\n",
    "```"
   ]
  },
  {
   "cell_type": "code",
   "execution_count": 69,
   "metadata": {},
   "outputs": [],
   "source": [
    "%%function input_multiply_by_two --test --data\n",
    "factors=[2, 2, 3, 5, 5]\n",
    "value_to_multiply = 1\n",
    "for factor in factors:\n",
    "    value_to_multiply *= factor"
   ]
  },
  {
   "cell_type": "markdown",
   "metadata": {},
   "source": [
    "Now we change a little bit `test_multiply_by_two` to use `value_to_multiply` as input of `multiply_by_two``"
   ]
  },
  {
   "cell_type": "markdown",
   "metadata": {},
   "source": [
    "<div style=\"background-color: rgb(250, 250, 250);\">\n",
    "```python\n",
    "%%function multiply_by_two --test\n",
    "print(multiply_by_two(value_to_multiply))\n",
    "```"
   ]
  },
  {
   "cell_type": "code",
   "execution_count": 70,
   "metadata": {},
   "outputs": [
    {
     "name": "stdout",
     "output_type": "stream",
     "text": [
      "Two times 300 is 600\n",
      "600\n"
     ]
    }
   ],
   "source": [
    "%%function multiply_by_two --test\n",
    "#|echo: false\n",
    "print(multiply_by_two(value_to_multiply))"
   ]
  },
  {
   "cell_type": "markdown",
   "metadata": {},
   "source": [
    "Let's see how `test_multiply_by_two` is implemented after applying the previous change:"
   ]
  },
  {
   "cell_type": "markdown",
   "metadata": {},
   "source": [
    "<div style=\"background-color: rgb(250, 250, 250);\">\n",
    "```python\n",
    "%print test_multiply_by_two --test\n",
    "```"
   ]
  },
  {
   "cell_type": "code",
   "execution_count": 71,
   "metadata": {},
   "outputs": [
    {
     "name": "stdout",
     "output_type": "stream",
     "text": [
      "def test_multiply_by_two():\n",
      "    value_to_multiply = test_input_multiply_by_two()\n",
      "    print(multiply_by_two(value_to_multiply))\n",
      "\n"
     ]
    }
   ],
   "source": [
    "%print test_multiply_by_two --test\n",
    "#|echo: false"
   ]
  },
  {
   "cell_type": "markdown",
   "metadata": {},
   "source": [
    "We can see that the variable `value_to_multiply` is returned by calling the *\"test data\"* function `test_input_multiply_by_two`. We use this type of implementation to make it possible to use test engines such as `pytest` where the test functions need to be self-contained, i.e., they need to operate independently of other functions. Although `pytest` uses fixtures for this purpose, our test data functions provide an alternative to it."
   ]
  },
  {
   "cell_type": "markdown",
   "metadata": {},
   "source": [
    "We can see that `test_input_multiply_by_two` returns the required `value_to_multiply`, so that it can be used by `test_multiply_by_two`."
   ]
  },
  {
   "cell_type": "markdown",
   "metadata": {},
   "source": [
    "<div style=\"background-color: rgb(250, 250, 250);\">\n",
    "```python\n",
    "%print test_input_multiply_by_two --test --data\n",
    "```"
   ]
  },
  {
   "cell_type": "code",
   "execution_count": 72,
   "metadata": {},
   "outputs": [
    {
     "name": "stdout",
     "output_type": "stream",
     "text": [
      "def test_input_multiply_by_two():\n",
      "    factors=[2, 2, 3, 5, 5]\n",
      "    value_to_multiply = 1\n",
      "    for factor in factors:\n",
      "        value_to_multiply *= factor\n",
      "    return value_to_multiply\n",
      "\n"
     ]
    }
   ],
   "source": [
    "%print test_input_multiply_by_two --test --data\n",
    "#|echo: false"
   ]
  },
  {
   "cell_type": "markdown",
   "metadata": {},
   "source": [
    "To prevent conflicts, two *test data* functions cannot return a variable with the same name:"
   ]
  },
  {
   "cell_type": "markdown",
   "metadata": {},
   "source": [
    "<div style=\"background-color: rgb(250, 250, 250);\">\n",
    "```python\n",
    "%%function second_function --test --data\n",
    "value_to_multiply = 10\n",
    "```"
   ]
  },
  {
   "cell_type": "markdown",
   "metadata": {},
   "source": [
    "If we run the previous code, we get a `ValueError` exception with the following message:\n",
    "\n",
    "```\n",
    "ValueError: detected common variables with other test data functions {'value_to_multiply'}:\n",
    "```"
   ]
  },
  {
   "cell_type": "markdown",
   "metadata": {},
   "source": [
    "Test functions are written in a separate test module, withprefix `test_`"
   ]
  },
  {
   "cell_type": "code",
   "execution_count": 73,
   "metadata": {},
   "outputs": [
    {
     "data": {
      "text/plain": [
       "['test_index.py']"
      ]
     },
     "execution_count": 73,
     "metadata": {},
     "output_type": "execute_result"
    }
   ],
   "source": [
    "os.listdir ('../tests')"
   ]
  },
  {
   "cell_type": "code",
   "execution_count": 74,
   "metadata": {},
   "outputs": [],
   "source": [
    "assert os.listdir ('../tests')==['test_index.py']"
   ]
  },
  {
   "cell_type": "markdown",
   "metadata": {},
   "source": [
    "# Imports"
   ]
  },
  {
   "cell_type": "markdown",
   "metadata": {},
   "source": [
    "In order to include libraries in our python module, we can use the magic imports. Those will be written at the beginning of the module:"
   ]
  },
  {
   "cell_type": "markdown",
   "metadata": {},
   "source": [
    "<div style=\"background-color: rgb(250, 250, 250);\">\n",
    "```python\n",
    "%%imports\n",
    "import pandas as pd\n",
    "```"
   ]
  },
  {
   "cell_type": "code",
   "execution_count": 75,
   "metadata": {},
   "outputs": [],
   "source": [
    "%%imports\n",
    "#|echo: false\n",
    "import pandas as pd"
   ]
  },
  {
   "cell_type": "code",
   "execution_count": 76,
   "metadata": {},
   "outputs": [
    {
     "name": "stdout",
     "output_type": "stream",
     "text": [
      "#|echo: false\n",
      "import pandas as pd\n",
      "def get_my_previous_variable():\n",
      "    my_previous_variable = 100\n",
      "    return my_previous_variable\n",
      "\n",
      "def two_plus_three():\n",
      "    a = 2\n",
      "    b = 3\n",
      "    c = a+b\n",
      "    print (f'The result of adding {a}+{b} is {c}')\n",
      "    return a, b, c\n",
      "\n",
      "def add_100(my_previous_variable):\n",
      "    my_previous_variable = my_previous_variable + 100\n",
      "    print (f'The result of adding 100 to my_previous_variable is {my_previous_variable}')\n",
      "    return my_previous_variable\n",
      "\n",
      "def multiply_by_two(c):\n",
      "    d = c*2\n",
      "    print (f'Two times {c} is {d}')\n",
      "    return d\n",
      "\n",
      "def analyze(x):\n",
      "    x = [1, 2, 3]\n",
      "    y = [100, 200, 300]\n",
      "    z = [u+v for u,v in zip(x,y)]\n",
      "    product = [u*v for u, v in zip(x,y)]\n",
      "    return x, y, x, y\n",
      "\n",
      "def determine_approximate_age(name, birthday_year=2000):\n",
      "    current_year = datetime.datetime.today().year\n",
      "    approximate_age = current_year-birthday_year\n",
      "    print (f'hello {name}, your approximate age is {approximate_age}')\n",
      "    return approximate_age, current_year\n",
      "\n",
      "def use_current_year(current_year):\n",
      "    print (current_year)\n",
      "\n",
      "def myfunc(x, y, a=1, b=3):\n",
      "    print ('hello', a, b)\n",
      "    c = a+b\n",
      "    return c\n",
      "\n",
      "def other_func(a, b):\n",
      "    print ('hello', a, b)\n",
      "    c = a+b\n",
      "    return c\n",
      "\n",
      "def my_new_function():\n",
      "    my_new_local = 3\n",
      "    my_other_new_local = 4\n",
      "\n",
      "def my_second_new_function():\n",
      "    my_second_variable = 100\n",
      "    my_second_other_variable = 200\n",
      "\n",
      "def bunch_data():\n",
      "    x = Bunch (a=1, b=2)\n",
      "    return x\n",
      "\n",
      "def bunch_processor(x, day=1):\n",
      "    a = x[\"a\"]\n",
      "    b = x[\"b\"]\n",
      "    c = 3\n",
      "    a = 4\n",
      "    x[\"a\"] = a\n",
      "    x[\"c\"] = c\n",
      "    x[\"day\"] = day\n",
      "    return x\n",
      "\n",
      "def days(df, fy, x=1, y=3, n=4):\n",
      "    df_group = df.groupby(['Year','Month']).agg({'Day': lambda x: len (x)})\n",
      "    df_group = df.reset_index()\n",
      "    print ('other args: fy', fy, 'x', x, 'y', y)\n",
      "    return df_group, x\n",
      "\n",
      "def multiples(x, n):\n",
      "    result = [x*i for i in range(n)]\n",
      "    return result\n",
      "\n",
      "def say_hi():\n",
      "    print ('hi')\n",
      "\n",
      "# -----------------------------------------------------\n",
      "# pipeline\n",
      "# -----------------------------------------------------\n",
      "def index_pipeline (test=False, load=True, save=True, result_file_name=\"index_pipeline\"):\n",
      "    \"\"\"Pipeline calling each one of the functions defined in this module.\"\"\"\n",
      "    \n",
      "    # load result\n",
      "    result_file_name += '.pk'\n",
      "    path_variables = Path (\"index\") / result_file_name\n",
      "    if load and path_variables.exists():\n",
      "        result = joblib.load (path_variables)\n",
      "        return result\n",
      "\n",
      "    my_previous_variable = get_my_previous_variable ()\n",
      "    a, b, c = two_plus_three ()\n",
      "    my_previous_variable = add_100 (my_previous_variable)\n",
      "    d = multiply_by_two (c)\n",
      "    x, y, x, y = analyze (x)\n",
      "    approximate_age, current_year = determine_approximate_age (name)\n",
      "    use_current_year (current_year)\n",
      "    c = myfunc (x, y)\n",
      "    c = other_func (a, b)\n",
      "    my_new_function ()\n",
      "    my_second_new_function ()\n",
      "    x = bunch_data ()\n",
      "    x = bunch_processor (x)\n",
      "    df_group, x = days (df, fy)\n",
      "    result = multiples (x, n)\n",
      "    say_hi ()\n",
      "\n",
      "    # save result\n",
      "    result = Bunch (x=x,my_previous_variable=my_previous_variable,a=a,b=b,approximate_age=approximate_age,d=d,y=y,df_group=df_group,result=result,c=c,current_year=current_year)\n",
      "    if save:    \n",
      "        path_variables.parent.mkdir (parents=True, exist_ok=True)\n",
      "        joblib.dump (result, path_variables)\n",
      "    return result\n",
      "\n"
     ]
    }
   ],
   "source": [
    "!cat ../nbmodular/index.py"
   ]
  },
  {
   "cell_type": "markdown",
   "metadata": {},
   "source": [
    "Imports can be indicated separately for the test module by passing the flag `--test`:"
   ]
  },
  {
   "cell_type": "markdown",
   "metadata": {},
   "source": [
    "<div style=\"background-color: rgb(250, 250, 250);\">\n",
    "%%imports --test\n",
    "import matplotlib.pyplot as plt\n",
    "```"
   ]
  },
  {
   "cell_type": "code",
   "execution_count": 77,
   "metadata": {},
   "outputs": [],
   "source": [
    "%%imports --test\n",
    "#|echo: false\n",
    "import matplotlib.pyplot as plt"
   ]
  },
  {
   "cell_type": "code",
   "execution_count": 78,
   "metadata": {},
   "outputs": [
    {
     "name": "stdout",
     "output_type": "stream",
     "text": [
      "#|echo: false\n",
      "import matplotlib.pyplot as plt\n",
      "def test_input_multiply_by_two():\n",
      "    factors=[2, 2, 3, 5, 5]\n",
      "    value_to_multiply = 1\n",
      "    for factor in factors:\n",
      "        value_to_multiply *= factor\n",
      "    return value_to_multiply\n",
      "\n",
      "def test_multiply_by_two():\n",
      "    assert multiply_by_two(150)==300\n",
      "\n",
      "def test_multiply_by_two():\n",
      "    value_to_multiply = test_input_multiply_by_two()\n",
      "    print(multiply_by_two(value_to_multiply))\n",
      "\n"
     ]
    }
   ],
   "source": [
    "!cat ../tests/test_index.py"
   ]
  },
  {
   "cell_type": "markdown",
   "metadata": {},
   "source": [
    "# Defined functions"
   ]
  },
  {
   "cell_type": "markdown",
   "metadata": {},
   "source": [
    "The cell magic `%%function` can also be used on cells that define functions:"
   ]
  },
  {
   "cell_type": "code",
   "execution_count": 79,
   "metadata": {},
   "outputs": [],
   "source": [
    "import datetime\n",
    "name = 'Jaume'"
   ]
  },
  {
   "cell_type": "code",
   "execution_count": 80,
   "metadata": {},
   "outputs": [
    {
     "name": "stdout",
     "output_type": "stream",
     "text": [
      "hello Jaume, your approximate age is 23\n"
     ]
    }
   ],
   "source": [
    "%%function\n",
    "def determine_approximate_age (name, birthday_year=2000):\n",
    "    #|echo: false\n",
    "    current_year = datetime.datetime.today().year\n",
    "    approximate_age = current_year-birthday_year\n",
    "    print (f'hello {name}, your approximate age is {approximate_age}')\n",
    "    return approximate_age"
   ]
  },
  {
   "cell_type": "code",
   "execution_count": 81,
   "metadata": {},
   "outputs": [
    {
     "data": {
      "text/plain": [
       "Function determine_approximate_age:\n",
       "    Arguments: ['name']\n",
       "    Keyword arguments: {'birthday_year': 2000}\n",
       "    Output: ['approximate_age']\n",
       "    Created variables: ['current_year', 'approximate_age']"
      ]
     },
     "execution_count": 81,
     "metadata": {},
     "output_type": "execute_result"
    }
   ],
   "source": [
    "determine_approximate_age_info"
   ]
  },
  {
   "cell_type": "code",
   "execution_count": 82,
   "metadata": {},
   "outputs": [
    {
     "data": {
      "text/plain": [
       "(23, 2023)"
      ]
     },
     "execution_count": 82,
     "metadata": {},
     "output_type": "execute_result"
    }
   ],
   "source": [
    "determine_approximate_age_info.approximate_age, determine_approximate_age_info.current_year"
   ]
  },
  {
   "cell_type": "code",
   "execution_count": 83,
   "metadata": {},
   "outputs": [
    {
     "name": "stdout",
     "output_type": "stream",
     "text": [
      "2023\n"
     ]
    }
   ],
   "source": [
    "%%function use_current_year\n",
    "#|echo: false\n",
    "print (current_year)"
   ]
  },
  {
   "cell_type": "code",
   "execution_count": 84,
   "metadata": {},
   "outputs": [
    {
     "name": "stdout",
     "output_type": "stream",
     "text": [
      "def determine_approximate_age(name, birthday_year=2000):\n",
      "    current_year = datetime.datetime.today().year\n",
      "    approximate_age = current_year-birthday_year\n",
      "    print (f'hello {name}, your approximate age is {approximate_age}')\n",
      "    return approximate_age, current_year\n",
      "\n"
     ]
    }
   ],
   "source": [
    "%print determine_approximate_age"
   ]
  },
  {
   "cell_type": "markdown",
   "metadata": {},
   "source": [
    "Functions can be included already being defined with signature and return values. The only caveat is that, if we want the function to be executed, the variables in the argument list need to be created outside of the function. Otherwise we need to pass the flag --norun to avoid errors:"
   ]
  },
  {
   "cell_type": "markdown",
   "metadata": {},
   "source": [
    "<div style=\"background-color: rgb(250, 250, 250);\">\n",
    "```python\n",
    "%%function --not-run\n",
    "def myfunc (x, y, a=1, b=3):\n",
    "    #|echo: false\n",
    "    print ('hello', a, b)\n",
    "    c = a+b\n",
    "    return c\n",
    "```"
   ]
  },
  {
   "cell_type": "code",
   "execution_count": 85,
   "metadata": {},
   "outputs": [],
   "source": [
    "%%function --not-run\n",
    "def myfunc (x, y, a=1, b=3):\n",
    "    #|echo: false\n",
    "    print ('hello', a, b)\n",
    "    c = a+b\n",
    "    return c"
   ]
  },
  {
   "cell_type": "markdown",
   "metadata": {},
   "source": [
    "Although the internal code of the function is not executed, it is still parsed using an AST:"
   ]
  },
  {
   "cell_type": "code",
   "execution_count": 86,
   "metadata": {},
   "outputs": [
    {
     "data": {
      "text/plain": [
       "['c']"
      ]
     },
     "execution_count": 86,
     "metadata": {},
     "output_type": "execute_result"
    }
   ],
   "source": [
    "myfunc_info.created_variables"
   ]
  },
  {
   "cell_type": "code",
   "execution_count": 87,
   "metadata": {},
   "outputs": [
    {
     "data": {
      "text/plain": [
       "['a', 'b']"
      ]
     },
     "execution_count": 87,
     "metadata": {},
     "output_type": "execute_result"
    }
   ],
   "source": [
    "myfunc_info.previous_variables"
   ]
  },
  {
   "cell_type": "markdown",
   "metadata": {},
   "source": [
    "This allows to provide tentative *warnings* regarding names not found in the argument list"
   ]
  },
  {
   "cell_type": "markdown",
   "metadata": {},
   "source": [
    "<div style=\"background-color: rgb(250, 250, 250);\">\n",
    "```python\n",
    "def other_func (x, y):\n",
    "    #|echo: false\n",
    "    print ('hello', a, b)\n",
    "    c = a+b\n",
    "    return c\n",
    "```"
   ]
  },
  {
   "cell_type": "code",
   "execution_count": 88,
   "metadata": {},
   "outputs": [],
   "source": [
    "%%function --not-run\n",
    "def other_func (x, y):\n",
    "    #|echo: false\n",
    "    print ('hello', a, b)\n",
    "    c = a+b\n",
    "    return c"
   ]
  },
  {
   "cell_type": "markdown",
   "metadata": {},
   "source": [
    "Let's do the same but running the function:"
   ]
  },
  {
   "cell_type": "code",
   "execution_count": 89,
   "metadata": {},
   "outputs": [],
   "source": [
    "a=1\n",
    "b=3"
   ]
  },
  {
   "cell_type": "markdown",
   "metadata": {},
   "source": [
    "<div style=\"background-color: rgb(250, 250, 250);\">\n",
    "```python\n",
    "%%function\n",
    "def myfunc (x, y, a=1, b=3):\n",
    "    #|echo: false\n",
    "    print ('hello', a, b)\n",
    "    c = a+b\n",
    "    return c\n",
    "```"
   ]
  },
  {
   "cell_type": "code",
   "execution_count": 90,
   "metadata": {},
   "outputs": [
    {
     "name": "stdout",
     "output_type": "stream",
     "text": [
      "hello 1 3\n"
     ]
    }
   ],
   "source": [
    "%%function\n",
    "def myfunc (x, y, a=1, b=3):\n",
    "    #|echo: false\n",
    "    print ('hello', a, b)\n",
    "    c = a+b\n",
    "    return c"
   ]
  },
  {
   "cell_type": "code",
   "execution_count": 91,
   "metadata": {},
   "outputs": [
    {
     "name": "stdout",
     "output_type": "stream",
     "text": [
      "hello 1 3\n"
     ]
    },
    {
     "data": {
      "text/plain": [
       "4"
      ]
     },
     "execution_count": 91,
     "metadata": {},
     "output_type": "execute_result"
    }
   ],
   "source": [
    "myfunc (10, 20)"
   ]
  },
  {
   "cell_type": "markdown",
   "metadata": {},
   "source": [
    "<div style=\"background-color: rgb(250, 250, 250);\">\n",
    "```python\n",
    "%print analyze\n",
    "```"
   ]
  },
  {
   "cell_type": "code",
   "execution_count": 92,
   "metadata": {},
   "outputs": [],
   "source": [
    "myfunc_info = %function_info myfunc\n",
    "#|echo: false"
   ]
  },
  {
   "cell_type": "code",
   "execution_count": 93,
   "metadata": {},
   "outputs": [
    {
     "data": {
      "text/plain": [
       "Function myfunc:\n",
       "    Arguments: ['x', 'y']\n",
       "    Keyword arguments: {'a': 1, 'b': 3}\n",
       "    Output: ['c']\n",
       "    Created variables: ['c']"
      ]
     },
     "execution_count": 93,
     "metadata": {},
     "output_type": "execute_result"
    }
   ],
   "source": [
    "myfunc_info"
   ]
  },
  {
   "cell_type": "code",
   "execution_count": 94,
   "metadata": {},
   "outputs": [
    {
     "data": {
      "text/plain": [
       "4"
      ]
     },
     "execution_count": 94,
     "metadata": {},
     "output_type": "execute_result"
    }
   ],
   "source": [
    "myfunc_info.c"
   ]
  },
  {
   "cell_type": "markdown",
   "metadata": {},
   "source": [
    "# Storing local variables in memory"
   ]
  },
  {
   "cell_type": "markdown",
   "metadata": {},
   "source": [
    "By default, when we run a cell function its local variables are stored in a dictionary called `current_values`:"
   ]
  },
  {
   "cell_type": "markdown",
   "metadata": {},
   "source": [
    "<div style=\"background-color: rgb(250, 250, 250);\">\n",
    "```python\n",
    "%print analyze\n",
    "```"
   ]
  },
  {
   "cell_type": "code",
   "execution_count": 95,
   "metadata": {},
   "outputs": [],
   "source": [
    "%%function my_new_function\n",
    "#|echo: false\n",
    "my_new_local = 3\n",
    "my_other_new_local = 4"
   ]
  },
  {
   "cell_type": "markdown",
   "metadata": {},
   "source": [
    "The stored variables can be accessed by calling the magic `function_info`:"
   ]
  },
  {
   "cell_type": "code",
   "execution_count": 96,
   "metadata": {},
   "outputs": [],
   "source": [
    "my_new_function_info = %function_info my_new_function"
   ]
  },
  {
   "cell_type": "code",
   "execution_count": 97,
   "metadata": {},
   "outputs": [
    {
     "data": {
      "text/plain": [
       "{'my_new_local': 3, 'my_other_new_local': 4}"
      ]
     },
     "execution_count": 97,
     "metadata": {},
     "output_type": "execute_result"
    }
   ],
   "source": [
    "my_new_function_info.current_values"
   ]
  },
  {
   "cell_type": "markdown",
   "metadata": {},
   "source": [
    "This default behaviour can be overriden by passing the flag `--not-store`"
   ]
  },
  {
   "cell_type": "markdown",
   "metadata": {},
   "source": [
    "<div style=\"background-color: rgb(250, 250, 250);\">\n",
    "```python\n",
    "%print analyze\n",
    "```"
   ]
  },
  {
   "cell_type": "code",
   "execution_count": 98,
   "metadata": {},
   "outputs": [],
   "source": [
    "%%function my_second_new_function --not-store\n",
    "#|echo: false\n",
    "my_second_variable = 100\n",
    "my_second_other_variable = 200"
   ]
  },
  {
   "cell_type": "code",
   "execution_count": 99,
   "metadata": {},
   "outputs": [],
   "source": [
    "my_second_new_function_info = %function_info my_second_new_function"
   ]
  },
  {
   "cell_type": "code",
   "execution_count": 100,
   "metadata": {},
   "outputs": [
    {
     "data": {
      "text/plain": [
       "{'my_second_variable': '__REMOVED__',\n",
       " 'my_second_other_variable': '__REMOVED__'}"
      ]
     },
     "execution_count": 100,
     "metadata": {},
     "output_type": "execute_result"
    }
   ],
   "source": [
    "my_second_new_function_info.current_values"
   ]
  },
  {
   "cell_type": "markdown",
   "metadata": {},
   "source": [
    "# (Un)packing Bunch I/O"
   ]
  },
  {
   "cell_type": "code",
   "execution_count": 101,
   "metadata": {},
   "outputs": [],
   "source": [
    "from sklearn.utils import Bunch"
   ]
  },
  {
   "cell_type": "markdown",
   "metadata": {},
   "source": [
    "<div style=\"background-color: rgb(250, 250, 250);\">\n",
    "```python\n",
    "%print analyze\n",
    "```"
   ]
  },
  {
   "cell_type": "code",
   "execution_count": 102,
   "metadata": {},
   "outputs": [],
   "source": [
    "%%function bunch_data\n",
    "#|echo: false\n",
    "x = Bunch (a=1, b=2)"
   ]
  },
  {
   "cell_type": "markdown",
   "metadata": {},
   "source": [
    "<div style=\"background-color: rgb(250, 250, 250);\">\n",
    "```python\n",
    "%print analyze\n",
    "```"
   ]
  },
  {
   "cell_type": "code",
   "execution_count": 103,
   "metadata": {},
   "outputs": [],
   "source": [
    "%%function bunch_processor --unpack-bunch x --include-input \"day=1\"\n",
    "#|echo: false\n",
    "c = 3\n",
    "a = 4"
   ]
  },
  {
   "cell_type": "markdown",
   "metadata": {},
   "source": [
    "<div style=\"background-color: rgb(250, 250, 250);\">\n",
    "```python\n",
    "%print analyze\n",
    "```"
   ]
  },
  {
   "cell_type": "code",
   "execution_count": 104,
   "metadata": {},
   "outputs": [
    {
     "name": "stdout",
     "output_type": "stream",
     "text": [
      "def bunch_processor(x, day=\"1\"):\n",
      "    a = x[\"a\"]\n",
      "    b = x[\"b\"]\n",
      "    c = 3\n",
      "    a = 4\n",
      "    x[\"a\"] = a\n",
      "    x[\"c\"] = c\n",
      "    x[\"day\"] = day\n",
      "    return x\n",
      "\n"
     ]
    }
   ],
   "source": [
    "%print bunch_processor\n",
    "#|echo: false"
   ]
  },
  {
   "cell_type": "markdown",
   "metadata": {},
   "source": [
    "# Function's info object holding local variables"
   ]
  },
  {
   "cell_type": "code",
   "execution_count": 105,
   "metadata": {},
   "outputs": [],
   "source": [
    "#| hide\n",
    "import pandas as pd"
   ]
  },
  {
   "cell_type": "code",
   "execution_count": 106,
   "metadata": {},
   "outputs": [],
   "source": [
    "df = pd.DataFrame (dict(Year=[1,2,3], Month=[1,2,3], Day=[1,2,3]))\n",
    "fy = '2023'"
   ]
  },
  {
   "cell_type": "markdown",
   "metadata": {},
   "source": [
    "<div style=\"background-color: rgb(250, 250, 250);\">\n",
    "```python\n",
    "%print analyze\n",
    "```"
   ]
  },
  {
   "cell_type": "code",
   "execution_count": 107,
   "metadata": {},
   "outputs": [
    {
     "name": "stdout",
     "output_type": "stream",
     "text": [
      "other args: fy 2023 x {'a': 1, 'b': 2} y [100, 200, 300]\n"
     ]
    }
   ],
   "source": [
    "%%function\n",
    "#|echo: false\n",
    "def days (df, fy, x=1, /, y=3, *, n=4):\n",
    "    df_group = df.groupby(['Year','Month']).agg({'Day': lambda x: len (x)})\n",
    "    df_group = df.reset_index()\n",
    "    print ('other args: fy', fy, 'x', x, 'y', y)\n",
    "    return df_group"
   ]
  },
  {
   "cell_type": "markdown",
   "metadata": {},
   "source": [
    "An info object with name <function_name>_info is created in memory, and can be used to get access to local variables"
   ]
  },
  {
   "cell_type": "code",
   "execution_count": 108,
   "metadata": {},
   "outputs": [
    {
     "data": {
      "text/html": [
       "<div>\n",
       "<style scoped>\n",
       "    .dataframe tbody tr th:only-of-type {\n",
       "        vertical-align: middle;\n",
       "    }\n",
       "\n",
       "    .dataframe tbody tr th {\n",
       "        vertical-align: top;\n",
       "    }\n",
       "\n",
       "    .dataframe thead th {\n",
       "        text-align: right;\n",
       "    }\n",
       "</style>\n",
       "<table border=\"1\" class=\"dataframe\">\n",
       "  <thead>\n",
       "    <tr style=\"text-align: right;\">\n",
       "      <th></th>\n",
       "      <th>index</th>\n",
       "      <th>Year</th>\n",
       "      <th>Month</th>\n",
       "      <th>Day</th>\n",
       "    </tr>\n",
       "  </thead>\n",
       "  <tbody>\n",
       "    <tr>\n",
       "      <th>0</th>\n",
       "      <td>0</td>\n",
       "      <td>1</td>\n",
       "      <td>1</td>\n",
       "      <td>1</td>\n",
       "    </tr>\n",
       "    <tr>\n",
       "      <th>1</th>\n",
       "      <td>1</td>\n",
       "      <td>2</td>\n",
       "      <td>2</td>\n",
       "      <td>2</td>\n",
       "    </tr>\n",
       "    <tr>\n",
       "      <th>2</th>\n",
       "      <td>2</td>\n",
       "      <td>3</td>\n",
       "      <td>3</td>\n",
       "      <td>3</td>\n",
       "    </tr>\n",
       "  </tbody>\n",
       "</table>\n",
       "</div>"
      ],
      "text/plain": [
       "   index  Year  Month  Day\n",
       "0      0     1      1    1\n",
       "1      1     2      2    2\n",
       "2      2     3      3    3"
      ]
     },
     "execution_count": 108,
     "metadata": {},
     "output_type": "execute_result"
    }
   ],
   "source": [
    "days_info.df_group"
   ]
  },
  {
   "cell_type": "markdown",
   "metadata": {},
   "source": [
    "There is more information in this object: previous variables, code, etc."
   ]
  },
  {
   "cell_type": "code",
   "execution_count": 109,
   "metadata": {},
   "outputs": [
    {
     "data": {
      "text/plain": [
       "{'df_group':    index  Year  Month  Day\n",
       " 0      0     1      1    1\n",
       " 1      1     2      2    2\n",
       " 2      2     3      3    3}"
      ]
     },
     "execution_count": 109,
     "metadata": {},
     "output_type": "execute_result"
    }
   ],
   "source": [
    "days_info.current_values"
   ]
  },
  {
   "cell_type": "code",
   "execution_count": 110,
   "metadata": {},
   "outputs": [
    {
     "data": {
      "text/plain": [
       "Function days:\n",
       "    Arguments: ['df', 'fy']\n",
       "    Keyword arguments: {'x': 1, 'y': 3, 'n': 4}\n",
       "    Output: ['df_group']\n",
       "    Created variables: ['df_group']"
      ]
     },
     "execution_count": 110,
     "metadata": {},
     "output_type": "execute_result"
    }
   ],
   "source": [
    "days_info"
   ]
  },
  {
   "cell_type": "markdown",
   "metadata": {},
   "source": [
    "The function can also be called directly:"
   ]
  },
  {
   "cell_type": "code",
   "execution_count": 111,
   "metadata": {},
   "outputs": [
    {
     "name": "stdout",
     "output_type": "stream",
     "text": [
      "other args: fy 100 x 4 y 3\n"
     ]
    },
    {
     "data": {
      "text/html": [
       "<div>\n",
       "<style scoped>\n",
       "    .dataframe tbody tr th:only-of-type {\n",
       "        vertical-align: middle;\n",
       "    }\n",
       "\n",
       "    .dataframe tbody tr th {\n",
       "        vertical-align: top;\n",
       "    }\n",
       "\n",
       "    .dataframe thead th {\n",
       "        text-align: right;\n",
       "    }\n",
       "</style>\n",
       "<table border=\"1\" class=\"dataframe\">\n",
       "  <thead>\n",
       "    <tr style=\"text-align: right;\">\n",
       "      <th></th>\n",
       "      <th>index</th>\n",
       "      <th>Year</th>\n",
       "      <th>Month</th>\n",
       "      <th>Day</th>\n",
       "    </tr>\n",
       "  </thead>\n",
       "  <tbody>\n",
       "    <tr>\n",
       "      <th>0</th>\n",
       "      <td>0</td>\n",
       "      <td>100</td>\n",
       "      <td>100</td>\n",
       "      <td>100</td>\n",
       "    </tr>\n",
       "    <tr>\n",
       "      <th>1</th>\n",
       "      <td>1</td>\n",
       "      <td>200</td>\n",
       "      <td>200</td>\n",
       "      <td>200</td>\n",
       "    </tr>\n",
       "    <tr>\n",
       "      <th>2</th>\n",
       "      <td>2</td>\n",
       "      <td>300</td>\n",
       "      <td>300</td>\n",
       "      <td>300</td>\n",
       "    </tr>\n",
       "  </tbody>\n",
       "</table>\n",
       "</div>"
      ],
      "text/plain": [
       "   index  Year  Month  Day\n",
       "0      0   100    100  100\n",
       "1      1   200    200  200\n",
       "2      2   300    300  300"
      ]
     },
     "execution_count": 111,
     "metadata": {},
     "output_type": "execute_result"
    }
   ],
   "source": [
    "days (df*100, 100, x=4)"
   ]
  },
  {
   "cell_type": "markdown",
   "metadata": {},
   "source": [
    "# Saving and loading"
   ]
  },
  {
   "cell_type": "markdown",
   "metadata": {},
   "source": [
    "## Saving / loading previous results"
   ]
  },
  {
   "cell_type": "markdown",
   "metadata": {},
   "source": [
    "Functions can load previously computed results and save the results of the current execution. Let's see an example:"
   ]
  },
  {
   "cell_type": "code",
   "execution_count": 112,
   "metadata": {},
   "outputs": [],
   "source": [
    "x = 3\n",
    "n = 5"
   ]
  },
  {
   "cell_type": "code",
   "execution_count": 113,
   "metadata": {},
   "outputs": [],
   "source": [
    "#| hide\n",
    "shutil.rmtree ('results', True)"
   ]
  },
  {
   "cell_type": "code",
   "execution_count": 114,
   "metadata": {},
   "outputs": [],
   "source": [
    "del factors"
   ]
  },
  {
   "cell_type": "code",
   "execution_count": 115,
   "metadata": {},
   "outputs": [
    {
     "name": "stdout",
     "output_type": "stream",
     "text": [
      "computing multiples\n"
     ]
    }
   ],
   "source": [
    "%%function --save\n",
    "def multiples (x, n):\n",
    "    print ('computing multiples')\n",
    "    factors = range(n)\n",
    "    result = [x*i for i in factors]\n",
    "    return result"
   ]
  },
  {
   "cell_type": "markdown",
   "metadata": {},
   "source": [
    "After running the previous cell, we can load the result of the function from disk:"
   ]
  },
  {
   "cell_type": "code",
   "execution_count": 117,
   "metadata": {},
   "outputs": [
    {
     "data": {
      "text/plain": [
       "[0, 3, 6, 9, 12]"
      ]
     },
     "execution_count": 117,
     "metadata": {},
     "output_type": "execute_result"
    }
   ],
   "source": [
    "joblib.load ('results/index/multiples_result.pickle')"
   ]
  },
  {
   "cell_type": "markdown",
   "metadata": {},
   "source": [
    "By default, the path to the file where the results are saved is determined as follows:\n",
    "- The root folder is `results`, inside the directory where the notebook is run.\n",
    "- Inside `results`, a folder called \\<name of notebook\\> is created, where \\<name of notebook\\> is the name of the current notebook (\"index.ipynb\" in our case)\n",
    "- The file name is the same one as the name of the function (`multiples` in our example), adding the suffix \"_result\" at the end. \n",
    "- The type of result file used by default is \"pickle\". \n",
    "\n",
    "All of these options can be changed as we will see later."
   ]
  },
  {
   "cell_type": "markdown",
   "metadata": {},
   "source": [
    "We can avoid the re-computing the results if we pass the flag `--load`:"
   ]
  },
  {
   "cell_type": "code",
   "execution_count": 118,
   "metadata": {},
   "outputs": [],
   "source": [
    "%%function --load \n",
    "def multiples (x, n):\n",
    "    print ('computing multiples')\n",
    "    factors = range(n)\n",
    "    result = [x*i for i in factors]\n",
    "    return result"
   ]
  },
  {
   "cell_type": "markdown",
   "metadata": {},
   "source": [
    "As we can see, the function hasn't run, since there is no message printed on screen. If we don't use the `load` flag, it will run normally:"
   ]
  },
  {
   "cell_type": "code",
   "execution_count": 120,
   "metadata": {},
   "outputs": [
    {
     "name": "stdout",
     "output_type": "stream",
     "text": [
      "computing multiples\n"
     ]
    }
   ],
   "source": [
    "%%function\n",
    "def multiples (x, n):\n",
    "    print ('computing multiples')\n",
    "    factors = range(n)\n",
    "    result = [x*i for i in factors]\n",
    "    return result"
   ]
  },
  {
   "cell_type": "markdown",
   "metadata": {},
   "source": [
    "## Saving / loading local variables"
   ]
  },
  {
   "cell_type": "markdown",
   "metadata": {},
   "source": [
    "Instead of saving / loading the variables returned by the function, we can save or load the local variables by passing `io-locals`:"
   ]
  },
  {
   "cell_type": "code",
   "execution_count": 122,
   "metadata": {},
   "outputs": [
    {
     "name": "stdout",
     "output_type": "stream",
     "text": [
      "computing multiples\n"
     ]
    }
   ],
   "source": [
    "%%function --save --io-locals\n",
    "def multiples (x, n):\n",
    "    print ('computing multiples')\n",
    "    factors = range(n)\n",
    "    result = [x*i for i in factors]\n",
    "    return result"
   ]
  },
  {
   "cell_type": "markdown",
   "metadata": {},
   "source": [
    "After running the previous cell, we will have a file with path `locals/index/multiples_locals.pickle`, storing the local variables of the function:"
   ]
  },
  {
   "cell_type": "code",
   "execution_count": 124,
   "metadata": {},
   "outputs": [
    {
     "data": {
      "text/plain": [
       "{'factors': range(0, 5), 'result': [0, 3, 6, 9, 12]}"
      ]
     },
     "execution_count": 124,
     "metadata": {},
     "output_type": "execute_result"
    }
   ],
   "source": [
    "joblib.load ('locals/index/multiples_locals.pickle')"
   ]
  },
  {
   "cell_type": "markdown",
   "metadata": {},
   "source": [
    "By default, the file is saved in a folder called \"locals/\\<name of notebook\\>\", inside the current directory, and with a file name that is the same one as the name of the function, adding the suffix \"_locals\" at the end. The type of file used by default is \"pickle\". All of these options can be changed as we will see later."
   ]
  },
  {
   "cell_type": "markdown",
   "metadata": {},
   "source": [
    "Again, we can avoid the re-computing the results if we pass the flag `--load`. This will load the local variables into the notebook's memory. To demonstrate that, let's first delete those variables from memory:"
   ]
  },
  {
   "cell_type": "code",
   "execution_count": 125,
   "metadata": {},
   "outputs": [],
   "source": [
    "del factors\n",
    "del result"
   ]
  },
  {
   "cell_type": "markdown",
   "metadata": {},
   "source": [
    "We now load them from disk by passing the flags `load` and `io-locals`:"
   ]
  },
  {
   "cell_type": "code",
   "execution_count": 126,
   "metadata": {},
   "outputs": [],
   "source": [
    "%%function --load --io-locals\n",
    "def multiples (x, n):\n",
    "    print ('computing multiples')\n",
    "    factors = range(n)\n",
    "    result = [x*i for i in factors]\n",
    "    return result"
   ]
  },
  {
   "cell_type": "markdown",
   "metadata": {},
   "source": [
    "As we can see, the function hasn't run, since there is no printed message, and the local variables have been loaded and are now available:"
   ]
  },
  {
   "cell_type": "code",
   "execution_count": 128,
   "metadata": {},
   "outputs": [
    {
     "name": "stdout",
     "output_type": "stream",
     "text": [
      "factors: range(0, 5), result: [0, 3, 6, 9, 12]\n"
     ]
    }
   ],
   "source": [
    "print (f'factors: {factors}, result: {result}')"
   ]
  },
  {
   "cell_type": "markdown",
   "metadata": {},
   "source": [
    "## loading / saving in function's code"
   ]
  },
  {
   "cell_type": "markdown",
   "metadata": {},
   "source": [
    "We insert loading / saving code into the function being defined, by passing the flag `--io-code`:"
   ]
  },
  {
   "cell_type": "code",
   "execution_count": 129,
   "metadata": {},
   "outputs": [
    {
     "name": "stdout",
     "output_type": "stream",
     "text": [
      "computing multiples\n"
     ]
    }
   ],
   "source": [
    "%%function --io-code\n",
    "def multiples (x, n):\n",
    "    print ('computing multiples')\n",
    "    factors = range(n)\n",
    "    result = [x*i for i in factors]\n",
    "    return result"
   ]
  },
  {
   "cell_type": "markdown",
   "metadata": {},
   "source": [
    "Calling this function with save=True will save the results to 'results/multiples_result.pickle', by default. This is the same path as the one used before, so let us remove it from disk first:"
   ]
  },
  {
   "cell_type": "code",
   "execution_count": 131,
   "metadata": {},
   "outputs": [],
   "source": [
    "os.remove ('results/index/multiples_result.pickle')"
   ]
  },
  {
   "cell_type": "code",
   "execution_count": 132,
   "metadata": {},
   "outputs": [
    {
     "name": "stdout",
     "output_type": "stream",
     "text": [
      "computing multiples\n"
     ]
    },
    {
     "data": {
      "text/plain": [
       "[0, 7, 14, 21, 28]"
      ]
     },
     "execution_count": 132,
     "metadata": {},
     "output_type": "execute_result"
    }
   ],
   "source": [
    "multiples (7, 5, save=True)"
   ]
  },
  {
   "cell_type": "code",
   "execution_count": 133,
   "metadata": {},
   "outputs": [
    {
     "data": {
      "text/plain": [
       "[0, 7, 14, 21, 28]"
      ]
     },
     "execution_count": 133,
     "metadata": {},
     "output_type": "execute_result"
    }
   ],
   "source": [
    "joblib.load ('results/index/multiples_result.pickle')"
   ]
  },
  {
   "cell_type": "markdown",
   "metadata": {},
   "source": [
    "We can also skip the computation in subsequent calls, by passing `load=True`:"
   ]
  },
  {
   "cell_type": "code",
   "execution_count": 134,
   "metadata": {},
   "outputs": [
    {
     "data": {
      "text/plain": [
       "[0, 7, 14, 21, 28]"
      ]
     },
     "execution_count": 134,
     "metadata": {},
     "output_type": "execute_result"
    }
   ],
   "source": [
    "multiples (7, 5, load=True)"
   ]
  },
  {
   "cell_type": "markdown",
   "metadata": {},
   "source": [
    "As we can see, no message has been printed by calling the function, since the result is loaded from disk and the rest of the function is skipped."
   ]
  },
  {
   "cell_type": "markdown",
   "metadata": {},
   "source": [
    "## Loading / saving config parameters"
   ]
  },
  {
   "cell_type": "markdown",
   "metadata": {},
   "source": [
    "We saw earlier how the file to the results path is constructed by default. In order to change this path, we can pass the following parameters:\n",
    "\n",
    "- `io-type`: indicates both the file extension and type of file to be saved. Current possibilities are: `pickle`, `csv`, and `parquet`, and the default is `pickle`.\n",
    "- `io-root-path`: root folder inside the current directory. The default is `results`.\n",
    "- `io-folder`: sub-folder, inside the root folder, where the file is stored. The default name is the same as the name of the current notebook. In the rare occasions where the name of the current notebook cannot be automatically detected, the name `temporary` is used instead. See note below about how to manually indicate the file name of the current notebook.\n",
    "- `io-file`: name of the file, without extension. The name of the function is used by default.\n",
    "\n",
    "Let's see an example:"
   ]
  },
  {
   "cell_type": "code",
   "execution_count": 136,
   "metadata": {},
   "outputs": [
    {
     "name": "stdout",
     "output_type": "stream",
     "text": [
      "computing multiples\n"
     ]
    }
   ],
   "source": [
    "%%function --save --io-type csv --io-root-path results_df --io-folder csv_files --io-file computed_multiples\n",
    "def multiples (x, n):\n",
    "    print ('computing multiples')\n",
    "    factors = range(n)\n",
    "    result = pd.DataFrame ({\n",
    "        'factor':factors,\n",
    "        f'{x} * factor':[x*i for i in factors],\n",
    "    })\n",
    "    return result"
   ]
  },
  {
   "cell_type": "markdown",
   "metadata": {},
   "source": [
    "By running the previous cell, the file `results_df/csv_files/computed_multiples.csv` is created, which can be read using pandas `read_csv`:"
   ]
  },
  {
   "cell_type": "code",
   "execution_count": 137,
   "metadata": {},
   "outputs": [
    {
     "data": {
      "text/html": [
       "<div>\n",
       "<style scoped>\n",
       "    .dataframe tbody tr th:only-of-type {\n",
       "        vertical-align: middle;\n",
       "    }\n",
       "\n",
       "    .dataframe tbody tr th {\n",
       "        vertical-align: top;\n",
       "    }\n",
       "\n",
       "    .dataframe thead th {\n",
       "        text-align: right;\n",
       "    }\n",
       "</style>\n",
       "<table border=\"1\" class=\"dataframe\">\n",
       "  <thead>\n",
       "    <tr style=\"text-align: right;\">\n",
       "      <th></th>\n",
       "      <th>factor</th>\n",
       "      <th>3 * factor</th>\n",
       "    </tr>\n",
       "  </thead>\n",
       "  <tbody>\n",
       "    <tr>\n",
       "      <th>0</th>\n",
       "      <td>0</td>\n",
       "      <td>0</td>\n",
       "    </tr>\n",
       "    <tr>\n",
       "      <th>1</th>\n",
       "      <td>1</td>\n",
       "      <td>3</td>\n",
       "    </tr>\n",
       "    <tr>\n",
       "      <th>2</th>\n",
       "      <td>2</td>\n",
       "      <td>6</td>\n",
       "    </tr>\n",
       "    <tr>\n",
       "      <th>3</th>\n",
       "      <td>3</td>\n",
       "      <td>9</td>\n",
       "    </tr>\n",
       "    <tr>\n",
       "      <th>4</th>\n",
       "      <td>4</td>\n",
       "      <td>12</td>\n",
       "    </tr>\n",
       "  </tbody>\n",
       "</table>\n",
       "</div>"
      ],
      "text/plain": [
       "   factor  3 * factor\n",
       "0       0           0\n",
       "1       1           3\n",
       "2       2           6\n",
       "3       3           9\n",
       "4       4          12"
      ]
     },
     "execution_count": 137,
     "metadata": {},
     "output_type": "execute_result"
    }
   ],
   "source": [
    "pd.read_csv ('results_df/csv_files/computed_multiples.csv', index_col=0)"
   ]
  },
  {
   "cell_type": "markdown",
   "metadata": {},
   "source": [
    "# Setting global parameters"
   ]
  },
  {
   "cell_type": "markdown",
   "metadata": {},
   "source": [
    "Some of the default behaviour of the `nbmodular` extension can be changed by setting global parameters with the `set` magic command. Two important cases are setting the name of the file where the python module is saved, and setting the logging level:"
   ]
  },
  {
   "cell_type": "code",
   "execution_count": 138,
   "metadata": {},
   "outputs": [],
   "source": [
    "%set file_name 'example.py'"
   ]
  },
  {
   "cell_type": "code",
   "execution_count": 139,
   "metadata": {},
   "outputs": [],
   "source": [
    "cell_processor = %cell_processor\n",
    "cell_processor.write ()"
   ]
  },
  {
   "cell_type": "markdown",
   "metadata": {},
   "source": [
    "This will make the code of the notebook to be exported to the indicated file, `'example.py'`:"
   ]
  },
  {
   "cell_type": "code",
   "execution_count": 140,
   "metadata": {},
   "outputs": [
    {
     "data": {
      "text/plain": [
       "True"
      ]
     },
     "execution_count": 140,
     "metadata": {},
     "output_type": "execute_result"
    }
   ],
   "source": [
    "os.path.exists ('example.py')"
   ]
  },
  {
   "cell_type": "markdown",
   "metadata": {},
   "source": [
    "This is particularly important when the name of the current notebook cannot be automatically detected. In that case, the default name of the python module is `temporary.py`, and it is advisable to manually indicate the name using the above command."
   ]
  },
  {
   "cell_type": "markdown",
   "metadata": {},
   "source": [
    "We can also indicate the full path as follows:"
   ]
  },
  {
   "cell_type": "code",
   "execution_count": 166,
   "metadata": {},
   "outputs": [],
   "source": [
    "%set file_path folder/subfolder/example.py"
   ]
  },
  {
   "cell_type": "code",
   "execution_count": 167,
   "metadata": {},
   "outputs": [
    {
     "name": "stdout",
     "output_type": "stream",
     "text": [
      "new file path: folder/subfolder/example.py\n",
      "exporting code to that file\n",
      "The file has been created: True\n"
     ]
    }
   ],
   "source": [
    "cell_processor = %cell_processor\n",
    "print (f'new file path: {cell_processor.file_path}')\n",
    "print ('exporting code to that file')\n",
    "cell_processor.write ()\n",
    "print (f'The file has been created: {os.path.exists (\"folder/subfolder/example.py\")}')"
   ]
  },
  {
   "cell_type": "markdown",
   "metadata": {},
   "source": [
    "We can also set the debugging level:"
   ]
  },
  {
   "cell_type": "code",
   "execution_count": 168,
   "metadata": {},
   "outputs": [],
   "source": [
    "%set log_level DEBUG"
   ]
  },
  {
   "cell_type": "code",
   "execution_count": 169,
   "metadata": {},
   "outputs": [
    {
     "name": "stderr",
     "output_type": "stream",
     "text": [
      "This is a debug-level message\n",
      "This is a debug-level message\n"
     ]
    }
   ],
   "source": [
    "cell_processor.logger.debug ('This is a debug-level message')"
   ]
  },
  {
   "cell_type": "code",
   "execution_count": 170,
   "metadata": {},
   "outputs": [],
   "source": [
    "%set default_load True"
   ]
  },
  {
   "cell_type": "markdown",
   "metadata": {},
   "source": [
    "We can indicate whether to run or not a function by default:"
   ]
  },
  {
   "cell_type": "code",
   "execution_count": 188,
   "metadata": {},
   "outputs": [
    {
     "name": "stderr",
     "output_type": "stream",
     "text": [
      "/home/jaumeamllo/workspace/mine/nbmodular/nbmodular/core/cell2func.py:847: UserWarning: Name of notebook could not be automatically detected. We will be using `temporary.py` as the name of the python module where the code from the current notebook will be exported to. In order to change this name, run the magic command %set file_name \"<name_of_python_module>.py\".\n",
      "  warnings.warn (warning_message)\n"
     ]
    }
   ],
   "source": [
    "%reload_ext nbmodular.core.cell2func"
   ]
  },
  {
   "cell_type": "code",
   "execution_count": 189,
   "metadata": {},
   "outputs": [],
   "source": [
    "%set default_run False"
   ]
  },
  {
   "cell_type": "code",
   "execution_count": 191,
   "metadata": {},
   "outputs": [],
   "source": [
    "my_par = 'My Parameter'"
   ]
  },
  {
   "cell_type": "code",
   "execution_count": 190,
   "metadata": {},
   "outputs": [],
   "source": [
    "%%function\n",
    "def my_new_function (my_par):\n",
    "    print (my_par)"
   ]
  },
  {
   "cell_type": "code",
   "execution_count": 192,
   "metadata": {},
   "outputs": [],
   "source": [
    "%set default_run True"
   ]
  },
  {
   "cell_type": "code",
   "execution_count": 193,
   "metadata": {},
   "outputs": [
    {
     "name": "stdout",
     "output_type": "stream",
     "text": [
      "My Parameter\n"
     ]
    }
   ],
   "source": [
    "%%function\n",
    "def my_new_function (my_par):\n",
    "    print (my_par)"
   ]
  },
  {
   "cell_type": "code",
   "execution_count": 194,
   "metadata": {},
   "outputs": [],
   "source": [
    "%%function --not-run\n",
    "def my_new_function (my_par):\n",
    "    print (my_par)"
   ]
  },
  {
   "cell_type": "code",
   "execution_count": 195,
   "metadata": {},
   "outputs": [],
   "source": [
    "%set overriden_run True"
   ]
  },
  {
   "cell_type": "code",
   "execution_count": 196,
   "metadata": {},
   "outputs": [
    {
     "name": "stdout",
     "output_type": "stream",
     "text": [
      "My Parameter\n"
     ]
    }
   ],
   "source": [
    "%%function --not-run\n",
    "def my_new_function (my_par):\n",
    "    print (my_par)"
   ]
  },
  {
   "cell_type": "code",
   "execution_count": 197,
   "metadata": {},
   "outputs": [],
   "source": [
    "%set overriden_run None"
   ]
  },
  {
   "cell_type": "code",
   "execution_count": 198,
   "metadata": {},
   "outputs": [],
   "source": [
    "%%function --not-run\n",
    "def my_new_function (my_par):\n",
    "    print (my_par)"
   ]
  },
  {
   "cell_type": "markdown",
   "metadata": {},
   "source": [
    "## Classes"
   ]
  },
  {
   "cell_type": "code",
   "execution_count": 145,
   "metadata": {},
   "outputs": [],
   "source": [
    "%%add_class \n",
    "class Person ():"
   ]
  },
  {
   "cell_type": "code",
   "execution_count": 146,
   "metadata": {},
   "outputs": [
    {
     "data": {
      "text/plain": [
       "<__main__.Person at 0x7ff80b864190>"
      ]
     },
     "execution_count": 146,
     "metadata": {},
     "output_type": "execute_result"
    }
   ],
   "source": [
    "self"
   ]
  },
  {
   "cell_type": "code",
   "execution_count": 147,
   "metadata": {},
   "outputs": [],
   "source": [
    "name = 'Lex'\n",
    "year_born=1983"
   ]
  },
  {
   "cell_type": "code",
   "execution_count": 148,
   "metadata": {},
   "outputs": [
    {
     "name": "stderr",
     "output_type": "stream",
     "text": [
      "Stored the following local variables in the __init__ current_values dictionary: []\n"
     ]
    }
   ],
   "source": [
    "%%method\n",
    "def __init__ (\n",
    "    self,\n",
    "    name,\n",
    "    year_born,\n",
    "):\n",
    "    self.name = name\n",
    "    self.year_born = year_born"
   ]
  },
  {
   "cell_type": "code",
   "execution_count": 149,
   "metadata": {},
   "outputs": [
    {
     "name": "stdout",
     "output_type": "stream",
     "text": [
      "\u001b[0;31mSignature:\u001b[0m \u001b[0mPerson\u001b[0m\u001b[0;34m.\u001b[0m\u001b[0m__init__\u001b[0m\u001b[0;34m(\u001b[0m\u001b[0mself\u001b[0m\u001b[0;34m,\u001b[0m \u001b[0mname\u001b[0m\u001b[0;34m,\u001b[0m \u001b[0myear_born\u001b[0m\u001b[0;34m)\u001b[0m\u001b[0;34m\u001b[0m\u001b[0;34m\u001b[0m\u001b[0m\n",
      "\u001b[0;31mDocstring:\u001b[0m <no docstring>\n",
      "\u001b[0;31mSource:\u001b[0m   \n",
      "\u001b[0;32mdef\u001b[0m \u001b[0m__init__\u001b[0m\u001b[0;34m(\u001b[0m\u001b[0mself\u001b[0m\u001b[0;34m,\u001b[0m \u001b[0mname\u001b[0m\u001b[0;34m,\u001b[0m \u001b[0myear_born\u001b[0m\u001b[0;34m)\u001b[0m\u001b[0;34m:\u001b[0m\u001b[0;34m\u001b[0m\n",
      "\u001b[0;34m\u001b[0m    \u001b[0mself\u001b[0m\u001b[0;34m.\u001b[0m\u001b[0mname\u001b[0m \u001b[0;34m=\u001b[0m \u001b[0mname\u001b[0m\u001b[0;34m\u001b[0m\n",
      "\u001b[0;34m\u001b[0m    \u001b[0mself\u001b[0m\u001b[0;34m.\u001b[0m\u001b[0myear_born\u001b[0m \u001b[0;34m=\u001b[0m \u001b[0myear_born\u001b[0m\u001b[0;34m\u001b[0m\u001b[0;34m\u001b[0m\u001b[0m\n",
      "\u001b[0;31mFile:\u001b[0m      /tmp/ipykernel_5242/3561738434.py\n",
      "\u001b[0;31mType:\u001b[0m      function"
     ]
    }
   ],
   "source": [
    "Person.__init__??"
   ]
  },
  {
   "cell_type": "code",
   "execution_count": 150,
   "metadata": {},
   "outputs": [
    {
     "name": "stdout",
     "output_type": "stream",
     "text": [
      "self has name Lex and was born in 1983\n"
     ]
    }
   ],
   "source": [
    "print (f'self has name {self.name} and was born in {self.year_born}')"
   ]
  },
  {
   "cell_type": "code",
   "execution_count": 151,
   "metadata": {},
   "outputs": [],
   "source": [
    "andrew = Person ('Andrew', 1973)"
   ]
  },
  {
   "cell_type": "code",
   "execution_count": 152,
   "metadata": {},
   "outputs": [
    {
     "name": "stdout",
     "output_type": "stream",
     "text": [
      "andrew has name Andrew and was born in 1973\n"
     ]
    }
   ],
   "source": [
    "print (f'andrew has name {andrew.name} and was born in {andrew.year_born}')"
   ]
  },
  {
   "cell_type": "code",
   "execution_count": 153,
   "metadata": {},
   "outputs": [
    {
     "name": "stderr",
     "output_type": "stream",
     "text": [
      "Stored the following local variables in the approximate_age_in_2023 current_values dictionary: ['approximate_age']\n"
     ]
    }
   ],
   "source": [
    "%%method\n",
    "def approximate_age_in_2023 (self):\n",
    "    approximate_age = 2023 - self.year_born \n",
    "    return approximate_age"
   ]
  },
  {
   "cell_type": "code",
   "execution_count": 154,
   "metadata": {},
   "outputs": [
    {
     "name": "stdout",
     "output_type": "stream",
     "text": [
      "Lex had approximately 40 years in 2023\n",
      "Andrew had approximately 50 years in 2023\n"
     ]
    }
   ],
   "source": [
    "print (f'{self.name} had approximately {self.approximate_age_in_2023 ()} years in 2023')\n",
    "print (f'{andrew.name} had approximately {andrew.approximate_age_in_2023 ()} years in 2023')"
   ]
  }
 ],
 "metadata": {
  "kernelspec": {
   "display_name": "tsforecast",
   "language": "python",
   "name": "python3"
  },
  "language_info": {
   "codemirror_mode": {
    "name": "ipython",
    "version": 3
   },
   "file_extension": ".py",
   "mimetype": "text/x-python",
   "name": "python",
   "nbconvert_exporter": "python",
   "pygments_lexer": "ipython3",
   "version": "3.10.9"
  }
 },
 "nbformat": 4,
 "nbformat_minor": 4
}
