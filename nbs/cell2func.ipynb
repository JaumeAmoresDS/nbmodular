{
 "cells": [
  {
   "cell_type": "markdown",
   "metadata": {},
   "source": [
    "# cell2func\n",
    "\n",
    "> Convert desired notebook cells to functions. \n",
    "\n",
    "Detects function inputs automatically and function outputs semi-automatically. In the latter case, hints are provided to the developer to refine the list of outputs per each cell."
   ]
  },
  {
   "cell_type": "code",
   "execution_count": null,
   "metadata": {},
   "outputs": [],
   "source": [
    "#| default_exp core.cell2func"
   ]
  },
  {
   "cell_type": "code",
   "execution_count": null,
   "metadata": {},
   "outputs": [],
   "source": [
    "#| export\n",
    "from functools import reduce\n",
    "from pathlib import Path\n",
    "import sys\n",
    "import ast\n",
    "from IPython import get_ipython\n",
    "from IPython.core.magic import (Magics, magics_class, line_magic,\n",
    "                                cell_magic, line_cell_magic)\n",
    "from sklearn.utils import Bunch\n",
    "from fastcore.all import argnames"
   ]
  },
  {
   "cell_type": "code",
   "execution_count": null,
   "metadata": {},
   "outputs": [],
   "source": [
    "#| export\n",
    "@magics_class\n",
    "class Cell2Func(Magics):\n",
    "    \"\"\"\n",
    "    Base magic class for converting cells to modular functions.\n",
    "    \"\"\"\n",
    "    def __init__(self, shell):\n",
    "        super().__init__(shell)\n",
    "        self.function_info = Bunch()\n",
    "        self.function_list = []\n",
    "        \n",
    "    @cell_magic\n",
    "    def cell2file (self, folder, cell):\n",
    "        \n",
    "        folder = Path(folder)\n",
    "        folder.mkdir(parents=True, exist_ok=True)\n",
    "\n",
    "        with open(folder / \"module.py\", \"w\") as file_handle:\n",
    "            file_handle.write(cell)\n",
    "\n",
    "        get_ipython().run_cell(cell)\n",
    "    \n",
    "    @cell_magic\n",
    "    def function (self, func, cell):\n",
    "        \"Converts cell to function\"\n",
    "        \n",
    "        # parameters (temporary)\n",
    "        collect_variables_values = True\n",
    "        make_function = True\n",
    "        tab_size=4\n",
    "        \n",
    "        this_function = Bunch(idx=len(self.function_list))\n",
    "        if func not in self.function_info:\n",
    "            self.function_info[func] = this_function\n",
    "            self.function_list.append (this_function)\n",
    "            \n",
    "        idx = this_function['idx']\n",
    "        \n",
    "        # get variables specific about this function\n",
    "        if collect_variables_values:\n",
    "            get_variables_before_code = f'\\nkeep_variables (\"{func}\", \"values_before\", locals ())'\n",
    "            get_ipython().run_cell(get_variables_before_code)\n",
    "            \n",
    "            get_variables_here_code = cell + f'\\nkeep_variables (\"{func}\", \"values_here\", locals ())'\n",
    "            get_ipython().run_cell(get_variables_here_code)\n",
    "            values_before, values_here = this_function['values_before'], this_function['values_here']\n",
    "            values_here = {k:values_here[k] for k in set(values_here).difference(values_before)}\n",
    "            this_function['values_here'] = values_here\n",
    "            print (values_here)\n",
    "        \n",
    "        root = ast.parse (cell)\n",
    "        variables_here = {node.id for node in ast.walk(root) if isinstance(node, ast.Name) and not callable(eval(node.id))}\n",
    "        print (variables_here)\n",
    "        if idx > 0:\n",
    "            variables_before = reduce (lambda x, y: x['variables_here'] | y['variables_here'], self.function_list[:idx])\n",
    "        else:\n",
    "            variables_before = []\n",
    "        variables_here = sorted (variables_here.difference(variables_before))\n",
    "        print (variables_here)\n",
    "        this_function.update (variables_here=variables_here, variables_before=variables_before)\n",
    "        \n",
    "        if make_function:\n",
    "            function_code = ''\n",
    "            arguments = ', '.join (variables_before)\n",
    "            return_values = ','.join (variables_here + variables_before)\n",
    "            for line in cell.splitlines():\n",
    "                function_code += f'{\" \" * tab_size}{line}\\n'\n",
    "            return_line = f'return {return_values}'\n",
    "            function_code = f'def {func}({arguments}):\\n' + function_code + f'{\" \" * tab_size}{return_line}\\n'\n",
    "            this_function['code'] = function_code\n",
    "            get_ipython().run_cell(function_code)\n",
    "            print (function_code)"
   ]
  },
  {
   "cell_type": "code",
   "execution_count": null,
   "metadata": {},
   "outputs": [],
   "source": [
    "#| export\n",
    "#| hide\n",
    "def load_ipython_extension(ipython):\n",
    "    \"\"\"\n",
    "    This module can be loaded via `%load_ext core.cell2func` or be configured to be autoloaded by IPython at startup time.\n",
    "    \"\"\"\n",
    "    magics = Cell2Func(ipython)\n",
    "    ipython.register_magics(magics)"
   ]
  },
  {
   "cell_type": "code",
   "execution_count": null,
   "metadata": {},
   "outputs": [],
   "source": [
    "#| export\n",
    "def keep_variables (function, field, variable_values, self=None):\n",
    "    \"\"\"\n",
    "    Store `variables` in dictionary entry `self.variables_field[function]`\n",
    "    \"\"\"\n",
    "    frame_number = 1\n",
    "    while not isinstance (self, Cell2Func):\n",
    "        fr = sys._getframe(frame_number)\n",
    "        args = argnames(fr, True)\n",
    "        if len(args)>0:\n",
    "            self = fr.f_locals[args[0]]\n",
    "        frame_number += 1\n",
    "    variable_values = {k: variable_values[k] for k in variable_values if not k.startswith ('_') and not callable(variable_values[k])}\n",
    "    function_info = getattr(self, 'function_info')\n",
    "    function_info[function][field]=variable_values"
   ]
  },
  {
   "cell_type": "code",
   "execution_count": null,
   "metadata": {},
   "outputs": [],
   "source": [
    "load_ipython_extension (get_ipython())"
   ]
  },
  {
   "cell_type": "code",
   "execution_count": null,
   "metadata": {},
   "outputs": [
    {
     "name": "stdout",
     "output_type": "stream",
     "text": [
      "a + b is 3\n",
      "a * b is 2\n",
      "{'a': 1, 'b': 2, 'c': 2}\n",
      "{'a', 'b', 'c'}\n",
      "['a', 'b', 'c']\n",
      "def final():\n",
      "    a = 1\n",
      "    b = 2\n",
      "    print (f'a + b is {a+b}')\n",
      "    c = a*b\n",
      "    print (f'a * b is {c}')\n",
      "    return a,b,c\n",
      "\n"
     ]
    }
   ],
   "source": [
    "%%function final\n",
    "a = 1\n",
    "b = 2\n",
    "print (f'a + b is {a+b}')\n",
    "c = a*b\n",
    "print (f'a * b is {c}')"
   ]
  },
  {
   "cell_type": "code",
   "execution_count": null,
   "metadata": {},
   "outputs": [
    {
     "name": "stdout",
     "output_type": "stream",
     "text": [
      "a + b is 3\n",
      "a * b is 2\n"
     ]
    },
    {
     "data": {
      "text/plain": [
       "(1, 2, 2)"
      ]
     },
     "execution_count": null,
     "metadata": {},
     "output_type": "execute_result"
    }
   ],
   "source": [
    "final ()"
   ]
  },
  {
   "cell_type": "code",
   "execution_count": null,
   "metadata": {},
   "outputs": [],
   "source": [
    "#| hide\n",
    "import nbdev; nbdev.nbdev_export()"
   ]
  }
 ],
 "metadata": {
  "kernelspec": {
   "display_name": "tsforecast",
   "language": "python",
   "name": "tsforecast"
  }
 },
 "nbformat": 4,
 "nbformat_minor": 4
}
