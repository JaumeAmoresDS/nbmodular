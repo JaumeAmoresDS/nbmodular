{
 "cells": [
  {
   "cell_type": "markdown",
   "metadata": {},
   "source": [
    "# cell2func\n",
    "\n",
    "> Convert desired notebook cells to functions. \n",
    "\n",
    "Detects function inputs automatically and function outputs semi-automatically. In the latter case, hints are provided to the developer to refine the list of outputs per each cell."
   ]
  },
  {
   "cell_type": "code",
   "execution_count": null,
   "metadata": {},
   "outputs": [],
   "source": [
    "#| default_exp core.cell2func"
   ]
  },
  {
   "cell_type": "code",
   "execution_count": null,
   "metadata": {},
   "outputs": [],
   "source": [
    "#| export\n",
    "import os\n",
    "import re\n",
    "import argparse\n",
    "import shlex\n",
    "from dataclasses import dataclass\n",
    "from functools import reduce\n",
    "from pathlib import Path\n",
    "import sys\n",
    "import ast\n",
    "from IPython import get_ipython\n",
    "from IPython.core.magic import (Magics, magics_class, line_magic,\n",
    "                                cell_magic, line_cell_magic)\n",
    "from IPython.core.magic_arguments import (argument, magic_arguments, parse_argstring)\n",
    "import ipynbname\n",
    "from sklearn.utils import Bunch\n",
    "from fastcore.all import argnames\n",
    "import nbdev"
   ]
  },
  {
   "cell_type": "markdown",
   "metadata": {},
   "source": [
    "## FunctionProcessor"
   ]
  },
  {
   "cell_type": "code",
   "execution_count": null,
   "metadata": {},
   "outputs": [],
   "source": [
    "#|export\n",
    "class FunctionProcessor (Bunch):\n",
    "    def to_file (self, file_path, mode='w'):\n",
    "        with open (file_path, mode=mode) as file:\n",
    "            file.write (self.code)\n",
    "    \n",
    "    def write (self, file):\n",
    "        file.write (self.code)\n",
    "        \n",
    "    def print (self):\n",
    "        print (self.code)\n",
    "    \n",
    "    def update_code (\n",
    "        self, \n",
    "        arguments=None, \n",
    "        return_values=None,\n",
    "        tab_size=4,\n",
    "        display=True\n",
    "    ) -> None:\n",
    "        if arguments is not None:\n",
    "            self.arguments = arguments\n",
    "        arguments = ', '.join (self.arguments)\n",
    "        if return_values is not None:\n",
    "            self.return_values = return_values\n",
    "        return_values = ','.join (self.return_values)\n",
    "        function_code = ''\n",
    "        for line in self.original_code.splitlines():\n",
    "            function_code += f'{\" \" * tab_size}{line}\\n'\n",
    "        if return_values != '':\n",
    "            return_line = f'return {return_values}'\n",
    "            return_line = f'{\" \" * tab_size}{return_line}\\n'\n",
    "        else:\n",
    "            return_line = ''\n",
    "        function_code = f'def {self.name}({arguments}):\\n' + function_code + return_line\n",
    "        self.code = function_code\n",
    "        get_ipython().run_cell(function_code)\n",
    "        if display:\n",
    "            print (function_code)"
   ]
  },
  {
   "cell_type": "markdown",
   "metadata": {},
   "source": [
    "## CellProcessor"
   ]
  },
  {
   "cell_type": "code",
   "execution_count": null,
   "metadata": {},
   "outputs": [],
   "source": [
    "#| export\n",
    "class CellProcessor():\n",
    "    \"\"\"\n",
    "    Processes the cell's code according to the magic command.\n",
    "    \"\"\"\n",
    "    def __init__(self, **kwargs):\n",
    "        self.function_info = Bunch()\n",
    "        self.function_list = []\n",
    "        self.file_name = ipynbname.name().replace ('.ipynb', '.py')\n",
    "        self.nbs_folder = self.get_nbs_path ()\n",
    "        self.lib_folder = self.get_lib_path ()\n",
    "        nb_path = ipynbname.path ()\n",
    "        index = nb_path.parts.index(self.nbs_folder.name)\n",
    "        self.file_path = (self.nbs_folder.parent / self.lib_folder.name).joinpath (*nb_path.parts[index+1:])\n",
    "        \n",
    "        self.parser = argparse.ArgumentParser(description='Process some integers.')\n",
    "        self.parser.add_argument('-i', '--input', type=str, nargs='+', help='input')\n",
    "        self.parser.add_argument('-o', '--output', type=str, nargs='+', help='output')\n",
    "\n",
    "        \n",
    "    def cell2file (self, folder, cell):\n",
    "        folder = Path(folder)\n",
    "        folder.mkdir(parents=True, exist_ok=True)\n",
    "\n",
    "        with open(folder / \"module.py\", \"w\") as file_handle:\n",
    "            file_handle.write(cell)\n",
    "\n",
    "        get_ipython().run_cell(cell)\n",
    "                    \n",
    "    def function (\n",
    "        self,\n",
    "        func, \n",
    "        cell,\n",
    "        input=None,\n",
    "        unknown_input=True,\n",
    "        output=None,\n",
    "        unknown_output=True,\n",
    "        collect_variables_values=True,\n",
    "        make_function=True,\n",
    "        tab_size=4,\n",
    "        update_previous_functions=True\n",
    "    ) -> None:\n",
    "        \n",
    "        this_function = FunctionProcessor (\n",
    "            idx=len(self.function_list), \n",
    "            original_code=cell, \n",
    "            name=func, \n",
    "            values_before=[]\n",
    "        )\n",
    "        if func not in self.function_info:\n",
    "            self.function_info[func] = this_function\n",
    "            self.function_list.append (this_function)\n",
    "            \n",
    "        idx = this_function.idx\n",
    "        \n",
    "        # get variables specific about this function\n",
    "        if collect_variables_values:\n",
    "            get_variables_before_code = f'\\nkeep_variables (\"{func}\", \"values_before\", locals ())'\n",
    "            get_ipython().run_cell(get_variables_before_code)\n",
    "            \n",
    "            get_variables_here_code = cell + f'\\nkeep_variables (\"{func}\", \"values_here\", locals ())'\n",
    "            get_ipython().run_cell(get_variables_here_code)\n",
    "            values_before, values_here = this_function['values_before'], this_function['values_here']\n",
    "            values_here = {k:values_here[k] for k in set(values_here).difference(values_before)}\n",
    "            this_function['values_here'] = values_here\n",
    "            print (values_here)\n",
    "        \n",
    "        root = ast.parse (cell)\n",
    "        variables_here = {node.id for node in ast.walk(root) if isinstance(node, ast.Name) and not callable(eval(node.id))}\n",
    "        print (variables_here)\n",
    "        if idx > 0:\n",
    "            variables_before = reduce (lambda x, y: x['variables_here'] | y['variables_here'], self.function_list[:idx])\n",
    "        else:\n",
    "            variables_before = []\n",
    "        variables_here = sorted (variables_here.difference(variables_before))\n",
    "        print (variables_here)\n",
    "        this_function.update (variables_here=variables_here, variables_before=variables_here+variables_before, variables_after=[])\n",
    "        \n",
    "        if make_function:\n",
    "            this_function.update_code ( \n",
    "                arguments=variables_before if unknown_input else input, \n",
    "                return_values=(variables_here+variables_before) if unknown_output else output,\n",
    "                tab_size=tab_size\n",
    "            )\n",
    "            \n",
    "        for function in self.function_list[:idx]:\n",
    "            function.variables_after += [v for v in this_function.variables_here if v not in function.variables_after]\n",
    "            if update_previous_functions and unknown_output:\n",
    "                this_function.update_code (function, return_values=function.variables_after, tab_size=tab_size)\n",
    "                \n",
    "    def parse_signature (self, line):\n",
    "        argv = shlex.split(line, posix=(os.name == 'posix'))\n",
    "        \n",
    "        function_name=argv[0]\n",
    "        signature = dict(\n",
    "            input=None,\n",
    "            unknown_input=True,\n",
    "            output=None,\n",
    "            unknown_output=True\n",
    "        )\n",
    "        found_io = False\n",
    "        for idx, arg in enumerate(argv[1:], 1):\n",
    "            if arg and arg.startswith('-') and arg != '-' and arg != '->':\n",
    "                found_io = True\n",
    "                break\n",
    "        if found_io:\n",
    "            pars = self.parser.parse_args(argv[idx:])\n",
    "            unknown_input = 'input' not in pars\n",
    "            if not unknown_input:\n",
    "                signature.update (input=pars.input, unknown_input=False)\n",
    "            unknown_output = 'output' not in pars\n",
    "            if not unknown_output:\n",
    "                signature.update (output=pars.output, unknown_output=False)\n",
    "            \n",
    "        print (function_name, signature)\n",
    "        return function_name, signature\n",
    "    \n",
    "    def write (self):\n",
    "        with open (str(self.file_path), 'w') as file:\n",
    "            for function in self.function_list:\n",
    "                function.write (file)\n",
    "                \n",
    "    def print (self):\n",
    "        for function in self.function_list:\n",
    "            function.print ()\n",
    "        \n",
    "    def get_lib_path (self):\n",
    "        return nbdev.config.get_config()['lib_path']\n",
    "                   \n",
    "    def get_nbs_path (self):\n",
    "        return nbdev.config.get_config()['nbs_path']"
   ]
  },
  {
   "cell_type": "markdown",
   "metadata": {},
   "source": [
    "## CellProcessorMagic"
   ]
  },
  {
   "cell_type": "code",
   "execution_count": null,
   "metadata": {},
   "outputs": [],
   "source": [
    "#| export\n",
    "@magics_class\n",
    "class CellProcessorMagic (Magics):\n",
    "    \"\"\"\n",
    "    Base magic class for converting cells to modular functions.\n",
    "    \"\"\"\n",
    "    def __init__(self, shell, **kwargs):\n",
    "        super().__init__(shell)\n",
    "        self.processor = CellProcessor (magic=self, **kwargs)\n",
    "        \n",
    "    @cell_magic\n",
    "    def cell2file (self, folder, cell):\n",
    "        self.processor.cell2file (folder, cell)\n",
    "    \n",
    "    @cell_magic\n",
    "    def function (self, line, cell):\n",
    "        \"Converts cell to function\"\n",
    "        function_name, signature = self.processor.parse_signature (line)\n",
    "        self.processor.function (function_name, cell, **signature)\n",
    "    \n",
    "    @line_magic\n",
    "    def write (self, line):\n",
    "        return self.processor.write ()\n",
    "    \n",
    "    @line_magic\n",
    "    def print (self, line):\n",
    "        return self.processor.print ()\n",
    "        \n",
    "    @line_magic\n",
    "    def cell_processor (self, line):\n",
    "        return self.processor\n",
    "        \n",
    "          \n",
    "    @line_magic\n",
    "    def match (self, line):\n",
    "        p0 = '[a-zA-Z]\\S*\\s*\\\\([^-()]*\\\\)\\s*->\\s*\\\\([^-()]*\\\\)'\n",
    "        p = '\\\\([^-()]*\\\\)'\n",
    "        m = re.search (p0, line)\n",
    "        if m is not None:\n",
    "            inp, out = re.findall (p, line)\n",
    "            print (inp)\n",
    "            print (out)"
   ]
  },
  {
   "cell_type": "code",
   "execution_count": null,
   "metadata": {},
   "outputs": [],
   "source": []
  },
  {
   "cell_type": "markdown",
   "metadata": {},
   "source": [
    "## load_ipython_extension"
   ]
  },
  {
   "cell_type": "code",
   "execution_count": null,
   "metadata": {},
   "outputs": [],
   "source": [
    "#| export\n",
    "#| hide\n",
    "def load_ipython_extension(ipython):\n",
    "    \"\"\"\n",
    "    This module can be loaded via `%load_ext core.cell2func` or be configured to be autoloaded by IPython at startup time.\n",
    "    \"\"\"\n",
    "    magics = CellProcessorMagic(ipython)\n",
    "    ipython.register_magics(magics)"
   ]
  },
  {
   "cell_type": "markdown",
   "metadata": {},
   "source": [
    "## keep_variables"
   ]
  },
  {
   "cell_type": "code",
   "execution_count": null,
   "metadata": {},
   "outputs": [],
   "source": [
    "#| export\n",
    "def keep_variables (function, field, variable_values, self=None):\n",
    "    \"\"\"\n",
    "    Store `variables` in dictionary entry `self.variables_field[function]`\n",
    "    \"\"\"\n",
    "    frame_number = 1\n",
    "    while not isinstance (self, CellProcessor):\n",
    "        fr = sys._getframe(frame_number)\n",
    "        args = argnames(fr, True)\n",
    "        if len(args)>0:\n",
    "            self = fr.f_locals[args[0]]\n",
    "        frame_number += 1\n",
    "    variable_values = {k: variable_values[k] for k in variable_values if not k.startswith ('_') and not callable(variable_values[k])}\n",
    "    function_info = getattr(self, 'function_info')\n",
    "    function_info[function][field]=variable_values"
   ]
  },
  {
   "cell_type": "markdown",
   "metadata": {},
   "source": [
    "## Usage"
   ]
  },
  {
   "cell_type": "code",
   "execution_count": null,
   "metadata": {},
   "outputs": [],
   "source": [
    "load_ipython_extension (get_ipython())"
   ]
  },
  {
   "cell_type": "code",
   "execution_count": null,
   "metadata": {},
   "outputs": [
    {
     "name": "stdout",
     "output_type": "stream",
     "text": [
      "['fun', '(a,', 'b,', 'c)', '->', '(d,', 'e,', 'f)', '-i', 'a', 'c', '-o', 'b', 'd']\n",
      "fun\n",
      "Namespace(input=['a', 'c'], output=['b', 'd'])\n"
     ]
    }
   ],
   "source": [
    "%%other fun (a, b, c) -> (d, e, f) -i a c -o b d\n",
    "print ('yes')"
   ]
  },
  {
   "cell_type": "code",
   "execution_count": null,
   "metadata": {},
   "outputs": [
    {
     "name": "stdout",
     "output_type": "stream",
     "text": [
      "my_final {'input': ['a', 'b'], 'unknown_input': False, 'output': None, 'unknown_output': False}\n",
      "a + b is 3\n",
      "a * b is 2\n",
      "{}\n",
      "{'b', 'a', 'c'}\n",
      "['a', 'b', 'c']\n"
     ]
    },
    {
     "ename": "TypeError",
     "evalue": "can only concatenate list (not \"FunctionProcessor\") to list",
     "output_type": "error",
     "traceback": [
      "\u001b[0;31m---------------------------------------------------------------------------\u001b[0m",
      "\u001b[0;31mTypeError\u001b[0m                                 Traceback (most recent call last)",
      "Cell \u001b[0;32mIn[159], line 1\u001b[0m\n\u001b[0;32m----> 1\u001b[0m \u001b[43mget_ipython\u001b[49m\u001b[43m(\u001b[49m\u001b[43m)\u001b[49m\u001b[38;5;241;43m.\u001b[39;49m\u001b[43mrun_cell_magic\u001b[49m\u001b[43m(\u001b[49m\u001b[38;5;124;43m'\u001b[39;49m\u001b[38;5;124;43mfunction\u001b[39;49m\u001b[38;5;124;43m'\u001b[39;49m\u001b[43m,\u001b[49m\u001b[43m \u001b[49m\u001b[38;5;124;43m'\u001b[39;49m\u001b[38;5;124;43mmy_final -i a b\u001b[39;49m\u001b[38;5;124;43m'\u001b[39;49m\u001b[43m,\u001b[49m\u001b[43m \u001b[49m\u001b[38;5;124;43m\"\u001b[39;49m\u001b[38;5;124;43ma = 1\u001b[39;49m\u001b[38;5;130;43;01m\\n\u001b[39;49;00m\u001b[38;5;124;43mb = 2\u001b[39;49m\u001b[38;5;130;43;01m\\n\u001b[39;49;00m\u001b[38;5;124;43mprint (f\u001b[39;49m\u001b[38;5;124;43m'\u001b[39;49m\u001b[38;5;124;43ma + b is \u001b[39;49m\u001b[38;5;124;43m{\u001b[39;49m\u001b[38;5;124;43ma+b}\u001b[39;49m\u001b[38;5;124;43m'\u001b[39;49m\u001b[38;5;124;43m)\u001b[39;49m\u001b[38;5;130;43;01m\\n\u001b[39;49;00m\u001b[38;5;124;43mc = a*b\u001b[39;49m\u001b[38;5;130;43;01m\\n\u001b[39;49;00m\u001b[38;5;124;43mprint (f\u001b[39;49m\u001b[38;5;124;43m'\u001b[39;49m\u001b[38;5;124;43ma * b is \u001b[39;49m\u001b[38;5;132;43;01m{c}\u001b[39;49;00m\u001b[38;5;124;43m'\u001b[39;49m\u001b[38;5;124;43m)\u001b[39;49m\u001b[38;5;130;43;01m\\n\u001b[39;49;00m\u001b[38;5;124;43m\"\u001b[39;49m\u001b[43m)\u001b[49m\n",
      "File \u001b[0;32m~/miniconda3/envs/tsforecast/lib/python3.10/site-packages/IPython/core/interactiveshell.py:2430\u001b[0m, in \u001b[0;36mInteractiveShell.run_cell_magic\u001b[0;34m(self, magic_name, line, cell)\u001b[0m\n\u001b[1;32m   2428\u001b[0m \u001b[38;5;28;01mwith\u001b[39;00m \u001b[38;5;28mself\u001b[39m\u001b[38;5;241m.\u001b[39mbuiltin_trap:\n\u001b[1;32m   2429\u001b[0m     args \u001b[38;5;241m=\u001b[39m (magic_arg_s, cell)\n\u001b[0;32m-> 2430\u001b[0m     result \u001b[38;5;241m=\u001b[39m \u001b[43mfn\u001b[49m\u001b[43m(\u001b[49m\u001b[38;5;241;43m*\u001b[39;49m\u001b[43margs\u001b[49m\u001b[43m,\u001b[49m\u001b[43m \u001b[49m\u001b[38;5;241;43m*\u001b[39;49m\u001b[38;5;241;43m*\u001b[39;49m\u001b[43mkwargs\u001b[49m\u001b[43m)\u001b[49m\n\u001b[1;32m   2432\u001b[0m \u001b[38;5;66;03m# The code below prevents the output from being displayed\u001b[39;00m\n\u001b[1;32m   2433\u001b[0m \u001b[38;5;66;03m# when using magics with decodator @output_can_be_silenced\u001b[39;00m\n\u001b[1;32m   2434\u001b[0m \u001b[38;5;66;03m# when the last Python token in the expression is a ';'.\u001b[39;00m\n\u001b[1;32m   2435\u001b[0m \u001b[38;5;28;01mif\u001b[39;00m \u001b[38;5;28mgetattr\u001b[39m(fn, magic\u001b[38;5;241m.\u001b[39mMAGIC_OUTPUT_CAN_BE_SILENCED, \u001b[38;5;28;01mFalse\u001b[39;00m):\n",
      "Cell \u001b[0;32mIn[148], line 19\u001b[0m, in \u001b[0;36mCellProcessorMagic.function\u001b[0;34m(self, line, cell)\u001b[0m\n\u001b[1;32m     17\u001b[0m \u001b[38;5;124m\"\u001b[39m\u001b[38;5;124mConverts cell to function\u001b[39m\u001b[38;5;124m\"\u001b[39m\n\u001b[1;32m     18\u001b[0m function_name, signature \u001b[38;5;241m=\u001b[39m \u001b[38;5;28mself\u001b[39m\u001b[38;5;241m.\u001b[39mprocessor\u001b[38;5;241m.\u001b[39mparse_signature (line)\n\u001b[0;32m---> 19\u001b[0m \u001b[38;5;28;43mself\u001b[39;49m\u001b[38;5;241;43m.\u001b[39;49m\u001b[43mprocessor\u001b[49m\u001b[38;5;241;43m.\u001b[39;49m\u001b[43mfunction\u001b[49m\u001b[43m \u001b[49m\u001b[43m(\u001b[49m\u001b[43mfunction_name\u001b[49m\u001b[43m,\u001b[49m\u001b[43m \u001b[49m\u001b[43mcell\u001b[49m\u001b[43m,\u001b[49m\u001b[43m \u001b[49m\u001b[38;5;241;43m*\u001b[39;49m\u001b[38;5;241;43m*\u001b[39;49m\u001b[43msignature\u001b[49m\u001b[43m)\u001b[49m\n",
      "Cell \u001b[0;32mIn[147], line 77\u001b[0m, in \u001b[0;36mCellProcessor.function\u001b[0;34m(self, func, cell, input, unknown_input, output, unknown_output, collect_variables_values, make_function, tab_size, update_previous_functions)\u001b[0m\n\u001b[1;32m     75\u001b[0m variables_here \u001b[38;5;241m=\u001b[39m \u001b[38;5;28msorted\u001b[39m (variables_here\u001b[38;5;241m.\u001b[39mdifference(variables_before))\n\u001b[1;32m     76\u001b[0m \u001b[38;5;28mprint\u001b[39m (variables_here)\n\u001b[0;32m---> 77\u001b[0m this_function\u001b[38;5;241m.\u001b[39mupdate (variables_here\u001b[38;5;241m=\u001b[39mvariables_here, variables_before\u001b[38;5;241m=\u001b[39m\u001b[43mvariables_here\u001b[49m\u001b[38;5;241;43m+\u001b[39;49m\u001b[43mvariables_before\u001b[49m, variables_after\u001b[38;5;241m=\u001b[39m[])\n\u001b[1;32m     79\u001b[0m \u001b[38;5;28;01mif\u001b[39;00m make_function:\n\u001b[1;32m     80\u001b[0m     this_function\u001b[38;5;241m.\u001b[39mupdate_code ( \n\u001b[1;32m     81\u001b[0m         arguments\u001b[38;5;241m=\u001b[39mvariables_before \u001b[38;5;28;01mif\u001b[39;00m unknown_input \u001b[38;5;28;01melse\u001b[39;00m \u001b[38;5;28minput\u001b[39m, \n\u001b[1;32m     82\u001b[0m         return_values\u001b[38;5;241m=\u001b[39m(variables_here\u001b[38;5;241m+\u001b[39mvariables_before) \u001b[38;5;28;01mif\u001b[39;00m unknown_output \u001b[38;5;28;01melse\u001b[39;00m output,\n\u001b[1;32m     83\u001b[0m         tab_size\u001b[38;5;241m=\u001b[39mtab_size\n\u001b[1;32m     84\u001b[0m     )\n",
      "\u001b[0;31mTypeError\u001b[0m: can only concatenate list (not \"FunctionProcessor\") to list"
     ]
    }
   ],
   "source": [
    "%%function my_final -i a b\n",
    "a = 1\n",
    "b = 2\n",
    "print (f'a + b is {a+b}')\n",
    "c = a*b\n",
    "print (f'a * b is {c}')"
   ]
  },
  {
   "cell_type": "code",
   "execution_count": null,
   "metadata": {},
   "outputs": [
    {
     "name": "stdout",
     "output_type": "stream",
     "text": [
      "> \u001b[0;32m/tmp/ipykernel_388/2481124064.py\u001b[0m(77)\u001b[0;36mfunction\u001b[0;34m()\u001b[0m\n",
      "\u001b[0;32m     75 \u001b[0;31m        \u001b[0mvariables_here\u001b[0m \u001b[0;34m=\u001b[0m \u001b[0msorted\u001b[0m \u001b[0;34m(\u001b[0m\u001b[0mvariables_here\u001b[0m\u001b[0;34m.\u001b[0m\u001b[0mdifference\u001b[0m\u001b[0;34m(\u001b[0m\u001b[0mvariables_before\u001b[0m\u001b[0;34m)\u001b[0m\u001b[0;34m)\u001b[0m\u001b[0;34m\u001b[0m\u001b[0;34m\u001b[0m\u001b[0m\n",
      "\u001b[0m\u001b[0;32m     76 \u001b[0;31m        \u001b[0mprint\u001b[0m \u001b[0;34m(\u001b[0m\u001b[0mvariables_here\u001b[0m\u001b[0;34m)\u001b[0m\u001b[0;34m\u001b[0m\u001b[0;34m\u001b[0m\u001b[0m\n",
      "\u001b[0m\u001b[0;32m---> 77 \u001b[0;31m        \u001b[0mthis_function\u001b[0m\u001b[0;34m.\u001b[0m\u001b[0mupdate\u001b[0m \u001b[0;34m(\u001b[0m\u001b[0mvariables_here\u001b[0m\u001b[0;34m=\u001b[0m\u001b[0mvariables_here\u001b[0m\u001b[0;34m,\u001b[0m \u001b[0mvariables_before\u001b[0m\u001b[0;34m=\u001b[0m\u001b[0mvariables_here\u001b[0m\u001b[0;34m+\u001b[0m\u001b[0mvariables_before\u001b[0m\u001b[0;34m,\u001b[0m \u001b[0mvariables_after\u001b[0m\u001b[0;34m=\u001b[0m\u001b[0;34m[\u001b[0m\u001b[0;34m]\u001b[0m\u001b[0;34m)\u001b[0m\u001b[0;34m\u001b[0m\u001b[0;34m\u001b[0m\u001b[0m\n",
      "\u001b[0m\u001b[0;32m     78 \u001b[0;31m\u001b[0;34m\u001b[0m\u001b[0m\n",
      "\u001b[0m\u001b[0;32m     79 \u001b[0;31m        \u001b[0;32mif\u001b[0m \u001b[0mmake_function\u001b[0m\u001b[0;34m:\u001b[0m\u001b[0;34m\u001b[0m\u001b[0;34m\u001b[0m\u001b[0m\n",
      "\u001b[0m\n"
     ]
    },
    {
     "name": "stdin",
     "output_type": "stream",
     "text": [
      "ipdb>  variables_here\n"
     ]
    },
    {
     "name": "stdout",
     "output_type": "stream",
     "text": [
      "['a', 'b', 'c']\n"
     ]
    },
    {
     "name": "stdin",
     "output_type": "stream",
     "text": [
      "ipdb>  variables_before\n"
     ]
    },
    {
     "name": "stdout",
     "output_type": "stream",
     "text": [
      "{'idx': 0, 'original_code': \"a = 1\\nb = 2\\nprint (f'a + b is {a+b}')\\nc = a*b\\nprint (f'a * b is {c}')\\n\", 'name': 'final', 'values_before': {'In': ['', '#| default_exp core.cell2func', '#| export\\nimport os\\nimport argparse\\nimport shlex\\nfrom dataclasses import dataclass\\nfrom functools import reduce\\nfrom pathlib import Path\\nimport sys\\nimport ast\\nfrom IPython import get_ipython\\nfrom IPython.core.magic import (Magics, magics_class, line_magic,\\n                                cell_magic, line_cell_magic)\\nfrom IPython.core.magic_arguments import (argument, magic_arguments, parse_argstring)\\nimport ipynbname\\nfrom sklearn.utils import Bunch\\nfrom fastcore.all import argnames\\nimport nbdev', '#|export\\nclass FunctionProcessor (Bunch):\\n    def to_file (self, file_path, mode=\\'w\\'):\\n        with open (file_path, mode=mode) as file:\\n            file.write (self.code)\\n    \\n    def write (self, file):\\n        file.write (self.code)\\n        \\n    def print (self):\\n        print (self.code)\\n    \\n    def update_code (\\n        self, \\n        arguments=None, \\n        return_values=None,\\n        tab_size=4,\\n        display=True\\n    ) -> None:\\n        if arguments is not None:\\n            self.arguments = arguments\\n        arguments = \\', \\'.join (self.arguments)\\n        if return_values is not None:\\n            self.return_values = return_values\\n        return_values = \\',\\'.join (self.return_values)\\n        function_code = \\'\\'\\n        for line in self.original_code.splitlines():\\n            function_code += f\\'{\" \" * tab_size}{line}\\\\n\\'\\n        if return_values != \\'\\':\\n            return_line = f\\'return {return_values}\\'\\n            return_line = f\\'{\" \" * tab_size}{return_line}\\\\n\\'\\n        else:\\n            return_line = \\'\\'\\n        function_code = f\\'def {self.name}({arguments}):\\\\n\\' + function_code + return_line\\n        self.code = function_code\\n        get_ipython().run_cell(function_code)\\n        if display:\\n            print (function_code)', '#| export\\nclass CellProcessor():\\n    \"\"\"\\n    Processes the cell\\'s code according to the magic command.\\n    \"\"\"\\n    def __init__(self, **kwargs):\\n        self.function_info = Bunch()\\n        self.function_list = []\\n        self.file_name = ipynbname.name().replace (\\'.ipynb\\', \\'.py\\')\\n        self.nbs_folder = self.get_nbs_path ()\\n        self.lib_folder = self.get_lib_path ()\\n        nb_path = ipynbname.path ()\\n        index = nb_path.parts.index(self.nbs_folder.name)\\n        self.file_path = (self.nbs_folder.parent / self.lib_folder.name).joinpath (*nb_path.parts[index+1:])\\n\\n        \\n    def cell2file (self, folder, cell):\\n        folder = Path(folder)\\n        folder.mkdir(parents=True, exist_ok=True)\\n\\n        with open(folder / \"module.py\", \"w\") as file_handle:\\n            file_handle.write(cell)\\n\\n        get_ipython().run_cell(cell)\\n                    \\n    def function (\\n        self,\\n        func, \\n        cell,\\n        collect_variables_values=True,\\n        make_function=True,\\n        tab_size=4,\\n        update_previous_functions=True,\\n        discover_outputs=True\\n    ) -> None:\\n        \\n        this_function = FunctionProcessor (\\n            idx=len(self.function_list), \\n            original_code=cell, \\n            name=func, \\n            discover_outputs=discover_outputs,\\n            values_before=[]\\n        )\\n        if func not in self.function_info:\\n            self.function_info[func] = this_function\\n            self.function_list.append (this_function)\\n            \\n        idx = this_function.idx\\n        \\n        # get variables specific about this function\\n        if collect_variables_values:\\n            get_variables_before_code = f\\'\\\\nkeep_variables (\"{func}\", \"values_before\", locals ())\\'\\n            get_ipython().run_cell(get_variables_before_code)\\n            \\n            get_variables_here_code = cell + f\\'\\\\nkeep_variables (\"{func}\", \"values_here\", locals ())\\'\\n            get_ipython().run_cell(get_variables_here_code)\\n            values_before, values_here = this_function[\\'values_before\\'], this_function[\\'values_here\\']\\n            values_here = {k:values_here[k] for k in set(values_here).difference(values_before)}\\n            this_function[\\'values_here\\'] = values_here\\n            print (values_here)\\n        \\n        root = ast.parse (cell)\\n        variables_here = {node.id for node in ast.walk(root) if isinstance(node, ast.Name) and not callable(eval(node.id))}\\n        print (variables_here)\\n        if idx > 0:\\n            variables_before = reduce (lambda x, y: x[\\'variables_here\\'] | y[\\'variables_here\\'], self.function_list[:idx])\\n        else:\\n            variables_before = []\\n        variables_here = sorted (variables_here.difference(variables_before))\\n        print (variables_here)\\n        this_function.update (variables_here=variables_here, variables_before=variables_here+variables_before, variables_after=[])\\n        \\n        if make_function:\\n            this_function.update_code ( \\n                arguments=variables_before, \\n                return_values=variables_here+variables_before,\\n                tab_size=tab_size\\n            )\\n            \\n        for function in self.function_list[:idx]:\\n            function.variables_after += [v for v in this_function.variables_here if v not in function.variables_after]\\n            if update_previous_functions and function.discover_outputs:\\n                this_function.update_code (function, return_values=function.variables_after, tab_size=tab_size)\\n    \\n    def write (self):\\n        with open (str(self.file_path), \\'w\\') as file:\\n            for function in self.function_list:\\n                function.write (file)\\n                \\n    def print (self):\\n        for function in self.function_list:\\n            function.print ()\\n        \\n    def get_lib_path (self):\\n        return nbdev.config.get_config()[\\'lib_path\\']\\n                   \\n    def get_nbs_path (self):\\n        return nbdev.config.get_config()[\\'nbs_path\\']', '#| export\\n@magics_class\\nclass CellProcessorMagic (Magics):\\n    \"\"\"\\n    Base magic class for converting cells to modular functions.\\n    \"\"\"\\n    def __init__(self, shell, **kwargs):\\n        super().__init__(shell)\\n        self.processor = CellProcessor (magic=self, **kwargs)\\n        self.parser = argparse.ArgumentParser(description=\\'Process some integers.\\')\\n        self.parser.add_argument(\\'-i\\', \\'--input\\', type=str, nargs=\\'+\\', help=\\'input\\')\\n        self.parser.add_argument(\\'-o\\', \\'--output\\', type=str, nargs=\\'+\\', help=\\'output\\')\\n        \\n    @cell_magic\\n    def cell2file (self, folder, cell):\\n        self.processor.cell2file (folder, cell)\\n    \\n    @cell_magic\\n    def function (self, func, cell):\\n        \"Converts cell to function\"\\n        self.processor.function (func, cell)\\n    \\n    @line_magic\\n    def write (self, line):\\n        return self.processor.write ()\\n    \\n    @line_magic\\n    def print (self, line):\\n        return self.processor.print ()\\n        \\n    @line_magic\\n    def cell_processor (self, line):\\n        return self.processor\\n\\n    @cell_magic\\n    def other (self, line, cell):\\n        argv = shlex.split(line, posix=(os.name == \\'posix\\'))\\n        found = False\\n        for idx, arg in enumerate(argv):\\n            if arg == \\'(\\'\\n            if arg and arg.startswith(\\'-\\') and arg != \\'-\\' and arg != \\'->\\':\\n                found = True\\n                break\\n        function = argv[0]\\n        print (function)\\n        if found:\\n            pars = self.parser.parse_args(argv[idx:])\\n            print (pars)', '#| export\\n@magics_class\\nclass CellProcessorMagic (Magics):\\n    \"\"\"\\n    Base magic class for converting cells to modular functions.\\n    \"\"\"\\n    def __init__(self, shell, **kwargs):\\n        super().__init__(shell)\\n        self.processor = CellProcessor (magic=self, **kwargs)\\n        self.parser = argparse.ArgumentParser(description=\\'Process some integers.\\')\\n        self.parser.add_argument(\\'-i\\', \\'--input\\', type=str, nargs=\\'+\\', help=\\'input\\')\\n        self.parser.add_argument(\\'-o\\', \\'--output\\', type=str, nargs=\\'+\\', help=\\'output\\')\\n        \\n    @cell_magic\\n    def cell2file (self, folder, cell):\\n        self.processor.cell2file (folder, cell)\\n    \\n    @cell_magic\\n    def function (self, func, cell):\\n        \"Converts cell to function\"\\n        self.processor.function (func, cell)\\n    \\n    @line_magic\\n    def write (self, line):\\n        return self.processor.write ()\\n    \\n    @line_magic\\n    def print (self, line):\\n        return self.processor.print ()\\n        \\n    @line_magic\\n    def cell_processor (self, line):\\n        return self.processor\\n\\n    @cell_magic\\n    def other (self, line, cell):\\n        argv = shlex.split(line, posix=(os.name == \\'posix\\'))\\n        found = False\\n        print (argv)\\n        for idx, arg in enumerate(argv):\\n            if arg and arg.startswith(\\'-\\') and arg != \\'-\\' and arg != \\'->\\':\\n                found = True\\n                break\\n        function = argv[0]\\n        print (function)\\n        if found:\\n            pars = self.parser.parse_args(argv[idx:])\\n            print (pars)', '#| export\\n#| hide\\ndef load_ipython_extension(ipython):\\n    \"\"\"\\n    This module can be loaded via `%load_ext core.cell2func` or be configured to be autoloaded by IPython at startup time.\\n    \"\"\"\\n    magics = CellProcessorMagic(ipython)\\n    ipython.register_magics(magics)', '#| export\\ndef keep_variables (function, field, variable_values, self=None):\\n    \"\"\"\\n    Store `variables` in dictionary entry `self.variables_field[function]`\\n    \"\"\"\\n    frame_number = 1\\n    while not isinstance (self, CellProcessor):\\n        fr = sys._getframe(frame_number)\\n        args = argnames(fr, True)\\n        if len(args)>0:\\n            self = fr.f_locals[args[0]]\\n        frame_number += 1\\n    variable_values = {k: variable_values[k] for k in variable_values if not k.startswith (\\'_\\') and not callable(variable_values[k])}\\n    function_info = getattr(self, \\'function_info\\')\\n    function_info[function][field]=variable_values', 'load_ipython_extension (get_ipython())', 'get_ipython().run_cell_magic(\\'other\\', \\'fun (a, b, c) -> (d, e, f) -i a c -o b d\\', \"print (\\'yes\\')\\\\n\")', 'get_ipython().run_cell_magic(\\'function\\', \\'final\\', \"a = 1\\\\nb = 2\\\\nprint (f\\'a + b is {a+b}\\')\\\\nc = a*b\\\\nprint (f\\'a * b is {c}\\')\\\\n\")', \"get_ipython().run_line_magic('print', 'all')\", \"a = get_ipython().run_line_magic('cell_processor', '1')\", 'a.file_name', 'final ()', 'import re', \"get_ipython().run_line_magic('pinfo', 're.search')\", \"re.search ('(.)', '(hello'))\", \"re.search ('(.)', '(hello)')\", \"get_ipython().run_line_magic('pinfo', 're')\", \"re.search ('h', '(hello)')\", \"re.search ('n', '(hello)')\", \"re.search ('(', '(hello)')\", \"re.search ('\\\\\\\\(', '(hello)')\", \"re.search ('\\\\\\\\)', '(hello)')\", \"re.search ('\\\\\\\\(.\\\\\\\\)', '(hello)')\", \"re.search ('\\\\\\\\(.\\\\)', '(hello)')\", \"re.search ('\\\\\\\\(.+\\\\\\\\)', '(hello)')\", \"re.search ('\\\\\\\\(.+\\\\\\\\)', 'myfun (a, b, c) -> (d, e, f)')\", \"re.search ('\\\\\\\\(~[()]+\\\\\\\\)', 'myfun (a, b, c) -> (d, e, f)')\", \"re.search ('\\\\\\\\(^[()]+\\\\\\\\)', 'myfun (a, b, c) -> (d, e, f)')\", \"re.search ('\\\\\\\\(?![()]+\\\\\\\\)', 'myfun (a, b, c) -> (d, e, f)')\", \"re.search ('\\\\\\\\(?!(\\\\\\\\)', 'myfun (a, b, c) -> (d, e, f)')\", \"re.search ('\\\\\\\\(\\\\\\\\)', 'myfun (a, b, c) -> (d, e, f)')\", \"re.search ('\\\\\\\\(.\\\\\\\\)', 'myfun (a, b, c) -> (d, e, f)')\", \"re.search ('\\\\\\\\(.*\\\\\\\\)', 'myfun (a, b, c) -> (d, e, f)')\", \"re.search ('\\\\\\\\([.]*\\\\\\\\)', 'myfun (a, b, c) -> (d, e, f)')\", \"re.search ('\\\\\\\\([.*]\\\\\\\\)', 'myfun (a, b, c) -> (d, e, f)')\", \"re.search ('\\\\\\\\([a,b,c]\\\\\\\\)', 'myfun (a, b, c) -> (d, e, f)')\", \"re.search ('\\\\\\\\([a-c]\\\\\\\\)', 'myfun (a, b, c) -> (d, e, f)')\", \"re.search ('\\\\\\\\(.*\\\\\\\\)', 'myfun (a, b, c) -> (d, e, f)')\", \"re.search ('\\\\\\\\(.*\\\\\\\\) ->', 'myfun (a, b, c) -> (d, e, f)')\", \"re.search ('\\\\\\\\(.*\\\\\\\\) [->]', 'myfun (a, b, c) -> (d, e, f)')\", \"re.search ('\\\\\\\\(.*\\\\\\\\) -[->]', 'myfun (a, b, c) -> (d, e, f)')\", \"re.search ('\\\\\\\\(.*\\\\\\\\) -[!>]', 'myfun (a, b, c) -> (d, e, f)')\", \"re.search ('\\\\\\\\(.*\\\\\\\\) !-', 'myfun (a, b, c) -> (d, e, f)')\", \"re.search ('\\\\\\\\([-]*\\\\\\\\)', 'myfun (a, b, c) -> (d, e, f)')\", \"re.search ('\\\\\\\\([\\\\\\\\-]*\\\\\\\\)', 'myfun (a, b, c) -> (d, e, f)')\", \"re.search ('\\\\\\\\([^-]*\\\\\\\\)', 'myfun (a, b, c) -> (d, e, f)')\", \"re.search ('\\\\\\\\([^-()]*\\\\\\\\)', 'myfun (a, b, c) -> (d, e, f)')\", \"re.split ('\\\\\\\\([^-()]*\\\\\\\\)', 'myfun (a, b, c) -> (d, e, f)')\", \"re.findall ('\\\\\\\\([^-()]*\\\\\\\\)', 'myfun (a, b, c) -> (d, e, f)')\", \"re.match ('\\\\\\\\([^-()]*\\\\\\\\)', 'myfun (a, b, c) -> (d, e, f)')\", \"re.search ('\\\\\\\\([^-()]*\\\\\\\\)', 'myfun (a, b, c) -> (d, e, f)')\", \"p = '\\\\\\\\([^-()]*\\\\\\\\)'\\nline = 'myfun (a, b, c) -> (d, e, f)'\\nre.search (p, line)\", \"p2 = '-> \\\\\\\\([^-()]*\\\\\\\\)'\\nre.search (p, line)\", \"p2 = '-> \\\\\\\\([^-()]*\\\\\\\\)'\\nre.search (p2, line)\", \"p0 = '\\\\\\\\([^-()]*\\\\\\\\) -> \\\\\\\\([^-()]*\\\\\\\\)'\\nre.search (p0, line)\", \"p0 = '\\\\\\\\([^-()]*\\\\\\\\) -> \\\\\\\\([^-()]*\\\\\\\\)'\\nm = re.search (p0, line)\", 'm', 'm.span', 'm', 'm.empty', 'm.groups', 'm.groups()', 'm.groupdict', 'm.groupdict()', 'm.span()', 'm.span()[0]', \"p0 = '[a-zA-Z]\\\\S*\\\\\\\\([^-()]*\\\\\\\\)->\\\\\\\\([^-()]*\\\\\\\\)'\\nm = re.search (p0, line)\", \"p0 = '[a-zA-Z]\\\\S* \\\\\\\\([^-()]*\\\\\\\\) -> \\\\\\\\([^-()]*\\\\\\\\)'\\nm = re.search (p0, line)\", \"p0 = '[a-zA-Z]\\\\S* \\\\\\\\([^-()]*\\\\\\\\) -> \\\\\\\\([^-()]*\\\\\\\\)'\\nm = re.search (p0, line)\\nm\", \"p0 = '[a-zA-Z]\\\\S*\\\\\\\\([^-()]*\\\\\\\\)->\\\\\\\\([^-()]*\\\\\\\\)'\\nm = re.search (p0, line)\\nm\", \"p0 = '[a-zA-Z]\\\\S* \\\\\\\\([^-()]*\\\\\\\\)->\\\\\\\\([^-()]*\\\\\\\\)'\\nm = re.search (p0, line)\\nm\", \"p0 = '[a-zA-Z]\\\\S* \\\\\\\\([^-()]*\\\\\\\\) -> \\\\\\\\([^-()]*\\\\\\\\)'\\nm = re.search (p0, line)\\nm\", \"p0 = '[a-zA-Z]\\\\S*\\\\s*\\\\\\\\([^-()]*\\\\\\\\) -> \\\\\\\\([^-()]*\\\\\\\\)'\\nm = re.search (p0, line)\\nm\", \"p0 = '[a-zA-Z]\\\\S*\\\\s*\\\\\\\\([^-()]*\\\\\\\\)\\\\s*->\\\\s*\\\\\\\\([^-()]*\\\\\\\\)'\\nm = re.search (p0, line)\\nm\", 'if m is not None:\\n    inp, out = re.split (p0, line)\\n    print (inp)\\n    print (out)', \"p0 = '[a-zA-Z]\\\\S*\\\\s*\\\\\\\\([^-()]*\\\\\\\\)\\\\s*->\\\\s*\\\\\\\\([^-()]*\\\\\\\\)'\\np = '\\\\\\\\([^-()]*\\\\\\\\)'\\nm = re.search (p0, line)\\nm\", 'if m is not None:\\n    inp, out = re.split (p0, line)\\n    print (inp)\\n    print (out)', 'if m is not None:\\n    inp, out = re.split (p, line)\\n    print (inp)\\n    print (out)', \"p0 = '[a-zA-Z]\\\\S*\\\\s*\\\\\\\\([^-()]*\\\\\\\\)\\\\s*->\\\\s*\\\\\\\\([^-()]*\\\\\\\\)'\\np = '\\\\\\\\([^-()]*\\\\\\\\)'\\nm = re.search (p0, line)\\nm\", 'if m is not None:\\n    inp, out = re.split (p, line)\\n    print (inp)\\n    print (out)', 'if m is not None:\\n    inp = re.split (p, line)\\n    print (inp)\\n    #print (out)', 'if m is not None:\\n    inp = re.findall (p, line)\\n    print (inp)\\n    #print (out)', 'if m is not None:\\n    inp, out = re.findall (p, line)\\n    print (inp)\\n    #print (out)', 'if m is not None:\\n    inp, out = re.findall (p, line)\\n    print (inp)\\n    print (out)', '#| export\\n@magics_class\\nclass CellProcessorMagic (Magics):\\n    \"\"\"\\n    Base magic class for converting cells to modular functions.\\n    \"\"\"\\n    def __init__(self, shell, **kwargs):\\n        super().__init__(shell)\\n        self.processor = CellProcessor (magic=self, **kwargs)\\n        self.parser = argparse.ArgumentParser(description=\\'Process some integers.\\')\\n        self.parser.add_argument(\\'-i\\', \\'--input\\', type=str, nargs=\\'+\\', help=\\'input\\')\\n        self.parser.add_argument(\\'-o\\', \\'--output\\', type=str, nargs=\\'+\\', help=\\'output\\')\\n        \\n    @cell_magic\\n    def cell2file (self, folder, cell):\\n        self.processor.cell2file (folder, cell)\\n    \\n    @cell_magic\\n    def function (self, func, cell):\\n        \"Converts cell to function\"\\n        self.processor.function (func, cell)\\n    \\n    @line_magic\\n    def write (self, line):\\n        return self.processor.write ()\\n    \\n    @line_magic\\n    def print (self, line):\\n        return self.processor.print ()\\n        \\n    @line_magic\\n    def cell_processor (self, line):\\n        return self.processor\\n\\n    @cell_magic\\n    def other (self, line, cell):\\n        argv = shlex.split(line, posix=(os.name == \\'posix\\'))\\n        found = False\\n        print (argv)\\n        function = argv[0]\\n        for idx, arg in enumerate(argv[1:], 1):\\n            if arg and arg.startswith(\\'-\\') and arg != \\'-\\' and arg != \\'->\\':\\n                found = True\\n                break\\n        \\n        print (function)\\n        if found:\\n            pars = self.parser.parse_args(argv[idx:])\\n            print (pars)\\n          \\n    @line_magic\\n    def match (self, line):\\n        p0 = \\'[a-zA-Z]\\\\S*\\\\s*\\\\\\\\([^-()]*\\\\\\\\)\\\\s*->\\\\s*\\\\\\\\([^-()]*\\\\\\\\)\\'\\n        p = \\'\\\\\\\\([^-()]*\\\\\\\\)\\'\\n        m = re.search (p0, line)\\n        if m is not None:\\n            inp, out = re.findall (p, line)\\n            print (inp)\\n            print (out)', '#| default_exp core.cell2func', '#| export\\nimport os\\nimport re\\nimport argparse\\nimport shlex\\nfrom dataclasses import dataclass\\nfrom functools import reduce\\nfrom pathlib import Path\\nimport sys\\nimport ast\\nfrom IPython import get_ipython\\nfrom IPython.core.magic import (Magics, magics_class, line_magic,\\n                                cell_magic, line_cell_magic)\\nfrom IPython.core.magic_arguments import (argument, magic_arguments, parse_argstring)\\nimport ipynbname\\nfrom sklearn.utils import Bunch\\nfrom fastcore.all import argnames\\nimport nbdev', '#|export\\nclass FunctionProcessor (Bunch):\\n    def to_file (self, file_path, mode=\\'w\\'):\\n        with open (file_path, mode=mode) as file:\\n            file.write (self.code)\\n    \\n    def write (self, file):\\n        file.write (self.code)\\n        \\n    def print (self):\\n        print (self.code)\\n    \\n    def update_code (\\n        self, \\n        arguments=None, \\n        return_values=None,\\n        tab_size=4,\\n        display=True\\n    ) -> None:\\n        if arguments is not None:\\n            self.arguments = arguments\\n        arguments = \\', \\'.join (self.arguments)\\n        if return_values is not None:\\n            self.return_values = return_values\\n        return_values = \\',\\'.join (self.return_values)\\n        function_code = \\'\\'\\n        for line in self.original_code.splitlines():\\n            function_code += f\\'{\" \" * tab_size}{line}\\\\n\\'\\n        if return_values != \\'\\':\\n            return_line = f\\'return {return_values}\\'\\n            return_line = f\\'{\" \" * tab_size}{return_line}\\\\n\\'\\n        else:\\n            return_line = \\'\\'\\n        function_code = f\\'def {self.name}({arguments}):\\\\n\\' + function_code + return_line\\n        self.code = function_code\\n        get_ipython().run_cell(function_code)\\n        if display:\\n            print (function_code)', '#| export\\nclass CellProcessor():\\n    \"\"\"\\n    Processes the cell\\'s code according to the magic command.\\n    \"\"\"\\n    def __init__(self, **kwargs):\\n        self.function_info = Bunch()\\n        self.function_list = []\\n        self.file_name = ipynbname.name().replace (\\'.ipynb\\', \\'.py\\')\\n        self.nbs_folder = self.get_nbs_path ()\\n        self.lib_folder = self.get_lib_path ()\\n        nb_path = ipynbname.path ()\\n        index = nb_path.parts.index(self.nbs_folder.name)\\n        self.file_path = (self.nbs_folder.parent / self.lib_folder.name).joinpath (*nb_path.parts[index+1:])\\n\\n        \\n    def cell2file (self, folder, cell):\\n        folder = Path(folder)\\n        folder.mkdir(parents=True, exist_ok=True)\\n\\n        with open(folder / \"module.py\", \"w\") as file_handle:\\n            file_handle.write(cell)\\n\\n        get_ipython().run_cell(cell)\\n                    \\n    def function (\\n        self,\\n        func, \\n        cell,\\n        collect_variables_values=True,\\n        make_function=True,\\n        tab_size=4,\\n        update_previous_functions=True,\\n        discover_outputs=True\\n    ) -> None:\\n        \\n        this_function = FunctionProcessor (\\n            idx=len(self.function_list), \\n            original_code=cell, \\n            name=func, \\n            discover_outputs=discover_outputs,\\n            values_before=[]\\n        )\\n        if func not in self.function_info:\\n            self.function_info[func] = this_function\\n            self.function_list.append (this_function)\\n            \\n        idx = this_function.idx\\n        \\n        # get variables specific about this function\\n        if collect_variables_values:\\n            get_variables_before_code = f\\'\\\\nkeep_variables (\"{func}\", \"values_before\", locals ())\\'\\n            get_ipython().run_cell(get_variables_before_code)\\n            \\n            get_variables_here_code = cell + f\\'\\\\nkeep_variables (\"{func}\", \"values_here\", locals ())\\'\\n            get_ipython().run_cell(get_variables_here_code)\\n            values_before, values_here = this_function[\\'values_before\\'], this_function[\\'values_here\\']\\n            values_here = {k:values_here[k] for k in set(values_here).difference(values_before)}\\n            this_function[\\'values_here\\'] = values_here\\n            print (values_here)\\n        \\n        root = ast.parse (cell)\\n        variables_here = {node.id for node in ast.walk(root) if isinstance(node, ast.Name) and not callable(eval(node.id))}\\n        print (variables_here)\\n        if idx > 0:\\n            variables_before = reduce (lambda x, y: x[\\'variables_here\\'] | y[\\'variables_here\\'], self.function_list[:idx])\\n        else:\\n            variables_before = []\\n        variables_here = sorted (variables_here.difference(variables_before))\\n        print (variables_here)\\n        this_function.update (variables_here=variables_here, variables_before=variables_here+variables_before, variables_after=[])\\n        \\n        if make_function:\\n            this_function.update_code ( \\n                arguments=variables_before, \\n                return_values=variables_here+variables_before,\\n                tab_size=tab_size\\n            )\\n            \\n        for function in self.function_list[:idx]:\\n            function.variables_after += [v for v in this_function.variables_here if v not in function.variables_after]\\n            if update_previous_functions and function.discover_outputs:\\n                this_function.update_code (function, return_values=function.variables_after, tab_size=tab_size)\\n    \\n    def write (self):\\n        with open (str(self.file_path), \\'w\\') as file:\\n            for function in self.function_list:\\n                function.write (file)\\n                \\n    def print (self):\\n        for function in self.function_list:\\n            function.print ()\\n        \\n    def get_lib_path (self):\\n        return nbdev.config.get_config()[\\'lib_path\\']\\n                   \\n    def get_nbs_path (self):\\n        return nbdev.config.get_config()[\\'nbs_path\\']', '#| export\\n@magics_class\\nclass CellProcessorMagic (Magics):\\n    \"\"\"\\n    Base magic class for converting cells to modular functions.\\n    \"\"\"\\n    def __init__(self, shell, **kwargs):\\n        super().__init__(shell)\\n        self.processor = CellProcessor (magic=self, **kwargs)\\n        self.parser = argparse.ArgumentParser(description=\\'Process some integers.\\')\\n        self.parser.add_argument(\\'-i\\', \\'--input\\', type=str, nargs=\\'+\\', help=\\'input\\')\\n        self.parser.add_argument(\\'-o\\', \\'--output\\', type=str, nargs=\\'+\\', help=\\'output\\')\\n        \\n    @cell_magic\\n    def cell2file (self, folder, cell):\\n        self.processor.cell2file (folder, cell)\\n    \\n    @cell_magic\\n    def function (self, func, cell):\\n        \"Converts cell to function\"\\n        self.processor.function (func, cell)\\n    \\n    @line_magic\\n    def write (self, line):\\n        return self.processor.write ()\\n    \\n    @line_magic\\n    def print (self, line):\\n        return self.processor.print ()\\n        \\n    @line_magic\\n    def cell_processor (self, line):\\n        return self.processor\\n\\n    @cell_magic\\n    def other (self, line, cell):\\n        argv = shlex.split(line, posix=(os.name == \\'posix\\'))\\n        found = False\\n        print (argv)\\n        function = argv[0]\\n        for idx, arg in enumerate(argv[1:], 1):\\n            if arg and arg.startswith(\\'-\\') and arg != \\'-\\' and arg != \\'->\\':\\n                found = True\\n                break\\n        \\n        print (function)\\n        if found:\\n            pars = self.parser.parse_args(argv[idx:])\\n            print (pars)\\n          \\n    @line_magic\\n    def match (self, line):\\n        p0 = \\'[a-zA-Z]\\\\S*\\\\s*\\\\\\\\([^-()]*\\\\\\\\)\\\\s*->\\\\s*\\\\\\\\([^-()]*\\\\\\\\)\\'\\n        p = \\'\\\\\\\\([^-()]*\\\\\\\\)\\'\\n        m = re.search (p0, line)\\n        if m is not None:\\n            inp, out = re.findall (p, line)\\n            print (inp)\\n            print (out)', '#| export\\n#| hide\\ndef load_ipython_extension(ipython):\\n    \"\"\"\\n    This module can be loaded via `%load_ext core.cell2func` or be configured to be autoloaded by IPython at startup time.\\n    \"\"\"\\n    magics = CellProcessorMagic(ipython)\\n    ipython.register_magics(magics)', '#| export\\ndef keep_variables (function, field, variable_values, self=None):\\n    \"\"\"\\n    Store `variables` in dictionary entry `self.variables_field[function]`\\n    \"\"\"\\n    frame_number = 1\\n    while not isinstance (self, CellProcessor):\\n        fr = sys._getframe(frame_number)\\n        args = argnames(fr, True)\\n        if len(args)>0:\\n            self = fr.f_locals[args[0]]\\n        frame_number += 1\\n    variable_values = {k: variable_values[k] for k in variable_values if not k.startswith (\\'_\\') and not callable(variable_values[k])}\\n    function_info = getattr(self, \\'function_info\\')\\n    function_info[function][field]=variable_values', 'load_ipython_extension (get_ipython())', 'get_ipython().run_cell_magic(\\'other\\', \\'fun (a, b, c) -> (d, e, f) -i a c -o b d\\', \"print (\\'yes\\')\\\\n\")', 'get_ipython().run_cell_magic(\\'function\\', \\'final\\', \"a = 1\\\\nb = 2\\\\nprint (f\\'a + b is {a+b}\\')\\\\nc = a*b\\\\nprint (f\\'a * b is {c}\\')\\\\n\")', \"get_ipython().run_line_magic('print', 'all')\", \"a = get_ipython().run_line_magic('cell_processor', '1')\", 'a.file_name', 'final ()', '#| hide\\nimport nbdev; nbdev.nbdev_export()', '#| default_exp core.cell2func', '#| export\\nimport os\\nimport re\\nimport argparse\\nimport shlex\\nfrom dataclasses import dataclass\\nfrom functools import reduce\\nfrom pathlib import Path\\nimport sys\\nimport ast\\nfrom IPython import get_ipython\\nfrom IPython.core.magic import (Magics, magics_class, line_magic,\\n                                cell_magic, line_cell_magic)\\nfrom IPython.core.magic_arguments import (argument, magic_arguments, parse_argstring)\\nimport ipynbname\\nfrom sklearn.utils import Bunch\\nfrom fastcore.all import argnames\\nimport nbdev', '#|export\\nclass FunctionProcessor (Bunch):\\n    def to_file (self, file_path, mode=\\'w\\'):\\n        with open (file_path, mode=mode) as file:\\n            file.write (self.code)\\n    \\n    def write (self, file):\\n        file.write (self.code)\\n        \\n    def print (self):\\n        print (self.code)\\n    \\n    def update_code (\\n        self, \\n        arguments=None, \\n        return_values=None,\\n        tab_size=4,\\n        display=True\\n    ) -> None:\\n        if arguments is not None:\\n            self.arguments = arguments\\n        arguments = \\', \\'.join (self.arguments)\\n        if return_values is not None:\\n            self.return_values = return_values\\n        return_values = \\',\\'.join (self.return_values)\\n        function_code = \\'\\'\\n        for line in self.original_code.splitlines():\\n            function_code += f\\'{\" \" * tab_size}{line}\\\\n\\'\\n        if return_values != \\'\\':\\n            return_line = f\\'return {return_values}\\'\\n            return_line = f\\'{\" \" * tab_size}{return_line}\\\\n\\'\\n        else:\\n            return_line = \\'\\'\\n        function_code = f\\'def {self.name}({arguments}):\\\\n\\' + function_code + return_line\\n        self.code = function_code\\n        get_ipython().run_cell(function_code)\\n        if display:\\n            print (function_code)', '#| export\\nclass CellProcessor():\\n    \"\"\"\\n    Processes the cell\\'s code according to the magic command.\\n    \"\"\"\\n    def __init__(self, **kwargs):\\n        self.function_info = Bunch()\\n        self.function_list = []\\n        self.file_name = ipynbname.name().replace (\\'.ipynb\\', \\'.py\\')\\n        self.nbs_folder = self.get_nbs_path ()\\n        self.lib_folder = self.get_lib_path ()\\n        nb_path = ipynbname.path ()\\n        index = nb_path.parts.index(self.nbs_folder.name)\\n        self.file_path = (self.nbs_folder.parent / self.lib_folder.name).joinpath (*nb_path.parts[index+1:])\\n        \\n        self.processor = CellProcessor (magic=self, **kwargs)\\n        self.parser = argparse.ArgumentParser(description=\\'Process some integers.\\')\\n        self.parser.add_argument(\\'-i\\', \\'--input\\', type=str, nargs=\\'+\\', help=\\'input\\')\\n        self.parser.add_argument(\\'-o\\', \\'--output\\', type=str, nargs=\\'+\\', help=\\'output\\')\\n\\n        \\n    def cell2file (self, folder, cell):\\n        folder = Path(folder)\\n        folder.mkdir(parents=True, exist_ok=True)\\n\\n        with open(folder / \"module.py\", \"w\") as file_handle:\\n            file_handle.write(cell)\\n\\n        get_ipython().run_cell(cell)\\n                    \\n    def function (\\n        self,\\n        func, \\n        cell,\\n        input=None,\\n        unknown_input=True,\\n        output=None,\\n        unknown_output=True,\\n        collect_variables_values=True,\\n        make_function=True,\\n        tab_size=4,\\n        update_previous_functions=True\\n    ) -> None:\\n        \\n        this_function = FunctionProcessor (\\n            idx=len(self.function_list), \\n            original_code=cell, \\n            name=func, \\n            discover_outputs=discover_outputs,\\n            values_before=[]\\n        )\\n        if func not in self.function_info:\\n            self.function_info[func] = this_function\\n            self.function_list.append (this_function)\\n            \\n        idx = this_function.idx\\n        \\n        # get variables specific about this function\\n        if collect_variables_values:\\n            get_variables_before_code = f\\'\\\\nkeep_variables (\"{func}\", \"values_before\", locals ())\\'\\n            get_ipython().run_cell(get_variables_before_code)\\n            \\n            get_variables_here_code = cell + f\\'\\\\nkeep_variables (\"{func}\", \"values_here\", locals ())\\'\\n            get_ipython().run_cell(get_variables_here_code)\\n            values_before, values_here = this_function[\\'values_before\\'], this_function[\\'values_here\\']\\n            values_here = {k:values_here[k] for k in set(values_here).difference(values_before)}\\n            this_function[\\'values_here\\'] = values_here\\n            print (values_here)\\n        \\n        root = ast.parse (cell)\\n        variables_here = {node.id for node in ast.walk(root) if isinstance(node, ast.Name) and not callable(eval(node.id))}\\n        print (variables_here)\\n        if idx > 0:\\n            variables_before = reduce (lambda x, y: x[\\'variables_here\\'] | y[\\'variables_here\\'], self.function_list[:idx])\\n        else:\\n            variables_before = []\\n        variables_here = sorted (variables_here.difference(variables_before))\\n        print (variables_here)\\n        this_function.update (variables_here=variables_here, variables_before=variables_here+variables_before, variables_after=[])\\n        \\n        if make_function:\\n            this_function.update_code ( \\n                arguments=variables_before if unknown_input else input, \\n                return_values=(variables_here+variables_before) if unknown_output is None else output,\\n                tab_size=tab_size\\n            )\\n            \\n        for function in self.function_list[:idx]:\\n            function.variables_after += [v for v in this_function.variables_here if v not in function.variables_after]\\n            if update_previous_functions and unknown_output:\\n                this_function.update_code (function, return_values=function.variables_after, tab_size=tab_size)\\n                \\n    def parse_signature (self, line):\\n        argv = shlex.split(line, posix=(os.name == \\'posix\\'))\\n        \\n        function_name=argv[0]\\n        signature = dict(\\n            input=None,\\n            unknown_input=True,\\n            output=None,\\n            unknown_output=True\\n        )\\n        found_io = False\\n        for idx, arg in enumerate(argv[1:], 1):\\n            if arg and arg.startswith(\\'-\\') and arg != \\'-\\' and arg != \\'->\\':\\n                found_io = True\\n                break\\n        if found_io:\\n            pars = self.parser.parse_args(argv[idx:])\\n            unknown_input = \\'input\\' not in pars\\n            if not unknown_input:\\n                signature.update (input=pars.input, unknown_input=False)\\n            unknown_output = \\'output\\' not in pars\\n            if not unknown_output:\\n                signature.update (output=pars.output, unknown_output=False)\\n            \\n        print (function_name, signature)\\n        return function_name, signature\\n    \\n    def write (self):\\n        with open (str(self.file_path), \\'w\\') as file:\\n            for function in self.function_list:\\n                function.write (file)\\n                \\n    def print (self):\\n        for function in self.function_list:\\n            function.print ()\\n        \\n    def get_lib_path (self):\\n        return nbdev.config.get_config()[\\'lib_path\\']\\n                   \\n    def get_nbs_path (self):\\n        return nbdev.config.get_config()[\\'nbs_path\\']', '#| export\\n@magics_class\\nclass CellProcessorMagic (Magics):\\n    \"\"\"\\n    Base magic class for converting cells to modular functions.\\n    \"\"\"\\n    def __init__(self, shell, **kwargs):\\n        super().__init__(shell)\\n        \\n        \\n    @cell_magic\\n    def cell2file (self, folder, cell):\\n        self.processor.cell2file (folder, cell)\\n    \\n    @cell_magic\\n    def function (self, line, cell):\\n        \"Converts cell to function\"\\n        function_name, signature = self.processor.signature (line)\\n        self.processor.function (function_name, cell, **signature)\\n    \\n    @line_magic\\n    def write (self, line):\\n        return self.processor.write ()\\n    \\n    @line_magic\\n    def print (self, line):\\n        return self.processor.print ()\\n        \\n    @line_magic\\n    def cell_processor (self, line):\\n        return self.processor\\n        \\n          \\n    @line_magic\\n    def match (self, line):\\n        p0 = \\'[a-zA-Z]\\\\S*\\\\s*\\\\\\\\([^-()]*\\\\\\\\)\\\\s*->\\\\s*\\\\\\\\([^-()]*\\\\\\\\)\\'\\n        p = \\'\\\\\\\\([^-()]*\\\\\\\\)\\'\\n        m = re.search (p0, line)\\n        if m is not None:\\n            inp, out = re.findall (p, line)\\n            print (inp)\\n            print (out)', '#| export\\n#| hide\\ndef load_ipython_extension(ipython):\\n    \"\"\"\\n    This module can be loaded via `%load_ext core.cell2func` or be configured to be autoloaded by IPython at startup time.\\n    \"\"\"\\n    magics = CellProcessorMagic(ipython)\\n    ipython.register_magics(magics)', '#| export\\ndef keep_variables (function, field, variable_values, self=None):\\n    \"\"\"\\n    Store `variables` in dictionary entry `self.variables_field[function]`\\n    \"\"\"\\n    frame_number = 1\\n    while not isinstance (self, CellProcessor):\\n        fr = sys._getframe(frame_number)\\n        args = argnames(fr, True)\\n        if len(args)>0:\\n            self = fr.f_locals[args[0]]\\n        frame_number += 1\\n    variable_values = {k: variable_values[k] for k in variable_values if not k.startswith (\\'_\\') and not callable(variable_values[k])}\\n    function_info = getattr(self, \\'function_info\\')\\n    function_info[function][field]=variable_values', 'load_ipython_extension (get_ipython())', 'get_ipython().run_cell_magic(\\'other\\', \\'fun (a, b, c) -> (d, e, f) -i a c -o b d\\', \"print (\\'yes\\')\\\\n\")', 'get_ipython().run_cell_magic(\\'function\\', \\'final\\', \"a = 1\\\\nb = 2\\\\nprint (f\\'a + b is {a+b}\\')\\\\nc = a*b\\\\nprint (f\\'a * b is {c}\\')\\\\n\")', '#| default_exp core.cell2func', '#| export\\nimport os\\nimport re\\nimport argparse\\nimport shlex\\nfrom dataclasses import dataclass\\nfrom functools import reduce\\nfrom pathlib import Path\\nimport sys\\nimport ast\\nfrom IPython import get_ipython\\nfrom IPython.core.magic import (Magics, magics_class, line_magic,\\n                                cell_magic, line_cell_magic)\\nfrom IPython.core.magic_arguments import (argument, magic_arguments, parse_argstring)\\nimport ipynbname\\nfrom sklearn.utils import Bunch\\nfrom fastcore.all import argnames\\nimport nbdev', '#|export\\nclass FunctionProcessor (Bunch):\\n    def to_file (self, file_path, mode=\\'w\\'):\\n        with open (file_path, mode=mode) as file:\\n            file.write (self.code)\\n    \\n    def write (self, file):\\n        file.write (self.code)\\n        \\n    def print (self):\\n        print (self.code)\\n    \\n    def update_code (\\n        self, \\n        arguments=None, \\n        return_values=None,\\n        tab_size=4,\\n        display=True\\n    ) -> None:\\n        if arguments is not None:\\n            self.arguments = arguments\\n        arguments = \\', \\'.join (self.arguments)\\n        if return_values is not None:\\n            self.return_values = return_values\\n        return_values = \\',\\'.join (self.return_values)\\n        function_code = \\'\\'\\n        for line in self.original_code.splitlines():\\n            function_code += f\\'{\" \" * tab_size}{line}\\\\n\\'\\n        if return_values != \\'\\':\\n            return_line = f\\'return {return_values}\\'\\n            return_line = f\\'{\" \" * tab_size}{return_line}\\\\n\\'\\n        else:\\n            return_line = \\'\\'\\n        function_code = f\\'def {self.name}({arguments}):\\\\n\\' + function_code + return_line\\n        self.code = function_code\\n        get_ipython().run_cell(function_code)\\n        if display:\\n            print (function_code)', '#| export\\nclass CellProcessor():\\n    \"\"\"\\n    Processes the cell\\'s code according to the magic command.\\n    \"\"\"\\n    def __init__(self, **kwargs):\\n        self.function_info = Bunch()\\n        self.function_list = []\\n        self.file_name = ipynbname.name().replace (\\'.ipynb\\', \\'.py\\')\\n        self.nbs_folder = self.get_nbs_path ()\\n        self.lib_folder = self.get_lib_path ()\\n        nb_path = ipynbname.path ()\\n        index = nb_path.parts.index(self.nbs_folder.name)\\n        self.file_path = (self.nbs_folder.parent / self.lib_folder.name).joinpath (*nb_path.parts[index+1:])\\n        \\n        self.parser = argparse.ArgumentParser(description=\\'Process some integers.\\')\\n        self.parser.add_argument(\\'-i\\', \\'--input\\', type=str, nargs=\\'+\\', help=\\'input\\')\\n        self.parser.add_argument(\\'-o\\', \\'--output\\', type=str, nargs=\\'+\\', help=\\'output\\')\\n\\n        \\n    def cell2file (self, folder, cell):\\n        folder = Path(folder)\\n        folder.mkdir(parents=True, exist_ok=True)\\n\\n        with open(folder / \"module.py\", \"w\") as file_handle:\\n            file_handle.write(cell)\\n\\n        get_ipython().run_cell(cell)\\n                    \\n    def function (\\n        self,\\n        func, \\n        cell,\\n        input=None,\\n        unknown_input=True,\\n        output=None,\\n        unknown_output=True,\\n        collect_variables_values=True,\\n        make_function=True,\\n        tab_size=4,\\n        update_previous_functions=True\\n    ) -> None:\\n        \\n        this_function = FunctionProcessor (\\n            idx=len(self.function_list), \\n            original_code=cell, \\n            name=func, \\n            discover_outputs=discover_outputs,\\n            values_before=[]\\n        )\\n        if func not in self.function_info:\\n            self.function_info[func] = this_function\\n            self.function_list.append (this_function)\\n            \\n        idx = this_function.idx\\n        \\n        # get variables specific about this function\\n        if collect_variables_values:\\n            get_variables_before_code = f\\'\\\\nkeep_variables (\"{func}\", \"values_before\", locals ())\\'\\n            get_ipython().run_cell(get_variables_before_code)\\n            \\n            get_variables_here_code = cell + f\\'\\\\nkeep_variables (\"{func}\", \"values_here\", locals ())\\'\\n            get_ipython().run_cell(get_variables_here_code)\\n            values_before, values_here = this_function[\\'values_before\\'], this_function[\\'values_here\\']\\n            values_here = {k:values_here[k] for k in set(values_here).difference(values_before)}\\n            this_function[\\'values_here\\'] = values_here\\n            print (values_here)\\n        \\n        root = ast.parse (cell)\\n        variables_here = {node.id for node in ast.walk(root) if isinstance(node, ast.Name) and not callable(eval(node.id))}\\n        print (variables_here)\\n        if idx > 0:\\n            variables_before = reduce (lambda x, y: x[\\'variables_here\\'] | y[\\'variables_here\\'], self.function_list[:idx])\\n        else:\\n            variables_before = []\\n        variables_here = sorted (variables_here.difference(variables_before))\\n        print (variables_here)\\n        this_function.update (variables_here=variables_here, variables_before=variables_here+variables_before, variables_after=[])\\n        \\n        if make_function:\\n            this_function.update_code ( \\n                arguments=variables_before if unknown_input else input, \\n                return_values=(variables_here+variables_before) if unknown_output is None else output,\\n                tab_size=tab_size\\n            )\\n            \\n        for function in self.function_list[:idx]:\\n            function.variables_after += [v for v in this_function.variables_here if v not in function.variables_after]\\n            if update_previous_functions and unknown_output:\\n                this_function.update_code (function, return_values=function.variables_after, tab_size=tab_size)\\n                \\n    def parse_signature (self, line):\\n        argv = shlex.split(line, posix=(os.name == \\'posix\\'))\\n        \\n        function_name=argv[0]\\n        signature = dict(\\n            input=None,\\n            unknown_input=True,\\n            output=None,\\n            unknown_output=True\\n        )\\n        found_io = False\\n        for idx, arg in enumerate(argv[1:], 1):\\n            if arg and arg.startswith(\\'-\\') and arg != \\'-\\' and arg != \\'->\\':\\n                found_io = True\\n                break\\n        if found_io:\\n            pars = self.parser.parse_args(argv[idx:])\\n            unknown_input = \\'input\\' not in pars\\n            if not unknown_input:\\n                signature.update (input=pars.input, unknown_input=False)\\n            unknown_output = \\'output\\' not in pars\\n            if not unknown_output:\\n                signature.update (output=pars.output, unknown_output=False)\\n            \\n        print (function_name, signature)\\n        return function_name, signature\\n    \\n    def write (self):\\n        with open (str(self.file_path), \\'w\\') as file:\\n            for function in self.function_list:\\n                function.write (file)\\n                \\n    def print (self):\\n        for function in self.function_list:\\n            function.print ()\\n        \\n    def get_lib_path (self):\\n        return nbdev.config.get_config()[\\'lib_path\\']\\n                   \\n    def get_nbs_path (self):\\n        return nbdev.config.get_config()[\\'nbs_path\\']', '#| export\\n@magics_class\\nclass CellProcessorMagic (Magics):\\n    \"\"\"\\n    Base magic class for converting cells to modular functions.\\n    \"\"\"\\n    def __init__(self, shell, **kwargs):\\n        super().__init__(shell)\\n        self.processor = CellProcessor (magic=self, **kwargs)\\n        \\n    @cell_magic\\n    def cell2file (self, folder, cell):\\n        self.processor.cell2file (folder, cell)\\n    \\n    @cell_magic\\n    def function (self, line, cell):\\n        \"Converts cell to function\"\\n        function_name, signature = self.processor.signature (line)\\n        self.processor.function (function_name, cell, **signature)\\n    \\n    @line_magic\\n    def write (self, line):\\n        return self.processor.write ()\\n    \\n    @line_magic\\n    def print (self, line):\\n        return self.processor.print ()\\n        \\n    @line_magic\\n    def cell_processor (self, line):\\n        return self.processor\\n        \\n          \\n    @line_magic\\n    def match (self, line):\\n        p0 = \\'[a-zA-Z]\\\\S*\\\\s*\\\\\\\\([^-()]*\\\\\\\\)\\\\s*->\\\\s*\\\\\\\\([^-()]*\\\\\\\\)\\'\\n        p = \\'\\\\\\\\([^-()]*\\\\\\\\)\\'\\n        m = re.search (p0, line)\\n        if m is not None:\\n            inp, out = re.findall (p, line)\\n            print (inp)\\n            print (out)', '#| export\\n#| hide\\ndef load_ipython_extension(ipython):\\n    \"\"\"\\n    This module can be loaded via `%load_ext core.cell2func` or be configured to be autoloaded by IPython at startup time.\\n    \"\"\"\\n    magics = CellProcessorMagic(ipython)\\n    ipython.register_magics(magics)', '#| export\\ndef keep_variables (function, field, variable_values, self=None):\\n    \"\"\"\\n    Store `variables` in dictionary entry `self.variables_field[function]`\\n    \"\"\"\\n    frame_number = 1\\n    while not isinstance (self, CellProcessor):\\n        fr = sys._getframe(frame_number)\\n        args = argnames(fr, True)\\n        if len(args)>0:\\n            self = fr.f_locals[args[0]]\\n        frame_number += 1\\n    variable_values = {k: variable_values[k] for k in variable_values if not k.startswith (\\'_\\') and not callable(variable_values[k])}\\n    function_info = getattr(self, \\'function_info\\')\\n    function_info[function][field]=variable_values', 'load_ipython_extension (get_ipython())', 'get_ipython().run_cell_magic(\\'other\\', \\'fun (a, b, c) -> (d, e, f) -i a c -o b d\\', \"print (\\'yes\\')\\\\n\")', 'get_ipython().run_cell_magic(\\'function\\', \\'final\\', \"a = 1\\\\nb = 2\\\\nprint (f\\'a + b is {a+b}\\')\\\\nc = a*b\\\\nprint (f\\'a * b is {c}\\')\\\\n\")', '#| default_exp core.cell2func', '#| export\\nimport os\\nimport re\\nimport argparse\\nimport shlex\\nfrom dataclasses import dataclass\\nfrom functools import reduce\\nfrom pathlib import Path\\nimport sys\\nimport ast\\nfrom IPython import get_ipython\\nfrom IPython.core.magic import (Magics, magics_class, line_magic,\\n                                cell_magic, line_cell_magic)\\nfrom IPython.core.magic_arguments import (argument, magic_arguments, parse_argstring)\\nimport ipynbname\\nfrom sklearn.utils import Bunch\\nfrom fastcore.all import argnames\\nimport nbdev', '#|export\\nclass FunctionProcessor (Bunch):\\n    def to_file (self, file_path, mode=\\'w\\'):\\n        with open (file_path, mode=mode) as file:\\n            file.write (self.code)\\n    \\n    def write (self, file):\\n        file.write (self.code)\\n        \\n    def print (self):\\n        print (self.code)\\n    \\n    def update_code (\\n        self, \\n        arguments=None, \\n        return_values=None,\\n        tab_size=4,\\n        display=True\\n    ) -> None:\\n        if arguments is not None:\\n            self.arguments = arguments\\n        arguments = \\', \\'.join (self.arguments)\\n        if return_values is not None:\\n            self.return_values = return_values\\n        return_values = \\',\\'.join (self.return_values)\\n        function_code = \\'\\'\\n        for line in self.original_code.splitlines():\\n            function_code += f\\'{\" \" * tab_size}{line}\\\\n\\'\\n        if return_values != \\'\\':\\n            return_line = f\\'return {return_values}\\'\\n            return_line = f\\'{\" \" * tab_size}{return_line}\\\\n\\'\\n        else:\\n            return_line = \\'\\'\\n        function_code = f\\'def {self.name}({arguments}):\\\\n\\' + function_code + return_line\\n        self.code = function_code\\n        get_ipython().run_cell(function_code)\\n        if display:\\n            print (function_code)', '#| export\\nclass CellProcessor():\\n    \"\"\"\\n    Processes the cell\\'s code according to the magic command.\\n    \"\"\"\\n    def __init__(self, **kwargs):\\n        self.function_info = Bunch()\\n        self.function_list = []\\n        self.file_name = ipynbname.name().replace (\\'.ipynb\\', \\'.py\\')\\n        self.nbs_folder = self.get_nbs_path ()\\n        self.lib_folder = self.get_lib_path ()\\n        nb_path = ipynbname.path ()\\n        index = nb_path.parts.index(self.nbs_folder.name)\\n        self.file_path = (self.nbs_folder.parent / self.lib_folder.name).joinpath (*nb_path.parts[index+1:])\\n        \\n        self.parser = argparse.ArgumentParser(description=\\'Process some integers.\\')\\n        self.parser.add_argument(\\'-i\\', \\'--input\\', type=str, nargs=\\'+\\', help=\\'input\\')\\n        self.parser.add_argument(\\'-o\\', \\'--output\\', type=str, nargs=\\'+\\', help=\\'output\\')\\n\\n        \\n    def cell2file (self, folder, cell):\\n        folder = Path(folder)\\n        folder.mkdir(parents=True, exist_ok=True)\\n\\n        with open(folder / \"module.py\", \"w\") as file_handle:\\n            file_handle.write(cell)\\n\\n        get_ipython().run_cell(cell)\\n                    \\n    def function (\\n        self,\\n        func, \\n        cell,\\n        input=None,\\n        unknown_input=True,\\n        output=None,\\n        unknown_output=True,\\n        collect_variables_values=True,\\n        make_function=True,\\n        tab_size=4,\\n        update_previous_functions=True\\n    ) -> None:\\n        \\n        this_function = FunctionProcessor (\\n            idx=len(self.function_list), \\n            original_code=cell, \\n            name=func, \\n            discover_outputs=discover_outputs,\\n            values_before=[]\\n        )\\n        if func not in self.function_info:\\n            self.function_info[func] = this_function\\n            self.function_list.append (this_function)\\n            \\n        idx = this_function.idx\\n        \\n        # get variables specific about this function\\n        if collect_variables_values:\\n            get_variables_before_code = f\\'\\\\nkeep_variables (\"{func}\", \"values_before\", locals ())\\'\\n            get_ipython().run_cell(get_variables_before_code)\\n            \\n            get_variables_here_code = cell + f\\'\\\\nkeep_variables (\"{func}\", \"values_here\", locals ())\\'\\n            get_ipython().run_cell(get_variables_here_code)\\n            values_before, values_here = this_function[\\'values_before\\'], this_function[\\'values_here\\']\\n            values_here = {k:values_here[k] for k in set(values_here).difference(values_before)}\\n            this_function[\\'values_here\\'] = values_here\\n            print (values_here)\\n        \\n        root = ast.parse (cell)\\n        variables_here = {node.id for node in ast.walk(root) if isinstance(node, ast.Name) and not callable(eval(node.id))}\\n        print (variables_here)\\n        if idx > 0:\\n            variables_before = reduce (lambda x, y: x[\\'variables_here\\'] | y[\\'variables_here\\'], self.function_list[:idx])\\n        else:\\n            variables_before = []\\n        variables_here = sorted (variables_here.difference(variables_before))\\n        print (variables_here)\\n        this_function.update (variables_here=variables_here, variables_before=variables_here+variables_before, variables_after=[])\\n        \\n        if make_function:\\n            this_function.update_code ( \\n                arguments=variables_before if unknown_input else input, \\n                return_values=(variables_here+variables_before) if unknown_output is None else output,\\n                tab_size=tab_size\\n            )\\n            \\n        for function in self.function_list[:idx]:\\n            function.variables_after += [v for v in this_function.variables_here if v not in function.variables_after]\\n            if update_previous_functions and unknown_output:\\n                this_function.update_code (function, return_values=function.variables_after, tab_size=tab_size)\\n                \\n    def parse_signature (self, line):\\n        argv = shlex.split(line, posix=(os.name == \\'posix\\'))\\n        \\n        function_name=argv[0]\\n        signature = dict(\\n            input=None,\\n            unknown_input=True,\\n            output=None,\\n            unknown_output=True\\n        )\\n        found_io = False\\n        for idx, arg in enumerate(argv[1:], 1):\\n            if arg and arg.startswith(\\'-\\') and arg != \\'-\\' and arg != \\'->\\':\\n                found_io = True\\n                break\\n        if found_io:\\n            pars = self.parser.parse_args(argv[idx:])\\n            unknown_input = \\'input\\' not in pars\\n            if not unknown_input:\\n                signature.update (input=pars.input, unknown_input=False)\\n            unknown_output = \\'output\\' not in pars\\n            if not unknown_output:\\n                signature.update (output=pars.output, unknown_output=False)\\n            \\n        print (function_name, signature)\\n        return function_name, signature\\n    \\n    def write (self):\\n        with open (str(self.file_path), \\'w\\') as file:\\n            for function in self.function_list:\\n                function.write (file)\\n                \\n    def print (self):\\n        for function in self.function_list:\\n            function.print ()\\n        \\n    def get_lib_path (self):\\n        return nbdev.config.get_config()[\\'lib_path\\']\\n                   \\n    def get_nbs_path (self):\\n        return nbdev.config.get_config()[\\'nbs_path\\']', '#| export\\n@magics_class\\nclass CellProcessorMagic (Magics):\\n    \"\"\"\\n    Base magic class for converting cells to modular functions.\\n    \"\"\"\\n    def __init__(self, shell, **kwargs):\\n        super().__init__(shell)\\n        self.processor = CellProcessor (magic=self, **kwargs)\\n        \\n    @cell_magic\\n    def cell2file (self, folder, cell):\\n        self.processor.cell2file (folder, cell)\\n    \\n    @cell_magic\\n    def function (self, line, cell):\\n        \"Converts cell to function\"\\n        function_name, signature = self.processor.parse_signature (line)\\n        self.processor.function (function_name, cell, **signature)\\n    \\n    @line_magic\\n    def write (self, line):\\n        return self.processor.write ()\\n    \\n    @line_magic\\n    def print (self, line):\\n        return self.processor.print ()\\n        \\n    @line_magic\\n    def cell_processor (self, line):\\n        return self.processor\\n        \\n          \\n    @line_magic\\n    def match (self, line):\\n        p0 = \\'[a-zA-Z]\\\\S*\\\\s*\\\\\\\\([^-()]*\\\\\\\\)\\\\s*->\\\\s*\\\\\\\\([^-()]*\\\\\\\\)\\'\\n        p = \\'\\\\\\\\([^-()]*\\\\\\\\)\\'\\n        m = re.search (p0, line)\\n        if m is not None:\\n            inp, out = re.findall (p, line)\\n            print (inp)\\n            print (out)', '#| export\\n#| hide\\ndef load_ipython_extension(ipython):\\n    \"\"\"\\n    This module can be loaded via `%load_ext core.cell2func` or be configured to be autoloaded by IPython at startup time.\\n    \"\"\"\\n    magics = CellProcessorMagic(ipython)\\n    ipython.register_magics(magics)', '#| export\\ndef keep_variables (function, field, variable_values, self=None):\\n    \"\"\"\\n    Store `variables` in dictionary entry `self.variables_field[function]`\\n    \"\"\"\\n    frame_number = 1\\n    while not isinstance (self, CellProcessor):\\n        fr = sys._getframe(frame_number)\\n        args = argnames(fr, True)\\n        if len(args)>0:\\n            self = fr.f_locals[args[0]]\\n        frame_number += 1\\n    variable_values = {k: variable_values[k] for k in variable_values if not k.startswith (\\'_\\') and not callable(variable_values[k])}\\n    function_info = getattr(self, \\'function_info\\')\\n    function_info[function][field]=variable_values', 'load_ipython_extension (get_ipython())', 'get_ipython().run_cell_magic(\\'other\\', \\'fun (a, b, c) -> (d, e, f) -i a c -o b d\\', \"print (\\'yes\\')\\\\n\")', 'get_ipython().run_cell_magic(\\'function\\', \\'final\\', \"a = 1\\\\nb = 2\\\\nprint (f\\'a + b is {a+b}\\')\\\\nc = a*b\\\\nprint (f\\'a * b is {c}\\')\\\\n\")', '#| default_exp core.cell2func', '#| export\\nimport os\\nimport re\\nimport argparse\\nimport shlex\\nfrom dataclasses import dataclass\\nfrom functools import reduce\\nfrom pathlib import Path\\nimport sys\\nimport ast\\nfrom IPython import get_ipython\\nfrom IPython.core.magic import (Magics, magics_class, line_magic,\\n                                cell_magic, line_cell_magic)\\nfrom IPython.core.magic_arguments import (argument, magic_arguments, parse_argstring)\\nimport ipynbname\\nfrom sklearn.utils import Bunch\\nfrom fastcore.all import argnames\\nimport nbdev', '#|export\\nclass FunctionProcessor (Bunch):\\n    def to_file (self, file_path, mode=\\'w\\'):\\n        with open (file_path, mode=mode) as file:\\n            file.write (self.code)\\n    \\n    def write (self, file):\\n        file.write (self.code)\\n        \\n    def print (self):\\n        print (self.code)\\n    \\n    def update_code (\\n        self, \\n        arguments=None, \\n        return_values=None,\\n        tab_size=4,\\n        display=True\\n    ) -> None:\\n        if arguments is not None:\\n            self.arguments = arguments\\n        arguments = \\', \\'.join (self.arguments)\\n        if return_values is not None:\\n            self.return_values = return_values\\n        return_values = \\',\\'.join (self.return_values)\\n        function_code = \\'\\'\\n        for line in self.original_code.splitlines():\\n            function_code += f\\'{\" \" * tab_size}{line}\\\\n\\'\\n        if return_values != \\'\\':\\n            return_line = f\\'return {return_values}\\'\\n            return_line = f\\'{\" \" * tab_size}{return_line}\\\\n\\'\\n        else:\\n            return_line = \\'\\'\\n        function_code = f\\'def {self.name}({arguments}):\\\\n\\' + function_code + return_line\\n        self.code = function_code\\n        get_ipython().run_cell(function_code)\\n        if display:\\n            print (function_code)', '#| export\\nclass CellProcessor():\\n    \"\"\"\\n    Processes the cell\\'s code according to the magic command.\\n    \"\"\"\\n    def __init__(self, **kwargs):\\n        self.function_info = Bunch()\\n        self.function_list = []\\n        self.file_name = ipynbname.name().replace (\\'.ipynb\\', \\'.py\\')\\n        self.nbs_folder = self.get_nbs_path ()\\n        self.lib_folder = self.get_lib_path ()\\n        nb_path = ipynbname.path ()\\n        index = nb_path.parts.index(self.nbs_folder.name)\\n        self.file_path = (self.nbs_folder.parent / self.lib_folder.name).joinpath (*nb_path.parts[index+1:])\\n        \\n        self.parser = argparse.ArgumentParser(description=\\'Process some integers.\\')\\n        self.parser.add_argument(\\'-i\\', \\'--input\\', type=str, nargs=\\'+\\', help=\\'input\\')\\n        self.parser.add_argument(\\'-o\\', \\'--output\\', type=str, nargs=\\'+\\', help=\\'output\\')\\n\\n        \\n    def cell2file (self, folder, cell):\\n        folder = Path(folder)\\n        folder.mkdir(parents=True, exist_ok=True)\\n\\n        with open(folder / \"module.py\", \"w\") as file_handle:\\n            file_handle.write(cell)\\n\\n        get_ipython().run_cell(cell)\\n                    \\n    def function (\\n        self,\\n        func, \\n        cell,\\n        input=None,\\n        unknown_input=True,\\n        output=None,\\n        unknown_output=True,\\n        collect_variables_values=True,\\n        make_function=True,\\n        tab_size=4,\\n        update_previous_functions=True\\n    ) -> None:\\n        \\n        this_function = FunctionProcessor (\\n            idx=len(self.function_list), \\n            original_code=cell, \\n            name=func, \\n            values_before=[]\\n        )\\n        if func not in self.function_info:\\n            self.function_info[func] = this_function\\n            self.function_list.append (this_function)\\n            \\n        idx = this_function.idx\\n        \\n        # get variables specific about this function\\n        if collect_variables_values:\\n            get_variables_before_code = f\\'\\\\nkeep_variables (\"{func}\", \"values_before\", locals ())\\'\\n            get_ipython().run_cell(get_variables_before_code)\\n            \\n            get_variables_here_code = cell + f\\'\\\\nkeep_variables (\"{func}\", \"values_here\", locals ())\\'\\n            get_ipython().run_cell(get_variables_here_code)\\n            values_before, values_here = this_function[\\'values_before\\'], this_function[\\'values_here\\']\\n            values_here = {k:values_here[k] for k in set(values_here).difference(values_before)}\\n            this_function[\\'values_here\\'] = values_here\\n            print (values_here)\\n        \\n        root = ast.parse (cell)\\n        variables_here = {node.id for node in ast.walk(root) if isinstance(node, ast.Name) and not callable(eval(node.id))}\\n        print (variables_here)\\n        if idx > 0:\\n            variables_before = reduce (lambda x, y: x[\\'variables_here\\'] | y[\\'variables_here\\'], self.function_list[:idx])\\n        else:\\n            variables_before = []\\n        variables_here = sorted (variables_here.difference(variables_before))\\n        print (variables_here)\\n        this_function.update (variables_here=variables_here, variables_before=variables_here+variables_before, variables_after=[])\\n        \\n        if make_function:\\n            this_function.update_code ( \\n                arguments=variables_before if unknown_input else input, \\n                return_values=(variables_here+variables_before) if unknown_output is None else output,\\n                tab_size=tab_size\\n            )\\n            \\n        for function in self.function_list[:idx]:\\n            function.variables_after += [v for v in this_function.variables_here if v not in function.variables_after]\\n            if update_previous_functions and unknown_output:\\n                this_function.update_code (function, return_values=function.variables_after, tab_size=tab_size)\\n                \\n    def parse_signature (self, line):\\n        argv = shlex.split(line, posix=(os.name == \\'posix\\'))\\n        \\n        function_name=argv[0]\\n        signature = dict(\\n            input=None,\\n            unknown_input=True,\\n            output=None,\\n            unknown_output=True\\n        )\\n        found_io = False\\n        for idx, arg in enumerate(argv[1:], 1):\\n            if arg and arg.startswith(\\'-\\') and arg != \\'-\\' and arg != \\'->\\':\\n                found_io = True\\n                break\\n        if found_io:\\n            pars = self.parser.parse_args(argv[idx:])\\n            unknown_input = \\'input\\' not in pars\\n            if not unknown_input:\\n                signature.update (input=pars.input, unknown_input=False)\\n            unknown_output = \\'output\\' not in pars\\n            if not unknown_output:\\n                signature.update (output=pars.output, unknown_output=False)\\n            \\n        print (function_name, signature)\\n        return function_name, signature\\n    \\n    def write (self):\\n        with open (str(self.file_path), \\'w\\') as file:\\n            for function in self.function_list:\\n                function.write (file)\\n                \\n    def print (self):\\n        for function in self.function_list:\\n            function.print ()\\n        \\n    def get_lib_path (self):\\n        return nbdev.config.get_config()[\\'lib_path\\']\\n                   \\n    def get_nbs_path (self):\\n        return nbdev.config.get_config()[\\'nbs_path\\']', '#| export\\n@magics_class\\nclass CellProcessorMagic (Magics):\\n    \"\"\"\\n    Base magic class for converting cells to modular functions.\\n    \"\"\"\\n    def __init__(self, shell, **kwargs):\\n        super().__init__(shell)\\n        self.processor = CellProcessor (magic=self, **kwargs)\\n        \\n    @cell_magic\\n    def cell2file (self, folder, cell):\\n        self.processor.cell2file (folder, cell)\\n    \\n    @cell_magic\\n    def function (self, line, cell):\\n        \"Converts cell to function\"\\n        function_name, signature = self.processor.parse_signature (line)\\n        self.processor.function (function_name, cell, **signature)\\n    \\n    @line_magic\\n    def write (self, line):\\n        return self.processor.write ()\\n    \\n    @line_magic\\n    def print (self, line):\\n        return self.processor.print ()\\n        \\n    @line_magic\\n    def cell_processor (self, line):\\n        return self.processor\\n        \\n          \\n    @line_magic\\n    def match (self, line):\\n        p0 = \\'[a-zA-Z]\\\\S*\\\\s*\\\\\\\\([^-()]*\\\\\\\\)\\\\s*->\\\\s*\\\\\\\\([^-()]*\\\\\\\\)\\'\\n        p = \\'\\\\\\\\([^-()]*\\\\\\\\)\\'\\n        m = re.search (p0, line)\\n        if m is not None:\\n            inp, out = re.findall (p, line)\\n            print (inp)\\n            print (out)', '#| export\\n#| hide\\ndef load_ipython_extension(ipython):\\n    \"\"\"\\n    This module can be loaded via `%load_ext core.cell2func` or be configured to be autoloaded by IPython at startup time.\\n    \"\"\"\\n    magics = CellProcessorMagic(ipython)\\n    ipython.register_magics(magics)', '#| export\\ndef keep_variables (function, field, variable_values, self=None):\\n    \"\"\"\\n    Store `variables` in dictionary entry `self.variables_field[function]`\\n    \"\"\"\\n    frame_number = 1\\n    while not isinstance (self, CellProcessor):\\n        fr = sys._getframe(frame_number)\\n        args = argnames(fr, True)\\n        if len(args)>0:\\n            self = fr.f_locals[args[0]]\\n        frame_number += 1\\n    variable_values = {k: variable_values[k] for k in variable_values if not k.startswith (\\'_\\') and not callable(variable_values[k])}\\n    function_info = getattr(self, \\'function_info\\')\\n    function_info[function][field]=variable_values', 'load_ipython_extension (get_ipython())', 'get_ipython().run_cell_magic(\\'other\\', \\'fun (a, b, c) -> (d, e, f) -i a c -o b d\\', \"print (\\'yes\\')\\\\n\")', 'get_ipython().run_cell_magic(\\'function\\', \\'final\\', \"a = 1\\\\nb = 2\\\\nprint (f\\'a + b is {a+b}\\')\\\\nc = a*b\\\\nprint (f\\'a * b is {c}\\')\\\\n\")', '#| default_exp core.cell2func', '#| export\\nimport os\\nimport re\\nimport argparse\\nimport shlex\\nfrom dataclasses import dataclass\\nfrom functools import reduce\\nfrom pathlib import Path\\nimport sys\\nimport ast\\nfrom IPython import get_ipython\\nfrom IPython.core.magic import (Magics, magics_class, line_magic,\\n                                cell_magic, line_cell_magic)\\nfrom IPython.core.magic_arguments import (argument, magic_arguments, parse_argstring)\\nimport ipynbname\\nfrom sklearn.utils import Bunch\\nfrom fastcore.all import argnames\\nimport nbdev', '#|export\\nclass FunctionProcessor (Bunch):\\n    def to_file (self, file_path, mode=\\'w\\'):\\n        with open (file_path, mode=mode) as file:\\n            file.write (self.code)\\n    \\n    def write (self, file):\\n        file.write (self.code)\\n        \\n    def print (self):\\n        print (self.code)\\n    \\n    def update_code (\\n        self, \\n        arguments=None, \\n        return_values=None,\\n        tab_size=4,\\n        display=True\\n    ) -> None:\\n        if arguments is not None:\\n            self.arguments = arguments\\n        arguments = \\', \\'.join (self.arguments)\\n        if return_values is not None:\\n            self.return_values = return_values\\n        return_values = \\',\\'.join (self.return_values)\\n        function_code = \\'\\'\\n        for line in self.original_code.splitlines():\\n            function_code += f\\'{\" \" * tab_size}{line}\\\\n\\'\\n        if return_values != \\'\\':\\n            return_line = f\\'return {return_values}\\'\\n            return_line = f\\'{\" \" * tab_size}{return_line}\\\\n\\'\\n        else:\\n            return_line = \\'\\'\\n        function_code = f\\'def {self.name}({arguments}):\\\\n\\' + function_code + return_line\\n        self.code = function_code\\n        get_ipython().run_cell(function_code)\\n        if display:\\n            print (function_code)', '#| export\\nclass CellProcessor():\\n    \"\"\"\\n    Processes the cell\\'s code according to the magic command.\\n    \"\"\"\\n    def __init__(self, **kwargs):\\n        self.function_info = Bunch()\\n        self.function_list = []\\n        self.file_name = ipynbname.name().replace (\\'.ipynb\\', \\'.py\\')\\n        self.nbs_folder = self.get_nbs_path ()\\n        self.lib_folder = self.get_lib_path ()\\n        nb_path = ipynbname.path ()\\n        index = nb_path.parts.index(self.nbs_folder.name)\\n        self.file_path = (self.nbs_folder.parent / self.lib_folder.name).joinpath (*nb_path.parts[index+1:])\\n        \\n        self.parser = argparse.ArgumentParser(description=\\'Process some integers.\\')\\n        self.parser.add_argument(\\'-i\\', \\'--input\\', type=str, nargs=\\'+\\', help=\\'input\\')\\n        self.parser.add_argument(\\'-o\\', \\'--output\\', type=str, nargs=\\'+\\', help=\\'output\\')\\n\\n        \\n    def cell2file (self, folder, cell):\\n        folder = Path(folder)\\n        folder.mkdir(parents=True, exist_ok=True)\\n\\n        with open(folder / \"module.py\", \"w\") as file_handle:\\n            file_handle.write(cell)\\n\\n        get_ipython().run_cell(cell)\\n                    \\n    def function (\\n        self,\\n        func, \\n        cell,\\n        input=None,\\n        unknown_input=True,\\n        output=None,\\n        unknown_output=True,\\n        collect_variables_values=True,\\n        make_function=True,\\n        tab_size=4,\\n        update_previous_functions=True\\n    ) -> None:\\n        \\n        this_function = FunctionProcessor (\\n            idx=len(self.function_list), \\n            original_code=cell, \\n            name=func, \\n            values_before=[]\\n        )\\n        if func not in self.function_info:\\n            self.function_info[func] = this_function\\n            self.function_list.append (this_function)\\n            \\n        idx = this_function.idx\\n        \\n        # get variables specific about this function\\n        if collect_variables_values:\\n            get_variables_before_code = f\\'\\\\nkeep_variables (\"{func}\", \"values_before\", locals ())\\'\\n            get_ipython().run_cell(get_variables_before_code)\\n            \\n            get_variables_here_code = cell + f\\'\\\\nkeep_variables (\"{func}\", \"values_here\", locals ())\\'\\n            get_ipython().run_cell(get_variables_here_code)\\n            values_before, values_here = this_function[\\'values_before\\'], this_function[\\'values_here\\']\\n            values_here = {k:values_here[k] for k in set(values_here).difference(values_before)}\\n            this_function[\\'values_here\\'] = values_here\\n            print (values_here)\\n        \\n        root = ast.parse (cell)\\n        variables_here = {node.id for node in ast.walk(root) if isinstance(node, ast.Name) and not callable(eval(node.id))}\\n        print (variables_here)\\n        if idx > 0:\\n            variables_before = reduce (lambda x, y: x[\\'variables_here\\'] | y[\\'variables_here\\'], self.function_list[:idx])\\n        else:\\n            variables_before = []\\n        variables_here = sorted (variables_here.difference(variables_before))\\n        print (variables_here)\\n        this_function.update (variables_here=variables_here, variables_before=variables_here+variables_before, variables_after=[])\\n        \\n        if make_function:\\n            this_function.update_code ( \\n                arguments=variables_before if unknown_input else input, \\n                return_values=(variables_here+variables_before) if unknown_output else output,\\n                tab_size=tab_size\\n            )\\n            \\n        for function in self.function_list[:idx]:\\n            function.variables_after += [v for v in this_function.variables_here if v not in function.variables_after]\\n            if update_previous_functions and unknown_output:\\n                this_function.update_code (function, return_values=function.variables_after, tab_size=tab_size)\\n                \\n    def parse_signature (self, line):\\n        argv = shlex.split(line, posix=(os.name == \\'posix\\'))\\n        \\n        function_name=argv[0]\\n        signature = dict(\\n            input=None,\\n            unknown_input=True,\\n            output=None,\\n            unknown_output=True\\n        )\\n        found_io = False\\n        for idx, arg in enumerate(argv[1:], 1):\\n            if arg and arg.startswith(\\'-\\') and arg != \\'-\\' and arg != \\'->\\':\\n                found_io = True\\n                break\\n        if found_io:\\n            pars = self.parser.parse_args(argv[idx:])\\n            unknown_input = \\'input\\' not in pars\\n            if not unknown_input:\\n                signature.update (input=pars.input, unknown_input=False)\\n            unknown_output = \\'output\\' not in pars\\n            if not unknown_output:\\n                signature.update (output=pars.output, unknown_output=False)\\n            \\n        print (function_name, signature)\\n        return function_name, signature\\n    \\n    def write (self):\\n        with open (str(self.file_path), \\'w\\') as file:\\n            for function in self.function_list:\\n                function.write (file)\\n                \\n    def print (self):\\n        for function in self.function_list:\\n            function.print ()\\n        \\n    def get_lib_path (self):\\n        return nbdev.config.get_config()[\\'lib_path\\']\\n                   \\n    def get_nbs_path (self):\\n        return nbdev.config.get_config()[\\'nbs_path\\']', '#| export\\n@magics_class\\nclass CellProcessorMagic (Magics):\\n    \"\"\"\\n    Base magic class for converting cells to modular functions.\\n    \"\"\"\\n    def __init__(self, shell, **kwargs):\\n        super().__init__(shell)\\n        self.processor = CellProcessor (magic=self, **kwargs)\\n        \\n    @cell_magic\\n    def cell2file (self, folder, cell):\\n        self.processor.cell2file (folder, cell)\\n    \\n    @cell_magic\\n    def function (self, line, cell):\\n        \"Converts cell to function\"\\n        function_name, signature = self.processor.parse_signature (line)\\n        self.processor.function (function_name, cell, **signature)\\n    \\n    @line_magic\\n    def write (self, line):\\n        return self.processor.write ()\\n    \\n    @line_magic\\n    def print (self, line):\\n        return self.processor.print ()\\n        \\n    @line_magic\\n    def cell_processor (self, line):\\n        return self.processor\\n        \\n          \\n    @line_magic\\n    def match (self, line):\\n        p0 = \\'[a-zA-Z]\\\\S*\\\\s*\\\\\\\\([^-()]*\\\\\\\\)\\\\s*->\\\\s*\\\\\\\\([^-()]*\\\\\\\\)\\'\\n        p = \\'\\\\\\\\([^-()]*\\\\\\\\)\\'\\n        m = re.search (p0, line)\\n        if m is not None:\\n            inp, out = re.findall (p, line)\\n            print (inp)\\n            print (out)', '#| export\\n#| hide\\ndef load_ipython_extension(ipython):\\n    \"\"\"\\n    This module can be loaded via `%load_ext core.cell2func` or be configured to be autoloaded by IPython at startup time.\\n    \"\"\"\\n    magics = CellProcessorMagic(ipython)\\n    ipython.register_magics(magics)', '#| export\\ndef keep_variables (function, field, variable_values, self=None):\\n    \"\"\"\\n    Store `variables` in dictionary entry `self.variables_field[function]`\\n    \"\"\"\\n    frame_number = 1\\n    while not isinstance (self, CellProcessor):\\n        fr = sys._getframe(frame_number)\\n        args = argnames(fr, True)\\n        if len(args)>0:\\n            self = fr.f_locals[args[0]]\\n        frame_number += 1\\n    variable_values = {k: variable_values[k] for k in variable_values if not k.startswith (\\'_\\') and not callable(variable_values[k])}\\n    function_info = getattr(self, \\'function_info\\')\\n    function_info[function][field]=variable_values', 'load_ipython_extension (get_ipython())', 'get_ipython().run_cell_magic(\\'other\\', \\'fun (a, b, c) -> (d, e, f) -i a c -o b d\\', \"print (\\'yes\\')\\\\n\")', 'get_ipython().run_cell_magic(\\'function\\', \\'final\\', \"a = 1\\\\nb = 2\\\\nprint (f\\'a + b is {a+b}\\')\\\\nc = a*b\\\\nprint (f\\'a * b is {c}\\')\\\\n\")', \"get_ipython().run_line_magic('print', 'all')\", \"a = get_ipython().run_line_magic('cell_processor', '1')\", 'a.file_name', 'final ()', '#| hide\\nimport nbdev; nbdev.nbdev_export()', 'get_ipython().run_cell_magic(\\'function\\', \\'my_final -i a b\\', \"a = 1\\\\nb = 2\\\\nprint (f\\'a + b is {a+b}\\')\\\\nc = a*b\\\\nprint (f\\'a * b is {c}\\')\\\\n\")', \"get_ipython().run_line_magic('debug', '')\"], 'Out': {14: 'cell2func', 15: (1, 2, 2), 19: <re.Match object; span=(0, 1), match='('>, 21: <re.Match object; span=(1, 2), match='h'>, 24: <re.Match object; span=(0, 1), match='('>, 25: <re.Match object; span=(6, 7), match=')'>, 28: <re.Match object; span=(0, 7), match='(hello)'>, 29: <re.Match object; span=(6, 28), match='(a, b, c) -> (d, e, f)'>, 36: <re.Match object; span=(6, 28), match='(a, b, c) -> (d, e, f)'>, 41: <re.Match object; span=(6, 28), match='(a, b, c) -> (d, e, f)'>, 42: <re.Match object; span=(6, 18), match='(a, b, c) ->'>, 43: <re.Match object; span=(6, 17), match='(a, b, c) -'>, 44: <re.Match object; span=(6, 18), match='(a, b, c) ->'>, 45: <re.Match object; span=(6, 18), match='(a, b, c) ->'>, 49: <re.Match object; span=(6, 15), match='(a, b, c)'>, 50: <re.Match object; span=(6, 15), match='(a, b, c)'>, 51: ['myfun ', ' -> ', ''], 52: ['(a, b, c)', '(d, e, f)'], 54: <re.Match object; span=(6, 15), match='(a, b, c)'>, 55: <re.Match object; span=(6, 15), match='(a, b, c)'>, 56: <re.Match object; span=(6, 15), match='(a, b, c)'>, 57: <re.Match object; span=(16, 28), match='-> (d, e, f)'>, 58: <re.Match object; span=(6, 28), match='(a, b, c) -> (d, e, f)'>, 60: <re.Match object; span=(6, 28), match='(a, b, c) -> (d, e, f)'>, 61: <built-in method span of re.Match object>, 62: <re.Match object; span=(6, 28), match='(a, b, c) -> (d, e, f)'>, 64: <built-in method groups of re.Match object>, 65: (), 66: <built-in method groupdict of re.Match object>, 67: {}, 68: (6, 28), 69: 6, 72: <re.Match object; span=(0, 28), match='myfun (a, b, c) -> (d, e, f)'>, 75: <re.Match object; span=(0, 28), match='myfun (a, b, c) -> (d, e, f)'>, 76: <re.Match object; span=(0, 28), match='myfun (a, b, c) -> (d, e, f)'>, 77: <re.Match object; span=(0, 28), match='myfun (a, b, c) -> (d, e, f)'>, 79: <re.Match object; span=(0, 28), match='myfun (a, b, c) -> (d, e, f)'>, 82: <re.Match object; span=(0, 28), match='myfun (a, b, c) -> (d, e, f)'>, 101: 'cell2func', 102: (1, 2, 2), 156: 'cell2func', 157: (1, 2, 2)}, 'os': <module 'os' from '/home/jaumeamllo/miniconda3/envs/tsforecast/lib/python3.10/os.py'>, 'argparse': <module 'argparse' from '/home/jaumeamllo/miniconda3/envs/tsforecast/lib/python3.10/argparse.py'>, 'shlex': <module 'shlex' from '/home/jaumeamllo/miniconda3/envs/tsforecast/lib/python3.10/shlex.py'>, 'sys': <module 'sys' (built-in)>, 'ast': <module 'ast' from '/home/jaumeamllo/miniconda3/envs/tsforecast/lib/python3.10/ast.py'>, 'ipynbname': <module 'ipynbname' from '/home/jaumeamllo/miniconda3/envs/tsforecast/lib/python3.10/site-packages/ipynbname/__init__.py'>, 'nbdev': <module 'nbdev' from '/home/jaumeamllo/miniconda3/envs/tsforecast/lib/python3.10/site-packages/nbdev/__init__.py'>, 'a': 1, 'b': 2, 'c': 2, 're': <module 're' from '/home/jaumeamllo/miniconda3/envs/tsforecast/lib/python3.10/re.py'>, 'p': '\\\\([^-()]*\\\\)', 'line': 'myfun (a, b, c) -> (d, e, f)', 'p2': '-> \\\\([^-()]*\\\\)', 'p0': '[a-zA-Z]\\\\S*\\\\s*\\\\([^-()]*\\\\)\\\\s*->\\\\s*\\\\([^-()]*\\\\)', 'm': <re.Match object; span=(0, 28), match='myfun (a, b, c) -> (d, e, f)'>, 'inp': '(a, b, c)', 'out': '(d, e, f)'}, 'values_here': {}, 'variables_here': ['a', 'b', 'c'], 'variables_before': ['a', 'b', 'c'], 'variables_after': [], 'arguments': [], 'return_values': ['a', 'b', 'c'], 'code': \"def final():\\n    a = 1\\n    b = 2\\n    print (f'a + b is {a+b}')\\n    c = a*b\\n    print (f'a * b is {c}')\\n    return a,b,c\\n\"}\n"
     ]
    }
   ],
   "source": [
    "%debug"
   ]
  },
  {
   "cell_type": "code",
   "execution_count": null,
   "metadata": {},
   "outputs": [
    {
     "name": "stdout",
     "output_type": "stream",
     "text": [
      "def final():\n",
      "    a = 1\n",
      "    b = 2\n",
      "    print (f'a + b is {a+b}')\n",
      "    c = a*b\n",
      "    print (f'a * b is {c}')\n",
      "    return a,b,c\n",
      "\n"
     ]
    }
   ],
   "source": [
    "%print all"
   ]
  },
  {
   "cell_type": "code",
   "execution_count": null,
   "metadata": {},
   "outputs": [],
   "source": [
    "a = %cell_processor 1"
   ]
  },
  {
   "cell_type": "code",
   "execution_count": null,
   "metadata": {},
   "outputs": [
    {
     "data": {
      "text/plain": [
       "'cell2func'"
      ]
     },
     "execution_count": null,
     "metadata": {},
     "output_type": "execute_result"
    }
   ],
   "source": [
    "a.file_name"
   ]
  },
  {
   "cell_type": "code",
   "execution_count": null,
   "metadata": {},
   "outputs": [
    {
     "name": "stdout",
     "output_type": "stream",
     "text": [
      "a + b is 3\n",
      "a * b is 2\n"
     ]
    },
    {
     "data": {
      "text/plain": [
       "(1, 2, 2)"
      ]
     },
     "execution_count": null,
     "metadata": {},
     "output_type": "execute_result"
    }
   ],
   "source": [
    "final ()"
   ]
  },
  {
   "cell_type": "code",
   "execution_count": null,
   "metadata": {},
   "outputs": [],
   "source": [
    "#| hide\n",
    "import nbdev; nbdev.nbdev_export()"
   ]
  }
 ],
 "metadata": {
  "kernelspec": {
   "display_name": "tsforecast",
   "language": "python",
   "name": "tsforecast"
  }
 },
 "nbformat": 4,
 "nbformat_minor": 4
}
