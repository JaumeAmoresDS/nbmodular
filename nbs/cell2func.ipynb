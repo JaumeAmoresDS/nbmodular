{
 "cells": [
  {
   "cell_type": "markdown",
   "metadata": {},
   "source": [
    "# cell2func\n",
    "\n",
    "> Fill in a module description here"
   ]
  },
  {
   "cell_type": "code",
   "execution_count": null,
   "metadata": {},
   "outputs": [],
   "source": [
    "#| default_exp core.cell2func"
   ]
  },
  {
   "cell_type": "code",
   "execution_count": null,
   "metadata": {},
   "outputs": [],
   "source": [
    "#| export\n",
    "from pathlib import Path\n",
    "import sys\n",
    "import ast\n",
    "from IPython import get_ipython\n",
    "from IPython.core.magic import (Magics, magics_class, line_magic,\n",
    "                                cell_magic, line_cell_magic)\n",
    "\n",
    "from fastcore.all import argnames"
   ]
  },
  {
   "cell_type": "code",
   "execution_count": null,
   "metadata": {},
   "outputs": [],
   "source": [
    "#| export\n",
    "@magics_class\n",
    "class Cell2Func(Magics):\n",
    "    def __init__(self, shell):\n",
    "        super().__init__(shell)\n",
    "        self.variable_values = {}\n",
    "        self.variables = {}\n",
    "        \n",
    "    @cell_magic\n",
    "    def cell2file (self, folder, cell):\n",
    "        \n",
    "        folder = Path(folder)\n",
    "        folder.mkdir(parents=True, exist_ok=True)\n",
    "\n",
    "        with open(folder / \"module.py\", \"w\") as file_handle:\n",
    "            file_handle.write(cell)\n",
    "\n",
    "        get_ipython().run_cell(cell)\n",
    "    \n",
    "    @cell_magic\n",
    "    def function (self, func, cell):\n",
    "        \"my cell magic\"\n",
    "        \n",
    "        get_variables_before = f'\\nkeep_variables (\"before_{func}\", locals ())'\n",
    "        get_ipython().run_cell(get_variables_before)\n",
    "        \n",
    "        cell += f'\\nkeep_variables (\"{func}\", locals ())'\n",
    "        get_ipython().run_cell(cell)\n",
    "        \n",
    "        self.variable_values[func] = {k:self.variable_values[func][k] for k in set(self.variable_values[func]).difference(self.variable_values[f'before_{func}'])}\n",
    "        \n",
    "        print (self.variable_values[func])\n",
    "        \n",
    "        root = ast.parse (cell)\n",
    "        self.variables[func] = sorted ({node.id for node in ast.walk(root) if isinstance(node, ast.Name) and not callable(eval(node.id))})\n",
    "        print (self.variables[func])\n",
    "\n",
    "def load_ipython_extension(ipython):\n",
    "    \"\"\"\n",
    "    Any module file that define a function named `load_ipython_extension`\n",
    "    can be loaded via `%load_ext module.path` or be configured to be\n",
    "    autoloaded by IPython at startup time.\n",
    "    \"\"\"\n",
    "    magics = Cell2Func(ipython)\n",
    "    ipython.register_magics(magics)"
   ]
  },
  {
   "cell_type": "code",
   "execution_count": null,
   "metadata": {},
   "outputs": [],
   "source": [
    "#| export\n",
    "def keep_variables (function, variables, self=None):\n",
    "    \"Store params named in comma-separated `names` from calling context into attrs in `self`\"\n",
    "    frame_number = 1\n",
    "    while not isinstance (self, Cell2Func):\n",
    "        fr = sys._getframe(frame_number)\n",
    "        args = argnames(fr, True)\n",
    "        if len(args)>0:\n",
    "            self = fr.f_locals[args[0]]\n",
    "        frame_number += 1\n",
    "    variables = {k: variables[k] for k in variables if not k.startswith ('_') and not callable(variables[k])}\n",
    "    variables_field = getattr(self, 'variable_values')\n",
    "    variables_field[function] = variables"
   ]
  },
  {
   "cell_type": "code",
   "execution_count": null,
   "metadata": {},
   "outputs": [],
   "source": [
    "load_ipython_extension (get_ipython())"
   ]
  },
  {
   "cell_type": "code",
   "execution_count": null,
   "metadata": {},
   "outputs": [
    {
     "name": "stdout",
     "output_type": "stream",
     "text": [
      "a + b is 3\n",
      "a * b is 2\n",
      "{}\n",
      "['a', 'b', 'c']\n"
     ]
    }
   ],
   "source": [
    "%%function final\n",
    "a = 1\n",
    "b = 2\n",
    "print (f'a + b is {a+b}')\n",
    "c = a*b\n",
    "print (f'a * b is {c}')"
   ]
  },
  {
   "cell_type": "code",
   "execution_count": null,
   "metadata": {},
   "outputs": [],
   "source": [
    "#| hide\n",
    "import nbdev; nbdev.nbdev_export()"
   ]
  }
 ],
 "metadata": {
  "kernelspec": {
   "display_name": "tsforecast",
   "language": "python",
   "name": "tsforecast"
  }
 },
 "nbformat": 4,
 "nbformat_minor": 4
}
