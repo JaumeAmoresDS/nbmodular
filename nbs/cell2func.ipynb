{
 "cells": [
  {
   "cell_type": "markdown",
   "metadata": {},
   "source": [
    "# cell2func\n",
    "\n",
    "> Convert desired notebook cells to functions. \n",
    "\n",
    "Detects function inputs automatically and function outputs semi-automatically. In the latter case, hints are provided to the developer to refine the list of outputs per each cell."
   ]
  },
  {
   "cell_type": "code",
   "execution_count": null,
   "metadata": {},
   "outputs": [],
   "source": [
    "#| default_exp core.cell2func"
   ]
  },
  {
   "cell_type": "code",
   "execution_count": null,
   "metadata": {},
   "outputs": [],
   "source": [
    "#| export\n",
    "import os\n",
    "import shlex\n",
    "from dataclasses import dataclass\n",
    "from functools import reduce\n",
    "from pathlib import Path\n",
    "import sys\n",
    "import ast\n",
    "from IPython import get_ipython\n",
    "from IPython.core.magic import (Magics, magics_class, line_magic,\n",
    "                                cell_magic, line_cell_magic)\n",
    "from IPython.core.magic_arguments import (argument, magic_arguments, parse_argstring)\n",
    "import ipynbname\n",
    "from sklearn.utils import Bunch\n",
    "from fastcore.all import argnames\n",
    "import nbdev"
   ]
  },
  {
   "cell_type": "code",
   "execution_count": null,
   "metadata": {},
   "outputs": [],
   "source": [
    "#|export\n",
    "class FunctionProcessor (Bunch):\n",
    "    def to_file (self, file_path, mode='w'):\n",
    "        with open (file_path, mode=mode) as file:\n",
    "            file.write (self.code)\n",
    "    \n",
    "    def write (self, file):\n",
    "        file.write (self.code)\n",
    "        \n",
    "    def print (self):\n",
    "        print (self.code)\n",
    "    \n",
    "    def update_code (\n",
    "        self, \n",
    "        arguments=None, \n",
    "        return_values=None,\n",
    "        tab_size=4,\n",
    "        display=True\n",
    "    ) -> None:\n",
    "        if arguments is not None:\n",
    "            self.arguments = arguments\n",
    "        arguments = ', '.join (self.arguments)\n",
    "        if return_values is not None:\n",
    "            self.return_values = return_values\n",
    "        return_values = ','.join (self.return_values)\n",
    "        function_code = ''\n",
    "        for line in self.original_code.splitlines():\n",
    "            function_code += f'{\" \" * tab_size}{line}\\n'\n",
    "        if return_values != '':\n",
    "            return_line = f'return {return_values}'\n",
    "            return_line = f'{\" \" * tab_size}{return_line}\\n'\n",
    "        else:\n",
    "            return_line = ''\n",
    "        function_code = f'def {self.name}({arguments}):\\n' + function_code + return_line\n",
    "        self.code = function_code\n",
    "        get_ipython().run_cell(function_code)\n",
    "        if display:\n",
    "            print (function_code)"
   ]
  },
  {
   "cell_type": "code",
   "execution_count": null,
   "metadata": {},
   "outputs": [],
   "source": [
    "#| export\n",
    "class CellProcessor():\n",
    "    \"\"\"\n",
    "    Processes the cell's code according to the magic command.\n",
    "    \"\"\"\n",
    "    def __init__(self, **kwargs):\n",
    "        self.function_info = Bunch()\n",
    "        self.function_list = []\n",
    "        self.file_name = ipynbname.name().replace ('.ipynb', '.py')\n",
    "        self.nbs_folder = self.get_nbs_path ()\n",
    "        self.lib_folder = self.get_lib_path ()\n",
    "        nb_path = ipynbname.path ()\n",
    "        index = nb_path.parts.index(self.nbs_folder.name)\n",
    "        self.file_path = (self.nbs_folder.parent / self.lib_folder.name).joinpath (*nb_path.parts[index+1:])\n",
    "        \n",
    "    def cell2file (self, folder, cell):\n",
    "        folder = Path(folder)\n",
    "        folder.mkdir(parents=True, exist_ok=True)\n",
    "\n",
    "        with open(folder / \"module.py\", \"w\") as file_handle:\n",
    "            file_handle.write(cell)\n",
    "\n",
    "        get_ipython().run_cell(cell)\n",
    "                    \n",
    "    def function (\n",
    "        self,\n",
    "        func, \n",
    "        cell,\n",
    "        collect_variables_values=True,\n",
    "        make_function=True,\n",
    "        tab_size=4,\n",
    "        update_previous_functions=True,\n",
    "        discover_outputs=True\n",
    "    ) -> None:\n",
    "        \n",
    "        this_function = FunctionProcessor (\n",
    "            idx=len(self.function_list), \n",
    "            original_code=cell, \n",
    "            name=func, \n",
    "            discover_outputs=discover_outputs,\n",
    "            values_before=[]\n",
    "        )\n",
    "        if func not in self.function_info:\n",
    "            self.function_info[func] = this_function\n",
    "            self.function_list.append (this_function)\n",
    "            \n",
    "        idx = this_function.idx\n",
    "        \n",
    "        # get variables specific about this function\n",
    "        if collect_variables_values:\n",
    "            get_variables_before_code = f'\\nkeep_variables (\"{func}\", \"values_before\", locals ())'\n",
    "            get_ipython().run_cell(get_variables_before_code)\n",
    "            \n",
    "            get_variables_here_code = cell + f'\\nkeep_variables (\"{func}\", \"values_here\", locals ())'\n",
    "            get_ipython().run_cell(get_variables_here_code)\n",
    "            values_before, values_here = this_function['values_before'], this_function['values_here']\n",
    "            values_here = {k:values_here[k] for k in set(values_here).difference(values_before)}\n",
    "            this_function['values_here'] = values_here\n",
    "            print (values_here)\n",
    "        \n",
    "        root = ast.parse (cell)\n",
    "        variables_here = {node.id for node in ast.walk(root) if isinstance(node, ast.Name) and not callable(eval(node.id))}\n",
    "        print (variables_here)\n",
    "        if idx > 0:\n",
    "            variables_before = reduce (lambda x, y: x['variables_here'] | y['variables_here'], self.function_list[:idx])\n",
    "        else:\n",
    "            variables_before = []\n",
    "        variables_here = sorted (variables_here.difference(variables_before))\n",
    "        print (variables_here)\n",
    "        this_function.update (variables_here=variables_here, variables_before=variables_here+variables_before, variables_after=[])\n",
    "        \n",
    "        if make_function:\n",
    "            this_function.update_code ( \n",
    "                arguments=variables_before, \n",
    "                return_values=variables_here+variables_before,\n",
    "                tab_size=tab_size\n",
    "            )\n",
    "            \n",
    "        for function in self.function_list[:idx]:\n",
    "            function.variables_after += [v for v in this_function.variables_here if v not in function.variables_after]\n",
    "            if update_previous_functions and function.discover_outputs:\n",
    "                this_function.update_code (function, return_values=function.variables_after, tab_size=tab_size)\n",
    "    \n",
    "    def write (self):\n",
    "        with open (str(self.file_path), 'w') as file:\n",
    "            for function in self.function_list:\n",
    "                function.write (file)\n",
    "                \n",
    "    def print (self):\n",
    "        for function in self.function_list:\n",
    "            function.print ()\n",
    "        \n",
    "    def get_lib_path (self):\n",
    "        return nbdev.config.get_config()['lib_path']\n",
    "                   \n",
    "    def get_nbs_path (self):\n",
    "        return nbdev.config.get_config()['nbs_path']"
   ]
  },
  {
   "cell_type": "code",
   "execution_count": null,
   "metadata": {},
   "outputs": [],
   "source": [
    "#| export\n",
    "@magics_class\n",
    "class CellProcessorMagic (Magics):\n",
    "    \"\"\"\n",
    "    Base magic class for converting cells to modular functions.\n",
    "    \"\"\"\n",
    "    def __init__(self, shell, **kwargs):\n",
    "        super().__init__(shell)\n",
    "        self.processor = CellProcessor (magic=self, **kwargs)\n",
    "        \n",
    "    @cell_magic\n",
    "    def cell2file (self, folder, cell):\n",
    "        self.processor.cell2file (folder, cell)\n",
    "    \n",
    "    @cell_magic\n",
    "    def function (self, func, cell):\n",
    "        \"Converts cell to function\"\n",
    "        self.processor.function (func, cell)\n",
    "    \n",
    "    @line_magic\n",
    "    def write (self, line):\n",
    "        return self.processor.write ()\n",
    "    \n",
    "    @line_magic\n",
    "    def print (self, line):\n",
    "        return self.processor.print ()\n",
    "        \n",
    "    @line_magic\n",
    "    def cell_processor (self, line):\n",
    "        return self.processor\n",
    "\n",
    "    #@magic_arguments()\n",
    "    #@argument ('-o','--output', help='function output')\n",
    "    #@argument ('arg', type=str, help='argument')\n",
    "    @cell_magic\n",
    "    def other (self, line, cell):\n",
    "        if False:\n",
    "            argv = shlex.split(line, posix=(os.name == 'posix'))\n",
    "            for idx, arg in enumerate(argv):\n",
    "                if arg and arg.startswith('-') and arg != '-' and arg != '->':\n",
    "                    break\n",
    "            print ('argv from idx', argv[idx:])\n",
    "            #signature = ' '.join(shlex.quote(arg) for arg in argv[1:idx])\n",
    "            signature = ' '.join(argv[1:idx])\n",
    "            print ('signature', signature)\n",
    "            if '(' in signature and ')' in signature:\n",
    "                func, parameters = 'fun (a, b, c)'.split('(')\n",
    "                parameters,_ = parameters.split(')')\n",
    "                parameters = parameters.split(',')\n",
    "                func = func.split()[0]\n",
    "                print ('func', func, 'parameters', parameters)\n",
    "            if '->' in signature:\n",
    "                _, output = signature.split('->')\n",
    "                output = output.split (',')\n",
    "                print ('output', output)\n",
    "\n",
    "            parameter_s = ' '.join(shlex.quote(arg) for arg in argv[idx:])\n",
    "            print ('parameter_s', parameter_s)\n",
    "\n",
    "            # get arguments and set sys.argv for program to be run.\n",
    "            opts, arg_lst = self.parse_options(parameter_s,\n",
    "                                               \"n:r:t:q\",\n",
    "                                               mode='list', list_all=1,\n",
    "                                               strict=False, preserve_non_opts=True)\n",
    "            print ('opts from paramater_s', opts)\n",
    "            print ('arg_lst from paramater_s', arg_lst)\n",
    "\n",
    "            opts, stmt = self.parse_options(\n",
    "                line, \"n:r:t:q\", posix=False, strict=False, preserve_non_opts=True\n",
    "            )\n",
    "            print ('opts from line', opts)\n",
    "            print ('stmt from line', stmt)"
   ]
  },
  {
   "cell_type": "code",
   "execution_count": null,
   "metadata": {},
   "outputs": [],
   "source": [
    "#| export\n",
    "#| hide\n",
    "def load_ipython_extension(ipython):\n",
    "    \"\"\"\n",
    "    This module can be loaded via `%load_ext core.cell2func` or be configured to be autoloaded by IPython at startup time.\n",
    "    \"\"\"\n",
    "    magics = CellProcessorMagic(ipython)\n",
    "    ipython.register_magics(magics)"
   ]
  },
  {
   "cell_type": "code",
   "execution_count": null,
   "metadata": {},
   "outputs": [],
   "source": [
    "#| export\n",
    "def keep_variables (function, field, variable_values, self=None):\n",
    "    \"\"\"\n",
    "    Store `variables` in dictionary entry `self.variables_field[function]`\n",
    "    \"\"\"\n",
    "    frame_number = 1\n",
    "    while not isinstance (self, CellProcessor):\n",
    "        fr = sys._getframe(frame_number)\n",
    "        args = argnames(fr, True)\n",
    "        if len(args)>0:\n",
    "            self = fr.f_locals[args[0]]\n",
    "        frame_number += 1\n",
    "    variable_values = {k: variable_values[k] for k in variable_values if not k.startswith ('_') and not callable(variable_values[k])}\n",
    "    function_info = getattr(self, 'function_info')\n",
    "    function_info[function][field]=variable_values"
   ]
  },
  {
   "cell_type": "code",
   "execution_count": null,
   "metadata": {},
   "outputs": [],
   "source": [
    "load_ipython_extension (get_ipython())"
   ]
  },
  {
   "cell_type": "code",
   "execution_count": null,
   "metadata": {},
   "outputs": [
    {
     "name": "stdout",
     "output_type": "stream",
     "text": [
      "argv from idx ['-n', '(a, b, c) -> o d, e, f', '-t', 'jajaj', 'yes']\n",
      "signature (a, b, c) -> d, e, f\n",
      "func fun parameters ['a', ' b', ' c']\n"
     ]
    },
    {
     "ename": "AttributeError",
     "evalue": "'list' object has no attribute 'split'",
     "output_type": "error",
     "traceback": [
      "\u001b[0;31m---------------------------------------------------------------------------\u001b[0m",
      "\u001b[0;31mAttributeError\u001b[0m                            Traceback (most recent call last)",
      "Cell \u001b[0;32mIn[183], line 1\u001b[0m\n\u001b[0;32m----> 1\u001b[0m \u001b[43mget_ipython\u001b[49m\u001b[43m(\u001b[49m\u001b[43m)\u001b[49m\u001b[38;5;241;43m.\u001b[39;49m\u001b[43mrun_cell_magic\u001b[49m\u001b[43m(\u001b[49m\u001b[38;5;124;43m'\u001b[39;49m\u001b[38;5;124;43mother\u001b[39;49m\u001b[38;5;124;43m'\u001b[39;49m\u001b[43m,\u001b[49m\u001b[43m \u001b[49m\u001b[38;5;124;43m'\u001b[39;49m\u001b[38;5;124;43mfun (a, b, c) -> d, e, f -n \u001b[39;49m\u001b[38;5;124;43m\"\u001b[39;49m\u001b[38;5;124;43m(a, b, c) -> o d, e, f\u001b[39;49m\u001b[38;5;124;43m\"\u001b[39;49m\u001b[38;5;124;43m -t jajaj yes\u001b[39;49m\u001b[38;5;124;43m'\u001b[39;49m\u001b[43m,\u001b[49m\u001b[43m \u001b[49m\u001b[38;5;124;43m\"\u001b[39;49m\u001b[38;5;124;43mprint (\u001b[39;49m\u001b[38;5;124;43m'\u001b[39;49m\u001b[38;5;124;43myes\u001b[39;49m\u001b[38;5;124;43m'\u001b[39;49m\u001b[38;5;124;43m)\u001b[39;49m\u001b[38;5;130;43;01m\\n\u001b[39;49;00m\u001b[38;5;124;43m\"\u001b[39;49m\u001b[43m)\u001b[49m\n",
      "File \u001b[0;32m~/miniconda3/envs/tsforecast/lib/python3.10/site-packages/IPython/core/interactiveshell.py:2430\u001b[0m, in \u001b[0;36mInteractiveShell.run_cell_magic\u001b[0;34m(self, magic_name, line, cell)\u001b[0m\n\u001b[1;32m   2428\u001b[0m \u001b[38;5;28;01mwith\u001b[39;00m \u001b[38;5;28mself\u001b[39m\u001b[38;5;241m.\u001b[39mbuiltin_trap:\n\u001b[1;32m   2429\u001b[0m     args \u001b[38;5;241m=\u001b[39m (magic_arg_s, cell)\n\u001b[0;32m-> 2430\u001b[0m     result \u001b[38;5;241m=\u001b[39m \u001b[43mfn\u001b[49m\u001b[43m(\u001b[49m\u001b[38;5;241;43m*\u001b[39;49m\u001b[43margs\u001b[49m\u001b[43m,\u001b[49m\u001b[43m \u001b[49m\u001b[38;5;241;43m*\u001b[39;49m\u001b[38;5;241;43m*\u001b[39;49m\u001b[43mkwargs\u001b[49m\u001b[43m)\u001b[49m\n\u001b[1;32m   2432\u001b[0m \u001b[38;5;66;03m# The code below prevents the output from being displayed\u001b[39;00m\n\u001b[1;32m   2433\u001b[0m \u001b[38;5;66;03m# when using magics with decodator @output_can_be_silenced\u001b[39;00m\n\u001b[1;32m   2434\u001b[0m \u001b[38;5;66;03m# when the last Python token in the expression is a ';'.\u001b[39;00m\n\u001b[1;32m   2435\u001b[0m \u001b[38;5;28;01mif\u001b[39;00m \u001b[38;5;28mgetattr\u001b[39m(fn, magic\u001b[38;5;241m.\u001b[39mMAGIC_OUTPUT_CAN_BE_SILENCED, \u001b[38;5;28;01mFalse\u001b[39;00m):\n",
      "Cell \u001b[0;32mIn[179], line 54\u001b[0m, in \u001b[0;36mCellProcessorMagic.other\u001b[0;34m(self, line, cell)\u001b[0m\n\u001b[1;32m     52\u001b[0m     _, output \u001b[38;5;241m=\u001b[39m signature\u001b[38;5;241m.\u001b[39msplit(\u001b[38;5;124m'\u001b[39m\u001b[38;5;124m->\u001b[39m\u001b[38;5;124m'\u001b[39m)\n\u001b[1;32m     53\u001b[0m     output \u001b[38;5;241m=\u001b[39m output\u001b[38;5;241m.\u001b[39msplit (\u001b[38;5;124m'\u001b[39m\u001b[38;5;124m,\u001b[39m\u001b[38;5;124m'\u001b[39m)\n\u001b[0;32m---> 54\u001b[0m     output \u001b[38;5;241m=\u001b[39m \u001b[43moutput\u001b[49m\u001b[38;5;241;43m.\u001b[39;49m\u001b[43msplit\u001b[49m()\n\u001b[1;32m     55\u001b[0m     \u001b[38;5;28mprint\u001b[39m (\u001b[38;5;124m'\u001b[39m\u001b[38;5;124moutput\u001b[39m\u001b[38;5;124m'\u001b[39m, output)\n\u001b[1;32m     57\u001b[0m parameter_s \u001b[38;5;241m=\u001b[39m \u001b[38;5;124m'\u001b[39m\u001b[38;5;124m \u001b[39m\u001b[38;5;124m'\u001b[39m\u001b[38;5;241m.\u001b[39mjoin(shlex\u001b[38;5;241m.\u001b[39mquote(arg) \u001b[38;5;28;01mfor\u001b[39;00m arg \u001b[38;5;129;01min\u001b[39;00m argv[idx:])\n",
      "\u001b[0;31mAttributeError\u001b[0m: 'list' object has no attribute 'split'"
     ]
    }
   ],
   "source": [
    "%%other fun (a, b, c) -> d, e, f -n \"(a, b, c) -> o d, e, f\" -t jajaj yes\n",
    "print ('yes')"
   ]
  },
  {
   "cell_type": "code",
   "execution_count": null,
   "metadata": {},
   "outputs": [
    {
     "name": "stdout",
     "output_type": "stream",
     "text": [
      "argv from idx ['-n', 'a,', 'b,', 'c']\n",
      "parameter_s -n a, b, c\n",
      "opts from paramater_s {'n': ['a,']}\n",
      "arg_lst from paramater_s ['b,', 'c']\n",
      "opts from line {}\n",
      "stmt from line fun -n a, b, c\n"
     ]
    }
   ],
   "source": [
    "%%other fun -n a, b, c \n",
    "print ('yes')"
   ]
  },
  {
   "cell_type": "code",
   "execution_count": null,
   "metadata": {},
   "outputs": [],
   "source": [
    "import ast"
   ]
  },
  {
   "cell_type": "code",
   "execution_count": null,
   "metadata": {},
   "outputs": [],
   "source": []
  },
  {
   "cell_type": "code",
   "execution_count": null,
   "metadata": {},
   "outputs": [],
   "source": [
    "%%function final\n",
    "a = 1\n",
    "b = 2\n",
    "print (f'a + b is {a+b}')\n",
    "c = a*b\n",
    "print (f'a * b is {c}')"
   ]
  },
  {
   "cell_type": "code",
   "execution_count": null,
   "metadata": {},
   "outputs": [],
   "source": [
    "%print all"
   ]
  },
  {
   "cell_type": "code",
   "execution_count": null,
   "metadata": {},
   "outputs": [],
   "source": [
    "a = %cell_processor 1"
   ]
  },
  {
   "cell_type": "code",
   "execution_count": null,
   "metadata": {},
   "outputs": [],
   "source": [
    "a.file_name"
   ]
  },
  {
   "cell_type": "code",
   "execution_count": null,
   "metadata": {},
   "outputs": [],
   "source": [
    "final ()"
   ]
  },
  {
   "cell_type": "code",
   "execution_count": null,
   "metadata": {},
   "outputs": [],
   "source": []
  },
  {
   "cell_type": "code",
   "execution_count": null,
   "metadata": {},
   "outputs": [],
   "source": [
    "#| hide\n",
    "import nbdev; nbdev.nbdev_export()"
   ]
  }
 ],
 "metadata": {
  "kernelspec": {
   "display_name": "tsforecast",
   "language": "python",
   "name": "tsforecast"
  }
 },
 "nbformat": 4,
 "nbformat_minor": 4
}
