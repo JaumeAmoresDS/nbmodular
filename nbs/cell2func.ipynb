{
 "cells": [
  {
   "cell_type": "markdown",
   "metadata": {},
   "source": [
    "# cell2func\n",
    "\n",
    "> Convert desired notebook cells to functions. \n",
    "\n",
    "Detects function inputs automatically and function outputs semi-automatically. In the latter case, hints are provided to the developer to refine the list of outputs per each cell."
   ]
  },
  {
   "cell_type": "code",
   "execution_count": null,
   "metadata": {},
   "outputs": [],
   "source": [
    "#| default_exp core.cell2func"
   ]
  },
  {
   "cell_type": "code",
   "execution_count": null,
   "metadata": {},
   "outputs": [],
   "source": [
    "#| export\n",
    "import os\n",
    "import re\n",
    "import argparse\n",
    "import shlex\n",
    "from dataclasses import dataclass\n",
    "from functools import reduce\n",
    "from pathlib import Path\n",
    "import sys\n",
    "import ast\n",
    "from IPython import get_ipython\n",
    "from IPython.core.magic import (Magics, magics_class, line_magic,\n",
    "                                cell_magic, line_cell_magic)\n",
    "from IPython.core.magic_arguments import (argument, magic_arguments, parse_argstring)\n",
    "import ipynbname\n",
    "from sklearn.utils import Bunch\n",
    "from fastcore.all import argnames\n",
    "import nbdev"
   ]
  },
  {
   "cell_type": "markdown",
   "metadata": {},
   "source": [
    "## FunctionProcessor"
   ]
  },
  {
   "cell_type": "code",
   "execution_count": null,
   "metadata": {},
   "outputs": [],
   "source": [
    "#|export\n",
    "class FunctionProcessor (Bunch):\n",
    "    def to_file (self, file_path, mode='w'):\n",
    "        with open (file_path, mode=mode) as file:\n",
    "            file.write (self.code)\n",
    "    \n",
    "    def write (self, file):\n",
    "        file.write (self.code)\n",
    "        \n",
    "    def print (self):\n",
    "        print (self.code)\n",
    "    \n",
    "    def update_code (\n",
    "        self, \n",
    "        arguments=None, \n",
    "        return_values=None,\n",
    "        tab_size=4,\n",
    "        display=True\n",
    "    ) -> None:\n",
    "        if arguments is not None:\n",
    "            self.arguments = arguments\n",
    "        arguments = ', '.join (self.arguments)\n",
    "        if return_values is not None:\n",
    "            self.return_values = return_values\n",
    "        return_values = ','.join (self.return_values)\n",
    "        function_code = ''\n",
    "        for line in self.original_code.splitlines():\n",
    "            function_code += f'{\" \" * tab_size}{line}\\n'\n",
    "        if return_values != '':\n",
    "            return_line = f'return {return_values}'\n",
    "            return_line = f'{\" \" * tab_size}{return_line}\\n'\n",
    "        else:\n",
    "            return_line = ''\n",
    "        function_code = f'def {self.name}({arguments}):\\n' + function_code + return_line\n",
    "        self.code = function_code\n",
    "        get_ipython().run_cell(function_code)\n",
    "        if display:\n",
    "            print (function_code)"
   ]
  },
  {
   "cell_type": "markdown",
   "metadata": {},
   "source": [
    "## CellProcessor"
   ]
  },
  {
   "cell_type": "code",
   "execution_count": null,
   "metadata": {},
   "outputs": [],
   "source": [
    "#| export\n",
    "class CellProcessor():\n",
    "    \"\"\"\n",
    "    Processes the cell's code according to the magic command.\n",
    "    \"\"\"\n",
    "    def __init__(self, **kwargs):\n",
    "        self.function_info = Bunch()\n",
    "        self.function_list = []\n",
    "        self.file_name = ipynbname.name().replace ('.ipynb', '.py')\n",
    "        self.nbs_folder = self.get_nbs_path ()\n",
    "        self.lib_folder = self.get_lib_path ()\n",
    "        nb_path = ipynbname.path ()\n",
    "        index = nb_path.parts.index(self.nbs_folder.name)\n",
    "        self.file_path = (self.nbs_folder.parent / self.lib_folder.name).joinpath (*nb_path.parts[index+1:])\n",
    "        self.calls = []\n",
    "        \n",
    "        self.parser = argparse.ArgumentParser(description='Process some integers.')\n",
    "        self.parser.add_argument('-i', '--input', type=str, nargs='+', help='input')\n",
    "        self.parser.add_argument('-o', '--output', type=str, nargs='+', help='output')\n",
    "        \n",
    "    def process_function_call (self, line, cell, add_call=True):\n",
    "        call = (line, cell)\n",
    "        if add_call:\n",
    "            self.add_call (call)\n",
    "        function_name, signature = self.parse_signature (line)\n",
    "        self.function (function_name, cell, call=call, **signature)\n",
    "\n",
    "    def add_call (self, call):\n",
    "        self.calls.append (call)\n",
    "        \n",
    "    def cell2file (self, folder, cell):\n",
    "        folder = Path(folder)\n",
    "        folder.mkdir(parents=True, exist_ok=True)\n",
    "\n",
    "        with open(folder / \"module.py\", \"w\") as file_handle:\n",
    "            file_handle.write(cell)\n",
    "\n",
    "        get_ipython().run_cell(cell)\n",
    "                    \n",
    "    def function (\n",
    "        self,\n",
    "        func, \n",
    "        cell,\n",
    "        call=None,\n",
    "        input=None,\n",
    "        unknown_input=True,\n",
    "        output=None,\n",
    "        unknown_output=True,\n",
    "        collect_variables_values=True,\n",
    "        make_function=True,\n",
    "        tab_size=4,\n",
    "        update_previous_functions=True\n",
    "    ) -> None:\n",
    "        \n",
    "        this_function = FunctionProcessor (\n",
    "            idx=len(self.function_list), \n",
    "            original_code=cell, \n",
    "            name=func, \n",
    "            values_before=[],\n",
    "            call=call\n",
    "        )\n",
    "        if func not in self.function_info:\n",
    "            self.function_info[func] = this_function\n",
    "            self.function_list.append (this_function)\n",
    "            \n",
    "        idx = this_function.idx\n",
    "        \n",
    "        # get variables specific about this function\n",
    "        if collect_variables_values:\n",
    "            get_variables_before_code = f'\\nkeep_variables (\"{func}\", \"values_before\", locals ())'\n",
    "            get_ipython().run_cell(get_variables_before_code)\n",
    "            \n",
    "            get_variables_here_code = cell + f'\\nkeep_variables (\"{func}\", \"values_here\", locals ())'\n",
    "            get_ipython().run_cell(get_variables_here_code)\n",
    "            values_before, values_here = this_function['values_before'], this_function['values_here']\n",
    "            values_here = {k:values_here[k] for k in set(values_here).difference(values_before)}\n",
    "            this_function['values_here'] = values_here\n",
    "            print (values_here)\n",
    "        \n",
    "        root = ast.parse (cell)\n",
    "        variables_here = {node.id for node in ast.walk(root) if isinstance(node, ast.Name) and not callable(eval(node.id))}\n",
    "        print (variables_here)\n",
    "        if idx > 0:\n",
    "            variables_before = reduce (lambda x, y: x['variables_here'] | y['variables_here'], self.function_list[:idx])\n",
    "        else:\n",
    "            variables_before = []\n",
    "        variables_here = sorted (variables_here.difference(variables_before))\n",
    "        print (variables_here)\n",
    "        this_function.update (variables_here=variables_here, variables_before=variables_here+variables_before, variables_after=[])\n",
    "        \n",
    "        if make_function:\n",
    "            this_function.update_code ( \n",
    "                arguments=variables_before if unknown_input else input, \n",
    "                return_values=(variables_here+variables_before) if unknown_output else output,\n",
    "                tab_size=tab_size\n",
    "            )\n",
    "            \n",
    "        for function in self.function_list[:idx]:\n",
    "            function.variables_after += [v for v in this_function.variables_here if v not in function.variables_after]\n",
    "            if update_previous_functions and unknown_output:\n",
    "                this_function.update_code (function, return_values=function.variables_after, tab_size=tab_size)\n",
    "                \n",
    "    def parse_signature (self, line):\n",
    "        argv = shlex.split(line, posix=(os.name == 'posix'))\n",
    "        \n",
    "        function_name=argv[0]\n",
    "        signature = dict(\n",
    "            input=None,\n",
    "            unknown_input=True,\n",
    "            output=None,\n",
    "            unknown_output=True\n",
    "        )\n",
    "        found_io = False\n",
    "        for idx, arg in enumerate(argv[1:], 1):\n",
    "            if arg and arg.startswith('-') and arg != '-' and arg != '->':\n",
    "                found_io = True\n",
    "                break\n",
    "        if found_io:\n",
    "            pars = self.parser.parse_args(argv[idx:])\n",
    "            unknown_input = 'input' not in pars\n",
    "            if not unknown_input:\n",
    "                signature.update (input=() if pars.input==['None'] else pars.input, unknown_input=pars.input is None)\n",
    "            unknown_output = 'output' not in pars\n",
    "            if not unknown_output:\n",
    "                signature.update (output=() if pars.output==['None'] else pars.output, unknown_output=pars.output is None)\n",
    "            \n",
    "        print (function_name, signature)\n",
    "        return function_name, signature\n",
    "    \n",
    "    def write (self):\n",
    "        with open (str(self.file_path), 'w') as file:\n",
    "            for function in self.function_list:\n",
    "                function.write (file)\n",
    "                \n",
    "    def print (self):\n",
    "        for function in self.function_list:\n",
    "            function.print ()\n",
    "        \n",
    "    def get_lib_path (self):\n",
    "        return nbdev.config.get_config()['lib_path']\n",
    "                   \n",
    "    def get_nbs_path (self):\n",
    "        return nbdev.config.get_config()['nbs_path']"
   ]
  },
  {
   "cell_type": "markdown",
   "metadata": {},
   "source": [
    "## CellProcessorMagic"
   ]
  },
  {
   "cell_type": "code",
   "execution_count": null,
   "metadata": {},
   "outputs": [],
   "source": [
    "#| export\n",
    "@magics_class\n",
    "class CellProcessorMagic (Magics):\n",
    "    \"\"\"\n",
    "    Base magic class for converting cells to modular functions.\n",
    "    \"\"\"\n",
    "    def __init__(self, shell, **kwargs):\n",
    "        super().__init__(shell)\n",
    "        self.processor = CellProcessor (magic=self, **kwargs)\n",
    "        \n",
    "    @cell_magic\n",
    "    def cell2file (self, folder, cell):\n",
    "        self.processor.cell2file (folder, cell)\n",
    "    \n",
    "    @cell_magic\n",
    "    def function (self, line, cell):\n",
    "        \"Converts cell to function\"\n",
    "        self.processor.process_function_call (line, cell)\n",
    "    \n",
    "    @line_magic\n",
    "    def write (self, line):\n",
    "        return self.processor.write ()\n",
    "    \n",
    "    @line_magic\n",
    "    def print (self, line):\n",
    "        return self.processor.print ()\n",
    "        \n",
    "    @line_magic\n",
    "    def cell_processor (self, line):\n",
    "        return self.processor\n",
    "        \n",
    "          \n",
    "    @line_magic\n",
    "    def match (self, line):\n",
    "        p0 = '[a-zA-Z]\\S*\\s*\\\\([^-()]*\\\\)\\s*->\\s*\\\\([^-()]*\\\\)'\n",
    "        p = '\\\\([^-()]*\\\\)'\n",
    "        m = re.search (p0, line)\n",
    "        if m is not None:\n",
    "            inp, out = re.findall (p, line)\n",
    "            print (inp)\n",
    "            print (out)"
   ]
  },
  {
   "cell_type": "code",
   "execution_count": null,
   "metadata": {},
   "outputs": [],
   "source": []
  },
  {
   "cell_type": "markdown",
   "metadata": {},
   "source": [
    "## load_ipython_extension"
   ]
  },
  {
   "cell_type": "code",
   "execution_count": null,
   "metadata": {},
   "outputs": [],
   "source": [
    "#| export\n",
    "#| hide\n",
    "def load_ipython_extension(ipython):\n",
    "    \"\"\"\n",
    "    This module can be loaded via `%load_ext core.cell2func` or be configured to be autoloaded by IPython at startup time.\n",
    "    \"\"\"\n",
    "    magics = CellProcessorMagic(ipython)\n",
    "    ipython.register_magics(magics)"
   ]
  },
  {
   "cell_type": "markdown",
   "metadata": {},
   "source": [
    "## keep_variables"
   ]
  },
  {
   "cell_type": "code",
   "execution_count": null,
   "metadata": {},
   "outputs": [],
   "source": [
    "#| export\n",
    "def keep_variables (function, field, variable_values, self=None):\n",
    "    \"\"\"\n",
    "    Store `variables` in dictionary entry `self.variables_field[function]`\n",
    "    \"\"\"\n",
    "    frame_number = 1\n",
    "    while not isinstance (self, CellProcessor):\n",
    "        fr = sys._getframe(frame_number)\n",
    "        args = argnames(fr, True)\n",
    "        if len(args)>0:\n",
    "            self = fr.f_locals[args[0]]\n",
    "        frame_number += 1\n",
    "    variable_values = {k: variable_values[k] for k in variable_values if not k.startswith ('_') and not callable(variable_values[k])}\n",
    "    function_info = getattr(self, 'function_info')\n",
    "    function_info[function][field]=variable_values"
   ]
  },
  {
   "cell_type": "markdown",
   "metadata": {},
   "source": [
    "## Usage"
   ]
  },
  {
   "cell_type": "code",
   "execution_count": null,
   "metadata": {},
   "outputs": [],
   "source": [
    "load_ipython_extension (get_ipython())"
   ]
  },
  {
   "cell_type": "code",
   "execution_count": null,
   "metadata": {},
   "outputs": [
    {
     "name": "stdout",
     "output_type": "stream",
     "text": [
      "my_final {'input': (), 'unknown_input': False, 'output': (), 'unknown_output': False}\n",
      "a + b is 3\n",
      "a * b is 2\n",
      "{'a': 1, 'b': 2, 'c': 2}\n",
      "{'b', 'a', 'c'}\n",
      "['a', 'b', 'c']\n",
      "def my_final():\n",
      "    a = 1\n",
      "    b = 2\n",
      "    print (f'a + b is {a+b}')\n",
      "    c = a*b\n",
      "    print (f'a * b is {c}')\n",
      "\n"
     ]
    }
   ],
   "source": [
    "%%function my_final -i None -o None\n",
    "a = 1\n",
    "b = 2\n",
    "print (f'a + b is {a+b}')\n",
    "c = a*b\n",
    "print (f'a * b is {c}')"
   ]
  },
  {
   "cell_type": "code",
   "execution_count": null,
   "metadata": {},
   "outputs": [],
   "source": [
    "c = %cell_processor 1"
   ]
  },
  {
   "cell_type": "code",
   "execution_count": null,
   "metadata": {},
   "outputs": [
    {
     "data": {
      "text/plain": [
       "('my_final -i None -o None',\n",
       " \"a = 1\\nb = 2\\nprint (f'a + b is {a+b}')\\nc = a*b\\nprint (f'a * b is {c}')\\n\")"
      ]
     },
     "execution_count": null,
     "metadata": {},
     "output_type": "execute_result"
    }
   ],
   "source": [
    "c.calls[0]"
   ]
  },
  {
   "cell_type": "code",
   "execution_count": null,
   "metadata": {},
   "outputs": [
    {
     "name": "stdout",
     "output_type": "stream",
     "text": [
      "a + b is 3\n",
      "a * b is 2\n"
     ]
    }
   ],
   "source": [
    "my_final()"
   ]
  },
  {
   "cell_type": "code",
   "execution_count": null,
   "metadata": {},
   "outputs": [
    {
     "name": "stdout",
     "output_type": "stream",
     "text": [
      "def my_final():\n",
      "    a = 1\n",
      "    b = 2\n",
      "    print (f'a + b is {a+b}')\n",
      "    c = a*b\n",
      "    print (f'a * b is {c}')\n",
      "\n"
     ]
    }
   ],
   "source": [
    "%print all"
   ]
  },
  {
   "cell_type": "code",
   "execution_count": null,
   "metadata": {},
   "outputs": [],
   "source": [
    "#| hide\n",
    "import nbdev; nbdev.nbdev_export()"
   ]
  }
 ],
 "metadata": {
  "kernelspec": {
   "display_name": "tsforecast",
   "language": "python",
   "name": "tsforecast"
  }
 },
 "nbformat": 4,
 "nbformat_minor": 4
}
