{
 "cells": [
  {
   "cell_type": "markdown",
   "metadata": {},
   "source": [
    "# cell2func\n",
    "\n",
    "> Convert desired notebook cells to functions. \n",
    "\n",
    "Detects function inputs automatically and function outputs semi-automatically. In the latter case, hints are provided to the developer to refine the list of outputs per each cell."
   ]
  },
  {
   "cell_type": "code",
   "execution_count": null,
   "metadata": {},
   "outputs": [],
   "source": [
    "#| default_exp core.cell2func"
   ]
  },
  {
   "cell_type": "code",
   "execution_count": null,
   "metadata": {},
   "outputs": [],
   "source": [
    "#| export\n",
    "import pdb\n",
    "import os\n",
    "import re\n",
    "import argparse\n",
    "import shlex\n",
    "from dataclasses import dataclass\n",
    "from functools import reduce\n",
    "from pathlib import Path\n",
    "import sys\n",
    "import ast\n",
    "from IPython import get_ipython\n",
    "from IPython.core.magic import (Magics, magics_class, line_magic,\n",
    "                                cell_magic, line_cell_magic)\n",
    "from IPython.core.magic_arguments import (argument, magic_arguments, parse_argstring)\n",
    "import ipynbname\n",
    "from sklearn.utils import Bunch\n",
    "from fastcore.all import argnames\n",
    "import nbdev"
   ]
  },
  {
   "cell_type": "markdown",
   "metadata": {},
   "source": [
    "::: {.content-hidden}\n",
    "## FunctionProcessor\n",
    ":::"
   ]
  },
  {
   "cell_type": "code",
   "execution_count": null,
   "metadata": {},
   "outputs": [],
   "source": [
    "#|export\n",
    "class FunctionProcessor (Bunch):\n",
    "    \"\"\"\n",
    "    Function processor.\n",
    "    \"\"\"\n",
    "    def to_file (self, file_path, mode='w'):\n",
    "        with open (file_path, mode=mode) as file:\n",
    "            file.write (self.code)\n",
    "    \n",
    "    def write (self, file):\n",
    "        file.write (self.code)\n",
    "        \n",
    "    def print (self):\n",
    "        print (self.code)\n",
    "    \n",
    "    def update_code (\n",
    "        self, \n",
    "        arguments=None, \n",
    "        return_values=None,\n",
    "        display=False\n",
    "    ) -> None:\n",
    "        if arguments is not None:\n",
    "            self.arguments = arguments\n",
    "        arguments = ', '.join (self.arguments)\n",
    "        if return_values is not None:\n",
    "            self.return_values = return_values\n",
    "        return_values = ','.join (self.return_values)\n",
    "        function_code = ''\n",
    "        for line in self.original_code.splitlines():\n",
    "            function_code += f'{\" \" * self.tab_size}{line}\\n'\n",
    "        if return_values != '':\n",
    "            return_line = f'return {return_values}'\n",
    "            return_line = f'{\" \" * self.tab_size}{return_line}\\n'\n",
    "        else:\n",
    "            return_line = ''\n",
    "        function_code = f'def {self.name}({arguments}):\\n' + function_code + return_line\n",
    "        self.code = function_code\n",
    "        get_ipython().run_cell(function_code)\n",
    "        if display:\n",
    "            print (function_code)\n",
    "    \n",
    "    def get_ast(self, original=True, code=None):\n",
    "        if code is None:\n",
    "            code = self.original_code if original else self.code\n",
    "        print(ast.dump(ast.parse(code), indent=2))\n",
    "    \n",
    "    def __str__ (self):\n",
    "        name = None if not hasattr(self, 'name') else self.name\n",
    "        return f'FunctionProcessor with name {name}, and fields: {self.keys()}\\n    Arguments: {self.arguments}\\n    Output: {self.return_values}\\n    Variables: {self.values_here.keys()}'\n",
    "    \n",
    "    def __repr__ (self):\n",
    "        return str(self)"
   ]
  },
  {
   "cell_type": "markdown",
   "metadata": {},
   "source": [
    "::: {.content-hidden}\n",
    "## CellProcessor\n",
    ":::"
   ]
  },
  {
   "cell_type": "code",
   "execution_count": null,
   "metadata": {},
   "outputs": [],
   "source": [
    "#| export\n",
    "class CellProcessor():\n",
    "    \"\"\"\n",
    "    Processes the cell's code according to the magic command.\n",
    "    \"\"\"\n",
    "    def __init__(self, tab_size=4, **kwargs):\n",
    "        self.function_info = Bunch()\n",
    "        self.current_function = Bunch()\n",
    "        self.function_list = []\n",
    "        self.tab_size=tab_size\n",
    "        try:\n",
    "            self.file_name = ipynbname.name().replace ('.ipynb', '.py')\n",
    "            nb_path = ipynbname.path ()\n",
    "            found_notebook = True\n",
    "        except FileNotFoundError:\n",
    "            self.file_name = 'temporary.py'\n",
    "            nb_path = Path ('.').absolute()\n",
    "            found_notebook = False\n",
    "        self.nbs_folder = self.get_nbs_path ()\n",
    "        self.lib_folder = self.get_lib_path ()\n",
    "        \n",
    "        if found_notebook:\n",
    "            index = nb_path.parts.index(self.nbs_folder.name)\n",
    "            self.file_path = (self.nbs_folder.parent / self.lib_folder.name).joinpath (*nb_path.parts[index+1:])\n",
    "        else:\n",
    "            self.file_path = nb_path / self.file_name\n",
    "            \n",
    "        self.call_history = []\n",
    "        \n",
    "        self.parser = argparse.ArgumentParser(description='Process some integers.')\n",
    "        self.parser.add_argument('-i', '--input', type=str, nargs='+', help='input')\n",
    "        self.parser.add_argument('-o', '--output', type=str, nargs='+', help='output')\n",
    "        \n",
    "    def reset (self):\n",
    "        values_to_remove = [x for function in self.function_list for x in function.values_here.keys()]\n",
    "        remove_variables_code = '\\n'.join([f'''\n",
    "            try:\n",
    "                exec(\"del {x}\")\n",
    "            except:\n",
    "                print (f'could not remove {x}')\n",
    "                ''' for x in values_to_remove])\n",
    "        get_ipython().run_cell(remove_variables_code)\n",
    "        self.function_list = []\n",
    "        self.function_info = Bunch()\n",
    "    \n",
    "    def process_function_call (self, line, cell, add_call=True):\n",
    "        call = (line, cell)\n",
    "        if add_call:\n",
    "            self.add_call (call)\n",
    "        function_name, signature = self.parse_signature (line)\n",
    "        self.function (function_name, cell, call=call, **signature)\n",
    "\n",
    "    def add_call (self, call):\n",
    "        self.call_history.append (call)\n",
    "        \n",
    "    def cell2file (self, folder, cell):\n",
    "        folder = Path(folder)\n",
    "        folder.mkdir(parents=True, exist_ok=True)\n",
    "\n",
    "        with open(folder / \"module.py\", \"w\") as file_handle:\n",
    "            file_handle.write(cell)\n",
    "\n",
    "        get_ipython().run_cell(cell)\n",
    "                    \n",
    "    def create_function (\n",
    "        self,\n",
    "        func, \n",
    "        cell,\n",
    "        call=None,\n",
    "        input=None,\n",
    "        unknown_input=True,\n",
    "        output=None,\n",
    "        unknown_output=True,\n",
    "        collect_variables_values=True,\n",
    "        make_function=True,\n",
    "        update_previous_functions=True,\n",
    "        show=False,\n",
    "        register_pipeline=True,\n",
    "        pipeline_name=None\n",
    "    ) -> FunctionProcessor:\n",
    "        \n",
    "        this_function = FunctionProcessor (\n",
    "            idx=len(self.function_list), \n",
    "            original_code=cell, \n",
    "            name=func, \n",
    "            values_before=[],\n",
    "            tab_size=self.tab_size,\n",
    "            call=call\n",
    "        )\n",
    "        self.current_function = this_function\n",
    "            \n",
    "        idx = this_function.idx\n",
    "        \n",
    "        # get variables specific about this function\n",
    "        if collect_variables_values:\n",
    "            get_previous_variables_code = f'from nbmodular.core.cell2func import keep_variables\\nkeep_variables (\"{func}\", \"values_before\", locals ())'\n",
    "            get_ipython().run_cell(get_previous_variables_code)\n",
    "            \n",
    "            get_new_variables_code = cell + f'\\nfrom nbmodular.core.cell2func import keep_variables\\nkeep_variables (\"{func}\", \"values_here\", locals ())'\n",
    "            get_ipython().run_cell(get_new_variables_code)\n",
    "            values_before, values_here = this_function['values_before'], this_function['values_here']\n",
    "            values_here = {k:values_here[k] for k in set(values_here).difference(values_before)}\n",
    "            this_function['values_here'] = values_here\n",
    "            # print (values_here)\n",
    "        \n",
    "        root = ast.parse (cell)\n",
    "        variables_in_function = this_function['values_before'] | this_function['values_here']\n",
    "        # we shouldn't need to check if node.id is callable, there is surely an attribute that indicates that in the AST!\n",
    "        new_variables = {node.id for node in ast.walk(root) if isinstance(node, ast.Name) and node.id in variables_in_function and not callable(variables_in_function[node.id])}\n",
    "        this_function.variables_here = new_variables\n",
    "        # print (new_variables)\n",
    "        if idx > 0:\n",
    "            previous_variables = []\n",
    "            for x in self.function_list[:idx]: \n",
    "                previous_variables += x['new_variables']\n",
    "            #previous_variables = reduce (lambda x, y: x['new_variables'] + y['new_variables'], self.function_list[:idx])\n",
    "        else:\n",
    "            previous_variables = []\n",
    "        new_variables = sorted (new_variables.difference(previous_variables))\n",
    "        # print (new_variables)\n",
    "        this_function.update (new_variables=new_variables, previous_variables=previous_variables, posterior_variables=[])\n",
    "        \n",
    "        if make_function:\n",
    "            this_function.update_code ( \n",
    "                arguments=[x for x in previous_variables if x in this_function.variables_here] if unknown_input else input, \n",
    "                #arguments=previous_variables if unknown_input else input, \n",
    "                return_values=[] if unknown_output else output,\n",
    "                display=show\n",
    "            )\n",
    "            \n",
    "        # add variables from current function to posterior_variables of all the previous functions\n",
    "        for function in self.function_list[:idx]:\n",
    "            function.posterior_variables += [v for v in this_function.previous_variables+this_function.new_variables if v not in function.posterior_variables]\n",
    "            if update_previous_functions and unknown_output:\n",
    "                function.update_code (\n",
    "                    return_values=[x for x in function.previous_variables+function.new_variables if x in function.posterior_variables and x in function.variables_here], \n",
    "                    #return_values=[x for x in function.previous_variables+function.new_variables if x in function.posterior_variables], \n",
    "                    display=False\n",
    "                )\n",
    "                \n",
    "        if register_pipeline:\n",
    "            self.register_pipeline (pipeline_name=pipeline_name)\n",
    "        \n",
    "        return this_function\n",
    "    \n",
    "    def function (\n",
    "        self,\n",
    "        func,\n",
    "        cell,\n",
    "        merge=False,\n",
    "        **kwargs\n",
    "    ) -> None:\n",
    "        \n",
    "        this_function = self.create_function (func, cell, **kwargs)\n",
    "        if func in self.function_info and merge:\n",
    "            new_function = self.merge_function (self.function_info[func], this_function)\n",
    "            self.function_list.remove (this_function)\n",
    "            this_function = new_function\n",
    "        else:\n",
    "            self.function_info[func] = this_function\n",
    "            self.function_list.append (this_function)\n",
    "                \n",
    "    def parse_signature (self, line):\n",
    "        argv = shlex.split(line, posix=(os.name == 'posix'))\n",
    "        \n",
    "        function_name=argv[0]\n",
    "        signature = dict(\n",
    "            input=None,\n",
    "            unknown_input=True,\n",
    "            output=None,\n",
    "            unknown_output=True\n",
    "        )\n",
    "        found_io = False\n",
    "        for idx, arg in enumerate(argv[1:], 1):\n",
    "            if arg and arg.startswith('-') and arg != '-' and arg != '->':\n",
    "                found_io = True\n",
    "                break\n",
    "        if found_io:\n",
    "            pars = self.parser.parse_args(argv[idx:])\n",
    "            unknown_input = 'input' not in pars\n",
    "            if not unknown_input:\n",
    "                signature.update (input=() if pars.input==['None'] else pars.input, unknown_input=pars.input is None)\n",
    "            unknown_output = 'output' not in pars\n",
    "            if not unknown_output:\n",
    "                signature.update (output=() if pars.output==['None'] else pars.output, unknown_output=pars.output is None)\n",
    "            \n",
    "        # print (function_name, signature)\n",
    "        return function_name, signature\n",
    "    \n",
    "    def write (self):\n",
    "        with open (str(self.file_path), 'w') as file:\n",
    "            for function in self.function_list:\n",
    "                function.write (file)\n",
    "                \n",
    "    def print (self, function_name):\n",
    "        if function_name == 'all':\n",
    "            for function in self.function_list:\n",
    "                function.print ()\n",
    "        else:\n",
    "            self.function_info[function_name].print ()\n",
    "            \n",
    "    def get_lib_path (self):\n",
    "        return nbdev.config.get_config()['lib_path']\n",
    "                   \n",
    "    def get_nbs_path (self):\n",
    "        return nbdev.config.get_config()['nbs_path']\n",
    "    \n",
    "    def pipeline_code (self, pipeline_name=None):\n",
    "        pipeline_name = f'{self.file_name}_pipeline' if pipeline_name is None else pipeline_name\n",
    "        code = f\"def {pipeline_name} ():\\n\"\n",
    "        for func in self.function_list:\n",
    "            argument_list_str = \", \".join(func.arguments)\n",
    "            return_list_str = f'{\", \".join(func.return_values)} = ' if len(func.return_values)>0 else ''\n",
    "            code += f'{\" \" * self.tab_size}' + f'{return_list_str}{func.name} ({argument_list_str})\\n'\n",
    "        return code, pipeline_name\n",
    "    \n",
    "    def register_pipeline (self, pipeline_name=None):\n",
    "        code, name = self.pipeline_code (pipeline_name=pipeline_name)\n",
    "        self.pipeline = FunctionProcessor (code=code,\n",
    "                                           arguments=[],\n",
    "                                           return_values=[],\n",
    "                                           name=name)\n",
    "        get_ipython().run_cell(code)\n",
    "    \n",
    "    def print_pipeline (self):\n",
    "        code, name = self.pipeline_code()  \n",
    "        print (code)"
   ]
  },
  {
   "cell_type": "markdown",
   "metadata": {},
   "source": [
    "::: {.content-hidden}\n",
    "## CellProcessorMagic\n",
    ":::"
   ]
  },
  {
   "cell_type": "code",
   "execution_count": null,
   "metadata": {},
   "outputs": [],
   "source": [
    "#| export\n",
    "@magics_class\n",
    "class CellProcessorMagic (Magics):\n",
    "    \"\"\"\n",
    "    Base magic class for converting cells to modular functions.\n",
    "    \"\"\"\n",
    "    def __init__(self, shell, **kwargs):\n",
    "        super().__init__(shell)\n",
    "        self.processor = CellProcessor (magic=self, **kwargs)\n",
    "        \n",
    "    @cell_magic\n",
    "    def cell2file (self, folder, cell):\n",
    "        self.processor.cell2file (folder, cell)\n",
    "    \n",
    "    @cell_magic\n",
    "    def function (self, line, cell):\n",
    "        \"Converts cell to function\"\n",
    "        self.processor.process_function_call (line, cell)\n",
    "    \n",
    "    @line_magic\n",
    "    def write (self, line):\n",
    "        return self.processor.write ()\n",
    "    \n",
    "    @line_magic\n",
    "    def print (self, line):\n",
    "        return self.processor.print (line)\n",
    "    \n",
    "    @line_magic\n",
    "    def function_info (self, function_name):\n",
    "        return self.processor.function_info [function_name]\n",
    "        \n",
    "    @line_magic\n",
    "    def cell_processor (self, line):\n",
    "        return self.processor\n",
    "        \n",
    "    @line_magic\n",
    "    def pipeline_code (self, line):\n",
    "        return self.processor.pipeline_code ()\n",
    "    \n",
    "    @line_magic\n",
    "    def print_pipeline (self, line):\n",
    "        return self.processor.print_pipeline ()\n",
    "          \n",
    "    @line_magic\n",
    "    def match (self, line):\n",
    "        p0 = '[a-zA-Z]\\S*\\s*\\\\([^-()]*\\\\)\\s*->\\s*\\\\([^-()]*\\\\)'\n",
    "        p = '\\\\([^-()]*\\\\)'\n",
    "        m = re.search (p0, line)\n",
    "        if m is not None:\n",
    "            inp, out = re.findall (p, line)\n",
    "            #print (inp)\n",
    "            #print (out)"
   ]
  },
  {
   "cell_type": "markdown",
   "metadata": {},
   "source": [
    "::: {.content-hidden}\n",
    "## load_ipython_extension\n",
    ":::"
   ]
  },
  {
   "cell_type": "code",
   "execution_count": null,
   "metadata": {},
   "outputs": [],
   "source": [
    "#| export\n",
    "#| hide\n",
    "def load_ipython_extension(ipython):\n",
    "    \"\"\"\n",
    "    This module can be loaded via `%load_ext core.cell2func` or be configured to be autoloaded by IPython at startup time.\n",
    "    \"\"\"\n",
    "    magics = CellProcessorMagic(ipython)\n",
    "    ipython.register_magics(magics)"
   ]
  },
  {
   "cell_type": "code",
   "execution_count": null,
   "metadata": {},
   "outputs": [],
   "source": [
    "#| export\n",
    "load_ipython_extension (get_ipython())"
   ]
  },
  {
   "cell_type": "markdown",
   "metadata": {},
   "source": [
    "::: {.content-hidden}\n",
    "## keep_variables\n",
    ":::"
   ]
  },
  {
   "cell_type": "code",
   "execution_count": null,
   "metadata": {},
   "outputs": [],
   "source": [
    "#| export\n",
    "def keep_variables (function, field, variable_values, self=None):\n",
    "    \"\"\"\n",
    "    Store `variables` in dictionary entry `self.variables_field[function]`\n",
    "    \"\"\"\n",
    "    frame_number = 1\n",
    "    while not isinstance (self, CellProcessor):\n",
    "        fr = sys._getframe(frame_number)\n",
    "        args = argnames(fr, True)\n",
    "        if len(args)>0:\n",
    "            self = fr.f_locals[args[0]]\n",
    "        frame_number += 1\n",
    "    variable_values = {k: variable_values[k] for k in variable_values if not k.startswith ('_') and not callable(variable_values[k])}\n",
    "    current_function = getattr(self, 'current_function')\n",
    "    current_function[field]=variable_values"
   ]
  },
  {
   "cell_type": "markdown",
   "metadata": {},
   "source": [
    "## Usage"
   ]
  },
  {
   "cell_type": "code",
   "execution_count": null,
   "metadata": {},
   "outputs": [],
   "source": [
    "load_ipython_extension (get_ipython())"
   ]
  },
  {
   "cell_type": "markdown",
   "metadata": {},
   "source": [
    "The main cell magic is `%%function`. This wraps whatever code in the cell as a function. We can either indicate its inputs and outputs, as discussed later, or let it discover them by itself, as in here:"
   ]
  },
  {
   "cell_type": "code",
   "execution_count": null,
   "metadata": {},
   "outputs": [
    {
     "name": "stdout",
     "output_type": "stream",
     "text": [
      "a + b is 3\n",
      "a * b is 2\n"
     ]
    }
   ],
   "source": [
    "%%function first_function\n",
    "\"\"\"Function without specified I/O\"\"\"\n",
    "a = 1\n",
    "b = 2\n",
    "print (f'a + b is {a+b}')\n",
    "c = a*b\n",
    "print (f'a * b is {c}')"
   ]
  },
  {
   "cell_type": "markdown",
   "metadata": {},
   "source": [
    "By running the previous cell, we have defined a new function `first_function` with the following intpus and outputs: "
   ]
  },
  {
   "cell_type": "code",
   "execution_count": null,
   "metadata": {},
   "outputs": [
    {
     "name": "stdout",
     "output_type": "stream",
     "text": [
      "def first_function():\n",
      "    \"\"\"Function without specified I/O\"\"\"\n",
      "    a = 1\n",
      "    b = 2\n",
      "    print (f'a + b is {a+b}')\n",
      "    c = a*b\n",
      "    print (f'a * b is {c}')\n",
      "    return a,b,c\n",
      "\n"
     ]
    }
   ],
   "source": [
    "%print all"
   ]
  },
  {
   "cell_type": "markdown",
   "metadata": {},
   "source": [
    "From now on we can invoke the previous function directly:"
   ]
  },
  {
   "cell_type": "code",
   "execution_count": null,
   "metadata": {},
   "outputs": [
    {
     "name": "stdout",
     "output_type": "stream",
     "text": [
      "a + b is 3\n",
      "a * b is 2\n",
      "result: a=1 b=2 c=2\n"
     ]
    }
   ],
   "source": [
    "a, b, c = first_function ()\n",
    "print ('result: a=', a, ' b=', b, ' c=', c, sep='')"
   ]
  },
  {
   "cell_type": "markdown",
   "metadata": {},
   "source": [
    "## Specifying the inputs / outputs"
   ]
  },
  {
   "cell_type": "code",
   "execution_count": null,
   "metadata": {},
   "outputs": [
    {
     "name": "stdout",
     "output_type": "stream",
     "text": [
      "a + b is 3\n",
      "a * b is 2\n"
     ]
    }
   ],
   "source": [
    "%%function second_function -i a -o b c\n",
    "a = 1\n",
    "b = 2\n",
    "print (f'a + b is {a+b}')\n",
    "c = a*b\n",
    "print (f'a * b is {c}')"
   ]
  },
  {
   "cell_type": "markdown",
   "metadata": {},
   "source": [
    "## Debugging"
   ]
  },
  {
   "cell_type": "markdown",
   "metadata": {},
   "source": [
    "If we need to debug the mechanism used for defining new functions, we can do so by retrieving the object processor, which gives us a access to the internal methods used, as follows:"
   ]
  },
  {
   "cell_type": "code",
   "execution_count": null,
   "metadata": {},
   "outputs": [],
   "source": [
    "processor = %cell_processor"
   ]
  },
  {
   "cell_type": "code",
   "execution_count": null,
   "metadata": {},
   "outputs": [
    {
     "data": {
      "text/plain": [
       "[('first_function',\n",
       "  '\"\"\"Function without specified I/O\"\"\"\\na = 1\\nb = 2\\nprint (f\\'a + b is {a+b}\\')\\nc = a*b\\nprint (f\\'a * b is {c}\\')\\n'),\n",
       " ('second_function -i a -o b c',\n",
       "  \"a = 1\\nb = 2\\nprint (f'a + b is {a+b}')\\nc = a*b\\nprint (f'a * b is {c}')\\n\")]"
      ]
     },
     "execution_count": null,
     "metadata": {},
     "output_type": "execute_result"
    }
   ],
   "source": [
    "processor.call_history"
   ]
  },
  {
   "cell_type": "markdown",
   "metadata": {},
   "source": [
    "We can reproduce the calls by resetting the processor and re-running the method `process_function_call` for each call in `processor.call_history`:"
   ]
  },
  {
   "cell_type": "code",
   "execution_count": null,
   "metadata": {},
   "outputs": [],
   "source": [
    "processor.reset()"
   ]
  },
  {
   "cell_type": "code",
   "execution_count": null,
   "metadata": {},
   "outputs": [
    {
     "data": {
      "text/plain": [
       "[]"
      ]
     },
     "execution_count": null,
     "metadata": {},
     "output_type": "execute_result"
    }
   ],
   "source": [
    "processor.function_list"
   ]
  },
  {
   "cell_type": "code",
   "execution_count": null,
   "metadata": {},
   "outputs": [
    {
     "name": "stdout",
     "output_type": "stream",
     "text": [
      "a + b is 3\n",
      "a * b is 2\n"
     ]
    }
   ],
   "source": [
    "processor.process_function_call (*processor.call_history[0], add_call=False)"
   ]
  },
  {
   "cell_type": "code",
   "execution_count": null,
   "metadata": {},
   "outputs": [
    {
     "data": {
      "text/plain": [
       "[FunctionProcessor with name first_function, and fields: dict_keys(['idx', 'original_code', 'name', 'values_before', 'call', 'values_here', 'variables_here', 'variables_before', 'variables_after', 'arguments', 'return_values', 'code'])]"
      ]
     },
     "execution_count": null,
     "metadata": {},
     "output_type": "execute_result"
    }
   ],
   "source": [
    "processor.function_list"
   ]
  },
  {
   "cell_type": "code",
   "execution_count": null,
   "metadata": {},
   "outputs": [
    {
     "name": "stdout",
     "output_type": "stream",
     "text": [
      "def first_function():\n",
      "    \"\"\"Function without specified I/O\"\"\"\n",
      "    a = 1\n",
      "    b = 2\n",
      "    print (f'a + b is {a+b}')\n",
      "    c = a*b\n",
      "    print (f'a * b is {c}')\n",
      "    return a,b,c\n",
      "\n"
     ]
    }
   ],
   "source": [
    "%print all"
   ]
  },
  {
   "cell_type": "code",
   "execution_count": null,
   "metadata": {},
   "outputs": [
    {
     "name": "stdout",
     "output_type": "stream",
     "text": [
      "a + b is 3\n",
      "a * b is 2\n"
     ]
    }
   ],
   "source": [
    "processor.process_function_call (*processor.call_history[1], add_call=False)"
   ]
  },
  {
   "cell_type": "code",
   "execution_count": null,
   "metadata": {},
   "outputs": [
    {
     "data": {
      "text/plain": [
       "[FunctionProcessor with name first_function, and fields: dict_keys(['idx', 'original_code', 'name', 'values_before', 'call', 'values_here', 'variables_here', 'variables_before', 'variables_after', 'arguments', 'return_values', 'code']),\n",
       " FunctionProcessor with name second_function, and fields: dict_keys(['idx', 'original_code', 'name', 'values_before', 'call', 'values_here', 'variables_here', 'variables_before', 'variables_after', 'arguments', 'return_values', 'code'])]"
      ]
     },
     "execution_count": null,
     "metadata": {},
     "output_type": "execute_result"
    }
   ],
   "source": [
    "processor.function_list"
   ]
  },
  {
   "cell_type": "code",
   "execution_count": null,
   "metadata": {},
   "outputs": [
    {
     "name": "stdout",
     "output_type": "stream",
     "text": [
      "def first_function():\n",
      "    \"\"\"Function without specified I/O\"\"\"\n",
      "    a = 1\n",
      "    b = 2\n",
      "    print (f'a + b is {a+b}')\n",
      "    c = a*b\n",
      "    print (f'a * b is {c}')\n",
      "    return a,b,c\n",
      "\n",
      "def second_function(a):\n",
      "    a = 1\n",
      "    b = 2\n",
      "    print (f'a + b is {a+b}')\n",
      "    c = a*b\n",
      "    print (f'a * b is {c}')\n",
      "    return b,c\n",
      "\n"
     ]
    }
   ],
   "source": [
    "%print all"
   ]
  },
  {
   "cell_type": "code",
   "execution_count": null,
   "metadata": {},
   "outputs": [],
   "source": [
    "#| hide\n",
    "import nbdev; nbdev.nbdev_export()"
   ]
  }
 ],
 "metadata": {
  "kernelspec": {
   "display_name": "tsforecast",
   "language": "python",
   "name": "tsforecast"
  }
 },
 "nbformat": 4,
 "nbformat_minor": 4
}
