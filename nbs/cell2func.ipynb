{
 "cells": [
  {
   "cell_type": "markdown",
   "metadata": {},
   "source": [
    "# cell2func\n",
    "\n",
    "> Convert desired notebook cells to functions. \n",
    "\n",
    "Detects function inputs automatically and function outputs semi-automatically. In the latter case, hints are provided to the developer to refine the list of outputs per each cell."
   ]
  },
  {
   "cell_type": "code",
   "execution_count": null,
   "metadata": {},
   "outputs": [],
   "source": [
    "#| default_exp core.cell2func"
   ]
  },
  {
   "cell_type": "code",
   "execution_count": null,
   "metadata": {},
   "outputs": [],
   "source": [
    "#| export\n",
    "import pdb\n",
    "import os\n",
    "import re\n",
    "import argparse\n",
    "import shlex\n",
    "from dataclasses import dataclass\n",
    "from functools import reduce\n",
    "from pathlib import Path\n",
    "import sys\n",
    "import ast\n",
    "from IPython import get_ipython\n",
    "from IPython.core.magic import (Magics, magics_class, line_magic,\n",
    "                                cell_magic, line_cell_magic)\n",
    "from IPython.core.magic_arguments import (argument, magic_arguments, parse_argstring)\n",
    "import ipynbname\n",
    "from sklearn.utils import Bunch\n",
    "from fastcore.all import argnames\n",
    "import nbdev"
   ]
  },
  {
   "cell_type": "markdown",
   "metadata": {},
   "source": [
    "::: {.content-hidden}\n",
    "## FunctionProcessor\n",
    ":::"
   ]
  },
  {
   "cell_type": "code",
   "execution_count": null,
   "metadata": {},
   "outputs": [],
   "source": [
    "#|export\n",
    "class FunctionProcessor (Bunch):\n",
    "    \"\"\"\n",
    "    Function processor.\n",
    "    \"\"\"\n",
    "    def to_file (self, file_path, mode='w'):\n",
    "        with open (file_path, mode=mode) as file:\n",
    "            file.write (self.code)\n",
    "    \n",
    "    def write (self, file):\n",
    "        file.write (self.code)\n",
    "        \n",
    "    def print (self):\n",
    "        print (self.code)\n",
    "    \n",
    "    def update_code (\n",
    "        self, \n",
    "        arguments=None, \n",
    "        return_values=None,\n",
    "        display=False\n",
    "    ) -> None:\n",
    "        if arguments is not None:\n",
    "            self.arguments = arguments\n",
    "        arguments = ', '.join (self.arguments)\n",
    "        if return_values is not None:\n",
    "            self.return_values = return_values\n",
    "        return_values = ','.join (self.return_values)\n",
    "        function_code = ''\n",
    "        for line in self.original_code.splitlines():\n",
    "            function_code += f'{\" \" * self.tab_size}{line}\\n'\n",
    "        if return_values != '':\n",
    "            return_line = f'return {return_values}'\n",
    "            return_line = f'{\" \" * self.tab_size}{return_line}\\n'\n",
    "        else:\n",
    "            return_line = ''\n",
    "        function_code = f'def {self.name}({arguments}):\\n' + function_code + return_line\n",
    "        self.code = function_code\n",
    "        get_ipython().run_cell(function_code)\n",
    "        if display:\n",
    "            print (function_code)\n",
    "    \n",
    "    def get_ast(self, original=True, code=None):\n",
    "        if code is None:\n",
    "            code = self.original_code if original else self.code\n",
    "        print(ast.dump(ast.parse(code), indent=2))\n",
    "    \n",
    "    def __str__ (self):\n",
    "        name = None if not hasattr(self, 'name') else self.name\n",
    "        return f'FunctionProcessor with name {name}, and fields: {self.keys()}\\n    Arguments: {self.arguments}\\n    Output: {self.return_values}\\n    Variables: {self.values_here.keys()}'\n",
    "    \n",
    "    def __repr__ (self):\n",
    "        return str(self)"
   ]
  },
  {
   "cell_type": "markdown",
   "metadata": {},
   "source": [
    "::: {.content-hidden}\n",
    "## CellProcessor\n",
    ":::"
   ]
  },
  {
   "cell_type": "code",
   "execution_count": null,
   "metadata": {},
   "outputs": [],
   "source": [
    "#| export\n",
    "class CellProcessor():\n",
    "    \"\"\"\n",
    "    Processes the cell's code according to the magic command.\n",
    "    \"\"\"\n",
    "    def __init__(self, tab_size=4, **kwargs):\n",
    "        self.function_info = Bunch()\n",
    "        self.current_function = Bunch()\n",
    "        self.function_list = []\n",
    "        self.tab_size=tab_size\n",
    "        try:\n",
    "            self.file_name = ipynbname.name().replace ('.ipynb', '.py')\n",
    "            nb_path = ipynbname.path ()\n",
    "            found_notebook = True\n",
    "        except FileNotFoundError:\n",
    "            self.file_name = 'temporary.py'\n",
    "            nb_path = Path ('.').absolute()\n",
    "            found_notebook = False\n",
    "        self.nbs_folder = self.get_nbs_path ()\n",
    "        self.lib_folder = self.get_lib_path ()\n",
    "        \n",
    "        if found_notebook:\n",
    "            index = nb_path.parts.index(self.nbs_folder.name)\n",
    "            self.file_path = (self.nbs_folder.parent / self.lib_folder.name).joinpath (*nb_path.parts[index+1:])\n",
    "        else:\n",
    "            self.file_path = nb_path / self.file_name\n",
    "            \n",
    "        self.call_history = []\n",
    "        \n",
    "        self.parser = argparse.ArgumentParser(description='Process some integers.')\n",
    "        self.parser.add_argument('-i', '--input', type=str, nargs='+', help='input')\n",
    "        self.parser.add_argument('-o', '--output', type=str, nargs='+', help='output')\n",
    "        \n",
    "    def reset (self):\n",
    "        values_to_remove = [x for function in self.function_list for x in function.values_here.keys()]\n",
    "        remove_variables_code = '\\n'.join([f'''\n",
    "            try:\n",
    "                exec(\"del {x}\")\n",
    "            except:\n",
    "                print (f'could not remove {x}')\n",
    "                ''' for x in values_to_remove])\n",
    "        get_ipython().run_cell(remove_variables_code)\n",
    "        self.function_list = []\n",
    "        self.function_info = Bunch()\n",
    "    \n",
    "    def process_function_call (self, line, cell, add_call=True):\n",
    "        call = (line, cell)\n",
    "        if add_call:\n",
    "            self.add_call (call)\n",
    "        function_name, signature = self.parse_signature (line)\n",
    "        self.function (function_name, cell, call=call, **signature)\n",
    "\n",
    "    def add_call (self, call):\n",
    "        self.call_history.append (call)\n",
    "        \n",
    "    def cell2file (self, folder, cell):\n",
    "        folder = Path(folder)\n",
    "        folder.mkdir(parents=True, exist_ok=True)\n",
    "\n",
    "        with open(folder / \"module.py\", \"w\") as file_handle:\n",
    "            file_handle.write(cell)\n",
    "\n",
    "        get_ipython().run_cell(cell)\n",
    "                    \n",
    "    def create_function (\n",
    "        self,\n",
    "        func, \n",
    "        cell,\n",
    "        call=None,\n",
    "        input=None,\n",
    "        unknown_input=True,\n",
    "        output=None,\n",
    "        unknown_output=True,\n",
    "        collect_variables_values=True,\n",
    "        make_function=True,\n",
    "        update_previous_functions=True,\n",
    "        show=False,\n",
    "        register_pipeline=True,\n",
    "        pipeline_name=None\n",
    "    ) -> FunctionProcessor:\n",
    "        \n",
    "        this_function = FunctionProcessor (\n",
    "            idx=len(self.function_list), \n",
    "            original_code=cell, \n",
    "            name=func, \n",
    "            values_before=[],\n",
    "            tab_size=self.tab_size,\n",
    "            call=call\n",
    "        )\n",
    "        self.current_function = this_function\n",
    "        self.function_info[func] = this_function\n",
    "            \n",
    "        idx = this_function.idx\n",
    "        \n",
    "        # get variables specific about this function\n",
    "        if collect_variables_values:\n",
    "            get_previous_variables_code = f'from nbmodular.core.cell2func import keep_variables\\nkeep_variables (\"{func}\", \"values_before\", locals ())'\n",
    "            get_ipython().run_cell(get_previous_variables_code)\n",
    "            \n",
    "            get_new_variables_code = cell + f'\\nfrom nbmodular.core.cell2func import keep_variables\\nkeep_variables (\"{func}\", \"values_here\", locals ())'\n",
    "            #pdb.set_trace()\n",
    "            get_ipython().run_cell(get_new_variables_code)\n",
    "            this_function = self.function_info[func]\n",
    "            #pdb.set_trace()\n",
    "            values_before, values_here = this_function['values_before'], this_function['values_here']\n",
    "            values_here = {k:values_here[k] for k in set(values_here).difference(values_before)}\n",
    "            this_function['values_here'] = values_here\n",
    "            # print (values_here)\n",
    "        \n",
    "        root = ast.parse (cell)\n",
    "        variables_in_function = this_function['values_before'] | this_function['values_here']\n",
    "        # we shouldn't need to check if node.id is callable, there is surely an attribute that indicates that in the AST!\n",
    "        new_variables = {node.id for node in ast.walk(root) if isinstance(node, ast.Name) and node.id in variables_in_function and not callable(variables_in_function[node.id])}\n",
    "        this_function.variables_here = new_variables\n",
    "        # print (new_variables)\n",
    "        if idx > 0:\n",
    "            previous_variables = []\n",
    "            for x in self.function_list[:idx]: \n",
    "                previous_variables += x['new_variables']\n",
    "            #previous_variables = reduce (lambda x, y: x['new_variables'] + y['new_variables'], self.function_list[:idx])\n",
    "        else:\n",
    "            previous_variables = []\n",
    "        new_variables = sorted (new_variables.difference(previous_variables))\n",
    "        # print (new_variables)\n",
    "        this_function.update (new_variables=new_variables, previous_variables=previous_variables, posterior_variables=[])\n",
    "        \n",
    "        if make_function:\n",
    "            this_function.update_code ( \n",
    "                arguments=[x for x in previous_variables if x in this_function.variables_here] if unknown_input else input, \n",
    "                #arguments=previous_variables if unknown_input else input, \n",
    "                return_values=[] if unknown_output else output,\n",
    "                display=show\n",
    "            )\n",
    "            \n",
    "        # add variables from current function to posterior_variables of all the previous functions\n",
    "        for function in self.function_list[:idx]:\n",
    "            function.posterior_variables += [v for v in this_function.previous_variables+this_function.new_variables if v not in function.posterior_variables]\n",
    "            if update_previous_functions and unknown_output:\n",
    "                function.update_code (\n",
    "                    return_values=[x for x in function.previous_variables+function.new_variables if x in function.posterior_variables and x in function.variables_here], \n",
    "                    #return_values=[x for x in function.previous_variables+function.new_variables if x in function.posterior_variables], \n",
    "                    display=False\n",
    "                )\n",
    "                \n",
    "        if register_pipeline and len(self.function_list)>0:\n",
    "            self.register_pipeline (pipeline_name=pipeline_name)\n",
    "        \n",
    "        return this_function\n",
    "    \n",
    "    def function (\n",
    "        self,\n",
    "        func,\n",
    "        cell,\n",
    "        merge=False,\n",
    "        **kwargs\n",
    "    ) -> None:\n",
    "        \n",
    "        this_function = self.create_function (func, cell, **kwargs)\n",
    "        if func in self.function_info and merge:\n",
    "            new_function = self.merge_function (self.function_info[func], this_function)\n",
    "            self.function_list.remove (this_function)\n",
    "            this_function = new_function\n",
    "        else:\n",
    "            self.function_info[func] = this_function\n",
    "            self.function_list.append (this_function)\n",
    "                \n",
    "    def parse_signature (self, line):\n",
    "        argv = shlex.split(line, posix=(os.name == 'posix'))\n",
    "        \n",
    "        function_name=argv[0]\n",
    "        signature = dict(\n",
    "            input=None,\n",
    "            unknown_input=True,\n",
    "            output=None,\n",
    "            unknown_output=True\n",
    "        )\n",
    "        found_io = False\n",
    "        for idx, arg in enumerate(argv[1:], 1):\n",
    "            if arg and arg.startswith('-') and arg != '-' and arg != '->':\n",
    "                found_io = True\n",
    "                break\n",
    "        if found_io:\n",
    "            pars = self.parser.parse_args(argv[idx:])\n",
    "            unknown_input = 'input' not in pars\n",
    "            if not unknown_input:\n",
    "                signature.update (input=() if pars.input==['None'] else pars.input, unknown_input=pars.input is None)\n",
    "            unknown_output = 'output' not in pars\n",
    "            if not unknown_output:\n",
    "                signature.update (output=() if pars.output==['None'] else pars.output, unknown_output=pars.output is None)\n",
    "            \n",
    "        # print (function_name, signature)\n",
    "        return function_name, signature\n",
    "    \n",
    "    def write (self):\n",
    "        with open (str(self.file_path), 'w') as file:\n",
    "            for function in self.function_list:\n",
    "                function.write (file)\n",
    "                \n",
    "    def print (self, function_name):\n",
    "        if function_name == 'all':\n",
    "            for function in self.function_list:\n",
    "                function.print ()\n",
    "        else:\n",
    "            self.function_info[function_name].print ()\n",
    "            \n",
    "    def get_lib_path (self):\n",
    "        return nbdev.config.get_config()['lib_path']\n",
    "                   \n",
    "    def get_nbs_path (self):\n",
    "        return nbdev.config.get_config()['nbs_path']\n",
    "    \n",
    "    def pipeline_code (self, pipeline_name=None):\n",
    "        pipeline_name = f'{self.file_name}_pipeline' if pipeline_name is None else pipeline_name\n",
    "        code = f\"def {pipeline_name} ():\\n\"\n",
    "        for func in self.function_list:\n",
    "            argument_list_str = \", \".join(func.arguments)\n",
    "            return_list_str = f'{\", \".join(func.return_values)} = ' if len(func.return_values)>0 else ''\n",
    "            code += f'{\" \" * self.tab_size}' + f'{return_list_str}{func.name} ({argument_list_str})\\n'\n",
    "        return code, pipeline_name\n",
    "    \n",
    "    def register_pipeline (self, pipeline_name=None):\n",
    "        code, name = self.pipeline_code (pipeline_name=pipeline_name)\n",
    "        self.pipeline = FunctionProcessor (code=code,\n",
    "                                           arguments=[],\n",
    "                                           return_values=[],\n",
    "                                           name=name)\n",
    "        get_ipython().run_cell(code)\n",
    "            \n",
    "    \n",
    "    def print_pipeline (self):\n",
    "        code, name = self.pipeline_code()  \n",
    "        print (code)"
   ]
  },
  {
   "cell_type": "markdown",
   "metadata": {},
   "source": [
    "::: {.content-hidden}\n",
    "## CellProcessorMagic\n",
    ":::"
   ]
  },
  {
   "cell_type": "code",
   "execution_count": null,
   "metadata": {},
   "outputs": [],
   "source": [
    "#| export\n",
    "@magics_class\n",
    "class CellProcessorMagic (Magics):\n",
    "    \"\"\"\n",
    "    Base magic class for converting cells to modular functions.\n",
    "    \"\"\"\n",
    "    def __init__(self, shell, **kwargs):\n",
    "        super().__init__(shell)\n",
    "        self.processor = CellProcessor (magic=self, **kwargs)\n",
    "        \n",
    "    @cell_magic\n",
    "    def cell2file (self, folder, cell):\n",
    "        self.processor.cell2file (folder, cell)\n",
    "    \n",
    "    @cell_magic\n",
    "    def function (self, line, cell):\n",
    "        \"Converts cell to function\"\n",
    "        self.processor.process_function_call (line, cell)\n",
    "    \n",
    "    @line_magic\n",
    "    def write (self, line):\n",
    "        return self.processor.write ()\n",
    "    \n",
    "    @line_magic\n",
    "    def print (self, line):\n",
    "        return self.processor.print (line)\n",
    "    \n",
    "    @line_magic\n",
    "    def function_info (self, function_name):\n",
    "        return self.processor.function_info [function_name]\n",
    "        \n",
    "    @line_magic\n",
    "    def cell_processor (self, line):\n",
    "        return self.processor\n",
    "        \n",
    "    @line_magic\n",
    "    def pipeline_code (self, line):\n",
    "        return self.processor.pipeline_code ()\n",
    "    \n",
    "    @line_magic\n",
    "    def print_pipeline (self, line):\n",
    "        return self.processor.print_pipeline ()\n",
    "          \n",
    "    @line_magic\n",
    "    def match (self, line):\n",
    "        p0 = '[a-zA-Z]\\S*\\s*\\\\([^-()]*\\\\)\\s*->\\s*\\\\([^-()]*\\\\)'\n",
    "        p = '\\\\([^-()]*\\\\)'\n",
    "        m = re.search (p0, line)\n",
    "        if m is not None:\n",
    "            inp, out = re.findall (p, line)\n",
    "            #print (inp)\n",
    "            #print (out)"
   ]
  },
  {
   "cell_type": "markdown",
   "metadata": {},
   "source": [
    "`>>>>>>> bug/fix`"
   ]
  },
  {
   "cell_type": "markdown",
   "metadata": {},
   "source": [
    "::: {.content-hidden}\n",
    "## load_ipython_extension\n",
    ":::"
   ]
  },
  {
   "cell_type": "code",
   "execution_count": null,
   "metadata": {},
   "outputs": [],
   "source": [
    "#| export\n",
    "#| hide\n",
    "def load_ipython_extension(ipython):\n",
    "    \"\"\"\n",
    "    This module can be loaded via `%load_ext core.cell2func` or be configured to be autoloaded by IPython at startup time.\n",
    "    \"\"\"\n",
    "    magics = CellProcessorMagic(ipython)\n",
    "    ipython.register_magics(magics)"
   ]
  },
  {
   "cell_type": "markdown",
   "metadata": {},
   "source": [
    "::: {.content-hidden}\n",
    "## keep_variables\n",
    ":::"
   ]
  },
  {
   "cell_type": "markdown",
   "metadata": {},
   "source": [
    "::: {.content-hidden}\n",
    "## keep_variables\n",
    ":::"
   ]
  },
  {
   "cell_type": "code",
   "execution_count": null,
   "metadata": {},
   "outputs": [],
   "source": [
    "#| export\n",
    "def keep_variables (function, field, variable_values, self=None):\n",
    "    \"\"\"\n",
    "    Store `variables` in dictionary entry `self.variables_field[function]`\n",
    "    \"\"\"\n",
    "    frame_number = 1\n",
    "    while not isinstance (self, CellProcessor):\n",
    "        fr = sys._getframe(frame_number)\n",
    "        args = argnames(fr, True)\n",
    "        if len(args)>0:\n",
    "            self = fr.f_locals[args[0]]\n",
    "        frame_number += 1\n",
    "    variable_values = {k: variable_values[k] for k in variable_values if not k.startswith ('_') and not callable(variable_values[k])}\n",
    "    #pdb.set_trace()\n",
    "    #current_function = getattr(self, 'current_function')\n",
    "    #current_function[field]=variable_values\n",
    "    function_info = getattr(self, 'function_info')\n",
    "    function_info[function][field]=variable_values\n",
    "    "
   ]
  },
  {
   "cell_type": "markdown",
   "metadata": {},
   "source": [
    "## Usage"
   ]
  },
  {
   "cell_type": "code",
   "execution_count": null,
   "metadata": {},
   "outputs": [],
   "source": [
    "load_ipython_extension (get_ipython())"
   ]
  },
  {
   "cell_type": "markdown",
   "metadata": {},
   "source": [
    "The main cell magic is `%%function`. This wraps whatever code in the cell as a function. We can either indicate its inputs and outputs, as discussed later, or let it discover them by itself, as in here:"
   ]
  },
  {
   "cell_type": "code",
   "execution_count": null,
   "metadata": {},
   "outputs": [
    {
     "ename": "ValueError",
     "evalue": "call stack is not deep enough",
     "output_type": "error",
     "traceback": [
      "\u001b[0;31m---------------------------------------------------------------------------\u001b[0m",
      "\u001b[0;31mValueError\u001b[0m                                Traceback (most recent call last)",
      "Cell \u001b[0;32mIn[9], line 2\u001b[0m\n\u001b[1;32m      1\u001b[0m \u001b[38;5;28;01mfrom\u001b[39;00m \u001b[38;5;21;01mnbmodular\u001b[39;00m\u001b[38;5;21;01m.\u001b[39;00m\u001b[38;5;21;01mcore\u001b[39;00m\u001b[38;5;21;01m.\u001b[39;00m\u001b[38;5;21;01mcell2func\u001b[39;00m \u001b[38;5;28;01mimport\u001b[39;00m keep_variables\n\u001b[0;32m----> 2\u001b[0m \u001b[43mkeep_variables\u001b[49m\u001b[43m \u001b[49m\u001b[43m(\u001b[49m\u001b[38;5;124;43m\"\u001b[39;49m\u001b[38;5;124;43mfirst_function\u001b[39;49m\u001b[38;5;124;43m\"\u001b[39;49m\u001b[43m,\u001b[49m\u001b[43m \u001b[49m\u001b[38;5;124;43m\"\u001b[39;49m\u001b[38;5;124;43mvalues_before\u001b[39;49m\u001b[38;5;124;43m\"\u001b[39;49m\u001b[43m,\u001b[49m\u001b[43m \u001b[49m\u001b[38;5;28;43mlocals\u001b[39;49m\u001b[43m \u001b[49m\u001b[43m(\u001b[49m\u001b[43m)\u001b[49m\u001b[43m)\u001b[49m\n",
      "File \u001b[0;32m~/workspace/mine/nbmodular/nbmodular/core/cell2func.py:383\u001b[0m, in \u001b[0;36mkeep_variables\u001b[0;34m(function, field, variable_values, self)\u001b[0m\n\u001b[1;32m    381\u001b[0m frame_number \u001b[38;5;241m=\u001b[39m \u001b[38;5;241m1\u001b[39m\n\u001b[1;32m    382\u001b[0m \u001b[38;5;28;01mwhile\u001b[39;00m \u001b[38;5;129;01mnot\u001b[39;00m \u001b[38;5;28misinstance\u001b[39m (\u001b[38;5;28mself\u001b[39m, CellProcessor):\n\u001b[0;32m--> 383\u001b[0m     fr \u001b[38;5;241m=\u001b[39m \u001b[43msys\u001b[49m\u001b[38;5;241;43m.\u001b[39;49m\u001b[43m_getframe\u001b[49m\u001b[43m(\u001b[49m\u001b[43mframe_number\u001b[49m\u001b[43m)\u001b[49m\n\u001b[1;32m    384\u001b[0m     args \u001b[38;5;241m=\u001b[39m argnames(fr, \u001b[38;5;28;01mTrue\u001b[39;00m)\n\u001b[1;32m    385\u001b[0m     \u001b[38;5;28;01mif\u001b[39;00m \u001b[38;5;28mlen\u001b[39m(args)\u001b[38;5;241m>\u001b[39m\u001b[38;5;241m0\u001b[39m:\n",
      "\u001b[0;31mValueError\u001b[0m: call stack is not deep enough"
     ]
    },
    {
     "name": "stdout",
     "output_type": "stream",
     "text": [
      "a + b is 3\n",
      "a * b is 2\n"
     ]
    },
    {
     "ename": "ValueError",
     "evalue": "call stack is not deep enough",
     "output_type": "error",
     "traceback": [
      "\u001b[0;31m---------------------------------------------------------------------------\u001b[0m",
      "\u001b[0;31mValueError\u001b[0m                                Traceback (most recent call last)",
      "Cell \u001b[0;32mIn[9], line 9\u001b[0m\n\u001b[1;32m      6\u001b[0m \u001b[38;5;28mprint\u001b[39m (\u001b[38;5;124mf\u001b[39m\u001b[38;5;124m'\u001b[39m\u001b[38;5;124ma * b is \u001b[39m\u001b[38;5;132;01m{\u001b[39;00mc\u001b[38;5;132;01m}\u001b[39;00m\u001b[38;5;124m'\u001b[39m)\n\u001b[1;32m      8\u001b[0m \u001b[38;5;28;01mfrom\u001b[39;00m \u001b[38;5;21;01mnbmodular\u001b[39;00m\u001b[38;5;21;01m.\u001b[39;00m\u001b[38;5;21;01mcore\u001b[39;00m\u001b[38;5;21;01m.\u001b[39;00m\u001b[38;5;21;01mcell2func\u001b[39;00m \u001b[38;5;28;01mimport\u001b[39;00m keep_variables\n\u001b[0;32m----> 9\u001b[0m \u001b[43mkeep_variables\u001b[49m\u001b[43m \u001b[49m\u001b[43m(\u001b[49m\u001b[38;5;124;43m\"\u001b[39;49m\u001b[38;5;124;43mfirst_function\u001b[39;49m\u001b[38;5;124;43m\"\u001b[39;49m\u001b[43m,\u001b[49m\u001b[43m \u001b[49m\u001b[38;5;124;43m\"\u001b[39;49m\u001b[38;5;124;43mvalues_here\u001b[39;49m\u001b[38;5;124;43m\"\u001b[39;49m\u001b[43m,\u001b[49m\u001b[43m \u001b[49m\u001b[38;5;28;43mlocals\u001b[39;49m\u001b[43m \u001b[49m\u001b[43m(\u001b[49m\u001b[43m)\u001b[49m\u001b[43m)\u001b[49m\n",
      "File \u001b[0;32m~/workspace/mine/nbmodular/nbmodular/core/cell2func.py:383\u001b[0m, in \u001b[0;36mkeep_variables\u001b[0;34m(function, field, variable_values, self)\u001b[0m\n\u001b[1;32m    381\u001b[0m frame_number \u001b[38;5;241m=\u001b[39m \u001b[38;5;241m1\u001b[39m\n\u001b[1;32m    382\u001b[0m \u001b[38;5;28;01mwhile\u001b[39;00m \u001b[38;5;129;01mnot\u001b[39;00m \u001b[38;5;28misinstance\u001b[39m (\u001b[38;5;28mself\u001b[39m, CellProcessor):\n\u001b[0;32m--> 383\u001b[0m     fr \u001b[38;5;241m=\u001b[39m \u001b[43msys\u001b[49m\u001b[38;5;241;43m.\u001b[39;49m\u001b[43m_getframe\u001b[49m\u001b[43m(\u001b[49m\u001b[43mframe_number\u001b[49m\u001b[43m)\u001b[49m\n\u001b[1;32m    384\u001b[0m     args \u001b[38;5;241m=\u001b[39m argnames(fr, \u001b[38;5;28;01mTrue\u001b[39;00m)\n\u001b[1;32m    385\u001b[0m     \u001b[38;5;28;01mif\u001b[39;00m \u001b[38;5;28mlen\u001b[39m(args)\u001b[38;5;241m>\u001b[39m\u001b[38;5;241m0\u001b[39m:\n",
      "\u001b[0;31mValueError\u001b[0m: call stack is not deep enough"
     ]
    },
    {
     "ename": "KeyError",
     "evalue": "'values_here'",
     "output_type": "error",
     "traceback": [
      "\u001b[0;31m---------------------------------------------------------------------------\u001b[0m",
      "\u001b[0;31mKeyError\u001b[0m                                  Traceback (most recent call last)",
      "Cell \u001b[0;32mIn[9], line 1\u001b[0m\n\u001b[0;32m----> 1\u001b[0m \u001b[43mget_ipython\u001b[49m\u001b[43m(\u001b[49m\u001b[43m)\u001b[49m\u001b[38;5;241;43m.\u001b[39;49m\u001b[43mrun_cell_magic\u001b[49m\u001b[43m(\u001b[49m\u001b[38;5;124;43m'\u001b[39;49m\u001b[38;5;124;43mfunction\u001b[39;49m\u001b[38;5;124;43m'\u001b[39;49m\u001b[43m,\u001b[49m\u001b[43m \u001b[49m\u001b[38;5;124;43m'\u001b[39;49m\u001b[38;5;124;43mfirst_function\u001b[39;49m\u001b[38;5;124;43m'\u001b[39;49m\u001b[43m,\u001b[49m\u001b[43m \u001b[49m\u001b[38;5;124;43m'\u001b[39;49m\u001b[38;5;124;43m\"\u001b[39;49m\u001b[38;5;124;43m\"\u001b[39;49m\u001b[38;5;124;43m\"\u001b[39;49m\u001b[38;5;124;43mFunction without specified I/O\u001b[39;49m\u001b[38;5;124;43m\"\u001b[39;49m\u001b[38;5;124;43m\"\u001b[39;49m\u001b[38;5;124;43m\"\u001b[39;49m\u001b[38;5;130;43;01m\\n\u001b[39;49;00m\u001b[38;5;124;43ma = 1\u001b[39;49m\u001b[38;5;130;43;01m\\n\u001b[39;49;00m\u001b[38;5;124;43mb = 2\u001b[39;49m\u001b[38;5;130;43;01m\\n\u001b[39;49;00m\u001b[38;5;124;43mprint (f\u001b[39;49m\u001b[38;5;130;43;01m\\'\u001b[39;49;00m\u001b[38;5;124;43ma + b is \u001b[39;49m\u001b[38;5;124;43m{\u001b[39;49m\u001b[38;5;124;43ma+b}\u001b[39;49m\u001b[38;5;130;43;01m\\'\u001b[39;49;00m\u001b[38;5;124;43m)\u001b[39;49m\u001b[38;5;130;43;01m\\n\u001b[39;49;00m\u001b[38;5;124;43mc = a*b\u001b[39;49m\u001b[38;5;130;43;01m\\n\u001b[39;49;00m\u001b[38;5;124;43mprint (f\u001b[39;49m\u001b[38;5;130;43;01m\\'\u001b[39;49;00m\u001b[38;5;124;43ma * b is \u001b[39;49m\u001b[38;5;132;43;01m{c}\u001b[39;49;00m\u001b[38;5;130;43;01m\\'\u001b[39;49;00m\u001b[38;5;124;43m)\u001b[39;49m\u001b[38;5;130;43;01m\\n\u001b[39;49;00m\u001b[38;5;124;43m'\u001b[39;49m\u001b[43m)\u001b[49m\n",
      "File \u001b[0;32m~/miniconda3/envs/tsforecast/lib/python3.10/site-packages/IPython/core/interactiveshell.py:2430\u001b[0m, in \u001b[0;36mInteractiveShell.run_cell_magic\u001b[0;34m(self, magic_name, line, cell)\u001b[0m\n\u001b[1;32m   2428\u001b[0m \u001b[38;5;28;01mwith\u001b[39;00m \u001b[38;5;28mself\u001b[39m\u001b[38;5;241m.\u001b[39mbuiltin_trap:\n\u001b[1;32m   2429\u001b[0m     args \u001b[38;5;241m=\u001b[39m (magic_arg_s, cell)\n\u001b[0;32m-> 2430\u001b[0m     result \u001b[38;5;241m=\u001b[39m \u001b[43mfn\u001b[49m\u001b[43m(\u001b[49m\u001b[38;5;241;43m*\u001b[39;49m\u001b[43margs\u001b[49m\u001b[43m,\u001b[49m\u001b[43m \u001b[49m\u001b[38;5;241;43m*\u001b[39;49m\u001b[38;5;241;43m*\u001b[39;49m\u001b[43mkwargs\u001b[49m\u001b[43m)\u001b[49m\n\u001b[1;32m   2432\u001b[0m \u001b[38;5;66;03m# The code below prevents the output from being displayed\u001b[39;00m\n\u001b[1;32m   2433\u001b[0m \u001b[38;5;66;03m# when using magics with decodator @output_can_be_silenced\u001b[39;00m\n\u001b[1;32m   2434\u001b[0m \u001b[38;5;66;03m# when the last Python token in the expression is a ';'.\u001b[39;00m\n\u001b[1;32m   2435\u001b[0m \u001b[38;5;28;01mif\u001b[39;00m \u001b[38;5;28mgetattr\u001b[39m(fn, magic\u001b[38;5;241m.\u001b[39mMAGIC_OUTPUT_CAN_BE_SILENCED, \u001b[38;5;28;01mFalse\u001b[39;00m):\n",
      "Cell \u001b[0;32mIn[5], line 18\u001b[0m, in \u001b[0;36mCellProcessorMagic.function\u001b[0;34m(self, line, cell)\u001b[0m\n\u001b[1;32m     15\u001b[0m \u001b[38;5;129m@cell_magic\u001b[39m\n\u001b[1;32m     16\u001b[0m \u001b[38;5;28;01mdef\u001b[39;00m \u001b[38;5;21mfunction\u001b[39m (\u001b[38;5;28mself\u001b[39m, line, cell):\n\u001b[1;32m     17\u001b[0m     \u001b[38;5;124m\"\u001b[39m\u001b[38;5;124mConverts cell to function\u001b[39m\u001b[38;5;124m\"\u001b[39m\n\u001b[0;32m---> 18\u001b[0m     \u001b[38;5;28;43mself\u001b[39;49m\u001b[38;5;241;43m.\u001b[39;49m\u001b[43mprocessor\u001b[49m\u001b[38;5;241;43m.\u001b[39;49m\u001b[43mprocess_function_call\u001b[49m\u001b[43m \u001b[49m\u001b[43m(\u001b[49m\u001b[43mline\u001b[49m\u001b[43m,\u001b[49m\u001b[43m \u001b[49m\u001b[43mcell\u001b[49m\u001b[43m)\u001b[49m\n",
      "Cell \u001b[0;32mIn[4], line 51\u001b[0m, in \u001b[0;36mCellProcessor.process_function_call\u001b[0;34m(self, line, cell, add_call)\u001b[0m\n\u001b[1;32m     49\u001b[0m     \u001b[38;5;28mself\u001b[39m\u001b[38;5;241m.\u001b[39madd_call (call)\n\u001b[1;32m     50\u001b[0m function_name, signature \u001b[38;5;241m=\u001b[39m \u001b[38;5;28mself\u001b[39m\u001b[38;5;241m.\u001b[39mparse_signature (line)\n\u001b[0;32m---> 51\u001b[0m \u001b[38;5;28;43mself\u001b[39;49m\u001b[38;5;241;43m.\u001b[39;49m\u001b[43mfunction\u001b[49m\u001b[43m \u001b[49m\u001b[43m(\u001b[49m\u001b[43mfunction_name\u001b[49m\u001b[43m,\u001b[49m\u001b[43m \u001b[49m\u001b[43mcell\u001b[49m\u001b[43m,\u001b[49m\u001b[43m \u001b[49m\u001b[43mcall\u001b[49m\u001b[38;5;241;43m=\u001b[39;49m\u001b[43mcall\u001b[49m\u001b[43m,\u001b[49m\u001b[43m \u001b[49m\u001b[38;5;241;43m*\u001b[39;49m\u001b[38;5;241;43m*\u001b[39;49m\u001b[43msignature\u001b[49m\u001b[43m)\u001b[49m\n",
      "Cell \u001b[0;32mIn[4], line 158\u001b[0m, in \u001b[0;36mCellProcessor.function\u001b[0;34m(self, func, cell, merge, **kwargs)\u001b[0m\n\u001b[1;32m    150\u001b[0m \u001b[38;5;28;01mdef\u001b[39;00m \u001b[38;5;21mfunction\u001b[39m (\n\u001b[1;32m    151\u001b[0m     \u001b[38;5;28mself\u001b[39m,\n\u001b[1;32m    152\u001b[0m     func,\n\u001b[0;32m   (...)\u001b[0m\n\u001b[1;32m    155\u001b[0m     \u001b[38;5;241m*\u001b[39m\u001b[38;5;241m*\u001b[39mkwargs\n\u001b[1;32m    156\u001b[0m ) \u001b[38;5;241m-\u001b[39m\u001b[38;5;241m>\u001b[39m \u001b[38;5;28;01mNone\u001b[39;00m:\n\u001b[0;32m--> 158\u001b[0m     this_function \u001b[38;5;241m=\u001b[39m \u001b[38;5;28;43mself\u001b[39;49m\u001b[38;5;241;43m.\u001b[39;49m\u001b[43mcreate_function\u001b[49m\u001b[43m \u001b[49m\u001b[43m(\u001b[49m\u001b[43mfunc\u001b[49m\u001b[43m,\u001b[49m\u001b[43m \u001b[49m\u001b[43mcell\u001b[49m\u001b[43m,\u001b[49m\u001b[43m \u001b[49m\u001b[38;5;241;43m*\u001b[39;49m\u001b[38;5;241;43m*\u001b[39;49m\u001b[43mkwargs\u001b[49m\u001b[43m)\u001b[49m\n\u001b[1;32m    159\u001b[0m     \u001b[38;5;28;01mif\u001b[39;00m func \u001b[38;5;129;01min\u001b[39;00m \u001b[38;5;28mself\u001b[39m\u001b[38;5;241m.\u001b[39mfunction_info \u001b[38;5;129;01mand\u001b[39;00m merge:\n\u001b[1;32m    160\u001b[0m         new_function \u001b[38;5;241m=\u001b[39m \u001b[38;5;28mself\u001b[39m\u001b[38;5;241m.\u001b[39mmerge_function (\u001b[38;5;28mself\u001b[39m\u001b[38;5;241m.\u001b[39mfunction_info[func], this_function)\n",
      "Cell \u001b[0;32mIn[4], line 105\u001b[0m, in \u001b[0;36mCellProcessor.create_function\u001b[0;34m(self, func, cell, call, input, unknown_input, output, unknown_output, collect_variables_values, make_function, update_previous_functions, show, register_pipeline, pipeline_name)\u001b[0m\n\u001b[1;32m    103\u001b[0m this_function \u001b[38;5;241m=\u001b[39m \u001b[38;5;28mself\u001b[39m\u001b[38;5;241m.\u001b[39mfunction_info[func]\n\u001b[1;32m    104\u001b[0m \u001b[38;5;66;03m#pdb.set_trace()\u001b[39;00m\n\u001b[0;32m--> 105\u001b[0m values_before, values_here \u001b[38;5;241m=\u001b[39m this_function[\u001b[38;5;124m'\u001b[39m\u001b[38;5;124mvalues_before\u001b[39m\u001b[38;5;124m'\u001b[39m], \u001b[43mthis_function\u001b[49m\u001b[43m[\u001b[49m\u001b[38;5;124;43m'\u001b[39;49m\u001b[38;5;124;43mvalues_here\u001b[39;49m\u001b[38;5;124;43m'\u001b[39;49m\u001b[43m]\u001b[49m\n\u001b[1;32m    106\u001b[0m values_here \u001b[38;5;241m=\u001b[39m {k:values_here[k] \u001b[38;5;28;01mfor\u001b[39;00m k \u001b[38;5;129;01min\u001b[39;00m \u001b[38;5;28mset\u001b[39m(values_here)\u001b[38;5;241m.\u001b[39mdifference(values_before)}\n\u001b[1;32m    107\u001b[0m this_function[\u001b[38;5;124m'\u001b[39m\u001b[38;5;124mvalues_here\u001b[39m\u001b[38;5;124m'\u001b[39m] \u001b[38;5;241m=\u001b[39m values_here\n",
      "\u001b[0;31mKeyError\u001b[0m: 'values_here'"
     ]
    }
   ],
   "source": [
    "%%function first_function\n",
    "\"\"\"Function without specified I/O\"\"\"\n",
    "a = 1\n",
    "b = 2\n",
    "print (f'a + b is {a+b}')\n",
    "c = a*b\n",
    "print (f'a * b is {c}')"
   ]
  },
  {
   "cell_type": "markdown",
   "metadata": {},
   "source": [
    "By running the previous cell, we have defined a new function `first_function` with the following intpus and outputs: "
   ]
  },
  {
   "cell_type": "code",
   "execution_count": null,
   "metadata": {},
   "outputs": [],
   "source": [
    "%print all"
   ]
  },
  {
   "cell_type": "markdown",
   "metadata": {},
   "source": [
    "From now on we can invoke the previous function directly:"
   ]
  },
  {
   "cell_type": "code",
   "execution_count": null,
   "metadata": {},
   "outputs": [],
   "source": [
    "a, b, c = first_function ()\n",
    "print ('result: a=', a, ' b=', b, ' c=', c, sep='')"
   ]
  },
  {
   "cell_type": "markdown",
   "metadata": {},
   "source": [
    "## Specifying the inputs / outputs"
   ]
  },
  {
   "cell_type": "code",
   "execution_count": null,
   "metadata": {},
   "outputs": [],
   "source": [
    "%%function second_function -i a -o b c\n",
    "a = 1\n",
    "b = 2\n",
    "print (f'a + b is {a+b}')\n",
    "c = a*b\n",
    "print (f'a * b is {c}')"
   ]
  },
  {
   "cell_type": "markdown",
   "metadata": {},
   "source": [
    "## Debugging"
   ]
  },
  {
   "cell_type": "markdown",
   "metadata": {},
   "source": [
    "If we need to debug the mechanism used for defining new functions, we can do so by retrieving the object processor, which gives us a access to the internal methods used, as follows:"
   ]
  },
  {
   "cell_type": "code",
   "execution_count": null,
   "metadata": {},
   "outputs": [],
   "source": [
    "processor = %cell_processor"
   ]
  },
  {
   "cell_type": "code",
   "execution_count": null,
   "metadata": {},
   "outputs": [],
   "source": [
    "processor.call_history"
   ]
  },
  {
   "cell_type": "markdown",
   "metadata": {},
   "source": [
    "We can reproduce the calls by resetting the processor and re-running the method `process_function_call` for each call in `processor.call_history`:"
   ]
  },
  {
   "cell_type": "code",
   "execution_count": null,
   "metadata": {},
   "outputs": [],
   "source": [
    "processor.reset()"
   ]
  },
  {
   "cell_type": "code",
   "execution_count": null,
   "metadata": {},
   "outputs": [],
   "source": [
    "processor.function_list"
   ]
  },
  {
   "cell_type": "code",
   "execution_count": null,
   "metadata": {},
   "outputs": [],
   "source": [
    "processor.process_function_call (*processor.call_history[0], add_call=False)"
   ]
  },
  {
   "cell_type": "code",
   "execution_count": null,
   "metadata": {},
   "outputs": [],
   "source": [
    "processor.function_list"
   ]
  },
  {
   "cell_type": "code",
   "execution_count": null,
   "metadata": {},
   "outputs": [],
   "source": [
    "%print all"
   ]
  },
  {
   "cell_type": "code",
   "execution_count": null,
   "metadata": {},
   "outputs": [],
   "source": [
    "processor.process_function_call (*processor.call_history[1], add_call=False)"
   ]
  },
  {
   "cell_type": "code",
   "execution_count": null,
   "metadata": {},
   "outputs": [],
   "source": [
    "processor.function_list"
   ]
  },
  {
   "cell_type": "code",
   "execution_count": null,
   "metadata": {},
   "outputs": [],
   "source": [
    "%print all"
   ]
  },
  {
   "cell_type": "code",
   "execution_count": null,
   "metadata": {},
   "outputs": [],
   "source": [
    "#| hide\n",
    "import nbdev; nbdev.nbdev_export()"
   ]
  }
 ],
 "metadata": {
  "kernelspec": {
   "display_name": "tsforecast",
   "language": "python",
   "name": "tsforecast"
  }
 },
 "nbformat": 4,
 "nbformat_minor": 4
}
