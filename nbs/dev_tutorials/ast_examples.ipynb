{
 "cells": [
  {
   "cell_type": "code",
   "execution_count": null,
   "metadata": {},
   "outputs": [],
   "source": [
    "import ast \n",
    "\n",
    "code = (\n",
    "'''\n",
    "print (\"hello\", name)\n",
    "name += \"Jaume\"\n",
    "x = 3\n",
    "x = x + 5\n",
    "y = x * 7\n",
    "'''\n",
    ")\n",
    "root = ast.parse (code)"
   ]
  },
  {
   "cell_type": "code",
   "execution_count": null,
   "metadata": {},
   "outputs": [],
   "source": [
    "from ast import NodeVisitor\n",
    "\n",
    "class VariableClassifier (NodeVisitor):\n",
    "    def __init__ (self, *args, **kwargs):a\n",
    "        self.created_variables = []\n",
    "        self.loaded_names = []\n",
    "        self.previous_variables = []\n",
    "        super ().__init__ (*args, **kwargs)\n",
    "\n",
    "    def generic_visit(self, node):\n",
    "        if isinstance(node, ast.Name):\n",
    "            if isinstance(node.ctx, ast.Store) and node.id not in self.created_variables:\n",
    "                self.created_variables.append (node.id)\n",
    "            if isinstance(node.ctx, ast.Load) and node.id not in self.loaded_names:\n",
    "                self.loaded_names.append (node.id)\n",
    "                if node.id not in self.created_variables:\n",
    "                    self.previous_variables.append (node.id)\n",
    "        super().generic_visit(node)\n",
    "variable_classifier = VariableClassifier ()\n",
    "variable_classifier.visit (root)\n",
    "variable_classifier.created_variables, variable_classifier.loaded_names, variable_classifier.previous_variables"
   ]
  }
 ],
 "metadata": {
  "language_info": {
   "name": "python"
  }
 },
 "nbformat": 4,
 "nbformat_minor": 2
}
