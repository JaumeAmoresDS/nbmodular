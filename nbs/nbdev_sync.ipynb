{
 "cells": [
  {
   "cell_type": "code",
   "execution_count": null,
   "id": "b9dcb936-e057-4d53-85c7-7050f53144a9",
   "metadata": {},
   "outputs": [],
   "source": [
    "#| default_exp core.nbdev_sync"
   ]
  },
  {
   "cell_type": "code",
   "execution_count": null,
   "id": "d872124d-0059-49a4-88ed-730ad627b85b",
   "metadata": {},
   "outputs": [],
   "source": [
    "#| export\n",
    "import os\n",
    "import joblib\n",
    "import warnings\n",
    "from execnb.nbio import read_nb, write_nb, new_nb, mk_cell\n",
    "from nbdev.process import NBProcessor, Processor"
   ]
  },
  {
   "cell_type": "markdown",
   "id": "2d540894-e097-420a-a9a9-828c14fda549",
   "metadata": {},
   "source": [
    "# Syncing through nbdev\n",
    "\n",
    "> Showcasing the syncing capability"
   ]
  },
  {
   "cell_type": "code",
   "execution_count": null,
   "id": "f4d22799-0ce0-407a-b43a-dd3e8f2e0ee3",
   "metadata": {},
   "outputs": [],
   "source": [
    "%load_ext nbmodular.core.cell2func"
   ]
  },
  {
   "cell_type": "markdown",
   "id": "761bda8e-70e1-4011-bc6b-979475d29104",
   "metadata": {},
   "source": [
    "## FunctionNBProcessor"
   ]
  },
  {
   "cell_type": "code",
   "execution_count": null,
   "id": "7832d6ac-3641-4ab8-ba65-ad8d454360fe",
   "metadata": {},
   "outputs": [],
   "source": [
    "#|export\n",
    "\n",
    "import pdb\n",
    "class FunctionNBProcessor(Processor):\n",
    "    def __init__ (self, cell_processor, debug=False):\n",
    "        self.cell_processor = cell_processor\n",
    "        self.function_idx = 0\n",
    "        self.cell_list = []\n",
    "        self.function_name_to_list_idx = {}\n",
    "        self.debug=debug\n",
    "        #for function in self.cell_processor.cell_nodes:\n",
    "        #    function.cell_idx = None\n",
    "    \n",
    "    def cell(self, cell):\n",
    "        separator = '\\n**********************************************************************\\n'\n",
    "        cell_lines = cell.source.splitlines()\n",
    "        if len(cell_lines) > 0 and '%%function' in cell_lines[0]:\n",
    "            if self.debug:\n",
    "                pdb.set_trace()\n",
    "            if self.function_idx < len(self.cell_processor.cell_nodes):\n",
    "                this_function = self.cell_processor.cell_nodes[self.function_idx]\n",
    "                this_function.cell_idx = cell.idx_\n",
    "                new_source = separator + '#| export\\n' + this_function.code\n",
    "                if this_function.name in self.function_name_to_list_idx:\n",
    "                    list_idx = self.function_name_to_list_idx[this_function.name]\n",
    "                    self.cell_list[list_idx] = new_source\n",
    "                else:\n",
    "                    list_idx = len(self.cell_list)\n",
    "                    self.cell_list.append (new_source)\n",
    "                    self.function_name_to_list_idx[this_function.name] = list_idx\n",
    "                self.function_idx += 1\n",
    "        else:\n",
    "            self.cell_list.append (cell.source)\n",
    "    def end(self): \n",
    "        for cell in self.cell_list:\n",
    "            print (cell)"
   ]
  },
  {
   "cell_type": "markdown",
   "id": "a2ae8669-d30f-4238-8e10-8698fcbd6090",
   "metadata": {},
   "source": [
    "## process_notebook"
   ]
  },
  {
   "cell_type": "code",
   "execution_count": null,
   "id": "ebe60759-d565-4341-83aa-f31c378afea3",
   "metadata": {},
   "outputs": [],
   "source": [
    "def process_notebook (cell_processor, debug=False):\n",
    "    function_processor = FunctionNBProcessor (cell_processor, debug=debug)\n",
    "    NBProcessor ('./nbdev_sync.ipynb', function_processor).process()"
   ]
  },
  {
   "cell_type": "markdown",
   "id": "b50cdefe-f127-4609-b2bd-34239826b9bf",
   "metadata": {},
   "source": [
    "## simple case: each function is written in a single cell"
   ]
  },
  {
   "cell_type": "markdown",
   "id": "2cf99854-a070-4245-9595-3c44fd82b81e",
   "metadata": {},
   "source": [
    "This is markdown"
   ]
  },
  {
   "cell_type": "code",
   "execution_count": null,
   "id": "e122528b-f33b-4b02-a4f1-60691863d6da",
   "metadata": {},
   "outputs": [
    {
     "name": "stdout",
     "output_type": "stream",
     "text": [
      "a 3\n",
      "Stored the following local variables in the first_function current_values dictionary: ['a']\n"
     ]
    }
   ],
   "source": [
    "%%function first_function\n",
    "a = 3 \n",
    "print ('a', a)"
   ]
  },
  {
   "cell_type": "code",
   "execution_count": null,
   "id": "bd3ed65b-cbb6-4949-9009-80ff6a0cac7e",
   "metadata": {},
   "outputs": [
    {
     "name": "stdout",
     "output_type": "stream",
     "text": [
      "outside 3\n"
     ]
    }
   ],
   "source": [
    "# normal code cell\n",
    "print ('outside', a)"
   ]
  },
  {
   "cell_type": "code",
   "execution_count": null,
   "id": "e9d441ce-7d98-4177-b6fc-a50214c44d34",
   "metadata": {},
   "outputs": [
    {
     "name": "stdout",
     "output_type": "stream",
     "text": [
      "3 4 7\n",
      "Stored the following local variables in the second_function current_values dictionary: ['b', 'c']\n"
     ]
    }
   ],
   "source": [
    "%%function second_function\n",
    "b = 4\n",
    "c = a+b\n",
    "print (a, b, c)"
   ]
  },
  {
   "cell_type": "code",
   "execution_count": null,
   "id": "c64d8d4e-2299-473f-9936-f92474ed18b9",
   "metadata": {},
   "outputs": [],
   "source": [
    "cell_processor = %cell_processor"
   ]
  },
  {
   "cell_type": "code",
   "execution_count": null,
   "id": "47e18c11-e066-4c95-84ae-5df43862a020",
   "metadata": {},
   "outputs": [
    {
     "name": "stdout",
     "output_type": "stream",
     "text": [
      "last cell: 3 4 7\n"
     ]
    }
   ],
   "source": [
    "[function['name'] for function in cell_processor.cell_nodes]\n",
    "print ('last cell:', a, b, c)"
   ]
  },
  {
   "cell_type": "code",
   "execution_count": null,
   "id": "06abea45-609a-4137-8f72-47be661ed6ee",
   "metadata": {},
   "outputs": [
    {
     "name": "stdout",
     "output_type": "stream",
     "text": [
      "#| default_exp core.nbdev_sync\n",
      "import os\n",
      "import joblib\n",
      "import warnings\n",
      "from execnb.nbio import read_nb, write_nb, new_nb, mk_cell\n",
      "from nbdev.process import NBProcessor, Processor\n",
      "# Syncing through nbdev\n",
      "\n",
      "> Showcasing the syncing capability\n",
      "%load_ext nbmodular.core.cell2func\n",
      "## FunctionNBProcessor\n",
      "import pdb\n",
      "class FunctionNBProcessor(Processor):\n",
      "    def __init__ (self, cell_processor, debug=False):\n",
      "        self.cell_processor = cell_processor\n",
      "        self.function_idx = 0\n",
      "        self.cell_list = []\n",
      "        self.function_name_to_list_idx = {}\n",
      "        self.debug=debug\n",
      "        #for function in self.cell_processor.cell_nodes:\n",
      "        #    function.cell_idx = None\n",
      "    \n",
      "    def cell(self, cell):\n",
      "        separator = '\\n**********************************************************************\\n'\n",
      "        cell_lines = cell.source.splitlines()\n",
      "        if len(cell_lines) > 0 and '%%function' in cell_lines[0]:\n",
      "            if self.debug:\n",
      "                pdb.set_trace()\n",
      "            if self.function_idx < len(self.cell_processor.cell_nodes):\n",
      "                this_function = self.cell_processor.cell_nodes[self.function_idx]\n",
      "                this_function.cell_idx = cell.idx_\n",
      "                new_source = separator + '#| export\\n' + this_function.code\n",
      "                if this_function.name in self.function_name_to_list_idx:\n",
      "                    list_idx = self.function_name_to_list_idx[this_function.name]\n",
      "                    self.cell_list[list_idx] = new_source\n",
      "                else:\n",
      "                    list_idx = len(self.cell_list)\n",
      "                    self.cell_list.append (new_source)\n",
      "                    self.function_name_to_list_idx[this_function.name] = list_idx\n",
      "                self.function_idx += 1\n",
      "        else:\n",
      "            self.cell_list.append (cell.source)\n",
      "    def end(self): \n",
      "        for cell in self.cell_list:\n",
      "            print (cell)\n",
      "## process_notebook\n",
      "def process_notebook (cell_processor, debug=False):\n",
      "    function_processor = FunctionNBProcessor (cell_processor, debug=debug)\n",
      "    NBProcessor ('./nbdev_sync.ipynb', function_processor).process()\n",
      "## simple case: each function is written in a single cell\n",
      "This is markdown\n",
      "\n",
      "**********************************************************************\n",
      "#| export\n",
      "def first_function():\n",
      "    a = 3 \n",
      "    print ('a', a)\n",
      "    return a\n",
      "\n",
      "# normal code cell\n",
      "print ('outside', a)\n",
      "\n",
      "**********************************************************************\n",
      "#| export\n",
      "def second_function():\n",
      "    b = 4\n",
      "    c = a+b\n",
      "    print (a, b, c)\n",
      "    return b,c\n",
      "\n",
      "cell_processor = %cell_processor\n",
      "[function['name'] for function in cell_processor.cell_nodes]\n",
      "print ('last cell:', a, b, c)\n",
      "process_notebook (cell_processor)\n",
      "## second case: functions are split into different cells\n",
      "%print myf\n",
      "myf_info.original_cell\n",
      "%print myf\n",
      "%print myf\n",
      "myf_info.original_cell\n",
      "process_notebook (cell_processor)\n",
      "### (TODO) Use only the last cell associated with this function, e.g., by replacing previous cells.\n",
      "## third case: have defined functions in cells\n",
      "x=4\n",
      "process_notebook (cell_processor, debug=False)\n",
      "### (TODO) Debug why the code of last function doesn't appear at all\n",
      "## end\n",
      "\n"
     ]
    }
   ],
   "source": [
    "process_notebook (cell_processor)"
   ]
  },
  {
   "cell_type": "markdown",
   "id": "761e8317-90ad-4512-b969-c828d5fd0f1e",
   "metadata": {},
   "source": [
    "## second case: functions are split into different cells"
   ]
  },
  {
   "cell_type": "code",
   "execution_count": null,
   "id": "7007a2bd-3e9a-43ea-b20c-abaeb5742454",
   "metadata": {},
   "outputs": [
    {
     "name": "stdout",
     "output_type": "stream",
     "text": [
      "hello\n",
      "Stored the following local variables in the myf current_values dictionary: ['a']\n"
     ]
    }
   ],
   "source": [
    "%%function myf\n",
    "print ('hello')\n",
    "a = 3"
   ]
  },
  {
   "cell_type": "code",
   "execution_count": null,
   "id": "d453f872-fa87-4ebc-862a-5e08a56807fe",
   "metadata": {},
   "outputs": [
    {
     "name": "stdout",
     "output_type": "stream",
     "text": [
      "def myf():\n",
      "    print ('hello')\n",
      "    a = 3\n",
      "    return a\n",
      "\n"
     ]
    }
   ],
   "source": [
    "%print myf"
   ]
  },
  {
   "cell_type": "code",
   "execution_count": null,
   "id": "e9370375-ad5b-463b-af7b-9617892f12f5",
   "metadata": {},
   "outputs": [
    {
     "data": {
      "text/plain": [
       "\"print ('hello')\\na = 3\\n\""
      ]
     },
     "execution_count": null,
     "metadata": {},
     "output_type": "execute_result"
    }
   ],
   "source": [
    "myf_info.original_cell"
   ]
  },
  {
   "cell_type": "code",
   "execution_count": null,
   "id": "98c20fce-73b2-4e8b-973d-4f5f6474e0d3",
   "metadata": {},
   "outputs": [
    {
     "name": "stdout",
     "output_type": "stream",
     "text": [
      "Stored the following local variables in the myf current_values dictionary: ['b']\n",
      "hello\n",
      "Stored the following local variables in the myf current_values dictionary: ['a', 'b']\n"
     ]
    }
   ],
   "source": [
    "%%function myf --merge\n",
    "b = 4"
   ]
  },
  {
   "cell_type": "code",
   "execution_count": null,
   "id": "99cdcb0e-1bbf-466d-bd40-c9875117d04d",
   "metadata": {},
   "outputs": [
    {
     "name": "stdout",
     "output_type": "stream",
     "text": [
      "def myf():\n",
      "    print ('hello')\n",
      "    a = 3\n",
      "    b = 4\n",
      "    return a,b\n",
      "\n"
     ]
    }
   ],
   "source": [
    "%print myf"
   ]
  },
  {
   "cell_type": "code",
   "execution_count": null,
   "id": "98fb1556-1a59-477f-88d1-cd55a8c5eb0b",
   "metadata": {},
   "outputs": [
    {
     "name": "stdout",
     "output_type": "stream",
     "text": [
      "Stored the following local variables in the myf current_values dictionary: ['c', 'd']\n",
      "hello\n",
      "Stored the following local variables in the myf current_values dictionary: ['a', 'b', 'c', 'd']\n"
     ]
    }
   ],
   "source": [
    "%%function myf --merge\n",
    "c = 5\n",
    "d = a+b+c"
   ]
  },
  {
   "cell_type": "code",
   "execution_count": null,
   "id": "60f31825-6763-459c-8b1c-8d6d2fcf27a0",
   "metadata": {},
   "outputs": [
    {
     "name": "stdout",
     "output_type": "stream",
     "text": [
      "def myf():\n",
      "    print ('hello')\n",
      "    a = 3\n",
      "    b = 4\n",
      "    c = 5\n",
      "    d = a+b+c\n",
      "    return a,b,d,c\n",
      "\n"
     ]
    }
   ],
   "source": [
    "%print myf"
   ]
  },
  {
   "cell_type": "code",
   "execution_count": null,
   "id": "98d0aacf-9fa1-43a0-a8d0-eefc502b4872",
   "metadata": {},
   "outputs": [
    {
     "data": {
      "text/plain": [
       "\"print ('hello')\\na = 3\\nb = 4\\nc = 5\\nd = a+b+c\\n\""
      ]
     },
     "execution_count": null,
     "metadata": {},
     "output_type": "execute_result"
    }
   ],
   "source": [
    "myf_info.original_cell"
   ]
  },
  {
   "cell_type": "code",
   "execution_count": null,
   "id": "070dc835-beca-4fd0-ba23-f3019ba3f28b",
   "metadata": {},
   "outputs": [
    {
     "name": "stdout",
     "output_type": "stream",
     "text": [
      "#| default_exp core.nbdev_sync\n",
      "import os\n",
      "import joblib\n",
      "import warnings\n",
      "from execnb.nbio import read_nb, write_nb, new_nb, mk_cell\n",
      "from nbdev.process import NBProcessor, Processor\n",
      "# Syncing through nbdev\n",
      "\n",
      "> Showcasing the syncing capability\n",
      "%load_ext nbmodular.core.cell2func\n",
      "## FunctionNBProcessor\n",
      "import pdb\n",
      "class FunctionNBProcessor(Processor):\n",
      "    def __init__ (self, cell_processor, debug=False):\n",
      "        self.cell_processor = cell_processor\n",
      "        self.function_idx = 0\n",
      "        self.cell_list = []\n",
      "        self.function_name_to_list_idx = {}\n",
      "        self.debug=debug\n",
      "        #for function in self.cell_processor.cell_nodes:\n",
      "        #    function.cell_idx = None\n",
      "    \n",
      "    def cell(self, cell):\n",
      "        separator = '\\n**********************************************************************\\n'\n",
      "        cell_lines = cell.source.splitlines()\n",
      "        if len(cell_lines) > 0 and '%%function' in cell_lines[0]:\n",
      "            if self.debug:\n",
      "                pdb.set_trace()\n",
      "            if self.function_idx < len(self.cell_processor.cell_nodes):\n",
      "                this_function = self.cell_processor.cell_nodes[self.function_idx]\n",
      "                this_function.cell_idx = cell.idx_\n",
      "                new_source = separator + '#| export\\n' + this_function.code\n",
      "                if this_function.name in self.function_name_to_list_idx:\n",
      "                    list_idx = self.function_name_to_list_idx[this_function.name]\n",
      "                    self.cell_list[list_idx] = new_source\n",
      "                else:\n",
      "                    list_idx = len(self.cell_list)\n",
      "                    self.cell_list.append (new_source)\n",
      "                    self.function_name_to_list_idx[this_function.name] = list_idx\n",
      "                self.function_idx += 1\n",
      "        else:\n",
      "            self.cell_list.append (cell.source)\n",
      "    def end(self): \n",
      "        for cell in self.cell_list:\n",
      "            print (cell)\n",
      "## process_notebook\n",
      "def process_notebook (cell_processor, debug=False):\n",
      "    function_processor = FunctionNBProcessor (cell_processor, debug=debug)\n",
      "    NBProcessor ('./nbdev_sync.ipynb', function_processor).process()\n",
      "## simple case: each function is written in a single cell\n",
      "This is markdown\n",
      "\n",
      "**********************************************************************\n",
      "#| export\n",
      "def first_function():\n",
      "    a = 3 \n",
      "    print ('a', a)\n",
      "    return a\n",
      "\n",
      "# normal code cell\n",
      "print ('outside', a)\n",
      "\n",
      "**********************************************************************\n",
      "#| export\n",
      "def second_function():\n",
      "    b = 4\n",
      "    c = a+b\n",
      "    print (a, b, c)\n",
      "    return b,c\n",
      "\n",
      "cell_processor = %cell_processor\n",
      "[function['name'] for function in cell_processor.cell_nodes]\n",
      "print ('last cell:', a, b, c)\n",
      "process_notebook (cell_processor)\n",
      "## second case: functions are split into different cells\n",
      "\n",
      "**********************************************************************\n",
      "#| export\n",
      "def myf():\n",
      "    print ('hello')\n",
      "    a = 3\n",
      "    b = 4\n",
      "    c = 5\n",
      "    d = a+b+c\n",
      "    return a,b,d,c\n",
      "\n",
      "%print myf\n",
      "myf_info.original_cell\n",
      "%print myf\n",
      "%print myf\n",
      "myf_info.original_cell\n",
      "process_notebook (cell_processor)\n",
      "### (TODO) Use only the last cell associated with this function, e.g., by replacing previous cells.\n",
      "## third case: have defined functions in cells\n",
      "x=4\n",
      "process_notebook (cell_processor, debug=False)\n",
      "### (TODO) Debug why the code of last function doesn't appear at all\n",
      "## end\n",
      "\n"
     ]
    }
   ],
   "source": [
    "process_notebook (cell_processor)"
   ]
  },
  {
   "cell_type": "markdown",
   "id": "f8f4dd81-7fc2-4a3b-b079-202baea88e17",
   "metadata": {},
   "source": [
    "### (TODO) Use only the last cell associated with this function, e.g., by replacing previous cells."
   ]
  },
  {
   "cell_type": "markdown",
   "id": "e0027263-716f-4272-8b56-d137ad435e20",
   "metadata": {},
   "source": [
    "## third case: have defined functions in cells"
   ]
  },
  {
   "cell_type": "code",
   "execution_count": null,
   "id": "d70c070b-d546-4cb2-8ab8-ee7105b12d9c",
   "metadata": {},
   "outputs": [],
   "source": [
    "x=4"
   ]
  },
  {
   "cell_type": "code",
   "execution_count": null,
   "id": "b5856843-06f0-41bf-9070-0c21ae05ce15",
   "metadata": {},
   "outputs": [
    {
     "name": "stdout",
     "output_type": "stream",
     "text": [
      "4\n",
      "3\n",
      "Stored the following local variables in the my_defined_function current_values dictionary: []\n"
     ]
    }
   ],
   "source": [
    "%%function \n",
    "def my_defined_function (x, a=3):\n",
    "    print (x)\n",
    "    print (a)"
   ]
  },
  {
   "cell_type": "code",
   "execution_count": null,
   "id": "67f4bac7-a846-4bc7-8127-72e38ce07f26",
   "metadata": {},
   "outputs": [
    {
     "name": "stdout",
     "output_type": "stream",
     "text": [
      "#| default_exp core.nbdev_sync\n",
      "import os\n",
      "import joblib\n",
      "import warnings\n",
      "from execnb.nbio import read_nb, write_nb, new_nb, mk_cell\n",
      "from nbdev.process import NBProcessor, Processor\n",
      "# Syncing through nbdev\n",
      "\n",
      "> Showcasing the syncing capability\n",
      "%load_ext nbmodular.core.cell2func\n",
      "## FunctionNBProcessor\n",
      "import pdb\n",
      "class FunctionNBProcessor(Processor):\n",
      "    def __init__ (self, cell_processor, debug=False):\n",
      "        self.cell_processor = cell_processor\n",
      "        self.function_idx = 0\n",
      "        self.cell_list = []\n",
      "        self.function_name_to_list_idx = {}\n",
      "        self.debug=debug\n",
      "        #for function in self.cell_processor.cell_nodes:\n",
      "        #    function.cell_idx = None\n",
      "    \n",
      "    def cell(self, cell):\n",
      "        separator = '\\n**********************************************************************\\n'\n",
      "        cell_lines = cell.source.splitlines()\n",
      "        if len(cell_lines) > 0 and '%%function' in cell_lines[0]:\n",
      "            if self.debug:\n",
      "                pdb.set_trace()\n",
      "            if self.function_idx < len(self.cell_processor.cell_nodes):\n",
      "                this_function = self.cell_processor.cell_nodes[self.function_idx]\n",
      "                this_function.cell_idx = cell.idx_\n",
      "                new_source = separator + '#| export\\n' + this_function.code\n",
      "                if this_function.name in self.function_name_to_list_idx:\n",
      "                    list_idx = self.function_name_to_list_idx[this_function.name]\n",
      "                    self.cell_list[list_idx] = new_source\n",
      "                else:\n",
      "                    list_idx = len(self.cell_list)\n",
      "                    self.cell_list.append (new_source)\n",
      "                    self.function_name_to_list_idx[this_function.name] = list_idx\n",
      "                self.function_idx += 1\n",
      "        else:\n",
      "            self.cell_list.append (cell.source)\n",
      "    def end(self): \n",
      "        for cell in self.cell_list:\n",
      "            print (cell)\n",
      "## process_notebook\n",
      "def process_notebook (cell_processor, debug=False):\n",
      "    function_processor = FunctionNBProcessor (cell_processor, debug=debug)\n",
      "    NBProcessor ('./nbdev_sync.ipynb', function_processor).process()\n",
      "## simple case: each function is written in a single cell\n",
      "This is markdown\n",
      "\n",
      "**********************************************************************\n",
      "#| export\n",
      "def first_function():\n",
      "    a = 3 \n",
      "    print ('a', a)\n",
      "    return a\n",
      "\n",
      "# normal code cell\n",
      "print ('outside', a)\n",
      "\n",
      "**********************************************************************\n",
      "#| export\n",
      "def second_function():\n",
      "    b = 4\n",
      "    c = a+b\n",
      "    print (a, b, c)\n",
      "    return b,c\n",
      "\n",
      "cell_processor = %cell_processor\n",
      "[function['name'] for function in cell_processor.cell_nodes]\n",
      "print ('last cell:', a, b, c)\n",
      "process_notebook (cell_processor)\n",
      "## second case: functions are split into different cells\n",
      "\n",
      "**********************************************************************\n",
      "#| export\n",
      "def myf():\n",
      "    print ('hello')\n",
      "    a = 3\n",
      "    b = 4\n",
      "    c = 5\n",
      "    d = a+b+c\n",
      "    return a,b,d,c\n",
      "\n",
      "%print myf\n",
      "myf_info.original_cell\n",
      "%print myf\n",
      "%print myf\n",
      "myf_info.original_cell\n",
      "process_notebook (cell_processor)\n",
      "### (TODO) Use only the last cell associated with this function, e.g., by replacing previous cells.\n",
      "## third case: have defined functions in cells\n",
      "x=4\n",
      "\n",
      "**********************************************************************\n",
      "#| export\n",
      "def my_defined_function (x, a=3):\n",
      "\n",
      "    print (x)\n",
      "    print (a)\n",
      "\n",
      "process_notebook (cell_processor, debug=False)\n",
      "### (TODO) Debug why the code of last function doesn't appear at all\n",
      "## end\n",
      "\n"
     ]
    }
   ],
   "source": [
    "process_notebook (cell_processor, debug=False)"
   ]
  },
  {
   "cell_type": "markdown",
   "id": "332ca9ab-c081-45a3-9ac3-9c63fa99fdce",
   "metadata": {},
   "source": [
    "### (TODO) Debug why the code of last function doesn't appear at all"
   ]
  },
  {
   "cell_type": "markdown",
   "id": "586f0972-bda2-4e99-b227-e16ecd8001c8",
   "metadata": {},
   "source": [
    "## end"
   ]
  },
  {
   "cell_type": "code",
   "execution_count": null,
   "id": "75eb14c0-abbc-497a-ab90-491979921732",
   "metadata": {},
   "outputs": [],
   "source": []
  }
 ],
 "metadata": {
  "kernelspec": {
   "display_name": "tsforecast",
   "language": "python",
   "name": "tsforecast"
  }
 },
 "nbformat": 4,
 "nbformat_minor": 5
}
