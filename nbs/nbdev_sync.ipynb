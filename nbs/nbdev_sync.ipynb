{
 "cells": [
  {
   "cell_type": "code",
   "execution_count": null,
   "id": "d872124d-0059-49a4-88ed-730ad627b85b",
   "metadata": {},
   "outputs": [],
   "source": [
    "#| hide\n",
    "import os\n",
    "import joblib\n",
    "import warnings\n",
    "from execnb.nbio import read_nb, write_nb, new_nb, mk_cell\n",
    "from nbdev.process import NBProcessor, Processor"
   ]
  },
  {
   "cell_type": "markdown",
   "id": "2d540894-e097-420a-a9a9-828c14fda549",
   "metadata": {},
   "source": [
    "# Syncing through nbdev\n",
    "\n",
    "> Showcasing the syncing capability"
   ]
  },
  {
   "cell_type": "code",
   "execution_count": null,
   "id": "f4d22799-0ce0-407a-b43a-dd3e8f2e0ee3",
   "metadata": {},
   "outputs": [],
   "source": [
    "%load_ext nbmodular.core.cell2func"
   ]
  },
  {
   "cell_type": "markdown",
   "id": "761bda8e-70e1-4011-bc6b-979475d29104",
   "metadata": {},
   "source": [
    "## FunctionNBProcessor"
   ]
  },
  {
   "cell_type": "code",
   "execution_count": null,
   "id": "cdd1a562-a9f8-4e41-a733-1306cf24cba0",
   "metadata": {},
   "outputs": [],
   "source": [
    "a = [4, 2, 5]"
   ]
  },
  {
   "cell_type": "code",
   "execution_count": null,
   "id": "a1d49b79-5370-4da0-8c4f-54238e256fc2",
   "metadata": {},
   "outputs": [],
   "source": [
    "a[1] = 5"
   ]
  },
  {
   "cell_type": "code",
   "execution_count": null,
   "id": "d98d6d78-cfbe-4027-a15a-fbb88cdd1a18",
   "metadata": {},
   "outputs": [
    {
     "data": {
      "text/plain": [
       "[4, 5, 5]"
      ]
     },
     "execution_count": null,
     "metadata": {},
     "output_type": "execute_result"
    }
   ],
   "source": [
    "a"
   ]
  },
  {
   "cell_type": "code",
   "execution_count": null,
   "id": "fcf161c4-5a0a-4dcf-a8cd-eba37beb7958",
   "metadata": {},
   "outputs": [],
   "source": [
    "import pdb\n",
    "\n",
    "class FunctionNBProcessor(Processor):\n",
    "    def __init__ (\n",
    "        self, \n",
    "        cell_processor, \n",
    "        path_to_notebook,\n",
    "        debug=False\n",
    "    ):\n",
    "        self.cell_processor = cell_processor\n",
    "        self.function_idx = 0\n",
    "        self.cell_list = []\n",
    "        self.function_name_to_list_idx = {}\n",
    "        self.path_to_src_notebook = path_to_notebook\n",
    "        self.path_to_dst_notebook = path_to_notebook.parent / f'{path_to_notebook.name[:-len(\".ipynb\")]}_nbdev.ipynb'\n",
    "        self.debug=debug\n",
    "    \n",
    "    def cell(self, cell):\n",
    "        separator = '\\n**********************************************************************\\n'\n",
    "        cell_lines = cell.source.splitlines()\n",
    "        if len(cell_lines) > 0 and '%%function' in cell_lines[0]:\n",
    "            if self.debug:\n",
    "                pdb.set_trace()\n",
    "            if self.function_idx < len(self.cell_processor.cell_nodes):\n",
    "                this_function = self.cell_processor.cell_nodes[self.function_idx]\n",
    "                this_function.cell_idx = cell.idx_\n",
    "                new_cell = mk_cell ('#| export\\n' + this_function.code)\n",
    "                if this_function.name in self.function_name_to_list_idx:\n",
    "                    list_idx = self.function_name_to_list_idx[this_function.name]\n",
    "                    self.cell_list[list_idx] = new_cell\n",
    "                else:\n",
    "                    list_idx = len(self.cell_list)\n",
    "                    self.cell_list.append (new_cell)\n",
    "                    self.function_name_to_list_idx[this_function.name] = list_idx\n",
    "                self.function_idx += 1\n",
    "        else:\n",
    "            self.cell_list.append (mk_cell(cell.source, cell_type=cell.cell_type))\n",
    "    def end(self): \n",
    "        original_nb = read_nb (self.path_to_src_notebook)\n",
    "        write_nb (new_nb (self.cell_list, meta=original_nb.metadata), self.path_to_dst_notebook)"
   ]
  },
  {
   "cell_type": "markdown",
   "id": "453776d3-45f3-4fab-a340-653ebfea2958",
   "metadata": {},
   "source": [
    "## process_notebook"
   ]
  },
  {
   "cell_type": "code",
   "execution_count": null,
   "id": "f66315d7-3ed5-4044-8a70-6e9d65ca31df",
   "metadata": {},
   "outputs": [],
   "source": [
    "def process_notebook (\n",
    "    cell_processor, \n",
    "    path_to_notebook='./nbdev_sync.ipynb', \n",
    "    debug=False\n",
    "):\n",
    "    path_to_notebook=Path(path_to_notebook)\n",
    "    function_processor = FunctionNBProcessor (\n",
    "        cell_processor, \n",
    "        path_to_notebook=path_to_notebook,\n",
    "        debug=debug,\n",
    "    )\n",
    "    NBProcessor (path_to_notebook, function_processor).process()"
   ]
  },
  {
   "cell_type": "markdown",
   "id": "94b4a38d-2a25-49b6-a29f-46e52eb6575f",
   "metadata": {},
   "source": [
    "## simple case: each function is written in a single cell"
   ]
  },
  {
   "cell_type": "markdown",
   "id": "8d77cd8f-9d78-46fa-a58e-638e6926569c",
   "metadata": {},
   "source": [
    "This is markdown"
   ]
  },
  {
   "cell_type": "code",
   "execution_count": null,
   "id": "e7e12b4a-e9ab-48fe-ab23-2a6f921fc9d9",
   "metadata": {},
   "outputs": [
    {
     "name": "stdout",
     "output_type": "stream",
     "text": [
      "a 3\n",
      "Stored the following local variables in the first_function current_values dictionary: ['a']\n"
     ]
    }
   ],
   "source": [
    "%%function first_function\n",
    "a = 3 \n",
    "print ('a', a)"
   ]
  },
  {
   "cell_type": "code",
   "execution_count": null,
   "id": "14187705-6335-43af-9b05-f81d65784afc",
   "metadata": {},
   "outputs": [
    {
     "name": "stdout",
     "output_type": "stream",
     "text": [
      "outside 3\n"
     ]
    }
   ],
   "source": [
    "# normal code cell\n",
    "print ('outside', a)"
   ]
  },
  {
   "cell_type": "code",
   "execution_count": null,
   "id": "7a04b700-0ea1-4ad2-b7ab-3fc132aeaa8b",
   "metadata": {},
   "outputs": [
    {
     "name": "stdout",
     "output_type": "stream",
     "text": [
      "3 4 7\n",
      "Stored the following local variables in the second_function current_values dictionary: ['b', 'c']\n"
     ]
    }
   ],
   "source": [
    "%%function second_function\n",
    "b = 4\n",
    "c = a+b\n",
    "print (a, b, c)"
   ]
  },
  {
   "cell_type": "code",
   "execution_count": null,
   "id": "aa7c141d-186e-498b-ae9b-1d48d569539d",
   "metadata": {},
   "outputs": [],
   "source": [
    "cell_processor = %cell_processor"
   ]
  },
  {
   "cell_type": "code",
   "execution_count": null,
   "id": "d05a11eb-ae30-4768-a32e-4ad765cfabd7",
   "metadata": {},
   "outputs": [
    {
     "data": {
      "text/plain": [
       "['first_function', 'second_function']"
      ]
     },
     "execution_count": null,
     "metadata": {},
     "output_type": "execute_result"
    }
   ],
   "source": [
    "[function['name'] for function in cell_processor.cell_nodes]"
   ]
  },
  {
   "cell_type": "code",
   "execution_count": null,
   "id": "7464c040-df26-465b-bb56-e98dcca5cd54",
   "metadata": {},
   "outputs": [
    {
     "name": "stdout",
     "output_type": "stream",
     "text": [
      "last cell: 3 4 7\n"
     ]
    }
   ],
   "source": [
    "print ('last cell:', a, b, c)"
   ]
  },
  {
   "cell_type": "code",
   "execution_count": null,
   "id": "60e0f1a8-6a04-45f4-97ee-5d668b82e51e",
   "metadata": {},
   "outputs": [],
   "source": [
    "process_notebook (cell_processor)"
   ]
  },
  {
   "cell_type": "markdown",
   "id": "0bae2d40-f0d4-47f9-9c1c-5b577e389b12",
   "metadata": {},
   "source": [
    "## second case: functions are split into different cells"
   ]
  },
  {
   "cell_type": "code",
   "execution_count": null,
   "id": "55bdb080-b042-4852-853e-0ca02e973084",
   "metadata": {},
   "outputs": [
    {
     "name": "stdout",
     "output_type": "stream",
     "text": [
      "hello\n",
      "Stored the following local variables in the myf current_values dictionary: ['a']\n"
     ]
    }
   ],
   "source": [
    "%%function myf\n",
    "print ('hello')\n",
    "a = 3"
   ]
  },
  {
   "cell_type": "code",
   "execution_count": null,
   "id": "9d318f81-272e-40ce-b29c-5bc4fff353b7",
   "metadata": {},
   "outputs": [
    {
     "name": "stdout",
     "output_type": "stream",
     "text": [
      "def myf():\n",
      "    print ('hello')\n",
      "    a = 3\n",
      "    return a\n",
      "\n"
     ]
    }
   ],
   "source": [
    "%print myf"
   ]
  },
  {
   "cell_type": "code",
   "execution_count": null,
   "id": "21bdc6ec-c111-4b6f-a120-8940b756d585",
   "metadata": {},
   "outputs": [
    {
     "data": {
      "text/plain": [
       "\"print ('hello')\\na = 3\\n\""
      ]
     },
     "execution_count": null,
     "metadata": {},
     "output_type": "execute_result"
    }
   ],
   "source": [
    "myf_info.original_cell"
   ]
  },
  {
   "cell_type": "code",
   "execution_count": null,
   "id": "cd315947-d874-4833-8eba-93f571a961f4",
   "metadata": {},
   "outputs": [
    {
     "name": "stdout",
     "output_type": "stream",
     "text": [
      "Stored the following local variables in the myf current_values dictionary: ['b']\n",
      "hello\n",
      "Stored the following local variables in the myf current_values dictionary: ['a', 'b']\n"
     ]
    }
   ],
   "source": [
    "%%function myf --merge\n",
    "b = 4"
   ]
  },
  {
   "cell_type": "code",
   "execution_count": null,
   "id": "1393d9dc-b0b4-4872-b5c8-1623f8a5b97c",
   "metadata": {},
   "outputs": [
    {
     "name": "stdout",
     "output_type": "stream",
     "text": [
      "def myf():\n",
      "    print ('hello')\n",
      "    a = 3\n",
      "    b = 4\n",
      "    return b,a\n",
      "\n"
     ]
    }
   ],
   "source": [
    "%print myf"
   ]
  },
  {
   "cell_type": "code",
   "execution_count": null,
   "id": "96388ea5-1d4e-4464-a656-a0fd6b873f6b",
   "metadata": {},
   "outputs": [
    {
     "name": "stdout",
     "output_type": "stream",
     "text": [
      "Stored the following local variables in the myf current_values dictionary: ['c', 'd']\n",
      "hello\n",
      "Stored the following local variables in the myf current_values dictionary: ['a', 'b', 'c', 'd']\n"
     ]
    }
   ],
   "source": [
    "%%function myf --merge\n",
    "c = 5\n",
    "d = a+b+c"
   ]
  },
  {
   "cell_type": "code",
   "execution_count": null,
   "id": "429cdcb8-1ab1-4072-b154-c1d28924007d",
   "metadata": {},
   "outputs": [
    {
     "name": "stdout",
     "output_type": "stream",
     "text": [
      "def myf():\n",
      "    print ('hello')\n",
      "    a = 3\n",
      "    b = 4\n",
      "    c = 5\n",
      "    d = a+b+c\n",
      "    return b,d,a,c\n",
      "\n"
     ]
    }
   ],
   "source": [
    "%print myf"
   ]
  },
  {
   "cell_type": "code",
   "execution_count": null,
   "id": "dfccc0f7-4bfa-4fe9-87d5-769a8dec18c9",
   "metadata": {},
   "outputs": [
    {
     "data": {
      "text/plain": [
       "\"print ('hello')\\na = 3\\nb = 4\\nc = 5\\nd = a+b+c\\n\""
      ]
     },
     "execution_count": null,
     "metadata": {},
     "output_type": "execute_result"
    }
   ],
   "source": [
    "myf_info.original_cell"
   ]
  },
  {
   "cell_type": "code",
   "execution_count": null,
   "id": "177497a8-268e-42f8-b259-7fadc930c8b2",
   "metadata": {},
   "outputs": [],
   "source": [
    "process_notebook (cell_processor)"
   ]
  },
  {
   "cell_type": "markdown",
   "id": "a57b06fe-c864-4290-ad22-b70e38f068ff",
   "metadata": {},
   "source": [
    "### (TODO) Use only the last cell associated with this function, e.g., by replacing previous cells."
   ]
  },
  {
   "cell_type": "markdown",
   "id": "46f6a819-cd06-492a-813c-0ed55550ccfb",
   "metadata": {},
   "source": [
    "## third case: have defined functions in cells"
   ]
  },
  {
   "cell_type": "code",
   "execution_count": null,
   "id": "44d2d1ef-c7d0-4679-aa20-3ab179496857",
   "metadata": {},
   "outputs": [],
   "source": [
    "x=4"
   ]
  },
  {
   "cell_type": "code",
   "execution_count": null,
   "id": "85babacb-948c-4ef1-9de0-82006967122b",
   "metadata": {},
   "outputs": [
    {
     "name": "stdout",
     "output_type": "stream",
     "text": [
      "4\n",
      "3\n",
      "Stored the following local variables in the my_defined_function current_values dictionary: []\n"
     ]
    }
   ],
   "source": [
    "%%function \n",
    "def my_defined_function (x, a=3):\n",
    "    print (x)\n",
    "    print (a)"
   ]
  },
  {
   "cell_type": "code",
   "execution_count": null,
   "id": "1556572c-b565-4fa8-b662-40d73bba85c6",
   "metadata": {},
   "outputs": [],
   "source": [
    "process_notebook (cell_processor)"
   ]
  },
  {
   "cell_type": "markdown",
   "id": "902da9b7-db3d-4f54-96fb-549f7ddf2901",
   "metadata": {},
   "source": [
    "### (TODO) Debug why the code of last function doesn't appear at all"
   ]
  },
  {
   "cell_type": "markdown",
   "id": "31142e2f-572c-4abf-9c26-e90d8315b445",
   "metadata": {},
   "source": [
    "## end"
   ]
  }
 ],
 "metadata": {
  "kernelspec": {
   "display_name": "tsforecast",
   "language": "python",
   "name": "tsforecast"
  }
 },
 "nbformat": 4,
 "nbformat_minor": 5
}
