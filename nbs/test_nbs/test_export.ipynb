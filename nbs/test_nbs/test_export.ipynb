{
 "cells": [
  {
   "cell_type": "code",
   "execution_count": 1,
   "metadata": {},
   "outputs": [],
   "source": [
    "#|hide\n",
    "import joblib\n",
    "from nbmodular.core.utils import cd_root"
   ]
  },
  {
   "cell_type": "code",
   "execution_count": 2,
   "metadata": {},
   "outputs": [],
   "source": [
    "cd_root()"
   ]
  },
  {
   "cell_type": "code",
   "execution_count": 2,
   "metadata": {},
   "outputs": [
    {
     "name": "stderr",
     "output_type": "stream",
     "text": [
      "/home/jaumeamllo/workspace/mine/nbmodular/nbmodular/core/cell2func.py:855: UserWarning: Name of notebook could not be automatically detected. We will be using `temporary.py` as the name of the python module where the code from the current notebook will be exported to. In order to change this name, run the magic command %set file_name \"<name_of_python_module>.py\".\n",
      "  warnings.warn (warning_message)\n"
     ]
    }
   ],
   "source": [
    "%load_ext nbmodular.core.cell2func"
   ]
  },
  {
   "cell_type": "code",
   "execution_count": 3,
   "metadata": {},
   "outputs": [],
   "source": [
    "def print_code_cells_in_file (file_folder='.nbmodular', file_name='temporary', test=False):\n",
    "    file_name = f'test_{file_name}' if test else file_name\n",
    "    file_path = f'{file_folder}/{file_name}.pk'\n",
    "    code_cells = joblib.load (file_path)\n",
    "    for function_name in code_cells:\n",
    "        print ('\\nfunction', function_name)\n",
    "        print ('code cells:')\n",
    "        for code_cell in code_cells[function_name]:\n",
    "            print (code_cell.code, 'valid: ', code_cell.valid)\n",
    "    "
   ]
  },
  {
   "cell_type": "code",
   "execution_count": 4,
   "metadata": {},
   "outputs": [],
   "source": [
    "x=1"
   ]
  },
  {
   "cell_type": "code",
   "execution_count": 5,
   "metadata": {},
   "outputs": [
    {
     "name": "stdout",
     "output_type": "stream",
     "text": [
      "2\n"
     ]
    }
   ],
   "source": [
    "%%function\n",
    "def add1 (x):\n",
    "    y = x + 1\n",
    "    print (y)\n",
    "    return y"
   ]
  },
  {
   "cell_type": "markdown",
   "metadata": {},
   "source": [
    "The previous function printed hello"
   ]
  },
  {
   "cell_type": "code",
   "execution_count": 6,
   "metadata": {},
   "outputs": [
    {
     "name": "stdout",
     "output_type": "stream",
     "text": [
      "separate statement\n"
     ]
    }
   ],
   "source": [
    "%%include\n",
    "print ('separate statement')"
   ]
  },
  {
   "cell_type": "code",
   "execution_count": 7,
   "metadata": {},
   "outputs": [
    {
     "name": "stdout",
     "output_type": "stream",
     "text": [
      "4\n"
     ]
    }
   ],
   "source": [
    "%%function\n",
    "def add2 (y):\n",
    "    z = y + 2\n",
    "    print (z)\n",
    "    return z"
   ]
  },
  {
   "cell_type": "markdown",
   "metadata": {},
   "source": [
    "The previous function says \"wold\""
   ]
  },
  {
   "cell_type": "code",
   "execution_count": 8,
   "metadata": {},
   "outputs": [
    {
     "name": "stdout",
     "output_type": "stream",
     "text": [
      "def add1(x):\n",
      "    y = x + 1\n",
      "    print (y)\n",
      "    return y\n",
      "\n",
      "def add2(y):\n",
      "    z = y + 2\n",
      "    print (z)\n",
      "    return z\n",
      "\n",
      "# -----------------------------------------------------\n",
      "# pipeline\n",
      "# -----------------------------------------------------\n",
      "def temporary_pipeline (test=False, load=True, save=True, result_file_name=\"temporary_pipeline\"):\n",
      "    \"\"\"Pipeline calling each one of the functions defined in this module.\"\"\"\n",
      "    \n",
      "    # load result\n",
      "    result_file_name += '.pk'\n",
      "    path_variables = Path (\"temporary\") / result_file_name\n",
      "    if load and path_variables.exists():\n",
      "        result = joblib.load (path_variables)\n",
      "        return result\n",
      "\n",
      "    y = add1 (x)\n",
      "    z = add2 (y)\n",
      "\n",
      "    # save result\n",
      "    result = Bunch (z=z,y=y)\n",
      "    if save:    \n",
      "        path_variables.parent.mkdir (parents=True, exist_ok=True)\n",
      "        joblib.dump (result, path_variables)\n",
      "    return result\n",
      "\n"
     ]
    }
   ],
   "source": [
    "cat temporary.py"
   ]
  },
  {
   "cell_type": "code",
   "execution_count": 9,
   "metadata": {},
   "outputs": [
    {
     "name": "stdout",
     "output_type": "stream",
     "text": [
      "\n",
      "function add1\n",
      "code cells:\n",
      "def add1(x):\n",
      "    y = x + 1\n",
      "    print (y)\n",
      "    return y\n",
      " valid:  True\n",
      "\n",
      "function add2\n",
      "code cells:\n",
      "def add2(y):\n",
      "    z = y + 2\n",
      "    print (z)\n",
      "    return z\n",
      " valid:  True\n"
     ]
    }
   ],
   "source": [
    "print_code_cells_in_file ()"
   ]
  },
  {
   "cell_type": "code",
   "execution_count": 10,
   "metadata": {},
   "outputs": [
    {
     "name": "stdout",
     "output_type": "stream",
     "text": [
      "when adding 1, the result is 2\n"
     ]
    }
   ],
   "source": [
    "%%function \n",
    "def add1 (x, summand=1):\n",
    "    y = x + summand\n",
    "    print (f'when adding {summand}, the result is {y}')\n",
    "    return y, summand"
   ]
  },
  {
   "cell_type": "code",
   "execution_count": 11,
   "metadata": {},
   "outputs": [
    {
     "name": "stdout",
     "output_type": "stream",
     "text": [
      "\n",
      "function add1\n",
      "code cells:\n",
      "def add1(x):\n",
      "    y = x + 1\n",
      "    print (y)\n",
      "    return y\n",
      " valid:  False\n",
      "def add1(x, summand=1):\n",
      "    y = x + summand\n",
      "    print (f'when adding {summand}, the result is {y}')\n",
      "    return y, summand\n",
      " valid:  True\n",
      "\n",
      "function add2\n",
      "code cells:\n",
      "def add2(y):\n",
      "    z = y + 2\n",
      "    print (z)\n",
      "    return z\n",
      " valid:  True\n"
     ]
    }
   ],
   "source": [
    "print_code_cells_in_file ()"
   ]
  },
  {
   "cell_type": "code",
   "execution_count": 12,
   "metadata": {},
   "outputs": [
    {
     "name": "stdout",
     "output_type": "stream",
     "text": [
      "4 + 3 = 7\n"
     ]
    }
   ],
   "source": [
    "%%function \n",
    "def add3 (z):\n",
    "    w = z + 3\n",
    "    print (f'{z} + 3 = {w}')\n",
    "    return z"
   ]
  },
  {
   "cell_type": "code",
   "execution_count": 13,
   "metadata": {},
   "outputs": [
    {
     "name": "stdout",
     "output_type": "stream",
     "text": [
      "\n",
      "function add1\n",
      "code cells:\n",
      "def add1(x):\n",
      "    y = x + 1\n",
      "    print (y)\n",
      "    return y\n",
      " valid:  False\n",
      "def add1(x, summand=1):\n",
      "    y = x + summand\n",
      "    print (f'when adding {summand}, the result is {y}')\n",
      "    return y, summand\n",
      " valid:  True\n",
      "\n",
      "function add2\n",
      "code cells:\n",
      "def add2(y):\n",
      "    z = y + 2\n",
      "    print (z)\n",
      "    return z\n",
      " valid:  True\n",
      "\n",
      "function add3\n",
      "code cells:\n",
      "def add3(z):\n",
      "    w = z + 3\n",
      "    print (f'{z} + 3 = {w}')\n",
      "    return z\n",
      " valid:  True\n"
     ]
    }
   ],
   "source": [
    "print_code_cells_in_file ()"
   ]
  },
  {
   "cell_type": "code",
   "execution_count": 14,
   "metadata": {},
   "outputs": [
    {
     "name": "stdout",
     "output_type": "stream",
     "text": [
      "when adding 1, the result is 3\n"
     ]
    }
   ],
   "source": [
    "%%function --merge\n",
    "def add2 (y, summand=2):\n",
    "    z2 = y + summand\n",
    "    print (f'when adding {summand}, the result is {z2}')\n",
    "    return z, z2"
   ]
  },
  {
   "cell_type": "code",
   "execution_count": 15,
   "metadata": {},
   "outputs": [
    {
     "name": "stdout",
     "output_type": "stream",
     "text": [
      "\n",
      "function add1\n",
      "code cells:\n",
      "def add1(x):\n",
      "    y = x + 1\n",
      "    print (y)\n",
      "    return y\n",
      " valid:  False\n",
      "def add1(x, summand=1):\n",
      "    y = x + summand\n",
      "    print (f'when adding {summand}, the result is {y}')\n",
      "    return y, summand\n",
      " valid:  True\n",
      "\n",
      "function add2\n",
      "code cells:\n",
      "def add2(y):\n",
      "    z = y + 2\n",
      "    print (z)\n",
      " valid:  True\n",
      "    z2 = y + summand\n",
      "    print (f'when adding {summand}, the result is {z2}')\n",
      "    return y\n",
      " valid:  True\n",
      "\n",
      "function add3\n",
      "code cells:\n",
      "def add3(z):\n",
      "    w = z + 3\n",
      "    print (f'{z} + 3 = {w}')\n",
      "    return z\n",
      " valid:  True\n"
     ]
    }
   ],
   "source": [
    "print_code_cells_in_file ()"
   ]
  },
  {
   "cell_type": "code",
   "execution_count": 16,
   "metadata": {},
   "outputs": [],
   "source": [
    "new_summand=3"
   ]
  },
  {
   "cell_type": "code",
   "execution_count": 17,
   "metadata": {},
   "outputs": [
    {
     "name": "stdout",
     "output_type": "stream",
     "text": [
      "when adding 3, the result is 5\n"
     ]
    }
   ],
   "source": [
    "%%function\n",
    "def add2 (y, new_summand):\n",
    "    z3 = y + new_summand\n",
    "    print (f'when adding {new_summand}, the result is {z3}')\n",
    "    return z3"
   ]
  },
  {
   "cell_type": "code",
   "execution_count": 18,
   "metadata": {},
   "outputs": [
    {
     "name": "stdout",
     "output_type": "stream",
     "text": [
      "\n",
      "function add1\n",
      "code cells:\n",
      "def add1(x):\n",
      "    y = x + 1\n",
      "    print (y)\n",
      "    return y\n",
      " valid:  False\n",
      "def add1(x, summand=1):\n",
      "    y = x + summand\n",
      "    print (f'when adding {summand}, the result is {y}')\n",
      "    return y, summand\n",
      " valid:  True\n",
      "\n",
      "function add2\n",
      "code cells:\n",
      "def add2(y):\n",
      "    z = y + 2\n",
      "    print (z)\n",
      " valid:  False\n",
      "    z2 = y + summand\n",
      "    print (f'when adding {summand}, the result is {z2}')\n",
      "    return y\n",
      " valid:  False\n",
      "def add2(y, new_summand):\n",
      "    z3 = y + new_summand\n",
      "    print (f'when adding {new_summand}, the result is {z3}')\n",
      "    return z3\n",
      " valid:  True\n",
      "\n",
      "function add3\n",
      "code cells:\n",
      "def add3(z):\n",
      "    w = z + 3\n",
      "    print (f'{z} + 3 = {w}')\n",
      "    return z\n",
      " valid:  True\n"
     ]
    }
   ],
   "source": [
    "print_code_cells_in_file ()"
   ]
  },
  {
   "cell_type": "code",
   "execution_count": 19,
   "metadata": {},
   "outputs": [
    {
     "name": "stderr",
     "output_type": "stream",
     "text": [
      "Detected the following previous variables that are not in the argument list: ['one_y', 'one_x']\n"
     ]
    }
   ],
   "source": [
    "%%function --test\n",
    "def one ():\n",
    "    one_x=1\n",
    "    one_y=2\n",
    "    print (one_x+one_y)"
   ]
  },
  {
   "cell_type": "code",
   "execution_count": 20,
   "metadata": {},
   "outputs": [
    {
     "name": "stdout",
     "output_type": "stream",
     "text": [
      "\n",
      "function add1\n",
      "code cells:\n",
      "def add1(x):\n",
      "    y = x + 1\n",
      "    print (y)\n",
      "    return y\n",
      " valid:  False\n",
      "def add1(x, summand=1):\n",
      "    y = x + summand\n",
      "    print (f'when adding {summand}, the result is {y}')\n",
      "    return y, summand\n",
      " valid:  True\n",
      "\n",
      "function add2\n",
      "code cells:\n",
      "def add2(y):\n",
      "    z = y + 2\n",
      "    print (z)\n",
      " valid:  False\n",
      "    z2 = y + summand\n",
      "    print (f'when adding {summand}, the result is {z2}')\n",
      "    return y\n",
      " valid:  False\n",
      "def add2(y, new_summand):\n",
      "    z3 = y + new_summand\n",
      "    print (f'when adding {new_summand}, the result is {z3}')\n",
      "    return z3\n",
      " valid:  True\n",
      "\n",
      "function add3\n",
      "code cells:\n",
      "def add3(z):\n",
      "    w = z + 3\n",
      "    print (f'{z} + 3 = {w}')\n",
      "    return z\n",
      " valid:  True\n"
     ]
    }
   ],
   "source": [
    "print_code_cells_in_file ()"
   ]
  },
  {
   "cell_type": "code",
   "execution_count": 21,
   "metadata": {},
   "outputs": [
    {
     "name": "stdout",
     "output_type": "stream",
     "text": [
      "\n",
      "function one\n",
      "code cells:\n",
      "def one():\n",
      "    one_x=1\n",
      "    one_y=2\n",
      "    print (one_x+one_y)\n",
      " valid:  True\n"
     ]
    }
   ],
   "source": [
    "print_code_cells_in_file (test=True)"
   ]
  },
  {
   "cell_type": "code",
   "execution_count": 22,
   "metadata": {},
   "outputs": [
    {
     "name": "stderr",
     "output_type": "stream",
     "text": [
      "Detected the following previous variables that are not in the argument list: ['two_x']\n"
     ]
    }
   ],
   "source": [
    "%%function --test\n",
    "def two ():\n",
    "    two_x=1\n",
    "    print (two_x+2)"
   ]
  },
  {
   "cell_type": "code",
   "execution_count": 23,
   "metadata": {},
   "outputs": [
    {
     "name": "stdout",
     "output_type": "stream",
     "text": [
      "\n",
      "function add1\n",
      "code cells:\n",
      "def add1(x):\n",
      "    y = x + 1\n",
      "    print (y)\n",
      "    return y\n",
      " valid:  False\n",
      "def add1(x, summand=1):\n",
      "    y = x + summand\n",
      "    print (f'when adding {summand}, the result is {y}')\n",
      "    return y, summand\n",
      " valid:  True\n",
      "\n",
      "function add2\n",
      "code cells:\n",
      "def add2(y):\n",
      "    z = y + 2\n",
      "    print (z)\n",
      " valid:  False\n",
      "    z2 = y + summand\n",
      "    print (f'when adding {summand}, the result is {z2}')\n",
      "    return y\n",
      " valid:  False\n",
      "def add2(y, new_summand):\n",
      "    z3 = y + new_summand\n",
      "    print (f'when adding {new_summand}, the result is {z3}')\n",
      "    return z3\n",
      " valid:  True\n",
      "\n",
      "function add3\n",
      "code cells:\n",
      "def add3(z):\n",
      "    w = z + 3\n",
      "    print (f'{z} + 3 = {w}')\n",
      "    return z\n",
      " valid:  True\n"
     ]
    }
   ],
   "source": [
    "print_code_cells_in_file ()"
   ]
  },
  {
   "cell_type": "code",
   "execution_count": 24,
   "metadata": {},
   "outputs": [
    {
     "name": "stdout",
     "output_type": "stream",
     "text": [
      "\n",
      "function one\n",
      "code cells:\n",
      "def one():\n",
      "    one_x=1\n",
      "    one_y=2\n",
      "    print (one_x+one_y)\n",
      " valid:  True\n",
      "\n",
      "function two\n",
      "code cells:\n",
      "def two():\n",
      "    two_x=1\n",
      "    print (two_x+2)\n",
      " valid:  True\n"
     ]
    }
   ],
   "source": [
    "print_code_cells_in_file (test=True)"
   ]
  },
  {
   "cell_type": "code",
   "execution_count": 25,
   "metadata": {},
   "outputs": [
    {
     "name": "stderr",
     "output_type": "stream",
     "text": [
      "Detected the following previous variables that are not in the argument list: ['one_x']\n"
     ]
    }
   ],
   "source": [
    "%%function --test\n",
    "def one ():\n",
    "    one_x=1\n",
    "    print (one_x+1)"
   ]
  },
  {
   "cell_type": "code",
   "execution_count": 26,
   "metadata": {},
   "outputs": [
    {
     "name": "stdout",
     "output_type": "stream",
     "text": [
      "\n",
      "function add1\n",
      "code cells:\n",
      "def add1(x):\n",
      "    y = x + 1\n",
      "    print (y)\n",
      "    return y\n",
      " valid:  False\n",
      "def add1(x, summand=1):\n",
      "    y = x + summand\n",
      "    print (f'when adding {summand}, the result is {y}')\n",
      "    return y, summand\n",
      " valid:  True\n",
      "\n",
      "function add2\n",
      "code cells:\n",
      "def add2(y):\n",
      "    z = y + 2\n",
      "    print (z)\n",
      " valid:  False\n",
      "    z2 = y + summand\n",
      "    print (f'when adding {summand}, the result is {z2}')\n",
      "    return y\n",
      " valid:  False\n",
      "def add2(y, new_summand):\n",
      "    z3 = y + new_summand\n",
      "    print (f'when adding {new_summand}, the result is {z3}')\n",
      "    return z3\n",
      " valid:  True\n",
      "\n",
      "function add3\n",
      "code cells:\n",
      "def add3(z):\n",
      "    w = z + 3\n",
      "    print (f'{z} + 3 = {w}')\n",
      "    return z\n",
      " valid:  True\n"
     ]
    }
   ],
   "source": [
    "print_code_cells_in_file ()"
   ]
  },
  {
   "cell_type": "code",
   "execution_count": 27,
   "metadata": {},
   "outputs": [
    {
     "name": "stdout",
     "output_type": "stream",
     "text": [
      "\n",
      "function one\n",
      "code cells:\n",
      "def one():\n",
      "    one_x=1\n",
      "    one_y=2\n",
      "    print (one_x+one_y)\n",
      " valid:  False\n",
      "def one():\n",
      "    one_x=1\n",
      "    print (one_x+1)\n",
      " valid:  True\n",
      "\n",
      "function two\n",
      "code cells:\n",
      "def two():\n",
      "    two_x=1\n",
      "    print (two_x+2)\n",
      " valid:  True\n"
     ]
    }
   ],
   "source": [
    "print_code_cells_in_file (test=True)"
   ]
  },
  {
   "cell_type": "code",
   "execution_count": 28,
   "metadata": {},
   "outputs": [
    {
     "name": "stderr",
     "output_type": "stream",
     "text": [
      "Detected the following previous variables that are not in the argument list: ['one_x_bis']\n"
     ]
    }
   ],
   "source": [
    "%%function --test --merge\n",
    "def one ():\n",
    "    one_x_bis=11\n",
    "    print (one_x_bis+1)"
   ]
  },
  {
   "cell_type": "code",
   "execution_count": 29,
   "metadata": {},
   "outputs": [
    {
     "name": "stdout",
     "output_type": "stream",
     "text": [
      "\n",
      "function one\n",
      "code cells:\n",
      "def one():\n",
      "    one_x=1\n",
      "    one_y=2\n",
      "    print (one_x+one_y)\n",
      " valid:  False\n",
      "def one():\n",
      "    one_x=1\n",
      "    print (one_x+1)\n",
      " valid:  True\n",
      "    one_x_bis=11\n",
      "    print (one_x_bis+1)\n",
      " valid:  True\n",
      "\n",
      "function two\n",
      "code cells:\n",
      "def two():\n",
      "    two_x=1\n",
      "    print (two_x+2)\n",
      " valid:  True\n"
     ]
    }
   ],
   "source": [
    "print_code_cells_in_file (test=True)"
   ]
  },
  {
   "cell_type": "code",
   "execution_count": 30,
   "metadata": {},
   "outputs": [
    {
     "name": "stderr",
     "output_type": "stream",
     "text": [
      "Detected the following previous variables that are not in the argument list: ['one_x_final']\n"
     ]
    }
   ],
   "source": [
    "%%function --test \n",
    "def one ():\n",
    "    one_x_final=11\n",
    "    print (one_x_final+1)"
   ]
  },
  {
   "cell_type": "code",
   "execution_count": 31,
   "metadata": {},
   "outputs": [
    {
     "name": "stdout",
     "output_type": "stream",
     "text": [
      "\n",
      "function one\n",
      "code cells:\n",
      "def one():\n",
      "    one_x=1\n",
      "    one_y=2\n",
      "    print (one_x+one_y)\n",
      " valid:  False\n",
      "def one():\n",
      "    one_x=1\n",
      "    print (one_x+1)\n",
      " valid:  False\n",
      "    one_x_bis=11\n",
      "    print (one_x_bis+1)\n",
      " valid:  False\n",
      "def one():\n",
      "    one_x_final=11\n",
      "    print (one_x_final+1)\n",
      " valid:  True\n",
      "\n",
      "function two\n",
      "code cells:\n",
      "def two():\n",
      "    two_x=1\n",
      "    print (two_x+2)\n",
      " valid:  True\n"
     ]
    }
   ],
   "source": [
    "print_code_cells_in_file (test=True)"
   ]
  },
  {
   "cell_type": "code",
   "execution_count": 32,
   "metadata": {},
   "outputs": [],
   "source": [
    "%%function --data\n",
    "def my_source ():\n",
    "    source_var=29\n",
    "    return source_var"
   ]
  },
  {
   "cell_type": "code",
   "execution_count": 33,
   "metadata": {},
   "outputs": [
    {
     "name": "stdout",
     "output_type": "stream",
     "text": [
      "\n",
      "function one\n",
      "code cells:\n",
      "def one():\n",
      "    one_x=1\n",
      "    one_y=2\n",
      "    print (one_x+one_y)\n",
      " valid:  False\n",
      "def one():\n",
      "    one_x=1\n",
      "    print (one_x+1)\n",
      " valid:  False\n",
      "    one_x_bis=11\n",
      "    print (one_x_bis+1)\n",
      " valid:  False\n",
      "def one():\n",
      "    one_x_final=11\n",
      "    print (one_x_final+1)\n",
      " valid:  True\n",
      "\n",
      "function two\n",
      "code cells:\n",
      "def two():\n",
      "    two_x=1\n",
      "    print (two_x+2)\n",
      " valid:  True\n"
     ]
    }
   ],
   "source": [
    "print_code_cells_in_file (test=True)"
   ]
  },
  {
   "cell_type": "code",
   "execution_count": 34,
   "metadata": {},
   "outputs": [
    {
     "name": "stdout",
     "output_type": "stream",
     "text": [
      "\n",
      "function add1\n",
      "code cells:\n",
      "def add1(x):\n",
      "    y = x + 1\n",
      "    print (y)\n",
      "    return y\n",
      " valid:  False\n",
      "def add1(x, summand=1):\n",
      "    y = x + summand\n",
      "    print (f'when adding {summand}, the result is {y}')\n",
      "    return y, summand\n",
      " valid:  True\n",
      "\n",
      "function add2\n",
      "code cells:\n",
      "def add2(y):\n",
      "    z = y + 2\n",
      "    print (z)\n",
      " valid:  False\n",
      "    z2 = y + summand\n",
      "    print (f'when adding {summand}, the result is {z2}')\n",
      "    return y\n",
      " valid:  False\n",
      "def add2(y, new_summand):\n",
      "    z3 = y + new_summand\n",
      "    print (f'when adding {new_summand}, the result is {z3}')\n",
      "    return z3\n",
      " valid:  True\n",
      "\n",
      "function add3\n",
      "code cells:\n",
      "def add3(z):\n",
      "    w = z + 3\n",
      "    print (f'{z} + 3 = {w}')\n",
      "    return z\n",
      " valid:  True\n",
      "\n",
      "function my_source\n",
      "code cells:\n",
      "def my_source(test=False):\n",
      "    source_var=29\n",
      "    return source_var\n",
      " valid:  True\n"
     ]
    }
   ],
   "source": [
    "print_code_cells_in_file ()"
   ]
  },
  {
   "cell_type": "code",
   "execution_count": 35,
   "metadata": {},
   "outputs": [
    {
     "data": {
      "text/plain": [
       "'/home/jaumeamllo/workspace/mine/nbmodular/nbs/test_nbs'"
      ]
     },
     "execution_count": 35,
     "metadata": {},
     "output_type": "execute_result"
    }
   ],
   "source": [
    "pwd"
   ]
  },
  {
   "cell_type": "code",
   "execution_count": 36,
   "metadata": {},
   "outputs": [
    {
     "name": "stdout",
     "output_type": "stream",
     "text": [
      "temporary.pk  test_temporary.pk\n"
     ]
    }
   ],
   "source": [
    "ls .nbmodular"
   ]
  },
  {
   "cell_type": "code",
   "execution_count": null,
   "metadata": {},
   "outputs": [],
   "source": []
  }
 ],
 "metadata": {
  "kernelspec": {
   "display_name": "tsforecast",
   "language": "python",
   "name": "python3"
  },
  "language_info": {
   "codemirror_mode": {
    "name": "ipython",
    "version": 3
   },
   "file_extension": ".py",
   "mimetype": "text/x-python",
   "name": "python",
   "nbconvert_exporter": "python",
   "pygments_lexer": "ipython3",
   "version": "3.10.9"
  }
 },
 "nbformat": 4,
 "nbformat_minor": 2
}
