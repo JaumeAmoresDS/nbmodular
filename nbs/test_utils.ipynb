{
 "cells": [
  {
   "cell_type": "markdown",
   "metadata": {},
   "source": [
    "# Test Utils\n",
    "\n",
    "> Utilities for writting tests."
   ]
  },
  {
   "cell_type": "code",
   "execution_count": 1,
   "metadata": {},
   "outputs": [],
   "source": [
    "# | default_exp testing.utils"
   ]
  },
  {
   "cell_type": "code",
   "execution_count": 2,
   "metadata": {},
   "outputs": [],
   "source": [
    "# |export\n",
    "# standard\n",
    "import logging\n",
    "import os\n",
    "import shutil\n",
    "from pathlib import Path\n",
    "from typing import List, Tuple, Optional\n",
    "import re\n",
    "import operator\n",
    "\n",
    "# 3rd party\n",
    "from execnb.nbio import new_nb, write_nb, mk_cell, read_nb\n",
    "from plum import Val\n",
    "\n",
    "# ours\n",
    "from nbmodular.core.utils import cd_root"
   ]
  },
  {
   "cell_type": "markdown",
   "metadata": {},
   "source": [
    "## Notebook examples\n",
    "\n",
    "> Example notebooks used for testing"
   ]
  },
  {
   "cell_type": "markdown",
   "metadata": {},
   "source": [
    "### Simple example 1"
   ]
  },
  {
   "cell_type": "code",
   "execution_count": 3,
   "metadata": {},
   "outputs": [],
   "source": [
    "# | export\n",
    "nb1 = \"\"\"\n",
    "[markdown]\n",
    "# First notebook\n",
    "\n",
    "[code]\n",
    "%%function hello\n",
    "print ('hello')\n",
    "\n",
    "[code]\n",
    "%%function one_plus_one --test\n",
    "a=1+1\n",
    "print (a)\n",
    "\"\"\""
   ]
  },
  {
   "cell_type": "markdown",
   "metadata": {},
   "source": [
    "### Simple example 2"
   ]
  },
  {
   "cell_type": "code",
   "execution_count": 4,
   "metadata": {},
   "outputs": [],
   "source": [
    "nb2 = \"\"\"\n",
    "[markdown]\n",
    "# Second notebook\n",
    "\n",
    "[code]\n",
    "%%function bye\n",
    "print ('bye')\n",
    "\n",
    "[markdown]\n",
    "%%function two_plus_two --test\n",
    "a=2+2\n",
    "print (a)\n",
    "\"\"\""
   ]
  },
  {
   "cell_type": "markdown",
   "id": "e2a521ae",
   "metadata": {},
   "source": [
    "### Mixed Cells Example"
   ]
  },
  {
   "cell_type": "code",
   "execution_count": null,
   "id": "a9fda5fc",
   "metadata": {},
   "outputs": [],
   "source": [
    "# | export\n",
    "mixed_nb1 = \"\"\"\n",
    "[code]\n",
    "%%function\n",
    "def first():\n",
    "    pass\n",
    "\n",
    "[markdown]\n",
    "comment\n",
    "    \n",
    "[code]\n",
    "%%function --test\n",
    "def second ():\n",
    "    pass\n",
    "\"\"\""
   ]
  },
  {
   "cell_type": "markdown",
   "id": "b527a61c",
   "metadata": {},
   "source": [
    "## Python module examples\n",
    "\n",
    "> Example python modules used here"
   ]
  },
  {
   "cell_type": "markdown",
   "id": "bb73e109",
   "metadata": {},
   "source": [
    "### Example 1"
   ]
  },
  {
   "cell_type": "code",
   "execution_count": null,
   "id": "b3812a75",
   "metadata": {},
   "outputs": [],
   "source": [
    "# | export\n",
    "py1 = \"\"\"\n",
    "def hello ():\n",
    "    print ('hello')\n",
    "\n",
    "def one_plus_one ():\n",
    "    a=1+1\n",
    "    print (a)\n",
    "\"\"\""
   ]
  },
  {
   "cell_type": "markdown",
   "id": "82df3612",
   "metadata": {},
   "source": [
    "### Simple example 2"
   ]
  },
  {
   "cell_type": "code",
   "execution_count": null,
   "id": "997365dc",
   "metadata": {},
   "outputs": [],
   "source": [
    "py2 = \"\"\"\n",
    "def bye ():\n",
    "    print ('bye')\n",
    "\n",
    "def two_plus_two ():\n",
    "    a=2+2\n",
    "    print (a)\n",
    "\"\"\""
   ]
  },
  {
   "cell_type": "markdown",
   "metadata": {},
   "source": [
    "## Notebook structure\n",
    "\n",
    "> Utilities for building a dictionary with notebook structure. Useful for testing purposes."
   ]
  },
  {
   "cell_type": "markdown",
   "metadata": {
    "lines_to_next_cell": 2
   },
   "source": [
    "### convert_nested_nb_cells_to_dicts"
   ]
  },
  {
   "cell_type": "code",
   "execution_count": 5,
   "metadata": {
    "lines_to_next_cell": 2
   },
   "outputs": [],
   "source": [
    "# | export\n",
    "def convert_nested_nb_cells_to_dicts(dict_like_with_nbcells: dict) -> dict:\n",
    "    \"\"\"Convert nested NbCells to dicts.\n",
    "\n",
    "    Parameters\n",
    "    ----------\n",
    "    dict_like_with_nbcells : dict\n",
    "        dict-like object with embedded NbCell cells\n",
    "\n",
    "    Returns\n",
    "    -------\n",
    "    dict\n",
    "        dict object without embedded NbCell cells\n",
    "    \"\"\"\n",
    "    new_dict = {k: v for k, v in dict_like_with_nbcells.items()}\n",
    "    new_dict[\"cells\"] = [dict(**cell) for cell in new_dict[\"cells\"]]\n",
    "    return new_dict"
   ]
  },
  {
   "cell_type": "markdown",
   "metadata": {
    "lines_to_next_cell": 2
   },
   "source": [
    "### parse_nb_sections"
   ]
  },
  {
   "cell_type": "code",
   "execution_count": 6,
   "metadata": {},
   "outputs": [],
   "source": [
    "# | export\n",
    "def parse_nb_sections(nb):\n",
    "    # Define the regex pattern to match sections\n",
    "    pattern = \"\\[(markdown|code)\\](.*?)((?=\\[markdown\\])|(?=\\[code\\])|$)\"\n",
    "\n",
    "    # Find all matches using re.findall which returns a list of tuples\n",
    "    matches = re.findall(pattern, nb, re.DOTALL)\n",
    "\n",
    "    # Transform the matches to the required format\n",
    "    result = [(match[0], match[1].strip()) for match in matches]\n",
    "\n",
    "    return result"
   ]
  },
  {
   "cell_type": "markdown",
   "metadata": {},
   "source": [
    "#### Example usage"
   ]
  },
  {
   "cell_type": "code",
   "execution_count": 7,
   "metadata": {
    "lines_to_next_cell": 2
   },
   "outputs": [],
   "source": [
    "nb_text = parse_nb_sections(nb1)\n",
    "assert nb_text == [\n",
    "    (\"markdown\", \"# First notebook\"),\n",
    "    (\"code\", \"%%function hello\\nprint ('hello')\"),\n",
    "    (\"code\", \"%%function one_plus_one --test\\na=1+1\\nprint (a)\"),\n",
    "]"
   ]
  },
  {
   "cell_type": "markdown",
   "metadata": {
    "lines_to_next_cell": 2
   },
   "source": [
    "### text2nb"
   ]
  },
  {
   "cell_type": "code",
   "execution_count": 8,
   "metadata": {},
   "outputs": [],
   "source": [
    "# | export\n",
    "def text2nb(nb: str):\n",
    "    cells = [\n",
    "        mk_cell(text, cell_type=cell_type) for cell_type, text in parse_nb_sections(nb)\n",
    "    ]\n",
    "    return new_nb(cells)"
   ]
  },
  {
   "cell_type": "markdown",
   "metadata": {},
   "source": [
    "#### Example usage"
   ]
  },
  {
   "cell_type": "code",
   "execution_count": 9,
   "metadata": {},
   "outputs": [],
   "source": [
    "nb_text = text2nb(nb1)"
   ]
  },
  {
   "cell_type": "markdown",
   "metadata": {},
   "source": [
    "#### checks"
   ]
  },
  {
   "cell_type": "code",
   "execution_count": 10,
   "metadata": {
    "lines_to_next_cell": 2
   },
   "outputs": [],
   "source": [
    "expected = {\n",
    "    \"cells\": [\n",
    "        {\n",
    "            \"cell_type\": \"markdown\",\n",
    "            \"source\": \"# First notebook\",\n",
    "            \"directives_\": {},\n",
    "            \"metadata\": {},\n",
    "            \"idx_\": 0,\n",
    "        },\n",
    "        {\n",
    "            \"cell_type\": \"code\",\n",
    "            \"source\": \"%%function hello\\nprint ('hello')\",\n",
    "            \"directives_\": {},\n",
    "            \"metadata\": {},\n",
    "            \"idx_\": 1,\n",
    "        },\n",
    "        {\n",
    "            \"cell_type\": \"code\",\n",
    "            \"source\": \"%%function one_plus_one --test\\na=1+1\\nprint (a)\",\n",
    "            \"directives_\": {},\n",
    "            \"metadata\": {},\n",
    "            \"idx_\": 2,\n",
    "        },\n",
    "    ],\n",
    "    \"metadata\": {},\n",
    "    \"nbformat\": 4,\n",
    "    \"nbformat_minor\": 5,\n",
    "}\n",
    "actual = convert_nested_nb_cells_to_dicts(\n",
    "    nb_text\n",
    ")  # just for comparison purposes, we convert nested NbCells to dicts\n",
    "assert actual == expected"
   ]
  },
  {
   "cell_type": "markdown",
   "metadata": {
    "lines_to_next_cell": 2
   },
   "source": [
    "### texts2nbs"
   ]
  },
  {
   "cell_type": "code",
   "execution_count": 11,
   "metadata": {
    "lines_to_next_cell": 2
   },
   "outputs": [],
   "source": [
    "# | export\n",
    "def texts2nbs(nbs: List[str] | str) -> List[dict]:\n",
    "    if not isinstance(nbs, list):\n",
    "        nbs = [nbs]\n",
    "    return [text2nb(nb) for nb in nbs]"
   ]
  },
  {
   "cell_type": "markdown",
   "id": "66491c5a",
   "metadata": {
    "lines_to_next_cell": 2
   },
   "source": [
    "### nb2text"
   ]
  },
  {
   "cell_type": "code",
   "execution_count": 12,
   "id": "963571fb",
   "metadata": {},
   "outputs": [],
   "source": [
    "# | export\n",
    "def nb2text(nb: dict) -> str:\n",
    "    return \"\\n\\n\".join(\n",
    "        [f\"[{cell['cell_type']}]\\n{cell['source']}\" for cell in nb[\"cells\"]]\n",
    "    )\n",
    "\n",
    "\n",
    "def nbs2text(nbs: List[dict]) -> List[str]:\n",
    "    return [nb2text(nb) for nb in (nbs if isinstance(nbs, list) else [nbs])]"
   ]
  },
  {
   "cell_type": "markdown",
   "id": "f21dd2ac",
   "metadata": {},
   "source": [
    "#### Usage example"
   ]
  },
  {
   "cell_type": "code",
   "execution_count": 13,
   "metadata": {},
   "outputs": [],
   "source": [
    "nb_text = text2nb(nb1)\n",
    "nb_text = nb2text(nb_text)\n",
    "assert (\n",
    "    nb_text\n",
    "    == \"\"\"[markdown]\n",
    "# First notebook\n",
    "\n",
    "[code]\n",
    "%%function hello\n",
    "print ('hello')\n",
    "\n",
    "[code]\n",
    "%%function one_plus_one --test\n",
    "a=1+1\n",
    "print (a)\"\"\"\n",
    ")"
   ]
  },
  {
   "cell_type": "code",
   "execution_count": 14,
   "metadata": {},
   "outputs": [
    {
     "data": {
      "text/plain": [
       "\"[markdown]\\n# First notebook\\n\\n[code]\\n%%function hello\\nprint ('hello')\\n\\n[code]\\n%%function one_plus_one --test\\na=1+1\\nprint (a)\""
      ]
     },
     "execution_count": 14,
     "metadata": {},
     "output_type": "execute_result"
    }
   ],
   "source": [
    "nb_text"
   ]
  },
  {
   "cell_type": "code",
   "execution_count": 15,
   "metadata": {
    "lines_to_next_cell": 2
   },
   "outputs": [
    {
     "data": {
      "text/plain": [
       "\"[markdown]\\n# First notebook\\n\\n[code]\\n%%function hello\\nprint ('hello')\\n\\n[code]\\n%%function one_plus_one --test\\na=1+1\\nprint (a)\""
      ]
     },
     "execution_count": 15,
     "metadata": {},
     "output_type": "execute_result"
    }
   ],
   "source": [
    "\"\"\"[markdown]\n",
    "# First notebook\n",
    "\n",
    "[code]\n",
    "%%function hello\n",
    "print ('hello')\n",
    "\n",
    "[code]\n",
    "%%function one_plus_one --test\n",
    "a=1+1\n",
    "print (a)\"\"\""
   ]
  },
  {
   "cell_type": "markdown",
   "metadata": {
    "lines_to_next_cell": 2
   },
   "source": [
    "### printnb"
   ]
  },
  {
   "cell_type": "code",
   "execution_count": 16,
   "metadata": {},
   "outputs": [],
   "source": [
    "# | export\n",
    "def printnb(\n",
    "    nb_text: str | dict | List[str] | List[dict], no_newlines: bool = False, titles=None\n",
    ") -> None:\n",
    "    if isinstance(nb_text, list):\n",
    "        assert titles is None or len(titles) == len(nb_text)\n",
    "        titles = (\n",
    "            [\"\\n\"] * len(nb_text)\n",
    "            if titles is None\n",
    "            else [\"\\n\" + title for title in titles]\n",
    "        )\n",
    "        for nb_text, title in zip(nb_text, titles):\n",
    "            print(title)\n",
    "            print(f\"{'-'*50}\")\n",
    "            printnb(nb_text, no_newlines=no_newlines)\n",
    "    else:\n",
    "        if isinstance(nb_text, dict):\n",
    "            nb_text = nb2text(nb_text)\n",
    "        print(f'''\"\"\"{nb_text}\"\"\"''' if no_newlines else f'''\"\"\"\\n{nb_text}\\n\"\"\"''')"
   ]
  },
  {
   "cell_type": "markdown",
   "metadata": {},
   "source": [
    "#### Usage example"
   ]
  },
  {
   "cell_type": "code",
   "execution_count": 17,
   "metadata": {},
   "outputs": [
    {
     "name": "stdout",
     "output_type": "stream",
     "text": [
      "--------------------------------------------------\n",
      "with new lines at beginning and end:\n",
      "\"\"\"\n",
      "\n",
      "[markdown]\n",
      "# First notebook\n",
      "\n",
      "[code]\n",
      "%%function hello\n",
      "print ('hello')\n",
      "\n",
      "[code]\n",
      "%%function one_plus_one --test\n",
      "a=1+1\n",
      "print (a)\n",
      "\n",
      "\"\"\"\n",
      "\n",
      "--------------------------------------------------\n",
      "without new lines at beginning and end:\n",
      "\"\"\"\n",
      "[markdown]\n",
      "# First notebook\n",
      "\n",
      "[code]\n",
      "%%function hello\n",
      "print ('hello')\n",
      "\n",
      "[code]\n",
      "%%function one_plus_one --test\n",
      "a=1+1\n",
      "print (a)\n",
      "\"\"\"\n"
     ]
    }
   ],
   "source": [
    "print(\"-\" * 50)\n",
    "print(\"with new lines at beginning and end:\")\n",
    "printnb(nb1)\n",
    "print()\n",
    "print(\"-\" * 50)\n",
    "print(\"without new lines at beginning and end:\")\n",
    "printnb(nb1, no_newlines=True)"
   ]
  },
  {
   "cell_type": "code",
   "execution_count": 18,
   "metadata": {
    "lines_to_next_cell": 2
   },
   "outputs": [
    {
     "name": "stdout",
     "output_type": "stream",
     "text": [
      "\n",
      "Number 1\n",
      "--------------------------------------------------\n",
      "\"\"\"\n",
      "[markdown]\n",
      "# First notebook\n",
      "\n",
      "[code]\n",
      "%%function hello\n",
      "print ('hello')\n",
      "\n",
      "[code]\n",
      "%%function one_plus_one --test\n",
      "a=1+1\n",
      "print (a)\n",
      "\"\"\"\n",
      "\n",
      "Number 2\n",
      "--------------------------------------------------\n",
      "\"\"\"\n",
      "[markdown]\n",
      "# First notebook\n",
      "\n",
      "[code]\n",
      "%%function hello\n",
      "print ('hello')\n",
      "\n",
      "[code]\n",
      "%%function one_plus_one --test\n",
      "a=1+1\n",
      "print (a)\n",
      "\"\"\"\n"
     ]
    }
   ],
   "source": [
    "printnb([nb1, nb1], titles=[\"Number 1\", \"Number 2\"], no_newlines=True)"
   ]
  },
  {
   "cell_type": "markdown",
   "metadata": {},
   "source": [
    "## Check utilities"
   ]
  },
  {
   "cell_type": "markdown",
   "metadata": {
    "lines_to_next_cell": 2
   },
   "source": [
    "### strip_nb"
   ]
  },
  {
   "cell_type": "code",
   "execution_count": 19,
   "metadata": {
    "lines_to_next_cell": 2
   },
   "outputs": [],
   "source": [
    "# | export\n",
    "def strip_nb(nb: str) -> str:\n",
    "    return nb2text(text2nb(nb))"
   ]
  },
  {
   "cell_type": "markdown",
   "metadata": {
    "lines_to_next_cell": 2
   },
   "source": [
    "### check_test_repo_content"
   ]
  },
  {
   "cell_type": "code",
   "execution_count": 26,
   "metadata": {
    "lines_to_next_cell": 2
   },
   "outputs": [],
   "source": [
    "# | export\n",
    "def check_test_repo_content(\n",
    "    current_root: str,\n",
    "    new_root: str,\n",
    "    nb_folder: str,\n",
    "    nb_paths: List[str],  # type: ignore\n",
    "    nbs: Optional[List[str]] = None,\n",
    "    show_content: bool = False,\n",
    "    clean: bool = False,\n",
    "    output: bool = False,\n",
    "    keep_cwd: bool = False,\n",
    "):\n",
    "    \"\"\"\n",
    "    Check the content of a test repository.\n",
    "\n",
    "    Parameters\n",
    "    ----------\n",
    "    current_root : str\n",
    "        The current root directory.\n",
    "    new_root : str\n",
    "        The new root directory.\n",
    "    nb_folder : str\n",
    "        The folder containing the notebooks.\n",
    "    nb_paths : List[str]\n",
    "        The list of notebook paths.\n",
    "    nbs : Optional[List[str]], optional\n",
    "        The list of expected notebook contents, by default None.\n",
    "    show_content : bool, optional\n",
    "        Whether to print the notebook contents, by default False.\n",
    "    clean : bool, optional\n",
    "        Whether to remove the new root directory, by default False.\n",
    "    output : bool, optional\n",
    "        Whether to return the notebook contents and paths, by default False.\n",
    "    keep_cwd : bool, optional\n",
    "        Whether to keep the current working directory unchanged, by default False.\n",
    "\n",
    "    Returns\n",
    "    -------\n",
    "    Tuple[List[str], List[str]] or None\n",
    "        If `output` is True, returns a tuple containing the notebook contents and paths.\n",
    "        Otherwise, returns None.\n",
    "    \"\"\"\n",
    "\n",
    "    assert Path(current_root).name == \"nbmodular\"\n",
    "    new_wd = os.getcwd()\n",
    "\n",
    "    assert Path(new_wd).resolve() == Path(f\"{current_root}/{new_root}\").resolve()\n",
    "    os.chdir(current_root)\n",
    "    assert (Path(new_root) / \"settings.ini\").exists()\n",
    "    nb_paths: List[Path] = [\n",
    "        Path(f\"{new_root}/{nb_folder}/{nb_path}\") for nb_path in nb_paths\n",
    "    ]\n",
    "\n",
    "    all_files = []\n",
    "    for nb_path in nb_paths:\n",
    "        all_files += os.listdir(nb_path.parent)\n",
    "    assert all_files == [nb_path_i.name for nb_path_i in nb_paths]\n",
    "\n",
    "    nbs_in_disk = []\n",
    "    for nb_path in nb_paths:\n",
    "        assert nb_path.exists()\n",
    "        nbs_in_disk.append(read_nb(nb_path))\n",
    "\n",
    "    if nbs is not None:\n",
    "        assert [strip_nb(nb2text(nb)) for nb in nbs_in_disk] == [\n",
    "            strip_nb(nb) for nb in nbs\n",
    "        ]\n",
    "    if show_content:\n",
    "        printnb(nbs_in_disk, no_newlines=True)\n",
    "    if clean:\n",
    "        shutil.rmtree(new_root)\n",
    "    if keep_cwd:\n",
    "        if clean:\n",
    "            raise ValueError(\"keep_cwd can't be True if clean is True\")\n",
    "        os.chdir(new_root)\n",
    "    if output:\n",
    "        return nbs_in_disk, nb_paths"
   ]
  },
  {
   "cell_type": "markdown",
   "metadata": {},
   "source": [
    "##### Example usage"
   ]
  },
  {
   "cell_type": "markdown",
   "metadata": {},
   "source": [
    "See checks after example usage for `create_test_content`"
   ]
  },
  {
   "cell_type": "markdown",
   "id": "bf131c28",
   "metadata": {
    "lines_to_next_cell": 2
   },
   "source": [
    "### derive_nb_paths_and_py_paths"
   ]
  },
  {
   "cell_type": "code",
   "execution_count": null,
   "id": "64fb0c3a",
   "metadata": {},
   "outputs": [],
   "source": [
    "# | export\n",
    "def derive_nb_paths_and_py_paths(\n",
    "    nb_paths: List[str],\n",
    "    new_root: str | Path,\n",
    "    nbm_folder: str = \"nbm\",\n",
    "    tmp_folder: str = \".nbs\",\n",
    "    nbs_folder: str = \"nbs\",\n",
    "    lib_folder: str = \"nbmodular\",\n",
    "):\n",
    "    all_nb_paths = []\n",
    "    for nb_path in nb_paths:\n",
    "        all_nb_paths.append(Path(new_root) / nbm_folder / nb_path)\n",
    "        all_nb_paths.append(Path(new_root) / nbs_folder / nb_path)\n",
    "        tmp_nb = Path(new_root) / tmp_folder / nb_path\n",
    "        all_nb_paths.append(tmp_nb)\n",
    "        tmp_test_nb = tmp_nb.parent / f\"test_{tmp_nb.name}\"\n",
    "        all_nb_paths.append(tmp_test_nb)\n",
    "    py_paths = []\n",
    "    for nb_path in nb_paths:\n",
    "        original_nb_path = Path(nb_path)\n",
    "        py_paths.append(\n",
    "            Path(new_root)\n",
    "            / lib_folder\n",
    "            / original_nb_path.parent\n",
    "            / f\"{original_nb_path.stem}.py\"\n",
    "        )\n",
    "        py_paths.append(\n",
    "            Path(new_root)\n",
    "            / lib_folder\n",
    "            / \"tests\"\n",
    "            / original_nb_path.parent\n",
    "            / f\"test_{original_nb_path.stem}.py\"\n",
    "        )\n",
    "    return all_nb_paths, py_paths"
   ]
  },
  {
   "cell_type": "markdown",
   "metadata": {},
   "source": [
    "#### Example usage"
   ]
  },
  {
   "cell_type": "code",
   "execution_count": null,
   "id": "09607613",
   "metadata": {},
   "outputs": [],
   "source": [
    "nb_paths, py_paths = derive_nb_paths_and_py_paths(\n",
    "    nb_paths=[\"folder_A/nb_A.ipynb\", \"folder_B/nb_B.ipynb\"], new_root=\"tmp_repo\"\n",
    ")\n",
    "assert nb_paths == [\n",
    "    Path(\"tmp_repo/nbm/folder_A/nb_A.ipynb\"),\n",
    "    Path(\"tmp_repo/nbs/folder_A/nb_A.ipynb\"),\n",
    "    Path(\"tmp_repo/.nbs/folder_A/nb_A.ipynb\"),\n",
    "    Path(\"tmp_repo/.nbs/folder_A/test_nb_A.ipynb\"),\n",
    "    Path(\"tmp_repo/nbm/folder_B/nb_B.ipynb\"),\n",
    "    Path(\"tmp_repo/nbs/folder_B/nb_B.ipynb\"),\n",
    "    Path(\"tmp_repo/.nbs/folder_B/nb_B.ipynb\"),\n",
    "    Path(\"tmp_repo/.nbs/folder_B/test_nb_B.ipynb\"),\n",
    "]\n",
    "assert py_paths == [\n",
    "    Path(\"tmp_repo/nbmodular/folder_A/nb_A.py\"),\n",
    "    Path(\"tmp_repo/nbmodular/tests/folder_A/test_nb_A.py\"),\n",
    "    Path(\"tmp_repo/nbmodular/folder_B/nb_B.py\"),\n",
    "    Path(\"tmp_repo/nbmodular/tests/folder_B/test_nb_B.py\"),\n",
    "]"
   ]
  },
  {
   "cell_type": "markdown",
   "id": "7fbe739e",
   "metadata": {
    "lines_to_next_cell": 2
   },
   "source": [
    "### read_nbs"
   ]
  },
  {
   "cell_type": "code",
   "execution_count": null,
   "id": "cf6842a8",
   "metadata": {
    "lines_to_next_cell": 2
   },
   "outputs": [],
   "source": [
    "# | export\n",
    "def read_nbs(paths: List[str], as_text: bool = True) -> List[str] | List[dict]:\n",
    "    \"\"\"\n",
    "    Read notebooks from disk.\n",
    "\n",
    "    Parameters:\n",
    "        paths (List[str]): A list of paths to the notebooks.\n",
    "        as_text (bool, optional): If True, the notebooks will be returned as text.\n",
    "            If False, the notebooks will be returned as dictionaries.\n",
    "            Defaults to True.\n",
    "\n",
    "    Returns:\n",
    "        List[str] | List[dict]: A list of notebooks. If `as_text` is True, the notebooks\n",
    "            will be returned as text. If `as_text` is False, the notebooks will be\n",
    "            returned as dictionaries.\n",
    "    \"\"\"\n",
    "    nbs_in_disk = []\n",
    "    for path in paths:\n",
    "        # Check that file exists. useful for being called inside a test utility\n",
    "        # to see where it fails.\n",
    "        assert os.path.exists(path)\n",
    "        nbs_in_disk.append(read_nb(path))\n",
    "\n",
    "    return [strip_nb(nb2text(nb)) for nb in nbs_in_disk] if as_text else nbs_in_disk"
   ]
  },
  {
   "cell_type": "markdown",
   "id": "4f04601a",
   "metadata": {
    "lines_to_next_cell": 2
   },
   "source": [
    "### write_nbs"
   ]
  },
  {
   "cell_type": "code",
   "execution_count": null,
   "id": "019032f2",
   "metadata": {
    "lines_to_next_cell": 2
   },
   "outputs": [],
   "source": [
    "def write_nbs(nbs: List[str], nb_paths: List[str]) -> None:\n",
    "    for nb, path in zip(nbs, nb_paths):\n",
    "        write_nb(text2nb(nb), path)"
   ]
  },
  {
   "cell_type": "markdown",
   "id": "2f064e49",
   "metadata": {
    "lines_to_next_cell": 2
   },
   "source": [
    "### compare_nbs"
   ]
  },
  {
   "cell_type": "code",
   "execution_count": null,
   "id": "281f5774",
   "metadata": {},
   "outputs": [],
   "source": [
    "def compare_nb(nb1: str, nb2: str) -> bool:\n",
    "    return strip_nb(nb1) == strip_nb(nb2)\n",
    "\n",
    "\n",
    "def compare_nbs(nbs1: List[str], nbs2: List[str]) -> bool:\n",
    "    return all(map(compare_nb, nbs1, nbs2))"
   ]
  },
  {
   "cell_type": "markdown",
   "id": "0e9c7b6d",
   "metadata": {},
   "source": [
    "#### Example usage"
   ]
  },
  {
   "cell_type": "code",
   "execution_count": null,
   "id": "510d392a",
   "metadata": {},
   "outputs": [],
   "source": [
    "nbs = [nb1, nb2]\n",
    "nb_paths = [\"first.ipynb\", \"second.ipynb\"]\n",
    "write_nbs(nbs, nb_paths)\n",
    "nbs_in_disk = read_nbs(nb_paths)\n",
    "assert compare_nbs(nbs_in_disk, nbs)\n",
    "for nb_path in nb_paths:\n",
    "    Path(nb_path).unlink()"
   ]
  },
  {
   "cell_type": "markdown",
   "id": "2078c8b4",
   "metadata": {
    "lines_to_next_cell": 2
   },
   "source": [
    "### read_pymodules"
   ]
  },
  {
   "cell_type": "code",
   "execution_count": null,
   "id": "2a05af4d",
   "metadata": {
    "lines_to_next_cell": 2
   },
   "outputs": [],
   "source": [
    "def read_text_files(paths: List[str]) -> List[str]:\n",
    "    \"\"\"\n",
    "    Read the contents of Python modules from the given paths.\n",
    "\n",
    "    Parameters\n",
    "    ----------\n",
    "    paths : List[str]\n",
    "        A list of file paths to Python modules.\n",
    "\n",
    "    Returns\n",
    "    -------\n",
    "    List[str]\n",
    "        A list of strings containing the contents of the Python modules.\n",
    "\n",
    "    Raises\n",
    "    ------\n",
    "    AssertionError\n",
    "        If a file path does not exist.\n",
    "\n",
    "    \"\"\"\n",
    "    text_files = []\n",
    "    for path in paths:\n",
    "        # Check that file exists. useful for being called inside a test utility\n",
    "        # to see where it fails.\n",
    "        assert os.path.exists(path)\n",
    "        with open(path, \"rt\") as file:\n",
    "            text_files.append(file.read())\n",
    "    return text_files"
   ]
  },
  {
   "cell_type": "markdown",
   "id": "36853e20",
   "metadata": {
    "lines_to_next_cell": 2
   },
   "source": [
    "### write_text_files"
   ]
  },
  {
   "cell_type": "code",
   "execution_count": null,
   "id": "68693897",
   "metadata": {
    "lines_to_next_cell": 2
   },
   "outputs": [],
   "source": [
    "def write_text_files(texts: List[str], paths: List[str]) -> None:\n",
    "    for text, path in zip(texts, paths):\n",
    "        with open(path, \"wt\") as file:\n",
    "            file.write(text)"
   ]
  },
  {
   "cell_type": "markdown",
   "id": "880b9901",
   "metadata": {
    "lines_to_next_cell": 2
   },
   "source": [
    "### compare_texts"
   ]
  },
  {
   "cell_type": "code",
   "execution_count": null,
   "id": "053c9c45",
   "metadata": {},
   "outputs": [],
   "source": [
    "def compare_texts(texts1: List[str], texts2: List[str]) -> bool:\n",
    "    return all(map(operator.eq, texts1, texts2))"
   ]
  },
  {
   "cell_type": "markdown",
   "id": "47a059d7",
   "metadata": {},
   "source": [
    "#### Example usage"
   ]
  },
  {
   "cell_type": "code",
   "execution_count": null,
   "id": "a83bb452",
   "metadata": {},
   "outputs": [],
   "source": [
    "texts = [py1, py2]\n",
    "paths = [\"first.py\", \"second.py\"]\n",
    "write_text_files(texts, paths)\n",
    "texts_in_disk = read_text_files(paths)\n",
    "assert compare_texts(texts_in_disk, texts)\n",
    "\n",
    "# clean\n",
    "for path in paths:\n",
    "    Path(path).unlink()"
   ]
  },
  {
   "cell_type": "markdown",
   "id": "66396a15",
   "metadata": {
    "lines_to_next_cell": 2
   },
   "source": [
    "### read_and_print"
   ]
  },
  {
   "cell_type": "code",
   "execution_count": null,
   "id": "e4323856",
   "metadata": {
    "lines_to_next_cell": 2
   },
   "outputs": [],
   "source": [
    "def read_and_print(\n",
    "    paths: List[str], file_type: str, print_as_list: bool = False\n",
    ") -> None:\n",
    "    if file_type == \"notebook\":\n",
    "        files = read_nbs(paths)\n",
    "    elif file_type == \"python\":\n",
    "        files = read_text_files(paths)\n",
    "    else:\n",
    "        raise ValueError(f\"file_type {file_type} not recognized\")\n",
    "    if print_as_list:\n",
    "        print(f\"[\")\n",
    "    for file in files:\n",
    "        if not print_as_list:\n",
    "            print(f\"{'-'*50}\")\n",
    "        print('\"\"\"')\n",
    "        print(file)\n",
    "        print('\"\"\"')\n",
    "        if print_as_list:\n",
    "            print(\",\")"
   ]
  },
  {
   "cell_type": "markdown",
   "metadata": {},
   "source": [
    "## Create tests"
   ]
  },
  {
   "cell_type": "markdown",
   "metadata": {
    "lines_to_next_cell": 2
   },
   "source": [
    "### create_and_cd_to_new_root_folder"
   ]
  },
  {
   "cell_type": "code",
   "execution_count": 21,
   "metadata": {
    "lines_to_next_cell": 2
   },
   "outputs": [],
   "source": [
    "# | export\n",
    "def create_and_cd_to_new_root_folder(\n",
    "    root_folder: str | Path,\n",
    "    config_path: str | Path = \"settings.ini\",\n",
    ") -> Path:\n",
    "    \"\"\"Creates `root_folder`, cds to it, and makes it act as *new root* (see below).\n",
    "\n",
    "    In order to make it the new root, it copies the file `settings.ini`, which\n",
    "    allows cd_root () find it and cd to it, and also allows some modules to load\n",
    "    the global root's config from it.\n",
    "\n",
    "    It assumes that\n",
    "\n",
    "    Parameters\n",
    "    ----------\n",
    "    root_folder : str or Path\n",
    "        Path to new root.\n",
    "    config_path : str or Path, optional\n",
    "        path to roo'ts config file, by default \"settings.ini\"\n",
    "\n",
    "    Returns\n",
    "    -------\n",
    "    Path\n",
    "        Absolute path to root_folder, as Path object.\n",
    "    \"\"\"\n",
    "    config_path = Path(config_path)\n",
    "    root_folder = Path(root_folder).absolute()\n",
    "    root_folder.mkdir(parents=True, exist_ok=True)\n",
    "    shutil.copyfile(config_path, root_folder / config_path.name)\n",
    "    os.chdir(root_folder)\n",
    "\n",
    "    return root_folder"
   ]
  },
  {
   "cell_type": "markdown",
   "metadata": {
    "lines_to_next_cell": 2
   },
   "source": [
    "### create_test_content"
   ]
  },
  {
   "cell_type": "code",
   "execution_count": 22,
   "metadata": {},
   "outputs": [],
   "source": [
    "# | export\n",
    "def create_test_content(\n",
    "    nbs: List[str] | str,\n",
    "    nb_paths: Optional[List[str] | List[Path] | str | Path] = None,\n",
    "    nb_folder: str = \"nbm\",\n",
    "    new_root: str = \"new_test\",\n",
    "    config_path: str = \"settings.ini\",\n",
    ") -> Tuple[str, List[str]]:\n",
    "    \"\"\"\n",
    "    Create test content for notebooks.\n",
    "\n",
    "    Parameters:\n",
    "        nbs (List[str] | str): List of notebook texts or a single notebook text.\n",
    "        nb_paths (Optional[List[str] | List[Path] | str | Path]): List of notebook paths or a single notebook path.\n",
    "            If None, automatically generates notebook paths based on the number of notebooks.\n",
    "        nb_folder (str): Name of the notebook folder.\n",
    "        new_root (str): Name of the new root folder.\n",
    "        config_path (str): Path to the configuration file.\n",
    "\n",
    "    Returns:\n",
    "        Tuple[str, List[str]]: A tuple containing the current root folder path and the list of notebook paths.\n",
    "    \"\"\"\n",
    "\n",
    "    # we start from the root folder of our repo\n",
    "    cd_root()\n",
    "    current_root = os.getcwd()\n",
    "\n",
    "    # Convert input texts into corresponding dicts with notebook structure\n",
    "    nbs = texts2nbs(nbs)\n",
    "\n",
    "    # Generate list of nb_paths if None\n",
    "    if nb_paths is None:\n",
    "        nb_paths = [f\"f{idx}\" for idx in range(len(nbs))]\n",
    "    else:\n",
    "        if not isinstance(nb_paths, list):\n",
    "            nb_paths = [nb_paths]\n",
    "        if len(nb_paths) != len(nbs):\n",
    "            raise ValueError(\"nb_paths must have same number of items as nbs\")\n",
    "\n",
    "    for nb, nb_path in zip(nbs, nb_paths):\n",
    "        full_nb_path = Path(new_root) / nb_folder / nb_path\n",
    "        full_nb_path.parent.mkdir(parents=True, exist_ok=True)\n",
    "        write_nb(nb, full_nb_path)\n",
    "\n",
    "    # Copy settings.ini in new root folder, so that this file\n",
    "    # can be read later on by our export / import functions.\n",
    "    # Also, cd to new root folder.\n",
    "    _ = create_and_cd_to_new_root_folder(new_root, config_path)\n",
    "\n",
    "    return current_root, nb_paths"
   ]
  },
  {
   "cell_type": "markdown",
   "id": "919c9095",
   "metadata": {},
   "source": [
    "#### Example usage"
   ]
  },
  {
   "cell_type": "code",
   "execution_count": 29,
   "metadata": {},
   "outputs": [],
   "source": [
    "# just for checking later\n",
    "cwd = os.getcwd()\n",
    "\n",
    "# usage\n",
    "new_root = \"test_create_test_content\"\n",
    "nb_folder = \"nbm\"\n",
    "current_root, nb_paths = create_test_content(\n",
    "    nbs=[nb1, nb2],\n",
    "    nb_paths=[\"first_folder/first.ipynb\", \"second_folder/second.ipynb\"],\n",
    "    nb_folder=nb_folder,\n",
    "    new_root=new_root,\n",
    ")"
   ]
  },
  {
   "cell_type": "markdown",
   "metadata": {},
   "source": [
    "#### checks and cleaning"
   ]
  },
  {
   "cell_type": "code",
   "execution_count": 30,
   "metadata": {},
   "outputs": [
    {
     "name": "stdout",
     "output_type": "stream",
     "text": [
      "\n",
      "\n",
      "--------------------------------------------------\n",
      "\"\"\"[markdown]\n",
      "# First notebook\n",
      "\n",
      "[code]\n",
      "%%function hello\n",
      "print ('hello')\n",
      "\n",
      "[code]\n",
      "%%function one_plus_one --test\n",
      "a=1+1\n",
      "print (a)\"\"\"\n",
      "\n",
      "\n",
      "--------------------------------------------------\n",
      "\"\"\"[markdown]\n",
      "# Second notebook\n",
      "\n",
      "[code]\n",
      "%%function bye\n",
      "print ('bye')\n",
      "\n",
      "[markdown]\n",
      "%%function two_plus_two --test\n",
      "a=2+2\n",
      "print (a)\"\"\"\n"
     ]
    }
   ],
   "source": [
    "check_test_repo_content(\n",
    "    current_root,\n",
    "    new_root,\n",
    "    nb_folder,\n",
    "    nb_paths,\n",
    "    nbs=[nb1, nb2],\n",
    "    show_content=True,\n",
    "    clean=True,\n",
    ")"
   ]
  }
 ],
 "metadata": {
  "kernelspec": {
   "display_name": "python3",
   "language": "python",
   "name": "python3"
  },
  "language_info": {
   "codemirror_mode": {
    "name": "ipython",
    "version": 3
   },
   "file_extension": ".py",
   "mimetype": "text/x-python",
   "name": "python",
   "nbconvert_exporter": "python",
   "pygments_lexer": "ipython3",
   "version": "3.10.9"
  }
 },
 "nbformat": 4,
 "nbformat_minor": 4
}
