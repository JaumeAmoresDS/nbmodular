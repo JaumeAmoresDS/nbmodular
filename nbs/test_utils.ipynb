{
 "cells": [
  {
   "cell_type": "markdown",
   "metadata": {},
   "source": [
    "# Test Utils\n",
    "\n",
    "> Utilities for writting tests."
   ]
  },
  {
   "cell_type": "code",
   "execution_count": 1,
   "metadata": {},
   "outputs": [],
   "source": [
    "# | default_exp testing.utils"
   ]
  },
  {
   "cell_type": "code",
   "execution_count": 2,
   "metadata": {},
   "outputs": [],
   "source": [
    "# |export\n",
    "# standard\n",
    "import logging\n",
    "import os\n",
    "import shutil\n",
    "from pathlib import Path\n",
    "from typing import List, Tuple, Optional\n",
    "import re\n",
    "\n",
    "# 3rd party\n",
    "from execnb.nbio import new_nb, write_nb, mk_cell"
   ]
  },
  {
   "cell_type": "markdown",
   "metadata": {},
   "source": [
    "## Notebook examples\n",
    "\n",
    "> Example notebooks used for testing"
   ]
  },
  {
   "cell_type": "markdown",
   "metadata": {},
   "source": [
    "### Simple example 1"
   ]
  },
  {
   "cell_type": "code",
   "execution_count": 3,
   "metadata": {},
   "outputs": [],
   "source": [
    "# | export\n",
    "nb1 = \"\"\"\n",
    "[markdown]\n",
    "## First notebook\n",
    "\n",
    "[code]\n",
    "%%function hello\n",
    "print ('hello')\n",
    "\n",
    "[code]\n",
    "%%function one_plus_one --test\n",
    "a=1+1\n",
    "print (a)\n",
    "\"\"\""
   ]
  },
  {
   "cell_type": "markdown",
   "metadata": {},
   "source": [
    "### Simple example 2"
   ]
  },
  {
   "cell_type": "code",
   "execution_count": 4,
   "metadata": {
    "lines_to_next_cell": 2
   },
   "outputs": [],
   "source": [
    "nb2 = \"\"\"\n",
    "[markdown]\n",
    "## Second notebook\n",
    "\n",
    "[code]\n",
    "%%function bye\n",
    "print ('bye')\n",
    "\n",
    "[markdown]\n",
    "%%function two_plus_two --test\n",
    "a=2+2\n",
    "print (a)\n",
    "\"\"\""
   ]
  },
  {
   "cell_type": "markdown",
   "metadata": {},
   "source": [
    "### Mixed Cells Example"
   ]
  },
  {
   "cell_type": "code",
   "execution_count": null,
   "metadata": {},
   "outputs": [],
   "source": [
    "# | export\n",
    "mixed_nb1 = \"\"\"\n",
    "[code]\n",
    "%%function\n",
    "def first():\n",
    "    pass\n",
    "\n",
    "[markdown]\n",
    "comment\n",
    "    \n",
    "[code]\n",
    "%%function --test\n",
    "def second ():\n",
    "    pass\n",
    "\"\"\""
   ]
  },
  {
   "cell_type": "markdown",
   "metadata": {},
   "source": [
    "## Notebook structure\n",
    "\n",
    "> Utilities for building a dictionary with notebook structure. Useful for testing purposes."
   ]
  },
  {
   "cell_type": "markdown",
   "metadata": {
    "lines_to_next_cell": 2
   },
   "source": [
    "### parse_nb_sections"
   ]
  },
  {
   "cell_type": "code",
   "execution_count": 6,
   "metadata": {},
   "outputs": [],
   "source": [
    "# | export\n",
    "def parse_nb_sections(nb):\n",
    "    # Define the regex pattern to match sections\n",
    "    pattern = \"\\[(markdown|code)\\](.*?)((?=\\[markdown\\])|(?=\\[code\\])|$)\"\n",
    "\n",
    "    # Find all matches using re.findall which returns a list of tuples\n",
    "    matches = re.findall(pattern, nb, re.DOTALL)\n",
    "\n",
    "    # Transform the matches to the required format\n",
    "    result = [(match[0], match[1].strip()) for match in matches]\n",
    "\n",
    "    return result"
   ]
  },
  {
   "cell_type": "markdown",
   "metadata": {},
   "source": [
    "#### Example usage"
   ]
  },
  {
   "cell_type": "code",
   "execution_count": 7,
   "metadata": {
    "lines_to_next_cell": 2
   },
   "outputs": [],
   "source": [
    "nb = parse_nb_sections(nb1)\n",
    "assert nb == [\n",
    "    (\"markdown\", \"## First notebook\"),\n",
    "    (\"code\", \"%%function hello\\nprint ('hello')\"),\n",
    "    (\"code\", \"%%function one_plus_one --test\\na=1+1\\nprint (a)\"),\n",
    "]"
   ]
  },
  {
   "cell_type": "markdown",
   "metadata": {
    "lines_to_next_cell": 2
   },
   "source": [
    "### create_notebook"
   ]
  },
  {
   "cell_type": "code",
   "execution_count": 8,
   "metadata": {},
   "outputs": [],
   "source": [
    "# | export\n",
    "def create_notebook(nb: str):\n",
    "    cells = [\n",
    "        mk_cell(text, cell_type=cell_type) for cell_type, text in parse_nb_sections(nb)\n",
    "    ]\n",
    "    return new_nb(cells)"
   ]
  },
  {
   "cell_type": "markdown",
   "metadata": {},
   "source": [
    "#### Example usage"
   ]
  },
  {
   "cell_type": "code",
   "execution_count": 9,
   "metadata": {},
   "outputs": [],
   "source": [
    "nb = create_notebook(nb1)\n",
    "assert nb == {\n",
    "    \"cells\": [\n",
    "        {\n",
    "            \"cell_type\": \"markdown\",\n",
    "            \"directives_\": {},\n",
    "            \"idx_\": 0,\n",
    "            \"metadata\": {},\n",
    "            \"source\": \"## First notebook\",\n",
    "        },\n",
    "        {\n",
    "            \"cell_type\": \"code\",\n",
    "            \"directives_\": {},\n",
    "            \"idx_\": 1,\n",
    "            \"metadata\": {},\n",
    "            \"source\": \"%%function hello\\nprint ('hello')\",\n",
    "        },\n",
    "        {\n",
    "            \"cell_type\": \"code\",\n",
    "            \"directives_\": {},\n",
    "            \"idx_\": 2,\n",
    "            \"metadata\": {},\n",
    "            \"source\": \"%%function one_plus_one --test\\na=1+1\\nprint (a)\",\n",
    "        },\n",
    "    ],\n",
    "    \"metadata\": {},\n",
    "    \"nbformat\": 4,\n",
    "    \"nbformat_minor\": 5,\n",
    "}"
   ]
  },
  {
   "cell_type": "markdown",
   "metadata": {
    "lines_to_next_cell": 2
   },
   "source": [
    "### nb_to_text"
   ]
  },
  {
   "cell_type": "code",
   "execution_count": 10,
   "metadata": {
    "lines_to_next_cell": 2
   },
   "outputs": [],
   "source": [
    "# | export\n",
    "def nb_to_text(nb: dict) -> str:\n",
    "    return \"\\n\\n\".join(\n",
    "        [f\"[{cell['cell_type']}]\\n{cell['source']}\" for cell in nb[\"cells\"]]\n",
    "    )"
   ]
  },
  {
   "cell_type": "markdown",
   "metadata": {},
   "source": [
    "#### Usage example\n",
    "nb = create_notebook(nb1)\n",
    "nb_text = nb_to_text(nb)\n",
    "assert (\n",
    "    nb_text\n",
    "    == \"\"\"[markdown]\n",
    "# First notebook\n",
    "\n",
    "[code]\n",
    "%%function hello\n",
    "print ('hello')\n",
    "\n",
    "[code]\n",
    "%%function one_plus_one --test\n",
    "a=1+1\n",
    "print (a)\"\"\"\n",
    ")"
   ]
  },
  {
   "cell_type": "markdown",
   "metadata": {
    "lines_to_next_cell": 2
   },
   "source": [
    "### printnb"
   ]
  },
  {
   "cell_type": "code",
   "execution_count": 16,
   "metadata": {
    "lines_to_next_cell": 2
   },
   "outputs": [],
   "source": [
    "# | export\n",
    "def printnb(nb_text: str, no_newlines: bool = False) -> None:\n",
    "    print(f'''\"\"\"{nb_text}\"\"\"''' if no_newlines else f'''\"\"\"\\n{nb_text}\\n\"\"\"''')"
   ]
  },
  {
   "cell_type": "markdown",
   "metadata": {},
   "source": [
    "#### Usage example\n",
    "print(\"-\" * 50)\n",
    "print(\"with new lines at beginning and end:\")\n",
    "printnb(nb1)\n",
    "print()\n",
    "print(\"-\" * 50)\n",
    "print(\"without new lines at beginning and end:\")\n",
    "printnb(nb1, no_newlines=True)"
   ]
  },
  {
   "cell_type": "markdown",
   "id": "545584c6",
   "metadata": {
    "lines_to_next_cell": 2
   },
   "source": [
    "### create_notebooks"
   ]
  },
  {
   "cell_type": "code",
   "execution_count": 17,
   "metadata": {
    "lines_to_next_cell": 2
   },
   "outputs": [
    {
     "name": "stdout",
     "output_type": "stream",
     "text": [
      "--------------------------------------------------\n",
      "with new lines at beginning and end:\n",
      "\"\"\"\n",
      "\n",
      "[markdown]\n",
      "# First notebook\n",
      "\n",
      "[code]\n",
      "%%function hello\n",
      "print ('hello')\n",
      "\n",
      "[code]\n",
      "%%function one_plus_one --test\n",
      "a=1+1\n",
      "print (a)\n",
      "\n",
      "\"\"\"\n",
      "\n",
      "--------------------------------------------------\n",
      "without new lines at beginning and end:\n",
      "\"\"\"\n",
      "[markdown]\n",
      "# First notebook\n",
      "\n",
      "[code]\n",
      "%%function hello\n",
      "print ('hello')\n",
      "\n",
      "[code]\n",
      "%%function one_plus_one --test\n",
      "a=1+1\n",
      "print (a)\n",
      "\"\"\"\n"
     ]
    }
   ],
   "source": [
    "# | export\n",
    "def create_notebooks(nbs: List[str] | str) -> List[dict]:\n",
    "    if not isinstance(nbs, list):\n",
    "        nbs = [nbs]\n",
    "    return [create_notebook(nb) for nb in nbs]"
   ]
  },
  {
   "cell_type": "markdown",
   "metadata": {
    "lines_to_next_cell": 2
   },
   "source": [
    "## create_and_cd_to_new_root_folder"
   ]
  },
  {
   "cell_type": "code",
   "execution_count": 21,
   "metadata": {
    "lines_to_next_cell": 2
   },
   "outputs": [],
   "source": [
    "# | export\n",
    "def create_and_cd_to_new_root_folder(\n",
    "    root_folder: str | Path,\n",
    "    config_path: str | Path = \"settings.ini\",\n",
    ") -> Path:\n",
    "    \"\"\"Creates `root_folder`, cds to it, and makes it act as *new root* (see below).\n",
    "\n",
    "    In order to make it the new root, it copies the file `settings.ini`, which\n",
    "    allows cd_root () find it and cd to it, and also allows some modules to load\n",
    "    the global root's config from it.\n",
    "\n",
    "    It assumes that\n",
    "\n",
    "    Parameters\n",
    "    ----------\n",
    "    root_folder : str or Path\n",
    "        Path to new root.\n",
    "    config_path : str or Path, optional\n",
    "        path to roo'ts config file, by default \"settings.ini\"\n",
    "\n",
    "    Returns\n",
    "    -------\n",
    "    Path\n",
    "        Absolute path to root_folder, as Path object.\n",
    "    \"\"\"\n",
    "    config_path = Path(config_path)\n",
    "    root_folder = Path(root_folder).absolute()\n",
    "    root_folder.mkdir(parents=True, exist_ok=True)\n",
    "    shutil.copyfile(config_path, root_folder / config_path.name)\n",
    "    os.chdir(root_folder)\n",
    "\n",
    "    return root_folder"
   ]
  },
  {
   "cell_type": "markdown",
   "metadata": {
    "lines_to_next_cell": 2
   },
   "source": [
    "## create_test_content"
   ]
  },
  {
   "cell_type": "code",
   "execution_count": 22,
   "metadata": {},
   "outputs": [],
   "source": [
    "# | export\n",
    "def create_test_content(\n",
    "    nbs: List[str] | str,\n",
    "    nb_paths: Optional[List[str] | str] = None,\n",
    "    nb_folder=\"nbm\",\n",
    "    new_root=\"new_test\",\n",
    "    config_path=\"settings.ini\",\n",
    ") -> Tuple[str, List[str]]:\n",
    "    # we start from the root folder of our repo\n",
    "    cd_root()\n",
    "    current_root = os.getcwd()\n",
    "\n",
    "    # Convert input texts into corresponding dicts with notebook structure\n",
    "    nbs = create_notebooks(nbs)\n",
    "\n",
    "    # Generate list of nb_paths if None\n",
    "    if nb_paths is None:\n",
    "        nb_paths = [f\"f{idx}\" for idx in range(len(nbs))]\n",
    "    elif not isinstance(nb_paths, list):\n",
    "        nb_paths = [nb_paths]\n",
    "    if not len(nb_paths) == len(nbs):\n",
    "        raise ValueError(\"nb_paths have same number of elements as nbs\")\n",
    "    for nb, nb_path in zip(nbs, nb_paths):\n",
    "        full_nb_path = Path(new_root) / nb_folder / nb_path\n",
    "        full_nb_path.parent.mkdir(parents=True, exist_ok=True)\n",
    "        write_nb(nb, full_nb_path)\n",
    "\n",
    "    # Copy settings.ini in new root folder, so that this file\n",
    "    # can be read later on by our export / import functions.\n",
    "    # Also, cd to new root folder.\n",
    "    _ = create_and_cd_to_new_root_folder(new_root, config_path)\n",
    "\n",
    "    return current_root, nb_paths"
   ]
  },
  {
   "cell_type": "markdown",
   "metadata": {},
   "source": [
    "#### Example usage"
   ]
  },
  {
   "cell_type": "code",
   "execution_count": null,
   "id": "c32cb8a6",
   "metadata": {},
   "outputs": [],
   "source": [
    "cwd = os.getcwd()"
   ]
  },
  {
   "cell_type": "code",
   "execution_count": 29,
   "metadata": {},
   "outputs": [],
   "source": [
    "new_root = \"test_create_test_content\"\n",
    "nb_folder = \"nbm\"\n",
    "current_root, nb_paths = create_test_content(\n",
    "    nbs=[nb1, nb2],\n",
    "    nb_paths=[\"first_folder/first.ipynb\", \"second_folder/second.ipynb\"],\n",
    "    nb_folder=nb_folder,\n",
    "    new_root=new_root,\n",
    ")"
   ]
  },
  {
   "cell_type": "markdown",
   "metadata": {},
   "source": [
    "#### checks and cleaning"
   ]
  },
  {
   "cell_type": "code",
   "execution_count": 30,
   "metadata": {},
   "outputs": [
    {
     "name": "stdout",
     "output_type": "stream",
     "text": [
      "\n",
      "\n",
      "--------------------------------------------------\n",
      "\"\"\"[markdown]\n",
      "# First notebook\n",
      "\n",
      "[code]\n",
      "%%function hello\n",
      "print ('hello')\n",
      "\n",
      "[code]\n",
      "%%function one_plus_one --test\n",
      "a=1+1\n",
      "print (a)\"\"\"\n",
      "\n",
      "\n",
      "--------------------------------------------------\n",
      "\"\"\"[markdown]\n",
      "# Second notebook\n",
      "\n",
      "[code]\n",
      "%%function bye\n",
      "print ('bye')\n",
      "\n",
      "[markdown]\n",
      "%%function two_plus_two --test\n",
      "a=2+2\n",
      "print (a)\"\"\"\n"
     ]
    }
   ],
   "source": [
    "assert Path(current_root).name == \"nbmodular\"\n",
    "os.chdir(current_root)\n",
    "new_wd = os.getcwd()\n",
    "assert Path(new_wd).resolve() == Path(f\"{current_root}/{new_root}\").resolve()\n",
    "nb_paths = [Path(f\"{new_root}/{nb_folder}/{nb_path}\") for nb_path in nb_paths]\n",
    "assert (Path(new_root) / \"settings.ini\").exists()\n",
    "all_files = []\n",
    "for nb_path in nb_paths:\n",
    "    all_files += os.listdir(nb_path.parent)\n",
    "assert all_files == [\"first.ipynb\", \"second.ipynb\"]\n",
    "nbs_in_disk = []\n",
    "for nb_path in nb_paths:\n",
    "    assert nb_path.exists()\n",
    "    nbs_in_disk.append(read_nb(nb_path))\n",
    "\n",
    "content = [[c[\"source\"] for c in nb.cells] for nb in nbs_in_disk]\n",
    "assert content == [\n",
    "    [\n",
    "        \"## First notebook\",\n",
    "        \"%%function hello\\nprint ('hello')\",\n",
    "        \"%%function one_plus_one --test\\na=1+1\\nprint (a)\",\n",
    "    ],\n",
    "    [\n",
    "        \"## Second notebook\",\n",
    "        \"%%function bye\\nprint ('bye')\",\n",
    "        \"%%function two_plus_two --test\\na=2+2\\nprint (a)\",\n",
    "    ],\n",
    "]\n",
    "\n",
    "shutil.rmtree(new_root)"
   ]
  }
 ],
 "metadata": {
  "kernelspec": {
   "display_name": "python3",
   "language": "python",
   "name": "python3"
  },
  "language_info": {
   "codemirror_mode": {
    "name": "ipython",
    "version": 3
   },
   "file_extension": ".py",
   "mimetype": "text/x-python",
   "name": "python",
   "nbconvert_exporter": "python",
   "pygments_lexer": "ipython3",
   "version": "3.10.9"
  }
 },
 "nbformat": 4,
 "nbformat_minor": 4
}
