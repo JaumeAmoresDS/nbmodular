{
 "cells": [
  {
   "cell_type": "markdown",
   "metadata": {},
   "source": [
    "# Utils\n",
    "\n",
    "> Exporting to python module"
   ]
  },
  {
   "cell_type": "code",
   "execution_count": null,
   "metadata": {},
   "outputs": [],
   "source": [
    "#| default_exp core.utils"
   ]
  },
  {
   "cell_type": "code",
   "execution_count": null,
   "metadata": {},
   "outputs": [],
   "source": [
    "#|export\n",
    "import logging\n",
    "import os\n",
    "import nbdev"
   ]
  },
  {
   "cell_type": "code",
   "execution_count": null,
   "metadata": {},
   "outputs": [],
   "source": [
    "#|export\n",
    "def set_log_level (logger, log_level):\n",
    "    logger.setLevel(log_level)\n",
    "    ch = logging.StreamHandler()\n",
    "    ch.setLevel(log_level)\n",
    "    logger.addHandler(ch)\n",
    "    \n",
    "def get_repo_root_folder (\n",
    "    file_to_look_for_in_root_folder='settings.ini',\n",
    "    max_parent_levels_to_traverse=10,\n",
    "):\n",
    "    \"\"\"Gets root folder of repo where notebook is.\n",
    "    \n",
    "    It assumes that the root folder has a file called `file_to_look_for_in_root_folder`, which \n",
    "    by default is `settings.ini`.\n",
    "    \"\"\"\n",
    "    list_contents = os.listdir ('.')\n",
    "    traversed_parent_levels=0\n",
    "    while file_to_look_for_in_root_folder not in list_contents and traversed_parent_levels < max_parent_levels_to_traverse:\n",
    "        traversed_parent_levels += 1\n",
    "        os.chdir ('..')\n",
    "        list_contents = os.listdir ('.')\n",
    "    repo_root_folder = Path('.').resolve()\n",
    "    return repo_root_folder\n",
    "\n",
    "def _cd_root_nbdev_impl ():\n",
    "    config=nbdev.config.get_config()\n",
    "    os.chdir(config.config_path)\n",
    "    \n",
    "def cd_root ():\n",
    "    repo_root_path = get_repo_root_folder ()\n",
    "    os.chdir(repo_root_path)"
   ]
  }
 ],
 "metadata": {
  "kernelspec": {
   "display_name": "python3",
   "language": "python",
   "name": "python3"
  }
 },
 "nbformat": 4,
 "nbformat_minor": 4
}
