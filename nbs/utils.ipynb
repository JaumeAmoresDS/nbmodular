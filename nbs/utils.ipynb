{
 "cells": [
  {
   "cell_type": "markdown",
   "metadata": {},
   "source": [
    "# Utils\n",
    "\n",
    "> Exporting to python module"
   ]
  },
  {
   "cell_type": "code",
   "execution_count": null,
   "metadata": {},
   "outputs": [],
   "source": [
    "#| default_exp core.utils"
   ]
  },
  {
   "cell_type": "code",
   "execution_count": null,
   "metadata": {},
   "outputs": [],
   "source": [
    "#|export\n",
    "# standard\n",
    "import logging\n",
    "import os\n",
    "from pathlib import Path\n",
    "from typing import List\n",
    "from configparser import ConfigParser\n",
    "\n",
    "# 3rd party\n",
    "import nbdev\n",
    "from sklearn.utils import Bunch"
   ]
  },
  {
   "cell_type": "markdown",
   "metadata": {},
   "source": [
    "## Logging"
   ]
  },
  {
   "cell_type": "code",
   "execution_count": null,
   "metadata": {},
   "outputs": [],
   "source": [
    "#|export\n",
    "def set_log_level(logger, log_level):\n",
    "    logger.setLevel(log_level)\n",
    "    ch = logging.StreamHandler()\n",
    "    ch.setLevel(log_level)\n",
    "    logger.addHandler(ch)"
   ]
  },
  {
   "cell_type": "markdown",
   "metadata": {},
   "source": [
    "## cd_root"
   ]
  },
  {
   "cell_type": "code",
   "execution_count": null,
   "metadata": {},
   "outputs": [],
   "source": [
    "#| export\n",
    "def get_repo_root_folder(\n",
    "    file_to_look_for_in_root_folder=\"settings.ini\",\n",
    "    max_parent_levels_to_traverse=10,\n",
    "):\n",
    "    \"\"\"Gets root folder of repo where notebook is.\n",
    "\n",
    "    It assumes that the root folder has a file called `file_to_look_for_in_root_folder`, which\n",
    "    by default is `settings.ini`.\n",
    "    \"\"\"\n",
    "    list_contents = os.listdir(\".\")\n",
    "    traversed_parent_levels = 0\n",
    "    while (\n",
    "        file_to_look_for_in_root_folder not in list_contents\n",
    "        and traversed_parent_levels < max_parent_levels_to_traverse\n",
    "    ):\n",
    "        traversed_parent_levels += 1\n",
    "        os.chdir(\"..\")\n",
    "        list_contents = os.listdir(\".\")\n",
    "    repo_root_folder = Path(\".\").resolve()\n",
    "    return repo_root_folder"
   ]
  },
  {
   "cell_type": "code",
   "execution_count": null,
   "metadata": {},
   "outputs": [],
   "source": [
    "#| export\n",
    "def _cd_root_nbdev_impl():\n",
    "    config = nbdev.config.get_config()\n",
    "    os.chdir(config.config_path)"
   ]
  },
  {
   "cell_type": "code",
   "execution_count": null,
   "metadata": {},
   "outputs": [],
   "source": [
    "#| export\n",
    "def cd_root():\n",
    "    repo_root_path = get_repo_root_folder()\n",
    "    os.chdir(repo_root_path)"
   ]
  },
  {
   "cell_type": "markdown",
   "metadata": {},
   "source": [
    "## Writing Tests"
   ]
  },
  {
   "cell_type": "markdown",
   "metadata": {},
   "source": [
    "### Notebook structure \n",
    "\n",
    "> Utilities for building a dictionary with notebook structure. Useful for testing purposes."
   ]
  },
  {
   "cell_type": "markdown",
   "metadata": {},
   "source": [
    "#### make_nb_from_cell_list"
   ]
  },
  {
   "cell_type": "code",
   "execution_count": null,
   "metadata": {},
   "outputs": [],
   "source": [
    "#| export\n",
    "def make_nb_from_cell_list(cell_list: List[Bunch]):\n",
    "    nb = Bunch(\n",
    "        metadata=Bunch(\n",
    "            kernelspec=Bunch(\n",
    "                display_name=\"Python 3 (ipykernel)\",\n",
    "                language=\"python\",\n",
    "                name=\"python3\",\n",
    "            )\n",
    "        ),\n",
    "        cells=cell_list,\n",
    "    )\n",
    "    return nb\n"
   ]
  },
  {
   "cell_type": "markdown",
   "metadata": {},
   "source": [
    "#### markdown_cell"
   ]
  },
  {
   "cell_type": "code",
   "execution_count": null,
   "metadata": {},
   "outputs": [],
   "source": [
    "#| export\n",
    "def markdown_cell(text: str):\n",
    "    cell = Bunch(cell_type=\"markdown\", metadata={}, source=text.splitlines())\n",
    "    if len(cell.source[0].strip()) == 0:\n",
    "        cell.source = cell.source[1:]\n",
    "    cell.source = \"\\n\".join(cell.source)\n",
    "    return cell\n"
   ]
  },
  {
   "cell_type": "markdown",
   "metadata": {},
   "source": [
    "#### code_cell"
   ]
  },
  {
   "cell_type": "code",
   "execution_count": null,
   "metadata": {},
   "outputs": [],
   "source": [
    "#| export\n",
    "def code_cell(text: str):\n",
    "    cell = Bunch(\n",
    "        cell_type=\"code\",\n",
    "        execution_count=None,\n",
    "        metadata={},\n",
    "        outputs=[],\n",
    "        source=text.splitlines(),\n",
    "    )\n",
    "    if len(cell.source[0].strip()) == 0:\n",
    "        cell.source = cell.source[1:]\n",
    "    cell.source = \"\\n\".join(cell.source)\n",
    "    return cell"
   ]
  },
  {
   "cell_type": "markdown",
   "metadata": {},
   "source": [
    "#### Example usage"
   ]
  },
  {
   "cell_type": "code",
   "execution_count": null,
   "metadata": {},
   "outputs": [],
   "source": [
    "nb = make_nb_from_cell_list ([\n",
    "\n",
    "markdown_cell (\"\"\"\n",
    "## A minimal notebook\n",
    "\"\"\"),\n",
    "\n",
    "code_cell (\"\"\"\n",
    "%%function one_plus_one --test\n",
    "a=1+1\n",
    "print (a)\n",
    "\"\"\"),\n",
    "\n",
    "])\n",
    "\n",
    "assert nb == {'metadata': {'kernelspec': {'display_name': 'Python 3 (ipykernel)',\n",
    "   'language': 'python',\n",
    "   'name': 'python3'}},\n",
    " 'cells': [{'cell_type': 'markdown',\n",
    "   'metadata': {},\n",
    "   'source': '## A minimal notebook'},\n",
    "  {'cell_type': 'code',\n",
    "   'execution_count': None,\n",
    "   'metadata': {},\n",
    "   'outputs': [],\n",
    "   'source': '%%function one_plus_one --test\\na=1+1\\nprint (a)'}]}"
   ]
  },
  {
   "cell_type": "markdown",
   "metadata": {},
   "source": [
    "### prepare_tests"
   ]
  },
  {
   "cell_type": "code",
   "execution_count": null,
   "metadata": {},
   "outputs": [],
   "source": [
    "#| export\n",
    "def prepare_tests ():\n",
    "    pass"
   ]
  },
  {
   "cell_type": "markdown",
   "metadata": {},
   "source": [
    "## get_config"
   ]
  },
  {
   "cell_type": "code",
   "execution_count": null,
   "metadata": {},
   "outputs": [],
   "source": [
    "#| export\n",
    "def get_config (path: str=\"settings.ini\"):\n",
    "    config = ConfigParser(delimiters=['='])\n",
    "    config.read(path, encoding='utf-8')\n",
    "    cfg = config['DEFAULT']\n",
    "    cfg.config_path=Path (path).resolve()\n",
    "    return cfg"
   ]
  },
  {
   "cell_type": "markdown",
   "metadata": {},
   "source": [
    "### Example usage"
   ]
  },
  {
   "cell_type": "code",
   "execution_count": null,
   "metadata": {},
   "outputs": [],
   "source": [
    "cd_root ()\n",
    "\n",
    "cfg = get_config()\n",
    "\n",
    "print (cfg.config_path)"
   ]
  }
 ],
 "metadata": {
  "kernelspec": {
   "display_name": "python3",
   "language": "python",
   "name": "python3"
  }
 },
 "nbformat": 4,
 "nbformat_minor": 4
}
