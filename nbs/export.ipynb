{
 "cells": [
  {
   "cell_type": "markdown",
   "metadata": {},
   "source": [
    "# Export\n",
    "\n",
    "> Exporting to python module"
   ]
  },
  {
   "cell_type": "code",
   "execution_count": 1,
   "metadata": {},
   "outputs": [],
   "source": [
    "# | default_exp sync.export"
   ]
  },
  {
   "cell_type": "code",
   "execution_count": 2,
   "metadata": {},
   "outputs": [],
   "source": [
    "# |export\n",
    "# Standard\n",
    "import shlex\n",
    "import os\n",
    "import ast\n",
    "from pathlib import Path\n",
    "import logging\n",
    "import joblib\n",
    "import warnings\n",
    "from typing import List\n",
    "import argparse\n",
    "import sys\n",
    "\n",
    "# 3rd party\n",
    "from sklearn.utils import Bunch\n",
    "from nbdev.processors import Processor, NBProcessor\n",
    "from nbdev.export import nb_export\n",
    "from nbdev.sync import _update_mod, _mod_files\n",
    "from nbdev.doclinks import nbglob\n",
    "from execnb.shell import CaptureShell\n",
    "from execnb.nbio import new_nb, mk_cell, read_nb, write_nb, NbCell\n",
    "from fastcore.all import globtastic\n",
    "\n",
    "# nbmodular\n",
    "from nbmodular.core.utils import (\n",
    "    set_log_level,\n",
    "    get_config,\n",
    "    create_and_cd_to_new_root_folder,\n",
    ")\n",
    "from nbmodular.core.cell2func import CellProcessor"
   ]
  },
  {
   "cell_type": "code",
   "execution_count": 3,
   "metadata": {},
   "outputs": [],
   "source": [
    "# libraries used for tests\n",
    "# standard\n",
    "import shutil\n",
    "import os\n",
    "\n",
    "# ours\n",
    "from nbmodular.core.utils import cd_root\n",
    "from nbmodular.core.utils import make_nb_from_cell_list, markdown_cell, code_cell"
   ]
  },
  {
   "cell_type": "markdown",
   "metadata": {},
   "source": [
    "::: {.content-hidden}\n",
    "## obtain_function_name_and_test_flag\n",
    "::: "
   ]
  },
  {
   "cell_type": "code",
   "execution_count": 4,
   "metadata": {},
   "outputs": [],
   "source": [
    "# |export\n",
    "def obtain_function_name_and_test_flag(line, cell):\n",
    "    root = ast.parse(cell)\n",
    "    name = [x.name for x in ast.walk(root) if isinstance(x, ast.FunctionDef)]\n",
    "    argv = shlex.split(line, posix=(os.name == \"posix\"))[1:]\n",
    "    is_test = \"--test\" in argv\n",
    "\n",
    "    if len(name) > 0:\n",
    "        function_name = name[0]\n",
    "    else:\n",
    "        function_name = argv[0] if len(argv) > 0 else \"\"\n",
    "        if function_name.startswith(\"-\"):\n",
    "            function_name = \"\"\n",
    "\n",
    "    if function_name == \"\":\n",
    "        raise RuntimeError(\"Couldn't find function name.\")\n",
    "\n",
    "    return function_name, is_test"
   ]
  },
  {
   "cell_type": "markdown",
   "metadata": {},
   "source": [
    "### Example usage"
   ]
  },
  {
   "cell_type": "code",
   "execution_count": 5,
   "metadata": {},
   "outputs": [],
   "source": [
    "# first example: function name as part of function definition\n",
    "line = \"%%function\"\n",
    "source = \"def hello():\\n    print ('hello')\"\n",
    "name, is_test = obtain_function_name_and_test_flag(line, source)\n",
    "assert name == \"hello\" and not is_test\n",
    "\n",
    "# second example: with test flag\n",
    "line = \"%%function --test\"\n",
    "source = \"def hello():\\n    print ('hello')\"\n",
    "name, is_test = obtain_function_name_and_test_flag(line, source)\n",
    "assert name == \"hello\" and is_test\n",
    "\n",
    "# third example: function name as part of line magic\n",
    "line = \"%%function hello\"\n",
    "source = \"print ('hello')\"\n",
    "name, is_test = obtain_function_name_and_test_flag(line, source)\n",
    "assert name == \"hello\" and not is_test\n",
    "\n",
    "# fourth example: with test flag\n",
    "line = \"%%function hello --test\"\n",
    "source = \"print ('hello')\"\n",
    "name, is_test = obtain_function_name_and_test_flag(line, source)\n",
    "assert name == \"hello\" and is_test"
   ]
  },
  {
   "cell_type": "markdown",
   "metadata": {},
   "source": [
    "## transform_test_source_for_docs"
   ]
  },
  {
   "cell_type": "code",
   "execution_count": 6,
   "metadata": {},
   "outputs": [],
   "source": [
    "# |export\n",
    "def transform_test_source_for_docs(source: str, idx: int, tab_size: int) -> str:\n",
    "    \"\"\"Transforms cell code in order to be exported to test notebook.\n",
    "\n",
    "    The resulting test code doesn't have the function's signature, and has one\n",
    "    less level of indentation.\n",
    "\n",
    "    Parameters\n",
    "    ----------\n",
    "    source_lines : str\n",
    "        Original source code, in a single string.\n",
    "    idx : int\n",
    "        Index in the function's array of cells. The function can span across\n",
    "        multiple cells in the notebook, the first cell containing the function's\n",
    "        signature and possibly the initial part of the body, and the remaining cells\n",
    "        containing the remaining parts of the body.\n",
    "    tab_size : int\n",
    "        Number of spaces used for indentation.\n",
    "\n",
    "    Returns\n",
    "    -------\n",
    "    str\n",
    "        Resulting test code, without signature, and with one less level of indentation.\n",
    "    \"\"\"\n",
    "    start = 1 if idx == 0 else 0\n",
    "    source_lines = source.splitlines()\n",
    "    transformed_lines = []\n",
    "    for line in source_lines[start:]:\n",
    "        transformed_lines.append(\n",
    "            line[tab_size:] if line.startswith(\" \" * tab_size) else line\n",
    "        )\n",
    "    return \"\\n\".join(transformed_lines)"
   ]
  },
  {
   "cell_type": "markdown",
   "metadata": {},
   "source": [
    "### Example usage"
   ]
  },
  {
   "cell_type": "code",
   "execution_count": 7,
   "metadata": {},
   "outputs": [],
   "source": [
    "actual = transform_test_source_for_docs(\n",
    "    source=\"def one_plus_one():\\n    a=1+1\\n    print (a)\\n\",\n",
    "    idx=0,\n",
    "    tab_size=4,\n",
    ")\n",
    "expected = \"a=1+1\\nprint (a)\"\n",
    "assert actual == expected"
   ]
  },
  {
   "cell_type": "markdown",
   "metadata": {},
   "source": [
    "## set_paths_nb_processor"
   ]
  },
  {
   "cell_type": "markdown",
   "metadata": {},
   "source": [
    "### replace_folder_in_path"
   ]
  },
  {
   "cell_type": "code",
   "execution_count": 8,
   "metadata": {},
   "outputs": [],
   "source": [
    "# | export\n",
    "def replace_folder_in_path(\n",
    "    path: Path,\n",
    "    original_folder: str,\n",
    "    new_folder: str,\n",
    "):\n",
    "    if original_folder in path.parent.parts:\n",
    "        index = path.parent.parts.index(original_folder)\n",
    "        parts = (\n",
    "            path.parent.parts[:index] + (new_folder,) + path.parent.parts[index + 1 :]\n",
    "        )\n",
    "        new_path = Path().joinpath(*parts) / path.name\n",
    "    else:\n",
    "        new_path = path\n",
    "    return new_path"
   ]
  },
  {
   "cell_type": "markdown",
   "metadata": {},
   "source": [
    "#### Example usage"
   ]
  },
  {
   "cell_type": "code",
   "execution_count": 9,
   "metadata": {},
   "outputs": [],
   "source": [
    "assert replace_folder_in_path(\n",
    "    Path(\"/home/jaumeamllo/workspace/mine/nbmodular/test_data/nbm/test_nbs/nb.ipynb\"),\n",
    "    \"nbm\",\n",
    "    \"nbs\",\n",
    ") == Path(\"/home/jaumeamllo/workspace/mine/nbmodular/test_data/nbs/test_nbs/nb.ipynb\")"
   ]
  },
  {
   "cell_type": "markdown",
   "metadata": {},
   "source": [
    "### set_paths_nb_processor"
   ]
  },
  {
   "cell_type": "code",
   "execution_count": 10,
   "metadata": {},
   "outputs": [],
   "source": [
    "# | export\n",
    "def set_paths_nb_processor(\n",
    "    nb_processor,\n",
    "    path,\n",
    "):\n",
    "    nb_processor.path = Path(path)\n",
    "    nb_processor.file_name_without_extension = nb_processor.path.name[: -len(\".ipynb\")]\n",
    "\n",
    "    # import ipdb\n",
    "    # ipdb.set_trace()\n",
    "    config = get_config()\n",
    "    nb_processor.root_path = config.config_path.parent\n",
    "    nb_processor.nbs_path = config[\"nbs_path\"]\n",
    "    nb_processor.nbm_path = config[\"nbm_path\"]\n",
    "    nb_processor.lib_path = config[\"lib_path\"]\n",
    "\n",
    "    # In diagram: nbs/nb.ipynb\n",
    "    nb_processor.dest_nb_path = replace_folder_in_path(\n",
    "        nb_processor.path, nb_processor.nbm_path, nb_processor.nbs_path\n",
    "    )\n",
    "    nb_processor.dest_nb_path.parent.mkdir(parents=True, exist_ok=True)\n",
    "\n",
    "    # In diagram: nbs/test_nb.ipynb\n",
    "    nb_processor.test_dest_nb_path = (\n",
    "        nb_processor.dest_nb_path.parent\n",
    "        / f\"test_{nb_processor.file_name_without_extension}.ipynb\"\n",
    "    )\n",
    "    # In diagram: .nbs/nb.ipynb\n",
    "    nb_processor.tmp_nb_path = replace_folder_in_path(\n",
    "        nb_processor.path, nb_processor.nbm_path, \".nbs\"\n",
    "    )\n",
    "    nb_processor.tmp_nb_path.parent.mkdir(parents=True, exist_ok=True)\n",
    "\n",
    "    # step 2 (beginning) in diagram\n",
    "    # In diagram: .nbs/_nb.ipynb\n",
    "    nb_processor.duplicate_tmp_path = (\n",
    "        nb_processor.tmp_nb_path.parent / f\"_{nb_processor.tmp_nb_path.name}\"\n",
    "    )\n",
    "\n",
    "    # step 3 in diagram\n",
    "    # In diagram: .nbs/nb.ipynb\n",
    "    nb_processor.tmp_dest_nb_path = (\n",
    "        nb_processor.tmp_nb_path.parent / nb_processor.dest_nb_path.name\n",
    "    )\n",
    "    # In diagram: .nbs/test_nb.ipynb\n",
    "    nb_processor.tmp_test_dest_nb_path = (\n",
    "        nb_processor.tmp_nb_path.parent / nb_processor.test_dest_nb_path.name\n",
    "    )\n",
    "\n",
    "    # step 5 (beginning) in diagram\n",
    "    nb_processor.duplicate_dest_nb_path = (\n",
    "        nb_processor.dest_nb_path.parent / f\"_{nb_processor.dest_nb_path.name}\"\n",
    "    )\n",
    "\n",
    "    # python module paths\n",
    "    if nb_processor.nbm_path in nb_processor.path.parent.parts:\n",
    "        index = nb_processor.path.parent.parts.index(nb_processor.nbm_path)\n",
    "    else:\n",
    "        raise RuntimeError(f\"{nb_processor.nbm_path} not found in {nb_processor.path}\")\n",
    "    parent_parts = nb_processor.path.parent.parts[index + 1 :]\n",
    "    # module paths\n",
    "    nb_processor.dest_python_path = nb_processor.root_path / (\n",
    "        nb_processor.lib_path\n",
    "        + \"/\"\n",
    "        + \"/\".join(parent_parts)\n",
    "        + \"/\"\n",
    "        + nb_processor.file_name_without_extension\n",
    "        + \".py\"\n",
    "    )\n",
    "    nb_processor.dest_python_path.parent.mkdir(parents=True, exist_ok=True)\n",
    "    nb_processor.test_dest_python_path = nb_processor.root_path / (\n",
    "        nb_processor.lib_path\n",
    "        + \"/tests/\"\n",
    "        + \"/\".join(parent_parts)\n",
    "        + \"/\"\n",
    "        + \"test_\"\n",
    "        + nb_processor.file_name_without_extension\n",
    "        + \".py\"\n",
    "    )\n",
    "    nb_processor.test_dest_python_path.parent.mkdir(parents=True, exist_ok=True)\n",
    "    # to be used in default_exp cell (see NBExporter)\n",
    "    nb_processor.dest_module_path = (\n",
    "        \".\".join(parent_parts) + \".\" + nb_processor.file_name_without_extension\n",
    "    )\n",
    "    nb_processor.test_dest_module_path = (\n",
    "        \"tests.\"\n",
    "        + \".\".join(parent_parts)\n",
    "        + \".\"\n",
    "        + f\"test_{nb_processor.file_name_without_extension}\"\n",
    "    )"
   ]
  },
  {
   "cell_type": "markdown",
   "metadata": {},
   "source": [
    "#### Example usage"
   ]
  },
  {
   "cell_type": "markdown",
   "metadata": {},
   "source": [
    "##### Set up to run example"
   ]
  },
  {
   "cell_type": "code",
   "execution_count": 11,
   "metadata": {},
   "outputs": [],
   "source": [
    "# firt cd to where settings.ini is\n",
    "cd_root()\n",
    "\n",
    "current_root = os.getcwd()\n",
    "\n",
    "new_root = create_and_cd_to_new_root_folder(\"test_set_paths\")"
   ]
  },
  {
   "cell_type": "markdown",
   "metadata": {},
   "source": [
    "##### Example usage"
   ]
  },
  {
   "cell_type": "code",
   "execution_count": 12,
   "metadata": {},
   "outputs": [],
   "source": [
    "# dummy nb_processor\n",
    "nb_processor = Bunch()\n",
    "\n",
    "# example call\n",
    "set_paths_nb_processor(\n",
    "    nb_processor,\n",
    "    new_root / \"nbm/test_nbs/nb.ipynb\",\n",
    ")\n",
    "\n",
    "# check result\n",
    "actual = nb_processor\n",
    "expected = Bunch(\n",
    "    **{\n",
    "        \"path\": new_root / \"nbm/test_nbs/nb.ipynb\",\n",
    "        \"file_name_without_extension\": \"nb\",\n",
    "        \"root_path\": new_root,\n",
    "        \"nbs_path\": \"nbs\",\n",
    "        \"nbm_path\": \"nbm\",\n",
    "        \"lib_path\": \"nbmodular\",\n",
    "        \"dest_nb_path\": new_root / \"nbs/test_nbs/nb.ipynb\",\n",
    "        \"test_dest_nb_path\": new_root / \"nbs/test_nbs/test_nb.ipynb\",\n",
    "        \"tmp_nb_path\": new_root / \".nbs/test_nbs/nb.ipynb\",\n",
    "        \"duplicate_tmp_path\": new_root / \".nbs/test_nbs/_nb.ipynb\",\n",
    "        \"tmp_dest_nb_path\": new_root / \".nbs/test_nbs/nb.ipynb\",\n",
    "        \"tmp_test_dest_nb_path\": new_root / \".nbs/test_nbs/test_nb.ipynb\",\n",
    "        \"duplicate_dest_nb_path\": new_root / Path(\"nbs/test_nbs/_nb.ipynb\"),\n",
    "        \"dest_python_path\": new_root / Path(\"nbmodular/test_nbs/nb.py\"),\n",
    "        \"test_dest_python_path\": new_root / Path(\"nbmodular/tests/test_nbs/test_nb.py\"),\n",
    "        \"dest_module_path\": \"test_nbs.nb\",\n",
    "        \"test_dest_module_path\": \"tests.test_nbs.test_nb\",\n",
    "    }\n",
    ")"
   ]
  },
  {
   "cell_type": "markdown",
   "metadata": {},
   "source": [
    "##### Checks"
   ]
  },
  {
   "cell_type": "code",
   "execution_count": 13,
   "metadata": {},
   "outputs": [],
   "source": [
    "assert actual == expected\n",
    "new_folders = [\n",
    "    Path(\"/home/jaumeamllo/workspace/mine/nbmodular/test_set_paths/.nbs\"),\n",
    "    Path(\"/home/jaumeamllo/workspace/mine/nbmodular/test_set_paths/nbmodular\"),\n",
    "    Path(\"/home/jaumeamllo/workspace/mine/nbmodular/test_set_paths/nbs\"),\n",
    "]\n",
    "new_file = Path(\"/home/jaumeamllo/workspace/mine/nbmodular/test_set_paths/settings.ini\")\n",
    "\n",
    "assert new_file.exists() and new_file.is_file()\n",
    "for new_folder in new_folders:\n",
    "    assert new_folder.exists() and new_folder.is_dir()\n",
    "os.chdir(current_root)\n",
    "shutil.rmtree(new_root)"
   ]
  },
  {
   "cell_type": "markdown",
   "metadata": {},
   "source": [
    "## NbMagicProcessor"
   ]
  },
  {
   "cell_type": "code",
   "execution_count": 14,
   "metadata": {},
   "outputs": [],
   "source": [
    "# | export\n",
    "class NbMagicProcessor(Processor):\n",
    "    def __init__(\n",
    "        self,\n",
    "        path,\n",
    "        nb=None,\n",
    "        logger=None,\n",
    "        log_level=\"INFO\",\n",
    "    ):\n",
    "        nb = read_nb(path) if nb is None else nb\n",
    "        super().__init__(nb)\n",
    "        self.logger = logging.getLogger(\"nb_exporter\") if logger is None else logger\n",
    "        set_log_level(self.logger, log_level)\n",
    "        self.logger.info(f\"Analyzing code from notebook {path}\")\n",
    "        self.cell_processor = CellProcessor(path=path)\n",
    "        self.cell_processor.set_run_tests(False)\n",
    "\n",
    "    def cell(self, cell):\n",
    "        source_lines = cell.source.splitlines() if cell.cell_type == \"code\" else []\n",
    "        if len(source_lines) > 0 and source_lines[0].strip().startswith(\"%%\"):\n",
    "            line = source_lines[0]\n",
    "            words = line.split()\n",
    "            command = words[0][2:]\n",
    "            if command in self.cell_processor.magic_commands_list:\n",
    "                self.cell_processor.process_function_call(\n",
    "                    line=\" \".join(words[1:]),\n",
    "                    cell=\"\\n\".join(source_lines[1:]) if len(source_lines) > 1 else \"\",\n",
    "                    add_call=True,\n",
    "                    is_class=command == \"class\",\n",
    "                )"
   ]
  },
  {
   "cell_type": "markdown",
   "metadata": {},
   "source": [
    "### Usage example"
   ]
  },
  {
   "cell_type": "markdown",
   "metadata": {},
   "source": [
    "#### Set up before running example"
   ]
  },
  {
   "cell_type": "code",
   "execution_count": 15,
   "metadata": {},
   "outputs": [],
   "source": [
    "nb = make_nb_from_cell_list(\n",
    "    [\n",
    "        markdown_cell(\n",
    "            \"\"\"\n",
    "## A minimal notebook\n",
    "\"\"\"\n",
    "        ),\n",
    "        code_cell(\n",
    "            \"\"\"\n",
    "%%function test_one_plus_one --test\n",
    "a=1+1\n",
    "print (a)\n",
    "\"\"\"\n",
    "        ),\n",
    "    ]\n",
    ")"
   ]
  },
  {
   "cell_type": "markdown",
   "metadata": {},
   "source": [
    "#### Example usage"
   ]
  },
  {
   "cell_type": "code",
   "execution_count": 16,
   "metadata": {},
   "outputs": [
    {
     "name": "stderr",
     "output_type": "stream",
     "text": [
      "Analyzing code from notebook no_nb\n"
     ]
    },
    {
     "name": "stderr",
     "output_type": "stream",
     "text": [
      "changing global run flag to False\n"
     ]
    }
   ],
   "source": [
    "# Run example\n",
    "path = \"no_nb\"\n",
    "nb_magic_processor = NbMagicProcessor(\n",
    "    path=path,\n",
    "    nb=nb,\n",
    ")\n",
    "NBProcessor(path, nb_magic_processor, rm_directives=False, nb=nb).process()"
   ]
  },
  {
   "cell_type": "markdown",
   "metadata": {},
   "source": [
    "#### Checks"
   ]
  },
  {
   "cell_type": "code",
   "execution_count": 17,
   "metadata": {},
   "outputs": [],
   "source": [
    "# Check\n",
    "assert list(nb_magic_processor.cell_processor.test_function_info.keys()) == [\n",
    "    \"test_one_plus_one\"\n",
    "]\n",
    "assert len(nb_magic_processor.cell_processor.test_function_list) == 1\n",
    "assert len(nb_magic_processor.cell_processor.function_list) == 0\n",
    "assert nb_magic_processor.cell_processor.test_function_info[\n",
    "    \"test_one_plus_one\"\n",
    "].created_variables == [\"a\"]\n",
    "assert (\n",
    "    nb_magic_processor.cell_processor.test_function_info[\"test_one_plus_one\"].a is None\n",
    ")"
   ]
  },
  {
   "cell_type": "markdown",
   "metadata": {},
   "source": [
    "## NbMagicExporter"
   ]
  },
  {
   "cell_type": "code",
   "execution_count": 18,
   "metadata": {},
   "outputs": [],
   "source": [
    "# | export\n",
    "class NbMagicExporter(Processor):\n",
    "    def __init__(\n",
    "        self,\n",
    "        path,\n",
    "        nb=None,\n",
    "        code_cells_file_name=None,\n",
    "        code_cells_path=\".nbmodular\",\n",
    "        execute=True,\n",
    "        logger=None,\n",
    "        log_level=\"INFO\",\n",
    "        tab_size=4,\n",
    "    ):\n",
    "        nb = read_nb(path) if nb is None else nb\n",
    "        super().__init__(nb)\n",
    "        self.logger = logging.getLogger(\"nb_exporter\") if logger is None else logger\n",
    "        set_log_level(self.logger, log_level)\n",
    "        set_paths_nb_processor(self, path)\n",
    "        self.code_cells_path = Path(code_cells_path)\n",
    "        code_cells_file_name = (\n",
    "            self.file_name_without_extension\n",
    "            if code_cells_file_name is None\n",
    "            else code_cells_file_name\n",
    "        )\n",
    "\n",
    "        self.logger.info(f\"Analyzing code from notebook {self.path}\")\n",
    "        self.nb_magic_processor = NbMagicProcessor(\n",
    "            path, nb=nb, logger=logger, log_level=log_level\n",
    "        )\n",
    "        NBProcessor(path, self.nb_magic_processor, rm_directives=False, nb=nb).process()\n",
    "\n",
    "        self.function_names = {}\n",
    "        self.test_function_names = {}\n",
    "        self.cells = []\n",
    "        self.test_cells = []\n",
    "        self.doc_cells = []\n",
    "\n",
    "        self.default_exp_cell = mk_cell(f\"#|default_exp {self.dest_module_path}\")\n",
    "        self.default_test_exp_cell = mk_cell(\n",
    "            f\"#|default_exp {self.test_dest_module_path}\"\n",
    "        )\n",
    "\n",
    "        # list of types of cells, to be used by importer\n",
    "        # can be \"code\", \"test\", \"original\"\n",
    "        self.cell_types = []\n",
    "\n",
    "        # other\n",
    "        self.tab_size = tab_size\n",
    "\n",
    "    def cell(self, cell):\n",
    "        source_lines = cell.source.splitlines() if cell.cell_type == \"code\" else []\n",
    "        is_test = False\n",
    "        cell_type = \"original\"\n",
    "        if len(source_lines) > 0 and source_lines[0].strip().startswith(\"%%\"):\n",
    "            line = source_lines[0]\n",
    "            source = \"\\n\".join(source_lines[1:])\n",
    "            to_export = False\n",
    "            is_test = False\n",
    "            if line.startswith(\"%%function\") or line.startswith(\"%%method\"):\n",
    "                function_name, is_test = obtain_function_name_and_test_flag(\n",
    "                    line, source\n",
    "                )\n",
    "                function_names = (\n",
    "                    self.test_function_names if is_test else self.function_names\n",
    "                )\n",
    "                if function_name in function_names:\n",
    "                    function_names[function_name] += 1\n",
    "                else:\n",
    "                    function_names[function_name] = 0\n",
    "                idx = function_names[function_name]\n",
    "                self.logger.debug(f\"{function_name}, {idx}, is test: {is_test}\")\n",
    "                code_cells = (\n",
    "                    self.nb_magic_processor.cell_processor.test_code_cells\n",
    "                    if is_test\n",
    "                    else self.nb_magic_processor.cell_processor.code_cells\n",
    "                )\n",
    "                if function_name not in code_cells:\n",
    "                    raise RuntimeError(\n",
    "                        f\"Function {function_name} not found in code_cells dictionary with keys {code_cells.keys()}\"\n",
    "                    )\n",
    "                code_cells = code_cells[function_name]\n",
    "                if len(code_cells) <= idx:\n",
    "                    raise RuntimeError(\n",
    "                        f\"Function {function_name} has {len(code_cells)} cells, which is lower than index {idx}.\"\n",
    "                    )\n",
    "                code_cell = code_cells[idx]\n",
    "                self.logger.debug(\"code:\")\n",
    "                self.logger.debug(f\"{code_cell.code}valid: {code_cell.valid}\")\n",
    "                if code_cell.valid:\n",
    "                    source = code_cell.code\n",
    "                    to_export = True\n",
    "            elif line.startswith(\"%%include\") or line.startswith(\"%%class\"):\n",
    "                to_export = True\n",
    "            if to_export:\n",
    "                line = line.replace(\"%%\", \"#@@\")\n",
    "                code_source = line + \"\\n\" + source\n",
    "                code_source = \"#|export\\n\" + code_source\n",
    "                doc_source = (\n",
    "                    \"#|export\\n\" + source\n",
    "                )  # doc_source does not include first line with #@@\n",
    "                new_cell = NbCell(cell.idx_, cell)\n",
    "                new_cell[\"source\"] = code_source\n",
    "                if is_test:\n",
    "                    self.test_cells.append(new_cell)\n",
    "                    cell_type = \"test\"\n",
    "                else:\n",
    "                    self.cells.append(new_cell)\n",
    "                    cell_type = \"code\"\n",
    "            else:\n",
    "                doc_source = source  # doc_source does not include first line with %% (? to think about)\n",
    "            if is_test:\n",
    "                doc_source = transform_test_source_for_docs(\n",
    "                    code_cell.code, idx, self.tab_size\n",
    "                )\n",
    "            cell[\"source\"] = doc_source\n",
    "            self.doc_cells.append(cell)\n",
    "\n",
    "        self.cell_types.append(cell_type)\n",
    "\n",
    "    def end(self):\n",
    "        # store cell_types for later use by NBImporter\n",
    "        joblib.dump(self.cell_types, self.code_cells_path / \"cell_types.pk\")\n",
    "\n",
    "        write_nb(self.nb, self.tmp_nb_path)\n",
    "        self.nb.cells = self.cells\n",
    "        lib_path = Path(self.lib_path).absolute()\n",
    "        if len(self.cells) > 0:\n",
    "            self.nb.cells = [self.default_exp_cell] + self.cells\n",
    "            write_nb(self.nb, self.dest_nb_path)\n",
    "            nb_export(self.dest_nb_path, lib_path=lib_path)\n",
    "        if len(self.test_cells) > 0:\n",
    "            self.nb.cells = [self.default_test_exp_cell] + self.test_cells\n",
    "            write_nb(self.nb, self.test_dest_nb_path)\n",
    "            nb_export(self.test_dest_nb_path, lib_path=lib_path)\n",
    "\n",
    "        # step 2 (beginning) in diagram\n",
    "        self.tmp_nb_path.rename(self.duplicate_tmp_path)\n",
    "\n",
    "        # step 3 in diagram\n",
    "        self.dest_nb_path.rename(self.tmp_dest_nb_path)\n",
    "        self.test_dest_nb_path.rename(self.tmp_test_dest_nb_path)\n",
    "\n",
    "        # step 2 (end) in diagram\n",
    "        self.duplicate_tmp_path.rename(self.dest_nb_path)"
   ]
  },
  {
   "cell_type": "markdown",
   "metadata": {},
   "source": [
    "## nbm_export"
   ]
  },
  {
   "cell_type": "code",
   "execution_count": 19,
   "metadata": {},
   "outputs": [],
   "source": [
    "# | export\n",
    "def nbm_export(\n",
    "    path,\n",
    "    **kwargs,\n",
    "):\n",
    "    path = Path(path)\n",
    "    nb = read_nb(path)\n",
    "    processor = NbMagicExporter(\n",
    "        path,\n",
    "        nb=nb,\n",
    "        **kwargs,\n",
    "    )\n",
    "    NBProcessor(path, processor, rm_directives=False, nb=nb).process()"
   ]
  },
  {
   "cell_type": "markdown",
   "metadata": {},
   "source": [
    "### Example usage"
   ]
  },
  {
   "cell_type": "markdown",
   "metadata": {},
   "source": [
    "#### Set up before running example"
   ]
  },
  {
   "cell_type": "code",
   "execution_count": 20,
   "metadata": {},
   "outputs": [],
   "source": [
    "def clean_nbm_export_test():\n",
    "    shutil.rmtree(\".nbs\", ignore_errors=True)\n",
    "    if os.path.exists(\"nbs/test_nbs/test_export.ipynb\"):\n",
    "        shutil.move(\"nbs/test_nbs/test_export.ipynb\", \"nbs/test_export2.ipynb\")\n",
    "        shutil.rmtree(\"nbs/test_nbs\", ignore_errors=True)\n",
    "        os.makedirs(\"nbs/test_nbs\")\n",
    "        shutil.move(\"nbs/test_export2.ipynb\", \"nbs/test_nbs/test_export.ipynb\")\n",
    "    else:\n",
    "        shutil.rmtree(\"nbs/test_nbs\", ignore_errors=True)\n",
    "        os.makedirs(\"nbs/test_nbs\")\n",
    "    shutil.rmtree(\"nbmodular/test_nbs\", ignore_errors=True)\n",
    "    shutil.rmtree(\"nbmodular/tests\", ignore_errors=True)"
   ]
  },
  {
   "cell_type": "code",
   "execution_count": 21,
   "metadata": {},
   "outputs": [],
   "source": [
    "cd_root()\n",
    "clean_nbm_export_test()"
   ]
  },
  {
   "cell_type": "markdown",
   "metadata": {},
   "source": [
    "#### Example usage"
   ]
  },
  {
   "cell_type": "code",
   "execution_count": 22,
   "metadata": {},
   "outputs": [
    {
     "name": "stderr",
     "output_type": "stream",
     "text": [
      "Analyzing code from notebook nbm/test_nbs/nb.ipynb\n",
      "Analyzing code from notebook nbm/test_nbs/nb.ipynb\n",
      "Analyzing code from notebook nbm/test_nbs/nb.ipynb\n",
      "Analyzing code from notebook nbm/test_nbs/nb.ipynb\n",
      "Analyzing code from notebook nbm/test_nbs/nb.ipynb\n",
      "changing global run flag to False\n",
      "changing global run flag to False\n",
      "/home/jaumeamllo/workspace/mine/nbmodular/nbmodular/core/cell2func.py:2241: UserWarning: Function  has flag --test on, but doesn't start with 'test_'.\n",
      "  warnings.warn(\n"
     ]
    }
   ],
   "source": [
    "nbm_export(path=\"nbm/test_nbs/nb.ipynb\")"
   ]
  },
  {
   "cell_type": "markdown",
   "metadata": {},
   "source": [
    "#### checks"
   ]
  },
  {
   "cell_type": "code",
   "execution_count": 23,
   "metadata": {},
   "outputs": [],
   "source": [
    "nb_paths = [\n",
    "    Path(\"nbs/test_nbs/nb.ipynb\"),\n",
    "    Path(\".nbs/test_nbs/nb.ipynb\"),\n",
    "    Path(\".nbs/test_nbs/test_nb.ipynb\"),\n",
    "]\n",
    "py_paths = [\n",
    "    Path(\"nbmodular/test_nbs/nb.py\"),\n",
    "    Path(\"nbmodular/tests/test_nbs/test_nb.py\"),\n",
    "]"
   ]
  },
  {
   "cell_type": "code",
   "execution_count": 24,
   "metadata": {},
   "outputs": [],
   "source": [
    "nbs = []\n",
    "for nb_path in nb_paths:\n",
    "    assert nb_path.exists()\n",
    "    nbs.append(read_nb(nb_path))\n",
    "assert [[c[\"source\"] for c in nb.cells] for nb in nbs] == [\n",
    "    [\"#|export\\ndef first():\\n    pass\\n\", \"comment\", \"pass\"],\n",
    "    [\"#|default_exp test_nbs.nb\", \"#|export\\n#@@function\\ndef first():\\n    pass\\n\"],\n",
    "    [\n",
    "        \"#|default_exp tests.test_nbs.test_nb\",\n",
    "        \"#|export\\n#@@function --test\\ndef second():\\n    pass\\n\",\n",
    "    ],\n",
    "]"
   ]
  },
  {
   "cell_type": "code",
   "execution_count": 25,
   "metadata": {},
   "outputs": [],
   "source": [
    "pymods = []\n",
    "for py_path in py_paths:\n",
    "    assert py_path.exists()\n",
    "    pymods.append(open(py_path, \"rt\").read())\n",
    "\n",
    "assert pymods == [\n",
    "    \"\\n\\n# %% auto 0\\n__all__ = ['first']\\n\\n# %% ../../nbs/test_nbs/nb.ipynb 1\\n#@@function\\ndef first():\\n    pass\\n\\n\",\n",
    "    \"\\n\\n# %% auto 0\\n__all__ = ['second']\\n\\n# %% ../../../nbs/test_nbs/test_nb.ipynb 1\\n#@@function --test\\ndef second():\\n    pass\\n\\n\",\n",
    "]"
   ]
  },
  {
   "cell_type": "code",
   "execution_count": 26,
   "metadata": {},
   "outputs": [],
   "source": [
    "## clean\n",
    "clean_nbm_export_test()"
   ]
  },
  {
   "cell_type": "markdown",
   "metadata": {},
   "source": [
    "## nbm_export_cli"
   ]
  },
  {
   "cell_type": "code",
   "execution_count": 27,
   "metadata": {},
   "outputs": [],
   "source": [
    "# | export\n",
    "def nbm_export_all_paths(path):\n",
    "    files = nbglob(path=path, as_path=True).sorted(\"name\")\n",
    "    for f in files:\n",
    "        nbm_export(f)\n",
    "\n",
    "\n",
    "def parse_argv_and_run_nbm_export_all_paths(argv: List[str]):\n",
    "    parser = argparse.ArgumentParser(\n",
    "        description=\"Export notebooks to their corresponding python modules.\"\n",
    "    )\n",
    "    parser.add_argument(\"--path\", type=str, default=None, help=\"Path to notebook\")\n",
    "    args = parser.parse_args(argv)\n",
    "    nbm_export_all_paths(args.path)\n",
    "\n",
    "\n",
    "def nbm_export_cli():\n",
    "    parse_argv_and_run_nbm_export_all_paths(sys.argv)"
   ]
  },
  {
   "cell_type": "markdown",
   "metadata": {},
   "source": [
    "### Example usage"
   ]
  },
  {
   "cell_type": "markdown",
   "metadata": {},
   "source": [
    "#### Example set-up"
   ]
  },
  {
   "cell_type": "code",
   "execution_count": 28,
   "metadata": {},
   "outputs": [],
   "source": [
    "# we start from the root folder of our repo\n",
    "cd_root()\n",
    "\n",
    "current_root = os.getcwd()\n",
    "\n",
    "# then define a folder inside as the new root folder.\n",
    "# We will move to it before running our example\n",
    "new_root = \"test_nbm_export_cli\"\n",
    "\n",
    "# ******************************************************\n",
    "# Create two notebooks\n",
    "# ******************************************************\n",
    "\n",
    "# ------------------------------------\n",
    "# first notebook\n",
    "nb = make_nb_from_cell_list(\n",
    "    [\n",
    "        markdown_cell(\n",
    "            \"\"\"\n",
    "## First notebook\n",
    "\"\"\"\n",
    "        ),\n",
    "        code_cell(\n",
    "            \"\"\"\n",
    "%%function hello\n",
    "print ('hello')\n",
    "\"\"\"\n",
    "        ),\n",
    "        code_cell(\n",
    "            \"\"\"\n",
    "%%function one_plus_one --test\n",
    "a=1+1\n",
    "print (a)\n",
    "\"\"\"\n",
    "        ),\n",
    "    ]\n",
    ")\n",
    "\n",
    "nb_path = Path(new_root) / \"nbm\" / \"first_folder\" / \"first.ipynb\"\n",
    "nb_path.parent.mkdir(parents=True, exist_ok=True)\n",
    "write_nb(nb, nb_path)\n",
    "\n",
    "# ------------------------------------\n",
    "# second notebook\n",
    "nb = make_nb_from_cell_list(\n",
    "    [\n",
    "        markdown_cell(\n",
    "            \"\"\"\n",
    "## Second notebook\n",
    "\"\"\"\n",
    "        ),\n",
    "        code_cell(\n",
    "            \"\"\"\n",
    "%%function bye\n",
    "print ('bye')\n",
    "\"\"\"\n",
    "        ),\n",
    "        code_cell(\n",
    "            \"\"\"\n",
    "%%function two_plus_two --test\n",
    "a=2+2\n",
    "print (a)\n",
    "\"\"\"\n",
    "        ),\n",
    "    ]\n",
    ")\n",
    "\n",
    "nb_path = Path(new_root) / \"nbm\" / \"second_folder\" / \"second.ipynb\"\n",
    "nb_path.parent.mkdir(parents=True, exist_ok=True)\n",
    "write_nb(nb, nb_path)\n",
    "\n",
    "# ******************************************************\n",
    "# final set-up\n",
    "# ******************************************************\n",
    "# copy settings.ini in new folder => this will\n",
    "# be read by our get_config utility\n",
    "shutil.copy(\"settings.ini\", new_root)\n",
    "\n",
    "# move to our new root folder\n",
    "os.chdir(new_root)"
   ]
  },
  {
   "cell_type": "markdown",
   "metadata": {},
   "source": [
    "#### Example usage"
   ]
  },
  {
   "cell_type": "code",
   "execution_count": 29,
   "metadata": {},
   "outputs": [
    {
     "name": "stderr",
     "output_type": "stream",
     "text": [
      "Analyzing code from notebook /home/jaumeamllo/workspace/mine/nbmodular/test_nbm_export_cli/nbm/first_folder/first.ipynb\n",
      "Analyzing code from notebook /home/jaumeamllo/workspace/mine/nbmodular/test_nbm_export_cli/nbm/first_folder/first.ipynb\n",
      "Analyzing code from notebook /home/jaumeamllo/workspace/mine/nbmodular/test_nbm_export_cli/nbm/first_folder/first.ipynb\n",
      "Analyzing code from notebook /home/jaumeamllo/workspace/mine/nbmodular/test_nbm_export_cli/nbm/first_folder/first.ipynb\n",
      "Analyzing code from notebook /home/jaumeamllo/workspace/mine/nbmodular/test_nbm_export_cli/nbm/first_folder/first.ipynb\n",
      "Analyzing code from notebook /home/jaumeamllo/workspace/mine/nbmodular/test_nbm_export_cli/nbm/first_folder/first.ipynb\n",
      "Analyzing code from notebook /home/jaumeamllo/workspace/mine/nbmodular/test_nbm_export_cli/nbm/first_folder/first.ipynb\n",
      "Analyzing code from notebook /home/jaumeamllo/workspace/mine/nbmodular/test_nbm_export_cli/nbm/first_folder/first.ipynb\n"
     ]
    },
    {
     "name": "stderr",
     "output_type": "stream",
     "text": [
      "Analyzing code from notebook /home/jaumeamllo/workspace/mine/nbmodular/test_nbm_export_cli/nbm/first_folder/first.ipynb\n",
      "changing global run flag to False\n",
      "changing global run flag to False\n",
      "changing global run flag to False\n",
      "/home/jaumeamllo/workspace/mine/nbmodular/nbmodular/core/cell2func.py:2241: UserWarning: Function one_plus_one has flag --test on, but doesn't start with 'test_'.\n",
      "  warnings.warn(\n",
      "Analyzing code from notebook /home/jaumeamllo/workspace/mine/nbmodular/test_nbm_export_cli/nbm/second_folder/second.ipynb\n",
      "Analyzing code from notebook /home/jaumeamllo/workspace/mine/nbmodular/test_nbm_export_cli/nbm/second_folder/second.ipynb\n",
      "Analyzing code from notebook /home/jaumeamllo/workspace/mine/nbmodular/test_nbm_export_cli/nbm/second_folder/second.ipynb\n",
      "Analyzing code from notebook /home/jaumeamllo/workspace/mine/nbmodular/test_nbm_export_cli/nbm/second_folder/second.ipynb\n",
      "Analyzing code from notebook /home/jaumeamllo/workspace/mine/nbmodular/test_nbm_export_cli/nbm/second_folder/second.ipynb\n",
      "Analyzing code from notebook /home/jaumeamllo/workspace/mine/nbmodular/test_nbm_export_cli/nbm/second_folder/second.ipynb\n",
      "Analyzing code from notebook /home/jaumeamllo/workspace/mine/nbmodular/test_nbm_export_cli/nbm/second_folder/second.ipynb\n",
      "Analyzing code from notebook /home/jaumeamllo/workspace/mine/nbmodular/test_nbm_export_cli/nbm/second_folder/second.ipynb\n",
      "Analyzing code from notebook /home/jaumeamllo/workspace/mine/nbmodular/test_nbm_export_cli/nbm/second_folder/second.ipynb\n",
      "Analyzing code from notebook /home/jaumeamllo/workspace/mine/nbmodular/test_nbm_export_cli/nbm/second_folder/second.ipynb\n",
      "Analyzing code from notebook /home/jaumeamllo/workspace/mine/nbmodular/test_nbm_export_cli/nbm/second_folder/second.ipynb\n",
      "Analyzing code from notebook /home/jaumeamllo/workspace/mine/nbmodular/test_nbm_export_cli/nbm/second_folder/second.ipynb\n",
      "Analyzing code from notebook /home/jaumeamllo/workspace/mine/nbmodular/test_nbm_export_cli/nbm/second_folder/second.ipynb\n",
      "changing global run flag to False\n",
      "changing global run flag to False\n"
     ]
    },
    {
     "name": "stdout",
     "output_type": "stream",
     "text": [
      "hello\n"
     ]
    },
    {
     "name": "stderr",
     "output_type": "stream",
     "text": [
      "changing global run flag to False\n",
      "changing global run flag to False\n",
      "/home/jaumeamllo/workspace/mine/nbmodular/nbmodular/core/cell2func.py:2241: UserWarning: Function two_plus_two has flag --test on, but doesn't start with 'test_'.\n",
      "  warnings.warn(\n"
     ]
    },
    {
     "name": "stdout",
     "output_type": "stream",
     "text": [
      "bye\n"
     ]
    }
   ],
   "source": [
    "parse_argv_and_run_nbm_export_all_paths([\"--path\", os.getcwd()])"
   ]
  },
  {
   "cell_type": "markdown",
   "metadata": {},
   "source": [
    "#### Checks & Cleaning"
   ]
  },
  {
   "cell_type": "code",
   "execution_count": null,
   "metadata": {},
   "outputs": [],
   "source": [
    "nb_paths = [\n",
    "    Path(f\"{new_root}/nbm/first_folder/first.ipynb\"),\n",
    "    Path(f\"{new_root}/nbm/second_folder/second.ipynb\"),\n",
    "    Path(f\"{new_root}/.nbs/first_folder/first.ipynb\"),\n",
    "    Path(f\"{new_root}/.nbs/first_folder/test_first.ipynb\"),\n",
    "    Path(f\"{new_root}/.nbs/second_folder/second.ipynb\"),\n",
    "    Path(f\"{new_root}/.nbs/second_folder/test_second.ipynb\"),\n",
    "    Path(f\"{new_root}/nbs/first_folder/first.ipynb\"),\n",
    "    Path(f\"{new_root}/nbs/second_folder/second.ipynb\"),\n",
    "]\n",
    "py_paths = [\n",
    "    Path(f\"{new_root}/nbmodular/first_folder/first.py\"),\n",
    "    Path(f\"{new_root}/nbmodular/second_folder/second.py\"),\n",
    "    Path(f\"{new_root}/nbmodular/tests/first_folder/test_first.py\"),\n",
    "    Path(f\"{new_root}/nbmodular/tests/second_folder/test_second.py\"),\n",
    "]\n",
    "nbs = []\n",
    "for nb_path in nb_paths:\n",
    "    assert nb_path.exists()\n",
    "    nbs.append(read_nb(nb_path))\n",
    "\n",
    "assert [[c[\"source\"] for c in nb.cells] for nb in nbs] == [\n",
    "    [\n",
    "        \"## First notebook\",\n",
    "        \"%%function hello\\nprint ('hello')\",\n",
    "        \"%%function one_plus_one --test\\na=1+1\\nprint (a)\",\n",
    "    ],\n",
    "    [\n",
    "        \"## Second notebook\",\n",
    "        \"%%function bye\\nprint ('bye')\",\n",
    "        \"%%function two_plus_two --test\\na=2+2\\nprint (a)\",\n",
    "    ],\n",
    "    [\n",
    "        \"#|default_exp first_folder.first\",\n",
    "        \"#|export\\n#@@function hello\\ndef hello():\\n    print ('hello')\\n\",\n",
    "    ],\n",
    "    [\n",
    "        \"#|default_exp tests.first_folder.test_first\",\n",
    "        \"#|export\\n#@@function one_plus_one --test\\ndef one_plus_one():\\n    a=1+1\\n    print (a)\\n\",\n",
    "    ],\n",
    "    [\n",
    "        \"#|default_exp second_folder.second\",\n",
    "        \"#|export\\n#@@function bye\\ndef bye():\\n    print ('bye')\\n\",\n",
    "    ],\n",
    "    [\n",
    "        \"#|default_exp tests.second_folder.test_second\",\n",
    "        \"#|export\\n#@@function two_plus_two --test\\ndef two_plus_two():\\n    a=2+2\\n    print (a)\\n\",\n",
    "    ],\n",
    "    [\n",
    "        \"## First notebook\",\n",
    "        \"#|export\\ndef hello():\\n    print ('hello')\\n\",\n",
    "        \"a=1+1\\nprint (a)\",\n",
    "    ],\n",
    "    [\n",
    "        \"## Second notebook\",\n",
    "        \"#|export\\ndef bye():\\n    print ('bye')\\n\",\n",
    "        \"a=2+2\\nprint (a)\",\n",
    "    ],\n",
    "]\n",
    "pymods = []\n",
    "for py_path in py_paths:\n",
    "    assert py_path.exists()\n",
    "    pymods.append(open(py_path, \"rt\").read())\n",
    "\n",
    "\n",
    "assert pymods == [\n",
    "    \"\\n\\n# %% auto 0\\n__all__ = ['hello']\\n\\n# %% ../../nbs/first_folder/first.ipynb 1\\n#@@function hello\\ndef hello():\\n    print ('hello')\\n\\n\",\n",
    "    \"\\n\\n# %% auto 0\\n__all__ = ['bye']\\n\\n# %% ../../nbs/second_folder/second.ipynb 1\\n#@@function bye\\ndef bye():\\n    print ('bye')\\n\\n\",\n",
    "    \"\\n\\n# %% auto 0\\n__all__ = ['one_plus_one']\\n\\n# %% ../../../nbs/first_folder/test_first.ipynb 1\\n#@@function one_plus_one --test\\ndef one_plus_one():\\n    a=1+1\\n    print (a)\\n\\n\",\n",
    "    \"\\n\\n# %% auto 0\\n__all__ = ['two_plus_two']\\n\\n# %% ../../../nbs/second_folder/test_second.ipynb 1\\n#@@function two_plus_two --test\\ndef two_plus_two():\\n    a=2+2\\n    print (a)\\n\\n\",\n",
    "]"
   ]
  },
  {
   "cell_type": "code",
   "execution_count": 71,
   "metadata": {},
   "outputs": [],
   "source": [
    "# clean\n",
    "shutil.rmtree(new_root, ignore_errors=True)"
   ]
  },
  {
   "cell_type": "markdown",
   "metadata": {},
   "source": [
    "::: {.content-hidden}\n",
    "## process_cell_for_nbm_update\n",
    ":::"
   ]
  },
  {
   "cell_type": "code",
   "execution_count": null,
   "metadata": {},
   "outputs": [],
   "source": [
    "# |export\n",
    "def process_cell_for_nbm_update(cell: NbCell):\n",
    "    source_lines = cell.source.splitlines() if cell.cell_type == \"code\" else []\n",
    "    found_directive = False\n",
    "    found_magic = False\n",
    "    for line_number, line in enumerate(source_lines):\n",
    "        line = line.strip()\n",
    "        if len(line) > 0:\n",
    "            if found_directive:\n",
    "                if line.startswith(\"#@@\") or line.startswith(\"# @@\"):\n",
    "                    line = line[3:] if line.startswith(\"#@@\") else line[4:]\n",
    "                    words = line.split()\n",
    "                    if len(words) > 0 and words[0] not in [\n",
    "                        \"function\",\n",
    "                        \"method\",\n",
    "                        \"include\",\n",
    "                        \"class\",\n",
    "                    ]:\n",
    "                        warnings.warn(\n",
    "                            f\"Found #@@ with a word after that, and this word is not in ['function', 'method', 'include', 'class']\"\n",
    "                        )\n",
    "                    line = f\"{'%%'}{line}\"\n",
    "                    found_magic = True\n",
    "                    break\n",
    "            elif line.startswith(\"#|\"):\n",
    "                found_directive = True\n",
    "            else:\n",
    "                if found_directive:\n",
    "                    raise ValueError(\n",
    "                        \"Line with #@@, corresponding to magic line in notebook, not found after having found line with directive #|\"\n",
    "                    )\n",
    "                else:\n",
    "                    raise ValueError(\"Directive line not found at beginning of cell\")\n",
    "    if not found_magic:\n",
    "        raise ValueError(\"Magic line not found at beginning of cell\")\n",
    "    cell.source = \"\\n\".join([line] + source_lines[line_number + 1 :])"
   ]
  },
  {
   "cell_type": "markdown",
   "metadata": {},
   "source": [
    "## nbm_update"
   ]
  },
  {
   "cell_type": "code",
   "execution_count": null,
   "metadata": {},
   "outputs": [],
   "source": [
    "# | export\n",
    "def nbm_update(\n",
    "    path,\n",
    "    code_cells_path=\".nbmodular\",\n",
    "    logger=None,\n",
    "    log_level=\"INFO\",\n",
    "):\n",
    "    nb_processor = Bunch()\n",
    "    nb_processor.code_cells_path = Path(code_cells_path)\n",
    "\n",
    "    nb_processor.logger = logging.getLogger(\"nb_importer\") if logger is None else logger\n",
    "    set_log_level(nb_processor.logger, log_level)\n",
    "    set_paths_nb_processor(nb_processor, path)\n",
    "\n",
    "    # prior to step 5 in diagram:\n",
    "    # nbs/nb.ipynb => nbs/_nb.ipynb\n",
    "    nb_processor.dest_nb_path.rename(nb_processor.duplicate_dest_nb_path)\n",
    "\n",
    "    # step 5 in diagram:\n",
    "    # .nbs/nb.ipynb => nbs/nb.ipynb\n",
    "    nb_processor.tmp_dest_nb_path.rename(nb_processor.dest_nb_path)\n",
    "    # .nbs/test_nb.ipynb => nbs/test_nb.ipynb\n",
    "    nb_processor.tmp_test_dest_nb_path.rename(nb_processor.test_dest_nb_path)\n",
    "\n",
    "    # step 5 in diagram: nbdev_update\n",
    "    _update_mod(nb_processor.dest_python_path, lib_dir=nb_processor.lib_path.parent)\n",
    "    _update_mod(\n",
    "        nb_processor.test_dest_python_path, lib_dir=nb_processor.lib_path.parent\n",
    "    )\n",
    "\n",
    "    # obtain cell types and read them from notebooks\n",
    "    nb_processor.cell_types = joblib.load(\n",
    "        nb_processor.code_cells_path / \"cell_types.pk\"\n",
    "    )\n",
    "    original_nb = read_nb(path)\n",
    "    dest_nb = read_nb(nb_processor.dest_nb_path)\n",
    "    test_dest_nb = read_nb(nb_processor.test_dest_nb_path)\n",
    "    nb_processor.cells = []\n",
    "    code_idx, test_idx = 1, 1\n",
    "    for original_idx, cell_type in enumerate(nb_processor.cell_types):\n",
    "        cell = None\n",
    "        if cell_type == \"original\":\n",
    "            cell = original_nb.cells[original_idx]\n",
    "        elif cell_type == \"code\":\n",
    "            cell = dest_nb.cells[code_idx]\n",
    "            code_idx += 1\n",
    "        elif cell_type == \"test\":\n",
    "            cell = test_dest_nb.cells[test_idx]\n",
    "            test_idx += 1\n",
    "        if cell is not None:\n",
    "            if cell_type in [\"code\", \"test\"]:\n",
    "                process_cell_for_nbm_update(cell)\n",
    "            nb_processor.cells.append(cell)\n",
    "\n",
    "    original_nb.cells = nb_processor.cells\n",
    "    write_nb(original_nb, path)"
   ]
  },
  {
   "cell_type": "markdown",
   "metadata": {},
   "source": [
    "### Example usage"
   ]
  },
  {
   "cell_type": "markdown",
   "metadata": {},
   "source": [
    "#### Set up before running example"
   ]
  },
  {
   "cell_type": "code",
   "execution_count": null,
   "metadata": {},
   "outputs": [
    {
     "data": {
      "text/plain": [
       "'nbm/test_nbs/_nb.ipynb'"
      ]
     },
     "execution_count": null,
     "metadata": {},
     "output_type": "execute_result"
    }
   ],
   "source": [
    "os.makedirs(\"nbmodular/test_nbs\", exist_ok=True)\n",
    "os.makedirs(\"nbmodular/tests/test_nbs\", exist_ok=True)\n",
    "shutil.copy(\"test_data/nb.py\", \"nbmodular/test_nbs/nb.py\")\n",
    "shutil.copy(\"test_data/test_nb.py\", \"nbmodular/tests/test_nbs/test_nb.py\")\n",
    "shutil.copy(\"nbm/test_nbs/nb.ipynb\", \"nbm/test_nbs/_nb.ipynb\")"
   ]
  },
  {
   "cell_type": "markdown",
   "metadata": {},
   "source": [
    "#### Example usage"
   ]
  },
  {
   "cell_type": "code",
   "execution_count": null,
   "metadata": {},
   "outputs": [
    {
     "ename": "RuntimeError",
     "evalue": "nbm not found in no_nb",
     "output_type": "error",
     "traceback": [
      "\u001b[0;31m---------------------------------------------------------------------------\u001b[0m",
      "\u001b[0;31mRuntimeError\u001b[0m                              Traceback (most recent call last)",
      "Cell \u001b[0;32mIn[71], line 1\u001b[0m\n\u001b[0;32m----> 1\u001b[0m \u001b[43mnbm_update\u001b[49m\u001b[43m \u001b[49m\u001b[43m(\u001b[49m\u001b[43mpath\u001b[49m\u001b[43m)\u001b[49m\n",
      "Cell \u001b[0;32mIn[69], line 13\u001b[0m, in \u001b[0;36mnbm_update\u001b[0;34m(path, code_cells_path, logger, log_level)\u001b[0m\n\u001b[1;32m     11\u001b[0m nb_processor\u001b[38;5;241m.\u001b[39mlogger \u001b[38;5;241m=\u001b[39m logging\u001b[38;5;241m.\u001b[39mgetLogger(\u001b[38;5;124m\"\u001b[39m\u001b[38;5;124mnb_importer\u001b[39m\u001b[38;5;124m\"\u001b[39m) \u001b[38;5;28;01mif\u001b[39;00m logger \u001b[38;5;129;01mis\u001b[39;00m \u001b[38;5;28;01mNone\u001b[39;00m \u001b[38;5;28;01melse\u001b[39;00m logger\n\u001b[1;32m     12\u001b[0m set_log_level(nb_processor\u001b[38;5;241m.\u001b[39mlogger, log_level)\n\u001b[0;32m---> 13\u001b[0m \u001b[43mset_paths_nb_processor\u001b[49m\u001b[43m(\u001b[49m\u001b[43mnb_processor\u001b[49m\u001b[43m,\u001b[49m\u001b[43m \u001b[49m\u001b[43mpath\u001b[49m\u001b[43m)\u001b[49m\n\u001b[1;32m     15\u001b[0m \u001b[38;5;66;03m# prior to step 5 in diagram:\u001b[39;00m\n\u001b[1;32m     16\u001b[0m \u001b[38;5;66;03m# nbs/nb.ipynb => nbs/_nb.ipynb\u001b[39;00m\n\u001b[1;32m     17\u001b[0m nb_processor\u001b[38;5;241m.\u001b[39mdest_nb_path\u001b[38;5;241m.\u001b[39mrename(nb_processor\u001b[38;5;241m.\u001b[39mduplicate_dest_nb_path)\n",
      "Cell \u001b[0;32mIn[44], line 59\u001b[0m, in \u001b[0;36mset_paths_nb_processor\u001b[0;34m(nb_processor, path)\u001b[0m\n\u001b[1;32m     57\u001b[0m     index \u001b[38;5;241m=\u001b[39m nb_processor\u001b[38;5;241m.\u001b[39mpath\u001b[38;5;241m.\u001b[39mparent\u001b[38;5;241m.\u001b[39mparts\u001b[38;5;241m.\u001b[39mindex(nb_processor\u001b[38;5;241m.\u001b[39mnbm_path)\n\u001b[1;32m     58\u001b[0m \u001b[38;5;28;01melse\u001b[39;00m:\n\u001b[0;32m---> 59\u001b[0m     \u001b[38;5;28;01mraise\u001b[39;00m \u001b[38;5;167;01mRuntimeError\u001b[39;00m(\u001b[38;5;124mf\u001b[39m\u001b[38;5;124m\"\u001b[39m\u001b[38;5;132;01m{\u001b[39;00mnb_processor\u001b[38;5;241m.\u001b[39mnbm_path\u001b[38;5;132;01m}\u001b[39;00m\u001b[38;5;124m not found in \u001b[39m\u001b[38;5;132;01m{\u001b[39;00mnb_processor\u001b[38;5;241m.\u001b[39mpath\u001b[38;5;132;01m}\u001b[39;00m\u001b[38;5;124m\"\u001b[39m)\n\u001b[1;32m     60\u001b[0m parent_parts \u001b[38;5;241m=\u001b[39m nb_processor\u001b[38;5;241m.\u001b[39mpath\u001b[38;5;241m.\u001b[39mparent\u001b[38;5;241m.\u001b[39mparts[index \u001b[38;5;241m+\u001b[39m \u001b[38;5;241m1\u001b[39m :]\n\u001b[1;32m     61\u001b[0m \u001b[38;5;66;03m# module paths\u001b[39;00m\n",
      "\u001b[0;31mRuntimeError\u001b[0m: nbm not found in no_nb"
     ]
    }
   ],
   "source": [
    "nbm_update(path)"
   ]
  },
  {
   "cell_type": "markdown",
   "metadata": {},
   "source": [
    "#### Checks"
   ]
  },
  {
   "cell_type": "code",
   "execution_count": null,
   "metadata": {},
   "outputs": [],
   "source": [
    "[c[\"source\"] for c in read_nb(path).cells]\n",
    "assert [c[\"source\"] for c in read_nb(path).cells] == [\n",
    "    \"%%function\\ndef first():\\n    x = 3 + 1\",\n",
    "    \"comment\",\n",
    "    '%%function --test\\ndef second():\\n    print(\"hello\")',\n",
    "]"
   ]
  },
  {
   "cell_type": "code",
   "execution_count": null,
   "metadata": {},
   "outputs": [
    {
     "data": {
      "text/plain": [
       "'nbm/test_nbs/nb.ipynb'"
      ]
     },
     "execution_count": null,
     "metadata": {},
     "output_type": "execute_result"
    }
   ],
   "source": [
    "shutil.move(\"nbm/test_nbs/_nb.ipynb\", \"nbm/test_nbs/nb.ipynb\")"
   ]
  },
  {
   "cell_type": "markdown",
   "metadata": {},
   "source": [
    "## nbm_update_cli"
   ]
  },
  {
   "cell_type": "code",
   "execution_count": null,
   "metadata": {},
   "outputs": [],
   "source": [
    "# | export\n",
    "def nbm_update_all_paths(args):\n",
    "    files = nbglob(path=args.path, as_path=True).sorted(\"name\")\n",
    "    cfg = get_config()\n",
    "    path = Path(args.path or cfg.lib_path)\n",
    "    lib_dir = cfg.lib_path.parent\n",
    "    files = globtastic(path, file_glob=\"*.py\", skip_folder_re=\"^[_.]\").filter(\n",
    "        lambda x: str(Path(x).absolute().relative_to(lib_dir) in _mod_files())\n",
    "    )\n",
    "    files.map(nbm_update, lib_dir=lib_dir)\n",
    "\n",
    "\n",
    "def parse_argv_and_run_nbm_update_all_paths(argv: List[str]):\n",
    "    parser = argparse.ArgumentParser(\n",
    "        description=\"Udpdate python modules from their corresponding notebooks.\"\n",
    "    )\n",
    "\n",
    "    parser.add_argument(\"path\", type=str, default=None, help=\"Path to python module\")\n",
    "    args = parser.parse_args(argv)\n",
    "    nbm_update_all_paths(args.path)\n",
    "\n",
    "\n",
    "def nbm_update_cli():\n",
    "    parse_argv_and_run_nbm_update_all_paths(sys.argv)"
   ]
  },
  {
   "cell_type": "markdown",
   "metadata": {},
   "source": [
    "### Example usage"
   ]
  },
  {
   "cell_type": "markdown",
   "metadata": {},
   "source": [
    "#### Example set-up"
   ]
  },
  {
   "cell_type": "code",
   "execution_count": null,
   "metadata": {},
   "outputs": [],
   "source": [
    "# we start from the root folder of our repo\n",
    "cd_root()\n",
    "\n",
    "\n",
    "\n"
   ]
  },
  {
   "cell_type": "markdown",
   "metadata": {},
   "source": [
    "#### Example usage"
   ]
  },
  {
   "cell_type": "code",
   "execution_count": null,
   "metadata": {},
   "outputs": [
    {
     "name": "stderr",
     "output_type": "stream",
     "text": [
      "Analyzing code from notebook /home/jaumeamllo/workspace/mine/nbmodular/test_nbm_export_cli/nbm/first_folder/first.ipynb\n",
      "Analyzing code from notebook /home/jaumeamllo/workspace/mine/nbmodular/test_nbm_export_cli/nbm/first_folder/first.ipynb\n",
      "Analyzing code from notebook /home/jaumeamllo/workspace/mine/nbmodular/test_nbm_export_cli/nbm/first_folder/first.ipynb\n",
      "Analyzing code from notebook /home/jaumeamllo/workspace/mine/nbmodular/test_nbm_export_cli/nbm/first_folder/first.ipynb\n",
      "Analyzing code from notebook /home/jaumeamllo/workspace/mine/nbmodular/test_nbm_export_cli/nbm/first_folder/first.ipynb\n",
      "Analyzing code from notebook /home/jaumeamllo/workspace/mine/nbmodular/test_nbm_export_cli/nbm/first_folder/first.ipynb\n",
      "Analyzing code from notebook /home/jaumeamllo/workspace/mine/nbmodular/test_nbm_export_cli/nbm/first_folder/first.ipynb\n",
      "Analyzing code from notebook /home/jaumeamllo/workspace/mine/nbmodular/test_nbm_export_cli/nbm/first_folder/first.ipynb\n"
     ]
    },
    {
     "name": "stderr",
     "output_type": "stream",
     "text": [
      "Analyzing code from notebook /home/jaumeamllo/workspace/mine/nbmodular/test_nbm_export_cli/nbm/first_folder/first.ipynb\n",
      "changing global run flag to False\n",
      "changing global run flag to False\n",
      "changing global run flag to False\n",
      "/home/jaumeamllo/workspace/mine/nbmodular/nbmodular/core/cell2func.py:2241: UserWarning: Function one_plus_one has flag --test on, but doesn't start with 'test_'.\n",
      "  warnings.warn(\n",
      "Analyzing code from notebook /home/jaumeamllo/workspace/mine/nbmodular/test_nbm_export_cli/nbm/second_folder/second.ipynb\n",
      "Analyzing code from notebook /home/jaumeamllo/workspace/mine/nbmodular/test_nbm_export_cli/nbm/second_folder/second.ipynb\n",
      "Analyzing code from notebook /home/jaumeamllo/workspace/mine/nbmodular/test_nbm_export_cli/nbm/second_folder/second.ipynb\n",
      "Analyzing code from notebook /home/jaumeamllo/workspace/mine/nbmodular/test_nbm_export_cli/nbm/second_folder/second.ipynb\n",
      "Analyzing code from notebook /home/jaumeamllo/workspace/mine/nbmodular/test_nbm_export_cli/nbm/second_folder/second.ipynb\n",
      "Analyzing code from notebook /home/jaumeamllo/workspace/mine/nbmodular/test_nbm_export_cli/nbm/second_folder/second.ipynb\n",
      "Analyzing code from notebook /home/jaumeamllo/workspace/mine/nbmodular/test_nbm_export_cli/nbm/second_folder/second.ipynb\n",
      "Analyzing code from notebook /home/jaumeamllo/workspace/mine/nbmodular/test_nbm_export_cli/nbm/second_folder/second.ipynb\n",
      "Analyzing code from notebook /home/jaumeamllo/workspace/mine/nbmodular/test_nbm_export_cli/nbm/second_folder/second.ipynb\n",
      "Analyzing code from notebook /home/jaumeamllo/workspace/mine/nbmodular/test_nbm_export_cli/nbm/second_folder/second.ipynb\n",
      "Analyzing code from notebook /home/jaumeamllo/workspace/mine/nbmodular/test_nbm_export_cli/nbm/second_folder/second.ipynb\n",
      "Analyzing code from notebook /home/jaumeamllo/workspace/mine/nbmodular/test_nbm_export_cli/nbm/second_folder/second.ipynb\n",
      "Analyzing code from notebook /home/jaumeamllo/workspace/mine/nbmodular/test_nbm_export_cli/nbm/second_folder/second.ipynb\n",
      "changing global run flag to False\n",
      "changing global run flag to False\n"
     ]
    },
    {
     "name": "stdout",
     "output_type": "stream",
     "text": [
      "hello\n"
     ]
    },
    {
     "name": "stderr",
     "output_type": "stream",
     "text": [
      "changing global run flag to False\n",
      "changing global run flag to False\n",
      "/home/jaumeamllo/workspace/mine/nbmodular/nbmodular/core/cell2func.py:2241: UserWarning: Function two_plus_two has flag --test on, but doesn't start with 'test_'.\n",
      "  warnings.warn(\n"
     ]
    },
    {
     "name": "stdout",
     "output_type": "stream",
     "text": [
      "bye\n"
     ]
    }
   ],
   "source": [
    "parse_argv_and_run_nbm_export_all_paths([\"--path\", os.getcwd()])"
   ]
  },
  {
   "cell_type": "markdown",
   "metadata": {},
   "source": [
    "#### Checks & Cleaning"
   ]
  },
  {
   "cell_type": "code",
   "execution_count": null,
   "metadata": {},
   "outputs": [],
   "source": [
    "nb_paths = [\n",
    "    Path(f\"{new_root}/nbm/first_folder/first.ipynb\"),\n",
    "    Path(f\"{new_root}/nbm/second_folder/second.ipynb\"),\n",
    "    Path(f\"{new_root}/.nbs/first_folder/first.ipynb\"),\n",
    "    Path(f\"{new_root}/.nbs/first_folder/test_first.ipynb\"),\n",
    "    Path(f\"{new_root}/.nbs/second_folder/second.ipynb\"),\n",
    "    Path(f\"{new_root}/.nbs/second_folder/test_second.ipynb\"),\n",
    "    Path(f\"{new_root}/nbs/first_folder/first.ipynb\"),\n",
    "    Path(f\"{new_root}/nbs/second_folder/second.ipynb\"),\n",
    "]\n",
    "py_paths = [\n",
    "    Path(f\"{new_root}/nbmodular/first_folder/first.py\"),\n",
    "    Path(f\"{new_root}/nbmodular/second_folder/second.py\"),\n",
    "    Path(f\"{new_root}/nbmodular/tests/first_folder/test_first.py\"),\n",
    "    Path(f\"{new_root}/nbmodular/tests/second_folder/test_second.py\"),\n",
    "]\n",
    "nbs = []\n",
    "for nb_path in nb_paths:\n",
    "    assert nb_path.exists()\n",
    "    nbs.append(read_nb(nb_path))\n",
    "\n",
    "assert [[c[\"source\"] for c in nb.cells] for nb in nbs] == [\n",
    "    [\n",
    "        \"## First notebook\",\n",
    "        \"%%function hello\\nprint ('hello')\",\n",
    "        \"%%function one_plus_one --test\\na=1+1\\nprint (a)\",\n",
    "    ],\n",
    "    [\n",
    "        \"## Second notebook\",\n",
    "        \"%%function bye\\nprint ('bye')\",\n",
    "        \"%%function two_plus_two --test\\na=2+2\\nprint (a)\",\n",
    "    ],\n",
    "    [\n",
    "        \"#|default_exp first_folder.first\",\n",
    "        \"#|export\\n#@@function hello\\ndef hello():\\n    print ('hello')\\n\",\n",
    "    ],\n",
    "    [\n",
    "        \"#|default_exp tests.first_folder.test_first\",\n",
    "        \"#|export\\n#@@function one_plus_one --test\\ndef one_plus_one():\\n    a=1+1\\n    print (a)\\n\",\n",
    "    ],\n",
    "    [\n",
    "        \"#|default_exp second_folder.second\",\n",
    "        \"#|export\\n#@@function bye\\ndef bye():\\n    print ('bye')\\n\",\n",
    "    ],\n",
    "    [\n",
    "        \"#|default_exp tests.second_folder.test_second\",\n",
    "        \"#|export\\n#@@function two_plus_two --test\\ndef two_plus_two():\\n    a=2+2\\n    print (a)\\n\",\n",
    "    ],\n",
    "    [\n",
    "        \"## First notebook\",\n",
    "        \"#|export\\ndef hello():\\n    print ('hello')\\n\",\n",
    "        \"a=1+1\\nprint (a)\",\n",
    "    ],\n",
    "    [\n",
    "        \"## Second notebook\",\n",
    "        \"#|export\\ndef bye():\\n    print ('bye')\\n\",\n",
    "        \"a=2+2\\nprint (a)\",\n",
    "    ],\n",
    "]\n",
    "pymods = []\n",
    "for py_path in py_paths:\n",
    "    assert py_path.exists()\n",
    "    pymods.append(open(py_path, \"rt\").read())\n",
    "\n",
    "\n",
    "assert pymods == [\n",
    "    \"\\n\\n# %% auto 0\\n__all__ = ['hello']\\n\\n# %% ../../nbs/first_folder/first.ipynb 1\\n#@@function hello\\ndef hello():\\n    print ('hello')\\n\\n\",\n",
    "    \"\\n\\n# %% auto 0\\n__all__ = ['bye']\\n\\n# %% ../../nbs/second_folder/second.ipynb 1\\n#@@function bye\\ndef bye():\\n    print ('bye')\\n\\n\",\n",
    "    \"\\n\\n# %% auto 0\\n__all__ = ['one_plus_one']\\n\\n# %% ../../../nbs/first_folder/test_first.ipynb 1\\n#@@function one_plus_one --test\\ndef one_plus_one():\\n    a=1+1\\n    print (a)\\n\\n\",\n",
    "    \"\\n\\n# %% auto 0\\n__all__ = ['two_plus_two']\\n\\n# %% ../../../nbs/second_folder/test_second.ipynb 1\\n#@@function two_plus_two --test\\ndef two_plus_two():\\n    a=2+2\\n    print (a)\\n\\n\",\n",
    "]"
   ]
  },
  {
   "cell_type": "code",
   "execution_count": null,
   "metadata": {},
   "outputs": [],
   "source": [
    "# clean\n",
    "shutil.rmtree(new_root, ignore_errors=True)"
   ]
  }
 ],
 "metadata": {
  "kernelspec": {
   "display_name": "python3",
   "language": "python",
   "name": "python3"
  },
  "language_info": {
   "codemirror_mode": {
    "name": "ipython",
    "version": 3
   },
   "file_extension": ".py",
   "mimetype": "text/x-python",
   "name": "python",
   "nbconvert_exporter": "python",
   "pygments_lexer": "ipython3",
   "version": "3.10.9"
  }
 },
 "nbformat": 4,
 "nbformat_minor": 4
}
