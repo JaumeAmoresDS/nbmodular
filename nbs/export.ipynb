{
 "cells": [
  {
   "cell_type": "markdown",
   "metadata": {},
   "source": [
    "# Export\n",
    "\n",
    "> Exporting to python module"
   ]
  },
  {
   "cell_type": "code",
   "execution_count": 70,
   "metadata": {},
   "outputs": [],
   "source": [
    "#| default_exp sync.export"
   ]
  },
  {
   "cell_type": "code",
   "execution_count": 71,
   "metadata": {},
   "outputs": [],
   "source": [
    "#|export\n",
    "# Standard\n",
    "import shlex\n",
    "import os\n",
    "import ast\n",
    "from pathlib import Path\n",
    "import logging\n",
    "import joblib\n",
    "import warnings\n",
    "from typing import List\n",
    "import argparse\n",
    "import sys\n",
    "\n",
    "# 3rd party\n",
    "from sklearn.utils import Bunch\n",
    "from nbdev.processors import Processor, NBProcessor\n",
    "from nbdev.export import nb_export\n",
    "from nbdev.sync import _update_mod, _mod_files\n",
    "from nbdev.doclinks import nbglob\n",
    "from execnb.shell import CaptureShell\n",
    "from execnb.nbio import new_nb, mk_cell, read_nb, write_nb, NbCell\n",
    "from fastcore.all import globtastic\n",
    "\n",
    "# nbmodular\n",
    "from nbmodular.core.utils import set_log_level, get_config\n",
    "from nbmodular.core.cell2func import CellProcessor\n"
   ]
  },
  {
   "cell_type": "code",
   "execution_count": 72,
   "metadata": {},
   "outputs": [],
   "source": [
    "# libraries used for tests\n",
    "import shutil\n",
    "import os"
   ]
  },
  {
   "cell_type": "markdown",
   "metadata": {},
   "source": [
    "::: {.content-hidden}\n",
    "## obtain_function_name_and_test_flag\n",
    "::: "
   ]
  },
  {
   "cell_type": "code",
   "execution_count": 121,
   "metadata": {},
   "outputs": [],
   "source": [
    "#|export\n",
    "def obtain_function_name_and_test_flag(line, cell):\n",
    "    root = ast.parse(cell)\n",
    "    name = [x.name for x in ast.walk(root) if isinstance(x, ast.FunctionDef)]\n",
    "    argv = shlex.split(line, posix=(os.name == \"posix\"))[1:]\n",
    "    is_test = \"--test\" in argv\n",
    "\n",
    "    if len(name) > 0:\n",
    "        function_name = name[0]\n",
    "    else:\n",
    "        function_name = argv[0] if len(argv) > 0 else \"\"\n",
    "        if function_name.startswith(\"-\"):\n",
    "            function_name = \"\"\n",
    "\n",
    "    if function_name == \"\":\n",
    "        raise RuntimeError(\"Couldn't find function name.\")\n",
    "\n",
    "    return function_name, is_test\n"
   ]
  },
  {
   "cell_type": "markdown",
   "metadata": {},
   "source": [
    "### Example usage"
   ]
  },
  {
   "cell_type": "code",
   "execution_count": 123,
   "metadata": {},
   "outputs": [],
   "source": [
    "# first example: function name as part of function definition\n",
    "line = \"%%function\"\n",
    "source = \"def hello():\\n    print ('hello')\"\n",
    "name, is_test = obtain_function_name_and_test_flag(line, source)\n",
    "assert name == \"hello\" and not is_test\n",
    "\n",
    "# second example: with test flag\n",
    "line = \"%%function --test\"\n",
    "source = \"def hello():\\n    print ('hello')\"\n",
    "name, is_test = obtain_function_name_and_test_flag(line, source)\n",
    "assert name == \"hello\" and is_test\n",
    "\n",
    "# third example: function name as part of line magic\n",
    "line = \"%%function hello\"\n",
    "source = \"print ('hello')\"\n",
    "name, is_test = obtain_function_name_and_test_flag(line, source)\n",
    "assert name == \"hello\" and not is_test\n",
    "\n",
    "# fourth example: with test flag\n",
    "line = \"%%function hello --test\"\n",
    "source = \"print ('hello')\"\n",
    "name, is_test = obtain_function_name_and_test_flag(line, source)\n",
    "assert name == \"hello\" and is_test"
   ]
  },
  {
   "cell_type": "markdown",
   "metadata": {},
   "source": [
    "## transform_test_source_for_docs"
   ]
  },
  {
   "cell_type": "code",
   "execution_count": 74,
   "metadata": {},
   "outputs": [],
   "source": [
    "#|export\n",
    "def transform_test_source_for_docs(source_lines, idx, tab_size):\n",
    "    start = 2 if idx == 0 else 1\n",
    "    transformed_lines = []\n",
    "    for line in source_lines[start:]:\n",
    "        transformed_lines.append(\n",
    "            line[tab_size:] if line.startswith(\" \" * tab_size) else line\n",
    "        )\n",
    "    return \"\\n\".join(transformed_lines)\n"
   ]
  },
  {
   "cell_type": "markdown",
   "metadata": {},
   "source": [
    "## set_paths_nb_processor"
   ]
  },
  {
   "cell_type": "markdown",
   "metadata": {},
   "source": [
    "### replace_folder_in_path"
   ]
  },
  {
   "cell_type": "code",
   "execution_count": 75,
   "metadata": {},
   "outputs": [],
   "source": [
    "#| export\n",
    "def replace_folder_in_path (\n",
    "    path: Path,\n",
    "    original_folder: str,\n",
    "    new_folder: str,\n",
    "):\n",
    "    if original_folder in path.parent.parts:\n",
    "        index = path.parent.parts.index(original_folder)        \n",
    "        parts = path.parent.parts[:index] + (new_folder,) + path.parent.parts[index + 1 :]\n",
    "        new_path = Path().joinpath(*parts) / path.name\n",
    "    else:\n",
    "        new_path = path\n",
    "    return new_path"
   ]
  },
  {
   "cell_type": "markdown",
   "metadata": {},
   "source": [
    "#### Example usage"
   ]
  },
  {
   "cell_type": "code",
   "execution_count": 76,
   "metadata": {},
   "outputs": [],
   "source": [
    "assert replace_folder_in_path (\n",
    "    Path('/home/jaumeamllo/workspace/mine/nbmodular/test_data/nbm/test_nbs/nb.ipynb'),\n",
    "    \"nbm\", \n",
    "    \"nbs\",\n",
    ") == Path('/home/jaumeamllo/workspace/mine/nbmodular/test_data/nbs/test_nbs/nb.ipynb')"
   ]
  },
  {
   "cell_type": "markdown",
   "metadata": {},
   "source": [
    "### set_paths_nb_processor"
   ]
  },
  {
   "cell_type": "code",
   "execution_count": 77,
   "metadata": {},
   "outputs": [],
   "source": [
    "#| export\n",
    "def set_paths_nb_processor(\n",
    "    nb_processor,\n",
    "    path,\n",
    "):\n",
    "    nb_processor.path = Path(path)\n",
    "    nb_processor.file_name_without_extension = nb_processor.path.name[: -len(\".ipynb\")]\n",
    "\n",
    "    #import ipdb\n",
    "    #ipdb.set_trace()\n",
    "    config = get_config()\n",
    "    nb_processor.root_path = config.config_path.parent\n",
    "    nb_processor.nbs_path = config[\"nbs_path\"]\n",
    "    nb_processor.nbm_path = config[\"nbm_path\"]\n",
    "    nb_processor.lib_path = config[\"lib_path\"]\n",
    "\n",
    "    # In diagram: nbs/nb.ipynb\n",
    "    nb_processor.dest_nb_path = replace_folder_in_path (nb_processor.path, nb_processor.nbm_path, nb_processor.nbs_path)\n",
    "\n",
    "    # In diagram: nbs/test_nb.ipynb\n",
    "    nb_processor.test_dest_nb_path = (\n",
    "        nb_processor.dest_nb_path.parent\n",
    "        / f\"test_{nb_processor.file_name_without_extension}.ipynb\"\n",
    "    )\n",
    "    # In diagram: .nbs/nb.ipynb\n",
    "    nb_processor.tmp_nb_path = replace_folder_in_path (nb_processor.path, nb_processor.nbm_path, \".nbs\")\n",
    "    nb_processor.tmp_nb_path.parent.mkdir(parents=True, exist_ok=True)\n",
    "\n",
    "    # step 2 (beginning) in diagram\n",
    "    # In diagram: .nbs/_nb.ipynb\n",
    "    nb_processor.duplicate_tmp_path = (\n",
    "        nb_processor.tmp_nb_path.parent / f\"_{nb_processor.tmp_nb_path.name}\"\n",
    "    )\n",
    "\n",
    "    # step 3 in diagram\n",
    "    # In diagram: .nbs/nb.ipynb\n",
    "    nb_processor.tmp_dest_nb_path = (\n",
    "        nb_processor.tmp_nb_path.parent / nb_processor.dest_nb_path.name\n",
    "    )\n",
    "    # In diagram: .nbs/test_nb.ipynb\n",
    "    nb_processor.tmp_test_dest_nb_path = (\n",
    "        nb_processor.tmp_nb_path.parent / nb_processor.test_dest_nb_path.name\n",
    "    )\n",
    "\n",
    "    # step 5 (beginning) in diagram\n",
    "    nb_processor.duplicate_dest_nb_path = (\n",
    "        nb_processor.dest_nb_path.parent / f\"_{nb_processor.dest_nb_path.name}\"\n",
    "    )\n",
    "\n",
    "    # python module paths\n",
    "    if nb_processor.nbm_path in nb_processor.path.parent.parts:\n",
    "        index = nb_processor.path.parent.parts.index(nb_processor.nbm_path)\n",
    "    else:\n",
    "        raise RuntimeError(\n",
    "            f\"{nb_processor.nbm_path} not found in {nb_processor.path}\"\n",
    "        )\n",
    "    parent_parts = nb_processor.path.parent.parts[index + 1 :]\n",
    "    # module paths\n",
    "    nb_processor.dest_python_path = (\n",
    "        nb_processor.lib_path\n",
    "        + \"/\"\n",
    "        + \"/\".join(parent_parts)\n",
    "        + \"/\"\n",
    "        + nb_processor.file_name_without_extension\n",
    "        + \".py\"\n",
    "    )\n",
    "    nb_processor.test_dest_python_path = (\n",
    "        nb_processor.lib_path\n",
    "        + \"/tests/\"\n",
    "        + \"/\".join(parent_parts)\n",
    "        + \"/\"\n",
    "        + \"test_\"\n",
    "        + nb_processor.file_name_without_extension\n",
    "        + \".py\"\n",
    "    )\n",
    "    # to be used in default_exp cell (see NBExporter)\n",
    "    nb_processor.dest_module_path = (\n",
    "        \".\".join(parent_parts) + \".\" + nb_processor.file_name_without_extension\n",
    "    )\n",
    "    nb_processor.test_dest_module_path = (\n",
    "        \"tests.\"\n",
    "        + \".\".join(parent_parts)\n",
    "        + \".\"\n",
    "        + f\"test_{nb_processor.file_name_without_extension}\"\n",
    "    )\n"
   ]
  },
  {
   "cell_type": "markdown",
   "metadata": {},
   "source": [
    "#### Example usage"
   ]
  },
  {
   "cell_type": "code",
   "execution_count": 78,
   "metadata": {},
   "outputs": [],
   "source": [
    "# cd to root of repo\n",
    "cd_root()\n",
    "\n",
    "# dummy nb_processor\n",
    "nb_processor = Bunch()\n",
    "\n",
    "# example call\n",
    "set_paths_nb_processor(\n",
    "    nb_processor,\n",
    "    Path(\"/home/jaumeamllo/nbmodular/nbm/test_nbs/nb.ipynb\"),\n",
    ")\n",
    "\n",
    "# result\n",
    "assert nb_processor == Bunch(\n",
    "    **{\n",
    "        \"path\": Path(\"/home/jaumeamllo/nbmodular/nbm/test_nbs/nb.ipynb\"),\n",
    "        \"file_name_without_extension\": \"nb\",\n",
    "        \"root_path\": Path(\"/home/jaumeamllo/workspace/mine/nbmodular\"),\n",
    "        \"nbs_path\": \"nbs\",\n",
    "        \"nbm_path\": \"nbm\",\n",
    "        \"lib_path\": \"nbmodular\",\n",
    "        \"dest_nb_path\": Path(\"/home/jaumeamllo/nbmodular/nbs/test_nbs/nb.ipynb\"),\n",
    "        \"test_dest_nb_path\": Path(\n",
    "            \"/home/jaumeamllo/nbmodular/nbs/test_nbs/test_nb.ipynb\"\n",
    "        ),\n",
    "        \"tmp_nb_path\": Path(\"/home/jaumeamllo/nbmodular/.nbs/test_nbs/nb.ipynb\"),\n",
    "        \"duplicate_tmp_path\": Path(\n",
    "            \"/home/jaumeamllo/nbmodular/.nbs/test_nbs/_nb.ipynb\"\n",
    "        ),\n",
    "        \"tmp_dest_nb_path\": Path(\"/home/jaumeamllo/nbmodular/.nbs/test_nbs/nb.ipynb\"),\n",
    "        \"tmp_test_dest_nb_path\": Path(\n",
    "            \"/home/jaumeamllo/nbmodular/.nbs/test_nbs/test_nb.ipynb\"\n",
    "        ),\n",
    "        \"duplicate_dest_nb_path\": Path(\n",
    "            \"/home/jaumeamllo/nbmodular/nbs/test_nbs/_nb.ipynb\"\n",
    "        ),\n",
    "        \"dest_python_path\": \"nbmodular/test_nbs/nb.py\",\n",
    "        \"test_dest_python_path\": \"nbmodular/tests/test_nbs/test_nb.py\",\n",
    "        \"dest_module_path\": \"test_nbs.nb\",\n",
    "        \"test_dest_module_path\": \"tests.test_nbs.test_nb\",\n",
    "    }\n",
    ")\n",
    "\n",
    "assert Path(\"/home/jaumeamllo/nbmodular/.nbs\").exists()\n",
    "shutil.rmtree(\"/home/jaumeamllo/nbmodular\", ignore_errors=True)"
   ]
  },
  {
   "cell_type": "markdown",
   "metadata": {},
   "source": [
    "## NbMagicProcessor"
   ]
  },
  {
   "cell_type": "code",
   "execution_count": 79,
   "metadata": {},
   "outputs": [],
   "source": [
    "#| export\n",
    "class NbMagicProcessor(Processor):\n",
    "    def __init__(\n",
    "        self,\n",
    "        path,\n",
    "        nb=None,\n",
    "        logger=None,\n",
    "        log_level=\"INFO\",\n",
    "    ):\n",
    "        nb = read_nb(path) if nb is None else nb\n",
    "        super().__init__(nb)\n",
    "        self.logger = logging.getLogger(\"nb_exporter\") if logger is None else logger\n",
    "        set_log_level(self.logger, log_level)\n",
    "        self.logger.info(f\"Analyzing code from notebook {path}\")\n",
    "        self.cell_processor = CellProcessor(path=path)\n",
    "        self.cell_processor.set_run_tests(False)\n",
    "\n",
    "    def cell(self, cell):\n",
    "        source_lines = cell.source.splitlines() if cell.cell_type == \"code\" else []\n",
    "        if len(source_lines) > 0 and source_lines[0].strip().startswith(\"%%\"):\n",
    "            line = source_lines[0]\n",
    "            words = line.split()\n",
    "            command = words[0][2:]\n",
    "            if command in self.cell_processor.magic_commands_list:\n",
    "                self.cell_processor.process_function_call(\n",
    "                    line=\" \".join(words[1:]),\n",
    "                    cell=\"\\n\".join(source_lines[1:]) if len(source_lines) > 1 else \"\",\n",
    "                    add_call=True,\n",
    "                    is_class=command == \"class\",\n",
    "                )\n"
   ]
  },
  {
   "cell_type": "markdown",
   "metadata": {},
   "source": [
    "### Usage example"
   ]
  },
  {
   "cell_type": "code",
   "execution_count": 80,
   "metadata": {},
   "outputs": [],
   "source": [
    "from nbmodular.core.utils import make_nb_from_cell_list, markdown_cell, code_cell"
   ]
  },
  {
   "cell_type": "code",
   "execution_count": 81,
   "metadata": {},
   "outputs": [],
   "source": [
    "nb = make_nb_from_cell_list ([\n",
    "\n",
    "markdown_cell (\"\"\"\n",
    "## A minimal notebook\n",
    "\"\"\"),\n",
    "\n",
    "code_cell (\"\"\"\n",
    "%%function one_plus_one --test\n",
    "a=1+1\n",
    "print (a)\n",
    "\"\"\"),\n",
    "\n",
    "])"
   ]
  },
  {
   "cell_type": "code",
   "execution_count": 82,
   "metadata": {},
   "outputs": [
    {
     "name": "stderr",
     "output_type": "stream",
     "text": [
      "Analyzing code from notebook no_nb\n",
      "Analyzing code from notebook no_nb\n",
      "Analyzing code from notebook no_nb\n",
      "Analyzing code from notebook no_nb\n",
      "Analyzing code from notebook no_nb\n",
      "Analyzing code from notebook no_nb\n",
      "Analyzing code from notebook no_nb\n",
      "Analyzing code from notebook no_nb\n",
      "Analyzing code from notebook no_nb\n",
      "Analyzing code from notebook no_nb\n",
      "changing global run flag to False\n",
      "changing global run flag to False\n",
      "changing global run flag to False\n",
      "changing global run flag to False\n",
      "changing global run flag to False\n",
      "changing global run flag to False\n"
     ]
    }
   ],
   "source": [
    "path=\"no_nb\"\n",
    "nb_magic_processor = NbMagicProcessor (\n",
    "    path=path, \n",
    "    nb=nb, \n",
    ")\n",
    "NBProcessor (path, nb_magic_processor, rm_directives=False, nb=nb).process()\n",
    "\n",
    "assert list(nb_magic_processor.cell_processor.test_function_info.keys())==[\"test_one_plus_one\"]\n",
    "assert len(nb_magic_processor.cell_processor.test_function_list)==1\n",
    "assert len(nb_magic_processor.cell_processor.function_list)==0\n",
    "assert nb_magic_processor.cell_processor.test_function_info[\"test_one_plus_one\"].created_variables==[\"a\"]\n",
    "assert nb_magic_processor.cell_processor.test_function_info[\"test_one_plus_one\"].a is None"
   ]
  },
  {
   "cell_type": "markdown",
   "metadata": {},
   "source": [
    "## NbMagicExporter"
   ]
  },
  {
   "cell_type": "code",
   "execution_count": 83,
   "metadata": {},
   "outputs": [],
   "source": [
    "#| export\n",
    "class NbMagicExporter(Processor):\n",
    "    def __init__(\n",
    "        self,\n",
    "        path,\n",
    "        nb=None,\n",
    "        code_cells_file_name=None,\n",
    "        code_cells_path=\".nbmodular\",\n",
    "        execute=True,\n",
    "        logger=None,\n",
    "        log_level=\"INFO\",\n",
    "        tab_size=4,\n",
    "    ):\n",
    "        nb = read_nb(path) if nb is None else nb\n",
    "        super().__init__(nb)\n",
    "        self.logger = logging.getLogger(\"nb_exporter\") if logger is None else logger\n",
    "        set_log_level(self.logger, log_level)\n",
    "        set_paths_nb_processor(self, path)\n",
    "        self.code_cells_path = Path(code_cells_path)\n",
    "        code_cells_file_name = (\n",
    "            self.file_name_without_extension\n",
    "            if code_cells_file_name is None\n",
    "            else code_cells_file_name\n",
    "        )\n",
    "\n",
    "        self.logger.info(f\"Analyzing code from notebook {self.path}\")\n",
    "        self.nb_magic_processor = NbMagicProcessor(\n",
    "            path, nb=nb, logger=logger, log_level=log_level\n",
    "        )\n",
    "        NBProcessor(path, self.nb_magic_processor, rm_directives=False, nb=nb).process()\n",
    "\n",
    "        self.function_names = {}\n",
    "        self.test_function_names = {}\n",
    "        self.cells = []\n",
    "        self.test_cells = []\n",
    "        self.doc_cells = []\n",
    "\n",
    "        self.default_exp_cell = mk_cell(f\"#|default_exp {self.dest_module_path}\")\n",
    "        self.default_test_exp_cell = mk_cell(\n",
    "            f\"#|default_exp {self.test_dest_module_path}\"\n",
    "        )\n",
    "\n",
    "        # list of types of cells, to be used by importer\n",
    "        # can be \"code\", \"test\", \"original\"\n",
    "        self.cell_types = []\n",
    "\n",
    "        # other\n",
    "        self.tab_size = tab_size\n",
    "\n",
    "    def cell(self, cell):\n",
    "        source_lines = cell.source.splitlines() if cell.cell_type == \"code\" else []\n",
    "        is_test = False\n",
    "        cell_type = \"original\"\n",
    "        if len(source_lines) > 0 and source_lines[0].strip().startswith(\"%%\"):\n",
    "            line = source_lines[0]\n",
    "            source = \"\\n\".join(source_lines[1:])\n",
    "            to_export = False\n",
    "            is_test = False\n",
    "            if line.startswith(\"%%function\") or line.startswith(\"%%method\"):\n",
    "                function_name, is_test = obtain_function_name_and_test_flag(\n",
    "                    line, source\n",
    "                )\n",
    "                function_names = (\n",
    "                    self.test_function_names if is_test else self.function_names\n",
    "                )\n",
    "                if function_name in function_names:\n",
    "                    function_names[function_name] += 1\n",
    "                else:\n",
    "                    function_names[function_name] = 0\n",
    "                idx = function_names[function_name]\n",
    "                self.logger.debug(f\"{function_name}, {idx}, is test: {is_test}\")\n",
    "                code_cells = (\n",
    "                    self.nb_magic_processor.cell_processor.test_code_cells\n",
    "                    if is_test\n",
    "                    else self.nb_magic_processor.cell_processor.code_cells\n",
    "                )\n",
    "                if function_name not in code_cells:\n",
    "                    raise RuntimeError(\n",
    "                        f\"Function {function_name} not found in code_cells dictionary with keys {code_cells.keys()}\"\n",
    "                    )\n",
    "                code_cells = code_cells[function_name]\n",
    "                if len(code_cells) <= idx:\n",
    "                    raise RuntimeError(\n",
    "                        f\"Function {function_name} has {len(code_cells)} cells, which is lower than index {idx}.\"\n",
    "                    )\n",
    "                code_cell = code_cells[idx]\n",
    "                self.logger.debug(\"code:\")\n",
    "                self.logger.debug(f\"{code_cell.code}valid: {code_cell.valid}\")\n",
    "                if code_cell.valid:\n",
    "                    source = code_cell.code\n",
    "                    to_export = True\n",
    "            elif line.startswith(\"%%include\") or line.startswith(\"%%class\"):\n",
    "                to_export = True\n",
    "            if to_export:\n",
    "                line = line.replace(\"%%\", \"#@@\")\n",
    "                code_source = line + \"\\n\" + source\n",
    "                code_source = \"#|export\\n\" + code_source\n",
    "                doc_source = (\n",
    "                    \"#|export\\n\" + source\n",
    "                )  # doc_source does not include first line with #@@\n",
    "                new_cell = NbCell(cell.idx_, cell)\n",
    "                new_cell[\"source\"] = code_source\n",
    "                if is_test:\n",
    "                    self.test_cells.append(new_cell)\n",
    "                    cell_type = \"test\"\n",
    "                else:\n",
    "                    self.cells.append(new_cell)\n",
    "                    cell_type = \"code\"\n",
    "            else:\n",
    "                doc_source = source  # doc_source does not include first line with %% (? to think about)\n",
    "            if is_test:\n",
    "                doc_source = transform_test_source_for_docs(\n",
    "                    source_lines, idx, self.tab_size\n",
    "                )\n",
    "            cell[\"source\"] = doc_source\n",
    "            self.doc_cells.append(cell)\n",
    "\n",
    "        self.cell_types.append(cell_type)\n",
    "\n",
    "    def end(self):\n",
    "        # store cell_types for later use by NBImporter\n",
    "        joblib.dump(self.cell_types, self.code_cells_path / \"cell_types.pk\")\n",
    "\n",
    "        write_nb(self.nb, self.tmp_nb_path)\n",
    "        self.nb.cells = self.cells\n",
    "        if len(self.cells) > 0:\n",
    "            self.nb.cells = [self.default_exp_cell] + self.cells\n",
    "            write_nb(self.nb, self.dest_nb_path)\n",
    "            nb_export(self.dest_nb_path)\n",
    "        if len(self.test_cells) > 0:\n",
    "            self.nb.cells = [self.default_test_exp_cell] + self.test_cells\n",
    "            write_nb(self.nb, self.test_dest_nb_path)\n",
    "            nb_export(self.test_dest_nb_path)\n",
    "\n",
    "        # step 2 (beginning) in diagram\n",
    "        self.tmp_nb_path.rename(self.duplicate_tmp_path)\n",
    "\n",
    "        # step 3 in diagram\n",
    "        self.dest_nb_path.rename(self.tmp_dest_nb_path)\n",
    "        self.test_dest_nb_path.rename(self.tmp_test_dest_nb_path)\n",
    "\n",
    "        # step 2 (end) in diagram\n",
    "        self.duplicate_tmp_path.rename(self.dest_nb_path)\n"
   ]
  },
  {
   "cell_type": "code",
   "execution_count": null,
   "metadata": {},
   "outputs": [],
   "source": [
    "\n",
    "\n",
    "os.chdir(\"test_data\")"
   ]
  },
  {
   "cell_type": "markdown",
   "metadata": {},
   "source": [
    "## nbm_export"
   ]
  },
  {
   "cell_type": "code",
   "execution_count": 84,
   "metadata": {},
   "outputs": [],
   "source": [
    "#| export\n",
    "def nbm_export(\n",
    "    path,\n",
    "    **kwargs,\n",
    "):\n",
    "    path = Path(path)\n",
    "    nb = read_nb(path)\n",
    "    processor = NbMagicExporter(\n",
    "        path,\n",
    "        nb=nb,\n",
    "        **kwargs,\n",
    "    )\n",
    "    NBProcessor(path, processor, rm_directives=False, nb=nb).process()\n"
   ]
  },
  {
   "cell_type": "markdown",
   "metadata": {},
   "source": [
    "### Example usage"
   ]
  },
  {
   "cell_type": "code",
   "execution_count": 85,
   "metadata": {},
   "outputs": [],
   "source": [
    "from nbmodular.core.utils import cd_root\n",
    "cd_root()"
   ]
  },
  {
   "cell_type": "markdown",
   "metadata": {},
   "source": [
    "### cleaning"
   ]
  },
  {
   "cell_type": "code",
   "execution_count": 86,
   "metadata": {},
   "outputs": [],
   "source": [
    "import shutil\n",
    "import os"
   ]
  },
  {
   "cell_type": "code",
   "execution_count": 116,
   "metadata": {},
   "outputs": [],
   "source": [
    "def clean_before_nbm_export_example ():\n",
    "    shutil.rmtree (\".nbs\", ignore_errors=True)\n",
    "    if os.path.exists (\"nbs/test_nbs/test_export.ipynb\"):\n",
    "        shutil.move (\"nbs/test_nbs/test_export.ipynb\", \"nbs/test_export2.ipynb\")\n",
    "        shutil.rmtree (\"nbs/test_nbs\", ignore_errors=True)\n",
    "        os.makedirs (\"nbs/test_nbs\")\n",
    "        shutil.move (\"nbs/test_export2.ipynb\", \"nbs/test_nbs/test_export.ipynb\")\n",
    "    else:\n",
    "        shutil.rmtree (\"nbs/test_nbs\", ignore_errors=True)\n",
    "        os.makedirs (\"nbs/test_nbs\")\n",
    "    shutil.rmtree (\"nbmodular/test_nbs\", ignore_errors=True)\n",
    "    shutil.rmtree (\"nbmodular/tests\", ignore_errors=True)"
   ]
  },
  {
   "cell_type": "code",
   "execution_count": 117,
   "metadata": {},
   "outputs": [],
   "source": [
    "clean_before_nbm_export_example()"
   ]
  },
  {
   "cell_type": "markdown",
   "metadata": {},
   "source": [
    "### usage"
   ]
  },
  {
   "cell_type": "code",
   "execution_count": 118,
   "metadata": {},
   "outputs": [
    {
     "name": "stderr",
     "output_type": "stream",
     "text": [
      "Analyzing code from notebook nbm/test_nbs/nb.ipynb\n",
      "Analyzing code from notebook nbm/test_nbs/nb.ipynb\n",
      "Analyzing code from notebook nbm/test_nbs/nb.ipynb\n",
      "Analyzing code from notebook nbm/test_nbs/nb.ipynb\n",
      "Analyzing code from notebook nbm/test_nbs/nb.ipynb\n",
      "Analyzing code from notebook nbm/test_nbs/nb.ipynb\n",
      "Analyzing code from notebook nbm/test_nbs/nb.ipynb\n",
      "Analyzing code from notebook nbm/test_nbs/nb.ipynb\n",
      "Analyzing code from notebook nbm/test_nbs/nb.ipynb\n"
     ]
    },
    {
     "name": "stderr",
     "output_type": "stream",
     "text": [
      "Analyzing code from notebook nbm/test_nbs/nb.ipynb\n",
      "Analyzing code from notebook nbm/test_nbs/nb.ipynb\n",
      "Analyzing code from notebook nbm/test_nbs/nb.ipynb\n",
      "Analyzing code from notebook nbm/test_nbs/nb.ipynb\n",
      "Analyzing code from notebook nbm/test_nbs/nb.ipynb\n",
      "Analyzing code from notebook nbm/test_nbs/nb.ipynb\n",
      "Analyzing code from notebook nbm/test_nbs/nb.ipynb\n",
      "Analyzing code from notebook nbm/test_nbs/nb.ipynb\n",
      "Analyzing code from notebook nbm/test_nbs/nb.ipynb\n",
      "Analyzing code from notebook nbm/test_nbs/nb.ipynb\n",
      "Analyzing code from notebook nbm/test_nbs/nb.ipynb\n",
      "Analyzing code from notebook nbm/test_nbs/nb.ipynb\n",
      "Analyzing code from notebook nbm/test_nbs/nb.ipynb\n",
      "Analyzing code from notebook nbm/test_nbs/nb.ipynb\n",
      "Analyzing code from notebook nbm/test_nbs/nb.ipynb\n",
      "Analyzing code from notebook nbm/test_nbs/nb.ipynb\n",
      "Analyzing code from notebook nbm/test_nbs/nb.ipynb\n",
      "Analyzing code from notebook nbm/test_nbs/nb.ipynb\n",
      "Analyzing code from notebook nbm/test_nbs/nb.ipynb\n",
      "Analyzing code from notebook nbm/test_nbs/nb.ipynb\n",
      "Analyzing code from notebook nbm/test_nbs/nb.ipynb\n",
      "Analyzing code from notebook nbm/test_nbs/nb.ipynb\n",
      "Analyzing code from notebook nbm/test_nbs/nb.ipynb\n",
      "Analyzing code from notebook nbm/test_nbs/nb.ipynb\n",
      "Analyzing code from notebook nbm/test_nbs/nb.ipynb\n",
      "Analyzing code from notebook nbm/test_nbs/nb.ipynb\n",
      "Analyzing code from notebook nbm/test_nbs/nb.ipynb\n",
      "Analyzing code from notebook nbm/test_nbs/nb.ipynb\n",
      "Analyzing code from notebook nbm/test_nbs/nb.ipynb\n",
      "Analyzing code from notebook nbm/test_nbs/nb.ipynb\n",
      "Analyzing code from notebook nbm/test_nbs/nb.ipynb\n",
      "Analyzing code from notebook nbm/test_nbs/nb.ipynb\n",
      "Analyzing code from notebook nbm/test_nbs/nb.ipynb\n",
      "Analyzing code from notebook nbm/test_nbs/nb.ipynb\n",
      "Analyzing code from notebook nbm/test_nbs/nb.ipynb\n",
      "Analyzing code from notebook nbm/test_nbs/nb.ipynb\n",
      "Analyzing code from notebook nbm/test_nbs/nb.ipynb\n",
      "Analyzing code from notebook nbm/test_nbs/nb.ipynb\n",
      "changing global run flag to False\n",
      "changing global run flag to False\n",
      "changing global run flag to False\n",
      "changing global run flag to False\n",
      "changing global run flag to False\n",
      "changing global run flag to False\n",
      "changing global run flag to False\n",
      "changing global run flag to False\n",
      "changing global run flag to False\n",
      "changing global run flag to False\n",
      "changing global run flag to False\n",
      "changing global run flag to False\n",
      "changing global run flag to False\n"
     ]
    }
   ],
   "source": [
    "path=\"nbm/test_nbs/nb.ipynb\"\n",
    "nbm_export (path)"
   ]
  },
  {
   "cell_type": "markdown",
   "metadata": {},
   "source": [
    "### checks"
   ]
  },
  {
   "cell_type": "code",
   "execution_count": 89,
   "metadata": {},
   "outputs": [],
   "source": [
    "nb_paths = [\n",
    "    Path (\"nbs/test_nbs/nb.ipynb\"),\n",
    "    Path (\".nbs/test_nbs/nb.ipynb\"),\n",
    "    Path (\".nbs/test_nbs/test_nb.ipynb\"),\n",
    "]\n",
    "py_paths = [\n",
    "    Path (\"nbmodular/test_nbs/nb.py\"),\n",
    "    Path (\"nbmodular/tests/test_nbs/test_nb.py\"),\n",
    "]"
   ]
  },
  {
   "cell_type": "code",
   "execution_count": 90,
   "metadata": {},
   "outputs": [],
   "source": [
    "nbs = []\n",
    "for nb_path in nb_paths:\n",
    "    assert nb_path.exists()\n",
    "    nbs.append(read_nb(nb_path))\n",
    "assert [[c[\"source\"] for c in nb.cells] for nb in nbs] == [\n",
    "    [\"#|export\\ndef first():\\n    pass\\n\", \"comment\", \"pass\"],\n",
    "    [\"#|default_exp test_nbs.nb\", \"#|export\\n#@@function\\ndef first():\\n    pass\\n\"],\n",
    "    [\n",
    "        \"#|default_exp tests.test_nbs.test_nb\",\n",
    "        \"#|export\\n#@@function --test\\ndef second():\\n    pass\\n\",\n",
    "    ],\n",
    "]"
   ]
  },
  {
   "cell_type": "code",
   "execution_count": 91,
   "metadata": {},
   "outputs": [],
   "source": [
    "pymods = []\n",
    "for py_path in py_paths:\n",
    "    assert py_path.exists()\n",
    "    pymods.append(open(py_path, \"rt\").read())\n",
    "\n",
    "assert pymods == [\n",
    "    \"\\n\\n# %% auto 0\\n__all__ = ['first']\\n\\n# %% ../../nbs/test_nbs/nb.ipynb 1\\n#@@function\\ndef first():\\n    pass\\n\\n\",\n",
    "    \"\\n\\n# %% auto 0\\n__all__ = ['second']\\n\\n# %% ../../../nbs/test_nbs/test_nb.ipynb 1\\n#@@function --test\\ndef second():\\n    pass\\n\\n\",\n",
    "]"
   ]
  },
  {
   "cell_type": "code",
   "execution_count": null,
   "metadata": {},
   "outputs": [],
   "source": [
    "## clean"
   ]
  },
  {
   "cell_type": "markdown",
   "metadata": {},
   "source": [
    "## nbm_export_cli"
   ]
  },
  {
   "cell_type": "code",
   "execution_count": 92,
   "metadata": {},
   "outputs": [],
   "source": [
    "#| export\n",
    "def nbm_export_all_paths (path):\n",
    "    files = nbglob(path=path, as_path=True).sorted(\"name\")\n",
    "    for f in files:\n",
    "        nbm_export(f)\n",
    "\n",
    "def parse_argv_and_run_nbm_export_all_paths (argv: List[str]):\n",
    "    parser = argparse.ArgumentParser(\n",
    "        description=\"Export notebooks to their corresponding python modules.\"\n",
    "    )\n",
    "    parser.add_argument(\"--path\", type=str, default=None, help=\"Path to notebook\")\n",
    "    args = parser.parse_args(argv)\n",
    "    nbm_export_all_paths (args.path)\n",
    "\n",
    "def nbm_export_cli ():\n",
    "    parse_argv_and_run_nbm_export_all_paths (sys.argv)"
   ]
  },
  {
   "cell_type": "markdown",
   "metadata": {},
   "source": [
    "### Example usage"
   ]
  },
  {
   "cell_type": "code",
   "execution_count": 96,
   "metadata": {},
   "outputs": [],
   "source": [
    "import shutil\n",
    "import os\n",
    "from nbmodular.core.utils import cd_root\n",
    "from nbdev import config"
   ]
  },
  {
   "cell_type": "code",
   "execution_count": 107,
   "metadata": {},
   "outputs": [],
   "source": [
    "cd_root ()\n",
    "\n",
    "new_root = \"test_nbm_export\"\n",
    "\n",
    "# ------------------------------------\n",
    "# first notebook \n",
    "nb = make_nb_from_cell_list ([\n",
    "\n",
    "markdown_cell (\"\"\"\n",
    "## First notebook\n",
    "\"\"\"),\n",
    "\n",
    "code_cell (\"\"\"\n",
    "%%function hello\n",
    "print ('hello')\n",
    "\"\"\"),\n",
    "\n",
    "code_cell (\"\"\"\n",
    "%%function one_plus_one --test\n",
    "a=1+1\n",
    "print (a)\n",
    "\"\"\"),\n",
    "])\n",
    "\n",
    "nb_path = Path(new_root) / \"nbm\" / \"first_folder\" / \"first.ipynb\"\n",
    "nb_path.parent.mkdir (parents=True, exist_ok=True)\n",
    "write_nb (nb, nb_path)\n",
    "\n",
    "# ------------------------------------\n",
    "# second notebook \n",
    "nb = make_nb_from_cell_list ([\n",
    "\n",
    "markdown_cell (\"\"\"\n",
    "## Second notebook\n",
    "\"\"\"),\n",
    "\n",
    "code_cell (\"\"\"\n",
    "%%function bye\n",
    "print ('bye')\n",
    "\"\"\"),\n",
    "\n",
    "code_cell (\"\"\"\n",
    "%%function two_plus_two --test\n",
    "a=2+2\n",
    "print (a)\n",
    "\"\"\"),\n",
    "])\n",
    "\n",
    "nb_path = Path(new_root) / \"nbm\" / \"second_folder\" / \"second.ipynb\"\n",
    "nb_path.parent.mkdir (parents=True, exist_ok=True)\n",
    "write_nb (nb, nb_path)"
   ]
  },
  {
   "cell_type": "code",
   "execution_count": 109,
   "metadata": {},
   "outputs": [
    {
     "data": {
      "text/plain": [
       "'test_nbm_export/settings.ini'"
      ]
     },
     "execution_count": 109,
     "metadata": {},
     "output_type": "execute_result"
    }
   ],
   "source": [
    "shutil.copy (\"settings.ini\", new_root)"
   ]
  },
  {
   "cell_type": "code",
   "execution_count": 110,
   "metadata": {},
   "outputs": [],
   "source": [
    "os.chdir (new_root)"
   ]
  },
  {
   "cell_type": "code",
   "execution_count": 113,
   "metadata": {},
   "outputs": [
    {
     "name": "stderr",
     "output_type": "stream",
     "text": [
      "Analyzing code from notebook /home/jaumeamllo/workspace/mine/nbmodular/test_nbm_export/nbm/first_folder/first.ipynb\n",
      "Analyzing code from notebook /home/jaumeamllo/workspace/mine/nbmodular/test_nbm_export/nbm/first_folder/first.ipynb\n"
     ]
    },
    {
     "name": "stderr",
     "output_type": "stream",
     "text": [
      "Analyzing code from notebook /home/jaumeamllo/workspace/mine/nbmodular/test_nbm_export/nbm/first_folder/first.ipynb\n",
      "Analyzing code from notebook /home/jaumeamllo/workspace/mine/nbmodular/test_nbm_export/nbm/first_folder/first.ipynb\n",
      "Analyzing code from notebook /home/jaumeamllo/workspace/mine/nbmodular/test_nbm_export/nbm/first_folder/first.ipynb\n",
      "Analyzing code from notebook /home/jaumeamllo/workspace/mine/nbmodular/test_nbm_export/nbm/first_folder/first.ipynb\n",
      "Analyzing code from notebook /home/jaumeamllo/workspace/mine/nbmodular/test_nbm_export/nbm/first_folder/first.ipynb\n",
      "Analyzing code from notebook /home/jaumeamllo/workspace/mine/nbmodular/test_nbm_export/nbm/first_folder/first.ipynb\n",
      "Analyzing code from notebook /home/jaumeamllo/workspace/mine/nbmodular/test_nbm_export/nbm/first_folder/first.ipynb\n",
      "Analyzing code from notebook /home/jaumeamllo/workspace/mine/nbmodular/test_nbm_export/nbm/first_folder/first.ipynb\n",
      "Analyzing code from notebook /home/jaumeamllo/workspace/mine/nbmodular/test_nbm_export/nbm/first_folder/first.ipynb\n",
      "Analyzing code from notebook /home/jaumeamllo/workspace/mine/nbmodular/test_nbm_export/nbm/first_folder/first.ipynb\n",
      "Analyzing code from notebook /home/jaumeamllo/workspace/mine/nbmodular/test_nbm_export/nbm/first_folder/first.ipynb\n",
      "Analyzing code from notebook /home/jaumeamllo/workspace/mine/nbmodular/test_nbm_export/nbm/first_folder/first.ipynb\n",
      "Analyzing code from notebook /home/jaumeamllo/workspace/mine/nbmodular/test_nbm_export/nbm/first_folder/first.ipynb\n",
      "Analyzing code from notebook /home/jaumeamllo/workspace/mine/nbmodular/test_nbm_export/nbm/first_folder/first.ipynb\n",
      "Analyzing code from notebook /home/jaumeamllo/workspace/mine/nbmodular/test_nbm_export/nbm/first_folder/first.ipynb\n",
      "Analyzing code from notebook /home/jaumeamllo/workspace/mine/nbmodular/test_nbm_export/nbm/first_folder/first.ipynb\n",
      "Analyzing code from notebook /home/jaumeamllo/workspace/mine/nbmodular/test_nbm_export/nbm/first_folder/first.ipynb\n",
      "Analyzing code from notebook /home/jaumeamllo/workspace/mine/nbmodular/test_nbm_export/nbm/first_folder/first.ipynb\n",
      "Analyzing code from notebook /home/jaumeamllo/workspace/mine/nbmodular/test_nbm_export/nbm/first_folder/first.ipynb\n",
      "Analyzing code from notebook /home/jaumeamllo/workspace/mine/nbmodular/test_nbm_export/nbm/first_folder/first.ipynb\n",
      "Analyzing code from notebook /home/jaumeamllo/workspace/mine/nbmodular/test_nbm_export/nbm/first_folder/first.ipynb\n",
      "Analyzing code from notebook /home/jaumeamllo/workspace/mine/nbmodular/test_nbm_export/nbm/first_folder/first.ipynb\n",
      "Analyzing code from notebook /home/jaumeamllo/workspace/mine/nbmodular/test_nbm_export/nbm/first_folder/first.ipynb\n",
      "Analyzing code from notebook /home/jaumeamllo/workspace/mine/nbmodular/test_nbm_export/nbm/first_folder/first.ipynb\n",
      "Analyzing code from notebook /home/jaumeamllo/workspace/mine/nbmodular/test_nbm_export/nbm/first_folder/first.ipynb\n",
      "Analyzing code from notebook /home/jaumeamllo/workspace/mine/nbmodular/test_nbm_export/nbm/first_folder/first.ipynb\n",
      "Analyzing code from notebook /home/jaumeamllo/workspace/mine/nbmodular/test_nbm_export/nbm/first_folder/first.ipynb\n",
      "Analyzing code from notebook /home/jaumeamllo/workspace/mine/nbmodular/test_nbm_export/nbm/first_folder/first.ipynb\n",
      "Analyzing code from notebook /home/jaumeamllo/workspace/mine/nbmodular/test_nbm_export/nbm/first_folder/first.ipynb\n",
      "Analyzing code from notebook /home/jaumeamllo/workspace/mine/nbmodular/test_nbm_export/nbm/first_folder/first.ipynb\n",
      "Analyzing code from notebook /home/jaumeamllo/workspace/mine/nbmodular/test_nbm_export/nbm/first_folder/first.ipynb\n",
      "Analyzing code from notebook /home/jaumeamllo/workspace/mine/nbmodular/test_nbm_export/nbm/first_folder/first.ipynb\n",
      "Analyzing code from notebook /home/jaumeamllo/workspace/mine/nbmodular/test_nbm_export/nbm/first_folder/first.ipynb\n",
      "Analyzing code from notebook /home/jaumeamllo/workspace/mine/nbmodular/test_nbm_export/nbm/first_folder/first.ipynb\n",
      "Analyzing code from notebook /home/jaumeamllo/workspace/mine/nbmodular/test_nbm_export/nbm/first_folder/first.ipynb\n",
      "Analyzing code from notebook /home/jaumeamllo/workspace/mine/nbmodular/test_nbm_export/nbm/first_folder/first.ipynb\n",
      "Analyzing code from notebook /home/jaumeamllo/workspace/mine/nbmodular/test_nbm_export/nbm/first_folder/first.ipynb\n",
      "Analyzing code from notebook /home/jaumeamllo/workspace/mine/nbmodular/test_nbm_export/nbm/first_folder/first.ipynb\n",
      "Analyzing code from notebook /home/jaumeamllo/workspace/mine/nbmodular/test_nbm_export/nbm/first_folder/first.ipynb\n",
      "Analyzing code from notebook /home/jaumeamllo/workspace/mine/nbmodular/test_nbm_export/nbm/first_folder/first.ipynb\n",
      "Analyzing code from notebook /home/jaumeamllo/workspace/mine/nbmodular/test_nbm_export/nbm/first_folder/first.ipynb\n",
      "changing global run flag to False\n",
      "changing global run flag to False\n",
      "changing global run flag to False\n",
      "changing global run flag to False\n",
      "changing global run flag to False\n",
      "changing global run flag to False\n",
      "changing global run flag to False\n",
      "changing global run flag to False\n",
      "changing global run flag to False\n",
      "changing global run flag to False\n",
      "changing global run flag to False\n",
      "changing global run flag to False\n"
     ]
    },
    {
     "name": "stdout",
     "output_type": "stream",
     "text": [
      "hello\n",
      "{'cell_type': 'code', 'execution_count': None, 'metadata': {}, 'outputs': [], 'source': \"%%function hello\\nprint ('hello')\", 'idx_': 1, 'directives_': {'function': ['hello']}}\n",
      "%%function hello\n",
      "print ('hello')\n"
     ]
    },
    {
     "ename": "RuntimeError",
     "evalue": "Function %%function not found in code_cells dictionary with keys dict_keys(['hello'])",
     "output_type": "error",
     "traceback": [
      "\u001b[0;31m---------------------------------------------------------------------------\u001b[0m",
      "\u001b[0;31mRuntimeError\u001b[0m                              Traceback (most recent call last)",
      "Cell \u001b[0;32mIn[113], line 1\u001b[0m\n\u001b[0;32m----> 1\u001b[0m \u001b[43mparse_argv_and_run_nbm_export_all_paths\u001b[49m\u001b[43m \u001b[49m\u001b[43m(\u001b[49m\u001b[43m[\u001b[49m\u001b[38;5;124;43m\"\u001b[39;49m\u001b[38;5;124;43m--path\u001b[39;49m\u001b[38;5;124;43m\"\u001b[39;49m\u001b[43m,\u001b[49m\u001b[43m \u001b[49m\u001b[43mos\u001b[49m\u001b[38;5;241;43m.\u001b[39;49m\u001b[43mgetcwd\u001b[49m\u001b[43m(\u001b[49m\u001b[43m)\u001b[49m\u001b[43m]\u001b[49m\u001b[43m)\u001b[49m\n",
      "Cell \u001b[0;32mIn[92], line 13\u001b[0m, in \u001b[0;36mparse_argv_and_run_nbm_export_all_paths\u001b[0;34m(argv)\u001b[0m\n\u001b[1;32m     11\u001b[0m parser\u001b[38;5;241m.\u001b[39madd_argument(\u001b[38;5;124m\"\u001b[39m\u001b[38;5;124m--path\u001b[39m\u001b[38;5;124m\"\u001b[39m, \u001b[38;5;28mtype\u001b[39m\u001b[38;5;241m=\u001b[39m\u001b[38;5;28mstr\u001b[39m, default\u001b[38;5;241m=\u001b[39m\u001b[38;5;28;01mNone\u001b[39;00m, help\u001b[38;5;241m=\u001b[39m\u001b[38;5;124m\"\u001b[39m\u001b[38;5;124mPath to notebook\u001b[39m\u001b[38;5;124m\"\u001b[39m)\n\u001b[1;32m     12\u001b[0m args \u001b[38;5;241m=\u001b[39m parser\u001b[38;5;241m.\u001b[39mparse_args(argv)\n\u001b[0;32m---> 13\u001b[0m \u001b[43mnbm_export_all_paths\u001b[49m\u001b[43m \u001b[49m\u001b[43m(\u001b[49m\u001b[43margs\u001b[49m\u001b[38;5;241;43m.\u001b[39;49m\u001b[43mpath\u001b[49m\u001b[43m)\u001b[49m\n",
      "Cell \u001b[0;32mIn[92], line 5\u001b[0m, in \u001b[0;36mnbm_export_all_paths\u001b[0;34m(path)\u001b[0m\n\u001b[1;32m      3\u001b[0m files \u001b[38;5;241m=\u001b[39m nbglob(path\u001b[38;5;241m=\u001b[39mpath, as_path\u001b[38;5;241m=\u001b[39m\u001b[38;5;28;01mTrue\u001b[39;00m)\u001b[38;5;241m.\u001b[39msorted(\u001b[38;5;124m\"\u001b[39m\u001b[38;5;124mname\u001b[39m\u001b[38;5;124m\"\u001b[39m)\n\u001b[1;32m      4\u001b[0m \u001b[38;5;28;01mfor\u001b[39;00m f \u001b[38;5;129;01min\u001b[39;00m files:\n\u001b[0;32m----> 5\u001b[0m     \u001b[43mnbm_export\u001b[49m\u001b[43m(\u001b[49m\u001b[43mf\u001b[49m\u001b[43m)\u001b[49m\n",
      "Cell \u001b[0;32mIn[84], line 13\u001b[0m, in \u001b[0;36mnbm_export\u001b[0;34m(path, **kwargs)\u001b[0m\n\u001b[1;32m      7\u001b[0m nb \u001b[38;5;241m=\u001b[39m read_nb(path)\n\u001b[1;32m      8\u001b[0m processor \u001b[38;5;241m=\u001b[39m NbMagicExporter(\n\u001b[1;32m      9\u001b[0m     path,\n\u001b[1;32m     10\u001b[0m     nb\u001b[38;5;241m=\u001b[39mnb,\n\u001b[1;32m     11\u001b[0m     \u001b[38;5;241m*\u001b[39m\u001b[38;5;241m*\u001b[39mkwargs,\n\u001b[1;32m     12\u001b[0m )\n\u001b[0;32m---> 13\u001b[0m \u001b[43mNBProcessor\u001b[49m\u001b[43m(\u001b[49m\u001b[43mpath\u001b[49m\u001b[43m,\u001b[49m\u001b[43m \u001b[49m\u001b[43mprocessor\u001b[49m\u001b[43m,\u001b[49m\u001b[43m \u001b[49m\u001b[43mrm_directives\u001b[49m\u001b[38;5;241;43m=\u001b[39;49m\u001b[38;5;28;43;01mFalse\u001b[39;49;00m\u001b[43m,\u001b[49m\u001b[43m \u001b[49m\u001b[43mnb\u001b[49m\u001b[38;5;241;43m=\u001b[39;49m\u001b[43mnb\u001b[49m\u001b[43m)\u001b[49m\u001b[38;5;241;43m.\u001b[39;49m\u001b[43mprocess\u001b[49m\u001b[43m(\u001b[49m\u001b[43m)\u001b[49m\n",
      "File \u001b[0;32m~/miniconda3/envs/tsforecast/lib/python3.10/site-packages/nbdev/process.py:127\u001b[0m, in \u001b[0;36mNBProcessor.process\u001b[0;34m(self)\u001b[0m\n\u001b[1;32m    125\u001b[0m \u001b[38;5;28;01mdef\u001b[39;00m \u001b[38;5;21mprocess\u001b[39m(\u001b[38;5;28mself\u001b[39m):\n\u001b[1;32m    126\u001b[0m     \u001b[38;5;124m\"\u001b[39m\u001b[38;5;124mProcess all cells with all processors\u001b[39m\u001b[38;5;124m\"\u001b[39m\n\u001b[0;32m--> 127\u001b[0m     \u001b[38;5;28;01mfor\u001b[39;00m proc \u001b[38;5;129;01min\u001b[39;00m \u001b[38;5;28mself\u001b[39m\u001b[38;5;241m.\u001b[39mprocs: \u001b[38;5;28;43mself\u001b[39;49m\u001b[38;5;241;43m.\u001b[39;49m\u001b[43m_proc\u001b[49m\u001b[43m(\u001b[49m\u001b[43mproc\u001b[49m\u001b[43m)\u001b[49m\n",
      "File \u001b[0;32m~/miniconda3/envs/tsforecast/lib/python3.10/site-packages/nbdev/process.py:120\u001b[0m, in \u001b[0;36mNBProcessor._proc\u001b[0;34m(self, proc)\u001b[0m\n\u001b[1;32m    118\u001b[0m \u001b[38;5;28;01mdef\u001b[39;00m \u001b[38;5;21m_proc\u001b[39m(\u001b[38;5;28mself\u001b[39m, proc):\n\u001b[1;32m    119\u001b[0m     \u001b[38;5;28;01mif\u001b[39;00m \u001b[38;5;28mhasattr\u001b[39m(proc,\u001b[38;5;124m'\u001b[39m\u001b[38;5;124mbegin\u001b[39m\u001b[38;5;124m'\u001b[39m): proc\u001b[38;5;241m.\u001b[39mbegin()\n\u001b[0;32m--> 120\u001b[0m     \u001b[38;5;28;01mfor\u001b[39;00m cell \u001b[38;5;129;01min\u001b[39;00m \u001b[38;5;28mself\u001b[39m\u001b[38;5;241m.\u001b[39mnb\u001b[38;5;241m.\u001b[39mcells: \u001b[38;5;28;43mself\u001b[39;49m\u001b[38;5;241;43m.\u001b[39;49m\u001b[43m_process_cell\u001b[49m\u001b[43m(\u001b[49m\u001b[43mproc\u001b[49m\u001b[43m,\u001b[49m\u001b[43m \u001b[49m\u001b[43mcell\u001b[49m\u001b[43m)\u001b[49m\n\u001b[1;32m    121\u001b[0m     \u001b[38;5;28;01mif\u001b[39;00m \u001b[38;5;28mhasattr\u001b[39m(proc,\u001b[38;5;124m'\u001b[39m\u001b[38;5;124mend\u001b[39m\u001b[38;5;124m'\u001b[39m): proc\u001b[38;5;241m.\u001b[39mend()\n\u001b[1;32m    122\u001b[0m     \u001b[38;5;28mself\u001b[39m\u001b[38;5;241m.\u001b[39mnb\u001b[38;5;241m.\u001b[39mcells \u001b[38;5;241m=\u001b[39m [c \u001b[38;5;28;01mfor\u001b[39;00m c \u001b[38;5;129;01min\u001b[39;00m \u001b[38;5;28mself\u001b[39m\u001b[38;5;241m.\u001b[39mnb\u001b[38;5;241m.\u001b[39mcells \u001b[38;5;28;01mif\u001b[39;00m c \u001b[38;5;129;01mand\u001b[39;00m \u001b[38;5;28mgetattr\u001b[39m(c,\u001b[38;5;124m'\u001b[39m\u001b[38;5;124msource\u001b[39m\u001b[38;5;124m'\u001b[39m,\u001b[38;5;28;01mNone\u001b[39;00m) \u001b[38;5;129;01mis\u001b[39;00m \u001b[38;5;129;01mnot\u001b[39;00m \u001b[38;5;28;01mNone\u001b[39;00m]\n",
      "File \u001b[0;32m~/miniconda3/envs/tsforecast/lib/python3.10/site-packages/nbdev/process.py:111\u001b[0m, in \u001b[0;36mNBProcessor._process_cell\u001b[0;34m(self, proc, cell)\u001b[0m\n\u001b[1;32m    109\u001b[0m         f \u001b[38;5;241m=\u001b[39m \u001b[38;5;28mgetattr\u001b[39m(proc, \u001b[38;5;124mf\u001b[39m\u001b[38;5;124m'\u001b[39m\u001b[38;5;124m_\u001b[39m\u001b[38;5;132;01m{\u001b[39;00mcmd\u001b[38;5;132;01m}\u001b[39;00m\u001b[38;5;124m_\u001b[39m\u001b[38;5;124m'\u001b[39m, \u001b[38;5;28;01mNone\u001b[39;00m)\n\u001b[1;32m    110\u001b[0m         \u001b[38;5;28;01mif\u001b[39;00m f: \u001b[38;5;28mself\u001b[39m\u001b[38;5;241m.\u001b[39m_process_comment(f, cell, cmd)\n\u001b[0;32m--> 111\u001b[0m \u001b[38;5;28;01mif\u001b[39;00m callable(proc) \u001b[38;5;129;01mand\u001b[39;00m \u001b[38;5;129;01mnot\u001b[39;00m _is_direc(proc): cell \u001b[38;5;241m=\u001b[39m opt_set(cell, \u001b[43mproc\u001b[49m\u001b[43m(\u001b[49m\u001b[43mcell\u001b[49m\u001b[43m)\u001b[49m)\n",
      "File \u001b[0;32m~/miniconda3/envs/tsforecast/lib/python3.10/site-packages/nbdev/process.py:134\u001b[0m, in \u001b[0;36mProcessor.__call__\u001b[0;34m(self, cell)\u001b[0m\n\u001b[0;32m--> 134\u001b[0m \u001b[38;5;28;01mdef\u001b[39;00m \u001b[38;5;21m__call__\u001b[39m(\u001b[38;5;28mself\u001b[39m, cell): \u001b[38;5;28;01mreturn\u001b[39;00m \u001b[38;5;28;43mself\u001b[39;49m\u001b[38;5;241;43m.\u001b[39;49m\u001b[43mcell\u001b[49m\u001b[43m(\u001b[49m\u001b[43mcell\u001b[49m\u001b[43m)\u001b[49m\n",
      "Cell \u001b[0;32mIn[83], line 78\u001b[0m, in \u001b[0;36mNbMagicExporter.cell\u001b[0;34m(self, cell)\u001b[0m\n\u001b[1;32m     72\u001b[0m code_cells \u001b[38;5;241m=\u001b[39m (\n\u001b[1;32m     73\u001b[0m     \u001b[38;5;28mself\u001b[39m\u001b[38;5;241m.\u001b[39mnb_magic_processor\u001b[38;5;241m.\u001b[39mcell_processor\u001b[38;5;241m.\u001b[39mtest_code_cells\n\u001b[1;32m     74\u001b[0m     \u001b[38;5;28;01mif\u001b[39;00m is_test\n\u001b[1;32m     75\u001b[0m     \u001b[38;5;28;01melse\u001b[39;00m \u001b[38;5;28mself\u001b[39m\u001b[38;5;241m.\u001b[39mnb_magic_processor\u001b[38;5;241m.\u001b[39mcell_processor\u001b[38;5;241m.\u001b[39mcode_cells\n\u001b[1;32m     76\u001b[0m )\n\u001b[1;32m     77\u001b[0m \u001b[38;5;28;01mif\u001b[39;00m function_name \u001b[38;5;129;01mnot\u001b[39;00m \u001b[38;5;129;01min\u001b[39;00m code_cells:\n\u001b[0;32m---> 78\u001b[0m     \u001b[38;5;28;01mraise\u001b[39;00m \u001b[38;5;167;01mRuntimeError\u001b[39;00m(\n\u001b[1;32m     79\u001b[0m         \u001b[38;5;124mf\u001b[39m\u001b[38;5;124m\"\u001b[39m\u001b[38;5;124mFunction \u001b[39m\u001b[38;5;132;01m{\u001b[39;00mfunction_name\u001b[38;5;132;01m}\u001b[39;00m\u001b[38;5;124m not found in code_cells dictionary with keys \u001b[39m\u001b[38;5;132;01m{\u001b[39;00mcode_cells\u001b[38;5;241m.\u001b[39mkeys()\u001b[38;5;132;01m}\u001b[39;00m\u001b[38;5;124m\"\u001b[39m\n\u001b[1;32m     80\u001b[0m     )\n\u001b[1;32m     81\u001b[0m code_cells \u001b[38;5;241m=\u001b[39m code_cells[function_name]\n\u001b[1;32m     82\u001b[0m \u001b[38;5;28;01mif\u001b[39;00m \u001b[38;5;28mlen\u001b[39m(code_cells) \u001b[38;5;241m<\u001b[39m\u001b[38;5;241m=\u001b[39m idx:\n",
      "\u001b[0;31mRuntimeError\u001b[0m: Function %%function not found in code_cells dictionary with keys dict_keys(['hello'])"
     ]
    }
   ],
   "source": [
    "parse_argv_and_run_nbm_export_all_paths ([\"--path\", os.getcwd()])"
   ]
  },
  {
   "cell_type": "code",
   "execution_count": null,
   "metadata": {},
   "outputs": [],
   "source": [
    "# clean\n",
    "shutil.rmtree (new_root, ignore_errors=True)"
   ]
  },
  {
   "cell_type": "markdown",
   "metadata": {},
   "source": [
    "::: {.content-hidden}\n",
    "## process_cell_for_nbm_update\n",
    ":::"
   ]
  },
  {
   "cell_type": "code",
   "execution_count": null,
   "metadata": {},
   "outputs": [],
   "source": [
    "#|export\n",
    "def process_cell_for_nbm_update(cell: NbCell):\n",
    "    source_lines = cell.source.splitlines() if cell.cell_type == \"code\" else []\n",
    "    found_directive = False\n",
    "    found_magic = False\n",
    "    for line_number, line in enumerate(source_lines):\n",
    "        line = line.strip()\n",
    "        if len(line) > 0:\n",
    "            if found_directive:\n",
    "                if line.startswith(\"#@@\") or line.startswith(\"# @@\"):\n",
    "                    line = line[3:] if line.startswith(\"#@@\") else line[4:]\n",
    "                    words = line.split()\n",
    "                    if len(words) > 0 and words[0] not in [\n",
    "                        \"function\",\n",
    "                        \"method\",\n",
    "                        \"include\",\n",
    "                        \"class\",\n",
    "                    ]:\n",
    "                        warnings.warn(\n",
    "                            f\"Found #@@ with a word after that, and this word is not in ['function', 'method', 'include', 'class']\"\n",
    "                        )\n",
    "                    line = f\"{'%%'}{line}\"\n",
    "                    found_magic = True\n",
    "                    break\n",
    "            elif line.startswith(\"#|\"):\n",
    "                found_directive = True\n",
    "            else:\n",
    "                if found_directive:\n",
    "                    raise ValueError(\n",
    "                        \"Line with #@@, corresponding to magic line in notebook, not found after having found line with directive #|\"\n",
    "                    )\n",
    "                else:\n",
    "                    raise ValueError(\"Directive line not found at beginning of cell\")\n",
    "    if not found_magic:\n",
    "        raise ValueError(\"Magic line not found at beginning of cell\")\n",
    "    cell.source = \"\\n\".join([line] + source_lines[line_number + 1 :])\n"
   ]
  },
  {
   "cell_type": "markdown",
   "metadata": {},
   "source": [
    "## nbm_update"
   ]
  },
  {
   "cell_type": "code",
   "execution_count": null,
   "metadata": {},
   "outputs": [],
   "source": [
    "#| export\n",
    "def nbm_update(\n",
    "    path,\n",
    "    code_cells_path=\".nbmodular\",\n",
    "    logger=None,\n",
    "    log_level=\"INFO\",\n",
    "):\n",
    "    nb_processor = Bunch()\n",
    "    nb_processor.code_cells_path = Path(code_cells_path)\n",
    "\n",
    "    nb_processor.logger = logging.getLogger(\"nb_importer\") if logger is None else logger\n",
    "    set_log_level(nb_processor.logger, log_level)\n",
    "    set_paths_nb_processor(nb_processor, path)\n",
    "\n",
    "    # prior to step 5 in diagram:\n",
    "    # nbs/nb.ipynb => nbs/_nb.ipynb\n",
    "    nb_processor.dest_nb_path.rename(nb_processor.duplicate_dest_nb_path)\n",
    "\n",
    "    # step 5 in diagram:\n",
    "    # .nbs/nb.ipynb => nbs/nb.ipynb\n",
    "    nb_processor.tmp_dest_nb_path.rename(nb_processor.dest_nb_path)\n",
    "    # .nbs/test_nb.ipynb => nbs/test_nb.ipynb\n",
    "    nb_processor.tmp_test_dest_nb_path.rename(nb_processor.test_dest_nb_path)\n",
    "\n",
    "    # step 5 in diagram: nbdev_update\n",
    "    _update_mod(nb_processor.dest_python_path, lib_dir=nb_processor.lib_path.parent)\n",
    "    _update_mod(\n",
    "        nb_processor.test_dest_python_path, lib_dir=nb_processor.lib_path.parent\n",
    "    )\n",
    "\n",
    "    # obtain cell types and read them from notebooks\n",
    "    nb_processor.cell_types = joblib.load(\n",
    "        nb_processor.code_cells_path / \"cell_types.pk\"\n",
    "    )\n",
    "    original_nb = read_nb(path)\n",
    "    dest_nb = read_nb(nb_processor.dest_nb_path)\n",
    "    test_dest_nb = read_nb(nb_processor.test_dest_nb_path)\n",
    "    nb_processor.cells = []\n",
    "    code_idx, test_idx = 1, 1\n",
    "    for original_idx, cell_type in enumerate(nb_processor.cell_types):\n",
    "        cell = None\n",
    "        if cell_type == \"original\":\n",
    "            cell = original_nb.cells[original_idx]\n",
    "        elif cell_type == \"code\":\n",
    "            cell = dest_nb.cells[code_idx]\n",
    "            code_idx += 1\n",
    "        elif cell_type == \"test\":\n",
    "            cell = test_dest_nb.cells[test_idx]\n",
    "            test_idx += 1\n",
    "        if cell is not None:\n",
    "            if cell_type in [\"code\", \"test\"]:\n",
    "                process_cell_for_nbm_update(cell)\n",
    "            nb_processor.cells.append(cell)\n",
    "\n",
    "    original_nb.cells = nb_processor.cells\n",
    "    write_nb(original_nb, path)"
   ]
  },
  {
   "cell_type": "markdown",
   "metadata": {},
   "source": [
    "### Example usage"
   ]
  },
  {
   "cell_type": "code",
   "execution_count": null,
   "metadata": {},
   "outputs": [],
   "source": [
    "os.makedirs (\"nbmodular/test_nbs\", exist_ok=True)\n",
    "os.makedirs (\"nbmodular/tests/test_nbs\", exist_ok=True)\n",
    "shutil.copy (\"test_data/nb.py\", \"nbmodular/test_nbs/nb.py\")\n",
    "shutil.copy (\"test_data/test_nb.py\", \"nbmodular/tests/test_nbs/test_nb.py\")\n",
    "shutil.copy (\"nbm/test_nbs/nb.ipynb\", \"nbm/test_nbs/_nb.ipynb\")\n",
    "nbm_update (path)"
   ]
  },
  {
   "cell_type": "code",
   "execution_count": null,
   "metadata": {},
   "outputs": [],
   "source": [
    "[c[\"source\"] for c in read_nb(path).cells]\n",
    "assert [c[\"source\"] for c in read_nb(path).cells] == [\n",
    "    \"%%function\\ndef first():\\n    x = 3 + 1\",\n",
    "    \"comment\",\n",
    "    '%%function --test\\ndef second():\\n    print(\"hello\")',\n",
    "]"
   ]
  },
  {
   "cell_type": "code",
   "execution_count": null,
   "metadata": {},
   "outputs": [
    {
     "data": {
      "text/plain": [
       "'nbm/test_nbs/nb.ipynb'"
      ]
     },
     "execution_count": null,
     "metadata": {},
     "output_type": "execute_result"
    }
   ],
   "source": [
    "shutil.move (\"nbm/test_nbs/_nb.ipynb\", \"nbm/test_nbs/nb.ipynb\")"
   ]
  },
  {
   "cell_type": "markdown",
   "metadata": {},
   "source": [
    "## nbm_update_cli"
   ]
  },
  {
   "cell_type": "code",
   "execution_count": null,
   "metadata": {},
   "outputs": [],
   "source": [
    "#| export    \n",
    "def nbm_update_all_paths (args):\n",
    "    files = nbglob(path=args.path, as_path=True).sorted(\"name\")\n",
    "    cfg = get_config()\n",
    "    path = Path(args.path or cfg.lib_path)\n",
    "    lib_dir = cfg.lib_path.parent\n",
    "    files = globtastic(path, file_glob=\"*.py\", skip_folder_re=\"^[_.]\").filter(\n",
    "        lambda x: str(Path(x).absolute().relative_to(lib_dir) in _mod_files())\n",
    "    )\n",
    "    files.map(nbm_update, lib_dir=lib_dir)\n",
    "\n",
    "def parse_argv_and_run_nbm_update_all_paths (argv: List[str]):\n",
    "    parser = argparse.ArgumentParser(\n",
    "        description=\"Udpdate python modules from their corresponding notebooks.\"\n",
    "    )\n",
    "\n",
    "    parser.add_argument(\"path\", type=str, default=None, help=\"Path to python module\")\n",
    "    args = parser.parse_args(argv)\n",
    "    nbm_update_all_paths (args.path)\n",
    "\n",
    "def nbm_update_cli ():\n",
    "    parse_argv_and_run_nbm_update_all_paths (sys.argv)"
   ]
  },
  {
   "cell_type": "markdown",
   "metadata": {},
   "source": [
    "### Example usage"
   ]
  }
 ],
 "metadata": {
  "kernelspec": {
   "display_name": "tsforecast",
   "language": "python",
   "name": "python3"
  },
  "language_info": {
   "codemirror_mode": {
    "name": "ipython",
    "version": 3
   },
   "file_extension": ".py",
   "mimetype": "text/x-python",
   "name": "python",
   "nbconvert_exporter": "python",
   "pygments_lexer": "ipython3",
   "version": "3.10.9"
  }
 },
 "nbformat": 4,
 "nbformat_minor": 4
}
