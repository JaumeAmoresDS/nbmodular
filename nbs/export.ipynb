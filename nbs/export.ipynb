{
 "cells": [
  {
   "cell_type": "markdown",
   "metadata": {},
   "source": [
    "# Export\n",
    "\n",
    "> Exporting to python module"
   ]
  },
  {
   "cell_type": "code",
   "execution_count": 1,
   "metadata": {},
   "outputs": [],
   "source": [
    "#| default_exp sync.export"
   ]
  },
  {
   "cell_type": "code",
   "execution_count": 2,
   "metadata": {},
   "outputs": [],
   "source": [
    "#|export\n",
    "import shlex\n",
    "import os\n",
    "import ast\n",
    "import joblib\n",
    "from pathlib import Path\n",
    "\n",
    "from nbdev.processors import Processor, NBProcessor\n",
    "from execnb.shell import CaptureShell\n",
    "from execnb.nbio import new_nb, mk_cell, write_nb"
   ]
  },
  {
   "cell_type": "markdown",
   "metadata": {},
   "source": [
    "## TODO\n",
    "\n",
    "- read test and non-test pk files and print code to screen when valid=True\n",
    "- in magic line, replace %% with #@@, and add #| export as first line"
   ]
  },
  {
   "cell_type": "markdown",
   "metadata": {},
   "source": [
    "::: {.content-hidden}\n",
    "## obtain_function_name_and_test_flag\n",
    "::: "
   ]
  },
  {
   "cell_type": "code",
   "execution_count": 3,
   "metadata": {},
   "outputs": [],
   "source": [
    "#|export\n",
    "def obtain_function_name_and_test_flag (line, cell):\n",
    "\n",
    "    root = ast.parse (cell)\n",
    "    name=[x.name for x in ast.walk(root) if isinstance (x, ast.FunctionDef)]\n",
    "    argv = shlex.split(line, posix=(os.name == 'posix'))\n",
    "    is_test = '--test' in argv\n",
    "    \n",
    "    if len(name)>0:\n",
    "        function_name=name[0]\n",
    "    else:        \n",
    "        function_name=argv[0] if len(argv)>0 else ''\n",
    "        if function_name.startswith('-'):\n",
    "            function_name = ''\n",
    "\n",
    "    if function_name=='':\n",
    "        raise RuntimeError (\"Couldn't find function name.\")\n",
    "    \n",
    "    return function_name, is_test"
   ]
  },
  {
   "cell_type": "markdown",
   "metadata": {},
   "source": [
    "::: {.content-hidden}\n",
    "## FunctionNBProcessor\n",
    ":::"
   ]
  },
  {
   "cell_type": "code",
   "execution_count": 4,
   "metadata": {},
   "outputs": [],
   "source": [
    "#|export\n",
    "class FunctionNBProcessor(Processor):\n",
    "    def __init__ (\n",
    "        self, \n",
    "        file_name_without_extension,\n",
    "        code_cells_file_name=None,\n",
    "        code_cells_path='.nbmodular',\n",
    "        execute=True,\n",
    "        nb_path=None,\n",
    "        nbs_folder='nbs',\n",
    "    ):\n",
    "        self.code_cells_path=Path(code_cells_path)\n",
    "        code_cells_file_name = file_name_without_extension if code_cells_file_name is None else code_cells_file_name\n",
    "        path_to_code_cells_file = self.code_cells_path / f'{code_cells_file_name}.pk'\n",
    "        test_path_to_code_cells_file = self.code_cells_path / f'test_{code_cells_file_name}.pk'\n",
    "        if not path_to_code_cells_file.exists() and not test_path_to_code_cells_file.exists():\n",
    "            nb_path = Path(nbs_folder) / f'{file_name_without_extension}.ipynb' if nb_path is None else nb_path\n",
    "            if nb_path.exists() and execute:\n",
    "                caputure_shell = CaptureShell ()\n",
    "                caputure_shell.execute(nb_path, 'tmp.ipynb')\n",
    "            elif not execute:\n",
    "                raise RuntimeError ('Exported pickle files not found and execute is False')\n",
    "            else:\n",
    "                raise RuntimeError (f'Exported pickle files not found and notebook with path {nb_path} not found')\n",
    "        \n",
    "        self.code_cells = joblib.load (path_to_code_cells_file) if path_to_code_cells_file.exists() else {}\n",
    "        self.test_code_cells = joblib.load (test_path_to_code_cells_file) if path_to_code_cells_file.exists() else {}\n",
    "\n",
    "        self.function_names = {}\n",
    "        self.test_function_names = {}\n",
    "        self.cells = []\n",
    "        self.dest_nb_path = Path(nbs_folder) / f'dest_{file_name_without_extension}.ipynb'\n",
    "    \n",
    "    def cell(self, cell):\n",
    "        cell_lines = cell.source.splitlines()\n",
    "        if len(cell_lines) > 0 and cell_lines[0].strip().startswith('%%'):\n",
    "            line = cell_lines[0]\n",
    "            cell = '\\n'.join (cell_lines[1:])\n",
    "            to_export = False\n",
    "            if line.startswith('%%function') or line.startswith('%%method'):\n",
    "                function_name, is_test = obtain_function_name_and_test_flag (line, cell)\n",
    "                function_names = self.test_function_names if is_test else self.function_names\n",
    "                if function_name in function_names:\n",
    "                    function_names[function_name] += 1\n",
    "                else:\n",
    "                    function_names[function_name] = 0\n",
    "                idx = function_names[function_name]\n",
    "                print (f'{function_name}, {idx}, is test: {is_test}')\n",
    "                code_cells = self.test_code_cells if is_test else self.code_cells\n",
    "                code_cell = code_cells[function_name]\n",
    "                print ('code:')\n",
    "                print (code_cell.code, 'valid: ', code_cell.valid)\n",
    "                if code_cell.valid:\n",
    "                    cell = code_cell.code\n",
    "                    to_export = True\n",
    "            elif line.startswith ('%%include') or line.startswith ('%%class'):\n",
    "                to_export = True\n",
    "            line = line.replace ('%%', '#@@')\n",
    "            cell = line + '\\n' + cell\n",
    "            if to_export:\n",
    "                cell = '#|export\\n' + cell\n",
    "        self.cells.append (mk_cell (cell))\n",
    "    def end(self): \n",
    "        nb = new_nb (self.cells)\n",
    "        write_nb (nb, self.dest_nb_path)\n"
   ]
  },
  {
   "cell_type": "markdown",
   "metadata": {},
   "source": [
    "::: {.content-hidden}\n",
    "## process_notebook\n",
    ":::"
   ]
  },
  {
   "cell_type": "code",
   "execution_count": 5,
   "metadata": {},
   "outputs": [],
   "source": [
    "#|export\n",
    "def process_notebook (debug=False):\n",
    "    function_processor = FunctionNBProcessor (\n",
    "        'test_export',\n",
    "        nbs_folder='test_nbs',\n",
    "    )\n",
    "    NBProcessor ('./test_nbs/test_export.ipynb', function_processor).process()"
   ]
  },
  {
   "cell_type": "code",
   "execution_count": 6,
   "metadata": {},
   "outputs": [
    {
     "name": "stdout",
     "output_type": "stream",
     "text": [
      "add1, 0, is test: False\n"
     ]
    },
    {
     "ename": "KeyError",
     "evalue": "'add1'",
     "output_type": "error",
     "traceback": [
      "\u001b[0;31m---------------------------------------------------------------------------\u001b[0m",
      "\u001b[0;31mKeyError\u001b[0m                                  Traceback (most recent call last)",
      "File \u001b[0;32m/tmp/ipykernel_29484/3219041538.py:1\u001b[0m\n\u001b[0;32m----> 1\u001b[0m process_notebook ()\n",
      "File \u001b[0;32m/tmp/ipykernel_29484/1997962557.py:7\u001b[0m, in \u001b[0;36mprocess_notebook\u001b[0;34m(debug)\u001b[0m\n\u001b[1;32m      2\u001b[0m \u001b[39mdef\u001b[39;00m \u001b[39mprocess_notebook\u001b[39m (debug\u001b[39m=\u001b[39m\u001b[39mFalse\u001b[39;00m):\n\u001b[1;32m      3\u001b[0m     function_processor \u001b[39m=\u001b[39m FunctionNBProcessor (\n\u001b[1;32m      4\u001b[0m         \u001b[39m'\u001b[39m\u001b[39mtest_export\u001b[39m\u001b[39m'\u001b[39m,\n\u001b[1;32m      5\u001b[0m         nbs_folder\u001b[39m=\u001b[39m\u001b[39m'\u001b[39m\u001b[39mtest_nbs\u001b[39m\u001b[39m'\u001b[39m,\n\u001b[1;32m      6\u001b[0m     )\n\u001b[0;32m----> 7\u001b[0m     NBProcessor (\u001b[39m'\u001b[39;49m\u001b[39m./test_nbs/test_export.ipynb\u001b[39;49m\u001b[39m'\u001b[39;49m, function_processor)\u001b[39m.\u001b[39;49mprocess()\n",
      "File \u001b[0;32m~/workspace/others/nbdev/nbdev/process.py:127\u001b[0m, in \u001b[0;36mNBProcessor.process\u001b[0;34m(self)\u001b[0m\n\u001b[1;32m    125\u001b[0m \u001b[39mdef\u001b[39;00m \u001b[39mprocess\u001b[39m(\u001b[39mself\u001b[39m):\n\u001b[1;32m    126\u001b[0m     \u001b[39m\"\u001b[39m\u001b[39mProcess all cells with all processors\u001b[39m\u001b[39m\"\u001b[39m\n\u001b[0;32m--> 127\u001b[0m     \u001b[39mfor\u001b[39;00m proc \u001b[39min\u001b[39;00m \u001b[39mself\u001b[39m\u001b[39m.\u001b[39mprocs: \u001b[39mself\u001b[39;49m\u001b[39m.\u001b[39;49m_proc(proc)\n",
      "File \u001b[0;32m~/workspace/others/nbdev/nbdev/process.py:120\u001b[0m, in \u001b[0;36mNBProcessor._proc\u001b[0;34m(self, proc)\u001b[0m\n\u001b[1;32m    118\u001b[0m \u001b[39mdef\u001b[39;00m \u001b[39m_proc\u001b[39m(\u001b[39mself\u001b[39m, proc):\n\u001b[1;32m    119\u001b[0m     \u001b[39mif\u001b[39;00m \u001b[39mhasattr\u001b[39m(proc,\u001b[39m'\u001b[39m\u001b[39mbegin\u001b[39m\u001b[39m'\u001b[39m): proc\u001b[39m.\u001b[39mbegin()\n\u001b[0;32m--> 120\u001b[0m     \u001b[39mfor\u001b[39;00m cell \u001b[39min\u001b[39;00m \u001b[39mself\u001b[39m\u001b[39m.\u001b[39mnb\u001b[39m.\u001b[39mcells: \u001b[39mself\u001b[39;49m\u001b[39m.\u001b[39;49m_process_cell(proc, cell)\n\u001b[1;32m    121\u001b[0m     \u001b[39mif\u001b[39;00m \u001b[39mhasattr\u001b[39m(proc,\u001b[39m'\u001b[39m\u001b[39mend\u001b[39m\u001b[39m'\u001b[39m): proc\u001b[39m.\u001b[39mend()\n\u001b[1;32m    122\u001b[0m     \u001b[39mself\u001b[39m\u001b[39m.\u001b[39mnb\u001b[39m.\u001b[39mcells \u001b[39m=\u001b[39m [c \u001b[39mfor\u001b[39;00m c \u001b[39min\u001b[39;00m \u001b[39mself\u001b[39m\u001b[39m.\u001b[39mnb\u001b[39m.\u001b[39mcells \u001b[39mif\u001b[39;00m c \u001b[39mand\u001b[39;00m \u001b[39mgetattr\u001b[39m(c,\u001b[39m'\u001b[39m\u001b[39msource\u001b[39m\u001b[39m'\u001b[39m,\u001b[39mNone\u001b[39;00m) \u001b[39mis\u001b[39;00m \u001b[39mnot\u001b[39;00m \u001b[39mNone\u001b[39;00m]\n",
      "File \u001b[0;32m~/workspace/others/nbdev/nbdev/process.py:111\u001b[0m, in \u001b[0;36mNBProcessor._process_cell\u001b[0;34m(self, proc, cell)\u001b[0m\n\u001b[1;32m    109\u001b[0m         f \u001b[39m=\u001b[39m \u001b[39mgetattr\u001b[39m(proc, \u001b[39mf\u001b[39m\u001b[39m'\u001b[39m\u001b[39m_\u001b[39m\u001b[39m{\u001b[39;00mcmd\u001b[39m}\u001b[39;00m\u001b[39m_\u001b[39m\u001b[39m'\u001b[39m, \u001b[39mNone\u001b[39;00m)\n\u001b[1;32m    110\u001b[0m         \u001b[39mif\u001b[39;00m f: \u001b[39mself\u001b[39m\u001b[39m.\u001b[39m_process_comment(f, cell, cmd)\n\u001b[0;32m--> 111\u001b[0m \u001b[39mif\u001b[39;00m callable(proc) \u001b[39mand\u001b[39;00m \u001b[39mnot\u001b[39;00m _is_direc(proc): cell \u001b[39m=\u001b[39m opt_set(cell, proc(cell))\n",
      "File \u001b[0;32m~/workspace/others/nbdev/nbdev/process.py:134\u001b[0m, in \u001b[0;36mProcessor.__call__\u001b[0;34m(self, cell)\u001b[0m\n\u001b[0;32m--> 134\u001b[0m \u001b[39mdef\u001b[39;00m \u001b[39m__call__\u001b[39m(\u001b[39mself\u001b[39m, cell): \u001b[39mreturn\u001b[39;00m \u001b[39mself\u001b[39;49m\u001b[39m.\u001b[39;49mcell(cell)\n",
      "File \u001b[0;32m/tmp/ipykernel_29484/2890477124.py:50\u001b[0m, in \u001b[0;36mFunctionNBProcessor.cell\u001b[0;34m(self, cell)\u001b[0m\n\u001b[1;32m     48\u001b[0m \u001b[39mprint\u001b[39m (\u001b[39mf\u001b[39m\u001b[39m'\u001b[39m\u001b[39m{\u001b[39;00mfunction_name\u001b[39m}\u001b[39;00m\u001b[39m, \u001b[39m\u001b[39m{\u001b[39;00midx\u001b[39m}\u001b[39;00m\u001b[39m, is test: \u001b[39m\u001b[39m{\u001b[39;00mis_test\u001b[39m}\u001b[39;00m\u001b[39m'\u001b[39m)\n\u001b[1;32m     49\u001b[0m code_cells \u001b[39m=\u001b[39m \u001b[39mself\u001b[39m\u001b[39m.\u001b[39mtest_code_cells \u001b[39mif\u001b[39;00m is_test \u001b[39melse\u001b[39;00m \u001b[39mself\u001b[39m\u001b[39m.\u001b[39mcode_cells\n\u001b[0;32m---> 50\u001b[0m code_cell \u001b[39m=\u001b[39m code_cells[function_name]\n\u001b[1;32m     51\u001b[0m \u001b[39mprint\u001b[39m (\u001b[39m'\u001b[39m\u001b[39mcode:\u001b[39m\u001b[39m'\u001b[39m)\n\u001b[1;32m     52\u001b[0m \u001b[39mprint\u001b[39m (code_cell\u001b[39m.\u001b[39mcode, \u001b[39m'\u001b[39m\u001b[39mvalid: \u001b[39m\u001b[39m'\u001b[39m, code_cell\u001b[39m.\u001b[39mvalid)\n",
      "\u001b[0;31mKeyError\u001b[0m: 'add1'"
     ]
    }
   ],
   "source": [
    "process_notebook ()"
   ]
  },
  {
   "cell_type": "code",
   "execution_count": null,
   "metadata": {},
   "outputs": [],
   "source": []
  }
 ],
 "metadata": {
  "kernelspec": {
   "display_name": "tsforecast",
   "language": "python",
   "name": "python3"
  },
  "language_info": {
   "codemirror_mode": {
    "name": "ipython",
    "version": 3
   },
   "file_extension": ".py",
   "mimetype": "text/x-python",
   "name": "python",
   "nbconvert_exporter": "python",
   "pygments_lexer": "ipython3",
   "version": "3.10.9"
  }
 },
 "nbformat": 4,
 "nbformat_minor": 2
}
