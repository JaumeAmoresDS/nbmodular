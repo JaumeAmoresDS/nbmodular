{
 "cells": [
  {
   "cell_type": "code",
   "execution_count": 6,
   "id": "2563371c-48f0-4488-a359-b713609593e0",
   "metadata": {},
   "outputs": [],
   "source": [
    "%%function\n",
    "def first():\n",
    "    pass"
   ]
  },
  {
   "cell_type": "markdown",
   "id": "ddc4ad96-0e0a-4a46-9f81-81f283ba3baf",
   "metadata": {},
   "source": [
    "comment"
   ]
  },
  {
   "cell_type": "code",
   "execution_count": 7,
   "id": "44ef570d-c23b-4809-aef5-ffdb5fb79e75",
   "metadata": {},
   "outputs": [],
   "source": [
    "%%function --test\n",
    "def second ():\n",
    "    pass"
   ]
  }
 ],
 "metadata": {
  "kernelspec": {
   "display_name": "tsforecast",
   "language": "python",
   "name": "python3"
  },
  "language_info": {
   "codemirror_mode": {
    "name": "ipython",
    "version": 3
   },
   "file_extension": ".py",
   "mimetype": "text/x-python",
   "name": "python",
   "nbconvert_exporter": "python",
   "pygments_lexer": "ipython3",
   "version": "3.10.9"
  }
 },
 "nbformat": 4,
 "nbformat_minor": 5
}
