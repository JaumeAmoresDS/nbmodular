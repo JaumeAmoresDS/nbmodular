{
 "cells": [
  {
   "cell_type": "code",
   "execution_count": 5,
   "id": "ab5dc8aa",
   "metadata": {},
   "outputs": [],
   "source": [
    "from nbmodular.core.utils import cd_root"
   ]
  },
  {
   "cell_type": "code",
   "execution_count": 7,
   "id": "b20d57a4",
   "metadata": {},
   "outputs": [],
   "source": [
    "cd_root()"
   ]
  },
  {
   "cell_type": "code",
   "execution_count": 1,
   "id": "ebe25175-cb63-4c0e-9eb8-e9bbb05e18a6",
   "metadata": {},
   "outputs": [
    {
     "name": "stderr",
     "output_type": "stream",
     "text": [
      "/home/jaumeamllo/workspace/mine/nbmodular/nbmodular/core/cell2func.py:856: UserWarning: Name of notebook could not be automatically detected. We will be using `temporary.py` as the name of the python module where the code from the current notebook will be exported to. In order to change this name, run the magic command %set file_name \"<name_of_python_module>.py\".\n",
      "  warnings.warn (warning_message)\n"
     ]
    }
   ],
   "source": [
    "%load_ext nbmodular.core.cell2func"
   ]
  },
  {
   "cell_type": "code",
   "execution_count": 2,
   "id": "81cab6a4",
   "metadata": {},
   "outputs": [],
   "source": [
    "c = %cell_processor"
   ]
  },
  {
   "cell_type": "code",
   "execution_count": 3,
   "id": "ec942dbe",
   "metadata": {},
   "outputs": [
    {
     "data": {
      "text/plain": [
       "(Path('/home/jaumeamllo/workspace/mine/nbmodular/nbs/test_nbs/temporary.py'),\n",
       " Path('.nbmodular/temporary.pk'))"
      ]
     },
     "execution_count": 3,
     "metadata": {},
     "output_type": "execute_result"
    }
   ],
   "source": [
    "c.file_path, c.path_to_code_cells_file"
   ]
  },
  {
   "cell_type": "code",
   "execution_count": 4,
   "id": "2563371c-48f0-4488-a359-b713609593e0",
   "metadata": {},
   "outputs": [],
   "source": [
    "%%function\n",
    "def first():\n",
    "    pass"
   ]
  },
  {
   "cell_type": "markdown",
   "id": "ddc4ad96-0e0a-4a46-9f81-81f283ba3baf",
   "metadata": {},
   "source": [
    "comment"
   ]
  },
  {
   "cell_type": "code",
   "execution_count": null,
   "id": "44ef570d-c23b-4809-aef5-ffdb5fb79e75",
   "metadata": {},
   "outputs": [],
   "source": [
    "%%function --test\n",
    "def second ():\n",
    "    pass"
   ]
  },
  {
   "cell_type": "code",
   "execution_count": null,
   "id": "a33b278b-cdae-48ad-a586-376037720cd3",
   "metadata": {},
   "outputs": [],
   "source": [
    "fi = %function_info first"
   ]
  },
  {
   "cell_type": "code",
   "execution_count": null,
   "id": "34fbf8c5-4b24-4d82-9561-f1df27a4fd00",
   "metadata": {},
   "outputs": [
    {
     "data": {
      "text/plain": [
       "'first'"
      ]
     },
     "execution_count": null,
     "metadata": {},
     "output_type": "execute_result"
    }
   ],
   "source": [
    "fi.name"
   ]
  },
  {
   "cell_type": "code",
   "execution_count": null,
   "id": "63d319e9-ffc7-47fe-a2f4-93ea4fbe7bf6",
   "metadata": {},
   "outputs": [],
   "source": []
  }
 ],
 "metadata": {
  "kernelspec": {
   "display_name": "tsforecast",
   "language": "python",
   "name": "python3"
  },
  "language_info": {
   "codemirror_mode": {
    "name": "ipython",
    "version": 3
   },
   "file_extension": ".py",
   "mimetype": "text/x-python",
   "name": "python",
   "nbconvert_exporter": "python",
   "pygments_lexer": "ipython3",
   "version": "3.10.9"
  }
 },
 "nbformat": 4,
 "nbformat_minor": 5
}
